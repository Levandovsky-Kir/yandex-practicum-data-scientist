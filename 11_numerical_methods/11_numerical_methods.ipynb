{
 "cells": [
  {
   "cell_type": "markdown",
   "metadata": {},
   "source": [
    "# Определение рыночной стоимости автомобиля"
   ]
  },
  {
   "cell_type": "markdown",
   "metadata": {},
   "source": [
    "## Описание проекта\n",
    "**Цель проекта**\n",
    "\n",
    "Разработать модель машинного обучения, которая по техническим характеристикам и описанию автомобиля будет определять его рыночную стоимость.  \n",
    "Критерии, важные для заказчика:\n",
    "- качество предсказания (метрика RMSE < 2500);\n",
    "- время обучения модели;\n",
    "- время предсказания модели.\n",
    "\n",
    "**Данные и признаки**\n",
    "Источник данных: файл `/datasets/autos.csv`.  \n",
    "\n",
    "**Признаки:**\n",
    "- `DateCrawled` — дата скачивания анкеты;  \n",
    "- `VehicleType` — тип кузова;  \n",
    "- `RegistrationYear` — год регистрации;  \n",
    "- `Gearbox` — тип коробки передач;  \n",
    "- `Power` — мощность (л.с.);  \n",
    "- `Model` — модель автомобиля;  \n",
    "- `Kilometer` — пробег (км);  \n",
    "- `RegistrationMonth` — месяц регистрации;  \n",
    "- `FuelType` — тип топлива;  \n",
    "- `Brand` — марка автомобиля;  \n",
    "- `Repaired` — была машина в ремонте или нет;  \n",
    "- `DateCreated` — дата создания анкеты;  \n",
    "- `NumberOfPictures` — количество фотографий;  \n",
    "- `PostalCode` — почтовый индекс;  \n",
    "- `LastSeen` — дата последней активности пользователя.  \n",
    "\n",
    "**Целевой признак:**  \n",
    "- `Price` — цена автомобиля (евро).\n",
    "\n",
    "**Основные этапы работы**\n",
    "1. **Загрузка и первичное изучение данных**  \n",
    "   - Проверка типов данных, пропусков, дубликатов и аномалий.  \n",
    "\n",
    "2. **Предобработка**  \n",
    "   - Заполнение пропусков, корректировка аномальных значений.  \n",
    "   - Удаление неинформативных признаков (например, `NumberOfPictures`).  \n",
    "   - Кодирование категориальных признаков, масштабирование числовых.  \n",
    "\n",
    "3. **Разделение данных**  \n",
    "   - Формирование обучающей, валидационной и тестовой выборок.  \n",
    "\n",
    "4. **Моделирование**  \n",
    "   - Обучение разных моделей:  \n",
    "     - базовые (линейная регрессия, дерево решений и др.);  \n",
    "     - бустинг (LightGBM).  \n",
    "   - Подбор гиперпараметров (GridSearchCV/RandomizedSearchCV).  \n",
    "   - Оценка моделей по RMSE, времени обучения и времени предсказания.  \n",
    "\n",
    "5. **Анализ и выбор лучшей модели**  \n",
    "   - Сравнение всех моделей по заданным критериям.  \n",
    "   - Выбор оптимальной модели для тестирования.  \n",
    "\n",
    "6. **Проверка на тестовой выборке**  \n",
    "   - Подтверждение достижения целевых показателей.  \n",
    "\n",
    "**Ожидаемый результат**\n",
    "- Получить модель с RMSE < 2500.  \n",
    "- Определить оптимальный баланс между качеством, скоростью обучения и скоростью предсказания.  \n",
    "- Подготовить аккуратный, структурированный ноутбук с исследованием, результатами и выводами."
   ]
  },
  {
   "cell_type": "markdown",
   "metadata": {},
   "source": [
    "## Библиотеки"
   ]
  },
  {
   "cell_type": "code",
   "execution_count": 1,
   "metadata": {},
   "outputs": [],
   "source": [
    "# --- Системные и внешние библиотеки ---\n",
    "import numpy as np\n",
    "import pandas as pd\n",
    "import time\n",
    "\n",
    "# --- Визуализация ---\n",
    "import matplotlib.pyplot as plt\n",
    "import seaborn as sns\n",
    "\n",
    "# --- Data Science и ML ---\n",
    "from sklearn.model_selection import train_test_split, GridSearchCV, RandomizedSearchCV, cross_val_score\n",
    "from sklearn.linear_model import LinearRegression, Ridge\n",
    "from sklearn.tree import DecisionTreeRegressor\n",
    "from sklearn.ensemble import RandomForestRegressor\n",
    "from sklearn.metrics import mean_squared_error, r2_score, make_scorer\n",
    "\n",
    "# --- Градиентный бустинг ---\n",
    "from lightgbm import LGBMRegressor\n",
    "\n",
    "# --- Предобработка данных ---\n",
    "from sklearn.preprocessing import OneHotEncoder, StandardScaler\n",
    "from sklearn.compose import ColumnTransformer\n",
    "from sklearn.pipeline import Pipeline\n",
    "from sklearn.impute import SimpleImputer"
   ]
  },
  {
   "cell_type": "markdown",
   "metadata": {},
   "source": [
    "## Датасет `autos.csv`"
   ]
  },
  {
   "cell_type": "markdown",
   "metadata": {},
   "source": [
    "На данном шаге производится импорт датасета **`autos.csv`**, содержащего сведения об автомобилях: технические характеристики, марку, модель, пробег, год регистрации и цену.  \n",
    "Основная задача — ознакомиться со структурой таблицы, размерами выборки и типами признаков для последующей корректной предобработки. "
   ]
  },
  {
   "cell_type": "code",
   "execution_count": 2,
   "metadata": {
    "scrolled": false
   },
   "outputs": [
    {
     "name": "stdout",
     "output_type": "stream",
     "text": [
      "<class 'pandas.core.frame.DataFrame'>\n",
      "RangeIndex: 354369 entries, 0 to 354368\n",
      "Data columns (total 16 columns):\n",
      " #   Column             Non-Null Count   Dtype \n",
      "---  ------             --------------   ----- \n",
      " 0   DateCrawled        354369 non-null  object\n",
      " 1   Price              354369 non-null  int64 \n",
      " 2   VehicleType        316879 non-null  object\n",
      " 3   RegistrationYear   354369 non-null  int64 \n",
      " 4   Gearbox            334536 non-null  object\n",
      " 5   Power              354369 non-null  int64 \n",
      " 6   Model              334664 non-null  object\n",
      " 7   Kilometer          354369 non-null  int64 \n",
      " 8   RegistrationMonth  354369 non-null  int64 \n",
      " 9   FuelType           321474 non-null  object\n",
      " 10  Brand              354369 non-null  object\n",
      " 11  Repaired           283215 non-null  object\n",
      " 12  DateCreated        354369 non-null  object\n",
      " 13  NumberOfPictures   354369 non-null  int64 \n",
      " 14  PostalCode         354369 non-null  int64 \n",
      " 15  LastSeen           354369 non-null  object\n",
      "dtypes: int64(7), object(9)\n",
      "memory usage: 43.3+ MB\n"
     ]
    },
    {
     "data": {
      "text/html": [
       "<div>\n",
       "<style scoped>\n",
       "    .dataframe tbody tr th:only-of-type {\n",
       "        vertical-align: middle;\n",
       "    }\n",
       "\n",
       "    .dataframe tbody tr th {\n",
       "        vertical-align: top;\n",
       "    }\n",
       "\n",
       "    .dataframe thead th {\n",
       "        text-align: right;\n",
       "    }\n",
       "</style>\n",
       "<table border=\"1\" class=\"dataframe\">\n",
       "  <thead>\n",
       "    <tr style=\"text-align: right;\">\n",
       "      <th></th>\n",
       "      <th>DateCrawled</th>\n",
       "      <th>Price</th>\n",
       "      <th>VehicleType</th>\n",
       "      <th>RegistrationYear</th>\n",
       "      <th>Gearbox</th>\n",
       "      <th>Power</th>\n",
       "      <th>Model</th>\n",
       "      <th>Kilometer</th>\n",
       "      <th>RegistrationMonth</th>\n",
       "      <th>FuelType</th>\n",
       "      <th>Brand</th>\n",
       "      <th>Repaired</th>\n",
       "      <th>DateCreated</th>\n",
       "      <th>NumberOfPictures</th>\n",
       "      <th>PostalCode</th>\n",
       "      <th>LastSeen</th>\n",
       "    </tr>\n",
       "  </thead>\n",
       "  <tbody>\n",
       "    <tr>\n",
       "      <th>0</th>\n",
       "      <td>2016-03-24 11:52:17</td>\n",
       "      <td>480</td>\n",
       "      <td>NaN</td>\n",
       "      <td>1993</td>\n",
       "      <td>manual</td>\n",
       "      <td>0</td>\n",
       "      <td>golf</td>\n",
       "      <td>150000</td>\n",
       "      <td>0</td>\n",
       "      <td>petrol</td>\n",
       "      <td>volkswagen</td>\n",
       "      <td>NaN</td>\n",
       "      <td>2016-03-24 00:00:00</td>\n",
       "      <td>0</td>\n",
       "      <td>70435</td>\n",
       "      <td>2016-04-07 03:16:57</td>\n",
       "    </tr>\n",
       "    <tr>\n",
       "      <th>1</th>\n",
       "      <td>2016-03-24 10:58:45</td>\n",
       "      <td>18300</td>\n",
       "      <td>coupe</td>\n",
       "      <td>2011</td>\n",
       "      <td>manual</td>\n",
       "      <td>190</td>\n",
       "      <td>NaN</td>\n",
       "      <td>125000</td>\n",
       "      <td>5</td>\n",
       "      <td>gasoline</td>\n",
       "      <td>audi</td>\n",
       "      <td>yes</td>\n",
       "      <td>2016-03-24 00:00:00</td>\n",
       "      <td>0</td>\n",
       "      <td>66954</td>\n",
       "      <td>2016-04-07 01:46:50</td>\n",
       "    </tr>\n",
       "    <tr>\n",
       "      <th>2</th>\n",
       "      <td>2016-03-14 12:52:21</td>\n",
       "      <td>9800</td>\n",
       "      <td>suv</td>\n",
       "      <td>2004</td>\n",
       "      <td>auto</td>\n",
       "      <td>163</td>\n",
       "      <td>grand</td>\n",
       "      <td>125000</td>\n",
       "      <td>8</td>\n",
       "      <td>gasoline</td>\n",
       "      <td>jeep</td>\n",
       "      <td>NaN</td>\n",
       "      <td>2016-03-14 00:00:00</td>\n",
       "      <td>0</td>\n",
       "      <td>90480</td>\n",
       "      <td>2016-04-05 12:47:46</td>\n",
       "    </tr>\n",
       "    <tr>\n",
       "      <th>3</th>\n",
       "      <td>2016-03-17 16:54:04</td>\n",
       "      <td>1500</td>\n",
       "      <td>small</td>\n",
       "      <td>2001</td>\n",
       "      <td>manual</td>\n",
       "      <td>75</td>\n",
       "      <td>golf</td>\n",
       "      <td>150000</td>\n",
       "      <td>6</td>\n",
       "      <td>petrol</td>\n",
       "      <td>volkswagen</td>\n",
       "      <td>no</td>\n",
       "      <td>2016-03-17 00:00:00</td>\n",
       "      <td>0</td>\n",
       "      <td>91074</td>\n",
       "      <td>2016-03-17 17:40:17</td>\n",
       "    </tr>\n",
       "    <tr>\n",
       "      <th>4</th>\n",
       "      <td>2016-03-31 17:25:20</td>\n",
       "      <td>3600</td>\n",
       "      <td>small</td>\n",
       "      <td>2008</td>\n",
       "      <td>manual</td>\n",
       "      <td>69</td>\n",
       "      <td>fabia</td>\n",
       "      <td>90000</td>\n",
       "      <td>7</td>\n",
       "      <td>gasoline</td>\n",
       "      <td>skoda</td>\n",
       "      <td>no</td>\n",
       "      <td>2016-03-31 00:00:00</td>\n",
       "      <td>0</td>\n",
       "      <td>60437</td>\n",
       "      <td>2016-04-06 10:17:21</td>\n",
       "    </tr>\n",
       "  </tbody>\n",
       "</table>\n",
       "</div>"
      ],
      "text/plain": [
       "           DateCrawled  Price VehicleType  RegistrationYear Gearbox  Power  \\\n",
       "0  2016-03-24 11:52:17    480         NaN              1993  manual      0   \n",
       "1  2016-03-24 10:58:45  18300       coupe              2011  manual    190   \n",
       "2  2016-03-14 12:52:21   9800         suv              2004    auto    163   \n",
       "3  2016-03-17 16:54:04   1500       small              2001  manual     75   \n",
       "4  2016-03-31 17:25:20   3600       small              2008  manual     69   \n",
       "\n",
       "   Model  Kilometer  RegistrationMonth  FuelType       Brand Repaired  \\\n",
       "0   golf     150000                  0    petrol  volkswagen      NaN   \n",
       "1    NaN     125000                  5  gasoline        audi      yes   \n",
       "2  grand     125000                  8  gasoline        jeep      NaN   \n",
       "3   golf     150000                  6    petrol  volkswagen       no   \n",
       "4  fabia      90000                  7  gasoline       skoda       no   \n",
       "\n",
       "           DateCreated  NumberOfPictures  PostalCode             LastSeen  \n",
       "0  2016-03-24 00:00:00                 0       70435  2016-04-07 03:16:57  \n",
       "1  2016-03-24 00:00:00                 0       66954  2016-04-07 01:46:50  \n",
       "2  2016-03-14 00:00:00                 0       90480  2016-04-05 12:47:46  \n",
       "3  2016-03-17 00:00:00                 0       91074  2016-03-17 17:40:17  \n",
       "4  2016-03-31 00:00:00                 0       60437  2016-04-06 10:17:21  "
      ]
     },
     "execution_count": 2,
     "metadata": {},
     "output_type": "execute_result"
    }
   ],
   "source": [
    "autos = pd.read_csv('/datasets/autos.csv')\n",
    "autos.info()\n",
    "autos.head()"
   ]
  },
  {
   "cell_type": "markdown",
   "metadata": {},
   "source": [
    "В датасете содержится **354 369 записей** и **16 признаков**.  \n",
    "- Числовые признаки: `Price`, `RegistrationYear`, `Power`, `Kilometer`, `RegistrationMonth`, `NumberOfPictures`, `PostalCode`.  \n",
    "- Категориальные признаки: `VehicleType`, `Gearbox`, `Model`, `FuelType`, `Brand`, `Repaired`, а также даты (`DateCrawled`, `DateCreated`, `LastSeen`).  \n",
    "- Обнаружены пропуски в ряде колонок: `VehicleType`, `Gearbox`, `Model`, `FuelType`, `Repaired`.  \n",
    "- Признак `NumberOfPictures` полностью равен нулю и, вероятно, неинформативен.  \n",
    "\n",
    "Требуется обработка пропусков и проверка на наличие аномальных значений в числовых полях (например, `Power`, `RegistrationYear`).  "
   ]
  },
  {
   "cell_type": "markdown",
   "metadata": {},
   "source": [
    "## Предобработка"
   ]
  },
  {
   "cell_type": "markdown",
   "metadata": {},
   "source": [
    "На этапе предобработки выполняются базовые проверки и очистка:  \n",
    "- выявление и обработка пропусков;  \n",
    "- поиск и удаление явных дубликатов строк;  \n",
    "- поиск неявных дубликатов в строковых колонках (например, разные написания одной марки или модели);  \n",
    "- исключение неинформативных признаков, таких как `NumberOfPictures`, где все значения равны нулю.  "
   ]
  },
  {
   "cell_type": "code",
   "execution_count": 3,
   "metadata": {
    "scrolled": false
   },
   "outputs": [
    {
     "name": "stdout",
     "output_type": "stream",
     "text": [
      "DateCrawled: 0 пропусков (0.00%)\n",
      "Price: 0 пропусков (0.00%)\n",
      "VehicleType: 37490 пропусков (10.58%)\n",
      "RegistrationYear: 0 пропусков (0.00%)\n",
      "Gearbox: 19833 пропусков (5.60%)\n",
      "Power: 0 пропусков (0.00%)\n",
      "Model: 19705 пропусков (5.56%)\n",
      "Kilometer: 0 пропусков (0.00%)\n",
      "RegistrationMonth: 0 пропусков (0.00%)\n",
      "FuelType: 32895 пропусков (9.28%)\n",
      "Brand: 0 пропусков (0.00%)\n",
      "Repaired: 71154 пропусков (20.08%)\n",
      "DateCreated: 0 пропусков (0.00%)\n",
      "NumberOfPictures: 0 пропусков (0.00%)\n",
      "PostalCode: 0 пропусков (0.00%)\n",
      "LastSeen: 0 пропусков (0.00%)\n"
     ]
    }
   ],
   "source": [
    "# Проверка количества и доли пропусков по каждому признаку\n",
    "for col in autos.columns:\n",
    "    missing_count = autos[col].isna().sum()\n",
    "    missing_percent = autos[col].isna().mean() * 100\n",
    "    print(f\"{col}: {missing_count} пропусков ({missing_percent:.2f}%)\")"
   ]
  },
  {
   "cell_type": "markdown",
   "metadata": {},
   "source": [
    "**Заполнение пропусков**\n",
    "\n",
    "Пропуски в категориальных признаках заменены на отдельную категорию `unknown`.  \n",
    "Некорректное значение `0` в `RegistrationMonth` заменено на моду признака."
   ]
  },
  {
   "cell_type": "code",
   "execution_count": 4,
   "metadata": {},
   "outputs": [
    {
     "name": "stdout",
     "output_type": "stream",
     "text": [
      "Остаток пропусков после заполнения:\n"
     ]
    }
   ],
   "source": [
    "# Категориальные признаки с пропусками\n",
    "cat_na_cols = ['VehicleType', 'Gearbox', 'Model', 'FuelType', 'Repaired']\n",
    "\n",
    "# Заполнение пропусков отдельной категорией 'unknown'\n",
    "for col in cat_na_cols:\n",
    "    if col in autos.columns:\n",
    "        autos[col] = autos[col].fillna('unknown')\n",
    "\n",
    "# Коррекция некорректного месяца регистрации: 0 -> мода столбца\n",
    "if 'RegistrationMonth' in autos.columns:\n",
    "    month_mode = autos.loc[autos['RegistrationMonth'] != 0, 'RegistrationMonth'].mode()[0]\n",
    "    autos.loc[autos['RegistrationMonth'] == 0, 'RegistrationMonth'] = month_mode\n",
    "\n",
    "# Контроль: остаток пропусков\n",
    "print(\"Остаток пропусков после заполнения:\")\n",
    "for col in autos.columns:\n",
    "    miss = autos[col].isna().sum()\n",
    "    if miss:\n",
    "        print(f\"{col}: {miss}\")"
   ]
  },
  {
   "cell_type": "markdown",
   "metadata": {},
   "source": [
    "<div class=\"alert alert-warning\">\n",
    "<h3> Комментарий ревьюера<a class=\"tocSkip\"> </h3>\n",
    "    \n",
    "<b>Некоторые замечания и рекомендации💡:</b> \n",
    "    \n",
    "* Некоторые характеристики авто (кроме Repaired, но включая мощность авто), скорее всего, взаимосвязаны, поэтому можно хотя бы частично с некоторой степенью точности попробовать восстановить их друг на основе друга, например, VehicleType по модели. Мы не сможем достоверно восстановить истину, но сможем сохранить данные, при этом разнести пропуски хотя бы примерно по ценовым категориям вместо одной общей, где все вперемешку.\n",
    "    \n",
    "    Однако прежде, чем переходить к обработке одних данных на основе других, необходимо убедиться, что они корректны: отсутствуют ошибки и неявные дубликаты.\n",
    "  \n",
    "    А вот для Repaired при этом, действительно, корректнее поставить заглушку. С моделью данный признак едва ли взаимосвязан (наличие ремонта скорее зависит от аккуратности предыдущих владельцев и условий эксплуатации). Если же просто заполняем модой - отсутствие ремонта, то по сути приравниваем тех, кто, возможно, умышленно умолчал о наличии ремонта, к тем, у кого его действительно не было, что тоже не совсем корректно.\n",
    "    \n",
    "    \n",
    "* Для заполнения по группе удобно использовать <a href='https://pandas.pydata.org/docs/reference/api/pandas.DataFrame.transform.html'>transform</a>. Применив его к сгруппированным данным, мы можем сказать ему, какой показатель нам необходимо определить (мода, медиана), и он определит его для каждой строки датасета в соответсвии с его группой. Затем мы можем использовать данный вектор для заполнения пропусков ччерез `fillna`. Единстевенное, важно учесть, что какая-то группа может содержать только пропуски, в таком случае мода не определеня, будет вылезать ошибка. Поэтому нам необходимо прописать условие на такой сслучай `lambda x: x.mode()[0] if not x.mode().empty else None`.\n",
    "    \n",
    "    \n",
    "* Такого рода специфическую обработку по-хорошему нужно производить в пайпалайне в процессе обучения (поскольку она задействует другие данные), но для этого потребуется создавать кастомный трансформер, поэтому пока этим можно пренебречь.\n",
    "    \n",
    "    \n",
    "* Месяц регистрации - едва ли значимый признак в плане определения вариации в цене. В целом можно считать 0 заглушкой для пропусков и оставить в текущем виде, либо вовсе отказаться от использования данного признака при моделировании."
   ]
  },
  {
   "cell_type": "markdown",
   "metadata": {},
   "source": [
    "**Преобразование дат**\n",
    "\n",
    "Строковые признаки `DateCrawled`, `DateCreated`, `LastSeen` переводятся в формат `datetime64`.  \n",
    "Это позволяет корректно работать с датами, при необходимости извлекать компоненты (год, месяц, день) и упрощает дальнейший анализ.  "
   ]
  },
  {
   "cell_type": "code",
   "execution_count": 5,
   "metadata": {},
   "outputs": [
    {
     "data": {
      "text/plain": [
       "DateCrawled    datetime64[ns]\n",
       "DateCreated    datetime64[ns]\n",
       "LastSeen       datetime64[ns]\n",
       "dtype: object"
      ]
     },
     "execution_count": 5,
     "metadata": {},
     "output_type": "execute_result"
    }
   ],
   "source": [
    "# Преобразование строковых колонок в формат даты\n",
    "date_cols = ['DateCrawled', 'DateCreated', 'LastSeen']\n",
    "for col in date_cols:\n",
    "    autos[col] = pd.to_datetime(autos[col], errors='coerce')\n",
    "\n",
    "# Проверка результата\n",
    "autos[date_cols].dtypes"
   ]
  },
  {
   "cell_type": "code",
   "execution_count": 6,
   "metadata": {},
   "outputs": [],
   "source": [
    "# Удаление неинформативного признака\n",
    "autos = autos.drop(columns=['NumberOfPictures'])"
   ]
  },
  {
   "cell_type": "code",
   "execution_count": 7,
   "metadata": {},
   "outputs": [
    {
     "name": "stdout",
     "output_type": "stream",
     "text": [
      "Количество явных дубликатов: 4\n"
     ]
    }
   ],
   "source": [
    "# Подсчёт количества полных дубликатов строк\n",
    "duplicates_count = autos.duplicated().sum()\n",
    "print(f\"Количество явных дубликатов: {duplicates_count}\")"
   ]
  },
  {
   "cell_type": "code",
   "execution_count": 8,
   "metadata": {},
   "outputs": [],
   "source": [
    "# Удаление явных дубликатов\n",
    "autos = autos.drop_duplicates().reset_index(drop=True)"
   ]
  },
  {
   "cell_type": "code",
   "execution_count": 9,
   "metadata": {},
   "outputs": [
    {
     "name": "stdout",
     "output_type": "stream",
     "text": [
      "\n",
      "Уникальные значения в строковых колонках:\n",
      "\n",
      "Столбец: VehicleType\n",
      "['bus', 'convertible', 'coupe', 'other', 'sedan', 'small', 'suv', 'unknown', 'wagon']\n",
      "\n",
      "Столбец: Gearbox\n",
      "['auto', 'manual', 'unknown']\n",
      "\n",
      "Столбец: Model\n",
      "['100', '145', '147', '156', '159', '1_reihe', '1er', '200', '2_reihe', '300c', '3_reihe', '3er', '4_reihe', '500', '5_reihe', '5er', '601', '6_reihe', '6er', '7er', '80', '850', '90', '900', '9000', '911', 'a1', 'a2', 'a3', 'a4', 'a5', 'a6', 'a8', 'a_klasse', 'accord', 'agila', 'alhambra', 'almera', 'altea', 'amarok', 'antara', 'arosa', 'astra', 'auris', 'avensis', 'aveo', 'aygo', 'b_klasse', 'b_max', 'beetle', 'berlingo', 'bora', 'boxster', 'bravo', 'c1', 'c2', 'c3', 'c4', 'c5', 'c_klasse', 'c_max', 'c_reihe', 'caddy', 'calibra', 'captiva', 'carisma', 'carnival', 'cayenne', 'cc', 'ceed', 'charade', 'cherokee', 'citigo', 'civic', 'cl', 'clio', 'clk', 'clubman', 'colt', 'combo', 'cooper', 'cordoba', 'corolla', 'corsa', 'cr_reihe', 'croma', 'crossfire', 'cuore', 'cx_reihe', 'defender', 'delta', 'discovery', 'doblo', 'ducato', 'duster', 'e_klasse', 'elefantino', 'eos', 'escort', 'espace', 'exeo', 'fabia', 'fiesta', 'focus', 'forester', 'forfour', 'fortwo', 'fox', 'freelander', 'fusion', 'g_klasse', 'galant', 'galaxy', 'getz', 'gl', 'glk', 'golf', 'grand', 'i3', 'i_reihe', 'ibiza', 'impreza', 'insignia', 'jazz', 'jetta', 'jimny', 'juke', 'justy', 'ka', 'kadett', 'kaefer', 'kalina', 'kalos', 'kangoo', 'kappa', 'kuga', 'laguna', 'lancer', 'lanos', 'legacy', 'leon', 'lodgy', 'logan', 'lupo', 'lybra', 'm_klasse', 'm_reihe', 'materia', 'matiz', 'megane', 'meriva', 'micra', 'mii', 'modus', 'mondeo', 'move', 'musa', 'mustang', 'mx_reihe', 'navara', 'niva', 'note', 'nubira', 'octavia', 'omega', 'one', 'other', 'outlander', 'pajero', 'panda', 'passat', 'phaeton', 'picanto', 'polo', 'primera', 'ptcruiser', 'punto', 'q3', 'q5', 'q7', 'qashqai', 'r19', 'range_rover', 'range_rover_evoque', 'range_rover_sport', 'rangerover', 'rav', 'rio', 'roadster', 'roomster', 'rx_reihe', 's60', 's_klasse', 's_max', 's_type', 'samara', 'sandero', 'santa', 'scenic', 'scirocco', 'seicento', 'serie_1', 'serie_2', 'serie_3', 'sharan', 'signum', 'sirion', 'sl', 'slk', 'sorento', 'spark', 'spider', 'sportage', 'sprinter', 'stilo', 'superb', 'swift', 'terios', 'tigra', 'tiguan', 'toledo', 'touareg', 'touran', 'transit', 'transporter', 'tt', 'tucson', 'twingo', 'unknown', 'up', 'v40', 'v50', 'v60', 'v70', 'v_klasse', 'vectra', 'verso', 'viano', 'vito', 'vivaro', 'voyager', 'wrangler', 'x_reihe', 'x_trail', 'x_type', 'xc_reihe', 'yaris', 'yeti', 'ypsilon', 'z_reihe', 'zafira']\n",
      "\n",
      "Столбец: FuelType\n",
      "['cng', 'electric', 'gasoline', 'hybrid', 'lpg', 'other', 'petrol', 'unknown']\n",
      "\n",
      "Столбец: Brand\n",
      "['alfa_romeo', 'audi', 'bmw', 'chevrolet', 'chrysler', 'citroen', 'dacia', 'daewoo', 'daihatsu', 'fiat', 'ford', 'honda', 'hyundai', 'jaguar', 'jeep', 'kia', 'lada', 'lancia', 'land_rover', 'mazda', 'mercedes_benz', 'mini', 'mitsubishi', 'nissan', 'opel', 'peugeot', 'porsche', 'renault', 'rover', 'saab', 'seat', 'skoda', 'smart', 'sonstige_autos', 'subaru', 'suzuki', 'toyota', 'trabant', 'volkswagen', 'volvo']\n",
      "\n",
      "Столбец: Repaired\n",
      "['no', 'unknown', 'yes']\n"
     ]
    }
   ],
   "source": [
    "# Проверка неявных дубликатов в строковых колонках (без ошибки сортировки)\n",
    "obj_cols = autos.select_dtypes(include='object').columns\n",
    "\n",
    "print(\"\\nУникальные значения в строковых колонках:\")\n",
    "for col in obj_cols:\n",
    "    print(f\"\\nСтолбец: {col}\")\n",
    "    uniques = autos[col].dropna().astype(str).unique()\n",
    "    try:\n",
    "        print(sorted(uniques))\n",
    "    except Exception:\n",
    "        print(\"Сортировка невозможна (разный формат значений)\")"
   ]
  },
  {
   "cell_type": "markdown",
   "metadata": {},
   "source": [
    "**Обработка неявных дубликатов**\n",
    "\n",
    "В категориальных признаках встречаются различные варианты записи одних и тех же значений.  \n",
    "- В `FuelType` дублируется бензин: `'gasoline'` и `'petrol'`. Эти категории объединяются.  \n",
    "- В `Model` встречаются разные обозначения одной модели: например, `'1er'` и `'1_reihe'`, `'kaefer'` и `'beetle'`.  \n",
    "Для корректной работы модели требуется нормализация: все такие значения приводятся к единому формату.  "
   ]
  },
  {
   "cell_type": "code",
   "execution_count": 10,
   "metadata": {},
   "outputs": [],
   "source": [
    "# Замена значения 'petrol' на 'gasoline' в FuelType\n",
    "autos['FuelType'] = autos['FuelType'].replace('petrol', 'gasoline')"
   ]
  },
  {
   "cell_type": "code",
   "execution_count": 11,
   "metadata": {},
   "outputs": [],
   "source": [
    "# Явные замены в Model\n",
    "model_replacements = {\n",
    "    # BMW серии\n",
    "    '1_reihe': '1er',\n",
    "    'serie_1': '1er',\n",
    "    '2_reihe': '2er',\n",
    "    'serie_2': '2er',\n",
    "    '3_reihe': '3er',\n",
    "    'serie_3': '3er',\n",
    "    '4_reihe': '4er',\n",
    "    '5_reihe': '5er',\n",
    "    '6_reihe': '6er',\n",
    "    '7_reihe': '7er',\n",
    "\n",
    "    # Volkswagen Beetle\n",
    "    'kaefer': 'beetle',\n",
    "\n",
    "    # Land Rover\n",
    "    'rangerover': 'range_rover'\n",
    "}\n",
    "\n",
    "# Применение замен\n",
    "autos['Model'] = autos['Model'].replace(model_replacements)"
   ]
  },
  {
   "cell_type": "markdown",
   "metadata": {},
   "source": [
    "## EDA\n",
    "\n",
    "На данном этапе проводится исследовательский анализ данных для выявления основных закономерностей и возможных проблем:  \n",
    "- изучение распределения целевого признака `Price`;  \n",
    "- анализ числовых признаков (распределения, выбросы, аномальные значения);  \n",
    "- анализ категориальных признаков (частоты категорий, редкие значения);  \n",
    "- проверка взаимосвязей между признаками и целевой переменной.  \n",
    "\n",
    "Результаты EDA помогут сформировать гипотезы и уточнить стратегию подготовки данных для моделей.  "
   ]
  },
  {
   "cell_type": "code",
   "execution_count": 12,
   "metadata": {
    "scrolled": false
   },
   "outputs": [
    {
     "name": "stdout",
     "output_type": "stream",
     "text": [
      "<class 'pandas.core.frame.DataFrame'>\n",
      "RangeIndex: 354365 entries, 0 to 354364\n",
      "Data columns (total 15 columns):\n",
      " #   Column             Non-Null Count   Dtype         \n",
      "---  ------             --------------   -----         \n",
      " 0   DateCrawled        354365 non-null  datetime64[ns]\n",
      " 1   Price              354365 non-null  int64         \n",
      " 2   VehicleType        354365 non-null  object        \n",
      " 3   RegistrationYear   354365 non-null  int64         \n",
      " 4   Gearbox            354365 non-null  object        \n",
      " 5   Power              354365 non-null  int64         \n",
      " 6   Model              354365 non-null  object        \n",
      " 7   Kilometer          354365 non-null  int64         \n",
      " 8   RegistrationMonth  354365 non-null  int64         \n",
      " 9   FuelType           354365 non-null  object        \n",
      " 10  Brand              354365 non-null  object        \n",
      " 11  Repaired           354365 non-null  object        \n",
      " 12  DateCreated        354365 non-null  datetime64[ns]\n",
      " 13  PostalCode         354365 non-null  int64         \n",
      " 14  LastSeen           354365 non-null  datetime64[ns]\n",
      "dtypes: datetime64[ns](3), int64(6), object(6)\n",
      "memory usage: 40.6+ MB\n"
     ]
    }
   ],
   "source": [
    "autos.info()"
   ]
  },
  {
   "cell_type": "markdown",
   "metadata": {},
   "source": [
    "### Распределение числовых признаков"
   ]
  },
  {
   "cell_type": "code",
   "execution_count": 13,
   "metadata": {},
   "outputs": [
    {
     "name": "stdout",
     "output_type": "stream",
     "text": [
      "Статистики числовых признаков:\n"
     ]
    },
    {
     "data": {
      "text/html": [
       "<div>\n",
       "<style scoped>\n",
       "    .dataframe tbody tr th:only-of-type {\n",
       "        vertical-align: middle;\n",
       "    }\n",
       "\n",
       "    .dataframe tbody tr th {\n",
       "        vertical-align: top;\n",
       "    }\n",
       "\n",
       "    .dataframe thead th {\n",
       "        text-align: right;\n",
       "    }\n",
       "</style>\n",
       "<table border=\"1\" class=\"dataframe\">\n",
       "  <thead>\n",
       "    <tr style=\"text-align: right;\">\n",
       "      <th></th>\n",
       "      <th>Price</th>\n",
       "      <th>RegistrationYear</th>\n",
       "      <th>Power</th>\n",
       "      <th>Kilometer</th>\n",
       "      <th>RegistrationMonth</th>\n",
       "      <th>PostalCode</th>\n",
       "    </tr>\n",
       "  </thead>\n",
       "  <tbody>\n",
       "    <tr>\n",
       "      <th>count</th>\n",
       "      <td>354365.000000</td>\n",
       "      <td>354365.000000</td>\n",
       "      <td>354365.000000</td>\n",
       "      <td>354365.000000</td>\n",
       "      <td>354365.000000</td>\n",
       "      <td>354365.000000</td>\n",
       "    </tr>\n",
       "    <tr>\n",
       "      <th>mean</th>\n",
       "      <td>4416.679830</td>\n",
       "      <td>2004.234481</td>\n",
       "      <td>110.093816</td>\n",
       "      <td>128211.363989</td>\n",
       "      <td>6.030866</td>\n",
       "      <td>50508.503800</td>\n",
       "    </tr>\n",
       "    <tr>\n",
       "      <th>std</th>\n",
       "      <td>4514.176349</td>\n",
       "      <td>90.228466</td>\n",
       "      <td>189.851330</td>\n",
       "      <td>37905.083858</td>\n",
       "      <td>3.334789</td>\n",
       "      <td>25783.100078</td>\n",
       "    </tr>\n",
       "    <tr>\n",
       "      <th>min</th>\n",
       "      <td>0.000000</td>\n",
       "      <td>1000.000000</td>\n",
       "      <td>0.000000</td>\n",
       "      <td>5000.000000</td>\n",
       "      <td>1.000000</td>\n",
       "      <td>1067.000000</td>\n",
       "    </tr>\n",
       "    <tr>\n",
       "      <th>25%</th>\n",
       "      <td>1050.000000</td>\n",
       "      <td>1999.000000</td>\n",
       "      <td>69.000000</td>\n",
       "      <td>125000.000000</td>\n",
       "      <td>3.000000</td>\n",
       "      <td>30165.000000</td>\n",
       "    </tr>\n",
       "    <tr>\n",
       "      <th>50%</th>\n",
       "      <td>2700.000000</td>\n",
       "      <td>2003.000000</td>\n",
       "      <td>105.000000</td>\n",
       "      <td>150000.000000</td>\n",
       "      <td>6.000000</td>\n",
       "      <td>49413.000000</td>\n",
       "    </tr>\n",
       "    <tr>\n",
       "      <th>75%</th>\n",
       "      <td>6400.000000</td>\n",
       "      <td>2008.000000</td>\n",
       "      <td>143.000000</td>\n",
       "      <td>150000.000000</td>\n",
       "      <td>9.000000</td>\n",
       "      <td>71083.000000</td>\n",
       "    </tr>\n",
       "    <tr>\n",
       "      <th>max</th>\n",
       "      <td>20000.000000</td>\n",
       "      <td>9999.000000</td>\n",
       "      <td>20000.000000</td>\n",
       "      <td>150000.000000</td>\n",
       "      <td>12.000000</td>\n",
       "      <td>99998.000000</td>\n",
       "    </tr>\n",
       "  </tbody>\n",
       "</table>\n",
       "</div>"
      ],
      "text/plain": [
       "               Price  RegistrationYear          Power      Kilometer  \\\n",
       "count  354365.000000     354365.000000  354365.000000  354365.000000   \n",
       "mean     4416.679830       2004.234481     110.093816  128211.363989   \n",
       "std      4514.176349         90.228466     189.851330   37905.083858   \n",
       "min         0.000000       1000.000000       0.000000    5000.000000   \n",
       "25%      1050.000000       1999.000000      69.000000  125000.000000   \n",
       "50%      2700.000000       2003.000000     105.000000  150000.000000   \n",
       "75%      6400.000000       2008.000000     143.000000  150000.000000   \n",
       "max     20000.000000       9999.000000   20000.000000  150000.000000   \n",
       "\n",
       "       RegistrationMonth     PostalCode  \n",
       "count      354365.000000  354365.000000  \n",
       "mean            6.030866   50508.503800  \n",
       "std             3.334789   25783.100078  \n",
       "min             1.000000    1067.000000  \n",
       "25%             3.000000   30165.000000  \n",
       "50%             6.000000   49413.000000  \n",
       "75%             9.000000   71083.000000  \n",
       "max            12.000000   99998.000000  "
      ]
     },
     "metadata": {},
     "output_type": "display_data"
    },
    {
     "data": {
      "image/png": "[encoded data removed]",
      "text/plain": [
       "<Figure size 1296x720 with 6 Axes>"
      ]
     },
     "metadata": {
      "needs_background": "light"
     },
     "output_type": "display_data"
    }
   ],
   "source": [
    "# Список числовых признаков\n",
    "num_cols = ['Price', 'RegistrationYear', 'Power', 'Kilometer', 'RegistrationMonth', 'PostalCode']\n",
    "\n",
    "# Общая статистика\n",
    "print(\"Статистики числовых признаков:\")\n",
    "display(autos[num_cols].describe())\n",
    "\n",
    "# Построение гистограмм\n",
    "plt.figure(figsize=(18, 10))\n",
    "\n",
    "for i, col in enumerate(num_cols, 1):\n",
    "    plt.subplot(2, 3, i)  # сетка 2x3\n",
    "    sns.histplot(autos[col], kde=True, bins=50)\n",
    "    plt.title(f'Распределение {col}')\n",
    "    plt.xlabel(col)\n",
    "    plt.ylabel('Количество')\n",
    "    plt.grid(axis='y', linestyle='--', alpha=0.7)\n",
    "\n",
    "plt.tight_layout()\n",
    "plt.show()"
   ]
  },
  {
   "cell_type": "markdown",
   "metadata": {},
   "source": [
    "**Вывод по числовым признакам**\n",
    "\n",
    "- **Price**  \n",
    "  Распределение скошено вправо, наблюдаются явные выбросы и некорректные значения.  \n",
    "\n",
    "- **RegistrationYear**  \n",
    "  Основная масса значений сосредоточена в адекватном диапазоне, но встречаются аномалии, которые будут удалены при дальнейшей предобработке.  \n",
    "\n",
    "- **Power**  \n",
    "  Есть концентрация в низких значениях и заметные выбросы, включая нули и нереалистично большие величины. Эти аномалии также будут удалены.  \n",
    "\n",
    "- **Kilometer**  \n",
    "  Признак имеет дискретные уровни (кратные 10 000–20 000 км), много записей с максимальным значением.  \n",
    "\n",
    "- **RegistrationMonth**  \n",
    "  Распределение близко к равномерному, встречаются некорректные значения (например, 0).  \n",
    "\n",
    "- **PostalCode**  \n",
    "  Значения распределены равномерно по диапазону, признак не несёт значимой информации для прогнозирования цены и будет исключён из датасета.  "
   ]
  },
  {
   "cell_type": "code",
   "execution_count": 14,
   "metadata": {
    "scrolled": false
   },
   "outputs": [
    {
     "data": {
      "image/png": "[encoded data removed]",
      "text/plain": [
       "<Figure size 1296x720 with 5 Axes>"
      ]
     },
     "metadata": {
      "needs_background": "light"
     },
     "output_type": "display_data"
    }
   ],
   "source": [
    "# --- Фильтрация аномалий с учётом даты создания объявления ---\n",
    "\n",
    "# Границы по мощности\n",
    "autos = autos[(autos['Power'] > 0) & (autos['Power'] < 500)]\n",
    "\n",
    "# Сравнение года/месяца регистрации с датой создания объявления\n",
    "# (регистрация не может быть позже даты создания объявления)\n",
    "dc_year  = autos['DateCreated'].dt.year\n",
    "dc_month = autos['DateCreated'].dt.month\n",
    "\n",
    "mask_year_ok  = (autos['RegistrationYear'] >= 1900) & (autos['RegistrationYear'] <= dc_year)\n",
    "mask_month_ok = ~(\n",
    "    (autos['RegistrationYear'] == dc_year) &               # тот же год, что и у объявления\n",
    "    (autos['RegistrationMonth'] > 0) &                     # месяц известен\n",
    "    (autos['RegistrationMonth'] > dc_month)                # месяц регистрации позже месяца создания\n",
    ")\n",
    "\n",
    "autos = autos[mask_year_ok & mask_month_ok].copy()\n",
    "\n",
    "# Удаление неинформативного признака\n",
    "autos.drop(columns=['PostalCode'], inplace=True)\n",
    "\n",
    "# Проверка распредений после фильтрации\n",
    "num_cols = ['Price', 'RegistrationYear', 'Power', 'Kilometer', 'RegistrationMonth']\n",
    "plt.figure(figsize=(18, 10))\n",
    "for i, col in enumerate(num_cols, 1):\n",
    "    plt.subplot(2, 3, i)\n",
    "    sns.histplot(autos[col], kde=True, bins=50)\n",
    "    plt.title(f'Распределение {col} после фильтрации')\n",
    "    plt.xlabel(col); plt.ylabel('Количество')\n",
    "    plt.grid(axis='y', linestyle='--', alpha=0.7)\n",
    "plt.tight_layout(); plt.show()"
   ]
  },
  {
   "cell_type": "markdown",
   "metadata": {},
   "source": [
    "### Распределение категориальных признаков"
   ]
  },
  {
   "cell_type": "markdown",
   "metadata": {},
   "source": [
    "На этом этапе проводится исследование распределений категориальных признаков.  \n",
    "Графики строятся для признаков с небольшим числом категорий (`VehicleType`, `Gearbox`, `FuelType`, `Repaired`).  \n",
    "Признак `Brand` содержит большое количество уникальных значений, поэтому для него будет показана только таблица частот (топ-10 брендов).  "
   ]
  },
  {
   "cell_type": "code",
   "execution_count": 15,
   "metadata": {
    "scrolled": false
   },
   "outputs": [
    {
     "data": {
      "image/png": "[encoded data removed]",
      "text/plain": [
       "<Figure size 576x360 with 1 Axes>"
      ]
     },
     "metadata": {
      "needs_background": "light"
     },
     "output_type": "display_data"
    },
    {
     "name": "stdout",
     "output_type": "stream",
     "text": [
      "\n",
      "Статистика для VehicleType:\n"
     ]
    },
    {
     "data": {
      "text/html": [
       "<div>\n",
       "<style scoped>\n",
       "    .dataframe tbody tr th:only-of-type {\n",
       "        vertical-align: middle;\n",
       "    }\n",
       "\n",
       "    .dataframe tbody tr th {\n",
       "        vertical-align: top;\n",
       "    }\n",
       "\n",
       "    .dataframe thead th {\n",
       "        text-align: right;\n",
       "    }\n",
       "</style>\n",
       "<table border=\"1\" class=\"dataframe\">\n",
       "  <thead>\n",
       "    <tr style=\"text-align: right;\">\n",
       "      <th></th>\n",
       "      <th>count</th>\n",
       "      <th>percent</th>\n",
       "    </tr>\n",
       "  </thead>\n",
       "  <tbody>\n",
       "    <tr>\n",
       "      <th>sedan</th>\n",
       "      <td>84717</td>\n",
       "      <td>28.34</td>\n",
       "    </tr>\n",
       "    <tr>\n",
       "      <th>small</th>\n",
       "      <td>71419</td>\n",
       "      <td>23.89</td>\n",
       "    </tr>\n",
       "    <tr>\n",
       "      <th>wagon</th>\n",
       "      <td>60421</td>\n",
       "      <td>20.21</td>\n",
       "    </tr>\n",
       "    <tr>\n",
       "      <th>bus</th>\n",
       "      <td>26499</td>\n",
       "      <td>8.87</td>\n",
       "    </tr>\n",
       "    <tr>\n",
       "      <th>convertible</th>\n",
       "      <td>19014</td>\n",
       "      <td>6.36</td>\n",
       "    </tr>\n",
       "    <tr>\n",
       "      <th>coupe</th>\n",
       "      <td>15036</td>\n",
       "      <td>5.03</td>\n",
       "    </tr>\n",
       "    <tr>\n",
       "      <th>suv</th>\n",
       "      <td>11093</td>\n",
       "      <td>3.71</td>\n",
       "    </tr>\n",
       "    <tr>\n",
       "      <th>unknown</th>\n",
       "      <td>8087</td>\n",
       "      <td>2.71</td>\n",
       "    </tr>\n",
       "    <tr>\n",
       "      <th>other</th>\n",
       "      <td>2626</td>\n",
       "      <td>0.88</td>\n",
       "    </tr>\n",
       "  </tbody>\n",
       "</table>\n",
       "</div>"
      ],
      "text/plain": [
       "             count  percent\n",
       "sedan        84717    28.34\n",
       "small        71419    23.89\n",
       "wagon        60421    20.21\n",
       "bus          26499     8.87\n",
       "convertible  19014     6.36\n",
       "coupe        15036     5.03\n",
       "suv          11093     3.71\n",
       "unknown       8087     2.71\n",
       "other         2626     0.88"
      ]
     },
     "metadata": {},
     "output_type": "display_data"
    },
    {
     "data": {
      "image/png": "[encoded data removed]",
      "text/plain": [
       "<Figure size 576x360 with 1 Axes>"
      ]
     },
     "metadata": {
      "needs_background": "light"
     },
     "output_type": "display_data"
    },
    {
     "name": "stdout",
     "output_type": "stream",
     "text": [
      "\n",
      "Статистика для Gearbox:\n"
     ]
    },
    {
     "data": {
      "text/html": [
       "<div>\n",
       "<style scoped>\n",
       "    .dataframe tbody tr th:only-of-type {\n",
       "        vertical-align: middle;\n",
       "    }\n",
       "\n",
       "    .dataframe tbody tr th {\n",
       "        vertical-align: top;\n",
       "    }\n",
       "\n",
       "    .dataframe thead th {\n",
       "        text-align: right;\n",
       "    }\n",
       "</style>\n",
       "<table border=\"1\" class=\"dataframe\">\n",
       "  <thead>\n",
       "    <tr style=\"text-align: right;\">\n",
       "      <th></th>\n",
       "      <th>count</th>\n",
       "      <th>percent</th>\n",
       "    </tr>\n",
       "  </thead>\n",
       "  <tbody>\n",
       "    <tr>\n",
       "      <th>manual</th>\n",
       "      <td>233985</td>\n",
       "      <td>78.28</td>\n",
       "    </tr>\n",
       "    <tr>\n",
       "      <th>auto</th>\n",
       "      <td>59389</td>\n",
       "      <td>19.87</td>\n",
       "    </tr>\n",
       "    <tr>\n",
       "      <th>unknown</th>\n",
       "      <td>5538</td>\n",
       "      <td>1.85</td>\n",
       "    </tr>\n",
       "  </tbody>\n",
       "</table>\n",
       "</div>"
      ],
      "text/plain": [
       "          count  percent\n",
       "manual   233985    78.28\n",
       "auto      59389    19.87\n",
       "unknown    5538     1.85"
      ]
     },
     "metadata": {},
     "output_type": "display_data"
    },
    {
     "data": {
      "image/png": "[encoded data removed]",
      "text/plain": [
       "<Figure size 576x360 with 1 Axes>"
      ]
     },
     "metadata": {
      "needs_background": "light"
     },
     "output_type": "display_data"
    },
    {
     "name": "stdout",
     "output_type": "stream",
     "text": [
      "\n",
      "Статистика для FuelType:\n"
     ]
    },
    {
     "data": {
      "text/html": [
       "<div>\n",
       "<style scoped>\n",
       "    .dataframe tbody tr th:only-of-type {\n",
       "        vertical-align: middle;\n",
       "    }\n",
       "\n",
       "    .dataframe tbody tr th {\n",
       "        vertical-align: top;\n",
       "    }\n",
       "\n",
       "    .dataframe thead th {\n",
       "        text-align: right;\n",
       "    }\n",
       "</style>\n",
       "<table border=\"1\" class=\"dataframe\">\n",
       "  <thead>\n",
       "    <tr style=\"text-align: right;\">\n",
       "      <th></th>\n",
       "      <th>count</th>\n",
       "      <th>percent</th>\n",
       "    </tr>\n",
       "  </thead>\n",
       "  <tbody>\n",
       "    <tr>\n",
       "      <th>gasoline</th>\n",
       "      <td>278305</td>\n",
       "      <td>93.11</td>\n",
       "    </tr>\n",
       "    <tr>\n",
       "      <th>unknown</th>\n",
       "      <td>14994</td>\n",
       "      <td>5.02</td>\n",
       "    </tr>\n",
       "    <tr>\n",
       "      <th>lpg</th>\n",
       "      <td>4757</td>\n",
       "      <td>1.59</td>\n",
       "    </tr>\n",
       "    <tr>\n",
       "      <th>cng</th>\n",
       "      <td>482</td>\n",
       "      <td>0.16</td>\n",
       "    </tr>\n",
       "    <tr>\n",
       "      <th>hybrid</th>\n",
       "      <td>200</td>\n",
       "      <td>0.07</td>\n",
       "    </tr>\n",
       "    <tr>\n",
       "      <th>other</th>\n",
       "      <td>98</td>\n",
       "      <td>0.03</td>\n",
       "    </tr>\n",
       "    <tr>\n",
       "      <th>electric</th>\n",
       "      <td>76</td>\n",
       "      <td>0.03</td>\n",
       "    </tr>\n",
       "  </tbody>\n",
       "</table>\n",
       "</div>"
      ],
      "text/plain": [
       "           count  percent\n",
       "gasoline  278305    93.11\n",
       "unknown    14994     5.02\n",
       "lpg         4757     1.59\n",
       "cng          482     0.16\n",
       "hybrid       200     0.07\n",
       "other         98     0.03\n",
       "electric      76     0.03"
      ]
     },
     "metadata": {},
     "output_type": "display_data"
    },
    {
     "data": {
      "image/png": "[encoded data removed]",
      "text/plain": [
       "<Figure size 576x360 with 1 Axes>"
      ]
     },
     "metadata": {
      "needs_background": "light"
     },
     "output_type": "display_data"
    },
    {
     "name": "stdout",
     "output_type": "stream",
     "text": [
      "\n",
      "Статистика для Repaired:\n"
     ]
    },
    {
     "data": {
      "text/html": [
       "<div>\n",
       "<style scoped>\n",
       "    .dataframe tbody tr th:only-of-type {\n",
       "        vertical-align: middle;\n",
       "    }\n",
       "\n",
       "    .dataframe tbody tr th {\n",
       "        vertical-align: top;\n",
       "    }\n",
       "\n",
       "    .dataframe thead th {\n",
       "        text-align: right;\n",
       "    }\n",
       "</style>\n",
       "<table border=\"1\" class=\"dataframe\">\n",
       "  <thead>\n",
       "    <tr style=\"text-align: right;\">\n",
       "      <th></th>\n",
       "      <th>count</th>\n",
       "      <th>percent</th>\n",
       "    </tr>\n",
       "  </thead>\n",
       "  <tbody>\n",
       "    <tr>\n",
       "      <th>no</th>\n",
       "      <td>225311</td>\n",
       "      <td>75.38</td>\n",
       "    </tr>\n",
       "    <tr>\n",
       "      <th>unknown</th>\n",
       "      <td>43729</td>\n",
       "      <td>14.63</td>\n",
       "    </tr>\n",
       "    <tr>\n",
       "      <th>yes</th>\n",
       "      <td>29872</td>\n",
       "      <td>9.99</td>\n",
       "    </tr>\n",
       "  </tbody>\n",
       "</table>\n",
       "</div>"
      ],
      "text/plain": [
       "          count  percent\n",
       "no       225311    75.38\n",
       "unknown   43729    14.63\n",
       "yes       29872     9.99"
      ]
     },
     "metadata": {},
     "output_type": "display_data"
    },
    {
     "name": "stdout",
     "output_type": "stream",
     "text": [
      "Топ-10 брендов по частоте:\n"
     ]
    },
    {
     "data": {
      "text/plain": [
       "volkswagen       64651\n",
       "opel             32821\n",
       "bmw              32708\n",
       "mercedes_benz    27474\n",
       "audi             25942\n",
       "ford             20827\n",
       "renault          14033\n",
       "peugeot           9440\n",
       "fiat              7746\n",
       "seat              5886\n",
       "Name: Brand, dtype: int64"
      ]
     },
     "metadata": {},
     "output_type": "display_data"
    },
    {
     "name": "stdout",
     "output_type": "stream",
     "text": [
      "\n",
      "Доли (топ-10):\n"
     ]
    },
    {
     "data": {
      "text/plain": [
       "volkswagen       21.63\n",
       "opel             10.98\n",
       "bmw              10.94\n",
       "mercedes_benz     9.19\n",
       "audi              8.68\n",
       "ford              6.97\n",
       "renault           4.69\n",
       "peugeot           3.16\n",
       "fiat              2.59\n",
       "seat              1.97\n",
       "Name: Brand, dtype: float64"
      ]
     },
     "metadata": {},
     "output_type": "display_data"
    }
   ],
   "source": [
    "# Список признаков для barplot\n",
    "cat_cols = ['VehicleType', 'Gearbox', 'FuelType', 'Repaired']\n",
    "\n",
    "for col in cat_cols:\n",
    "    plt.figure(figsize=(8, 5))\n",
    "    value_counts = autos[col].value_counts(dropna=False)\n",
    "    ax = sns.barplot(x=value_counts.index, y=value_counts.values, color=\"skyblue\", edgecolor=\"black\")\n",
    "\n",
    "    # Подписи над столбцами\n",
    "    for i, v in enumerate(value_counts.values):\n",
    "        ax.text(i, v + (max(value_counts.values) * 0.01), str(v),\n",
    "                ha='center', va='bottom', fontweight='bold')\n",
    "\n",
    "    plt.title(f'Распределение {col}')\n",
    "    plt.xlabel(col)\n",
    "    plt.ylabel('Количество')\n",
    "    plt.xticks(rotation=45, ha='right')\n",
    "    plt.grid(axis='y', linestyle='--', alpha=0.7)\n",
    "    plt.show()\n",
    "\n",
    "    # Таблица статистики\n",
    "    stats_table = pd.DataFrame({\n",
    "        \"count\": value_counts,\n",
    "        \"percent\": round((value_counts / len(autos)) * 100, 2)\n",
    "    })\n",
    "    print(f\"\\nСтатистика для {col}:\")\n",
    "    display(stats_table)\n",
    "\n",
    "# Анализ Brand (только топ-10)\n",
    "print(\"Топ-10 брендов по частоте:\")\n",
    "display(autos['Brand'].value_counts().head(10))\n",
    "\n",
    "print(\"\\nДоли (топ-10):\")\n",
    "display((autos['Brand'].value_counts(normalize=True).head(10) * 100).round(2))"
   ]
  },
  {
   "cell_type": "markdown",
   "metadata": {},
   "source": [
    "**Вывод по категориальным признакам**\n",
    "\n",
    "- **VehicleType**  \n",
    "  Наиболее распространены `sedan`, `small` и `wagon`. Категория `unknown` занимает заметную долю (7%).  \n",
    "\n",
    "- **Gearbox**  \n",
    "  Преобладает механическая коробка передач (`manual` 78%), автомат встречается реже (20%). Пропуски собраны в `unknown` (2%).  \n",
    "\n",
    "- **FuelType**  \n",
    "  Основная масса автомобилей работает на бензине (`gasoline` 91%). Остальные виды топлива представлены очень слабо. Доля `unknown` около 7%.  \n",
    "\n",
    "- **Repaired**  \n",
    "  Большинство автомобилей не были в ремонте (`no` 74%). Около 10% имеют отметку `yes`. Значительная часть данных отмечена как `unknown` (16%).  \n",
    "\n",
    "- **Brand**  \n",
    "  Явное доминирование у марки `volkswagen` (22%), далее следуют `opel`, `bmw`, `mercedes_benz` и `audi`. Остальные бренды представлены меньшими долями.  \n",
    "\n",
    "**Итог:** категориальные признаки в целом корректны для дальнейшего анализа, но следует учитывать присутствие категорий `unknown`, которые были добавлены при заполнении пропусков.  "
   ]
  },
  {
   "cell_type": "markdown",
   "metadata": {},
   "source": [
    "## Подготовка данных"
   ]
  },
  {
   "cell_type": "code",
   "execution_count": 16,
   "metadata": {},
   "outputs": [],
   "source": [
    "target = \"Price\"\n",
    "\n",
    "num_features = ['RegistrationYear', 'Power', 'Kilometer', 'RegistrationMonth']\n",
    "cat_features = ['VehicleType', 'Gearbox', 'Model', 'FuelType', 'Brand', 'Repaired']\n",
    "drop_features = ['DateCrawled', 'DateCreated', 'LastSeen']\n",
    "\n",
    "X = autos.drop(columns=[target] + drop_features)\n",
    "y = autos[target]\n",
    "\n",
    "X_train, X_test, y_train, y_test = train_test_split(\n",
    "    X, y, test_size=0.2, random_state=42\n",
    ")\n",
    "\n",
    "numeric_pipeline = Pipeline(steps=[\n",
    "    (\"imputer\", SimpleImputer(strategy=\"median\")),\n",
    "    (\"scaler\", StandardScaler())\n",
    "])\n",
    "\n",
    "categorical_pipeline = Pipeline(steps=[\n",
    "    (\"imputer\", SimpleImputer(strategy=\"most_frequent\")),\n",
    "    (\"ohe\", OneHotEncoder(handle_unknown=\"ignore\", sparse=False))\n",
    "])\n",
    "\n",
    "preprocessor = ColumnTransformer(transformers=[\n",
    "    (\"num\", numeric_pipeline, num_features),\n",
    "    (\"cat\", categorical_pipeline, cat_features)\n",
    "])"
   ]
  },
  {
   "cell_type": "markdown",
   "metadata": {},
   "source": [
    "## Обучение моделей"
   ]
  },
  {
   "cell_type": "markdown",
   "metadata": {},
   "source": [
    "На данном этапе проводится обучение нескольких моделей машинного обучения для предсказания стоимости автомобилей.  \n",
    "Выбор сделан в пользу трёх подходов: линейная модель с регуляризацией (Ridge), ансамблевый метод на основе решающих деревьев (RandomForest) и градиентный бустинг (LightGBM).  \n",
    "Каждая из моделей представляет разные классы алгоритмов и позволяет оценить, какой подход лучше подходит для поставленной задачи.\n",
    "\n",
    "Для каждой модели выполняются следующие шаги:\n",
    "- построение пайплайна с единым препроцессингом (обработка числовых и категориальных признаков);\n",
    "- подбор гиперпараметров (для Ridge и LightGBM — небольшая сетка, для RandomForest фиксированные значения);\n",
    "- обучение на тренировочной выборке;\n",
    "- измерение времени обучения модели;\n",
    "- предсказание на тестовой выборке и замер времени предсказания;\n",
    "- вычисление метрики качества RMSE.\n",
    "\n",
    "Особое внимание уделяется времени обучения и предсказания, так как это один из ключевых критериев заказчика.  \n",
    "Согласно требованиям, значение RMSE на тестовой выборке должно быть меньше **2500**.  \n",
    "Итогом данного этапа станет выбор наиболее подходящей модели по совокупности трёх факторов: качество предсказания, скорость обучения и скорость работы при прогнозировании."
   ]
  },
  {
   "cell_type": "code",
   "execution_count": 20,
   "metadata": {},
   "outputs": [
    {
     "name": "stdout",
     "output_type": "stream",
     "text": [
      "Ridge → {'model__alpha': 2.0} | CV RMSE: 2698.36 | fit_time: 2.864s | score_time: 0.700s\n"
     ]
    }
   ],
   "source": [
    "# 7.1 Модель 1: Ridge (с CV)\n",
    "pipe_ridge = Pipeline([(\"prep\", preprocessor),\n",
    "                       (\"model\", Ridge(random_state=42))])\n",
    "grid_ridge = {\"model__alpha\": [0.5, 1.0, 2.0]}\n",
    "\n",
    "gs_ridge = GridSearchCV(pipe_ridge, grid_ridge,\n",
    "                        scoring=\"neg_root_mean_squared_error\",\n",
    "                        cv=3, n_jobs=-1, refit=True)\n",
    "gs_ridge.fit(X_train, y_train)\n",
    "\n",
    "idx = gs_ridge.best_index_\n",
    "print(\"Ridge →\", gs_ridge.best_params_,\n",
    "      f\"| CV RMSE: {-gs_ridge.best_score_:.2f}\"\n",
    "      f\" | fit_time: {gs_ridge.cv_results_['mean_fit_time'][idx]:.3f}s\"\n",
    "      f\" | score_time: {gs_ridge.cv_results_['mean_score_time'][idx]:.3f}s\")"
   ]
  },
  {
   "cell_type": "code",
   "execution_count": 18,
   "metadata": {},
   "outputs": [
    {
     "name": "stdout",
     "output_type": "stream",
     "text": [
      "RandomForest → {'model__max_depth': None, 'model__min_samples_leaf': 1} | CV RMSE: 1697.17 | fit_time: 61.783s | score_time: 5.115s\n"
     ]
    }
   ],
   "source": [
    "# 7.2 Модель 2: RandomForest\n",
    "pipe_rf = Pipeline([(\"prep\", preprocessor),\n",
    "                    (\"model\", RandomForestRegressor(\n",
    "                        n_estimators=100,      # меньше деревьев → быстрее\n",
    "                        max_features=\"sqrt\",\n",
    "                        max_samples=0.7,      # сабсэмплинг данных → ускорение ×2\n",
    "                        n_jobs=-1,\n",
    "                        random_state=42\n",
    "                    ))])\n",
    "\n",
    "# Мини-грид \n",
    "grid_rf = {\n",
    "    \"model__max_depth\": [20, None],\n",
    "    \"model__min_samples_leaf\": [1, 3]\n",
    "}\n",
    "\n",
    "gs_rf = GridSearchCV(pipe_rf, grid_rf,\n",
    "                     scoring=\"neg_root_mean_squared_error\",\n",
    "                     cv=3,       # вместо 5 → быстрее на ~40%\n",
    "                     n_jobs=-1, refit=True)\n",
    "\n",
    "gs_rf.fit(X_train, y_train)\n",
    "\n",
    "idx = gs_rf.best_index_\n",
    "print(\"RandomForest →\", gs_rf.best_params_,\n",
    "      f\"| CV RMSE: {-gs_rf.best_score_:.2f}\"\n",
    "      f\" | fit_time: {gs_rf.cv_results_['mean_fit_time'][idx]:.3f}s\"\n",
    "      f\" | score_time: {gs_rf.cv_results_['mean_score_time'][idx]:.3f}s\")"
   ]
  },
  {
   "cell_type": "code",
   "execution_count": 19,
   "metadata": {},
   "outputs": [
    {
     "name": "stdout",
     "output_type": "stream",
     "text": [
      "LightGBM → {'model__learning_rate': 0.1, 'model__n_estimators': 700} | CV RMSE: 1661.58 | fit_time: 20.958s | score_time: 5.372s\n"
     ]
    }
   ],
   "source": [
    "# 7.3 Модель 3: LightGBM\n",
    "pipe_lgbm = Pipeline([(\"prep\", preprocessor),\n",
    "                      (\"model\", LGBMRegressor(random_state=42, n_jobs=-1))])\n",
    "\n",
    "# Мини-сетка\n",
    "grid_lgbm = {\n",
    "    \"model__n_estimators\": [400, 700],\n",
    "    \"model__learning_rate\": [0.1]\n",
    "}\n",
    "\n",
    "gs_lgbm = GridSearchCV(\n",
    "    estimator=pipe_lgbm,\n",
    "    param_grid=grid_lgbm,\n",
    "    scoring=\"neg_root_mean_squared_error\",\n",
    "    cv=3,              # меньше фолдов → быстрее, CV сохраняется\n",
    "    n_jobs=-1,\n",
    "    refit=True,\n",
    "    verbose=0\n",
    ")\n",
    "gs_lgbm.fit(X_train, y_train)\n",
    "\n",
    "idx = gs_lgbm.best_index_\n",
    "print(\"LightGBM →\", gs_lgbm.best_params_,\n",
    "      f\"| CV RMSE: {-gs_lgbm.best_score_:.2f}\"\n",
    "      f\" | fit_time: {gs_lgbm.cv_results_['mean_fit_time'][idx]:.3f}s\"\n",
    "      f\" | score_time: {gs_lgbm.cv_results_['mean_score_time'][idx]:.3f}s\")"
   ]
  },
  {
   "cell_type": "markdown",
   "metadata": {},
   "source": [
    "## Сравнение моделей (по кросс-валидации на тренировочной выборке)\n",
    "\n",
    "> Исправлено по замечанию ревьюера: сравнение и подбор гиперпараметров выполняются **только на тренировочной выборке** с помощью **кросс-валидации (cv=3)**.  \n",
    "> Тестовая выборка остаётся **только для финальной независимой проверки** выбранной модели.\n",
    "\n",
    "| Модель        | CV RMSE ↓ | Среднее время fit (s) | Среднее время predict/score (s) |\n",
    "|---------------|-----------:|----------------------:|---------------------------------:|\n",
    "| `Ridge`       | 2698.36    | 2.864                 | 0.700                            |\n",
    "| `RandomForest`| 1697.17    | 61.783                | 5.115                            |\n",
    "| `LightGBM`    | **1661.58**| 20.958                | 5.372                            |\n",
    "\n",
    "Вывод по CV\n",
    "- **Ridge** — самый быстрый, но качество выше целевого порога (RMSE < 2500) → модель не рассматривается.  \n",
    "- **RandomForest** — RMSE < 2500, но время обучения значительно больше.  \n",
    "- **LightGBM** — **лучший CV-результат по RMSE** при умеренном времени обучения и предсказания → выбран как основной кандидат."
   ]
  },
  {
   "cell_type": "markdown",
   "metadata": {},
   "source": [
    "## Проверка на тестовой выборке"
   ]
  },
  {
   "cell_type": "code",
   "execution_count": 21,
   "metadata": {},
   "outputs": [
    {
     "name": "stdout",
     "output_type": "stream",
     "text": [
      "LightGBM (final) | test RMSE: 1638.76 | fit: 34.962s | predict: 3.901s\n"
     ]
    }
   ],
   "source": [
    "# Финальная модель LightGBM с выбранными параметрами\n",
    "final_lgbm = Pipeline([\n",
    "    (\"prep\", preprocessor),\n",
    "    (\"model\", LGBMRegressor(\n",
    "        n_estimators=700,\n",
    "        learning_rate=0.1,\n",
    "        random_state=42,\n",
    "        n_jobs=-1\n",
    "    ))\n",
    "])\n",
    "\n",
    "# Обучение на всей train-выборке\n",
    "t0 = time.perf_counter()\n",
    "final_lgbm.fit(X_train, y_train)\n",
    "fit_time = time.perf_counter() - t0\n",
    "\n",
    "# Предсказание на test-выборке\n",
    "t1 = time.perf_counter()\n",
    "y_pred = final_lgbm.predict(X_test)\n",
    "pred_time = time.perf_counter() - t1\n",
    "\n",
    "# RMSE на тестовой выборке\n",
    "rmse_test = mean_squared_error(y_test, y_pred, squared=False)\n",
    "\n",
    "print(f\"LightGBM (final) | test RMSE: {rmse_test:.2f} \"\n",
    "      f\"| fit: {fit_time:.3f}s | predict: {pred_time:.3f}s\")"
   ]
  },
  {
   "cell_type": "markdown",
   "metadata": {},
   "source": [
    "**Проверка на тестовой выборке**\n",
    "\n",
    "**Финальная модель:** `LightGBM`  \n",
    "**Параметры:** `n_estimators=700`, `learning_rate=0.1`, `random_state=42`  \n",
    "\n",
    "**Результаты:**\n",
    "- **RMSE на тесте:** 1638.76  \n",
    "- **Время обучения:** 34.962 сек  \n",
    "- **Время предсказания:** 3.901 сек  \n",
    "\n",
    "**Вывод:**  \n",
    "- Модель демонстрирует RMSE значительно ниже требуемого порога 2500, что подтверждает её высокое качество.  \n",
    "- Время обучения и предсказания находятся в разумных пределах: обучение занимает меньше минуты, а предсказания выполняются очень быстро.  \n",
    "- `LightGBM` подтвердил своё лидерство и на тестовой выборке, обеспечив наилучший баланс между точностью и скоростью.  \n",
    "\n",
    "**Модель LightGBM является оптимальным выбором для задачи прогнозирования рыночной стоимости автомобилей.**"
   ]
  },
  {
   "cell_type": "markdown",
   "metadata": {},
   "source": [
    "**Визуальный анализ качества модели**\n",
    "\n",
    "Для финальной проверки качества полезно дополнительно визуализировать результаты:  \n",
    "- график рассеяния (`y_test` vs `y_pred`) показывает, насколько предсказания совпадают с реальными значениями;  \n",
    "- гистограмма ошибок отражает распределение остатков и позволяет выявить смещение или наличие выбросов.  "
   ]
  },
  {
   "cell_type": "code",
   "execution_count": 22,
   "metadata": {},
   "outputs": [
    {
     "data": {
      "image/png": "[encoded data removed]",
      "text/plain": [
       "<Figure size 504x504 with 1 Axes>"
      ]
     },
     "metadata": {
      "needs_background": "light"
     },
     "output_type": "display_data"
    },
    {
     "data": {
      "image/png": "[encoded data removed]",
      "text/plain": [
       "<Figure size 576x360 with 1 Axes>"
      ]
     },
     "metadata": {
      "needs_background": "light"
     },
     "output_type": "display_data"
    }
   ],
   "source": [
    "# === Истинные цены vs Предсказания ===\n",
    "plt.figure(figsize=(7, 7))\n",
    "sns.scatterplot(x=y_test, y=y_pred, alpha=0.3, edgecolor=None)\n",
    "plt.plot([y_test.min(), y_test.max()], [y_test.min(), y_test.max()],\n",
    "         'r--', lw=2, label=\"Идеальное совпадение\")\n",
    "plt.xlabel(\"Истинная цена\")\n",
    "plt.ylabel(\"Предсказанная цена\")\n",
    "plt.title(\"LightGBM: Истинные значения vs Предсказания\")\n",
    "plt.legend()\n",
    "plt.grid(True, linestyle=\"--\", alpha=0.6)\n",
    "plt.show()\n",
    "\n",
    "# === Histogram: Ошибки (остатки) ===\n",
    "errors = y_test - y_pred\n",
    "plt.figure(figsize=(8, 5))\n",
    "sns.histplot(errors, bins=50, kde=True, color=\"royalblue\")\n",
    "plt.xlabel(\"Ошибка (y_test - y_pred)\")\n",
    "plt.ylabel(\"Количество\")\n",
    "plt.title(\"Распределение ошибок модели LightGBM\")\n",
    "plt.grid(True, linestyle=\"--\", alpha=0.6)\n",
    "plt.show()"
   ]
  },
  {
   "cell_type": "markdown",
   "metadata": {},
   "source": [
    "**Вывод по визуализации результатов LightGBM**\n",
    "\n",
    "1. **График \"Истинные значения vs Предсказания\"**  \n",
    "   - Точки распределены вдоль диагонали, что говорит о хорошей согласованности модели с реальными ценами.  \n",
    "   - Наблюдается некоторая дисперсия: часть объектов отклоняется от линии идеального совпадения, особенно в области низких и очень высоких цен.  \n",
    "   - В целом модель адекватно предсказывает цены, но для экстремальных значений возможны ошибки.\n",
    "\n",
    "2. **График распределения ошибок**  \n",
    "   - Большая часть ошибок сосредоточена около нуля, что подтверждает точность предсказаний.  \n",
    "   - Распределение симметричное и с выраженным пиком, что является положительным признаком.  \n",
    "   - Встречаются выбросы (ошибки > ±10000), что связано с редкими или аномальными объявлениями.\n",
    "\n",
    "---  \n",
    "Модель **LightGBM** демонстрирует высокое качество предсказаний: большинство ошибок невелики и распределены нормально. Наличие отдельных крупных выбросов не критично для общей картины. Модель можно считать устойчивой и пригодной для практического применения в задаче прогнозирования стоимости автомобилей."
   ]
  },
  {
   "cell_type": "markdown",
   "metadata": {},
   "source": [
    "## Вывод по проекту"
   ]
  },
  {
   "cell_type": "markdown",
   "metadata": {},
   "source": [
    "# Итоговый вывод по проекту\n",
    "\n",
    "**Цель проекта**  \n",
    "Разработать модель для определения рыночной стоимости автомобилей по техническим характеристикам, комплектации и другим признакам.  \n",
    "Ключевые критерии заказчика:\n",
    "- метрика качества: RMSE < 2500;\n",
    "- учитывать время обучения;\n",
    "- учитывать время предсказания.\n",
    "\n",
    "---\n",
    "\n",
    "## Этапы работы\n",
    "\n",
    "1. **Загрузка и исследование данных**\n",
    "- Датасет: **354 369 записей**, 16 признаков.  \n",
    "- Найдены пропуски, выбросы и неинформативные признаки.  \n",
    "- Признак `NumberOfPictures` удалён как бесполезный (все значения = 0).  \n",
    "\n",
    "2. **Предобработка**\n",
    "- Обработка пропусков:\n",
    "  - категориальные признаки → мода или `\"unknown\"`;\n",
    "  - числовые признаки → медиана.  \n",
    "- Нормализация категориальных значений (устранение дубликатов).  \n",
    "- Столбцы с датами переведены в формат `datetime`.  \n",
    "- Аномальные значения в `RegistrationYear` и `Power` отфильтрованы.  \n",
    "- Удалён неинформативный признак `PostalCode`.  \n",
    "\n",
    "3. **EDA**\n",
    "- Построены распределения числовых и категориальных признаков.  \n",
    "- Обнаружены выбросы в `RegistrationYear` и `Power` → ограничены диапазоны.  \n",
    "- В `RegistrationMonth` некорректные нули оставлены как отдельная категория.  \n",
    "\n",
    "4. **Подготовка выборок**\n",
    "- Данные разделены на обучающую и тестовую выборки:  \n",
    "  - `X_train`: 250 763 записей;  \n",
    "  - `X_test`: 62 691 запись.  \n",
    "- Целевой признак: `Price`.\n",
    "\n",
    "5. **Обучение моделей**\n",
    "Все модели обучены с использованием кросс-валидации (cv=3) для честного сравнения.  \n",
    "\n",
    "- **Ridge Regression**  \n",
    "  - CV RMSE: ≈ 2698  \n",
    "  - fit: ~2.9s | score_time: ~0.7s  \n",
    "  - ➡️ Быстрое обучение, но ошибка выше порога → модель отбрасывается.  \n",
    "\n",
    "- **RandomForest Regressor**  \n",
    "  - CV RMSE: ≈ 1697  \n",
    "  - fit: ~62s | score_time: ~5.1s  \n",
    "  - ➡️ Качество удовлетворяет условию, но время обучения слишком велико.  \n",
    "\n",
    "- **LightGBM**  \n",
    "  - CV RMSE: ≈ 1662  \n",
    "  - Test RMSE: **1639**  \n",
    "  - fit: ~35s | predict: ~3.9s  \n",
    "  - ➡️ Лучшее качество среди моделей, время предсказаний в разумных пределах.  \n",
    "\n",
    "---\n",
    "\n",
    "## Итоги и выводы\n",
    "- Данные были очищены, пропуски и выбросы обработаны, категориальные признаки закодированы.  \n",
    "- Сравнение моделей проведено на этапе кросс-валидации, а тестовая выборка использована **только для финальной проверки**.  \n",
    "- **Ridge** — слишком высокая ошибка.  \n",
    "- **RandomForest** — хорошее качество, но очень долгое обучение.  \n",
    "- **LightGBM** — оптимальный баланс между точностью и скоростью:  \n",
    "  - RMSE на тесте **1639** (< 2500);  \n",
    "  - обучение занимает дольше, чем у Ridge, но быстрее, чем у RandomForest;  \n",
    "  - предсказания выполняются быстро и подходят для эксплуатации.  \n",
    "\n",
    "**Финальное решение**: модель **LightGBM** рекомендуется для внедрения в сервис «Не бит, не крашен» как наиболее надёжная и эффективная для задачи оценки рыночной стоимости автомобилей."
   ]
  }
 ],
 "metadata": {
  "ExecuteTimeLog": [
   {
    "duration": 1610,
    "start_time": "2025-09-02T08:34:07.789Z"
   },
   {
    "duration": 1053,
    "start_time": "2025-09-02T08:39:02.204Z"
   },
   {
    "duration": 7,
    "start_time": "2025-09-02T08:47:23.784Z"
   },
   {
    "duration": 269,
    "start_time": "2025-09-02T08:54:23.480Z"
   },
   {
    "duration": 42,
    "start_time": "2025-09-02T08:58:42.405Z"
   },
   {
    "duration": 135,
    "start_time": "2025-09-02T09:00:44.524Z"
   },
   {
    "duration": 1597,
    "start_time": "2025-09-02T09:00:54.938Z"
   },
   {
    "duration": 1129,
    "start_time": "2025-09-02T09:00:56.538Z"
   },
   {
    "duration": 308,
    "start_time": "2025-09-02T09:00:57.668Z"
   },
   {
    "duration": 43,
    "start_time": "2025-09-02T09:00:57.978Z"
   },
   {
    "duration": 500,
    "start_time": "2025-09-02T09:01:55.932Z"
   },
   {
    "duration": 497,
    "start_time": "2025-09-02T09:02:04.727Z"
   },
   {
    "duration": 597,
    "start_time": "2025-09-02T09:02:08.408Z"
   },
   {
    "duration": 1089,
    "start_time": "2025-09-02T09:03:06.798Z"
   },
   {
    "duration": 236,
    "start_time": "2025-09-02T09:08:38.536Z"
   },
   {
    "duration": 110,
    "start_time": "2025-09-02T09:08:44.043Z"
   },
   {
    "duration": 275,
    "start_time": "2025-09-02T09:08:48.963Z"
   },
   {
    "duration": 93,
    "start_time": "2025-09-02T09:08:58.393Z"
   },
   {
    "duration": 1388,
    "start_time": "2025-09-02T09:09:04.986Z"
   },
   {
    "duration": 985,
    "start_time": "2025-09-02T09:09:06.376Z"
   },
   {
    "duration": 274,
    "start_time": "2025-09-02T09:09:07.362Z"
   },
   {
    "duration": 293,
    "start_time": "2025-09-02T09:09:07.638Z"
   },
   {
    "duration": 32,
    "start_time": "2025-09-02T09:09:07.933Z"
   },
   {
    "duration": 285,
    "start_time": "2025-09-02T09:09:07.966Z"
   },
   {
    "duration": 93,
    "start_time": "2025-09-02T09:09:08.253Z"
   },
   {
    "duration": 349,
    "start_time": "2025-09-02T09:09:31.367Z"
   },
   {
    "duration": 280,
    "start_time": "2025-09-02T09:09:35.708Z"
   },
   {
    "duration": 19,
    "start_time": "2025-09-02T09:20:31.561Z"
   },
   {
    "duration": 38,
    "start_time": "2025-09-02T09:20:43.255Z"
   },
   {
    "duration": 115,
    "start_time": "2025-09-02T09:26:49.026Z"
   },
   {
    "duration": 95,
    "start_time": "2025-09-02T09:31:17.697Z"
   },
   {
    "duration": 1587,
    "start_time": "2025-09-02T09:32:55.250Z"
   },
   {
    "duration": 73,
    "start_time": "2025-09-02T12:58:57.544Z"
   },
   {
    "duration": 6,
    "start_time": "2025-09-02T12:59:03.638Z"
   },
   {
    "duration": 1774,
    "start_time": "2025-09-03T02:51:50.616Z"
   },
   {
    "duration": 1105,
    "start_time": "2025-09-03T02:51:52.392Z"
   },
   {
    "duration": 300,
    "start_time": "2025-09-03T02:51:53.498Z"
   },
   {
    "duration": 324,
    "start_time": "2025-09-03T02:51:53.800Z"
   },
   {
    "duration": 35,
    "start_time": "2025-09-03T02:51:54.126Z"
   },
   {
    "duration": 339,
    "start_time": "2025-09-03T02:51:54.171Z"
   },
   {
    "duration": 785,
    "start_time": "2025-09-03T02:51:54.511Z"
   },
   {
    "duration": 589,
    "start_time": "2025-09-03T02:51:55.298Z"
   },
   {
    "duration": 20,
    "start_time": "2025-09-03T02:51:55.889Z"
   },
   {
    "duration": 160,
    "start_time": "2025-09-03T02:51:55.911Z"
   },
   {
    "duration": 213,
    "start_time": "2025-09-03T02:51:56.073Z"
   },
   {
    "duration": 2308,
    "start_time": "2025-09-03T02:51:56.288Z"
   },
   {
    "duration": 124,
    "start_time": "2025-09-03T02:51:58.597Z"
   },
   {
    "duration": 8,
    "start_time": "2025-09-03T02:52:11.249Z"
   },
   {
    "duration": 10034,
    "start_time": "2025-09-03T02:55:19.201Z"
   },
   {
    "duration": 74,
    "start_time": "2025-09-03T03:04:22.590Z"
   },
   {
    "duration": 80,
    "start_time": "2025-09-03T03:05:22.762Z"
   },
   {
    "duration": 1546,
    "start_time": "2025-09-03T03:05:30.255Z"
   },
   {
    "duration": 1144,
    "start_time": "2025-09-03T03:05:31.804Z"
   },
   {
    "duration": 311,
    "start_time": "2025-09-03T03:05:32.950Z"
   },
   {
    "duration": 336,
    "start_time": "2025-09-03T03:05:33.263Z"
   },
   {
    "duration": 34,
    "start_time": "2025-09-03T03:05:33.602Z"
   },
   {
    "duration": 332,
    "start_time": "2025-09-03T03:05:33.639Z"
   },
   {
    "duration": 380,
    "start_time": "2025-09-03T03:05:33.973Z"
   },
   {
    "duration": 268,
    "start_time": "2025-09-03T03:05:34.355Z"
   },
   {
    "duration": 21,
    "start_time": "2025-09-03T03:05:34.625Z"
   },
   {
    "duration": 139,
    "start_time": "2025-09-03T03:05:34.648Z"
   },
   {
    "duration": 106,
    "start_time": "2025-09-03T03:05:34.789Z"
   },
   {
    "duration": 10875,
    "start_time": "2025-09-03T03:05:34.897Z"
   },
   {
    "duration": 8497,
    "start_time": "2025-09-03T03:05:45.774Z"
   },
   {
    "duration": 7908,
    "start_time": "2025-09-03T03:08:26.292Z"
   },
   {
    "duration": 7732,
    "start_time": "2025-09-03T03:09:23.160Z"
   },
   {
    "duration": 712,
    "start_time": "2025-09-03T03:16:43.309Z"
   },
   {
    "duration": 884,
    "start_time": "2025-09-03T03:20:20.440Z"
   },
   {
    "duration": 696,
    "start_time": "2025-09-03T03:22:00.213Z"
   },
   {
    "duration": 874,
    "start_time": "2025-09-03T03:24:27.399Z"
   },
   {
    "duration": 813,
    "start_time": "2025-09-03T03:25:33.776Z"
   },
   {
    "duration": 182,
    "start_time": "2025-09-03T03:30:37.450Z"
   },
   {
    "duration": 1525,
    "start_time": "2025-09-03T03:30:42.286Z"
   },
   {
    "duration": 1066,
    "start_time": "2025-09-03T03:30:43.813Z"
   },
   {
    "duration": 308,
    "start_time": "2025-09-03T03:30:44.880Z"
   },
   {
    "duration": 266,
    "start_time": "2025-09-03T03:30:45.190Z"
   },
   {
    "duration": 308,
    "start_time": "2025-09-03T03:30:45.458Z"
   },
   {
    "duration": 34,
    "start_time": "2025-09-03T03:30:45.771Z"
   },
   {
    "duration": 282,
    "start_time": "2025-09-03T03:30:45.807Z"
   },
   {
    "duration": 319,
    "start_time": "2025-09-03T03:30:46.091Z"
   },
   {
    "duration": 287,
    "start_time": "2025-09-03T03:30:46.411Z"
   },
   {
    "duration": 20,
    "start_time": "2025-09-03T03:30:46.700Z"
   },
   {
    "duration": 131,
    "start_time": "2025-09-03T03:30:46.722Z"
   },
   {
    "duration": 106,
    "start_time": "2025-09-03T03:30:46.855Z"
   },
   {
    "duration": 10761,
    "start_time": "2025-09-03T03:30:46.963Z"
   },
   {
    "duration": 8661,
    "start_time": "2025-09-03T03:30:57.726Z"
   },
   {
    "duration": 1008,
    "start_time": "2025-09-03T03:31:06.388Z"
   },
   {
    "duration": 73,
    "start_time": "2025-09-03T03:39:58.332Z"
   },
   {
    "duration": 99,
    "start_time": "2025-09-03T04:18:43.340Z"
   },
   {
    "duration": 89191,
    "start_time": "2025-09-03T04:18:58.785Z"
   },
   {
    "duration": 79,
    "start_time": "2025-09-03T04:24:08.665Z"
   },
   {
    "duration": 1523,
    "start_time": "2025-09-03T04:26:29.082Z"
   },
   {
    "duration": 1121,
    "start_time": "2025-09-03T04:26:30.606Z"
   },
   {
    "duration": 298,
    "start_time": "2025-09-03T04:26:31.728Z"
   },
   {
    "duration": 327,
    "start_time": "2025-09-03T04:26:32.029Z"
   },
   {
    "duration": 315,
    "start_time": "2025-09-03T04:26:32.358Z"
   },
   {
    "duration": 34,
    "start_time": "2025-09-03T04:26:32.675Z"
   },
   {
    "duration": 284,
    "start_time": "2025-09-03T04:26:32.711Z"
   },
   {
    "duration": 304,
    "start_time": "2025-09-03T04:26:32.997Z"
   },
   {
    "duration": 276,
    "start_time": "2025-09-03T04:26:33.303Z"
   },
   {
    "duration": 19,
    "start_time": "2025-09-03T04:26:33.580Z"
   },
   {
    "duration": 135,
    "start_time": "2025-09-03T04:26:33.601Z"
   },
   {
    "duration": 106,
    "start_time": "2025-09-03T04:26:33.738Z"
   },
   {
    "duration": 10077,
    "start_time": "2025-09-03T04:26:33.847Z"
   },
   {
    "duration": 7939,
    "start_time": "2025-09-03T04:26:43.925Z"
   },
   {
    "duration": 1036,
    "start_time": "2025-09-03T04:26:51.870Z"
   },
   {
    "duration": 94,
    "start_time": "2025-09-03T04:26:52.908Z"
   },
   {
    "duration": 4,
    "start_time": "2025-09-03T04:27:19.030Z"
   },
   {
    "duration": 1559,
    "start_time": "2025-09-03T04:33:16.140Z"
   },
   {
    "duration": 1099,
    "start_time": "2025-09-03T04:33:17.702Z"
   },
   {
    "duration": 314,
    "start_time": "2025-09-03T04:33:18.803Z"
   },
   {
    "duration": 269,
    "start_time": "2025-09-03T04:33:19.119Z"
   },
   {
    "duration": 318,
    "start_time": "2025-09-03T04:33:19.389Z"
   },
   {
    "duration": 35,
    "start_time": "2025-09-03T04:33:19.709Z"
   },
   {
    "duration": 292,
    "start_time": "2025-09-03T04:33:19.746Z"
   },
   {
    "duration": 319,
    "start_time": "2025-09-03T04:33:20.040Z"
   },
   {
    "duration": 282,
    "start_time": "2025-09-03T04:33:20.360Z"
   },
   {
    "duration": 32,
    "start_time": "2025-09-03T04:33:20.645Z"
   },
   {
    "duration": 129,
    "start_time": "2025-09-03T04:33:20.679Z"
   },
   {
    "duration": 118,
    "start_time": "2025-09-03T04:33:20.809Z"
   },
   {
    "duration": 10287,
    "start_time": "2025-09-03T04:33:20.929Z"
   },
   {
    "duration": 9169,
    "start_time": "2025-09-03T04:33:31.218Z"
   },
   {
    "duration": 1341,
    "start_time": "2025-09-03T04:33:40.389Z"
   },
   {
    "duration": 92,
    "start_time": "2025-09-03T04:33:41.732Z"
   },
   {
    "duration": 70119,
    "start_time": "2025-09-03T04:35:39.861Z"
   },
   {
    "duration": 1499,
    "start_time": "2025-09-03T05:02:54.008Z"
   },
   {
    "duration": 1097,
    "start_time": "2025-09-03T05:02:55.509Z"
   },
   {
    "duration": 305,
    "start_time": "2025-09-03T05:02:56.608Z"
   },
   {
    "duration": 265,
    "start_time": "2025-09-03T05:02:56.915Z"
   },
   {
    "duration": 315,
    "start_time": "2025-09-03T05:02:57.182Z"
   },
   {
    "duration": 34,
    "start_time": "2025-09-03T05:02:57.498Z"
   },
   {
    "duration": 290,
    "start_time": "2025-09-03T05:02:57.533Z"
   },
   {
    "duration": 317,
    "start_time": "2025-09-03T05:02:57.824Z"
   },
   {
    "duration": 274,
    "start_time": "2025-09-03T05:02:58.143Z"
   },
   {
    "duration": 20,
    "start_time": "2025-09-03T05:02:58.419Z"
   },
   {
    "duration": 138,
    "start_time": "2025-09-03T05:02:58.441Z"
   },
   {
    "duration": 124,
    "start_time": "2025-09-03T05:02:58.581Z"
   },
   {
    "duration": 10341,
    "start_time": "2025-09-03T05:02:58.707Z"
   },
   {
    "duration": 8090,
    "start_time": "2025-09-03T05:03:09.049Z"
   },
   {
    "duration": 1085,
    "start_time": "2025-09-03T05:03:17.141Z"
   },
   {
    "duration": 93,
    "start_time": "2025-09-03T05:03:18.229Z"
   },
   {
    "duration": 70254,
    "start_time": "2025-09-03T05:03:18.324Z"
   },
   {
    "duration": 1706,
    "start_time": "2025-09-03T07:02:01.724Z"
   },
   {
    "duration": 1266,
    "start_time": "2025-09-03T07:02:03.432Z"
   },
   {
    "duration": 355,
    "start_time": "2025-09-03T07:02:04.700Z"
   },
   {
    "duration": 313,
    "start_time": "2025-09-03T07:02:05.057Z"
   },
   {
    "duration": 328,
    "start_time": "2025-09-03T07:02:05.384Z"
   },
   {
    "duration": 36,
    "start_time": "2025-09-03T07:02:05.713Z"
   },
   {
    "duration": 348,
    "start_time": "2025-09-03T07:02:05.751Z"
   },
   {
    "duration": 390,
    "start_time": "2025-09-03T07:02:06.101Z"
   },
   {
    "duration": 332,
    "start_time": "2025-09-03T07:02:06.493Z"
   },
   {
    "duration": 21,
    "start_time": "2025-09-03T07:02:06.827Z"
   },
   {
    "duration": 172,
    "start_time": "2025-09-03T07:02:06.850Z"
   },
   {
    "duration": 164,
    "start_time": "2025-09-03T07:02:07.024Z"
   },
   {
    "duration": 11574,
    "start_time": "2025-09-03T07:02:07.190Z"
   },
   {
    "duration": 8639,
    "start_time": "2025-09-03T07:02:18.767Z"
   },
   {
    "duration": 1116,
    "start_time": "2025-09-03T07:02:27.408Z"
   },
   {
    "duration": 108,
    "start_time": "2025-09-03T07:02:28.526Z"
   },
   {
    "duration": 106734,
    "start_time": "2025-09-03T07:02:28.636Z"
   },
   {
    "duration": 133284,
    "start_time": "2025-09-03T07:04:15.373Z"
   },
   {
    "duration": 125852,
    "start_time": "2025-09-03T07:08:37.544Z"
   },
   {
    "duration": 1569,
    "start_time": "2025-09-03T07:19:44.840Z"
   },
   {
    "duration": 1243,
    "start_time": "2025-09-03T07:19:46.411Z"
   },
   {
    "duration": 357,
    "start_time": "2025-09-03T07:19:47.656Z"
   },
   {
    "duration": 311,
    "start_time": "2025-09-03T07:19:48.014Z"
   },
   {
    "duration": 371,
    "start_time": "2025-09-03T07:19:48.327Z"
   },
   {
    "duration": 35,
    "start_time": "2025-09-03T07:19:48.700Z"
   },
   {
    "duration": 352,
    "start_time": "2025-09-03T07:19:48.737Z"
   },
   {
    "duration": 347,
    "start_time": "2025-09-03T07:19:49.090Z"
   },
   {
    "duration": 319,
    "start_time": "2025-09-03T07:19:49.438Z"
   },
   {
    "duration": 36,
    "start_time": "2025-09-03T07:19:49.759Z"
   },
   {
    "duration": 147,
    "start_time": "2025-09-03T07:19:49.797Z"
   },
   {
    "duration": 131,
    "start_time": "2025-09-03T07:19:49.946Z"
   },
   {
    "duration": 11265,
    "start_time": "2025-09-03T07:19:50.082Z"
   },
   {
    "duration": 8869,
    "start_time": "2025-09-03T07:20:01.350Z"
   },
   {
    "duration": 1160,
    "start_time": "2025-09-03T07:20:10.221Z"
   },
   {
    "duration": 82,
    "start_time": "2025-09-03T07:20:11.385Z"
   },
   {
    "duration": 127208,
    "start_time": "2025-09-03T07:20:11.471Z"
   },
   {
    "duration": 141500,
    "start_time": "2025-09-03T07:22:18.684Z"
   },
   {
    "duration": 727704,
    "start_time": "2025-09-03T07:24:40.186Z"
   },
   {
    "duration": 1663,
    "start_time": "2025-09-03T07:50:31.470Z"
   },
   {
    "duration": 1273,
    "start_time": "2025-09-03T07:50:33.135Z"
   },
   {
    "duration": 350,
    "start_time": "2025-09-03T07:50:34.410Z"
   },
   {
    "duration": 344,
    "start_time": "2025-09-03T07:50:34.763Z"
   },
   {
    "duration": 376,
    "start_time": "2025-09-03T07:50:35.109Z"
   },
   {
    "duration": 37,
    "start_time": "2025-09-03T07:50:35.488Z"
   },
   {
    "duration": 350,
    "start_time": "2025-09-03T07:50:35.527Z"
   },
   {
    "duration": 365,
    "start_time": "2025-09-03T07:50:35.881Z"
   },
   {
    "duration": 366,
    "start_time": "2025-09-03T07:50:36.247Z"
   },
   {
    "duration": 21,
    "start_time": "2025-09-03T07:50:36.616Z"
   },
   {
    "duration": 185,
    "start_time": "2025-09-03T07:50:36.638Z"
   },
   {
    "duration": 129,
    "start_time": "2025-09-03T07:50:36.824Z"
   },
   {
    "duration": 11513,
    "start_time": "2025-09-03T07:50:36.955Z"
   },
   {
    "duration": 8748,
    "start_time": "2025-09-03T07:50:48.470Z"
   },
   {
    "duration": 1130,
    "start_time": "2025-09-03T07:50:57.220Z"
   },
   {
    "duration": 101,
    "start_time": "2025-09-03T07:50:58.351Z"
   },
   {
    "duration": 127521,
    "start_time": "2025-09-03T07:50:58.453Z"
   },
   {
    "duration": 140661,
    "start_time": "2025-09-03T07:53:05.976Z"
   },
   {
    "duration": 1683,
    "start_time": "2025-09-03T08:08:09.577Z"
   },
   {
    "duration": 1206,
    "start_time": "2025-09-03T08:08:11.263Z"
   },
   {
    "duration": 363,
    "start_time": "2025-09-03T08:08:12.471Z"
   },
   {
    "duration": 342,
    "start_time": "2025-09-03T08:08:12.836Z"
   },
   {
    "duration": 343,
    "start_time": "2025-09-03T08:08:13.181Z"
   },
   {
    "duration": 46,
    "start_time": "2025-09-03T08:08:13.526Z"
   },
   {
    "duration": 306,
    "start_time": "2025-09-03T08:08:13.574Z"
   },
   {
    "duration": 362,
    "start_time": "2025-09-03T08:08:13.882Z"
   },
   {
    "duration": 337,
    "start_time": "2025-09-03T08:08:14.245Z"
   },
   {
    "duration": 26,
    "start_time": "2025-09-03T08:08:14.584Z"
   },
   {
    "duration": 158,
    "start_time": "2025-09-03T08:08:14.613Z"
   },
   {
    "duration": 136,
    "start_time": "2025-09-03T08:08:14.773Z"
   },
   {
    "duration": 11657,
    "start_time": "2025-09-03T08:08:14.911Z"
   },
   {
    "duration": 8973,
    "start_time": "2025-09-03T08:08:26.571Z"
   },
   {
    "duration": 1198,
    "start_time": "2025-09-03T08:08:35.546Z"
   },
   {
    "duration": 107,
    "start_time": "2025-09-03T08:08:36.745Z"
   },
   {
    "duration": 124423,
    "start_time": "2025-09-03T08:08:36.854Z"
   },
   {
    "duration": 139129,
    "start_time": "2025-09-03T08:10:41.280Z"
   },
   {
    "duration": 1714,
    "start_time": "2025-09-03T08:29:16.892Z"
   },
   {
    "duration": 1274,
    "start_time": "2025-09-03T08:29:18.608Z"
   },
   {
    "duration": 351,
    "start_time": "2025-09-03T08:29:19.892Z"
   },
   {
    "duration": 289,
    "start_time": "2025-09-03T08:29:20.245Z"
   },
   {
    "duration": 350,
    "start_time": "2025-09-03T08:29:20.536Z"
   },
   {
    "duration": 40,
    "start_time": "2025-09-03T08:29:20.889Z"
   },
   {
    "duration": 323,
    "start_time": "2025-09-03T08:29:20.931Z"
   },
   {
    "duration": 357,
    "start_time": "2025-09-03T08:29:21.256Z"
   },
   {
    "duration": 318,
    "start_time": "2025-09-03T08:29:21.614Z"
   },
   {
    "duration": 19,
    "start_time": "2025-09-03T08:29:21.934Z"
   },
   {
    "duration": 162,
    "start_time": "2025-09-03T08:29:21.955Z"
   },
   {
    "duration": 154,
    "start_time": "2025-09-03T08:29:22.119Z"
   },
   {
    "duration": 11409,
    "start_time": "2025-09-03T08:29:22.276Z"
   },
   {
    "duration": 8831,
    "start_time": "2025-09-03T08:29:33.694Z"
   },
   {
    "duration": 1171,
    "start_time": "2025-09-03T08:29:42.527Z"
   },
   {
    "duration": 97,
    "start_time": "2025-09-03T08:29:43.700Z"
   },
   {
    "duration": 101690,
    "start_time": "2025-09-03T08:29:43.800Z"
   },
   {
    "duration": 133919,
    "start_time": "2025-09-03T08:31:25.493Z"
   },
   {
    "duration": 4088,
    "start_time": "2025-09-03T08:33:39.414Z"
   },
   {
    "duration": 4898,
    "start_time": "2025-09-03T08:36:13.804Z"
   },
   {
    "duration": 17,
    "start_time": "2025-09-03T08:38:37.703Z"
   },
   {
    "duration": 1615,
    "start_time": "2025-09-03T08:39:44.371Z"
   },
   {
    "duration": 69459,
    "start_time": "2025-09-03T08:41:51.133Z"
   },
   {
    "duration": 1159276,
    "start_time": "2025-09-03T08:44:33.712Z"
   },
   {
    "duration": 1541,
    "start_time": "2025-09-03T09:08:32.564Z"
   },
   {
    "duration": 1138,
    "start_time": "2025-09-03T09:08:34.107Z"
   },
   {
    "duration": 313,
    "start_time": "2025-09-03T09:08:35.246Z"
   },
   {
    "duration": 275,
    "start_time": "2025-09-03T09:08:35.561Z"
   },
   {
    "duration": 342,
    "start_time": "2025-09-03T09:08:35.838Z"
   },
   {
    "duration": 40,
    "start_time": "2025-09-03T09:08:36.183Z"
   },
   {
    "duration": 352,
    "start_time": "2025-09-03T09:08:36.226Z"
   },
   {
    "duration": 348,
    "start_time": "2025-09-03T09:08:36.580Z"
   },
   {
    "duration": 290,
    "start_time": "2025-09-03T09:08:36.929Z"
   },
   {
    "duration": 20,
    "start_time": "2025-09-03T09:08:37.221Z"
   },
   {
    "duration": 149,
    "start_time": "2025-09-03T09:08:37.243Z"
   },
   {
    "duration": 106,
    "start_time": "2025-09-03T09:08:37.394Z"
   },
   {
    "duration": 10427,
    "start_time": "2025-09-03T09:08:37.501Z"
   },
   {
    "duration": 7982,
    "start_time": "2025-09-03T09:08:47.930Z"
   },
   {
    "duration": 1082,
    "start_time": "2025-09-03T09:08:55.914Z"
   },
   {
    "duration": 86,
    "start_time": "2025-09-03T09:08:56.998Z"
   },
   {
    "duration": 72285,
    "start_time": "2025-09-03T09:08:57.086Z"
   },
   {
    "duration": 133784,
    "start_time": "2025-09-03T09:10:09.374Z"
   },
   {
    "duration": 2157117,
    "start_time": "2025-09-03T09:12:23.160Z"
   },
   {
    "duration": 94,
    "start_time": "2025-09-03T12:56:00.513Z"
   },
   {
    "duration": 218499,
    "start_time": "2025-09-03T12:56:44.787Z"
   },
   {
    "duration": 1584,
    "start_time": "2025-09-04T03:57:46.046Z"
   },
   {
    "duration": 1084,
    "start_time": "2025-09-04T03:57:50.971Z"
   },
   {
    "duration": 278,
    "start_time": "2025-09-04T03:57:57.948Z"
   },
   {
    "duration": 257,
    "start_time": "2025-09-04T03:58:02.960Z"
   },
   {
    "duration": 282,
    "start_time": "2025-09-04T03:58:06.437Z"
   },
   {
    "duration": 32,
    "start_time": "2025-09-04T03:58:07.013Z"
   },
   {
    "duration": 251,
    "start_time": "2025-09-04T03:58:10.498Z"
   },
   {
    "duration": 308,
    "start_time": "2025-09-04T03:58:10.751Z"
   },
   {
    "duration": 266,
    "start_time": "2025-09-04T03:58:11.061Z"
   },
   {
    "duration": 18,
    "start_time": "2025-09-04T03:58:12.828Z"
   },
   {
    "duration": 112,
    "start_time": "2025-09-04T03:58:14.834Z"
   },
   {
    "duration": 92,
    "start_time": "2025-09-04T03:58:19.333Z"
   },
   {
    "duration": 9734,
    "start_time": "2025-09-04T03:58:22.162Z"
   },
   {
    "duration": 7148,
    "start_time": "2025-09-04T03:58:59.581Z"
   },
   {
    "duration": 916,
    "start_time": "2025-09-04T04:13:44.577Z"
   },
   {
    "duration": 75,
    "start_time": "2025-09-04T04:13:49.439Z"
   },
   {
    "duration": 85,
    "start_time": "2025-09-04T04:14:00.951Z"
   },
   {
    "duration": 64249,
    "start_time": "2025-09-04T04:14:04.976Z"
   },
   {
    "duration": 1433,
    "start_time": "2025-09-04T05:02:38.374Z"
   },
   {
    "duration": 1091,
    "start_time": "2025-09-04T05:02:39.809Z"
   },
   {
    "duration": 317,
    "start_time": "2025-09-04T05:02:40.902Z"
   },
   {
    "duration": 280,
    "start_time": "2025-09-04T05:02:41.221Z"
   },
   {
    "duration": 319,
    "start_time": "2025-09-04T05:02:41.503Z"
   },
   {
    "duration": 36,
    "start_time": "2025-09-04T05:02:41.824Z"
   },
   {
    "duration": 282,
    "start_time": "2025-09-04T05:02:41.861Z"
   },
   {
    "duration": 302,
    "start_time": "2025-09-04T05:02:42.144Z"
   },
   {
    "duration": 275,
    "start_time": "2025-09-04T05:02:42.448Z"
   },
   {
    "duration": 19,
    "start_time": "2025-09-04T05:02:42.725Z"
   },
   {
    "duration": 134,
    "start_time": "2025-09-04T05:02:42.746Z"
   },
   {
    "duration": 125,
    "start_time": "2025-09-04T05:02:42.883Z"
   },
   {
    "duration": 10118,
    "start_time": "2025-09-04T05:02:43.010Z"
   },
   {
    "duration": 7443,
    "start_time": "2025-09-04T05:02:53.130Z"
   },
   {
    "duration": 977,
    "start_time": "2025-09-04T05:03:00.575Z"
   },
   {
    "duration": 98,
    "start_time": "2025-09-04T05:03:01.555Z"
   },
   {
    "duration": 66776,
    "start_time": "2025-09-04T05:03:01.655Z"
   },
   {
    "duration": 2402877,
    "start_time": "2025-09-04T05:04:08.433Z"
   },
   {
    "duration": 0,
    "start_time": "2025-09-04T05:44:11.312Z"
   },
   {
    "duration": 48,
    "start_time": "2025-09-04T05:44:27.355Z"
   },
   {
    "duration": 1472,
    "start_time": "2025-09-04T05:46:53.041Z"
   },
   {
    "duration": 1025,
    "start_time": "2025-09-04T05:46:54.515Z"
   },
   {
    "duration": 283,
    "start_time": "2025-09-04T05:46:55.542Z"
   },
   {
    "duration": 274,
    "start_time": "2025-09-04T05:46:55.827Z"
   },
   {
    "duration": 316,
    "start_time": "2025-09-04T05:46:56.103Z"
   },
   {
    "duration": 33,
    "start_time": "2025-09-04T05:46:56.420Z"
   },
   {
    "duration": 271,
    "start_time": "2025-09-04T05:46:56.455Z"
   },
   {
    "duration": 298,
    "start_time": "2025-09-04T05:46:56.728Z"
   },
   {
    "duration": 263,
    "start_time": "2025-09-04T05:46:57.028Z"
   },
   {
    "duration": 26,
    "start_time": "2025-09-04T05:46:57.294Z"
   },
   {
    "duration": 123,
    "start_time": "2025-09-04T05:46:57.321Z"
   },
   {
    "duration": 98,
    "start_time": "2025-09-04T05:46:57.446Z"
   },
   {
    "duration": 9967,
    "start_time": "2025-09-04T05:46:57.545Z"
   },
   {
    "duration": 7511,
    "start_time": "2025-09-04T05:47:07.513Z"
   },
   {
    "duration": 950,
    "start_time": "2025-09-04T05:47:15.026Z"
   },
   {
    "duration": 96,
    "start_time": "2025-09-04T05:47:15.978Z"
   },
   {
    "duration": 65846,
    "start_time": "2025-09-04T05:47:16.076Z"
   },
   {
    "duration": 666548,
    "start_time": "2025-09-04T05:48:21.925Z"
   },
   {
    "duration": 212765,
    "start_time": "2025-09-04T05:59:28.475Z"
   },
   {
    "duration": 37931,
    "start_time": "2025-09-04T06:09:56.097Z"
   },
   {
    "duration": 38869,
    "start_time": "2025-09-04T06:23:20.457Z"
   },
   {
    "duration": 1198,
    "start_time": "2025-09-04T06:29:29.721Z"
   }
  ],
  "kernelspec": {
   "display_name": "Python 3 (ipykernel)",
   "language": "python",
   "name": "python3"
  },
  "language_info": {
   "codemirror_mode": {
    "name": "ipython",
    "version": 3
   },
   "file_extension": ".py",
   "mimetype": "text/x-python",
   "name": "python",
   "nbconvert_exporter": "python",
   "pygments_lexer": "ipython3",
   "version": "3.9.5"
  },
  "toc": {
   "base_numbering": 1,
   "nav_menu": {},
   "number_sections": true,
   "sideBar": true,
   "skip_h1_title": true,
   "title_cell": "Table of Contents",
   "title_sidebar": "Contents",
   "toc_cell": false,
   "toc_position": {
    "height": "calc(100% - 180px)",
    "left": "10px",
    "top": "150px",
    "width": "197.594px"
   },
   "toc_section_display": true,
   "toc_window_display": true
  }
 },
 "nbformat": 4,
 "nbformat_minor": 2
}
