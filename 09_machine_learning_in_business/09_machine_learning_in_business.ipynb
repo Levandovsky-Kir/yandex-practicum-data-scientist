{
 "cells": [
  {
   "cell_type": "markdown",
   "metadata": {},
   "source": [
    "# Выбор локации для скважины"
   ]
  },
  {
   "cell_type": "markdown",
   "metadata": {},
   "source": [
    "## Описание пректа"
   ]
  },
  {
   "cell_type": "markdown",
   "metadata": {},
   "source": [
    "**Цель проекта**\n",
    "\n",
    "Целью проекта является построение эффективной модели машинного обучения для выбора наиболее прибыльного региона для бурения новой нефтяной скважины компании «ГлавРосГосНефть».  \n",
    "Необходимо:\n",
    "- Построить модель для прогнозирования объёма запасов нефти в скважинах на основе имеющихся данных по трем регионам.\n",
    "- Оценить потенциальную прибыль от добычи нефти в каждом регионе и выбрать лучший вариант с учетом рисков.\n",
    "\n",
    "---\n",
    "\n",
    "**Описание данных**\n",
    "\n",
    "В работе используются следующие датасеты:\n",
    "\n",
    "- **geo_data_0.csv** — данные по скважинам региона 0.\n",
    "- **geo_data_1.csv** — данные по скважинам региона 1.\n",
    "- **geo_data_2.csv** — данные по скважинам региона 2.\n",
    "\n",
    "**Описание признаков:**\n",
    "\n",
    "| Признак   | Описание                                                 |\n",
    "|-----------|----------------------------------------------------------|\n",
    "| id        | Уникальный идентификатор скважины                        |\n",
    "| f0        | Признак скважины (числовой)                              |\n",
    "| f1        | Признак скважины (числовой)                              |\n",
    "| f2        | Признак скважины (числовой)                              |\n",
    "| product   | Объём запасов в скважине (тыс. баррелей)                 |\n",
    "\n",
    "---\n",
    "\n",
    "**Бизнес-цели и условия**\n",
    "\n",
    "- Бюджет на разработку скважин — 10 млрд рублей на регион.\n",
    "- Разведка проводится по 500 точкам в каждом регионе, разрабатываются 200 лучших скважин.\n",
    "- Цена 1 тыс. баррелей нефти — 450 тыс. рублей.\n",
    "- Для разработки региона необходима минимальная вероятность убытков (<2.5%).\n",
    "- К финалу нужно выбрать регион с максимальной средней прибылью при допустимом уровне риска.\n",
    "\n",
    "---\n",
    "\n",
    "**Основные этапы работы**\n",
    "\n",
    "1. **Загрузка и первичный анализ данных**\n",
    "2. **Предобработка данных**: устранение пропусков, корректировка типов.\n",
    "3. **Исследовательский анализ данных (EDA)**: распределения, аномалии, взаимосвязи признаков.\n",
    "4. **Построение моделей для каждого региона**: train/test split, обучение, предсказания, оценка RMSE.\n",
    "5. **Расчёт прибыли и бизнес-ограничений**: определение объёма для безубыточности, сравнение с прогнозами.\n",
    "6. **Оценка рисков и прибыли (Bootstrap)**: расчёт средней прибыли, доверительного интервала, вероятности убытков.\n",
    "7. **Формирование рекомендаций и выводов по выбору региона**.\n",
    "\n",
    "---\n",
    "\n",
    "**Ожидаемый результат**\n",
    "\n",
    "- Разработаны и обучены модели для прогнозирования запасов нефти.\n",
    "- Оценены и сравнены потенциальная прибыль и риски по каждому региону.\n",
    "- Выбран регион с наилучшим соотношением прибыли и риска.\n",
    "- Все этапы сопровождаются выводами и подробными комментариями для бизнеса и разработки."
   ]
  },
  {
   "cell_type": "markdown",
   "metadata": {},
   "source": [
    "## Библиотеки"
   ]
  },
  {
   "cell_type": "code",
   "execution_count": 1,
   "metadata": {},
   "outputs": [],
   "source": [
    "# --- Системные и внешние библиотеки ---\n",
    "import numpy as np\n",
    "import pandas as pd\n",
    "\n",
    "# --- Визуализация ---\n",
    "import matplotlib.pyplot as plt\n",
    "import seaborn as sns\n",
    "\n",
    "# --- Data Science и ML ---\n",
    "from sklearn.model_selection import train_test_split\n",
    "from sklearn.linear_model import LinearRegression\n",
    "from sklearn.metrics import mean_squared_error"
   ]
  },
  {
   "cell_type": "markdown",
   "metadata": {},
   "source": [
    "## Датасеты"
   ]
  },
  {
   "cell_type": "markdown",
   "metadata": {},
   "source": [
    "### `geo_data_0.csv`\n",
    "Датасет содержит характеристики скважин и значения запасов нефти для региона 0. Каждый объект — отдельная скважина с уникальным идентификатором, тремя числовыми признаками (`f0`, `f1`, `f2`) и целевым признаком `product` — объём запасов (тыс. баррелей)."
   ]
  },
  {
   "cell_type": "code",
   "execution_count": 2,
   "metadata": {
    "scrolled": false
   },
   "outputs": [
    {
     "name": "stdout",
     "output_type": "stream",
     "text": [
      "<class 'pandas.core.frame.DataFrame'>\n",
      "RangeIndex: 100000 entries, 0 to 99999\n",
      "Data columns (total 5 columns):\n",
      " #   Column   Non-Null Count   Dtype  \n",
      "---  ------   --------------   -----  \n",
      " 0   id       100000 non-null  object \n",
      " 1   f0       100000 non-null  float64\n",
      " 2   f1       100000 non-null  float64\n",
      " 3   f2       100000 non-null  float64\n",
      " 4   product  100000 non-null  float64\n",
      "dtypes: float64(4), object(1)\n",
      "memory usage: 3.8+ MB\n"
     ]
    },
    {
     "data": {
      "text/html": [
       "<div>\n",
       "<style scoped>\n",
       "    .dataframe tbody tr th:only-of-type {\n",
       "        vertical-align: middle;\n",
       "    }\n",
       "\n",
       "    .dataframe tbody tr th {\n",
       "        vertical-align: top;\n",
       "    }\n",
       "\n",
       "    .dataframe thead th {\n",
       "        text-align: right;\n",
       "    }\n",
       "</style>\n",
       "<table border=\"1\" class=\"dataframe\">\n",
       "  <thead>\n",
       "    <tr style=\"text-align: right;\">\n",
       "      <th></th>\n",
       "      <th>id</th>\n",
       "      <th>f0</th>\n",
       "      <th>f1</th>\n",
       "      <th>f2</th>\n",
       "      <th>product</th>\n",
       "    </tr>\n",
       "  </thead>\n",
       "  <tbody>\n",
       "    <tr>\n",
       "      <th>0</th>\n",
       "      <td>txEyH</td>\n",
       "      <td>0.705745</td>\n",
       "      <td>-0.497823</td>\n",
       "      <td>1.221170</td>\n",
       "      <td>105.280062</td>\n",
       "    </tr>\n",
       "    <tr>\n",
       "      <th>1</th>\n",
       "      <td>2acmU</td>\n",
       "      <td>1.334711</td>\n",
       "      <td>-0.340164</td>\n",
       "      <td>4.365080</td>\n",
       "      <td>73.037750</td>\n",
       "    </tr>\n",
       "    <tr>\n",
       "      <th>2</th>\n",
       "      <td>409Wp</td>\n",
       "      <td>1.022732</td>\n",
       "      <td>0.151990</td>\n",
       "      <td>1.419926</td>\n",
       "      <td>85.265647</td>\n",
       "    </tr>\n",
       "    <tr>\n",
       "      <th>3</th>\n",
       "      <td>iJLyR</td>\n",
       "      <td>-0.032172</td>\n",
       "      <td>0.139033</td>\n",
       "      <td>2.978566</td>\n",
       "      <td>168.620776</td>\n",
       "    </tr>\n",
       "    <tr>\n",
       "      <th>4</th>\n",
       "      <td>Xdl7t</td>\n",
       "      <td>1.988431</td>\n",
       "      <td>0.155413</td>\n",
       "      <td>4.751769</td>\n",
       "      <td>154.036647</td>\n",
       "    </tr>\n",
       "  </tbody>\n",
       "</table>\n",
       "</div>"
      ],
      "text/plain": [
       "      id        f0        f1        f2     product\n",
       "0  txEyH  0.705745 -0.497823  1.221170  105.280062\n",
       "1  2acmU  1.334711 -0.340164  4.365080   73.037750\n",
       "2  409Wp  1.022732  0.151990  1.419926   85.265647\n",
       "3  iJLyR -0.032172  0.139033  2.978566  168.620776\n",
       "4  Xdl7t  1.988431  0.155413  4.751769  154.036647"
      ]
     },
     "execution_count": 2,
     "metadata": {},
     "output_type": "execute_result"
    }
   ],
   "source": [
    "geo_0 = pd.read_csv('/datasets/geo_data_0.csv')\n",
    "geo_0.info()\n",
    "geo_0.head()"
   ]
  },
  {
   "cell_type": "markdown",
   "metadata": {},
   "source": [
    "### `geo_data_1.csv`\n",
    "Датасет содержит характеристики скважин и значения запасов нефти для региона 1. "
   ]
  },
  {
   "cell_type": "code",
   "execution_count": 3,
   "metadata": {
    "scrolled": false
   },
   "outputs": [
    {
     "name": "stdout",
     "output_type": "stream",
     "text": [
      "<class 'pandas.core.frame.DataFrame'>\n",
      "RangeIndex: 100000 entries, 0 to 99999\n",
      "Data columns (total 5 columns):\n",
      " #   Column   Non-Null Count   Dtype  \n",
      "---  ------   --------------   -----  \n",
      " 0   id       100000 non-null  object \n",
      " 1   f0       100000 non-null  float64\n",
      " 2   f1       100000 non-null  float64\n",
      " 3   f2       100000 non-null  float64\n",
      " 4   product  100000 non-null  float64\n",
      "dtypes: float64(4), object(1)\n",
      "memory usage: 3.8+ MB\n"
     ]
    },
    {
     "data": {
      "text/html": [
       "<div>\n",
       "<style scoped>\n",
       "    .dataframe tbody tr th:only-of-type {\n",
       "        vertical-align: middle;\n",
       "    }\n",
       "\n",
       "    .dataframe tbody tr th {\n",
       "        vertical-align: top;\n",
       "    }\n",
       "\n",
       "    .dataframe thead th {\n",
       "        text-align: right;\n",
       "    }\n",
       "</style>\n",
       "<table border=\"1\" class=\"dataframe\">\n",
       "  <thead>\n",
       "    <tr style=\"text-align: right;\">\n",
       "      <th></th>\n",
       "      <th>id</th>\n",
       "      <th>f0</th>\n",
       "      <th>f1</th>\n",
       "      <th>f2</th>\n",
       "      <th>product</th>\n",
       "    </tr>\n",
       "  </thead>\n",
       "  <tbody>\n",
       "    <tr>\n",
       "      <th>0</th>\n",
       "      <td>kBEdx</td>\n",
       "      <td>-15.001348</td>\n",
       "      <td>-8.276000</td>\n",
       "      <td>-0.005876</td>\n",
       "      <td>3.179103</td>\n",
       "    </tr>\n",
       "    <tr>\n",
       "      <th>1</th>\n",
       "      <td>62mP7</td>\n",
       "      <td>14.272088</td>\n",
       "      <td>-3.475083</td>\n",
       "      <td>0.999183</td>\n",
       "      <td>26.953261</td>\n",
       "    </tr>\n",
       "    <tr>\n",
       "      <th>2</th>\n",
       "      <td>vyE1P</td>\n",
       "      <td>6.263187</td>\n",
       "      <td>-5.948386</td>\n",
       "      <td>5.001160</td>\n",
       "      <td>134.766305</td>\n",
       "    </tr>\n",
       "    <tr>\n",
       "      <th>3</th>\n",
       "      <td>KcrkZ</td>\n",
       "      <td>-13.081196</td>\n",
       "      <td>-11.506057</td>\n",
       "      <td>4.999415</td>\n",
       "      <td>137.945408</td>\n",
       "    </tr>\n",
       "    <tr>\n",
       "      <th>4</th>\n",
       "      <td>AHL4O</td>\n",
       "      <td>12.702195</td>\n",
       "      <td>-8.147433</td>\n",
       "      <td>5.004363</td>\n",
       "      <td>134.766305</td>\n",
       "    </tr>\n",
       "  </tbody>\n",
       "</table>\n",
       "</div>"
      ],
      "text/plain": [
       "      id         f0         f1        f2     product\n",
       "0  kBEdx -15.001348  -8.276000 -0.005876    3.179103\n",
       "1  62mP7  14.272088  -3.475083  0.999183   26.953261\n",
       "2  vyE1P   6.263187  -5.948386  5.001160  134.766305\n",
       "3  KcrkZ -13.081196 -11.506057  4.999415  137.945408\n",
       "4  AHL4O  12.702195  -8.147433  5.004363  134.766305"
      ]
     },
     "execution_count": 3,
     "metadata": {},
     "output_type": "execute_result"
    }
   ],
   "source": [
    "geo_1 = pd.read_csv('/datasets/geo_data_1.csv')\n",
    "geo_1.info()\n",
    "geo_1.head()"
   ]
  },
  {
   "cell_type": "markdown",
   "metadata": {},
   "source": [
    "### `geo_data_2.csv`\n",
    "Датасет содержит характеристики скважин и значения запасов нефти для региона 2. "
   ]
  },
  {
   "cell_type": "code",
   "execution_count": 4,
   "metadata": {
    "scrolled": false
   },
   "outputs": [
    {
     "name": "stdout",
     "output_type": "stream",
     "text": [
      "<class 'pandas.core.frame.DataFrame'>\n",
      "RangeIndex: 100000 entries, 0 to 99999\n",
      "Data columns (total 5 columns):\n",
      " #   Column   Non-Null Count   Dtype  \n",
      "---  ------   --------------   -----  \n",
      " 0   id       100000 non-null  object \n",
      " 1   f0       100000 non-null  float64\n",
      " 2   f1       100000 non-null  float64\n",
      " 3   f2       100000 non-null  float64\n",
      " 4   product  100000 non-null  float64\n",
      "dtypes: float64(4), object(1)\n",
      "memory usage: 3.8+ MB\n"
     ]
    },
    {
     "data": {
      "text/html": [
       "<div>\n",
       "<style scoped>\n",
       "    .dataframe tbody tr th:only-of-type {\n",
       "        vertical-align: middle;\n",
       "    }\n",
       "\n",
       "    .dataframe tbody tr th {\n",
       "        vertical-align: top;\n",
       "    }\n",
       "\n",
       "    .dataframe thead th {\n",
       "        text-align: right;\n",
       "    }\n",
       "</style>\n",
       "<table border=\"1\" class=\"dataframe\">\n",
       "  <thead>\n",
       "    <tr style=\"text-align: right;\">\n",
       "      <th></th>\n",
       "      <th>id</th>\n",
       "      <th>f0</th>\n",
       "      <th>f1</th>\n",
       "      <th>f2</th>\n",
       "      <th>product</th>\n",
       "    </tr>\n",
       "  </thead>\n",
       "  <tbody>\n",
       "    <tr>\n",
       "      <th>0</th>\n",
       "      <td>fwXo0</td>\n",
       "      <td>-1.146987</td>\n",
       "      <td>0.963328</td>\n",
       "      <td>-0.828965</td>\n",
       "      <td>27.758673</td>\n",
       "    </tr>\n",
       "    <tr>\n",
       "      <th>1</th>\n",
       "      <td>WJtFt</td>\n",
       "      <td>0.262778</td>\n",
       "      <td>0.269839</td>\n",
       "      <td>-2.530187</td>\n",
       "      <td>56.069697</td>\n",
       "    </tr>\n",
       "    <tr>\n",
       "      <th>2</th>\n",
       "      <td>ovLUW</td>\n",
       "      <td>0.194587</td>\n",
       "      <td>0.289035</td>\n",
       "      <td>-5.586433</td>\n",
       "      <td>62.871910</td>\n",
       "    </tr>\n",
       "    <tr>\n",
       "      <th>3</th>\n",
       "      <td>q6cA6</td>\n",
       "      <td>2.236060</td>\n",
       "      <td>-0.553760</td>\n",
       "      <td>0.930038</td>\n",
       "      <td>114.572842</td>\n",
       "    </tr>\n",
       "    <tr>\n",
       "      <th>4</th>\n",
       "      <td>WPMUX</td>\n",
       "      <td>-0.515993</td>\n",
       "      <td>1.716266</td>\n",
       "      <td>5.899011</td>\n",
       "      <td>149.600746</td>\n",
       "    </tr>\n",
       "  </tbody>\n",
       "</table>\n",
       "</div>"
      ],
      "text/plain": [
       "      id        f0        f1        f2     product\n",
       "0  fwXo0 -1.146987  0.963328 -0.828965   27.758673\n",
       "1  WJtFt  0.262778  0.269839 -2.530187   56.069697\n",
       "2  ovLUW  0.194587  0.289035 -5.586433   62.871910\n",
       "3  q6cA6  2.236060 -0.553760  0.930038  114.572842\n",
       "4  WPMUX -0.515993  1.716266  5.899011  149.600746"
      ]
     },
     "execution_count": 4,
     "metadata": {},
     "output_type": "execute_result"
    }
   ],
   "source": [
    "geo_2 = pd.read_csv('/datasets/geo_data_2.csv')\n",
    "geo_2.info()\n",
    "geo_2.head()"
   ]
  },
  {
   "cell_type": "markdown",
   "metadata": {},
   "source": [
    "## Предобработка\n",
    "Перед началом анализа и построения моделей важно проверить исходные данные на наличие пропусков и дубликатов — это стандартная часть любого Data Science проекта.  \n",
    "Однако предварительный анализ (выводы `.info()` и просмотр первых строк) показывает, что во всех трёх датасетах (`geo_data_0.csv`, `geo_data_1.csv`, `geo_data_2.csv`):\n",
    "\n",
    "- Пропущенные значения отсутствуют (все столбцы полностью заполнены, что видно по количеству ненулевых значений).\n",
    "- Все признаки, кроме идентификатора `id`, имеют числовой тип — неявных пропусков или проблем с типами нет.\n",
    "- Данные синтетические, не содержат явных категориальных признаков или текстовых аномалий.\n",
    "\n",
    "Поэтому этап обработки пропусков и поиска неявных дубликатов можем пропустить.  \n",
    "Для надёжности проверим только наличие **полных (простых) дубликатов** — полностью совпадающих строк, которые иногда встречаются даже в больших и синтетических датасетах. Если такие дубликаты будут найдены, удалим их."
   ]
  },
  {
   "cell_type": "code",
   "execution_count": 5,
   "metadata": {},
   "outputs": [
    {
     "name": "stdout",
     "output_type": "stream",
     "text": [
      "В датасете geo_0 полных дубликатов не найдено.\n",
      "В датасете geo_1 полных дубликатов не найдено.\n",
      "В датасете geo_2 полных дубликатов не найдено.\n"
     ]
    }
   ],
   "source": [
    "datasets = [geo_0, geo_1, geo_2]\n",
    "names = ['geo_0', 'geo_1', 'geo_2']\n",
    "\n",
    "for data, name in zip(datasets, names):\n",
    "    duplicates = data.duplicated().sum()\n",
    "    if duplicates == 0:\n",
    "        print(f'В датасете {name} полных дубликатов не найдено.')\n",
    "    else:\n",
    "        print(f'В датасете {name} обнаружено {duplicates} полных дубликатов.')"
   ]
  },
  {
   "cell_type": "markdown",
   "metadata": {},
   "source": [
    "**Вывод:**  \n",
    "Во всех трёх датасетах (`geo_0`, `geo_1`, `geo_2`) полные дубликаты отсутствуют. Данные уникальны и готовы к дальнейшему анализу."
   ]
  },
  {
   "cell_type": "markdown",
   "metadata": {},
   "source": [
    "## EDA"
   ]
  },
  {
   "cell_type": "markdown",
   "metadata": {},
   "source": [
    "### Распределение признаков\n",
    "На этапе исследовательского анализа данных (EDA) важно понять основные свойства и распределения признаков для каждого региона.  \n",
    "Мы изучим базовые статистики (минимум, максимум, среднее, стандартное отклонение, медиану и квартильные значения) по каждому числовому столбцу, а также визуализируем распределения признаков.  \n",
    "Это поможет выявить выбросы, аномалии, различия между регионами и особенности целевого признака `product` (запасы нефти)."
   ]
  },
  {
   "cell_type": "code",
   "execution_count": 6,
   "metadata": {
    "scrolled": false
   },
   "outputs": [
    {
     "name": "stdout",
     "output_type": "stream",
     "text": [
      "\n",
      "Статистики для региона geo_0:\n"
     ]
    },
    {
     "data": {
      "text/html": [
       "<div>\n",
       "<style scoped>\n",
       "    .dataframe tbody tr th:only-of-type {\n",
       "        vertical-align: middle;\n",
       "    }\n",
       "\n",
       "    .dataframe tbody tr th {\n",
       "        vertical-align: top;\n",
       "    }\n",
       "\n",
       "    .dataframe thead th {\n",
       "        text-align: right;\n",
       "    }\n",
       "</style>\n",
       "<table border=\"1\" class=\"dataframe\">\n",
       "  <thead>\n",
       "    <tr style=\"text-align: right;\">\n",
       "      <th></th>\n",
       "      <th>f0</th>\n",
       "      <th>f1</th>\n",
       "      <th>f2</th>\n",
       "      <th>product</th>\n",
       "    </tr>\n",
       "  </thead>\n",
       "  <tbody>\n",
       "    <tr>\n",
       "      <th>count</th>\n",
       "      <td>100000.000000</td>\n",
       "      <td>100000.000000</td>\n",
       "      <td>100000.000000</td>\n",
       "      <td>100000.000000</td>\n",
       "    </tr>\n",
       "    <tr>\n",
       "      <th>mean</th>\n",
       "      <td>0.500419</td>\n",
       "      <td>0.250143</td>\n",
       "      <td>2.502647</td>\n",
       "      <td>92.500000</td>\n",
       "    </tr>\n",
       "    <tr>\n",
       "      <th>std</th>\n",
       "      <td>0.871832</td>\n",
       "      <td>0.504433</td>\n",
       "      <td>3.248248</td>\n",
       "      <td>44.288691</td>\n",
       "    </tr>\n",
       "    <tr>\n",
       "      <th>min</th>\n",
       "      <td>-1.408605</td>\n",
       "      <td>-0.848218</td>\n",
       "      <td>-12.088328</td>\n",
       "      <td>0.000000</td>\n",
       "    </tr>\n",
       "    <tr>\n",
       "      <th>25%</th>\n",
       "      <td>-0.072580</td>\n",
       "      <td>-0.200881</td>\n",
       "      <td>0.287748</td>\n",
       "      <td>56.497507</td>\n",
       "    </tr>\n",
       "    <tr>\n",
       "      <th>50%</th>\n",
       "      <td>0.502360</td>\n",
       "      <td>0.250252</td>\n",
       "      <td>2.515969</td>\n",
       "      <td>91.849972</td>\n",
       "    </tr>\n",
       "    <tr>\n",
       "      <th>75%</th>\n",
       "      <td>1.073581</td>\n",
       "      <td>0.700646</td>\n",
       "      <td>4.715088</td>\n",
       "      <td>128.564089</td>\n",
       "    </tr>\n",
       "    <tr>\n",
       "      <th>max</th>\n",
       "      <td>2.362331</td>\n",
       "      <td>1.343769</td>\n",
       "      <td>16.003790</td>\n",
       "      <td>185.364347</td>\n",
       "    </tr>\n",
       "  </tbody>\n",
       "</table>\n",
       "</div>"
      ],
      "text/plain": [
       "                  f0             f1             f2        product\n",
       "count  100000.000000  100000.000000  100000.000000  100000.000000\n",
       "mean        0.500419       0.250143       2.502647      92.500000\n",
       "std         0.871832       0.504433       3.248248      44.288691\n",
       "min        -1.408605      -0.848218     -12.088328       0.000000\n",
       "25%        -0.072580      -0.200881       0.287748      56.497507\n",
       "50%         0.502360       0.250252       2.515969      91.849972\n",
       "75%         1.073581       0.700646       4.715088     128.564089\n",
       "max         2.362331       1.343769      16.003790     185.364347"
      ]
     },
     "metadata": {},
     "output_type": "display_data"
    },
    {
     "data": {
      "image/png": "[encoded data removed]",
      "text/plain": [
       "<Figure size 1152x576 with 4 Axes>"
      ]
     },
     "metadata": {
      "needs_background": "light"
     },
     "output_type": "display_data"
    },
    {
     "name": "stdout",
     "output_type": "stream",
     "text": [
      "\n",
      "Статистики для региона geo_1:\n"
     ]
    },
    {
     "data": {
      "text/html": [
       "<div>\n",
       "<style scoped>\n",
       "    .dataframe tbody tr th:only-of-type {\n",
       "        vertical-align: middle;\n",
       "    }\n",
       "\n",
       "    .dataframe tbody tr th {\n",
       "        vertical-align: top;\n",
       "    }\n",
       "\n",
       "    .dataframe thead th {\n",
       "        text-align: right;\n",
       "    }\n",
       "</style>\n",
       "<table border=\"1\" class=\"dataframe\">\n",
       "  <thead>\n",
       "    <tr style=\"text-align: right;\">\n",
       "      <th></th>\n",
       "      <th>f0</th>\n",
       "      <th>f1</th>\n",
       "      <th>f2</th>\n",
       "      <th>product</th>\n",
       "    </tr>\n",
       "  </thead>\n",
       "  <tbody>\n",
       "    <tr>\n",
       "      <th>count</th>\n",
       "      <td>100000.000000</td>\n",
       "      <td>100000.000000</td>\n",
       "      <td>100000.000000</td>\n",
       "      <td>100000.000000</td>\n",
       "    </tr>\n",
       "    <tr>\n",
       "      <th>mean</th>\n",
       "      <td>1.141296</td>\n",
       "      <td>-4.796579</td>\n",
       "      <td>2.494541</td>\n",
       "      <td>68.825000</td>\n",
       "    </tr>\n",
       "    <tr>\n",
       "      <th>std</th>\n",
       "      <td>8.965932</td>\n",
       "      <td>5.119872</td>\n",
       "      <td>1.703572</td>\n",
       "      <td>45.944423</td>\n",
       "    </tr>\n",
       "    <tr>\n",
       "      <th>min</th>\n",
       "      <td>-31.609576</td>\n",
       "      <td>-26.358598</td>\n",
       "      <td>-0.018144</td>\n",
       "      <td>0.000000</td>\n",
       "    </tr>\n",
       "    <tr>\n",
       "      <th>25%</th>\n",
       "      <td>-6.298551</td>\n",
       "      <td>-8.267985</td>\n",
       "      <td>1.000021</td>\n",
       "      <td>26.953261</td>\n",
       "    </tr>\n",
       "    <tr>\n",
       "      <th>50%</th>\n",
       "      <td>1.153055</td>\n",
       "      <td>-4.813172</td>\n",
       "      <td>2.011479</td>\n",
       "      <td>57.085625</td>\n",
       "    </tr>\n",
       "    <tr>\n",
       "      <th>75%</th>\n",
       "      <td>8.621015</td>\n",
       "      <td>-1.332816</td>\n",
       "      <td>3.999904</td>\n",
       "      <td>107.813044</td>\n",
       "    </tr>\n",
       "    <tr>\n",
       "      <th>max</th>\n",
       "      <td>29.421755</td>\n",
       "      <td>18.734063</td>\n",
       "      <td>5.019721</td>\n",
       "      <td>137.945408</td>\n",
       "    </tr>\n",
       "  </tbody>\n",
       "</table>\n",
       "</div>"
      ],
      "text/plain": [
       "                  f0             f1             f2        product\n",
       "count  100000.000000  100000.000000  100000.000000  100000.000000\n",
       "mean        1.141296      -4.796579       2.494541      68.825000\n",
       "std         8.965932       5.119872       1.703572      45.944423\n",
       "min       -31.609576     -26.358598      -0.018144       0.000000\n",
       "25%        -6.298551      -8.267985       1.000021      26.953261\n",
       "50%         1.153055      -4.813172       2.011479      57.085625\n",
       "75%         8.621015      -1.332816       3.999904     107.813044\n",
       "max        29.421755      18.734063       5.019721     137.945408"
      ]
     },
     "metadata": {},
     "output_type": "display_data"
    },
    {
     "data": {
      "image/png": "[encoded data removed]",
      "text/plain": [
       "<Figure size 1152x576 with 4 Axes>"
      ]
     },
     "metadata": {
      "needs_background": "light"
     },
     "output_type": "display_data"
    },
    {
     "name": "stdout",
     "output_type": "stream",
     "text": [
      "\n",
      "Статистики для региона geo_2:\n"
     ]
    },
    {
     "data": {
      "text/html": [
       "<div>\n",
       "<style scoped>\n",
       "    .dataframe tbody tr th:only-of-type {\n",
       "        vertical-align: middle;\n",
       "    }\n",
       "\n",
       "    .dataframe tbody tr th {\n",
       "        vertical-align: top;\n",
       "    }\n",
       "\n",
       "    .dataframe thead th {\n",
       "        text-align: right;\n",
       "    }\n",
       "</style>\n",
       "<table border=\"1\" class=\"dataframe\">\n",
       "  <thead>\n",
       "    <tr style=\"text-align: right;\">\n",
       "      <th></th>\n",
       "      <th>f0</th>\n",
       "      <th>f1</th>\n",
       "      <th>f2</th>\n",
       "      <th>product</th>\n",
       "    </tr>\n",
       "  </thead>\n",
       "  <tbody>\n",
       "    <tr>\n",
       "      <th>count</th>\n",
       "      <td>100000.000000</td>\n",
       "      <td>100000.000000</td>\n",
       "      <td>100000.000000</td>\n",
       "      <td>100000.000000</td>\n",
       "    </tr>\n",
       "    <tr>\n",
       "      <th>mean</th>\n",
       "      <td>0.002023</td>\n",
       "      <td>-0.002081</td>\n",
       "      <td>2.495128</td>\n",
       "      <td>95.000000</td>\n",
       "    </tr>\n",
       "    <tr>\n",
       "      <th>std</th>\n",
       "      <td>1.732045</td>\n",
       "      <td>1.730417</td>\n",
       "      <td>3.473445</td>\n",
       "      <td>44.749921</td>\n",
       "    </tr>\n",
       "    <tr>\n",
       "      <th>min</th>\n",
       "      <td>-8.760004</td>\n",
       "      <td>-7.084020</td>\n",
       "      <td>-11.970335</td>\n",
       "      <td>0.000000</td>\n",
       "    </tr>\n",
       "    <tr>\n",
       "      <th>25%</th>\n",
       "      <td>-1.162288</td>\n",
       "      <td>-1.174820</td>\n",
       "      <td>0.130359</td>\n",
       "      <td>59.450441</td>\n",
       "    </tr>\n",
       "    <tr>\n",
       "      <th>50%</th>\n",
       "      <td>0.009424</td>\n",
       "      <td>-0.009482</td>\n",
       "      <td>2.484236</td>\n",
       "      <td>94.925613</td>\n",
       "    </tr>\n",
       "    <tr>\n",
       "      <th>75%</th>\n",
       "      <td>1.158535</td>\n",
       "      <td>1.163678</td>\n",
       "      <td>4.858794</td>\n",
       "      <td>130.595027</td>\n",
       "    </tr>\n",
       "    <tr>\n",
       "      <th>max</th>\n",
       "      <td>7.238262</td>\n",
       "      <td>7.844801</td>\n",
       "      <td>16.739402</td>\n",
       "      <td>190.029838</td>\n",
       "    </tr>\n",
       "  </tbody>\n",
       "</table>\n",
       "</div>"
      ],
      "text/plain": [
       "                  f0             f1             f2        product\n",
       "count  100000.000000  100000.000000  100000.000000  100000.000000\n",
       "mean        0.002023      -0.002081       2.495128      95.000000\n",
       "std         1.732045       1.730417       3.473445      44.749921\n",
       "min        -8.760004      -7.084020     -11.970335       0.000000\n",
       "25%        -1.162288      -1.174820       0.130359      59.450441\n",
       "50%         0.009424      -0.009482       2.484236      94.925613\n",
       "75%         1.158535       1.163678       4.858794     130.595027\n",
       "max         7.238262       7.844801      16.739402     190.029838"
      ]
     },
     "metadata": {},
     "output_type": "display_data"
    },
    {
     "data": {
      "image/png": "[encoded data removed]",
      "text/plain": [
       "<Figure size 1152x576 with 4 Axes>"
      ]
     },
     "metadata": {
      "needs_background": "light"
     },
     "output_type": "display_data"
    }
   ],
   "source": [
    "datasets = [geo_0, geo_1, geo_2]\n",
    "names = ['geo_0', 'geo_1', 'geo_2']\n",
    "\n",
    "# Цикл по всем регионам\n",
    "for data, name in zip(datasets, names):\n",
    "    print(f'\\nСтатистики для региона {name}:')\n",
    "    display(data.describe())\n",
    "\n",
    "    num_cols = ['f0', 'f1', 'f2', 'product']\n",
    "    plt.figure(figsize=(16, 8))\n",
    "    for i, col in enumerate(num_cols, 1):\n",
    "        plt.subplot(2, 2, i)\n",
    "        sns.histplot(data[col], kde=True, bins=50)\n",
    "        plt.title(f'{col} — {name}')\n",
    "        plt.xlabel(col)\n",
    "        plt.ylabel('Количество')\n",
    "    plt.tight_layout()\n",
    "    plt.show()"
   ]
  },
  {
   "cell_type": "markdown",
   "metadata": {},
   "source": [
    "**Общий вывод по распределению данных во всех трёх регионах**\n",
    "\n",
    "Анализ распределений признаков показывает, что данные во всех трёх регионах являются синтетическими. Это заметно по идеально сглаженным формам гистограмм, чётко выраженным пикам, симметрии и отсутствию выбросов, характерных для реальных промышленных замеров. Такие данные специально сгенерированы для учебных целей, чтобы упростить работу с моделями машинного обучения.\n",
    "\n",
    "---\n",
    "\n",
    "**Регион `geo_0`**\n",
    "\n",
    "- **Признаки `f0`, `f1` и `product`** имеют выраженные многомодальные (многопиковые) распределения, похожие на смесь нескольких нормальных распределений или результат искусственного \"кластеризованного\" формирования данных.  \n",
    "- **Признак `f2`** распределён близко к нормальному закону (симметричная колоколообразная кривая без выраженных хвостов или аномалий).\n",
    "- Целевой признак `product` имеет такую же «пикированную» структуру, что и признаки `f0` и `f1`.\n",
    "\n",
    "---\n",
    "\n",
    "**Регион `geo_1`**\n",
    "\n",
    "- **`f0`** — явно бимодальное (двухпиковое) распределение, что бывает крайне редко для реальных признаков.\n",
    "- **`f1`** распределён почти по нормальному закону, но с очень большим разбросом значений.\n",
    "- **`f2`** имеет резко выраженные дискретные значения — видно пять чётких столбиков, что не встречается в естественных процессах.\n",
    "- **`product`** (целевой признак) также принимает значения только в отдельных, строго фиксированных диапазонах, без плавного перехода между ними.\n",
    "\n",
    "---\n",
    "\n",
    "**Регион `geo_2`**\n",
    "\n",
    "- Все числовые признаки (`f0`, `f1`, `f2`) демонстрируют классическое нормальное распределение — симметричные, гладкие, центрированные вокруг среднего.\n",
    "- **Целевой признак `product`** также выглядит как смесь нормальных распределений: многопиковое, но не такое чёткое, как в geo_0, и всё равно сохраняет синтетический вид.\n",
    "\n",
    "---\n",
    "\n",
    "**Вывод:**  \n",
    "Во всех трёх регионах структура данных свидетельствует о синтетическом происхождении — распределения очень «аккуратные», содержат мало или вовсе не содержат выбросов, наблюдается многопиковость или жёсткая дискретность признаков. Такие данные удобны для тренировки моделей, но требуют особого внимания при переносе опыта на реальные производственные задачи."
   ]
  },
  {
   "cell_type": "markdown",
   "metadata": {},
   "source": [
    "### Корреляционный анализ\n",
    "Выполним расчет коэффициентов корреляции Спирмена для всех числовых признаков в каждом регионе и визуализируем результаты с помощью тепловых карт."
   ]
  },
  {
   "cell_type": "code",
   "execution_count": 7,
   "metadata": {},
   "outputs": [
    {
     "name": "stdout",
     "output_type": "stream",
     "text": [
      "\n",
      "Корреляция Спирмена для geo_0:\n",
      "\n"
     ]
    },
    {
     "data": {
      "text/html": [
       "<div>\n",
       "<style scoped>\n",
       "    .dataframe tbody tr th:only-of-type {\n",
       "        vertical-align: middle;\n",
       "    }\n",
       "\n",
       "    .dataframe tbody tr th {\n",
       "        vertical-align: top;\n",
       "    }\n",
       "\n",
       "    .dataframe thead th {\n",
       "        text-align: right;\n",
       "    }\n",
       "</style>\n",
       "<table border=\"1\" class=\"dataframe\">\n",
       "  <thead>\n",
       "    <tr style=\"text-align: right;\">\n",
       "      <th></th>\n",
       "      <th>f0</th>\n",
       "      <th>f1</th>\n",
       "      <th>f2</th>\n",
       "      <th>product</th>\n",
       "    </tr>\n",
       "  </thead>\n",
       "  <tbody>\n",
       "    <tr>\n",
       "      <th>f0</th>\n",
       "      <td>1.000000</td>\n",
       "      <td>-0.471395</td>\n",
       "      <td>-0.002685</td>\n",
       "      <td>0.128417</td>\n",
       "    </tr>\n",
       "    <tr>\n",
       "      <th>f1</th>\n",
       "      <td>-0.471395</td>\n",
       "      <td>1.000000</td>\n",
       "      <td>0.001413</td>\n",
       "      <td>-0.181143</td>\n",
       "    </tr>\n",
       "    <tr>\n",
       "      <th>f2</th>\n",
       "      <td>-0.002685</td>\n",
       "      <td>0.001413</td>\n",
       "      <td>1.000000</td>\n",
       "      <td>0.486394</td>\n",
       "    </tr>\n",
       "    <tr>\n",
       "      <th>product</th>\n",
       "      <td>0.128417</td>\n",
       "      <td>-0.181143</td>\n",
       "      <td>0.486394</td>\n",
       "      <td>1.000000</td>\n",
       "    </tr>\n",
       "  </tbody>\n",
       "</table>\n",
       "</div>"
      ],
      "text/plain": [
       "               f0        f1        f2   product\n",
       "f0       1.000000 -0.471395 -0.002685  0.128417\n",
       "f1      -0.471395  1.000000  0.001413 -0.181143\n",
       "f2      -0.002685  0.001413  1.000000  0.486394\n",
       "product  0.128417 -0.181143  0.486394  1.000000"
      ]
     },
     "metadata": {},
     "output_type": "display_data"
    },
    {
     "data": {
      "image/png": "[encoded data removed]",
      "text/plain": [
       "<Figure size 432x288 with 2 Axes>"
      ]
     },
     "metadata": {
      "needs_background": "light"
     },
     "output_type": "display_data"
    },
    {
     "name": "stdout",
     "output_type": "stream",
     "text": [
      "\n",
      "Корреляция Спирмена для geo_1:\n",
      "\n"
     ]
    },
    {
     "data": {
      "text/html": [
       "<div>\n",
       "<style scoped>\n",
       "    .dataframe tbody tr th:only-of-type {\n",
       "        vertical-align: middle;\n",
       "    }\n",
       "\n",
       "    .dataframe tbody tr th {\n",
       "        vertical-align: top;\n",
       "    }\n",
       "\n",
       "    .dataframe thead th {\n",
       "        text-align: right;\n",
       "    }\n",
       "</style>\n",
       "<table border=\"1\" class=\"dataframe\">\n",
       "  <thead>\n",
       "    <tr style=\"text-align: right;\">\n",
       "      <th></th>\n",
       "      <th>f0</th>\n",
       "      <th>f1</th>\n",
       "      <th>f2</th>\n",
       "      <th>product</th>\n",
       "    </tr>\n",
       "  </thead>\n",
       "  <tbody>\n",
       "    <tr>\n",
       "      <th>f0</th>\n",
       "      <td>1.000000</td>\n",
       "      <td>0.182248</td>\n",
       "      <td>-0.002000</td>\n",
       "      <td>-0.122869</td>\n",
       "    </tr>\n",
       "    <tr>\n",
       "      <th>f1</th>\n",
       "      <td>0.182248</td>\n",
       "      <td>1.000000</td>\n",
       "      <td>-0.003678</td>\n",
       "      <td>-0.033908</td>\n",
       "    </tr>\n",
       "    <tr>\n",
       "      <th>f2</th>\n",
       "      <td>-0.002000</td>\n",
       "      <td>-0.003678</td>\n",
       "      <td>1.000000</td>\n",
       "      <td>0.975605</td>\n",
       "    </tr>\n",
       "    <tr>\n",
       "      <th>product</th>\n",
       "      <td>-0.122869</td>\n",
       "      <td>-0.033908</td>\n",
       "      <td>0.975605</td>\n",
       "      <td>1.000000</td>\n",
       "    </tr>\n",
       "  </tbody>\n",
       "</table>\n",
       "</div>"
      ],
      "text/plain": [
       "               f0        f1        f2   product\n",
       "f0       1.000000  0.182248 -0.002000 -0.122869\n",
       "f1       0.182248  1.000000 -0.003678 -0.033908\n",
       "f2      -0.002000 -0.003678  1.000000  0.975605\n",
       "product -0.122869 -0.033908  0.975605  1.000000"
      ]
     },
     "metadata": {},
     "output_type": "display_data"
    },
    {
     "data": {
      "image/png": "[encoded data removed]",
      "text/plain": [
       "<Figure size 432x288 with 2 Axes>"
      ]
     },
     "metadata": {
      "needs_background": "light"
     },
     "output_type": "display_data"
    },
    {
     "name": "stdout",
     "output_type": "stream",
     "text": [
      "\n",
      "Корреляция Спирмена для geo_2:\n",
      "\n"
     ]
    },
    {
     "data": {
      "text/html": [
       "<div>\n",
       "<style scoped>\n",
       "    .dataframe tbody tr th:only-of-type {\n",
       "        vertical-align: middle;\n",
       "    }\n",
       "\n",
       "    .dataframe tbody tr th {\n",
       "        vertical-align: top;\n",
       "    }\n",
       "\n",
       "    .dataframe thead th {\n",
       "        text-align: right;\n",
       "    }\n",
       "</style>\n",
       "<table border=\"1\" class=\"dataframe\">\n",
       "  <thead>\n",
       "    <tr style=\"text-align: right;\">\n",
       "      <th></th>\n",
       "      <th>f0</th>\n",
       "      <th>f1</th>\n",
       "      <th>f2</th>\n",
       "      <th>product</th>\n",
       "    </tr>\n",
       "  </thead>\n",
       "  <tbody>\n",
       "    <tr>\n",
       "      <th>f0</th>\n",
       "      <td>1.000000</td>\n",
       "      <td>0.002493</td>\n",
       "      <td>0.000053</td>\n",
       "      <td>-0.002464</td>\n",
       "    </tr>\n",
       "    <tr>\n",
       "      <th>f1</th>\n",
       "      <td>0.002493</td>\n",
       "      <td>1.000000</td>\n",
       "      <td>0.000378</td>\n",
       "      <td>-0.001463</td>\n",
       "    </tr>\n",
       "    <tr>\n",
       "      <th>f2</th>\n",
       "      <td>0.000053</td>\n",
       "      <td>0.000378</td>\n",
       "      <td>1.000000</td>\n",
       "      <td>0.448463</td>\n",
       "    </tr>\n",
       "    <tr>\n",
       "      <th>product</th>\n",
       "      <td>-0.002464</td>\n",
       "      <td>-0.001463</td>\n",
       "      <td>0.448463</td>\n",
       "      <td>1.000000</td>\n",
       "    </tr>\n",
       "  </tbody>\n",
       "</table>\n",
       "</div>"
      ],
      "text/plain": [
       "               f0        f1        f2   product\n",
       "f0       1.000000  0.002493  0.000053 -0.002464\n",
       "f1       0.002493  1.000000  0.000378 -0.001463\n",
       "f2       0.000053  0.000378  1.000000  0.448463\n",
       "product -0.002464 -0.001463  0.448463  1.000000"
      ]
     },
     "metadata": {},
     "output_type": "display_data"
    },
    {
     "data": {
      "image/png": "[encoded data removed]",
      "text/plain": [
       "<Figure size 432x288 with 2 Axes>"
      ]
     },
     "metadata": {
      "needs_background": "light"
     },
     "output_type": "display_data"
    }
   ],
   "source": [
    "datasets = [geo_0, geo_1, geo_2]\n",
    "names = ['geo_0', 'geo_1', 'geo_2']\n",
    "num_cols = ['f0', 'f1', 'f2', 'product']\n",
    "\n",
    "for data, name in zip(datasets, names):\n",
    "    print(f'\\nКорреляция Спирмена для {name}:\\n')\n",
    "    corr_spearman = data[num_cols].corr(method='spearman')\n",
    "    display(corr_spearman)\n",
    "    plt.figure(figsize=(6, 4))\n",
    "    ax = sns.heatmap(corr_spearman, annot=True, fmt='.2f', cmap='coolwarm', square=True, linewidths=1)\n",
    "    plt.title(f'Тепловая карта корреляции Спирмена — {name}')\n",
    "    # Поворот подписей по оси Y\n",
    "    ax.set_yticklabels(ax.get_yticklabels(), rotation=0, va='center')\n",
    "    plt.show()"
   ]
  },
  {
   "cell_type": "markdown",
   "metadata": {},
   "source": [
    "**Общий вывод:**  \n",
    "Во всех регионах наиболее сильная связь целевого признака (`product`) наблюдается с одним из признаков, однако характер этой связи и её сила существенно различаются.\n",
    "\n",
    "---\n",
    "\n",
    "**Регион geo_0**\n",
    "\n",
    "- Самая высокая корреляция `product` наблюдается с признаком `f2` (ρ ≈ 0.49), остальные признаки либо слабо коррелируют, либо имеют отрицательную или почти нулевую связь.\n",
    "- Между `f0` и `f1` сильная отрицательная корреляция (ρ ≈ -0.47), что может указывать на зависимость между этими признаками.\n",
    "- В целом, только `f2` из признаков даёт заметный вклад в объяснение вариации целевого признака.\n",
    "\n",
    "---\n",
    "\n",
    "**Регион geo_1**\n",
    "\n",
    "- Явно выделяется экстремально сильная положительная корреляция между `product` и `f2` (ρ ≈ 0.98). Это означает почти однозначную связь между этими переменными — фактически, `f2` почти полностью определяет целевой признак.\n",
    "- Остальные признаки имеют очень слабую или отрицательную корреляцию с `product`.\n",
    "- Такое распределение корреляций подтверждает синтетическую природу данных и \"жёстко запрограммированную\" структуру.\n",
    "\n",
    "---\n",
    "\n",
    "**Регион geo_2**\n",
    "\n",
    "- Максимальная корреляция между `product` и `f2` (ρ ≈ 0.45), что сопоставимо с регионом geo_0.\n",
    "- Корреляция между остальными признаками и целевым признаком практически отсутствует (значения близки к нулю).\n",
    "- Все признаки между собой слабо связаны, что подтверждает независимость признаков и относительную простоту структуры данных.\n",
    "\n",
    "---\n",
    "\n",
    "**Краткий итог:**  \n",
    "В каждом регионе только один признак (`f2`) оказывается по-настоящему информативен для прогнозирования запасов нефти (`product`). В geo_1 эта связь почти абсолютная, в geo_0 и geo_2 — заметная, но не доминирующая. Остальные признаки либо не влияют на целевое значение, либо даже негативно коррелируют между собой."
   ]
  },
  {
   "cell_type": "markdown",
   "metadata": {},
   "source": [
    "## Обучение модели"
   ]
  },
  {
   "cell_type": "markdown",
   "metadata": {},
   "source": [
    "**Комментарий по подготовке данных:**\n",
    "\n",
    "- Пропусков и неявных дубликатов в данных нет (показано выше в EDA).\n",
    "- Все признаки уже числовые (`float64`), категориальные и порядковые отсутствуют.\n",
    "- Масштабирование и дополнительное кодирование не требуется.\n",
    "- Для обучения моделей можно сразу использовать признаки `f0`, `f1`, `f2` без дополнительной обработки.\n"
   ]
  },
  {
   "cell_type": "code",
   "execution_count": 8,
   "metadata": {},
   "outputs": [
    {
     "name": "stdout",
     "output_type": "stream",
     "text": [
      "\n",
      "GEO_0 — обучение и проверка модели\n",
      "Средний предсказанный запас сырья: 92.40\n",
      "RMSE модели: 37.76\n",
      "\n",
      "GEO_1 — обучение и проверка модели\n",
      "Средний предсказанный запас сырья: 68.71\n",
      "RMSE модели: 0.89\n",
      "\n",
      "GEO_2 — обучение и проверка модели\n",
      "Средний предсказанный запас сырья: 94.77\n",
      "RMSE модели: 40.15\n"
     ]
    }
   ],
   "source": [
    "datasets = [geo_0, geo_1, geo_2]\n",
    "names = ['geo_0', 'geo_1', 'geo_2']\n",
    "num_cols = ['f0', 'f1', 'f2']\n",
    "\n",
    "results = {}\n",
    "\n",
    "for data, name in zip(datasets, names):\n",
    "    print(f'\\n{name.upper()} — обучение и проверка модели')\n",
    "    \n",
    "    # Разделение на признаки и целевой признак\n",
    "    X = data[num_cols]\n",
    "    y = data['product']\n",
    "    \n",
    "    # Разделение на train/valid\n",
    "    X_train, X_valid, y_train, y_valid = train_test_split(\n",
    "        X, y, test_size=0.25, random_state=42\n",
    "    )\n",
    "    \n",
    "    # Обучение модели\n",
    "    model = LinearRegression()\n",
    "    model.fit(X_train, y_train)\n",
    "    \n",
    "    # Предсказания на валидационной выборке\n",
    "    y_pred = model.predict(X_valid)\n",
    "    \n",
    "    # Сохраняем для последующего анализа\n",
    "    results[name] = {\n",
    "        'y_valid': y_valid,\n",
    "        'y_pred': y_pred\n",
    "    }\n",
    "    \n",
    "    # Средний предсказанный запас сырья\n",
    "    mean_pred = y_pred.mean()\n",
    "    # RMSE\n",
    "    rmse = mean_squared_error(y_valid, y_pred, squared=False)\n",
    "    \n",
    "    print(f'Средний предсказанный запас сырья: {mean_pred:.2f}')\n",
    "    print(f'RMSE модели: {rmse:.2f}')"
   ]
  },
  {
   "cell_type": "markdown",
   "metadata": {},
   "source": [
    "**Вывод по результатам обучения моделей**\n",
    "\n",
    "- **GEO_0**  \n",
    "  Средний предсказанный запас сырья: **92.40**  \n",
    "  RMSE модели: **37.76**  \n",
    "  _Модель предсказывает запасы с достаточно высокой ошибкой относительно среднего значения. Это свидетельствует о том, что признаки объясняют целевой признак лишь частично; возможна слабая или нелинейная зависимость между признаками и целевым значением._\n",
    "\n",
    "- **GEO_1**  \n",
    "  Средний предсказанный запас сырья: **68.71**  \n",
    "  RMSE модели: **0.89**  \n",
    "  _Модель демонстрирует практически идеальное качество предсказания — ошибка минимальна, и результаты на валидационной выборке максимально приближены к реальным значениям. Это подтверждает сильную линейную зависимость между одним из признаков и целевым значением, что ранее показал корреляционный анализ._\n",
    "\n",
    "- **GEO_2**  \n",
    "  Средний предсказанный запас сырья: **94.77**  \n",
    "  RMSE модели: **40.15**  \n",
    "  _Здесь качество модели сопоставимо с GEO_0: ошибка также велика относительно среднего значения, что указывает на более сложную или менее выраженную зависимость между признаками и целевым признаком._\n",
    "\n",
    "---\n",
    "\n",
    "**Итог:**  \n",
    "Лучшее качество предсказаний достигается в регионе GEO_1, где линейная регрессия наиболее эффективна. В регионах GEO_0 и GEO_2 точность предсказаний значительно ниже, что стоит учитывать при дальнейшем выборе региона для разработки.\n"
   ]
  },
  {
   "cell_type": "markdown",
   "metadata": {},
   "source": [
    "## Подготовка к расчёту прибыли"
   ]
  },
  {
   "cell_type": "markdown",
   "metadata": {},
   "source": [
    "На этом этапе определим ключевые бизнес-параметры задачи и рассчитаем минимальный объём сырья, необходимый для безубыточной разработки одной скважины.  \n",
    "Сравним этот объём со средними запасами, предсказанными для каждой из трёх регионов.  \n",
    "Это позволит понять, насколько перспективна разработка каждого региона с точки зрения потенциальной окупаемости проекта."
   ]
  },
  {
   "cell_type": "code",
   "execution_count": 9,
   "metadata": {
    "scrolled": true
   },
   "outputs": [
    {
     "name": "stdout",
     "output_type": "stream",
     "text": [
      "Достаточный объём сырья для безубыточной разработки региона: 22222.22 тыс. баррелей\n",
      "Достаточный средний объём на одну скважину: 111.11 тыс. баррелей\n",
      "Средний предсказанный запас в регионе geo_0: 92.40 тыс. баррелей\n",
      "Средний предсказанный запас в регионе geo_1: 68.71 тыс. баррелей\n",
      "Средний предсказанный запас в регионе geo_2: 94.77 тыс. баррелей\n"
     ]
    }
   ],
   "source": [
    "# Ключевые параметры задачи\n",
    "BUDGET = 10_000_000_000                  # Бюджет на регион (руб)\n",
    "INCOME_PER_1000_BARREL = 450_000         # Доход за 1000 баррелей (руб)\n",
    "N_WELLS = 200                            # Число скважин для разработки\n",
    "\n",
    "# Минимальный объём сырья (в тысячах баррелей), необходимый для безубыточности всего региона:\n",
    "min_total_product = BUDGET / INCOME_PER_1000_BARREL\n",
    "\n",
    "# Минимальный средний объём на одну скважину (безубыточность на одну скважину):\n",
    "min_product_per_well = min_total_product / N_WELLS\n",
    "\n",
    "print(f'Достаточный объём сырья для безубыточной разработки региона: {min_total_product:.2f} тыс. баррелей')\n",
    "print(f'Достаточный средний объём на одну скважину: {min_product_per_well:.2f} тыс. баррелей')\n",
    "\n",
    "# Сравнение с предсказанными средними запасами по регионам\n",
    "for name in names:\n",
    "    mean_pred = results[name]['y_pred'].mean()\n",
    "    print(f'Средний предсказанный запас в регионе {name}: {mean_pred:.2f} тыс. баррелей')\n"
   ]
  },
  {
   "cell_type": "markdown",
   "metadata": {},
   "source": [
    "**Вывод по подготовке к расчёту прибыли**\n",
    "\n",
    "- Для безубыточной разработки региона необходимо добыть минимум **22 222.22 тыс. баррелей** (на 200 скважин).\n",
    "- Это означает, что **каждая скважина** должна приносить в среднем **111.11 тыс. баррелей**.\n",
    "\n",
    "**Сравнение с предсказанными средними запасами:**\n",
    "- В регионе `geo_0` средний предсказанный запас: **92.40 тыс. баррелей**\n",
    "- В регионе `geo_1` средний предсказанный запас: **68.71 тыс. баррелей**\n",
    "- В регионе `geo_2` средний предсказанный запас: **94.77 тыс. баррелей**\n",
    "\n",
    "---\n",
    "\n",
    "**Вывод:**  \n",
    "Средние предсказанные запасы по всем регионам **ниже точки безубыточности** (111.11 тыс. баррелей на скважину). Это означает, что при случайном выборе скважин проект, скорее всего, будет убыточным.  \n",
    "На следующем этапе будет использован отбор лучших скважин по прогнозу модели (и оценка через бутстреп), чтобы выявить возможность получения прибыли за счёт оптимизации выбора и анализа риска.\n"
   ]
  },
  {
   "cell_type": "markdown",
   "metadata": {},
   "source": [
    "## Расчет прибыли"
   ]
  },
  {
   "cell_type": "markdown",
   "metadata": {},
   "source": [
    "### Функция для расчёта прибыли по выбранным скважинам\n",
    "\n",
    "Функция `calculate_profit` выбирает топ-200 скважин с максимальными предсказанными запасами (`y_pred`), суммирует их реальные запасы (`y_true`) и рассчитывает итоговую прибыль региона с учётом затрат на разработку.  \n",
    "Этот подход имитирует реальную бизнес-задачу: мы заранее не знаем реальные значения, а отбор ведём на основе прогноза модели.\n",
    "\n",
    "- **Вход:** реальные значения объёма, прогнозы модели, число скважин для отбора, параметры дохода и бюджета.\n",
    "- **Процесс:** сортировка по прогнозу, отбор лучших, подсчёт прибыли.\n",
    "- **Выход:** прибыль региона при выбранных условиях."
   ]
  },
  {
   "cell_type": "code",
   "execution_count": 10,
   "metadata": {},
   "outputs": [],
   "source": [
    "def calculate_profit(y_true, y_pred, count=200, income_per_1000_barrel=450_000, budget=10_000_000_000):\n",
    "    # Формируем DataFrame для удобной сортировки\n",
    "    data = pd.DataFrame({'y_true': y_true, 'y_pred': y_pred})\n",
    "    # Отбираем top-N скважин с максимальным прогнозом (по предсказаниям модели)\n",
    "    selected = data.sort_values(by='y_pred', ascending=False).head(count)\n",
    "    # Суммируем реальные значения объёма для выбранных скважин\n",
    "    total_product = selected['y_true'].sum()\n",
    "    # Вычисляем выручку: объём (в тыс. баррелей) * доход за 1000 баррелей\n",
    "    revenue = total_product * income_per_1000_barrel\n",
    "    # Считаем прибыль: выручка минус затраты на регион\n",
    "    profit = revenue - budget\n",
    "    return profit\n"
   ]
  },
  {
   "cell_type": "code",
   "execution_count": 11,
   "metadata": {},
   "outputs": [
    {
     "name": "stdout",
     "output_type": "stream",
     "text": [
      "Прибыль для geo_0 по топ-200 скважинам: 3,359,141,114.46 руб.\n",
      "Прибыль для geo_1 по топ-200 скважинам: 2,415,086,696.68 руб.\n",
      "Прибыль для geo_2 по топ-200 скважинам: 2,598,571,759.37 руб.\n"
     ]
    }
   ],
   "source": [
    "# Считаем прибыль по топ-200 скважинам для каждого региона\n",
    "\n",
    "for name in names:\n",
    "    # Передаём реальные и предсказанные значения на валидационной выборке\n",
    "    profit = calculate_profit(\n",
    "        y_true=results[name]['y_valid'],\n",
    "        y_pred=results[name]['y_pred']\n",
    "    )\n",
    "    print(f'Прибыль для {name} по топ-200 скважинам: {profit:,.2f} руб.')\n"
   ]
  },
  {
   "cell_type": "markdown",
   "metadata": {},
   "source": [
    "**Вывод по прибыли по топ-200 скважинам в каждом регионе**\n",
    "\n",
    "- В регионе **geo_0** прибыль по топ-200 наиболее перспективным скважинам составила **3 359 141 114 руб.**\n",
    "- В регионе **geo_1** прибыль составила **2 415 086 697 руб.**\n",
    "- В регионе **geo_2** прибыль составила **2 598 571 759 руб.**\n",
    "\n",
    "---\n",
    "\n",
    "**geo_0** демонстрирует наибольшую потенциальную прибыль при оптимальном отборе скважин по прогнозу модели.  \n",
    "Однако окончательный выбор региона для бурения будет обоснован только после анализа рисков (вероятности убытков) с помощью бутстрепа.\n"
   ]
  },
  {
   "cell_type": "markdown",
   "metadata": {},
   "source": [
    "### Bootstrap-анализ прибыли и рисков\n",
    "\n",
    "На этом этапе для каждого региона с помощью техники Bootstrap (1000 итераций) имитируем процесс выбора 500 случайных скважин (с возвращением) и расчёта прибыли по топ-200 прогнозов.  \n",
    "Это позволит оценить распределение возможной прибыли, рассчитать среднюю прибыль, доверительный интервал и вероятность убытков."
   ]
  },
  {
   "cell_type": "code",
   "execution_count": 12,
   "metadata": {},
   "outputs": [],
   "source": [
    "state = np.random.RandomState(42)\n",
    "n_bootstrap = 1000\n",
    "n_sample = 500        # Размер случайной выборки на итерацию\n",
    "n_top = 200           # Число лучших скважин для расчёта прибыли\n",
    "\n",
    "bootstrap_results = {}\n",
    "\n",
    "for name in names:\n",
    "    profits = []\n",
    "    data = pd.DataFrame({\n",
    "        'y_true': results[name]['y_valid'].values,\n",
    "        'y_pred': results[name]['y_pred']\n",
    "    })\n",
    "    for i in range(n_bootstrap):\n",
    "        # Семплируем 500 скважин с возвращением\n",
    "        sample = data.sample(n=n_sample, replace=True, random_state=state)\n",
    "        # Выбираем топ-200 по прогнозу\n",
    "        selected = sample.sort_values('y_pred', ascending=False).head(n_top)\n",
    "        # Считаем прибыль по выбранным\n",
    "        profit = selected['y_true'].sum() * 450_000 - 10_000_000_000\n",
    "        profits.append(profit)\n",
    "    bootstrap_results[name] = profits"
   ]
  },
  {
   "cell_type": "code",
   "execution_count": 13,
   "metadata": {},
   "outputs": [
    {
     "name": "stdout",
     "output_type": "stream",
     "text": [
      "Регион: geo_0\n",
      "  Средняя прибыль: 399,575,478 руб.\n",
      "  95% доверительный интервал: [-110,467,895; 897,460,328] руб.\n",
      "  Риск убытков: 6.00%\n",
      "\n",
      "Регион: geo_1\n",
      "  Средняя прибыль: 452,576,594 руб.\n",
      "  95% доверительный интервал: [52,309,410; 830,146,313] руб.\n",
      "  Риск убытков: 0.90%\n",
      "\n",
      "Регион: geo_2\n",
      "  Средняя прибыль: 378,705,904 руб.\n",
      "  95% доверительный интервал: [-127,779,435; 907,923,483] руб.\n",
      "  Риск убытков: 7.50%\n",
      "\n"
     ]
    }
   ],
   "source": [
    "for name in names:\n",
    "    profits = np.array(bootstrap_results[name])\n",
    "    mean_profit = profits.mean()\n",
    "    ci_lower = np.percentile(profits, 2.5)\n",
    "    ci_upper = np.percentile(profits, 97.5)\n",
    "    risk = (profits < 0).mean()\n",
    "    \n",
    "    print(f'Регион: {name}')\n",
    "    print(f'  Средняя прибыль: {mean_profit:,.0f} руб.')\n",
    "    print(f'  95% доверительный интервал: [{ci_lower:,.0f}; {ci_upper:,.0f}] руб.')\n",
    "    print(f'  Риск убытков: {risk*100:.2f}%\\n')"
   ]
  },
  {
   "cell_type": "markdown",
   "metadata": {},
   "source": [
    "**Вывод по Bootstrap-анализу рисков и прибыли**\n",
    "\n",
    "**geo_0:**  \n",
    "- Средняя прибыль: **399 575 478 руб.**\n",
    "- 95% доверительный интервал: **[–110 467 895; 897 460 328] руб.**\n",
    "- Риск убытков: **6.00%**\n",
    "\n",
    "**geo_1:**  \n",
    "- Средняя прибыль: **452 576 594 руб.**\n",
    "- 95% доверительный интервал: **[52 309 410; 830 146 313] руб.**\n",
    "- Риск убытков: **0.90%**\n",
    "\n",
    "**geo_2:**  \n",
    "- Средняя прибыль: **378 705 904 руб.**\n",
    "- 95% доверительный интервал: **[–127 779 435; 907 923 483] руб.**\n",
    "- Риск убытков: **7.50%**\n",
    "\n",
    "---\n",
    "\n",
    "**Рекомендация:**  \n",
    "Для дальнейшей разработки следует выбрать **регион geo_1**, так как:\n",
    "- У него наименьший риск убытков (**0.9%**, меньше порога в 2.5%);\n",
    "- Его средняя прибыль также максимальна среди регионов, прошедших по риску.\n",
    "\n",
    "**geo_0** и **geo_2** не подходят: вероятность убытков превышает допустимый порог (2.5%), несмотря на относительно высокие показатели прибыли."
   ]
  },
  {
   "cell_type": "markdown",
   "metadata": {},
   "source": [
    "## Общий вывод по проекту\n",
    "\n",
    "**1. Описание задачи**\n",
    "\n",
    "В рамках проекта была решена задача для нефтедобывающей компании: определить, в каком из трёх регионов бурение новых скважин принесёт наибольшую прибыль при допустимом уровне риска.  \n",
    "В распоряжении были данные по 100 000 скважинам в каждом регионе с измерениями качества нефти (признаки) и объёмом запасов (целевой признак).\n",
    "\n",
    "---\n",
    "\n",
    "**2. Этапы работы**\n",
    "\n",
    "**Анализ и подготовка данных:**\n",
    "- Выполнена загрузка и структурный анализ данных для каждого региона;\n",
    "- Проведены проверки на пропуски, дубликаты, аномалии — все данные оказались чистыми;\n",
    "- Проведён исследовательский анализ распределений и корреляций признаков с целевой переменной.\n",
    "\n",
    "**Построение и валидация модели:**\n",
    "- Для каждого региона обучена линейная регрессия, как наиболее предсказуемый и интерпретируемый алгоритм;\n",
    "- Проверено качество моделей по метрике RMSE на валидационной выборке.\n",
    "\n",
    "**Оценка безубыточности и расчёт прибыли:**\n",
    "- Рассчитан минимальный объём сырья для выхода на безубыточность;\n",
    "- Оценена средняя предсказанная добыча по регионам — везде она оказалась ниже порога безубыточности.\n",
    "\n",
    "**Bootstrap-анализ рисков и прибыли:**\n",
    "- Реализован бутстреп-анализ (1000 итераций): на каждой итерации моделировался реальный выбор 500 скважин с отбором 200 лучших по прогнозу модели;\n",
    "- Для каждого региона рассчитаны средняя прибыль, 95%-й доверительный интервал, риск убытков.\n",
    "\n",
    "---\n",
    "\n",
    "**3. Основные результаты**\n",
    "\n",
    "- **geo_0:** Средняя прибыль — ~400 млн руб., риск убытков — 6.0%.\n",
    "- **geo_1:** Средняя прибыль — ~453 млн руб., риск убытков — 0.9% (единственный регион, проходящий по критерию < 2.5%).\n",
    "- **geo_2:** Средняя прибыль — ~379 млн руб., риск убытков — 7.5%.\n",
    "\n",
    "---\n",
    "\n",
    "**4. Практические рекомендации и бизнес-выводы**\n",
    "\n",
    "- Для бурения рекомендуется выбрать **регион geo_1** — только он соответствует требованиям бизнеса по риску убытков (< 2.5%) и показывает максимальную среднюю прибыль среди допустимых.\n",
    "- В других регионах, несмотря на высокую потенциальную прибыль, риск убытков слишком велик, что не соответствует инвестиционной политике компании.\n",
    "- Подход с использованием ML и анализа риска позволил не только максимизировать прибыль, но и минимизировать вероятность финансовых потерь.\n",
    "\n",
    "---\n",
    "\n",
    "**5. Итог**\n",
    "\n",
    "Благодаря комплексному анализу данных, построению ML-моделей и количественной оценке рисков, компания может обоснованно принять решение о вложении средств в бурение именно в том регионе, который даст наилучшее соотношение прибыль/риск.  \n",
    "**Результаты проекта могут быть использованы для автоматизации отбора месторождений и планирования разведочных работ в других регионах.**"
   ]
  }
 ],
 "metadata": {
  "ExecuteTimeLog": [
   {
    "duration": 12,
    "start_time": "2025-03-28T16:34:30.916Z"
   },
   {
    "duration": 1497,
    "start_time": "2025-07-22T13:37:52.639Z"
   },
   {
    "duration": 166,
    "start_time": "2025-07-22T13:44:23.623Z"
   },
   {
    "duration": 157,
    "start_time": "2025-07-22T13:44:38.037Z"
   },
   {
    "duration": 165,
    "start_time": "2025-07-22T13:44:46.316Z"
   },
   {
    "duration": 162,
    "start_time": "2025-07-22T13:47:33.022Z"
   },
   {
    "duration": 161,
    "start_time": "2025-07-22T13:48:30.036Z"
   },
   {
    "duration": 1219,
    "start_time": "2025-07-22T13:48:51.903Z"
   },
   {
    "duration": 168,
    "start_time": "2025-07-22T13:48:53.125Z"
   },
   {
    "duration": 154,
    "start_time": "2025-07-22T13:48:53.295Z"
   },
   {
    "duration": 156,
    "start_time": "2025-07-22T13:48:53.451Z"
   },
   {
    "duration": 1216,
    "start_time": "2025-07-22T13:49:18.586Z"
   },
   {
    "duration": 173,
    "start_time": "2025-07-22T13:49:19.804Z"
   },
   {
    "duration": 165,
    "start_time": "2025-07-22T13:49:19.978Z"
   },
   {
    "duration": 160,
    "start_time": "2025-07-22T13:49:20.145Z"
   },
   {
    "duration": 157,
    "start_time": "2025-07-22T13:56:36.281Z"
   },
   {
    "duration": 138,
    "start_time": "2025-07-22T13:59:15.122Z"
   },
   {
    "duration": 9199,
    "start_time": "2025-07-22T14:16:02.889Z"
   },
   {
    "duration": 36,
    "start_time": "2025-07-22T14:27:24.192Z"
   },
   {
    "duration": 28,
    "start_time": "2025-07-22T14:27:38.620Z"
   },
   {
    "duration": 31,
    "start_time": "2025-07-22T14:27:40.868Z"
   },
   {
    "duration": 1232,
    "start_time": "2025-07-22T14:58:42.868Z"
   },
   {
    "duration": 1229,
    "start_time": "2025-07-22T14:59:22.074Z"
   },
   {
    "duration": 547,
    "start_time": "2025-07-22T15:06:43.964Z"
   },
   {
    "duration": 1381,
    "start_time": "2025-07-22T15:07:21.118Z"
   },
   {
    "duration": 1166,
    "start_time": "2025-07-28T08:12:44.039Z"
   },
   {
    "duration": 174,
    "start_time": "2025-07-28T08:12:45.207Z"
   },
   {
    "duration": 153,
    "start_time": "2025-07-28T08:12:45.383Z"
   },
   {
    "duration": 155,
    "start_time": "2025-07-28T08:12:45.539Z"
   },
   {
    "duration": 151,
    "start_time": "2025-07-28T08:12:45.695Z"
   },
   {
    "duration": 8965,
    "start_time": "2025-07-28T08:12:45.848Z"
   },
   {
    "duration": 1180,
    "start_time": "2025-07-28T08:12:54.814Z"
   },
   {
    "duration": 260,
    "start_time": "2025-07-28T08:18:58.694Z"
   },
   {
    "duration": 273,
    "start_time": "2025-07-28T08:19:49.823Z"
   },
   {
    "duration": 1518,
    "start_time": "2025-07-28T08:27:36.272Z"
   },
   {
    "duration": 176,
    "start_time": "2025-07-28T08:27:37.792Z"
   },
   {
    "duration": 160,
    "start_time": "2025-07-28T08:27:37.977Z"
   },
   {
    "duration": 159,
    "start_time": "2025-07-28T08:27:38.139Z"
   },
   {
    "duration": 147,
    "start_time": "2025-07-28T08:27:38.300Z"
   },
   {
    "duration": 8978,
    "start_time": "2025-07-28T08:27:38.449Z"
   },
   {
    "duration": 1150,
    "start_time": "2025-07-28T08:27:47.429Z"
   },
   {
    "duration": 404,
    "start_time": "2025-07-28T08:27:48.581Z"
   },
   {
    "duration": 276,
    "start_time": "2025-07-28T08:29:18.311Z"
   },
   {
    "duration": 1484,
    "start_time": "2025-07-28T08:31:09.171Z"
   },
   {
    "duration": 169,
    "start_time": "2025-07-28T08:31:10.657Z"
   },
   {
    "duration": 155,
    "start_time": "2025-07-28T08:31:10.828Z"
   },
   {
    "duration": 160,
    "start_time": "2025-07-28T08:31:10.986Z"
   },
   {
    "duration": 149,
    "start_time": "2025-07-28T08:31:11.149Z"
   },
   {
    "duration": 8821,
    "start_time": "2025-07-28T08:31:11.300Z"
   },
   {
    "duration": 1143,
    "start_time": "2025-07-28T08:31:20.123Z"
   },
   {
    "duration": 511,
    "start_time": "2025-07-28T08:31:21.268Z"
   },
   {
    "duration": 5,
    "start_time": "2025-07-28T08:56:57.081Z"
   },
   {
    "duration": 4,
    "start_time": "2025-07-28T09:18:54.833Z"
   },
   {
    "duration": 8,
    "start_time": "2025-07-28T09:19:03.425Z"
   },
   {
    "duration": 8,
    "start_time": "2025-07-28T09:19:30.381Z"
   },
   {
    "duration": 1420,
    "start_time": "2025-07-28T09:19:46.632Z"
   },
   {
    "duration": 175,
    "start_time": "2025-07-28T09:19:48.054Z"
   },
   {
    "duration": 160,
    "start_time": "2025-07-28T09:19:48.231Z"
   },
   {
    "duration": 166,
    "start_time": "2025-07-28T09:19:48.393Z"
   },
   {
    "duration": 147,
    "start_time": "2025-07-28T09:19:48.561Z"
   },
   {
    "duration": 10713,
    "start_time": "2025-07-28T09:19:48.710Z"
   },
   {
    "duration": 1142,
    "start_time": "2025-07-28T09:19:59.426Z"
   },
   {
    "duration": 512,
    "start_time": "2025-07-28T09:20:00.569Z"
   },
   {
    "duration": 93,
    "start_time": "2025-07-28T09:20:01.083Z"
   },
   {
    "duration": 99,
    "start_time": "2025-07-28T09:20:01.179Z"
   },
   {
    "duration": 29,
    "start_time": "2025-07-28T09:20:01.280Z"
   },
   {
    "duration": 48,
    "start_time": "2025-07-28T09:20:01.335Z"
   },
   {
    "duration": 15,
    "start_time": "2025-07-28T09:20:01.385Z"
   },
   {
    "duration": 8,
    "start_time": "2025-07-28T09:20:22.892Z"
   },
   {
    "duration": 16,
    "start_time": "2025-07-28T09:22:16.709Z"
   },
   {
    "duration": 17,
    "start_time": "2025-07-28T09:22:41.210Z"
   },
   {
    "duration": 5,
    "start_time": "2025-07-28T09:25:21.829Z"
   },
   {
    "duration": 1705,
    "start_time": "2025-07-28T09:25:28.799Z"
   },
   {
    "duration": 171,
    "start_time": "2025-07-28T09:25:30.506Z"
   },
   {
    "duration": 165,
    "start_time": "2025-07-28T09:25:30.679Z"
   },
   {
    "duration": 162,
    "start_time": "2025-07-28T09:25:30.845Z"
   },
   {
    "duration": 152,
    "start_time": "2025-07-28T09:25:31.009Z"
   },
   {
    "duration": 10007,
    "start_time": "2025-07-28T09:25:31.163Z"
   },
   {
    "duration": 1219,
    "start_time": "2025-07-28T09:25:41.171Z"
   },
   {
    "duration": 484,
    "start_time": "2025-07-28T09:25:42.392Z"
   },
   {
    "duration": 8,
    "start_time": "2025-07-28T09:25:42.879Z"
   },
   {
    "duration": 4,
    "start_time": "2025-07-28T09:25:42.978Z"
   },
   {
    "duration": 24,
    "start_time": "2025-07-28T09:25:42.984Z"
   },
   {
    "duration": 2122,
    "start_time": "2025-07-28T09:30:45.971Z"
   },
   {
    "duration": 8,
    "start_time": "2025-07-28T09:30:59.099Z"
   }
  ],
  "kernelspec": {
   "display_name": "Python 3 (ipykernel)",
   "language": "python",
   "name": "python3"
  },
  "language_info": {
   "codemirror_mode": {
    "name": "ipython",
    "version": 3
   },
   "file_extension": ".py",
   "mimetype": "text/x-python",
   "name": "python",
   "nbconvert_exporter": "python",
   "pygments_lexer": "ipython3",
   "version": "3.9.5"
  },
  "toc": {
   "base_numbering": 1,
   "nav_menu": {},
   "number_sections": true,
   "sideBar": true,
   "skip_h1_title": true,
   "title_cell": "Table of Contents",
   "title_sidebar": "Contents",
   "toc_cell": false,
   "toc_position": {
    "height": "calc(100% - 180px)",
    "left": "10px",
    "top": "150px",
    "width": "222.188px"
   },
   "toc_section_display": true,
   "toc_window_display": false
  }
 },
 "nbformat": 4,
 "nbformat_minor": 2
}
