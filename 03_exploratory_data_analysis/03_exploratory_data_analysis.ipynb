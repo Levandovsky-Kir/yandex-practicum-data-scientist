{
 "cells": [
  {
   "cell_type": "markdown",
   "metadata": {
    "id": "-VFbjcb3Awb7"
   },
   "source": [
    "# Исследование объявлений о продаже квартир\n",
    "\n",
    "В вашем распоряжении данные сервиса Яндекс Недвижимость — архив объявлений о продаже квартир в Санкт-Петербурге и соседних населённых пунктах за несколько лет. Вам нужно научиться определять рыночную стоимость объектов недвижимости. Для этого проведите исследовательский анализ данных и установите параметры, влияющие на цену объектов. Это позволит построить автоматизированную систему: она отследит аномалии и мошенническую деятельность.\n",
    "\n",
    "По каждой квартире на продажу доступны два вида данных. Первые вписаны пользователем, вторые — получены автоматически на основе картографических данных. Например, расстояние до центра, аэропорта и других объектов — эти данные автоматически получены из геосервисов. Количество парков и водоёмов также заполняется без участия пользователя."
   ]
  },
  {
   "cell_type": "markdown",
   "metadata": {
    "id": "aeFLH07FAwb9"
   },
   "source": [
    "### Открыте файла с данными и изучение общей информации"
   ]
  },
  {
   "cell_type": "code",
   "execution_count": 1,
   "metadata": {},
   "outputs": [],
   "source": [
    "import pandas as pd"
   ]
  },
  {
   "cell_type": "code",
   "execution_count": 2,
   "metadata": {},
   "outputs": [],
   "source": [
    "import matplotlib.pyplot as plt"
   ]
  },
  {
   "cell_type": "code",
   "execution_count": 3,
   "metadata": {
    "id": "7MZxY65pAwb9"
   },
   "outputs": [
    {
     "name": "stdout",
     "output_type": "stream",
     "text": [
      "<class 'pandas.core.frame.DataFrame'>\n",
      "RangeIndex: 23699 entries, 0 to 23698\n",
      "Data columns (total 22 columns):\n",
      " #   Column                Non-Null Count  Dtype  \n",
      "---  ------                --------------  -----  \n",
      " 0   total_images          23699 non-null  int64  \n",
      " 1   last_price            23699 non-null  float64\n",
      " 2   total_area            23699 non-null  float64\n",
      " 3   first_day_exposition  23699 non-null  object \n",
      " 4   rooms                 23699 non-null  int64  \n",
      " 5   ceiling_height        14504 non-null  float64\n",
      " 6   floors_total          23613 non-null  float64\n",
      " 7   living_area           21796 non-null  float64\n",
      " 8   floor                 23699 non-null  int64  \n",
      " 9   is_apartment          2775 non-null   object \n",
      " 10  studio                23699 non-null  bool   \n",
      " 11  open_plan             23699 non-null  bool   \n",
      " 12  kitchen_area          21421 non-null  float64\n",
      " 13  balcony               12180 non-null  float64\n",
      " 14  locality_name         23650 non-null  object \n",
      " 15  airports_nearest      18157 non-null  float64\n",
      " 16  cityCenters_nearest   18180 non-null  float64\n",
      " 17  parks_around3000      18181 non-null  float64\n",
      " 18  parks_nearest         8079 non-null   float64\n",
      " 19  ponds_around3000      18181 non-null  float64\n",
      " 20  ponds_nearest         9110 non-null   float64\n",
      " 21  days_exposition       20518 non-null  float64\n",
      "dtypes: bool(2), float64(14), int64(3), object(3)\n",
      "memory usage: 3.7+ MB\n"
     ]
    }
   ],
   "source": [
    "data = pd.read_csv('/datasets/real_estate_data.csv', sep='\\t')\n",
    "data.info()"
   ]
  },
  {
   "cell_type": "code",
   "execution_count": 4,
   "metadata": {
    "scrolled": false
   },
   "outputs": [
    {
     "data": {
      "text/html": [
       "<div>\n",
       "<style scoped>\n",
       "    .dataframe tbody tr th:only-of-type {\n",
       "        vertical-align: middle;\n",
       "    }\n",
       "\n",
       "    .dataframe tbody tr th {\n",
       "        vertical-align: top;\n",
       "    }\n",
       "\n",
       "    .dataframe thead th {\n",
       "        text-align: right;\n",
       "    }\n",
       "</style>\n",
       "<table border=\"1\" class=\"dataframe\">\n",
       "  <thead>\n",
       "    <tr style=\"text-align: right;\">\n",
       "      <th></th>\n",
       "      <th>total_images</th>\n",
       "      <th>last_price</th>\n",
       "      <th>total_area</th>\n",
       "      <th>first_day_exposition</th>\n",
       "      <th>rooms</th>\n",
       "      <th>ceiling_height</th>\n",
       "      <th>floors_total</th>\n",
       "      <th>living_area</th>\n",
       "      <th>floor</th>\n",
       "      <th>is_apartment</th>\n",
       "      <th>studio</th>\n",
       "      <th>open_plan</th>\n",
       "      <th>kitchen_area</th>\n",
       "      <th>balcony</th>\n",
       "      <th>locality_name</th>\n",
       "      <th>airports_nearest</th>\n",
       "      <th>cityCenters_nearest</th>\n",
       "      <th>parks_around3000</th>\n",
       "      <th>parks_nearest</th>\n",
       "      <th>ponds_around3000</th>\n",
       "      <th>ponds_nearest</th>\n",
       "      <th>days_exposition</th>\n",
       "    </tr>\n",
       "  </thead>\n",
       "  <tbody>\n",
       "    <tr>\n",
       "      <th>0</th>\n",
       "      <td>20</td>\n",
       "      <td>13000000.0</td>\n",
       "      <td>108.00</td>\n",
       "      <td>2019-03-07T00:00:00</td>\n",
       "      <td>3</td>\n",
       "      <td>2.70</td>\n",
       "      <td>16.0</td>\n",
       "      <td>51.00</td>\n",
       "      <td>8</td>\n",
       "      <td>NaN</td>\n",
       "      <td>False</td>\n",
       "      <td>False</td>\n",
       "      <td>25.00</td>\n",
       "      <td>NaN</td>\n",
       "      <td>Санкт-Петербург</td>\n",
       "      <td>18863.0</td>\n",
       "      <td>16028.0</td>\n",
       "      <td>1.0</td>\n",
       "      <td>482.0</td>\n",
       "      <td>2.0</td>\n",
       "      <td>755.0</td>\n",
       "      <td>NaN</td>\n",
       "    </tr>\n",
       "    <tr>\n",
       "      <th>1</th>\n",
       "      <td>7</td>\n",
       "      <td>3350000.0</td>\n",
       "      <td>40.40</td>\n",
       "      <td>2018-12-04T00:00:00</td>\n",
       "      <td>1</td>\n",
       "      <td>NaN</td>\n",
       "      <td>11.0</td>\n",
       "      <td>18.60</td>\n",
       "      <td>1</td>\n",
       "      <td>NaN</td>\n",
       "      <td>False</td>\n",
       "      <td>False</td>\n",
       "      <td>11.00</td>\n",
       "      <td>2.0</td>\n",
       "      <td>посёлок Шушары</td>\n",
       "      <td>12817.0</td>\n",
       "      <td>18603.0</td>\n",
       "      <td>0.0</td>\n",
       "      <td>NaN</td>\n",
       "      <td>0.0</td>\n",
       "      <td>NaN</td>\n",
       "      <td>81.0</td>\n",
       "    </tr>\n",
       "    <tr>\n",
       "      <th>2</th>\n",
       "      <td>10</td>\n",
       "      <td>5196000.0</td>\n",
       "      <td>56.00</td>\n",
       "      <td>2015-08-20T00:00:00</td>\n",
       "      <td>2</td>\n",
       "      <td>NaN</td>\n",
       "      <td>5.0</td>\n",
       "      <td>34.30</td>\n",
       "      <td>4</td>\n",
       "      <td>NaN</td>\n",
       "      <td>False</td>\n",
       "      <td>False</td>\n",
       "      <td>8.30</td>\n",
       "      <td>0.0</td>\n",
       "      <td>Санкт-Петербург</td>\n",
       "      <td>21741.0</td>\n",
       "      <td>13933.0</td>\n",
       "      <td>1.0</td>\n",
       "      <td>90.0</td>\n",
       "      <td>2.0</td>\n",
       "      <td>574.0</td>\n",
       "      <td>558.0</td>\n",
       "    </tr>\n",
       "    <tr>\n",
       "      <th>3</th>\n",
       "      <td>0</td>\n",
       "      <td>64900000.0</td>\n",
       "      <td>159.00</td>\n",
       "      <td>2015-07-24T00:00:00</td>\n",
       "      <td>3</td>\n",
       "      <td>NaN</td>\n",
       "      <td>14.0</td>\n",
       "      <td>NaN</td>\n",
       "      <td>9</td>\n",
       "      <td>NaN</td>\n",
       "      <td>False</td>\n",
       "      <td>False</td>\n",
       "      <td>NaN</td>\n",
       "      <td>0.0</td>\n",
       "      <td>Санкт-Петербург</td>\n",
       "      <td>28098.0</td>\n",
       "      <td>6800.0</td>\n",
       "      <td>2.0</td>\n",
       "      <td>84.0</td>\n",
       "      <td>3.0</td>\n",
       "      <td>234.0</td>\n",
       "      <td>424.0</td>\n",
       "    </tr>\n",
       "    <tr>\n",
       "      <th>4</th>\n",
       "      <td>2</td>\n",
       "      <td>10000000.0</td>\n",
       "      <td>100.00</td>\n",
       "      <td>2018-06-19T00:00:00</td>\n",
       "      <td>2</td>\n",
       "      <td>3.03</td>\n",
       "      <td>14.0</td>\n",
       "      <td>32.00</td>\n",
       "      <td>13</td>\n",
       "      <td>NaN</td>\n",
       "      <td>False</td>\n",
       "      <td>False</td>\n",
       "      <td>41.00</td>\n",
       "      <td>NaN</td>\n",
       "      <td>Санкт-Петербург</td>\n",
       "      <td>31856.0</td>\n",
       "      <td>8098.0</td>\n",
       "      <td>2.0</td>\n",
       "      <td>112.0</td>\n",
       "      <td>1.0</td>\n",
       "      <td>48.0</td>\n",
       "      <td>121.0</td>\n",
       "    </tr>\n",
       "    <tr>\n",
       "      <th>5</th>\n",
       "      <td>10</td>\n",
       "      <td>2890000.0</td>\n",
       "      <td>30.40</td>\n",
       "      <td>2018-09-10T00:00:00</td>\n",
       "      <td>1</td>\n",
       "      <td>NaN</td>\n",
       "      <td>12.0</td>\n",
       "      <td>14.40</td>\n",
       "      <td>5</td>\n",
       "      <td>NaN</td>\n",
       "      <td>False</td>\n",
       "      <td>False</td>\n",
       "      <td>9.10</td>\n",
       "      <td>NaN</td>\n",
       "      <td>городской посёлок Янино-1</td>\n",
       "      <td>NaN</td>\n",
       "      <td>NaN</td>\n",
       "      <td>NaN</td>\n",
       "      <td>NaN</td>\n",
       "      <td>NaN</td>\n",
       "      <td>NaN</td>\n",
       "      <td>55.0</td>\n",
       "    </tr>\n",
       "    <tr>\n",
       "      <th>6</th>\n",
       "      <td>6</td>\n",
       "      <td>3700000.0</td>\n",
       "      <td>37.30</td>\n",
       "      <td>2017-11-02T00:00:00</td>\n",
       "      <td>1</td>\n",
       "      <td>NaN</td>\n",
       "      <td>26.0</td>\n",
       "      <td>10.60</td>\n",
       "      <td>6</td>\n",
       "      <td>NaN</td>\n",
       "      <td>False</td>\n",
       "      <td>False</td>\n",
       "      <td>14.40</td>\n",
       "      <td>1.0</td>\n",
       "      <td>посёлок Парголово</td>\n",
       "      <td>52996.0</td>\n",
       "      <td>19143.0</td>\n",
       "      <td>0.0</td>\n",
       "      <td>NaN</td>\n",
       "      <td>0.0</td>\n",
       "      <td>NaN</td>\n",
       "      <td>155.0</td>\n",
       "    </tr>\n",
       "    <tr>\n",
       "      <th>7</th>\n",
       "      <td>5</td>\n",
       "      <td>7915000.0</td>\n",
       "      <td>71.60</td>\n",
       "      <td>2019-04-18T00:00:00</td>\n",
       "      <td>2</td>\n",
       "      <td>NaN</td>\n",
       "      <td>24.0</td>\n",
       "      <td>NaN</td>\n",
       "      <td>22</td>\n",
       "      <td>NaN</td>\n",
       "      <td>False</td>\n",
       "      <td>False</td>\n",
       "      <td>18.90</td>\n",
       "      <td>2.0</td>\n",
       "      <td>Санкт-Петербург</td>\n",
       "      <td>23982.0</td>\n",
       "      <td>11634.0</td>\n",
       "      <td>0.0</td>\n",
       "      <td>NaN</td>\n",
       "      <td>0.0</td>\n",
       "      <td>NaN</td>\n",
       "      <td>NaN</td>\n",
       "    </tr>\n",
       "    <tr>\n",
       "      <th>8</th>\n",
       "      <td>20</td>\n",
       "      <td>2900000.0</td>\n",
       "      <td>33.16</td>\n",
       "      <td>2018-05-23T00:00:00</td>\n",
       "      <td>1</td>\n",
       "      <td>NaN</td>\n",
       "      <td>27.0</td>\n",
       "      <td>15.43</td>\n",
       "      <td>26</td>\n",
       "      <td>NaN</td>\n",
       "      <td>False</td>\n",
       "      <td>False</td>\n",
       "      <td>8.81</td>\n",
       "      <td>NaN</td>\n",
       "      <td>посёлок Мурино</td>\n",
       "      <td>NaN</td>\n",
       "      <td>NaN</td>\n",
       "      <td>NaN</td>\n",
       "      <td>NaN</td>\n",
       "      <td>NaN</td>\n",
       "      <td>NaN</td>\n",
       "      <td>189.0</td>\n",
       "    </tr>\n",
       "    <tr>\n",
       "      <th>9</th>\n",
       "      <td>18</td>\n",
       "      <td>5400000.0</td>\n",
       "      <td>61.00</td>\n",
       "      <td>2017-02-26T00:00:00</td>\n",
       "      <td>3</td>\n",
       "      <td>2.50</td>\n",
       "      <td>9.0</td>\n",
       "      <td>43.60</td>\n",
       "      <td>7</td>\n",
       "      <td>NaN</td>\n",
       "      <td>False</td>\n",
       "      <td>False</td>\n",
       "      <td>6.50</td>\n",
       "      <td>2.0</td>\n",
       "      <td>Санкт-Петербург</td>\n",
       "      <td>50898.0</td>\n",
       "      <td>15008.0</td>\n",
       "      <td>0.0</td>\n",
       "      <td>NaN</td>\n",
       "      <td>0.0</td>\n",
       "      <td>NaN</td>\n",
       "      <td>289.0</td>\n",
       "    </tr>\n",
       "  </tbody>\n",
       "</table>\n",
       "</div>"
      ],
      "text/plain": [
       "   total_images  last_price  total_area first_day_exposition  rooms  \\\n",
       "0            20  13000000.0      108.00  2019-03-07T00:00:00      3   \n",
       "1             7   3350000.0       40.40  2018-12-04T00:00:00      1   \n",
       "2            10   5196000.0       56.00  2015-08-20T00:00:00      2   \n",
       "3             0  64900000.0      159.00  2015-07-24T00:00:00      3   \n",
       "4             2  10000000.0      100.00  2018-06-19T00:00:00      2   \n",
       "5            10   2890000.0       30.40  2018-09-10T00:00:00      1   \n",
       "6             6   3700000.0       37.30  2017-11-02T00:00:00      1   \n",
       "7             5   7915000.0       71.60  2019-04-18T00:00:00      2   \n",
       "8            20   2900000.0       33.16  2018-05-23T00:00:00      1   \n",
       "9            18   5400000.0       61.00  2017-02-26T00:00:00      3   \n",
       "\n",
       "   ceiling_height  floors_total  living_area  floor is_apartment  studio  \\\n",
       "0            2.70          16.0        51.00      8          NaN   False   \n",
       "1             NaN          11.0        18.60      1          NaN   False   \n",
       "2             NaN           5.0        34.30      4          NaN   False   \n",
       "3             NaN          14.0          NaN      9          NaN   False   \n",
       "4            3.03          14.0        32.00     13          NaN   False   \n",
       "5             NaN          12.0        14.40      5          NaN   False   \n",
       "6             NaN          26.0        10.60      6          NaN   False   \n",
       "7             NaN          24.0          NaN     22          NaN   False   \n",
       "8             NaN          27.0        15.43     26          NaN   False   \n",
       "9            2.50           9.0        43.60      7          NaN   False   \n",
       "\n",
       "   open_plan  kitchen_area  balcony              locality_name  \\\n",
       "0      False         25.00      NaN            Санкт-Петербург   \n",
       "1      False         11.00      2.0             посёлок Шушары   \n",
       "2      False          8.30      0.0            Санкт-Петербург   \n",
       "3      False           NaN      0.0            Санкт-Петербург   \n",
       "4      False         41.00      NaN            Санкт-Петербург   \n",
       "5      False          9.10      NaN  городской посёлок Янино-1   \n",
       "6      False         14.40      1.0          посёлок Парголово   \n",
       "7      False         18.90      2.0            Санкт-Петербург   \n",
       "8      False          8.81      NaN             посёлок Мурино   \n",
       "9      False          6.50      2.0            Санкт-Петербург   \n",
       "\n",
       "   airports_nearest  cityCenters_nearest  parks_around3000  parks_nearest  \\\n",
       "0           18863.0              16028.0               1.0          482.0   \n",
       "1           12817.0              18603.0               0.0            NaN   \n",
       "2           21741.0              13933.0               1.0           90.0   \n",
       "3           28098.0               6800.0               2.0           84.0   \n",
       "4           31856.0               8098.0               2.0          112.0   \n",
       "5               NaN                  NaN               NaN            NaN   \n",
       "6           52996.0              19143.0               0.0            NaN   \n",
       "7           23982.0              11634.0               0.0            NaN   \n",
       "8               NaN                  NaN               NaN            NaN   \n",
       "9           50898.0              15008.0               0.0            NaN   \n",
       "\n",
       "   ponds_around3000  ponds_nearest  days_exposition  \n",
       "0               2.0          755.0              NaN  \n",
       "1               0.0            NaN             81.0  \n",
       "2               2.0          574.0            558.0  \n",
       "3               3.0          234.0            424.0  \n",
       "4               1.0           48.0            121.0  \n",
       "5               NaN            NaN             55.0  \n",
       "6               0.0            NaN            155.0  \n",
       "7               0.0            NaN              NaN  \n",
       "8               NaN            NaN            189.0  \n",
       "9               0.0            NaN            289.0  "
      ]
     },
     "execution_count": 4,
     "metadata": {},
     "output_type": "execute_result"
    }
   ],
   "source": [
    "pd.set_option('display.max_columns', None)\n",
    "data.head(10) # Ознакомление с данными"
   ]
  },
  {
   "cell_type": "code",
   "execution_count": 5,
   "metadata": {
    "scrolled": false
   },
   "outputs": [
    {
     "data": {
      "image/png": "[encoded data removed]",
      "text/plain": [
       "<Figure size 1080x1440 with 20 Axes>"
      ]
     },
     "metadata": {
      "needs_background": "light"
     },
     "output_type": "display_data"
    }
   ],
   "source": [
    "data.hist(bins = 40, figsize=(15, 20)); #построение гистограммы для всех числовых столбцов"
   ]
  },
  {
   "cell_type": "markdown",
   "metadata": {
    "id": "-O5NtivEAwb9"
   },
   "source": [
    "### Предобработка данных"
   ]
  },
  {
   "cell_type": "markdown",
   "metadata": {},
   "source": [
    "#### Поиск пропущенных значений"
   ]
  },
  {
   "cell_type": "code",
   "execution_count": 6,
   "metadata": {
    "id": "7v3vAeTuAwb-",
    "scrolled": false
   },
   "outputs": [
    {
     "data": {
      "text/plain": [
       "total_images                0\n",
       "last_price                  0\n",
       "total_area                  0\n",
       "first_day_exposition        0\n",
       "rooms                       0\n",
       "ceiling_height           9195\n",
       "floors_total               86\n",
       "living_area              1903\n",
       "floor                       0\n",
       "is_apartment            20924\n",
       "studio                      0\n",
       "open_plan                   0\n",
       "kitchen_area             2278\n",
       "balcony                 11519\n",
       "locality_name              49\n",
       "airports_nearest         5542\n",
       "cityCenters_nearest      5519\n",
       "parks_around3000         5518\n",
       "parks_nearest           15620\n",
       "ponds_around3000         5518\n",
       "ponds_nearest           14589\n",
       "days_exposition          3181\n",
       "dtype: int64"
      ]
     },
     "execution_count": 6,
     "metadata": {},
     "output_type": "execute_result"
    }
   ],
   "source": [
    "data.isna().sum()"
   ]
  },
  {
   "cell_type": "markdown",
   "metadata": {},
   "source": [
    "#### Заполнение пропущенных значений"
   ]
  },
  {
   "cell_type": "code",
   "execution_count": 7,
   "metadata": {},
   "outputs": [],
   "source": [
    "# Замена пропусков на 0 в столбце balcony, parks_around3000, ponds_around3000\n",
    "data['balcony'].fillna(0, inplace = True)\n",
    "data['parks_around3000'].fillna(0, inplace = True)\n",
    "data['ponds_around3000'].fillna(0, inplace = True)\n",
    "\n",
    "# Замена пропусков на False в столбце is_apartment\n",
    "data['is_apartment'].fillna(False, inplace = True)\n",
    "\n",
    "# Замена пропусков на медианное значение высоты потолков в столбце ceiling_height\n",
    "data['ceiling_height'].fillna(data['ceiling_height'].median(), inplace = True)\n",
    "\n",
    "# Замена пропусков в столбце living_area\n",
    "# Рассчитаем медианное соотношение living_area к total_area для имеющихся данных\n",
    "median_ratio_living = (data['living_area'] / data['total_area']).median()\n",
    "# Используем медианное соотношение для заполнения пропусков в столбце living_area\n",
    "data['living_area'].fillna(data['total_area'] * median_ratio_living, inplace=True)\n",
    "data['living_area'] = data['living_area'].round(2)\n",
    "\n",
    "# Замена пропусков в столбце kitchen_area\n",
    "# Рассчитаем медианное соотношение kitchen_area к total_area для имеющихся данных\n",
    "median_ratio_kitchen = (data['kitchen_area'] / data['total_area']).median()\n",
    "# Используем медианное соотношение для заполнения пропусков в столбце living_area\n",
    "data['kitchen_area'].fillna(data['total_area'] * median_ratio_kitchen, inplace=True)\n",
    "data['kitchen_area'] = data['kitchen_area'].round(2)\n",
    "\n",
    "# Замена пропусков на медианное значение всего этажей в доме в столбце floors_total\n",
    "data['floors_total'].fillna(data['floors_total'].median(), inplace = True)"
   ]
  },
  {
   "cell_type": "code",
   "execution_count": 8,
   "metadata": {},
   "outputs": [
    {
     "data": {
      "text/plain": [
       "total_images                0\n",
       "last_price                  0\n",
       "total_area                  0\n",
       "first_day_exposition        0\n",
       "rooms                       0\n",
       "ceiling_height              0\n",
       "floors_total                0\n",
       "living_area                 0\n",
       "floor                       0\n",
       "is_apartment                0\n",
       "studio                      0\n",
       "open_plan                   0\n",
       "kitchen_area                0\n",
       "balcony                     0\n",
       "locality_name              49\n",
       "airports_nearest         5542\n",
       "cityCenters_nearest      5519\n",
       "parks_around3000            0\n",
       "parks_nearest           15620\n",
       "ponds_around3000            0\n",
       "ponds_nearest           14589\n",
       "days_exposition          3181\n",
       "dtype: int64"
      ]
     },
     "execution_count": 8,
     "metadata": {},
     "output_type": "execute_result"
    }
   ],
   "source": [
    "# Проверка заполнения пропущенных значений\n",
    "data.isna().sum()"
   ]
  },
  {
   "cell_type": "markdown",
   "metadata": {},
   "source": [
    "##### Краткий вывод о причинах пропусков и методах их заполнения\n",
    "\n",
    "1. **`ceiling_height` (высота потолков)** — 9195 пропусков:\n",
    "   - **Причина:** Высота потолков — это не всегда обязательный параметр для пользователей, и часто её не указывают в объявлениях. Особенно в типовых домах, где высота потолков может считаться стандартной и не уточняется.\n",
    "   - **Метод:** Пропуски заменены медианным значением, так как это стандартное значение, которое не искажает распределение данных.  \n",
    "2. **`floors_total` (всего этажей в доме)** — 86 пропусков:\n",
    "   - **Причина:** Пропуски могли возникнуть из-за неаккуратного ввода данных пользователями.\n",
    "   - **Метод:** Использование медианного значения, так как это оптимальный способ заполнения числовых данных при их относительно равномерном распределении.    \n",
    "3. **`living_area` (жилая площадь)** — 1903 пропуска:\n",
    "   - **Причина:** Пользователи могли не указать жилую площадь, особенно если они не знали её точного значения. Это часто встречается, когда площадь разных комнат неизвестна или нет детальной планировки.\n",
    "   - **Метод:** Пропуски заполнены на основе медианного соотношения между общей и жилой площадями, что позволяет учесть размер каждой квартиры при заполнении данных.\n",
    "4. **`is_apartment` (апартаменты)** — 20924 пропуска:\n",
    "   - **Причина:** Большинство квартир не являются апартаментами, и пользователи просто не указывают эту характеристику, полагая её неважной для стандартного жилья.\n",
    "   - **Метод:** Пропуски заменены на `False`, так как апартаменты — это особая категория недвижимости, а отсутствие информации скорее всего указывает на стандартные квартиры.\n",
    "5. **`kitchen_area` (площадь кухни)** — 2278 пропусков:\n",
    "   - **Причина:** Как и в случае с жилой площадью, пользователи могли не знать точную площадь кухни или посчитали её незначительной для объявления. Это особенно характерно для старых объектов, где планировка плохо документирована.\n",
    "   - **Метод:** Пропуски заполнены на основе медианного соотношения с общей площадью, что помогает сохранить соразмерность площади кухни по отношению к общей площади квартиры.\n",
    "6. **`balcony` (число балконов)** — 11519 пропусков:\n",
    "   - **Причина:** В объявлениях часто не указывают число балконов, особенно если их нет, поскольку это может считаться несущественной информацией для продажи.\n",
    "   - **Метод:** Пропуски заменены на `0`, так как отсутствие информации о балконе вероятнее всего означает, что балконов нет.\n",
    "7. **`locality_name` (название населённого пункта)** — 49 пропусков:\n",
    "   - **Причина:** Пропуски могли возникнуть из-за ошибок при автоматической подгрузке данных о местоположении. Например, если геолокационные данные не были корректно распознаны системой.\n",
    "   - **Метод:** Пропуски оставлены, так как их корректное восстановление затруднительно без точных данных о местоположении.\n",
    "8. **`airports_nearest`, `cityCenters_nearest`, `parks_nearest`, `ponds_nearest` (геоданные)** — тысячи пропусков:\n",
    "   - **Причина:** Эти данные подгружаются автоматически на основе геолокации, и если объект (например, аэропорт, центр города, парк или водоём) не был найден в радиусе или геолокация не была определена точно, возникают пропуски.\n",
    "   - **Метод:** Пропуски оставлены, так как их корректное заполнение невозможно, а замена на `0` исказит данные, подразумевая, что объекты находятся непосредственно рядом с недвижимостью.\n",
    "9. **`days_exposition` (время размещения объявления)** — 3181 пропуск:\n",
    "   - **Причина:** Пропуски могут быть связаны с техническими ошибками при снятии объявления с публикации или с отсутствием полной информации о времени размещения.\n",
    "   - **Метод:** Пропуски оставлены, так как точное восстановление этих данных затруднительно, и их отсутствие может само по себе быть важной информацией.\n"
   ]
  },
  {
   "cell_type": "markdown",
   "metadata": {},
   "source": [
    "#### Преобразования типа данных"
   ]
  },
  {
   "cell_type": "code",
   "execution_count": 9,
   "metadata": {
    "scrolled": false
   },
   "outputs": [
    {
     "data": {
      "text/plain": [
       "total_images              int64\n",
       "last_price              float64\n",
       "total_area              float64\n",
       "first_day_exposition     object\n",
       "rooms                     int64\n",
       "ceiling_height          float64\n",
       "floors_total            float64\n",
       "living_area             float64\n",
       "floor                     int64\n",
       "is_apartment               bool\n",
       "studio                     bool\n",
       "open_plan                  bool\n",
       "kitchen_area            float64\n",
       "balcony                 float64\n",
       "locality_name            object\n",
       "airports_nearest        float64\n",
       "cityCenters_nearest     float64\n",
       "parks_around3000        float64\n",
       "parks_nearest           float64\n",
       "ponds_around3000        float64\n",
       "ponds_nearest           float64\n",
       "days_exposition         float64\n",
       "dtype: object"
      ]
     },
     "execution_count": 9,
     "metadata": {},
     "output_type": "execute_result"
    }
   ],
   "source": [
    "# Ознакомление с типыми данных\n",
    "data.dtypes"
   ]
  },
  {
   "cell_type": "code",
   "execution_count": 10,
   "metadata": {},
   "outputs": [],
   "source": [
    "# Преобразование данных в столбце first_day_exposition из object в datetime\n",
    "data['first_day_exposition'] = pd.to_datetime(\n",
    "    data['first_day_exposition'], format = '%Y-%m-%dT%H:%M:%S'\n",
    ")\n",
    "\n",
    "data['rooms'] = data['rooms'].astype('int')\n",
    "\n",
    "# Пройдемся по всем столбцам с типом float\n",
    "for column in data.select_dtypes(include='float'):\n",
    "    # Проверим, все ли значения в столбце можно преобразовать в целые (дробная часть равна 0)\n",
    "    if (data[column] % 1 == 0).all():\n",
    "        # Преобразуем столбец в int\n",
    "        data[column] = data[column].astype(int)"
   ]
  },
  {
   "cell_type": "code",
   "execution_count": 11,
   "metadata": {
    "scrolled": false
   },
   "outputs": [
    {
     "data": {
      "text/plain": [
       "total_images                     int64\n",
       "last_price                       int64\n",
       "total_area                     float64\n",
       "first_day_exposition    datetime64[ns]\n",
       "rooms                            int64\n",
       "ceiling_height                 float64\n",
       "floors_total                     int64\n",
       "living_area                    float64\n",
       "floor                            int64\n",
       "is_apartment                      bool\n",
       "studio                            bool\n",
       "open_plan                         bool\n",
       "kitchen_area                   float64\n",
       "balcony                          int64\n",
       "locality_name                   object\n",
       "airports_nearest               float64\n",
       "cityCenters_nearest            float64\n",
       "parks_around3000                 int64\n",
       "parks_nearest                  float64\n",
       "ponds_around3000                 int64\n",
       "ponds_nearest                  float64\n",
       "days_exposition                float64\n",
       "dtype: object"
      ]
     },
     "execution_count": 11,
     "metadata": {},
     "output_type": "execute_result"
    }
   ],
   "source": [
    "# Проверка установления корректных типов данных\n",
    "data.dtypes"
   ]
  },
  {
   "cell_type": "markdown",
   "metadata": {},
   "source": [
    "##### Краткий вывод о причинах изменения типов данных\n",
    "\n",
    "1. **first_day_exposition** — преобразован из `object` в `datetime`:\n",
    "   - **Причина:** Столбец содержал строки с датами, что усложняло их обработку. Преобразование в формат `datetime` позволяет работать с датами напрямую.\n",
    "\n",
    "2. **last_price** — преобразован из `float64` в `int64`:\n",
    "   - **Причина:** Цены на недвижимость всегда представлены целыми числами, а хранение их в формате с плавающей запятой (`float64`) было излишним.\n",
    "\n",
    "3. **floors_total** — преобразован из `float64` в `int64`:\n",
    "   - **Причина:** Количество этажей в доме всегда является целым числом, поэтому хранение этого параметра в формате с плавающей запятой не имело смысла.\n",
    "\n",
    "4. **balcony** — преобразован из `float64` в `int64`:\n",
    "   - **Причина:** Количество балконов также всегда целое число. \n",
    "\n",
    "5. **parks_around3000 и ponds_around3000** — преобразованы из `float64` в `int64`:\n",
    "   - **Причина:** Количество парков и водоёмов в радиусе 3 км всегда выражается в целых числах. \n",
    "\n",
    "6. **days_exposition, airports_nearest, cityCenters_nearest, parks_nearest, ponds_nearest** — остались в формате `float64`:\n",
    "   - **Причина:** Эти столбцы содержат геоданные или временные интервалы, которые могут иметь значения с дробной частью.\n",
    "\n",
    "7. **studio, is_apartment, open_plan** — остались в формате `bool`:\n",
    "   - **Причина:** Эти столбцы логические (булевы), так как описывают наличие или отсутствие определённых характеристик квартиры.\n",
    "\n",
    "8. **total_area, living_area, kitchen_area, ceiling_height** — остались в формате `float64`:\n",
    "   - **Причина:** Эти столбцы содержат данные о площадях или высоте потолков, которые могут иметь дробные значения.\n"
   ]
  },
  {
   "cell_type": "markdown",
   "metadata": {},
   "source": [
    "#### Устранение неявных дубликатов в  столбце с названиями"
   ]
  },
  {
   "cell_type": "code",
   "execution_count": 12,
   "metadata": {},
   "outputs": [
    {
     "data": {
      "text/plain": [
       "array(['Санкт-Петербург', 'посёлок Шушары', 'городской посёлок Янино-1',\n",
       "       'посёлок Парголово', 'посёлок Мурино', 'Ломоносов', 'Сертолово',\n",
       "       'Петергоф', 'Пушкин', 'деревня Кудрово', 'Коммунар', 'Колпино',\n",
       "       'поселок городского типа Красный Бор', 'Гатчина', 'поселок Мурино',\n",
       "       'деревня Фёдоровское', 'Выборг', 'Кронштадт', 'Кировск',\n",
       "       'деревня Новое Девяткино', 'посёлок Металлострой',\n",
       "       'посёлок городского типа Лебяжье',\n",
       "       'посёлок городского типа Сиверский', 'поселок Молодцово',\n",
       "       'поселок городского типа Кузьмоловский',\n",
       "       'садовое товарищество Новая Ропша', 'Павловск',\n",
       "       'деревня Пикколово', 'Всеволожск', 'Волхов', 'Кингисепп',\n",
       "       'Приозерск', 'Сестрорецк', 'деревня Куттузи', 'посёлок Аннино',\n",
       "       'поселок городского типа Ефимовский', 'посёлок Плодовое',\n",
       "       'деревня Заклинье', 'поселок Торковичи', 'поселок Первомайское',\n",
       "       'Красное Село', 'посёлок Понтонный', 'Сясьстрой', 'деревня Старая',\n",
       "       'деревня Лесколово', 'посёлок Новый Свет', 'Сланцы',\n",
       "       'село Путилово', 'Ивангород', 'Мурино', 'Шлиссельбург',\n",
       "       'Никольское', 'Зеленогорск', 'Сосновый Бор', 'поселок Новый Свет',\n",
       "       'деревня Оржицы', 'деревня Кальтино', 'Кудрово',\n",
       "       'поселок Романовка', 'посёлок Бугры', 'поселок Бугры',\n",
       "       'поселок городского типа Рощино', 'Кириши', 'Луга', 'Волосово',\n",
       "       'Отрадное', 'село Павлово', 'поселок Оредеж', 'село Копорье',\n",
       "       'посёлок городского типа Красный Бор', 'посёлок Молодёжное',\n",
       "       'Тихвин', 'посёлок Победа', 'деревня Нурма',\n",
       "       'поселок городского типа Синявино', 'Тосно',\n",
       "       'посёлок городского типа Кузьмоловский', 'посёлок Стрельна',\n",
       "       'Бокситогорск', 'посёлок Александровская', 'деревня Лопухинка',\n",
       "       'Пикалёво', 'поселок Терволово',\n",
       "       'поселок городского типа Советский', 'Подпорожье',\n",
       "       'посёлок Петровское', 'посёлок городского типа Токсово',\n",
       "       'поселок Сельцо', 'посёлок городского типа Вырица',\n",
       "       'деревня Кипень', 'деревня Келози', 'деревня Вартемяги',\n",
       "       'посёлок Тельмана', 'поселок Севастьяново',\n",
       "       'городской поселок Большая Ижора', nan,\n",
       "       'городской посёлок Павлово', 'деревня Агалатово',\n",
       "       'посёлок Новогорелово', 'городской посёлок Лесогорский',\n",
       "       'деревня Лаголово', 'поселок Цвелодубово',\n",
       "       'поселок городского типа Рахья', 'поселок городского типа Вырица',\n",
       "       'деревня Белогорка', 'поселок Заводской',\n",
       "       'городской посёлок Новоселье', 'деревня Большие Колпаны',\n",
       "       'деревня Горбунки', 'деревня Батово', 'деревня Заневка',\n",
       "       'деревня Иссад', 'Приморск', 'городской посёлок Фёдоровское',\n",
       "       'деревня Мистолово', 'Новая Ладога', 'поселок Зимитицы',\n",
       "       'поселок Барышево', 'деревня Разметелево',\n",
       "       'поселок городского типа имени Свердлова', 'деревня Пеники',\n",
       "       'поселок Рябово', 'деревня Пудомяги', 'поселок станции Корнево',\n",
       "       'деревня Низино', 'деревня Бегуницы', 'посёлок Поляны',\n",
       "       'городской посёлок Мга', 'поселок Елизаветино',\n",
       "       'посёлок городского типа Кузнечное', 'деревня Колтуши',\n",
       "       'поселок Запорожское', 'посёлок городского типа Рощино',\n",
       "       'деревня Гостилицы', 'деревня Малое Карлино',\n",
       "       'посёлок Мичуринское', 'посёлок городского типа имени Морозова',\n",
       "       'посёлок Песочный', 'посёлок Сосново', 'деревня Аро',\n",
       "       'поселок Ильичёво', 'посёлок городского типа Тайцы',\n",
       "       'деревня Малое Верево', 'деревня Извара', 'поселок станции Вещево',\n",
       "       'село Паша', 'деревня Калитино',\n",
       "       'посёлок городского типа Ульяновка', 'деревня Чудской Бор',\n",
       "       'поселок городского типа Дубровка', 'деревня Мины',\n",
       "       'поселок Войсковицы', 'посёлок городского типа имени Свердлова',\n",
       "       'деревня Коркино', 'посёлок Ропша',\n",
       "       'поселок городского типа Приладожский', 'посёлок Щеглово',\n",
       "       'посёлок Гаврилово', 'Лодейное Поле', 'деревня Рабитицы',\n",
       "       'поселок городского типа Никольский', 'деревня Кузьмолово',\n",
       "       'деревня Малые Колпаны', 'поселок Тельмана',\n",
       "       'посёлок Петро-Славянка', 'городской посёлок Назия',\n",
       "       'посёлок Репино', 'посёлок Ильичёво', 'поселок Углово',\n",
       "       'поселок Старая Малукса', 'садовое товарищество Рахья',\n",
       "       'поселок Аннино', 'поселок Победа', 'деревня Меньково',\n",
       "       'деревня Старые Бегуницы', 'посёлок Сапёрный', 'поселок Семрино',\n",
       "       'поселок Гаврилово', 'поселок Глажево', 'поселок Кобринское',\n",
       "       'деревня Гарболово', 'деревня Юкки',\n",
       "       'поселок станции Приветнинское', 'деревня Мануйлово',\n",
       "       'деревня Пчева', 'поселок Поляны', 'поселок Цвылёво',\n",
       "       'поселок Мельниково', 'посёлок Пудость', 'посёлок Усть-Луга',\n",
       "       'Светогорск', 'Любань', 'поселок Селезнёво',\n",
       "       'поселок городского типа Рябово', 'Каменногорск', 'деревня Кривко',\n",
       "       'поселок Глебычево', 'деревня Парицы', 'поселок Жилпосёлок',\n",
       "       'посёлок городского типа Мга', 'городской поселок Янино-1',\n",
       "       'посёлок Войскорово', 'село Никольское', 'посёлок Терволово',\n",
       "       'поселок Стеклянный', 'посёлок городского типа Важины',\n",
       "       'посёлок Мыза-Ивановка', 'село Русско-Высоцкое',\n",
       "       'поселок городского типа Лебяжье',\n",
       "       'поселок городского типа Форносово', 'село Старая Ладога',\n",
       "       'поселок Житково', 'городской посёлок Виллози', 'деревня Лампово',\n",
       "       'деревня Шпаньково', 'деревня Лаврики', 'посёлок Сумино',\n",
       "       'посёлок Возрождение', 'деревня Старосиверская',\n",
       "       'посёлок Кикерино', 'поселок Возрождение',\n",
       "       'деревня Старое Хинколово', 'посёлок Пригородный',\n",
       "       'посёлок Торфяное', 'городской посёлок Будогощь',\n",
       "       'поселок Суходолье', 'поселок Красная Долина', 'деревня Хапо-Ое',\n",
       "       'поселок городского типа Дружная Горка', 'поселок Лисий Нос',\n",
       "       'деревня Яльгелево', 'посёлок Стеклянный', 'село Рождествено',\n",
       "       'деревня Старополье', 'посёлок Левашово', 'деревня Сяськелево',\n",
       "       'деревня Камышовка',\n",
       "       'садоводческое некоммерческое товарищество Лесная Поляна',\n",
       "       'деревня Хязельки', 'поселок Жилгородок',\n",
       "       'посёлок городского типа Павлово', 'деревня Ялгино',\n",
       "       'поселок Новый Учхоз', 'городской посёлок Рощино',\n",
       "       'поселок Гончарово', 'поселок Почап', 'посёлок Сапёрное',\n",
       "       'посёлок Платформа 69-й километр', 'поселок Каложицы',\n",
       "       'деревня Фалилеево', 'деревня Пельгора',\n",
       "       'поселок городского типа Лесогорский', 'деревня Торошковичи',\n",
       "       'посёлок Белоостров', 'посёлок Алексеевка', 'поселок Серебрянский',\n",
       "       'поселок Лукаши', 'поселок Петровское', 'деревня Щеглово',\n",
       "       'поселок Мичуринское', 'деревня Тарасово', 'поселок Кингисеппский',\n",
       "       'посёлок при железнодорожной станции Вещево', 'поселок Ушаки',\n",
       "       'деревня Котлы', 'деревня Сижно', 'деревня Торосово',\n",
       "       'посёлок Форт Красная Горка', 'поселок городского типа Токсово',\n",
       "       'деревня Новолисино', 'посёлок станции Громово', 'деревня Глинка',\n",
       "       'посёлок Мельниково', 'поселок городского типа Назия',\n",
       "       'деревня Старая Пустошь', 'поселок Коммунары', 'поселок Починок',\n",
       "       'посёлок городского типа Вознесенье', 'деревня Разбегаево',\n",
       "       'посёлок городского типа Рябово', 'поселок Гладкое',\n",
       "       'посёлок при железнодорожной станции Приветнинское',\n",
       "       'поселок Тёсово-4', 'посёлок Жилгородок', 'деревня Бор',\n",
       "       'посёлок Коробицыно', 'деревня Большая Вруда', 'деревня Курковицы',\n",
       "       'посёлок Лисий Нос', 'городской посёлок Советский',\n",
       "       'посёлок Кобралово', 'деревня Суоранда', 'поселок Кобралово',\n",
       "       'поселок городского типа Кондратьево',\n",
       "       'коттеджный поселок Счастье', 'поселок Любань', 'деревня Реброво',\n",
       "       'деревня Зимитицы', 'деревня Тойворово', 'поселок Семиозерье',\n",
       "       'поселок Лесное', 'поселок Совхозный', 'поселок Усть-Луга',\n",
       "       'посёлок Ленинское', 'посёлок Суйда',\n",
       "       'посёлок городского типа Форносово', 'деревня Нижние Осельки',\n",
       "       'посёлок станции Свирь', 'поселок Перово', 'Высоцк',\n",
       "       'поселок Гарболово', 'село Шум', 'поселок Котельский',\n",
       "       'поселок станции Лужайка', 'деревня Большая Пустомержа',\n",
       "       'поселок Красносельское', 'деревня Вахнова Кара', 'деревня Пижма',\n",
       "       'коттеджный поселок Кивеннапа Север', 'поселок Коробицыно',\n",
       "       'поселок Ромашки', 'посёлок Перово', 'деревня Каськово',\n",
       "       'деревня Куровицы', 'посёлок Плоское', 'поселок Сумино',\n",
       "       'поселок городского типа Большая Ижора', 'поселок Кирпичное',\n",
       "       'деревня Ям-Тесово', 'деревня Раздолье', 'деревня Терпилицы',\n",
       "       'посёлок Шугозеро', 'деревня Ваганово', 'поселок Пушное',\n",
       "       'садовое товарищество Садко', 'посёлок Усть-Ижора',\n",
       "       'деревня Выскатка', 'городской посёлок Свирьстрой',\n",
       "       'поселок Громово', 'деревня Кисельня', 'посёлок Старая Малукса',\n",
       "       'деревня Трубников Бор', 'поселок Калитино',\n",
       "       'посёлок Высокоключевой', 'садовое товарищество Приладожский',\n",
       "       'посёлок Пансионат Зелёный Бор', 'деревня Ненимяки',\n",
       "       'поселок Пансионат Зелёный Бор', 'деревня Снегирёвка',\n",
       "       'деревня Рапполово', 'деревня Пустынка', 'поселок Рабитицы',\n",
       "       'деревня Большой Сабск', 'деревня Русско', 'деревня Лупполово',\n",
       "       'деревня Большое Рейзино', 'деревня Малая Романовка',\n",
       "       'поселок Дружноселье', 'поселок Пчевжа', 'поселок Володарское',\n",
       "       'деревня Нижняя', 'коттеджный посёлок Лесное', 'деревня Тихковицы',\n",
       "       'деревня Борисова Грива', 'посёлок Дзержинского'], dtype=object)"
      ]
     },
     "execution_count": 12,
     "metadata": {},
     "output_type": "execute_result"
    }
   ],
   "source": [
    "# Просмотр уникальных значений в столбце названий\n",
    "data['locality_name'].unique()"
   ]
  },
  {
   "cell_type": "code",
   "execution_count": 13,
   "metadata": {},
   "outputs": [],
   "source": [
    "data['locality_name'] = (\n",
    "    data['locality_name']\n",
    "    .str.replace('ё', 'е')\n",
    "    .replace(['поселок городского типа', 'поселок', \n",
    "              'городской п.'], 'п.', regex=True)\n",
    "    .replace(['деревня'], 'д.', regex=True)\n",
    "    .replace(['село'], 'с.', regex=True)\n",
    "    .replace(['садовое товарищество', 'садоводческое некоммерческое товарищество'], 'сад.', regex=True)\n",
    "    .replace(['п. Федоровское'], 'д. Федоровское')\n",
    "    .replace(['п. Павлово'], 'с. Павлово')\n",
    "    .replace(['сад. Рахья'], 'п. Рахья')\n",
    "    .replace(['п. станции Громово'], 'п. Громово')\n",
    "    .replace(['п. станции Приветнинское', 'п. при железнодорожной станции Приветнинское'], 'п. Приветнинское', regex=True)\n",
    "    .replace('Мурино', 'п. Мурино')\n",
    "    .replace('Кудрово', 'д. Кудрово')\n",
    "\n",
    ")"
   ]
  },
  {
   "cell_type": "code",
   "execution_count": 14,
   "metadata": {
    "scrolled": true
   },
   "outputs": [
    {
     "data": {
      "text/plain": [
       "array(['Санкт-Петербург', 'п. Шушары', 'п. Янино-1', 'п. Парголово',\n",
       "       'п. Мурино', 'Ломоносов', 'Сертолово', 'Петергоф', 'Пушкин',\n",
       "       'д. Кудрово', 'Коммунар', 'Колпино', 'п. Красный Бор', 'Гатчина',\n",
       "       'д. Федоровское', 'Выборг', 'Кронштадт', 'Кировск',\n",
       "       'д. Новое Девяткино', 'п. Металлострой', 'п. Лебяжье',\n",
       "       'п. Сиверский', 'п. Молодцово', 'п. Кузьмоловский',\n",
       "       'сад. Новая Ропша', 'Павловск', 'д. Пикколово', 'Всеволожск',\n",
       "       'Волхов', 'Кингисепп', 'Приозерск', 'Сестрорецк', 'д. Куттузи',\n",
       "       'п. Аннино', 'п. Ефимовский', 'п. Плодовое', 'д. Заклинье',\n",
       "       'п. Торковичи', 'п. Первомайское', 'Красное Село', 'п. Понтонный',\n",
       "       'Сясьстрой', 'д. Старая', 'д. Лесколово', 'п. Новый Свет',\n",
       "       'Сланцы', 'с. Путилово', 'Ивангород', 'Шлиссельбург', 'Никольское',\n",
       "       'Зеленогорск', 'Сосновый Бор', 'д. Оржицы', 'д. Кальтино',\n",
       "       'п. Романовка', 'п. Бугры', 'п. Рощино', 'Кириши', 'Луга',\n",
       "       'Волосово', 'Отрадное', 'с. Павлово', 'п. Оредеж', 'с. Копорье',\n",
       "       'п. Молодежное', 'Тихвин', 'п. Победа', 'д. Нурма', 'п. Синявино',\n",
       "       'Тосно', 'п. Стрельна', 'Бокситогорск', 'п. Александровская',\n",
       "       'д. Лопухинка', 'Пикалево', 'п. Терволово', 'п. Советский',\n",
       "       'Подпорожье', 'п. Петровское', 'п. Токсово', 'п. Сельцо',\n",
       "       'п. Вырица', 'д. Кипень', 'д. Келози', 'д. Вартемяги',\n",
       "       'п. Тельмана', 'п. Севастьяново', 'п. Большая Ижора', nan,\n",
       "       'д. Агалатово', 'п. Новогорелово', 'п. Лесогорский', 'д. Лаголово',\n",
       "       'п. Цвелодубово', 'п. Рахья', 'д. Белогорка', 'п. Заводской',\n",
       "       'п. Новоселье', 'д. Большие Колпаны', 'д. Горбунки', 'д. Батово',\n",
       "       'д. Заневка', 'д. Иссад', 'Приморск', 'д. Мистолово',\n",
       "       'Новая Ладога', 'п. Зимитицы', 'п. Барышево', 'д. Разметелево',\n",
       "       'п. имени Свердлова', 'д. Пеники', 'п. Рябово', 'д. Пудомяги',\n",
       "       'п. станции Корнево', 'д. Низино', 'д. Бегуницы', 'п. Поляны',\n",
       "       'п. Мга', 'п. Елизаветино', 'п. Кузнечное', 'д. Колтуши',\n",
       "       'п. Запорожское', 'д. Гостилицы', 'д. Малое Карлино',\n",
       "       'п. Мичуринское', 'п. имени Морозова', 'п. Песочный', 'п. Сосново',\n",
       "       'д. Аро', 'п. Ильичево', 'п. Тайцы', 'д. Малое Верево',\n",
       "       'д. Извара', 'п. станции Вещево', 'с. Паша', 'д. Калитино',\n",
       "       'п. Ульяновка', 'д. Чудской Бор', 'п. Дубровка', 'д. Мины',\n",
       "       'п. Войсковицы', 'д. Коркино', 'п. Ропша', 'п. Приладожский',\n",
       "       'п. Щеглово', 'п. Гаврилово', 'Лодейное Поле', 'д. Рабитицы',\n",
       "       'п. Никольский', 'д. Кузьмолово', 'д. Малые Колпаны',\n",
       "       'п. Петро-Славянка', 'п. Назия', 'п. Репино', 'п. Углово',\n",
       "       'п. Старая Малукса', 'д. Меньково', 'д. Старые Бегуницы',\n",
       "       'п. Саперный', 'п. Семрино', 'п. Глажево', 'п. Кобринское',\n",
       "       'д. Гарболово', 'д. Юкки', 'п. Приветнинское', 'д. Мануйлово',\n",
       "       'д. Пчева', 'п. Цвылево', 'п. Мельниково', 'п. Пудость',\n",
       "       'п. Усть-Луга', 'Светогорск', 'Любань', 'п. Селезнево',\n",
       "       'Каменногорск', 'д. Кривко', 'п. Глебычево', 'д. Парицы',\n",
       "       'п. Жилп.', 'п. Войскорово', 'с. Никольское', 'п. Стеклянный',\n",
       "       'п. Важины', 'п. Мыза-Ивановка', 'с. Русско-Высоцкое',\n",
       "       'п. Форносово', 'с. Старая Ладога', 'п. Житково', 'п. Виллози',\n",
       "       'д. Лампово', 'д. Шпаньково', 'д. Лаврики', 'п. Сумино',\n",
       "       'п. Возрождение', 'д. Старосиверская', 'п. Кикерино',\n",
       "       'д. Старое Хинколово', 'п. Пригородный', 'п. Торфяное',\n",
       "       'п. Будогощь', 'п. Суходолье', 'п. Красная Долина', 'д. Хапо-Ое',\n",
       "       'п. Дружная Горка', 'п. Лисий Нос', 'д. Яльгелево',\n",
       "       'с. Рождествено', 'д. Старополье', 'п. Левашово', 'д. Сяськелево',\n",
       "       'д. Камышовка', 'сад. Лесная Поляна', 'д. Хязельки',\n",
       "       'п. Жилгородок', 'д. Ялгино', 'п. Новый Учхоз', 'п. Гончарово',\n",
       "       'п. Почап', 'п. Саперное', 'п. Платформа 69-й километр',\n",
       "       'п. Каложицы', 'д. Фалилеево', 'д. Пельгора', 'д. Торошковичи',\n",
       "       'п. Белоостров', 'п. Алексеевка', 'п. Серебрянский', 'п. Лукаши',\n",
       "       'д. Щеглово', 'д. Тарасово', 'п. Кингисеппский',\n",
       "       'п. при железнодорожной станции Вещево', 'п. Ушаки', 'д. Котлы',\n",
       "       'д. Сижно', 'д. Торосово', 'п. Форт Красная Горка',\n",
       "       'д. Новолисино', 'п. Громово', 'д. Глинка', 'д. Старая Пустошь',\n",
       "       'п. Коммунары', 'п. Починок', 'п. Вознесенье', 'д. Разбегаево',\n",
       "       'п. Гладкое', 'п. Тесово-4', 'д. Бор', 'п. Коробицыно',\n",
       "       'д. Большая Вруда', 'д. Курковицы', 'п. Кобралово', 'д. Суоранда',\n",
       "       'п. Кондратьево', 'коттеджный п. Счастье', 'п. Любань',\n",
       "       'д. Реброво', 'д. Зимитицы', 'д. Тойворово', 'п. Семиозерье',\n",
       "       'п. Лесное', 'п. Совхозный', 'п. Ленинское', 'п. Суйда',\n",
       "       'д. Нижние Осельки', 'п. станции Свирь', 'п. Перово', 'Высоцк',\n",
       "       'п. Гарболово', 'с. Шум', 'п. Котельский', 'п. станции Лужайка',\n",
       "       'д. Большая Пустомержа', 'п. Красносельское', 'д. Вахнова Кара',\n",
       "       'д. Пижма', 'коттеджный п. Кивеннапа Север', 'п. Ромашки',\n",
       "       'д. Каськово', 'д. Куровицы', 'п. Плоское', 'п. Кирпичное',\n",
       "       'д. Ям-Тесово', 'д. Раздолье', 'д. Терпилицы', 'п. Шугозеро',\n",
       "       'д. Ваганово', 'п. Пушное', 'сад. Садко', 'п. Усть-Ижора',\n",
       "       'д. Выскатка', 'п. Свирьстрой', 'д. Кисельня', 'д. Трубников Бор',\n",
       "       'п. Калитино', 'п. Высокоключевой', 'сад. Приладожский',\n",
       "       'п. Пансионат Зеленый Бор', 'д. Ненимяки', 'д. Снегиревка',\n",
       "       'д. Рапполово', 'д. Пустынка', 'п. Рабитицы', 'д. Большой Сабск',\n",
       "       'д. Русско', 'д. Лупполово', 'д. Большое Рейзино',\n",
       "       'д. Малая Романовка', 'п. Дружноселье', 'п. Пчевжа',\n",
       "       'п. Володарское', 'д. Нижняя', 'коттеджный п. Лесное',\n",
       "       'д. Тихковицы', 'д. Борисова Грива', 'п. Дзержинского'],\n",
       "      dtype=object)"
      ]
     },
     "execution_count": 14,
     "metadata": {},
     "output_type": "execute_result"
    }
   ],
   "source": [
    "# Проверка устранения неявных дубликатов\n",
    "data['locality_name'].unique()"
   ]
  },
  {
   "cell_type": "markdown",
   "metadata": {},
   "source": [
    "##### Краткий вывод об устранении неявных дубликатов\n",
    "Были обработаны неявные дубликаты в названиях населенных пунктов, приведя их к единому типу: сокращены обозначения населенных пунктов до единого вида, таких как \"п.\" (посёлок), \"д.\" (деревня), \"с.\" (село), \"сад.\" (садовое товарищество). Сокращения населенных пунктов были сохранены, поскольку категории населенных пунктов могут быть полезны для дальнейшего анализа, чтобы учитывать различия между типами населенных пунктов."
   ]
  },
  {
   "cell_type": "markdown",
   "metadata": {
    "id": "QCcvyY6YAwb-"
   },
   "source": [
    "### Добавление новых столбцов в таблицу"
   ]
  },
  {
   "cell_type": "code",
   "execution_count": 15,
   "metadata": {
    "scrolled": true
   },
   "outputs": [
    {
     "data": {
      "text/html": [
       "<div>\n",
       "<style scoped>\n",
       "    .dataframe tbody tr th:only-of-type {\n",
       "        vertical-align: middle;\n",
       "    }\n",
       "\n",
       "    .dataframe tbody tr th {\n",
       "        vertical-align: top;\n",
       "    }\n",
       "\n",
       "    .dataframe thead th {\n",
       "        text-align: right;\n",
       "    }\n",
       "</style>\n",
       "<table border=\"1\" class=\"dataframe\">\n",
       "  <thead>\n",
       "    <tr style=\"text-align: right;\">\n",
       "      <th></th>\n",
       "      <th>total_images</th>\n",
       "      <th>last_price</th>\n",
       "      <th>total_area</th>\n",
       "      <th>first_day_exposition</th>\n",
       "      <th>rooms</th>\n",
       "      <th>ceiling_height</th>\n",
       "      <th>floors_total</th>\n",
       "      <th>living_area</th>\n",
       "      <th>floor</th>\n",
       "      <th>is_apartment</th>\n",
       "      <th>studio</th>\n",
       "      <th>open_plan</th>\n",
       "      <th>kitchen_area</th>\n",
       "      <th>balcony</th>\n",
       "      <th>locality_name</th>\n",
       "      <th>airports_nearest</th>\n",
       "      <th>cityCenters_nearest</th>\n",
       "      <th>parks_around3000</th>\n",
       "      <th>parks_nearest</th>\n",
       "      <th>ponds_around3000</th>\n",
       "      <th>ponds_nearest</th>\n",
       "      <th>days_exposition</th>\n",
       "      <th>sqm_cost</th>\n",
       "      <th>day_exp</th>\n",
       "      <th>mounth_exp</th>\n",
       "      <th>year_exp</th>\n",
       "      <th>floor_type</th>\n",
       "      <th>centers_nearest_km</th>\n",
       "    </tr>\n",
       "  </thead>\n",
       "  <tbody>\n",
       "    <tr>\n",
       "      <th>0</th>\n",
       "      <td>20</td>\n",
       "      <td>13000000</td>\n",
       "      <td>108.0</td>\n",
       "      <td>2019-03-07</td>\n",
       "      <td>3</td>\n",
       "      <td>2.70</td>\n",
       "      <td>16</td>\n",
       "      <td>51.00</td>\n",
       "      <td>8</td>\n",
       "      <td>False</td>\n",
       "      <td>False</td>\n",
       "      <td>False</td>\n",
       "      <td>25.00</td>\n",
       "      <td>0</td>\n",
       "      <td>Санкт-Петербург</td>\n",
       "      <td>18863.0</td>\n",
       "      <td>16028.0</td>\n",
       "      <td>1</td>\n",
       "      <td>482.0</td>\n",
       "      <td>2</td>\n",
       "      <td>755.0</td>\n",
       "      <td>NaN</td>\n",
       "      <td>120370.37</td>\n",
       "      <td>3</td>\n",
       "      <td>3</td>\n",
       "      <td>2019</td>\n",
       "      <td>другой</td>\n",
       "      <td>16.0</td>\n",
       "    </tr>\n",
       "    <tr>\n",
       "      <th>1</th>\n",
       "      <td>7</td>\n",
       "      <td>3350000</td>\n",
       "      <td>40.4</td>\n",
       "      <td>2018-12-04</td>\n",
       "      <td>1</td>\n",
       "      <td>2.65</td>\n",
       "      <td>11</td>\n",
       "      <td>18.60</td>\n",
       "      <td>1</td>\n",
       "      <td>False</td>\n",
       "      <td>False</td>\n",
       "      <td>False</td>\n",
       "      <td>11.00</td>\n",
       "      <td>2</td>\n",
       "      <td>п. Шушары</td>\n",
       "      <td>12817.0</td>\n",
       "      <td>18603.0</td>\n",
       "      <td>0</td>\n",
       "      <td>NaN</td>\n",
       "      <td>0</td>\n",
       "      <td>NaN</td>\n",
       "      <td>81.0</td>\n",
       "      <td>82920.79</td>\n",
       "      <td>1</td>\n",
       "      <td>12</td>\n",
       "      <td>2018</td>\n",
       "      <td>первый</td>\n",
       "      <td>19.0</td>\n",
       "    </tr>\n",
       "    <tr>\n",
       "      <th>2</th>\n",
       "      <td>10</td>\n",
       "      <td>5196000</td>\n",
       "      <td>56.0</td>\n",
       "      <td>2015-08-20</td>\n",
       "      <td>2</td>\n",
       "      <td>2.65</td>\n",
       "      <td>5</td>\n",
       "      <td>34.30</td>\n",
       "      <td>4</td>\n",
       "      <td>False</td>\n",
       "      <td>False</td>\n",
       "      <td>False</td>\n",
       "      <td>8.30</td>\n",
       "      <td>0</td>\n",
       "      <td>Санкт-Петербург</td>\n",
       "      <td>21741.0</td>\n",
       "      <td>13933.0</td>\n",
       "      <td>1</td>\n",
       "      <td>90.0</td>\n",
       "      <td>2</td>\n",
       "      <td>574.0</td>\n",
       "      <td>558.0</td>\n",
       "      <td>92785.71</td>\n",
       "      <td>3</td>\n",
       "      <td>8</td>\n",
       "      <td>2015</td>\n",
       "      <td>другой</td>\n",
       "      <td>14.0</td>\n",
       "    </tr>\n",
       "    <tr>\n",
       "      <th>3</th>\n",
       "      <td>0</td>\n",
       "      <td>64900000</td>\n",
       "      <td>159.0</td>\n",
       "      <td>2015-07-24</td>\n",
       "      <td>3</td>\n",
       "      <td>2.65</td>\n",
       "      <td>14</td>\n",
       "      <td>90.29</td>\n",
       "      <td>9</td>\n",
       "      <td>False</td>\n",
       "      <td>False</td>\n",
       "      <td>False</td>\n",
       "      <td>27.41</td>\n",
       "      <td>0</td>\n",
       "      <td>Санкт-Петербург</td>\n",
       "      <td>28098.0</td>\n",
       "      <td>6800.0</td>\n",
       "      <td>2</td>\n",
       "      <td>84.0</td>\n",
       "      <td>3</td>\n",
       "      <td>234.0</td>\n",
       "      <td>424.0</td>\n",
       "      <td>408176.10</td>\n",
       "      <td>4</td>\n",
       "      <td>7</td>\n",
       "      <td>2015</td>\n",
       "      <td>другой</td>\n",
       "      <td>7.0</td>\n",
       "    </tr>\n",
       "    <tr>\n",
       "      <th>4</th>\n",
       "      <td>2</td>\n",
       "      <td>10000000</td>\n",
       "      <td>100.0</td>\n",
       "      <td>2018-06-19</td>\n",
       "      <td>2</td>\n",
       "      <td>3.03</td>\n",
       "      <td>14</td>\n",
       "      <td>32.00</td>\n",
       "      <td>13</td>\n",
       "      <td>False</td>\n",
       "      <td>False</td>\n",
       "      <td>False</td>\n",
       "      <td>41.00</td>\n",
       "      <td>0</td>\n",
       "      <td>Санкт-Петербург</td>\n",
       "      <td>31856.0</td>\n",
       "      <td>8098.0</td>\n",
       "      <td>2</td>\n",
       "      <td>112.0</td>\n",
       "      <td>1</td>\n",
       "      <td>48.0</td>\n",
       "      <td>121.0</td>\n",
       "      <td>100000.00</td>\n",
       "      <td>1</td>\n",
       "      <td>6</td>\n",
       "      <td>2018</td>\n",
       "      <td>другой</td>\n",
       "      <td>8.0</td>\n",
       "    </tr>\n",
       "  </tbody>\n",
       "</table>\n",
       "</div>"
      ],
      "text/plain": [
       "   total_images  last_price  total_area first_day_exposition  rooms  \\\n",
       "0            20    13000000       108.0           2019-03-07      3   \n",
       "1             7     3350000        40.4           2018-12-04      1   \n",
       "2            10     5196000        56.0           2015-08-20      2   \n",
       "3             0    64900000       159.0           2015-07-24      3   \n",
       "4             2    10000000       100.0           2018-06-19      2   \n",
       "\n",
       "   ceiling_height  floors_total  living_area  floor  is_apartment  studio  \\\n",
       "0            2.70            16        51.00      8         False   False   \n",
       "1            2.65            11        18.60      1         False   False   \n",
       "2            2.65             5        34.30      4         False   False   \n",
       "3            2.65            14        90.29      9         False   False   \n",
       "4            3.03            14        32.00     13         False   False   \n",
       "\n",
       "   open_plan  kitchen_area  balcony    locality_name  airports_nearest  \\\n",
       "0      False         25.00        0  Санкт-Петербург           18863.0   \n",
       "1      False         11.00        2        п. Шушары           12817.0   \n",
       "2      False          8.30        0  Санкт-Петербург           21741.0   \n",
       "3      False         27.41        0  Санкт-Петербург           28098.0   \n",
       "4      False         41.00        0  Санкт-Петербург           31856.0   \n",
       "\n",
       "   cityCenters_nearest  parks_around3000  parks_nearest  ponds_around3000  \\\n",
       "0              16028.0                 1          482.0                 2   \n",
       "1              18603.0                 0            NaN                 0   \n",
       "2              13933.0                 1           90.0                 2   \n",
       "3               6800.0                 2           84.0                 3   \n",
       "4               8098.0                 2          112.0                 1   \n",
       "\n",
       "   ponds_nearest  days_exposition   sqm_cost  day_exp  mounth_exp  year_exp  \\\n",
       "0          755.0              NaN  120370.37        3           3      2019   \n",
       "1            NaN             81.0   82920.79        1          12      2018   \n",
       "2          574.0            558.0   92785.71        3           8      2015   \n",
       "3          234.0            424.0  408176.10        4           7      2015   \n",
       "4           48.0            121.0  100000.00        1           6      2018   \n",
       "\n",
       "  floor_type  centers_nearest_km  \n",
       "0     другой                16.0  \n",
       "1     первый                19.0  \n",
       "2     другой                14.0  \n",
       "3     другой                 7.0  \n",
       "4     другой                 8.0  "
      ]
     },
     "execution_count": 15,
     "metadata": {},
     "output_type": "execute_result"
    }
   ],
   "source": [
    "# Создаем столбец с ценой за один квадратный метр\n",
    "data['sqm_cost'] = (data['last_price'] / data['total_area']).round(2)\n",
    "\n",
    "# Создаем столбец с данными о дне недели, месяце и годе публикации объявления\n",
    "data['day_exp'] = data['first_day_exposition'].dt.weekday\n",
    "data['mounth_exp'] = data['first_day_exposition'].dt.month\n",
    "data['year_exp'] = data['first_day_exposition'].dt.year\n",
    "\n",
    "# Создаем столбец с типом этажа квартиры\n",
    "def floor_type_group(row):\n",
    "    floor = row['floor']\n",
    "    last_floor = row['floors_total']\n",
    "    if floor == 1:\n",
    "        return 'первый'\n",
    "    if floor == last_floor:\n",
    "        return 'последний'\n",
    "    return 'другой'\n",
    "data['floor_type'] = data.apply(floor_type_group, axis = 1)\n",
    "\n",
    "# Создаем столбец с расстоянием до центра в км\n",
    "data['centers_nearest_km'] = (data['cityCenters_nearest'] / 1000).round(0)\n",
    "\n",
    "# Вывод таблица для проверки результатов\n",
    "data.head(5)"
   ]
  },
  {
   "cell_type": "markdown",
   "metadata": {},
   "source": [
    "#### Краткий вывод\n",
    "Были созданы новые столбцы для дальнейшего анализа: `sqm_cost` (цена за квадратный метр), `day_exp` (день недели), `mounth_exp` (месяц), `year_exp` (год публикации объявления), `floor_type` (тип этажа: первый, последний, другой), а также `centers_nearest_km` (расстояние до центра города в километрах). Эти преобразования помогут в более детальном анализе и исследовании факторов, влияющих на стоимость недвижимости."
   ]
  },
  {
   "cell_type": "markdown",
   "metadata": {
    "id": "pPyxrKWTAwb-"
   },
   "source": [
    "### Исследовательский анализ данных"
   ]
  },
  {
   "cell_type": "markdown",
   "metadata": {},
   "source": [
    "Оставим исходные данные в переменной `data` и создим отдельную копию для обработки `good_data`."
   ]
  },
  {
   "cell_type": "code",
   "execution_count": 16,
   "metadata": {},
   "outputs": [],
   "source": [
    "# Создание копии данных для обработки\n",
    "good_data = data.copy()"
   ]
  },
  {
   "cell_type": "markdown",
   "metadata": {},
   "source": [
    "#### Исследование параметров"
   ]
  },
  {
   "cell_type": "markdown",
   "metadata": {},
   "source": [
    "##### Исследование общей площади жилых объектов"
   ]
  },
  {
   "cell_type": "code",
   "execution_count": 17,
   "metadata": {},
   "outputs": [
    {
     "data": {
      "text/plain": [
       "count    23699.000000\n",
       "mean        60.348651\n",
       "std         35.654083\n",
       "min         12.000000\n",
       "25%         40.000000\n",
       "50%         52.000000\n",
       "75%         69.900000\n",
       "max        900.000000\n",
       "Name: total_area, dtype: float64"
      ]
     },
     "execution_count": 17,
     "metadata": {},
     "output_type": "execute_result"
    },
    {
     "data": {
      "image/png": "[encoded data removed]",
      "text/plain": [
       "<Figure size 432x288 with 1 Axes>"
      ]
     },
     "metadata": {
      "needs_background": "light"
     },
     "output_type": "display_data"
    }
   ],
   "source": [
    "# Построение диаграммы с распределением общей площади жилых объектов\n",
    "good_data['total_area'].hist(bins = 50)\n",
    "# Числовое описание данных\n",
    "good_data['total_area'].describe()      "
   ]
  },
  {
   "cell_type": "code",
   "execution_count": 18,
   "metadata": {},
   "outputs": [],
   "source": [
    "# Отсекаем данные\n",
    "upper_limit = 200\n",
    "good_data = good_data[good_data['total_area'] < upper_limit]"
   ]
  },
  {
   "cell_type": "markdown",
   "metadata": {},
   "source": [
    "Построено распределение общей площади объектов. Числовое описание показало, что медианная площадь — 52 кв.м, но есть выбросы до 900 кв.м. Для устранения выбросов установлен верхний порог в 200 кв.м."
   ]
  },
  {
   "cell_type": "code",
   "execution_count": 19,
   "metadata": {},
   "outputs": [
    {
     "data": {
      "text/plain": [
       "23468"
      ]
     },
     "execution_count": 19,
     "metadata": {},
     "output_type": "execute_result"
    }
   ],
   "source": [
    "len(good_data)"
   ]
  },
  {
   "cell_type": "markdown",
   "metadata": {},
   "source": [
    "##### Исследование жилой площади жилых объектов"
   ]
  },
  {
   "cell_type": "code",
   "execution_count": 20,
   "metadata": {},
   "outputs": [
    {
     "data": {
      "text/plain": [
       "count    23468.000000\n",
       "mean        33.277595\n",
       "std         17.256434\n",
       "min          2.000000\n",
       "25%         19.000000\n",
       "50%         30.000000\n",
       "75%         42.000000\n",
       "max        164.700000\n",
       "Name: living_area, dtype: float64"
      ]
     },
     "execution_count": 20,
     "metadata": {},
     "output_type": "execute_result"
    },
    {
     "data": {
      "image/png": "[encoded data removed]",
      "text/plain": [
       "<Figure size 432x288 with 1 Axes>"
      ]
     },
     "metadata": {
      "needs_background": "light"
     },
     "output_type": "display_data"
    }
   ],
   "source": [
    "# Построение диаграммы с распределением общей площади жилых объектов\n",
    "good_data['living_area'].hist(bins = 50)\n",
    "# Числовое описание данных\n",
    "good_data['living_area'].describe()  "
   ]
  },
  {
   "cell_type": "code",
   "execution_count": 21,
   "metadata": {},
   "outputs": [
    {
     "data": {
      "text/plain": [
       "<AxesSubplot:>"
      ]
     },
     "execution_count": 21,
     "metadata": {},
     "output_type": "execute_result"
    },
    {
     "data": {
      "image/png": "[encoded data removed]",
      "text/plain": [
       "<Figure size 432x288 with 1 Axes>"
      ]
     },
     "metadata": {
      "needs_background": "light"
     },
     "output_type": "display_data"
    }
   ],
   "source": [
    "# Определение верхней границы IQR\n",
    "iqr = good_data['living_area'].quantile(0.75) - good_data['living_area'].quantile(0.25)\n",
    "up_lim_living = good_data['living_area'].quantile(0.75) + 1.5 * iqr\n",
    "\n",
    "# Фильтрация данных по границам IQR\n",
    "good_data = good_data[(good_data['living_area'] >= 10) & (good_data['living_area'] <= up_lim_living)]\n",
    "\n",
    "# Проверка фильтрации данных\n",
    "good_data['living_area'].hist(bins = 50)"
   ]
  },
  {
   "cell_type": "markdown",
   "metadata": {},
   "source": [
    "Было исследовано распределение жилой площади жилых объектов. Диаграмма и числовые данные показали, что минимальные значения начинаются с 2 м², а максимальные достигают 164.7 м². Для исключения выбросов была применена фильтрация данных по методу межквартильного размаха (IQR). Установлены границы для фильтрации: минимальная жилая площадь — 10 м², максимальная — на уровне 1.5 IQR от верхнего квартиля. Данные, выходящие за эти границы, были удалены."
   ]
  },
  {
   "cell_type": "code",
   "execution_count": 22,
   "metadata": {},
   "outputs": [
    {
     "data": {
      "text/plain": [
       "22774"
      ]
     },
     "execution_count": 22,
     "metadata": {},
     "output_type": "execute_result"
    }
   ],
   "source": [
    "len(good_data)"
   ]
  },
  {
   "cell_type": "markdown",
   "metadata": {},
   "source": [
    "##### Исследование площади кухни жилых объектов"
   ]
  },
  {
   "cell_type": "code",
   "execution_count": 23,
   "metadata": {
    "scrolled": false
   },
   "outputs": [
    {
     "data": {
      "text/plain": [
       "count    22774.000000\n",
       "mean        10.019394\n",
       "std          4.976447\n",
       "min          1.300000\n",
       "25%          7.000000\n",
       "50%          9.000000\n",
       "75%         11.400000\n",
       "max         93.200000\n",
       "Name: kitchen_area, dtype: float64"
      ]
     },
     "execution_count": 23,
     "metadata": {},
     "output_type": "execute_result"
    },
    {
     "data": {
      "image/png": "[encoded data removed]",
      "text/plain": [
       "<Figure size 432x288 with 1 Axes>"
      ]
     },
     "metadata": {
      "needs_background": "light"
     },
     "output_type": "display_data"
    }
   ],
   "source": [
    "# Построение диаграммы с распределением площади кухни жилых объектов\n",
    "good_data['kitchen_area'].hist(bins = 50)\n",
    "# Числовое описание данных\n",
    "good_data['kitchen_area'].describe()"
   ]
  },
  {
   "cell_type": "code",
   "execution_count": 24,
   "metadata": {},
   "outputs": [
    {
     "data": {
      "text/plain": [
       "<AxesSubplot:>"
      ]
     },
     "execution_count": 24,
     "metadata": {},
     "output_type": "execute_result"
    },
    {
     "data": {
      "image/png": "[encoded data removed]",
      "text/plain": [
       "<Figure size 432x288 with 1 Axes>"
      ]
     },
     "metadata": {
      "needs_background": "light"
     },
     "output_type": "display_data"
    }
   ],
   "source": [
    "# Определение верхней границы IQR\n",
    "iqr = good_data['kitchen_area'].quantile(0.75) - good_data['kitchen_area'].quantile(0.25)\n",
    "up_lim_kitchen = good_data['kitchen_area'].quantile(0.75) + 1.5 * iqr\n",
    "\n",
    "# Фильтрация данных по границам IQR\n",
    "good_data = good_data[(good_data['kitchen_area'] <= up_lim_kitchen) & (good_data['kitchen_area'] > 4)]\n",
    "\n",
    "# Проверка фильтрации данных\n",
    "good_data['kitchen_area'].hist(bins = 50)"
   ]
  },
  {
   "cell_type": "markdown",
   "metadata": {},
   "source": [
    "В ходе исследования площади кухни применена фильтрация по методу IQR. Были удалены данные, где площадь превышает верхнюю границу (выше 1.5 IQR), а также исключены объекты с кухнями менее 4 м². Повторная гистограмма показала обновленное распределение после фильтрации."
   ]
  },
  {
   "cell_type": "code",
   "execution_count": 25,
   "metadata": {},
   "outputs": [
    {
     "data": {
      "text/plain": [
       "21556"
      ]
     },
     "execution_count": 25,
     "metadata": {},
     "output_type": "execute_result"
    }
   ],
   "source": [
    "len(good_data)"
   ]
  },
  {
   "cell_type": "markdown",
   "metadata": {},
   "source": [
    "##### Исследование цен жилых объектов"
   ]
  },
  {
   "cell_type": "code",
   "execution_count": 26,
   "metadata": {
    "scrolled": false
   },
   "outputs": [
    {
     "data": {
      "text/plain": [
       "count    2.155600e+04\n",
       "mean     5.165873e+06\n",
       "std      3.173720e+06\n",
       "min      4.300000e+05\n",
       "25%      3.350000e+06\n",
       "50%      4.450000e+06\n",
       "75%      6.100000e+06\n",
       "max      5.300000e+07\n",
       "Name: last_price, dtype: float64"
      ]
     },
     "execution_count": 26,
     "metadata": {},
     "output_type": "execute_result"
    },
    {
     "data": {
      "image/png": "[encoded data removed]",
      "text/plain": [
       "<Figure size 432x288 with 1 Axes>"
      ]
     },
     "metadata": {
      "needs_background": "light"
     },
     "output_type": "display_data"
    }
   ],
   "source": [
    "# Построение диаграммы с распределением цен на жилые объекты\n",
    "good_data['last_price'].hist(bins = 50)\n",
    "# Числовое описание данных\n",
    "good_data['last_price'].describe()"
   ]
  },
  {
   "cell_type": "code",
   "execution_count": 27,
   "metadata": {},
   "outputs": [
    {
     "data": {
      "text/plain": [
       "<AxesSubplot:>"
      ]
     },
     "execution_count": 27,
     "metadata": {},
     "output_type": "execute_result"
    },
    {
     "data": {
      "image/png": "[encoded data removed]",
      "text/plain": [
       "<Figure size 432x288 with 1 Axes>"
      ]
     },
     "metadata": {
      "needs_background": "light"
     },
     "output_type": "display_data"
    }
   ],
   "source": [
    "# Определение верхней границы IQR\n",
    "iqr = good_data['last_price'].quantile(0.75) - good_data['last_price'].quantile(0.25)\n",
    "up_lim_price = good_data['last_price'].quantile(0.75) + 1.5 * iqr\n",
    "\n",
    "# Фильтрация данных по границам IQR\n",
    "good_data = good_data[good_data['last_price'] <= up_lim_price]\n",
    "\n",
    "# Проверка фильтрации данных\n",
    "good_data['last_price'].hist(bins = 50)"
   ]
  },
  {
   "cell_type": "markdown",
   "metadata": {},
   "source": [
    "Было проведено исследование цен на жилые объекты. Сначала построена гистограмма для оценки распределения цен, после чего выполнена фильтрация данных по верхней границе IQR для устранения выбросов. Повторная гистограмма показала обновленное распределение после фильтрации."
   ]
  },
  {
   "cell_type": "code",
   "execution_count": 28,
   "metadata": {},
   "outputs": [
    {
     "data": {
      "text/plain": [
       "20306"
      ]
     },
     "execution_count": 28,
     "metadata": {},
     "output_type": "execute_result"
    }
   ],
   "source": [
    "len(good_data)"
   ]
  },
  {
   "cell_type": "markdown",
   "metadata": {},
   "source": [
    "##### Исследование количество комнат жилых объектов"
   ]
  },
  {
   "cell_type": "code",
   "execution_count": 29,
   "metadata": {},
   "outputs": [
    {
     "data": {
      "text/plain": [
       "1    7756\n",
       "2    7171\n",
       "3    4532\n",
       "4     622\n",
       "0     166\n",
       "5      56\n",
       "6       3\n",
       "Name: rooms, dtype: int64"
      ]
     },
     "execution_count": 29,
     "metadata": {},
     "output_type": "execute_result"
    },
    {
     "data": {
      "image/png": "[encoded data removed]",
      "text/plain": [
       "<Figure size 432x288 with 1 Axes>"
      ]
     },
     "metadata": {
      "needs_background": "light"
     },
     "output_type": "display_data"
    }
   ],
   "source": [
    "# Построение диаграммы с распределением комнат жилых объектов\n",
    "good_data['rooms'].hist(bins = 50)\n",
    "# Числовое описание данных\n",
    "good_data['rooms'].value_counts()"
   ]
  },
  {
   "cell_type": "code",
   "execution_count": 30,
   "metadata": {
    "scrolled": true
   },
   "outputs": [
    {
     "data": {
      "text/plain": [
       "<AxesSubplot:>"
      ]
     },
     "execution_count": 30,
     "metadata": {},
     "output_type": "execute_result"
    },
    {
     "data": {
      "image/png": "[encoded data removed]",
      "text/plain": [
       "<Figure size 432x288 with 1 Axes>"
      ]
     },
     "metadata": {
      "needs_background": "light"
     },
     "output_type": "display_data"
    }
   ],
   "source": [
    "# Фильтрация данных\n",
    "good_data = good_data[(good_data['rooms'] >= 1) & (good_data['rooms'] <= 4)]\n",
    "\n",
    "# Проверка фильтрации данных\n",
    "good_data['rooms'].hist(bins = 50)"
   ]
  },
  {
   "cell_type": "markdown",
   "metadata": {},
   "source": [
    "Было исследовано распределение количества комнат в жилых объектах. Выявлено, что большая часть объектов — это одно-, двух- и трехкомнатные квартиры. В ходе фильтрации были удалены аномальные значения (объекты с 0 или более 4 комнат)."
   ]
  },
  {
   "cell_type": "code",
   "execution_count": 31,
   "metadata": {},
   "outputs": [
    {
     "data": {
      "text/plain": [
       "20081"
      ]
     },
     "execution_count": 31,
     "metadata": {},
     "output_type": "execute_result"
    }
   ],
   "source": [
    "len(good_data)"
   ]
  },
  {
   "cell_type": "markdown",
   "metadata": {},
   "source": [
    "##### Исследование высоты потолков жилых объектов"
   ]
  },
  {
   "cell_type": "code",
   "execution_count": 32,
   "metadata": {
    "scrolled": false
   },
   "outputs": [
    {
     "data": {
      "text/plain": [
       "count    20081.000000\n",
       "mean         2.689510\n",
       "std          0.790356\n",
       "min          1.000000\n",
       "25%          2.590000\n",
       "50%          2.650000\n",
       "75%          2.650000\n",
       "max         32.000000\n",
       "Name: ceiling_height, dtype: float64"
      ]
     },
     "execution_count": 32,
     "metadata": {},
     "output_type": "execute_result"
    },
    {
     "data": {
      "image/png": "[encoded data removed]",
      "text/plain": [
       "<Figure size 432x288 with 1 Axes>"
      ]
     },
     "metadata": {
      "needs_background": "light"
     },
     "output_type": "display_data"
    }
   ],
   "source": [
    "# Построение диаграммы с распределением высоты потолков\n",
    "good_data['ceiling_height'].hist(bins = 50, range=(2,5))\n",
    "# Числовое описание данных\n",
    "good_data['ceiling_height'].describe()"
   ]
  },
  {
   "cell_type": "code",
   "execution_count": 33,
   "metadata": {
    "scrolled": true
   },
   "outputs": [
    {
     "data": {
      "text/plain": [
       "<AxesSubplot:>"
      ]
     },
     "execution_count": 33,
     "metadata": {},
     "output_type": "execute_result"
    },
    {
     "data": {
      "image/png": "[encoded data removed]",
      "text/plain": [
       "<Figure size 432x288 with 1 Axes>"
      ]
     },
     "metadata": {
      "needs_background": "light"
     },
     "output_type": "display_data"
    }
   ],
   "source": [
    "# Исправление явно некорректных значений в столбце ceiling_height\n",
    "good_data['ceiling_height'] = good_data['ceiling_height'].replace({25: 2.5, 32: 3.2})\n",
    "# Фильтрация данных\n",
    "good_data = good_data[(good_data['ceiling_height'] <= 3.0) & (good_data['ceiling_height'] >= 2.5)]\n",
    "# Проверка фильтрации данных\n",
    "good_data['ceiling_height'].hist(bins = 50)"
   ]
  },
  {
   "cell_type": "markdown",
   "metadata": {},
   "source": [
    "Для фильтрации высоты потолков были выбраны границы от 2.5 до 3.0 метров, поскольку это стандартные значения для жилых объектов. Хотя можно было использовать верхнюю границу, рассчитанную по IQR (которая составила 2.45), этот подход привел бы к потере значительного объема данных, поэтому было решено установить более реалистичные границы, чтобы сохранить больше данных для анализа."
   ]
  },
  {
   "cell_type": "code",
   "execution_count": 34,
   "metadata": {},
   "outputs": [
    {
     "data": {
      "text/plain": [
       "19306"
      ]
     },
     "execution_count": 34,
     "metadata": {},
     "output_type": "execute_result"
    }
   ],
   "source": [
    "len(good_data)"
   ]
  },
  {
   "cell_type": "markdown",
   "metadata": {},
   "source": [
    "##### Исследование типа этажей жилых объектов"
   ]
  },
  {
   "cell_type": "code",
   "execution_count": 35,
   "metadata": {},
   "outputs": [
    {
     "data": {
      "text/plain": [
       "другой       14166\n",
       "последний     2628\n",
       "первый        2512\n",
       "Name: floor_type, dtype: int64"
      ]
     },
     "execution_count": 35,
     "metadata": {},
     "output_type": "execute_result"
    },
    {
     "data": {
      "image/png": "[encoded data removed]",
      "text/plain": [
       "<Figure size 432x288 with 1 Axes>"
      ]
     },
     "metadata": {
      "needs_background": "light"
     },
     "output_type": "display_data"
    }
   ],
   "source": [
    "# Построение диаграммы с распределением типа этажей\n",
    "good_data['floor_type'].hist(bins = 50, range=(0,5))\n",
    "# Числовое описание данных\n",
    "good_data['floor_type'].value_counts()"
   ]
  },
  {
   "cell_type": "markdown",
   "metadata": {},
   "source": [
    "Распределение данных по типам этажей показывает корректные результаты, фильтрация не требуется."
   ]
  },
  {
   "cell_type": "markdown",
   "metadata": {},
   "source": [
    "##### Исследование общего количества этажей в жилых объектах"
   ]
  },
  {
   "cell_type": "code",
   "execution_count": 36,
   "metadata": {},
   "outputs": [
    {
     "data": {
      "text/plain": [
       "count    19306.000000\n",
       "mean        10.828188\n",
       "std          6.563890\n",
       "min          1.000000\n",
       "25%          5.000000\n",
       "50%          9.000000\n",
       "75%         16.000000\n",
       "max         60.000000\n",
       "Name: floors_total, dtype: float64"
      ]
     },
     "execution_count": 36,
     "metadata": {},
     "output_type": "execute_result"
    },
    {
     "data": {
      "image/png": "[encoded data removed]",
      "text/plain": [
       "<Figure size 432x288 with 1 Axes>"
      ]
     },
     "metadata": {
      "needs_background": "light"
     },
     "output_type": "display_data"
    }
   ],
   "source": [
    "# Построение диаграммы с распределением количество этажей\n",
    "good_data['floors_total'].hist(bins = 50, range=(30,60))\n",
    "# Числовое описание данных\n",
    "good_data['floors_total'].describe()"
   ]
  },
  {
   "cell_type": "code",
   "execution_count": 37,
   "metadata": {
    "scrolled": true
   },
   "outputs": [
    {
     "data": {
      "text/plain": [
       "<AxesSubplot:>"
      ]
     },
     "execution_count": 37,
     "metadata": {},
     "output_type": "execute_result"
    },
    {
     "data": {
      "image/png": "[encoded data removed]",
      "text/plain": [
       "<Figure size 432x288 with 1 Axes>"
      ]
     },
     "metadata": {
      "needs_background": "light"
     },
     "output_type": "display_data"
    }
   ],
   "source": [
    "# Определение границ IQR\n",
    "iqr = good_data['floors_total'].quantile(0.75) - good_data['floors_total'].quantile(0.25)\n",
    "up_lim_floors = good_data['floors_total'].quantile(0.75) + 1.5 * iqr\n",
    "\n",
    "# Фильтрация данных по границам IQR\n",
    "good_data = good_data[good_data['floors_total'] <= up_lim_floors]\n",
    "\n",
    "# Проверка фильтрации данных\n",
    "good_data['floors_total'].hist(bins = 50)"
   ]
  },
  {
   "cell_type": "markdown",
   "metadata": {},
   "source": [
    "Диаграмма распределения количества этажей объектов показывает типичную картину для многоквартирных домов: наибольшая часть объектов имеет от 5 до 14 этажей. После определения верхних и нижних границ методом IQR были удалены выбросы, такие как объекты с аномально малым (1) или чрезмерно большим количеством этажей (более 30)."
   ]
  },
  {
   "cell_type": "code",
   "execution_count": 38,
   "metadata": {
    "scrolled": true
   },
   "outputs": [
    {
     "data": {
      "text/plain": [
       "19289"
      ]
     },
     "execution_count": 38,
     "metadata": {},
     "output_type": "execute_result"
    }
   ],
   "source": [
    "len(good_data)"
   ]
  },
  {
   "cell_type": "markdown",
   "metadata": {},
   "source": [
    "##### Исследование расстояния до центра города в метрах от жилых объектах"
   ]
  },
  {
   "cell_type": "code",
   "execution_count": 39,
   "metadata": {},
   "outputs": [
    {
     "data": {
      "text/plain": [
       "count    14165.000000\n",
       "mean     15608.572820\n",
       "std       8357.336384\n",
       "min        399.000000\n",
       "25%      11250.000000\n",
       "50%      14022.000000\n",
       "75%      16929.000000\n",
       "max      65968.000000\n",
       "Name: cityCenters_nearest, dtype: float64"
      ]
     },
     "execution_count": 39,
     "metadata": {},
     "output_type": "execute_result"
    },
    {
     "data": {
      "image/png": "[encoded data removed]",
      "text/plain": [
       "<Figure size 432x288 with 1 Axes>"
      ]
     },
     "metadata": {
      "needs_background": "light"
     },
     "output_type": "display_data"
    }
   ],
   "source": [
    "# Построение диаграммы с распределением расстояния до центра\n",
    "good_data['cityCenters_nearest'].hist(bins = 50)\n",
    "# Числовое описание данных\n",
    "good_data['cityCenters_nearest'].describe()"
   ]
  },
  {
   "cell_type": "code",
   "execution_count": 40,
   "metadata": {},
   "outputs": [
    {
     "data": {
      "text/plain": [
       "<AxesSubplot:>"
      ]
     },
     "execution_count": 40,
     "metadata": {},
     "output_type": "execute_result"
    },
    {
     "data": {
      "image/png": "[encoded data removed]",
      "text/plain": [
       "<Figure size 432x288 with 1 Axes>"
      ]
     },
     "metadata": {
      "needs_background": "light"
     },
     "output_type": "display_data"
    }
   ],
   "source": [
    "# Фильтрация данных, с сохранением строк с пропусками (NaN) \n",
    "good_data = good_data[(good_data['cityCenters_nearest'] <= 37000) | (good_data['cityCenters_nearest'].isnull())]\n",
    "\n",
    "# Проверка фильтрации данных\n",
    "good_data['cityCenters_nearest'].hist(bins = 50)"
   ]
  },
  {
   "cell_type": "markdown",
   "metadata": {},
   "source": [
    "В ходе анализа распределения расстояния до центра города было обнаружено несколько выбросов. Для их устранения рассчитали границы на основе IQR, и данные за пределами 37 км были исключены. Это помогло сгладить распределение, убрав аномально удаленные объекты."
   ]
  },
  {
   "cell_type": "code",
   "execution_count": 41,
   "metadata": {},
   "outputs": [
    {
     "data": {
      "text/plain": [
       "19005"
      ]
     },
     "execution_count": 41,
     "metadata": {},
     "output_type": "execute_result"
    }
   ],
   "source": [
    "len(good_data)"
   ]
  },
  {
   "cell_type": "markdown",
   "metadata": {},
   "source": [
    "##### Исследование расстояния до ближайшего парка от жилых объектах                     "
   ]
  },
  {
   "cell_type": "code",
   "execution_count": 42,
   "metadata": {},
   "outputs": [
    {
     "data": {
      "text/plain": [
       "count    5497.000000\n",
       "mean      494.735856\n",
       "std       326.675553\n",
       "min         1.000000\n",
       "25%       301.000000\n",
       "50%       460.000000\n",
       "75%       619.000000\n",
       "max      3190.000000\n",
       "Name: parks_nearest, dtype: float64"
      ]
     },
     "execution_count": 42,
     "metadata": {},
     "output_type": "execute_result"
    },
    {
     "data": {
      "image/png": "[encoded data removed]",
      "text/plain": [
       "<Figure size 432x288 with 1 Axes>"
      ]
     },
     "metadata": {
      "needs_background": "light"
     },
     "output_type": "display_data"
    }
   ],
   "source": [
    "# Построение диаграммы с распределением расстояния до парка\n",
    "good_data['parks_nearest'].hist(bins = 50)\n",
    "# Числовое описание данных\n",
    "good_data['parks_nearest'].describe()"
   ]
  },
  {
   "cell_type": "code",
   "execution_count": 43,
   "metadata": {},
   "outputs": [
    {
     "data": {
      "text/plain": [
       "<AxesSubplot:>"
      ]
     },
     "execution_count": 43,
     "metadata": {},
     "output_type": "execute_result"
    },
    {
     "data": {
      "image/png": "[encoded data removed]",
      "text/plain": [
       "<Figure size 432x288 with 1 Axes>"
      ]
     },
     "metadata": {
      "needs_background": "light"
     },
     "output_type": "display_data"
    }
   ],
   "source": [
    "# Определение верхней границы IQR\n",
    "iqr = good_data['parks_nearest'].quantile(0.75) - good_data['parks_nearest'].quantile(0.25)\n",
    "up_lim_parks = good_data['parks_nearest'].quantile(0.75) + 1.5 * iqr\n",
    "# Фильтрация данных по границам IQR с сохранением строк с пропусками (NaN)\n",
    "good_data = good_data[(good_data['parks_nearest'] <= up_lim_parks) | (good_data['parks_nearest'].isnull())]\n",
    "# Проверка фильтрации данных\n",
    "good_data['parks_nearest'].hist(bins = 50)\n"
   ]
  },
  {
   "cell_type": "markdown",
   "metadata": {},
   "source": [
    "Была выполнена фильтрация данных по границам IQR: значения, превышающие верхнюю границу, удалены. Пропуски (NaN) сохранены, чтобы избежать потери данных с отсутствующей информацией."
   ]
  },
  {
   "cell_type": "code",
   "execution_count": 44,
   "metadata": {},
   "outputs": [
    {
     "data": {
      "text/plain": [
       "18794"
      ]
     },
     "execution_count": 44,
     "metadata": {},
     "output_type": "execute_result"
    }
   ],
   "source": [
    "len(good_data)"
   ]
  },
  {
   "cell_type": "markdown",
   "metadata": {},
   "source": [
    "##### Проверка количества отсеянных данных"
   ]
  },
  {
   "cell_type": "code",
   "execution_count": 45,
   "metadata": {
    "scrolled": true
   },
   "outputs": [
    {
     "data": {
      "text/plain": [
       "4905"
      ]
     },
     "execution_count": 45,
     "metadata": {},
     "output_type": "execute_result"
    }
   ],
   "source": [
    "len(data) - len(good_data)"
   ]
  },
  {
   "cell_type": "markdown",
   "metadata": {},
   "source": [
    "После проведения фильтрации данных по различным параметрам, общее количество удаленных строк составило 4905. Это связано с тем, что были устранены выбросы и некорректные значения, выявленные в ходе анализа параметров, таких как расстояние до центра, площадь квартир, количество этажей и другие. Пропуски в данных, где это было уместно, были сохранены, чтобы избежать излишней потери информации. Также в каждом пункте была вызвана функция `len(good_data)` для отслеживания количества отфильтрованных строк."
   ]
  },
  {
   "cell_type": "markdown",
   "metadata": {},
   "source": [
    "#### Исследование скорости продажи жилых объектов"
   ]
  },
  {
   "cell_type": "code",
   "execution_count": 46,
   "metadata": {},
   "outputs": [
    {
     "data": {
      "text/plain": [
       "count    16614.000000\n",
       "mean       168.087336\n",
       "std        205.286842\n",
       "min          1.000000\n",
       "25%         43.000000\n",
       "50%         89.000000\n",
       "75%        213.000000\n",
       "max       1580.000000\n",
       "Name: days_exposition, dtype: float64"
      ]
     },
     "execution_count": 46,
     "metadata": {},
     "output_type": "execute_result"
    },
    {
     "data": {
      "image/png": "[encoded data removed]",
      "text/plain": [
       "<Figure size 432x288 with 1 Axes>"
      ]
     },
     "metadata": {
      "needs_background": "light"
     },
     "output_type": "display_data"
    }
   ],
   "source": [
    "# Построение диаграммы с распределением расстояния до центра\n",
    "good_data['days_exposition'].hist(bins = 150)\n",
    "# Числовое описание данных\n",
    "good_data['days_exposition'].describe()"
   ]
  },
  {
   "cell_type": "markdown",
   "metadata": {},
   "source": [
    "**Вывод**\n",
    "\n",
    "Среднее время продажи квартир составляет 168 дней, однако данные сильно варьируются, что видно из стандартного отклонения в 205 дней. Медианное значение — 89 дней, что говорит о том, что половина всех квартир продается быстрее этого срока. Быстрыми можно считать продажи, которые завершились в пределах 43 дней (1-й квартиль), а необычно долгими — продажи, которые заняли более 213 дней (3-й квартиль)."
   ]
  },
  {
   "cell_type": "markdown",
   "metadata": {},
   "source": [
    "#### Факторы, влияющие на стоимость объекта."
   ]
  },
  {
   "cell_type": "markdown",
   "metadata": {},
   "source": [
    "##### Зависимость стоимости от общей площади жилого объекта"
   ]
  },
  {
   "cell_type": "code",
   "execution_count": 47,
   "metadata": {},
   "outputs": [
    {
     "data": {
      "image/png": "[encoded data removed]",
      "text/plain": [
       "<Figure size 432x288 with 1 Axes>"
      ]
     },
     "metadata": {
      "needs_background": "light"
     },
     "output_type": "display_data"
    }
   ],
   "source": [
    "# Построение диаграммы рассеяния зависимости цены от общей площади\n",
    "good_data.plot(x='total_area', y='last_price', kind='scatter', alpha=0.1)\n",
    "plt.show()"
   ]
  },
  {
   "cell_type": "code",
   "execution_count": 48,
   "metadata": {},
   "outputs": [
    {
     "data": {
      "text/plain": [
       "'Коэффициент корреляции: 0.6406192242775391'"
      ]
     },
     "execution_count": 48,
     "metadata": {},
     "output_type": "execute_result"
    }
   ],
   "source": [
    "# Рассчёт корреляции\n",
    "correlation_total_area = good_data['last_price'].corr(data['total_area'])\n",
    "f'Коэффициент корреляции: {correlation_total_area}'"
   ]
  },
  {
   "cell_type": "markdown",
   "metadata": {},
   "source": [
    "**Вывод**\n",
    "\n",
    "Исследована зависимость стоимости от общей площади через диаграмму рассеяния с прозрачностью точек (alpha=0.1) и рассчитан коэффициент корреляции. Выявлена заметная положительная связь: чем больше общая площадь, тем выше цена. Коэффициент корреляции составил 0.64."
   ]
  },
  {
   "cell_type": "markdown",
   "metadata": {},
   "source": [
    "##### Зависимость стоимости от жилой площади жилого объекта"
   ]
  },
  {
   "cell_type": "code",
   "execution_count": 49,
   "metadata": {
    "scrolled": true
   },
   "outputs": [
    {
     "data": {
      "image/png": "[encoded data removed]",
      "text/plain": [
       "<Figure size 432x288 with 1 Axes>"
      ]
     },
     "metadata": {
      "needs_background": "light"
     },
     "output_type": "display_data"
    }
   ],
   "source": [
    "# Построение диаграммы рассеяния зависимости цены от жилой площади\n",
    "good_data.plot(x='living_area', y='last_price', kind='scatter', alpha=0.1)\n",
    "plt.show()"
   ]
  },
  {
   "cell_type": "code",
   "execution_count": 50,
   "metadata": {},
   "outputs": [
    {
     "data": {
      "text/plain": [
       "'Коэффициент корреляции: 0.5289820657291849'"
      ]
     },
     "execution_count": 50,
     "metadata": {},
     "output_type": "execute_result"
    }
   ],
   "source": [
    "# Рассчёт корреляции\n",
    "correlation_living_area = good_data['living_area'].corr(data['last_price'])\n",
    "f'Коэффициент корреляции: {correlation_living_area}'"
   ]
  },
  {
   "cell_type": "markdown",
   "metadata": {},
   "source": [
    "**Вывод**\n",
    "\n",
    "Исследована зависимость стоимости от жилой площади через диаграмму рассеяния с прозрачностью точек (alpha=0.1) и рассчитан коэффициент корреляции. Выявлена заметная положительная связь: чем больше жилая площадь, тем выше цена. Коэффициент корреляции составил 0.53."
   ]
  },
  {
   "cell_type": "markdown",
   "metadata": {},
   "source": [
    "##### Зависимость стоимости от площади кухни жилого объекта"
   ]
  },
  {
   "cell_type": "code",
   "execution_count": 51,
   "metadata": {},
   "outputs": [
    {
     "data": {
      "image/png": "[encoded data removed]",
      "text/plain": [
       "<Figure size 432x288 with 1 Axes>"
      ]
     },
     "metadata": {
      "needs_background": "light"
     },
     "output_type": "display_data"
    }
   ],
   "source": [
    "good_data.plot(x='kitchen_area', y='last_price', kind='scatter', alpha=0.1)\n",
    "plt.show()"
   ]
  },
  {
   "cell_type": "code",
   "execution_count": 52,
   "metadata": {},
   "outputs": [
    {
     "data": {
      "text/plain": [
       "'Коэффициент корреляции: 0.46120344484556763'"
      ]
     },
     "execution_count": 52,
     "metadata": {},
     "output_type": "execute_result"
    }
   ],
   "source": [
    "# Рассчёт корреляции\n",
    "correlation_kitchen_area = good_data['kitchen_area'].corr(data['last_price'])\n",
    "f'Коэффициент корреляции: {correlation_kitchen_area}'"
   ]
  },
  {
   "cell_type": "markdown",
   "metadata": {},
   "source": [
    "**Вывод**\n",
    "\n",
    "Исследована зависимость стоимости от площади кухни через диаграмму рассеяния с прозрачностью точек (alpha=0.1) и рассчитан коэффициент корреляции. Выявлена умеренная положительная связь: чем больше жилая площадь, тем выше цена. Коэффициент корреляции составил 0.46."
   ]
  },
  {
   "cell_type": "markdown",
   "metadata": {},
   "source": [
    "##### Зависимость стоимости от количества комнат в жилом объекте"
   ]
  },
  {
   "cell_type": "code",
   "execution_count": 53,
   "metadata": {},
   "outputs": [
    {
     "data": {
      "text/html": [
       "<div>\n",
       "<style scoped>\n",
       "    .dataframe tbody tr th:only-of-type {\n",
       "        vertical-align: middle;\n",
       "    }\n",
       "\n",
       "    .dataframe tbody tr th {\n",
       "        vertical-align: top;\n",
       "    }\n",
       "\n",
       "    .dataframe thead th {\n",
       "        text-align: right;\n",
       "    }\n",
       "</style>\n",
       "<table border=\"1\" class=\"dataframe\">\n",
       "  <thead>\n",
       "    <tr style=\"text-align: right;\">\n",
       "      <th></th>\n",
       "      <th>last_price</th>\n",
       "    </tr>\n",
       "    <tr>\n",
       "      <th>rooms</th>\n",
       "      <th></th>\n",
       "    </tr>\n",
       "  </thead>\n",
       "  <tbody>\n",
       "    <tr>\n",
       "      <th>1</th>\n",
       "      <td>3.692193e+06</td>\n",
       "    </tr>\n",
       "    <tr>\n",
       "      <th>2</th>\n",
       "      <td>4.715127e+06</td>\n",
       "    </tr>\n",
       "    <tr>\n",
       "      <th>3</th>\n",
       "      <td>5.557274e+06</td>\n",
       "    </tr>\n",
       "    <tr>\n",
       "      <th>4</th>\n",
       "      <td>6.063044e+06</td>\n",
       "    </tr>\n",
       "  </tbody>\n",
       "</table>\n",
       "</div>"
      ],
      "text/plain": [
       "         last_price\n",
       "rooms              \n",
       "1      3.692193e+06\n",
       "2      4.715127e+06\n",
       "3      5.557274e+06\n",
       "4      6.063044e+06"
      ]
     },
     "execution_count": 53,
     "metadata": {},
     "output_type": "execute_result"
    }
   ],
   "source": [
    "# Создание сводной таблицы, которая показывает среднюю цену для каждой категории количества комнат\n",
    "pivot_rooms = good_data.pivot_table(index='rooms', values='last_price', aggfunc='mean')\n",
    "# Вывод сводной таблицы для проверки\n",
    "pivot_rooms"
   ]
  },
  {
   "cell_type": "code",
   "execution_count": 54,
   "metadata": {},
   "outputs": [
    {
     "data": {
      "image/png": "[encoded data removed]",
      "text/plain": [
       "<Figure size 432x288 with 1 Axes>"
      ]
     },
     "metadata": {
      "needs_background": "light"
     },
     "output_type": "display_data"
    }
   ],
   "source": [
    "# Построение графика зависимости цены от количества комнат\n",
    "pivot_rooms.plot(kind='bar', legend=False,\n",
    "                       title= 'Средняя цена в зависимости от количества комнат',\n",
    "                       xlabel='Количество комнат',\n",
    "                       ylabel='Средняя цена (руб.)',\n",
    "                       rot=0\n",
    "                      )\n",
    "plt.show()\n"
   ]
  },
  {
   "cell_type": "code",
   "execution_count": 55,
   "metadata": {},
   "outputs": [
    {
     "data": {
      "text/plain": [
       "'Коэффициент корреляции: 0.4041712155385913'"
      ]
     },
     "execution_count": 55,
     "metadata": {},
     "output_type": "execute_result"
    }
   ],
   "source": [
    "# Рассчёт корреляции\n",
    "correlation_rooms = good_data['last_price'].corr(data['rooms'])\n",
    "f'Коэффициент корреляции: {correlation_rooms}'"
   ]
  },
  {
   "cell_type": "markdown",
   "metadata": {},
   "source": [
    "**Вывод**\n",
    "\n",
    "Исследована зависимость стоимости от количества комнат с помощью столбчатой диаграммы и коэффициента корреляции. Установлена умеренная положительная зависимость: с увеличением количества комнат цена квартиры возрастает, но эта связь выражена незначительно. Коэффициент корреляции равен 0.40."
   ]
  },
  {
   "cell_type": "markdown",
   "metadata": {},
   "source": [
    "##### Зависимость стоимости от этажа, на котором расположен жилой объект"
   ]
  },
  {
   "cell_type": "code",
   "execution_count": 56,
   "metadata": {},
   "outputs": [
    {
     "data": {
      "text/html": [
       "<div>\n",
       "<style scoped>\n",
       "    .dataframe tbody tr th:only-of-type {\n",
       "        vertical-align: middle;\n",
       "    }\n",
       "\n",
       "    .dataframe tbody tr th {\n",
       "        vertical-align: top;\n",
       "    }\n",
       "\n",
       "    .dataframe thead th {\n",
       "        text-align: right;\n",
       "    }\n",
       "</style>\n",
       "<table border=\"1\" class=\"dataframe\">\n",
       "  <thead>\n",
       "    <tr style=\"text-align: right;\">\n",
       "      <th></th>\n",
       "      <th>last_price</th>\n",
       "    </tr>\n",
       "    <tr>\n",
       "      <th>floor_type</th>\n",
       "      <th></th>\n",
       "    </tr>\n",
       "  </thead>\n",
       "  <tbody>\n",
       "    <tr>\n",
       "      <th>первый</th>\n",
       "      <td>3.917214e+06</td>\n",
       "    </tr>\n",
       "    <tr>\n",
       "      <th>последний</th>\n",
       "      <td>4.054064e+06</td>\n",
       "    </tr>\n",
       "    <tr>\n",
       "      <th>другой</th>\n",
       "      <td>4.735668e+06</td>\n",
       "    </tr>\n",
       "  </tbody>\n",
       "</table>\n",
       "</div>"
      ],
      "text/plain": [
       "              last_price\n",
       "floor_type              \n",
       "первый      3.917214e+06\n",
       "последний   4.054064e+06\n",
       "другой      4.735668e+06"
      ]
     },
     "execution_count": 56,
     "metadata": {},
     "output_type": "execute_result"
    }
   ],
   "source": [
    "# Создание сводной таблицы, которая показывает среднюю цену для каждой категории этажа\n",
    "pivot_floor_type = good_data.pivot_table(index='floor_type', values='last_price', aggfunc='mean')\n",
    "# Сортировка цен по возростанию\n",
    "pivot_floor_type = pivot_floor_type.sort_values(by='last_price', ascending=True)\n",
    "# Вывод сводной таблицы для проверки\n",
    "pivot_floor_type"
   ]
  },
  {
   "cell_type": "code",
   "execution_count": 57,
   "metadata": {
    "scrolled": false
   },
   "outputs": [
    {
     "data": {
      "image/png": "[encoded data removed]",
      "text/plain": [
       "<Figure size 432x288 with 1 Axes>"
      ]
     },
     "metadata": {
      "needs_background": "light"
     },
     "output_type": "display_data"
    }
   ],
   "source": [
    "# Построение графика зависимости цены от типа этажа\n",
    "pivot_floor_type.plot(kind='bar', legend=False,\n",
    "                       title= 'Средняя цена в зависимости от типа этажа',\n",
    "                       xlabel='Тип этажа',\n",
    "                       ylabel='Средняя цена (руб.)',\n",
    "                       rot=0\n",
    "                      )\n",
    "plt.show()"
   ]
  },
  {
   "cell_type": "markdown",
   "metadata": {},
   "source": [
    "**Вывод**\n",
    "\n",
    "Для исследования зависимости стоимости квартиры от типа этажа был построен график и рассчитаны средние цены для категорий: первый этаж, последний этаж, и другие этажи. На основе сводной таблицы видно, что квартиры на первом этаже в среднем дешевле, чем на последних и других этажах."
   ]
  },
  {
   "cell_type": "markdown",
   "metadata": {},
   "source": [
    "##### Зависимость стоимости от даты размещения объявления"
   ]
  },
  {
   "cell_type": "markdown",
   "metadata": {},
   "source": [
    "**Найдем зависимость стоимости от года размещения объявления**"
   ]
  },
  {
   "cell_type": "code",
   "execution_count": 58,
   "metadata": {
    "scrolled": true
   },
   "outputs": [
    {
     "data": {
      "text/html": [
       "<div>\n",
       "<style scoped>\n",
       "    .dataframe tbody tr th:only-of-type {\n",
       "        vertical-align: middle;\n",
       "    }\n",
       "\n",
       "    .dataframe tbody tr th {\n",
       "        vertical-align: top;\n",
       "    }\n",
       "\n",
       "    .dataframe thead th {\n",
       "        text-align: right;\n",
       "    }\n",
       "</style>\n",
       "<table border=\"1\" class=\"dataframe\">\n",
       "  <thead>\n",
       "    <tr style=\"text-align: right;\">\n",
       "      <th></th>\n",
       "      <th>last_price</th>\n",
       "    </tr>\n",
       "    <tr>\n",
       "      <th>year_exp</th>\n",
       "      <th></th>\n",
       "    </tr>\n",
       "  </thead>\n",
       "  <tbody>\n",
       "    <tr>\n",
       "      <th>2014</th>\n",
       "      <td>4.803505e+06</td>\n",
       "    </tr>\n",
       "    <tr>\n",
       "      <th>2015</th>\n",
       "      <td>4.797896e+06</td>\n",
       "    </tr>\n",
       "    <tr>\n",
       "      <th>2016</th>\n",
       "      <td>4.477142e+06</td>\n",
       "    </tr>\n",
       "    <tr>\n",
       "      <th>2017</th>\n",
       "      <td>4.479426e+06</td>\n",
       "    </tr>\n",
       "    <tr>\n",
       "      <th>2018</th>\n",
       "      <td>4.483716e+06</td>\n",
       "    </tr>\n",
       "    <tr>\n",
       "      <th>2019</th>\n",
       "      <td>4.817183e+06</td>\n",
       "    </tr>\n",
       "  </tbody>\n",
       "</table>\n",
       "</div>"
      ],
      "text/plain": [
       "            last_price\n",
       "year_exp              \n",
       "2014      4.803505e+06\n",
       "2015      4.797896e+06\n",
       "2016      4.477142e+06\n",
       "2017      4.479426e+06\n",
       "2018      4.483716e+06\n",
       "2019      4.817183e+06"
      ]
     },
     "execution_count": 58,
     "metadata": {},
     "output_type": "execute_result"
    }
   ],
   "source": [
    "# Создание сводной таблицы, которая показывает среднюю цену по годам\n",
    "pivot_year_exp = good_data.pivot_table(index='year_exp', values='last_price', aggfunc='mean')\n",
    "\n",
    "# Вывод сводной таблицы для проверки\n",
    "pivot_year_exp"
   ]
  },
  {
   "cell_type": "code",
   "execution_count": 59,
   "metadata": {},
   "outputs": [
    {
     "data": {
      "image/png": "[encoded data removed]",
      "text/plain": [
       "<Figure size 432x288 with 1 Axes>"
      ]
     },
     "metadata": {
      "needs_background": "light"
     },
     "output_type": "display_data"
    }
   ],
   "source": [
    "# Построение графика зависимости цены от типа этажа\n",
    "pivot_year_exp.plot(kind='bar', legend=False,\n",
    "                       title= 'Средняя цена в зависимости от года публикации',\n",
    "                       xlabel='Год',\n",
    "                       ylabel='Средняя цена (руб.)',\n",
    "                       rot=0\n",
    "                      )\n",
    "plt.show()"
   ]
  },
  {
   "cell_type": "markdown",
   "metadata": {},
   "source": [
    "**Найдем зависимость стоимости от месяца размещения объявления**"
   ]
  },
  {
   "cell_type": "code",
   "execution_count": 60,
   "metadata": {},
   "outputs": [
    {
     "data": {
      "text/html": [
       "<div>\n",
       "<style scoped>\n",
       "    .dataframe tbody tr th:only-of-type {\n",
       "        vertical-align: middle;\n",
       "    }\n",
       "\n",
       "    .dataframe tbody tr th {\n",
       "        vertical-align: top;\n",
       "    }\n",
       "\n",
       "    .dataframe thead th {\n",
       "        text-align: right;\n",
       "    }\n",
       "</style>\n",
       "<table border=\"1\" class=\"dataframe\">\n",
       "  <thead>\n",
       "    <tr style=\"text-align: right;\">\n",
       "      <th></th>\n",
       "      <th>last_price</th>\n",
       "    </tr>\n",
       "    <tr>\n",
       "      <th>mounth_exp</th>\n",
       "      <th></th>\n",
       "    </tr>\n",
       "  </thead>\n",
       "  <tbody>\n",
       "    <tr>\n",
       "      <th>1</th>\n",
       "      <td>4.560933e+06</td>\n",
       "    </tr>\n",
       "    <tr>\n",
       "      <th>2</th>\n",
       "      <td>4.532933e+06</td>\n",
       "    </tr>\n",
       "    <tr>\n",
       "      <th>3</th>\n",
       "      <td>4.518525e+06</td>\n",
       "    </tr>\n",
       "    <tr>\n",
       "      <th>4</th>\n",
       "      <td>4.669716e+06</td>\n",
       "    </tr>\n",
       "    <tr>\n",
       "      <th>5</th>\n",
       "      <td>4.531553e+06</td>\n",
       "    </tr>\n",
       "    <tr>\n",
       "      <th>6</th>\n",
       "      <td>4.354679e+06</td>\n",
       "    </tr>\n",
       "    <tr>\n",
       "      <th>7</th>\n",
       "      <td>4.507037e+06</td>\n",
       "    </tr>\n",
       "    <tr>\n",
       "      <th>8</th>\n",
       "      <td>4.543536e+06</td>\n",
       "    </tr>\n",
       "    <tr>\n",
       "      <th>9</th>\n",
       "      <td>4.555208e+06</td>\n",
       "    </tr>\n",
       "    <tr>\n",
       "      <th>10</th>\n",
       "      <td>4.518003e+06</td>\n",
       "    </tr>\n",
       "    <tr>\n",
       "      <th>11</th>\n",
       "      <td>4.571593e+06</td>\n",
       "    </tr>\n",
       "    <tr>\n",
       "      <th>12</th>\n",
       "      <td>4.542352e+06</td>\n",
       "    </tr>\n",
       "  </tbody>\n",
       "</table>\n",
       "</div>"
      ],
      "text/plain": [
       "              last_price\n",
       "mounth_exp              \n",
       "1           4.560933e+06\n",
       "2           4.532933e+06\n",
       "3           4.518525e+06\n",
       "4           4.669716e+06\n",
       "5           4.531553e+06\n",
       "6           4.354679e+06\n",
       "7           4.507037e+06\n",
       "8           4.543536e+06\n",
       "9           4.555208e+06\n",
       "10          4.518003e+06\n",
       "11          4.571593e+06\n",
       "12          4.542352e+06"
      ]
     },
     "execution_count": 60,
     "metadata": {},
     "output_type": "execute_result"
    }
   ],
   "source": [
    "# Создание сводной таблицы, которая показывает среднюю цену по месяцам\n",
    "pivot_mounth_exp = good_data.pivot_table(index='mounth_exp', values='last_price', aggfunc='mean')\n",
    "\n",
    "# Вывод сводной таблицы для проверки\n",
    "pivot_mounth_exp"
   ]
  },
  {
   "cell_type": "code",
   "execution_count": 61,
   "metadata": {},
   "outputs": [
    {
     "data": {
      "image/png": "[encoded data removed]",
      "text/plain": [
       "<Figure size 432x288 with 1 Axes>"
      ]
     },
     "metadata": {
      "needs_background": "light"
     },
     "output_type": "display_data"
    }
   ],
   "source": [
    "# Построение графика зависимости цены от месяца публикации\n",
    "pivot_mounth_exp.plot(kind='bar', legend=False,\n",
    "                       title= 'Средняя цена в зависимости от месяца публикации',\n",
    "                       xlabel='Месяц',\n",
    "                       ylabel='Средняя цена (руб.)',\n",
    "                       rot=0\n",
    "                      )\n",
    "plt.show()"
   ]
  },
  {
   "cell_type": "markdown",
   "metadata": {},
   "source": [
    "**Найдем зависимость стоимости от дня размещения объявления**"
   ]
  },
  {
   "cell_type": "code",
   "execution_count": 62,
   "metadata": {},
   "outputs": [
    {
     "data": {
      "text/html": [
       "<div>\n",
       "<style scoped>\n",
       "    .dataframe tbody tr th:only-of-type {\n",
       "        vertical-align: middle;\n",
       "    }\n",
       "\n",
       "    .dataframe tbody tr th {\n",
       "        vertical-align: top;\n",
       "    }\n",
       "\n",
       "    .dataframe thead th {\n",
       "        text-align: right;\n",
       "    }\n",
       "</style>\n",
       "<table border=\"1\" class=\"dataframe\">\n",
       "  <thead>\n",
       "    <tr style=\"text-align: right;\">\n",
       "      <th></th>\n",
       "      <th>last_price</th>\n",
       "    </tr>\n",
       "    <tr>\n",
       "      <th>day_exp</th>\n",
       "      <th></th>\n",
       "    </tr>\n",
       "  </thead>\n",
       "  <tbody>\n",
       "    <tr>\n",
       "      <th>0</th>\n",
       "      <td>4.566273e+06</td>\n",
       "    </tr>\n",
       "    <tr>\n",
       "      <th>1</th>\n",
       "      <td>4.544538e+06</td>\n",
       "    </tr>\n",
       "    <tr>\n",
       "      <th>2</th>\n",
       "      <td>4.585204e+06</td>\n",
       "    </tr>\n",
       "    <tr>\n",
       "      <th>3</th>\n",
       "      <td>4.512700e+06</td>\n",
       "    </tr>\n",
       "    <tr>\n",
       "      <th>4</th>\n",
       "      <td>4.518489e+06</td>\n",
       "    </tr>\n",
       "    <tr>\n",
       "      <th>5</th>\n",
       "      <td>4.493072e+06</td>\n",
       "    </tr>\n",
       "    <tr>\n",
       "      <th>6</th>\n",
       "      <td>4.504422e+06</td>\n",
       "    </tr>\n",
       "  </tbody>\n",
       "</table>\n",
       "</div>"
      ],
      "text/plain": [
       "           last_price\n",
       "day_exp              \n",
       "0        4.566273e+06\n",
       "1        4.544538e+06\n",
       "2        4.585204e+06\n",
       "3        4.512700e+06\n",
       "4        4.518489e+06\n",
       "5        4.493072e+06\n",
       "6        4.504422e+06"
      ]
     },
     "execution_count": 62,
     "metadata": {},
     "output_type": "execute_result"
    }
   ],
   "source": [
    "# Создание сводной таблицы, которая показывает среднюю цену по дня\n",
    "pivot_day_exp = good_data.pivot_table(index='day_exp', values='last_price', aggfunc='mean')\n",
    "\n",
    "# Вывод сводной таблицы для проверки\n",
    "pivot_day_exp"
   ]
  },
  {
   "cell_type": "code",
   "execution_count": 63,
   "metadata": {},
   "outputs": [
    {
     "data": {
      "image/png": "[encoded data removed]",
      "text/plain": [
       "<Figure size 432x288 with 1 Axes>"
      ]
     },
     "metadata": {
      "needs_background": "light"
     },
     "output_type": "display_data"
    }
   ],
   "source": [
    "# Построение графика зависимости цены от месяца публикации\n",
    "pivot_day_exp.plot(kind='bar', legend=False,\n",
    "                       title= 'Средняя цена в зависимости от дня публикации',\n",
    "                       xlabel='Месяц',\n",
    "                       ylabel='Средняя цена (руб.)',\n",
    "                       rot=0\n",
    "                      )\n",
    "plt.show()"
   ]
  },
  {
   "cell_type": "markdown",
   "metadata": {},
   "source": [
    "**Вывод по анализу цен на жилые объекты от даты публикации объявления**\n",
    "\n",
    "Из проведенного анализа видно, что зависимость стоимости от даты размещения объявления по годам, месяцам и дням недели не является значительной. Коэффициенты корреляции для всех трёх параметров очень низкие, около 0.01, что указывает на практически полное отсутствие связи между датой публикации и ценой. Средние значения цен по годам, месяцам и дням публикуются с незначительными колебаниями, что может свидетельствовать о стабильности цен независимо от времени размещения объявления."
   ]
  },
  {
   "cell_type": "markdown",
   "metadata": {},
   "source": [
    "#### Средняя цена одного квадратного метра в 10 населённых пунктах с наибольшим числом объявлений"
   ]
  },
  {
   "cell_type": "code",
   "execution_count": 64,
   "metadata": {},
   "outputs": [
    {
     "data": {
      "text/html": [
       "<div>\n",
       "<style scoped>\n",
       "    .dataframe tbody tr th:only-of-type {\n",
       "        vertical-align: middle;\n",
       "    }\n",
       "\n",
       "    .dataframe tbody tr th {\n",
       "        vertical-align: top;\n",
       "    }\n",
       "\n",
       "    .dataframe thead th {\n",
       "        text-align: right;\n",
       "    }\n",
       "</style>\n",
       "<table border=\"1\" class=\"dataframe\">\n",
       "  <thead>\n",
       "    <tr style=\"text-align: right;\">\n",
       "      <th></th>\n",
       "      <th>locality_name</th>\n",
       "      <th>number_of_listings</th>\n",
       "      <th>avg_sqm_cost</th>\n",
       "    </tr>\n",
       "  </thead>\n",
       "  <tbody>\n",
       "    <tr>\n",
       "      <th>30</th>\n",
       "      <td>Санкт-Петербург</td>\n",
       "      <td>11710</td>\n",
       "      <td>103695.140231</td>\n",
       "    </tr>\n",
       "    <tr>\n",
       "      <th>209</th>\n",
       "      <td>п. Мурино</td>\n",
       "      <td>532</td>\n",
       "      <td>85617.479906</td>\n",
       "    </tr>\n",
       "    <tr>\n",
       "      <th>280</th>\n",
       "      <td>п. Шушары</td>\n",
       "      <td>422</td>\n",
       "      <td>78046.643128</td>\n",
       "    </tr>\n",
       "    <tr>\n",
       "      <th>74</th>\n",
       "      <td>д. Кудрово</td>\n",
       "      <td>413</td>\n",
       "      <td>95189.331453</td>\n",
       "    </tr>\n",
       "    <tr>\n",
       "      <th>3</th>\n",
       "      <td>Всеволожск</td>\n",
       "      <td>369</td>\n",
       "      <td>66681.020027</td>\n",
       "    </tr>\n",
       "    <tr>\n",
       "      <th>219</th>\n",
       "      <td>п. Парголово</td>\n",
       "      <td>311</td>\n",
       "      <td>90907.345531</td>\n",
       "    </tr>\n",
       "    <tr>\n",
       "      <th>29</th>\n",
       "      <td>Пушкин</td>\n",
       "      <td>308</td>\n",
       "      <td>99600.841039</td>\n",
       "    </tr>\n",
       "    <tr>\n",
       "      <th>12</th>\n",
       "      <td>Колпино</td>\n",
       "      <td>301</td>\n",
       "      <td>75132.030498</td>\n",
       "    </tr>\n",
       "    <tr>\n",
       "      <th>6</th>\n",
       "      <td>Гатчина</td>\n",
       "      <td>297</td>\n",
       "      <td>68332.316869</td>\n",
       "    </tr>\n",
       "    <tr>\n",
       "      <th>4</th>\n",
       "      <td>Выборг</td>\n",
       "      <td>209</td>\n",
       "      <td>57729.001148</td>\n",
       "    </tr>\n",
       "  </tbody>\n",
       "</table>\n",
       "</div>"
      ],
      "text/plain": [
       "       locality_name  number_of_listings   avg_sqm_cost\n",
       "30   Санкт-Петербург               11710  103695.140231\n",
       "209        п. Мурино                 532   85617.479906\n",
       "280        п. Шушары                 422   78046.643128\n",
       "74        д. Кудрово                 413   95189.331453\n",
       "3         Всеволожск                 369   66681.020027\n",
       "219     п. Парголово                 311   90907.345531\n",
       "29            Пушкин                 308   99600.841039\n",
       "12           Колпино                 301   75132.030498\n",
       "6            Гатчина                 297   68332.316869\n",
       "4             Выборг                 209   57729.001148"
      ]
     },
     "execution_count": 64,
     "metadata": {},
     "output_type": "execute_result"
    }
   ],
   "source": [
    "# Создание сводной таблицы с количеством объявлений и средней ценой за квадратный метр\n",
    "locality_pivot = (good_data\n",
    "                  .pivot_table(index='locality_name', \n",
    "                               values='sqm_cost', \n",
    "                               aggfunc=['count', 'mean'])\n",
    "                  .reset_index())\n",
    "\n",
    "# Переименование столбцов для удобства\n",
    "locality_pivot.columns = ['locality_name', 'number_of_listings', 'avg_sqm_cost']\n",
    "\n",
    "# Сортировка по количеству объявлений\n",
    "top_localities = locality_pivot.sort_values(by='number_of_listings', ascending=False).head(10)\n",
    "\n",
    "# Вывод сводной таблицы\n",
    "top_localities"
   ]
  },
  {
   "cell_type": "code",
   "execution_count": 65,
   "metadata": {},
   "outputs": [
    {
     "data": {
      "text/plain": [
       "'Населенный пункт с самой высокой стоимостью кв. метра: Санкт-Петербург'"
      ]
     },
     "execution_count": 65,
     "metadata": {},
     "output_type": "execute_result"
    }
   ],
   "source": [
    "# Вывод населенного пункта с самой высокой стоимостью за квадратный метр\n",
    "most_expensive_locality = top_localities.sort_values(by='avg_sqm_cost', ascending=False).head(1)\n",
    "f\"Населенный пункт с самой высокой стоимостью кв. метра: {most_expensive_locality['locality_name'].values[0]}\""
   ]
  },
  {
   "cell_type": "code",
   "execution_count": 66,
   "metadata": {},
   "outputs": [
    {
     "data": {
      "text/plain": [
       "'Населенный пункт с самой низкой стоимостью кв. метра: Выборг'"
      ]
     },
     "execution_count": 66,
     "metadata": {},
     "output_type": "execute_result"
    }
   ],
   "source": [
    "# Вывод населенных пунктов с самой низкой стоимостью за квадратный метр\n",
    "cheapest_locality = top_localities.sort_values(by='avg_sqm_cost', ascending=True).head(1)\n",
    "f\"Населенный пункт с самой низкой стоимостью кв. метра: {cheapest_locality['locality_name'].values[0]}\""
   ]
  },
  {
   "cell_type": "markdown",
   "metadata": {},
   "source": [
    "**Вывод**\n",
    "\n",
    "Был проведен анализ стоимости квадратного метра в 10 населённых пунктах с наибольшим количеством объявлений. Для этого была построена сводная таблица, которая включала количество объявлений и среднюю стоимость квадратного метра в каждом населённом пункте. Затем таблица была отсортирована по количеству объявлений, чтобы выбрать топ-10 населённых пунктов. Также были определены населённые пункты с самой высокой и низкой стоимостью квадратного метра."
   ]
  },
  {
   "cell_type": "markdown",
   "metadata": {},
   "source": [
    "#### Зависимость цен на жилье в Санкт-Петербурге в зависимости от расстояния до центра"
   ]
  },
  {
   "cell_type": "code",
   "execution_count": 67,
   "metadata": {},
   "outputs": [
    {
     "data": {
      "text/plain": [
       "centers_nearest_km\n",
       "0.0    6.466667e+06\n",
       "1.0    7.474978e+06\n",
       "2.0    7.349612e+06\n",
       "3.0    6.490314e+06\n",
       "4.0    6.893183e+06\n",
       "5.0    6.920035e+06\n",
       "6.0    6.468555e+06\n",
       "7.0    6.109216e+06\n",
       "8.0    5.991766e+06\n",
       "9.0    5.220695e+06\n",
       "Name: last_price, dtype: float64"
      ]
     },
     "execution_count": 67,
     "metadata": {},
     "output_type": "execute_result"
    }
   ],
   "source": [
    "# Отбор данных только для Санкт-Петербурга\n",
    "spb_flats = good_data.query('locality_name == \"Санкт-Петербург\"')\n",
    "# Группировка данных по расстоянию до центра и расчет средней цены\n",
    "price_per_km = spb_flats.groupby('centers_nearest_km')['last_price'].mean()\n",
    "# Вывод сводной таблицы для проверки\n",
    "price_per_km.head(10)"
   ]
  },
  {
   "cell_type": "code",
   "execution_count": 68,
   "metadata": {},
   "outputs": [
    {
     "data": {
      "image/png": "[encoded data removed]",
      "text/plain": [
       "<Figure size 720x432 with 1 Axes>"
      ]
     },
     "metadata": {
      "needs_background": "light"
     },
     "output_type": "display_data"
    }
   ],
   "source": [
    "# Построение графика зависимости цены от удаления от центра Санкт-Петербурга\n",
    "price_per_km.plot(kind='line', figsize=(10, 6), marker='o', \n",
    "                  title='Зависимость средней цены от расстояния до центра Санкт-Петербурга',\n",
    "                  xlabel='Расстояние до центра (км)', ylabel='Средняя цена (руб.)', \n",
    "                  grid=True)\n",
    "plt.show()"
   ]
  },
  {
   "cell_type": "markdown",
   "metadata": {},
   "source": [
    "**Вывод**\n",
    "\n",
    "Была исследована зависимость цен на жилье в Санкт-Петербурге от расстояния до центра города. Для этого были отобраны квартиры только из Санкт-Петербурга, затем рассчитана средняя цена для каждого километра удаленности от центра на основе группировки данных. Полученная зависимость визуализирована с помощью графика. Результаты показали, что цена на квартиры снижается по мере увеличения расстояния от центра."
   ]
  },
  {
   "cell_type": "markdown",
   "metadata": {
    "id": "h7VpzkIDAwb-"
   },
   "source": [
    "### Напишите общий вывод"
   ]
  },
  {
   "cell_type": "markdown",
   "metadata": {},
   "source": [
    "В ходе проекта был проведён всесторонний анализ данных о недвижимости. На этапе предобработки были исправлены пропуски и дубликаты, стандартизированы названия населённых пунктов, а также добавлены новые столбцы для детального анализа, такие как стоимость квадратного метра и расстояние до центра города. Проведён исследовательский анализ, включающий изучение распределений общей площади, жилой площади, площади кухни, высоты потолков, количества комнат и этажей. Для устранения выбросов применены методы фильтрации, что позволило улучшить качество данных и повысить точность дальнейших выводов.\n",
    "\n",
    "Основные выводы:\n",
    "\n",
    "- Стоимость недвижимости значительно зависит от общей, жилой площади и площади кухни. Эти параметры показывают положительную корреляцию с ценой — чем больше площадь, тем выше цена объекта.\n",
    "- Квартиры на первых этажах в среднем дешевле, чем на последних и других этажах.\n",
    "- Время продажи объектов недвижимости сильно варьируется, однако медианное значение составило 89 дней.\n",
    "- Дата размещения объявления не оказывает существенного влияния на цену — зависимости от года, месяца или дня недели не выявлено.\n",
    "- Среди 10 населённых пунктов с наибольшим количеством объявлений самая высокая стоимость квадратного метра в Санкт-Петербурге, а самая низкая — в Выборге.\n",
    "- В Санкт-Петербурге цена на квартиры уменьшается с увеличением расстояния до центра города."
   ]
  }
 ],
 "metadata": {
  "ExecuteTimeLog": [
   {
    "duration": 575,
    "start_time": "2024-10-13T09:07:38.603Z"
   },
   {
    "duration": 415,
    "start_time": "2024-10-13T09:10:59.338Z"
   },
   {
    "duration": 105,
    "start_time": "2024-10-13T09:13:51.408Z"
   },
   {
    "duration": 129,
    "start_time": "2024-10-13T09:20:55.107Z"
   },
   {
    "duration": 1862,
    "start_time": "2024-10-13T09:21:39.443Z"
   },
   {
    "duration": 122,
    "start_time": "2024-10-13T09:22:32.238Z"
   },
   {
    "duration": 138,
    "start_time": "2024-10-13T09:22:37.411Z"
   },
   {
    "duration": 111,
    "start_time": "2024-10-13T09:26:08.713Z"
   },
   {
    "duration": 1890,
    "start_time": "2024-10-13T09:27:40.256Z"
   },
   {
    "duration": 1891,
    "start_time": "2024-10-13T09:28:07.692Z"
   },
   {
    "duration": 2168,
    "start_time": "2024-10-13T09:28:32.178Z"
   },
   {
    "duration": 65,
    "start_time": "2024-10-13T09:29:43.501Z"
   },
   {
    "duration": 1846,
    "start_time": "2024-10-13T09:29:47.629Z"
   },
   {
    "duration": 2199,
    "start_time": "2024-10-13T09:29:56.788Z"
   },
   {
    "duration": 2085,
    "start_time": "2024-10-13T10:40:09.712Z"
   },
   {
    "duration": 21,
    "start_time": "2024-10-13T10:42:35.492Z"
   },
   {
    "duration": 8,
    "start_time": "2024-10-13T10:42:42.684Z"
   },
   {
    "duration": 9,
    "start_time": "2024-10-13T10:46:12.740Z"
   },
   {
    "duration": 3,
    "start_time": "2024-10-13T10:52:42.708Z"
   },
   {
    "duration": 8,
    "start_time": "2024-10-13T10:53:28.410Z"
   },
   {
    "duration": 3,
    "start_time": "2024-10-13T10:58:13.922Z"
   },
   {
    "duration": 5,
    "start_time": "2024-10-13T10:58:31.888Z"
   },
   {
    "duration": 3,
    "start_time": "2024-10-13T10:59:21.826Z"
   },
   {
    "duration": 1820,
    "start_time": "2024-10-13T11:02:26.943Z"
   },
   {
    "duration": 2252,
    "start_time": "2024-10-13T11:02:36.253Z"
   },
   {
    "duration": 31,
    "start_time": "2024-10-13T11:02:55.882Z"
   },
   {
    "duration": 7,
    "start_time": "2024-10-13T11:10:17.962Z"
   },
   {
    "duration": 3,
    "start_time": "2024-10-13T11:12:41.259Z"
   },
   {
    "duration": 6,
    "start_time": "2024-10-13T11:12:55.049Z"
   },
   {
    "duration": 10,
    "start_time": "2024-10-13T11:14:42.598Z"
   },
   {
    "duration": 4,
    "start_time": "2024-10-13T11:15:56.021Z"
   },
   {
    "duration": 23,
    "start_time": "2024-10-13T11:16:12.103Z"
   },
   {
    "duration": 8,
    "start_time": "2024-10-13T11:20:19.036Z"
   },
   {
    "duration": 11,
    "start_time": "2024-10-13T11:20:24.241Z"
   },
   {
    "duration": 6,
    "start_time": "2024-10-13T11:20:56.894Z"
   },
   {
    "duration": 6,
    "start_time": "2024-10-13T11:21:30.932Z"
   },
   {
    "duration": 8,
    "start_time": "2024-10-13T11:21:55.284Z"
   },
   {
    "duration": 8,
    "start_time": "2024-10-13T11:22:06.316Z"
   },
   {
    "duration": 14,
    "start_time": "2024-10-13T11:22:14.072Z"
   },
   {
    "duration": 9,
    "start_time": "2024-10-13T11:22:16.809Z"
   },
   {
    "duration": 9,
    "start_time": "2024-10-13T11:22:22.534Z"
   },
   {
    "duration": 10,
    "start_time": "2024-10-13T11:22:28.923Z"
   },
   {
    "duration": 9,
    "start_time": "2024-10-13T11:22:38.447Z"
   },
   {
    "duration": 5,
    "start_time": "2024-10-13T11:34:01.298Z"
   },
   {
    "duration": 59,
    "start_time": "2024-10-13T11:35:51.236Z"
   },
   {
    "duration": 10,
    "start_time": "2024-10-13T11:36:03.505Z"
   },
   {
    "duration": 8,
    "start_time": "2024-10-13T11:36:18.203Z"
   },
   {
    "duration": 9,
    "start_time": "2024-10-13T11:36:33.521Z"
   },
   {
    "duration": 7,
    "start_time": "2024-10-13T11:36:45.716Z"
   },
   {
    "duration": 7,
    "start_time": "2024-10-13T11:36:58.162Z"
   },
   {
    "duration": 7,
    "start_time": "2024-10-13T11:37:05.973Z"
   },
   {
    "duration": 6,
    "start_time": "2024-10-13T11:37:11.337Z"
   },
   {
    "duration": 465,
    "start_time": "2024-10-13T11:37:27.360Z"
   },
   {
    "duration": 41,
    "start_time": "2024-10-13T11:37:27.827Z"
   },
   {
    "duration": 2484,
    "start_time": "2024-10-13T11:37:27.870Z"
   },
   {
    "duration": 14,
    "start_time": "2024-10-13T11:37:30.356Z"
   },
   {
    "duration": 42,
    "start_time": "2024-10-13T11:37:30.371Z"
   },
   {
    "duration": 11,
    "start_time": "2024-10-13T11:38:53.384Z"
   },
   {
    "duration": 6,
    "start_time": "2024-10-13T11:39:48.465Z"
   },
   {
    "duration": 82,
    "start_time": "2024-10-13T11:42:57.123Z"
   },
   {
    "duration": 50,
    "start_time": "2024-10-13T11:43:21.737Z"
   },
   {
    "duration": 15,
    "start_time": "2024-10-13T11:43:28.127Z"
   },
   {
    "duration": 10,
    "start_time": "2024-10-13T11:47:24.746Z"
   },
   {
    "duration": 11,
    "start_time": "2024-10-13T11:47:28.859Z"
   },
   {
    "duration": 12,
    "start_time": "2024-10-13T12:29:49.201Z"
   },
   {
    "duration": 6,
    "start_time": "2024-10-13T12:29:57.782Z"
   },
   {
    "duration": 8,
    "start_time": "2024-10-13T12:30:08.330Z"
   },
   {
    "duration": 7,
    "start_time": "2024-10-13T12:33:50.844Z"
   },
   {
    "duration": 10,
    "start_time": "2024-10-13T13:03:51.267Z"
   },
   {
    "duration": 8,
    "start_time": "2024-10-13T13:04:15.327Z"
   },
   {
    "duration": 37,
    "start_time": "2024-10-13T13:04:39.266Z"
   },
   {
    "duration": 7,
    "start_time": "2024-10-13T13:11:58.487Z"
   },
   {
    "duration": 45,
    "start_time": "2024-10-13T13:12:19.326Z"
   },
   {
    "duration": 1202,
    "start_time": "2024-10-13T13:13:42.361Z"
   },
   {
    "duration": 11,
    "start_time": "2024-10-13T13:13:56.197Z"
   },
   {
    "duration": 12,
    "start_time": "2024-10-13T13:14:34.590Z"
   },
   {
    "duration": 2147,
    "start_time": "2024-10-13T13:15:14.948Z"
   },
   {
    "duration": 14,
    "start_time": "2024-10-13T13:16:32.498Z"
   },
   {
    "duration": 13,
    "start_time": "2024-10-13T13:16:45.494Z"
   },
   {
    "duration": 11,
    "start_time": "2024-10-13T13:22:37.114Z"
   },
   {
    "duration": 8,
    "start_time": "2024-10-13T13:22:41.411Z"
   },
   {
    "duration": 10,
    "start_time": "2024-10-13T13:23:44.719Z"
   },
   {
    "duration": 7,
    "start_time": "2024-10-13T13:23:46.680Z"
   },
   {
    "duration": 457,
    "start_time": "2024-10-13T13:24:01.329Z"
   },
   {
    "duration": 30,
    "start_time": "2024-10-13T13:24:01.788Z"
   },
   {
    "duration": 2362,
    "start_time": "2024-10-13T13:24:01.819Z"
   },
   {
    "duration": 8,
    "start_time": "2024-10-13T13:24:04.183Z"
   },
   {
    "duration": 32,
    "start_time": "2024-10-13T13:24:04.193Z"
   },
   {
    "duration": 8,
    "start_time": "2024-10-13T13:24:27.820Z"
   },
   {
    "duration": 11,
    "start_time": "2024-10-13T13:25:49.602Z"
   },
   {
    "duration": 11,
    "start_time": "2024-10-13T13:25:54.818Z"
   },
   {
    "duration": 11,
    "start_time": "2024-10-13T13:26:06.020Z"
   },
   {
    "duration": 28,
    "start_time": "2024-10-13T13:26:45.829Z"
   },
   {
    "duration": 9,
    "start_time": "2024-10-13T13:27:40.355Z"
   },
   {
    "duration": 10,
    "start_time": "2024-10-13T13:27:59.121Z"
   },
   {
    "duration": 16,
    "start_time": "2024-10-13T13:28:53.796Z"
   },
   {
    "duration": 15,
    "start_time": "2024-10-13T13:29:31.774Z"
   },
   {
    "duration": 20,
    "start_time": "2024-10-13T13:29:59.217Z"
   },
   {
    "duration": 15,
    "start_time": "2024-10-13T13:30:38.016Z"
   },
   {
    "duration": 10,
    "start_time": "2024-10-13T13:35:43.111Z"
   },
   {
    "duration": 8,
    "start_time": "2024-10-13T13:35:49.026Z"
   },
   {
    "duration": 97,
    "start_time": "2024-10-13T13:59:35.582Z"
   },
   {
    "duration": 704,
    "start_time": "2024-10-13T14:00:10.483Z"
   },
   {
    "duration": 41,
    "start_time": "2024-10-13T14:00:11.189Z"
   },
   {
    "duration": 2129,
    "start_time": "2024-10-13T14:00:11.232Z"
   },
   {
    "duration": 8,
    "start_time": "2024-10-13T14:00:13.363Z"
   },
   {
    "duration": 71,
    "start_time": "2024-10-13T14:00:13.372Z"
   },
   {
    "duration": 6,
    "start_time": "2024-10-13T14:00:13.445Z"
   },
   {
    "duration": 10,
    "start_time": "2024-10-13T14:12:49.615Z"
   },
   {
    "duration": 29,
    "start_time": "2024-10-13T14:12:58.928Z"
   },
   {
    "duration": 5,
    "start_time": "2024-10-13T14:15:58.375Z"
   },
   {
    "duration": 10,
    "start_time": "2024-10-13T14:19:08.261Z"
   },
   {
    "duration": 21,
    "start_time": "2024-10-13T14:19:16.878Z"
   },
   {
    "duration": 95,
    "start_time": "2024-10-13T14:23:21.588Z"
   },
   {
    "duration": 63,
    "start_time": "2024-10-13T14:24:13.853Z"
   },
   {
    "duration": 6,
    "start_time": "2024-10-13T14:24:33.797Z"
   },
   {
    "duration": 4,
    "start_time": "2024-10-13T14:24:43.559Z"
   },
   {
    "duration": 8,
    "start_time": "2024-10-13T14:26:47.718Z"
   },
   {
    "duration": 43,
    "start_time": "2024-10-13T14:34:47.543Z"
   },
   {
    "duration": 5,
    "start_time": "2024-10-13T14:34:49.106Z"
   },
   {
    "duration": 667,
    "start_time": "2024-10-13T14:39:36.081Z"
   },
   {
    "duration": 28,
    "start_time": "2024-10-13T14:39:36.750Z"
   },
   {
    "duration": 2114,
    "start_time": "2024-10-13T14:39:36.779Z"
   },
   {
    "duration": 9,
    "start_time": "2024-10-13T14:39:38.896Z"
   },
   {
    "duration": 68,
    "start_time": "2024-10-13T14:39:38.906Z"
   },
   {
    "duration": 8,
    "start_time": "2024-10-13T14:39:38.975Z"
   },
   {
    "duration": 44,
    "start_time": "2024-10-13T14:39:38.984Z"
   },
   {
    "duration": 5,
    "start_time": "2024-10-13T14:39:39.029Z"
   },
   {
    "duration": 20,
    "start_time": "2024-10-13T14:48:17.362Z"
   },
   {
    "duration": 12,
    "start_time": "2024-10-13T14:51:28.434Z"
   },
   {
    "duration": 7,
    "start_time": "2024-10-13T14:51:32.753Z"
   },
   {
    "duration": 4,
    "start_time": "2024-10-13T15:03:16.798Z"
   },
   {
    "duration": 10,
    "start_time": "2024-10-13T15:03:20.586Z"
   },
   {
    "duration": 29,
    "start_time": "2024-10-13T15:07:27.113Z"
   },
   {
    "duration": 649,
    "start_time": "2024-10-14T07:41:01.059Z"
   },
   {
    "duration": 35,
    "start_time": "2024-10-14T07:41:01.713Z"
   },
   {
    "duration": 2149,
    "start_time": "2024-10-14T07:41:01.749Z"
   },
   {
    "duration": 8,
    "start_time": "2024-10-14T07:41:03.900Z"
   },
   {
    "duration": 73,
    "start_time": "2024-10-14T07:41:03.909Z"
   },
   {
    "duration": 28,
    "start_time": "2024-10-14T07:41:03.984Z"
   },
   {
    "duration": 33,
    "start_time": "2024-10-14T07:41:04.015Z"
   },
   {
    "duration": 5,
    "start_time": "2024-10-14T07:41:04.049Z"
   },
   {
    "duration": 13,
    "start_time": "2024-10-14T11:28:51.659Z"
   },
   {
    "duration": 680,
    "start_time": "2024-10-14T11:41:43.455Z"
   },
   {
    "duration": 28,
    "start_time": "2024-10-14T11:41:44.137Z"
   },
   {
    "duration": 2195,
    "start_time": "2024-10-14T11:41:44.166Z"
   },
   {
    "duration": 8,
    "start_time": "2024-10-14T11:41:46.363Z"
   },
   {
    "duration": 76,
    "start_time": "2024-10-14T11:41:46.372Z"
   },
   {
    "duration": 5,
    "start_time": "2024-10-14T11:41:46.449Z"
   },
   {
    "duration": 38,
    "start_time": "2024-10-14T11:41:46.456Z"
   },
   {
    "duration": 5,
    "start_time": "2024-10-14T11:41:46.506Z"
   },
   {
    "duration": 8,
    "start_time": "2024-10-14T11:50:13.369Z"
   },
   {
    "duration": 6,
    "start_time": "2024-10-14T11:51:17.470Z"
   },
   {
    "duration": 5,
    "start_time": "2024-10-14T11:52:33.250Z"
   },
   {
    "duration": 27,
    "start_time": "2024-10-14T11:52:34.360Z"
   },
   {
    "duration": 5,
    "start_time": "2024-10-14T11:52:36.742Z"
   },
   {
    "duration": 664,
    "start_time": "2024-10-14T11:52:42.547Z"
   },
   {
    "duration": 27,
    "start_time": "2024-10-14T11:52:43.213Z"
   },
   {
    "duration": 2199,
    "start_time": "2024-10-14T11:52:43.242Z"
   },
   {
    "duration": 8,
    "start_time": "2024-10-14T11:52:45.443Z"
   },
   {
    "duration": 322,
    "start_time": "2024-10-14T11:52:45.453Z"
   },
   {
    "duration": 129,
    "start_time": "2024-10-14T11:52:45.776Z"
   },
   {
    "duration": 12,
    "start_time": "2024-10-14T11:52:45.906Z"
   },
   {
    "duration": 49,
    "start_time": "2024-10-14T11:52:45.920Z"
   },
   {
    "duration": 5,
    "start_time": "2024-10-14T11:52:45.971Z"
   },
   {
    "duration": 7,
    "start_time": "2024-10-14T12:02:07.091Z"
   },
   {
    "duration": 57,
    "start_time": "2024-10-14T14:28:28.601Z"
   },
   {
    "duration": 1256,
    "start_time": "2024-10-14T14:28:37.379Z"
   },
   {
    "duration": 36,
    "start_time": "2024-10-14T14:28:38.637Z"
   },
   {
    "duration": 2920,
    "start_time": "2024-10-14T14:28:38.674Z"
   },
   {
    "duration": 18,
    "start_time": "2024-10-14T14:28:41.596Z"
   },
   {
    "duration": 116,
    "start_time": "2024-10-14T14:28:41.616Z"
   },
   {
    "duration": 9,
    "start_time": "2024-10-14T14:28:41.734Z"
   },
   {
    "duration": 5,
    "start_time": "2024-10-14T14:28:41.745Z"
   },
   {
    "duration": 65,
    "start_time": "2024-10-14T14:28:41.752Z"
   },
   {
    "duration": 5,
    "start_time": "2024-10-14T14:28:41.818Z"
   },
   {
    "duration": 7,
    "start_time": "2024-10-14T14:28:41.826Z"
   },
   {
    "duration": 85,
    "start_time": "2024-10-14T14:29:18.573Z"
   },
   {
    "duration": 8,
    "start_time": "2024-10-14T14:29:21.972Z"
   },
   {
    "duration": 12,
    "start_time": "2024-10-14T14:29:27.108Z"
   },
   {
    "duration": 0,
    "start_time": "2024-10-14T14:29:47.754Z"
   },
   {
    "duration": 8,
    "start_time": "2024-10-14T14:29:49.342Z"
   },
   {
    "duration": 19,
    "start_time": "2024-10-14T14:32:04.012Z"
   },
   {
    "duration": 12,
    "start_time": "2024-10-14T14:33:19.238Z"
   },
   {
    "duration": 7,
    "start_time": "2024-10-14T14:33:48.846Z"
   },
   {
    "duration": 53,
    "start_time": "2024-10-14T17:20:10.607Z"
   },
   {
    "duration": 1115,
    "start_time": "2024-10-14T17:20:17.325Z"
   },
   {
    "duration": 36,
    "start_time": "2024-10-14T17:20:18.442Z"
   },
   {
    "duration": 2668,
    "start_time": "2024-10-14T17:20:18.480Z"
   },
   {
    "duration": 9,
    "start_time": "2024-10-14T17:20:21.150Z"
   },
   {
    "duration": 92,
    "start_time": "2024-10-14T17:20:21.161Z"
   },
   {
    "duration": 8,
    "start_time": "2024-10-14T17:20:21.254Z"
   },
   {
    "duration": 26,
    "start_time": "2024-10-14T17:20:21.263Z"
   },
   {
    "duration": 38,
    "start_time": "2024-10-14T17:20:21.291Z"
   },
   {
    "duration": 5,
    "start_time": "2024-10-14T17:20:21.331Z"
   },
   {
    "duration": 10,
    "start_time": "2024-10-14T17:20:21.338Z"
   },
   {
    "duration": 94,
    "start_time": "2024-10-14T17:20:21.349Z"
   },
   {
    "duration": 6,
    "start_time": "2024-10-14T17:21:54.613Z"
   },
   {
    "duration": 44,
    "start_time": "2024-10-14T21:20:30.285Z"
   },
   {
    "duration": 898,
    "start_time": "2024-10-14T21:20:37.305Z"
   },
   {
    "duration": 27,
    "start_time": "2024-10-14T21:20:38.205Z"
   },
   {
    "duration": 2093,
    "start_time": "2024-10-14T21:20:38.233Z"
   },
   {
    "duration": 8,
    "start_time": "2024-10-14T21:20:40.328Z"
   },
   {
    "duration": 60,
    "start_time": "2024-10-14T21:20:40.337Z"
   },
   {
    "duration": 10,
    "start_time": "2024-10-14T21:20:40.398Z"
   },
   {
    "duration": 4,
    "start_time": "2024-10-14T21:20:40.410Z"
   },
   {
    "duration": 34,
    "start_time": "2024-10-14T21:20:40.415Z"
   },
   {
    "duration": 4,
    "start_time": "2024-10-14T21:20:40.450Z"
   },
   {
    "duration": 7,
    "start_time": "2024-10-14T21:20:40.456Z"
   },
   {
    "duration": 85,
    "start_time": "2024-10-14T21:20:40.465Z"
   },
   {
    "duration": 5,
    "start_time": "2024-10-14T21:20:40.552Z"
   },
   {
    "duration": 7,
    "start_time": "2024-10-14T21:23:04.967Z"
   },
   {
    "duration": 69,
    "start_time": "2024-10-14T21:23:18.613Z"
   },
   {
    "duration": 6,
    "start_time": "2024-10-14T21:23:23.831Z"
   },
   {
    "duration": 5,
    "start_time": "2024-10-14T21:23:30.330Z"
   },
   {
    "duration": 5,
    "start_time": "2024-10-14T21:23:40.150Z"
   },
   {
    "duration": 5,
    "start_time": "2024-10-14T21:23:43.542Z"
   },
   {
    "duration": 4,
    "start_time": "2024-10-14T21:23:51.221Z"
   },
   {
    "duration": 7,
    "start_time": "2024-10-14T21:23:59.546Z"
   },
   {
    "duration": 5,
    "start_time": "2024-10-14T21:24:10.225Z"
   },
   {
    "duration": 6,
    "start_time": "2024-10-14T21:24:20.668Z"
   },
   {
    "duration": 7,
    "start_time": "2024-10-14T21:24:28.033Z"
   },
   {
    "duration": 9,
    "start_time": "2024-10-14T21:24:36.475Z"
   },
   {
    "duration": 5,
    "start_time": "2024-10-14T21:24:44.530Z"
   },
   {
    "duration": 6,
    "start_time": "2024-10-14T21:25:38.629Z"
   },
   {
    "duration": 100,
    "start_time": "2024-10-15T09:24:12.859Z"
   },
   {
    "duration": 5,
    "start_time": "2024-10-15T09:24:16.380Z"
   },
   {
    "duration": 624,
    "start_time": "2024-10-15T09:24:22.354Z"
   },
   {
    "duration": 27,
    "start_time": "2024-10-15T09:24:22.980Z"
   },
   {
    "duration": 2091,
    "start_time": "2024-10-15T09:24:23.011Z"
   },
   {
    "duration": 8,
    "start_time": "2024-10-15T09:24:25.104Z"
   },
   {
    "duration": 67,
    "start_time": "2024-10-15T09:24:25.113Z"
   },
   {
    "duration": 7,
    "start_time": "2024-10-15T09:24:25.181Z"
   },
   {
    "duration": 4,
    "start_time": "2024-10-15T09:24:25.190Z"
   },
   {
    "duration": 47,
    "start_time": "2024-10-15T09:24:25.195Z"
   },
   {
    "duration": 4,
    "start_time": "2024-10-15T09:24:25.243Z"
   },
   {
    "duration": 16,
    "start_time": "2024-10-15T09:24:25.249Z"
   },
   {
    "duration": 110,
    "start_time": "2024-10-15T09:24:25.266Z"
   },
   {
    "duration": 6,
    "start_time": "2024-10-15T09:24:25.378Z"
   },
   {
    "duration": 6,
    "start_time": "2024-10-15T09:24:25.385Z"
   },
   {
    "duration": 116,
    "start_time": "2024-10-15T09:25:01.056Z"
   },
   {
    "duration": 6,
    "start_time": "2024-10-15T09:25:02.325Z"
   },
   {
    "duration": 98,
    "start_time": "2024-10-15T09:26:07.259Z"
   },
   {
    "duration": 6,
    "start_time": "2024-10-15T09:26:10.486Z"
   },
   {
    "duration": 83,
    "start_time": "2024-10-15T09:27:24.613Z"
   },
   {
    "duration": 6,
    "start_time": "2024-10-15T09:27:28.207Z"
   },
   {
    "duration": 88,
    "start_time": "2024-10-15T09:28:13.934Z"
   },
   {
    "duration": 5,
    "start_time": "2024-10-15T09:28:16.723Z"
   },
   {
    "duration": 652,
    "start_time": "2024-10-15T09:28:26.750Z"
   },
   {
    "duration": 29,
    "start_time": "2024-10-15T09:28:27.404Z"
   },
   {
    "duration": 2052,
    "start_time": "2024-10-15T09:28:27.434Z"
   },
   {
    "duration": 7,
    "start_time": "2024-10-15T09:28:29.488Z"
   },
   {
    "duration": 64,
    "start_time": "2024-10-15T09:28:29.496Z"
   },
   {
    "duration": 11,
    "start_time": "2024-10-15T09:28:29.562Z"
   },
   {
    "duration": 4,
    "start_time": "2024-10-15T09:28:29.574Z"
   },
   {
    "duration": 37,
    "start_time": "2024-10-15T09:28:29.579Z"
   },
   {
    "duration": 5,
    "start_time": "2024-10-15T09:28:29.617Z"
   },
   {
    "duration": 8,
    "start_time": "2024-10-15T09:28:29.623Z"
   },
   {
    "duration": 105,
    "start_time": "2024-10-15T09:28:29.632Z"
   },
   {
    "duration": 6,
    "start_time": "2024-10-15T09:28:29.738Z"
   },
   {
    "duration": 7,
    "start_time": "2024-10-15T09:28:29.745Z"
   },
   {
    "duration": 6,
    "start_time": "2024-10-15T09:30:08.168Z"
   },
   {
    "duration": 105,
    "start_time": "2024-10-15T09:32:03.369Z"
   },
   {
    "duration": 101,
    "start_time": "2024-10-15T09:32:12.839Z"
   },
   {
    "duration": 6,
    "start_time": "2024-10-15T09:32:14.870Z"
   },
   {
    "duration": 104,
    "start_time": "2024-10-15T09:34:19.003Z"
   },
   {
    "duration": 6,
    "start_time": "2024-10-15T09:34:21.522Z"
   },
   {
    "duration": 789,
    "start_time": "2024-10-15T09:34:47.399Z"
   },
   {
    "duration": 27,
    "start_time": "2024-10-15T09:34:48.189Z"
   },
   {
    "duration": 2044,
    "start_time": "2024-10-15T09:34:48.218Z"
   },
   {
    "duration": 7,
    "start_time": "2024-10-15T09:34:50.264Z"
   },
   {
    "duration": 66,
    "start_time": "2024-10-15T09:34:50.273Z"
   },
   {
    "duration": 7,
    "start_time": "2024-10-15T09:34:50.341Z"
   },
   {
    "duration": 4,
    "start_time": "2024-10-15T09:34:50.349Z"
   },
   {
    "duration": 41,
    "start_time": "2024-10-15T09:34:50.355Z"
   },
   {
    "duration": 15,
    "start_time": "2024-10-15T09:34:50.398Z"
   },
   {
    "duration": 20,
    "start_time": "2024-10-15T09:34:50.415Z"
   },
   {
    "duration": 124,
    "start_time": "2024-10-15T09:34:50.436Z"
   },
   {
    "duration": 7,
    "start_time": "2024-10-15T09:34:50.562Z"
   },
   {
    "duration": 141,
    "start_time": "2024-10-15T09:40:43.049Z"
   },
   {
    "duration": 5,
    "start_time": "2024-10-15T09:40:51.226Z"
   },
   {
    "duration": 136,
    "start_time": "2024-10-15T09:41:07.176Z"
   },
   {
    "duration": 6,
    "start_time": "2024-10-15T09:41:08.676Z"
   },
   {
    "duration": 667,
    "start_time": "2024-10-15T09:48:25.154Z"
   },
   {
    "duration": 29,
    "start_time": "2024-10-15T09:48:25.823Z"
   },
   {
    "duration": 2193,
    "start_time": "2024-10-15T09:48:25.853Z"
   },
   {
    "duration": 8,
    "start_time": "2024-10-15T09:48:28.047Z"
   },
   {
    "duration": 66,
    "start_time": "2024-10-15T09:48:28.056Z"
   },
   {
    "duration": 7,
    "start_time": "2024-10-15T09:48:28.123Z"
   },
   {
    "duration": 10,
    "start_time": "2024-10-15T09:48:28.131Z"
   },
   {
    "duration": 35,
    "start_time": "2024-10-15T09:48:28.142Z"
   },
   {
    "duration": 4,
    "start_time": "2024-10-15T09:48:28.179Z"
   },
   {
    "duration": 11,
    "start_time": "2024-10-15T09:48:28.184Z"
   },
   {
    "duration": 52,
    "start_time": "2024-10-15T09:48:28.196Z"
   },
   {
    "duration": 0,
    "start_time": "2024-10-15T09:48:28.250Z"
   },
   {
    "duration": 242,
    "start_time": "2024-10-15T09:48:59.579Z"
   },
   {
    "duration": 9,
    "start_time": "2024-10-15T09:49:04.469Z"
   },
   {
    "duration": 2110,
    "start_time": "2024-10-15T09:52:39.548Z"
   },
   {
    "duration": 28,
    "start_time": "2024-10-15T09:52:41.660Z"
   },
   {
    "duration": 2208,
    "start_time": "2024-10-15T09:52:41.690Z"
   },
   {
    "duration": 8,
    "start_time": "2024-10-15T09:52:43.899Z"
   },
   {
    "duration": 66,
    "start_time": "2024-10-15T09:52:43.909Z"
   },
   {
    "duration": 9,
    "start_time": "2024-10-15T09:52:43.977Z"
   },
   {
    "duration": 5,
    "start_time": "2024-10-15T09:52:43.987Z"
   },
   {
    "duration": 63,
    "start_time": "2024-10-15T09:52:43.993Z"
   },
   {
    "duration": 5,
    "start_time": "2024-10-15T09:52:44.057Z"
   },
   {
    "duration": 8,
    "start_time": "2024-10-15T09:52:44.063Z"
   },
   {
    "duration": 323,
    "start_time": "2024-10-15T09:52:44.072Z"
   },
   {
    "duration": 6,
    "start_time": "2024-10-15T09:52:44.396Z"
   },
   {
    "duration": 1184,
    "start_time": "2024-10-15T09:54:32.251Z"
   },
   {
    "duration": 25,
    "start_time": "2024-10-15T09:54:33.437Z"
   },
   {
    "duration": 2274,
    "start_time": "2024-10-15T09:54:33.464Z"
   },
   {
    "duration": 8,
    "start_time": "2024-10-15T09:54:35.740Z"
   },
   {
    "duration": 72,
    "start_time": "2024-10-15T09:54:35.749Z"
   },
   {
    "duration": 35,
    "start_time": "2024-10-15T09:54:35.822Z"
   },
   {
    "duration": 37,
    "start_time": "2024-10-15T09:54:35.858Z"
   },
   {
    "duration": 42,
    "start_time": "2024-10-15T09:54:35.896Z"
   },
   {
    "duration": 4,
    "start_time": "2024-10-15T09:54:35.940Z"
   },
   {
    "duration": 13,
    "start_time": "2024-10-15T09:54:35.946Z"
   },
   {
    "duration": 300,
    "start_time": "2024-10-15T09:54:35.960Z"
   },
   {
    "duration": 7,
    "start_time": "2024-10-15T09:54:36.262Z"
   },
   {
    "duration": 316,
    "start_time": "2024-10-15T09:55:57.210Z"
   },
   {
    "duration": 15,
    "start_time": "2024-10-15T09:55:59.593Z"
   },
   {
    "duration": 269,
    "start_time": "2024-10-15T09:56:16.409Z"
   },
   {
    "duration": 7,
    "start_time": "2024-10-15T09:56:18.931Z"
   },
   {
    "duration": 680,
    "start_time": "2024-10-15T09:56:25.886Z"
   },
   {
    "duration": 27,
    "start_time": "2024-10-15T09:56:26.568Z"
   },
   {
    "duration": 2182,
    "start_time": "2024-10-15T09:56:26.596Z"
   },
   {
    "duration": 8,
    "start_time": "2024-10-15T09:56:28.779Z"
   },
   {
    "duration": 64,
    "start_time": "2024-10-15T09:56:28.789Z"
   },
   {
    "duration": 7,
    "start_time": "2024-10-15T09:56:28.854Z"
   },
   {
    "duration": 8,
    "start_time": "2024-10-15T09:56:28.862Z"
   },
   {
    "duration": 50,
    "start_time": "2024-10-15T09:56:28.871Z"
   },
   {
    "duration": 5,
    "start_time": "2024-10-15T09:56:28.922Z"
   },
   {
    "duration": 7,
    "start_time": "2024-10-15T09:56:28.928Z"
   },
   {
    "duration": 285,
    "start_time": "2024-10-15T09:56:28.936Z"
   },
   {
    "duration": 6,
    "start_time": "2024-10-15T09:56:29.223Z"
   },
   {
    "duration": 871,
    "start_time": "2024-10-15T09:58:49.424Z"
   },
   {
    "duration": 31,
    "start_time": "2024-10-15T09:58:50.297Z"
   },
   {
    "duration": 2193,
    "start_time": "2024-10-15T09:58:50.329Z"
   },
   {
    "duration": 9,
    "start_time": "2024-10-15T09:58:52.524Z"
   },
   {
    "duration": 61,
    "start_time": "2024-10-15T09:58:52.534Z"
   },
   {
    "duration": 9,
    "start_time": "2024-10-15T09:58:52.596Z"
   },
   {
    "duration": 6,
    "start_time": "2024-10-15T09:58:52.621Z"
   },
   {
    "duration": 36,
    "start_time": "2024-10-15T09:58:52.628Z"
   },
   {
    "duration": 4,
    "start_time": "2024-10-15T09:58:52.666Z"
   },
   {
    "duration": 54,
    "start_time": "2024-10-15T09:58:52.671Z"
   },
   {
    "duration": 53,
    "start_time": "2024-10-15T09:58:52.727Z"
   },
   {
    "duration": 0,
    "start_time": "2024-10-15T09:58:52.781Z"
   },
   {
    "duration": 272,
    "start_time": "2024-10-15T09:59:07.949Z"
   },
   {
    "duration": 5,
    "start_time": "2024-10-15T09:59:10.176Z"
   },
   {
    "duration": 684,
    "start_time": "2024-10-15T10:00:31.674Z"
   },
   {
    "duration": 28,
    "start_time": "2024-10-15T10:00:32.360Z"
   },
   {
    "duration": 2177,
    "start_time": "2024-10-15T10:00:32.389Z"
   },
   {
    "duration": 8,
    "start_time": "2024-10-15T10:00:34.568Z"
   },
   {
    "duration": 63,
    "start_time": "2024-10-15T10:00:34.577Z"
   },
   {
    "duration": 17,
    "start_time": "2024-10-15T10:00:34.642Z"
   },
   {
    "duration": 64,
    "start_time": "2024-10-15T10:00:34.660Z"
   },
   {
    "duration": 38,
    "start_time": "2024-10-15T10:00:34.725Z"
   },
   {
    "duration": 5,
    "start_time": "2024-10-15T10:00:34.765Z"
   },
   {
    "duration": 31,
    "start_time": "2024-10-15T10:00:34.773Z"
   },
   {
    "duration": 304,
    "start_time": "2024-10-15T10:00:34.805Z"
   },
   {
    "duration": 6,
    "start_time": "2024-10-15T10:00:35.111Z"
   },
   {
    "duration": 686,
    "start_time": "2024-10-15T10:05:54.986Z"
   },
   {
    "duration": 27,
    "start_time": "2024-10-15T10:05:55.674Z"
   },
   {
    "duration": 2168,
    "start_time": "2024-10-15T10:05:55.702Z"
   },
   {
    "duration": 7,
    "start_time": "2024-10-15T10:05:57.871Z"
   },
   {
    "duration": 60,
    "start_time": "2024-10-15T10:05:57.880Z"
   },
   {
    "duration": 8,
    "start_time": "2024-10-15T10:05:57.941Z"
   },
   {
    "duration": 5,
    "start_time": "2024-10-15T10:05:57.950Z"
   },
   {
    "duration": 32,
    "start_time": "2024-10-15T10:05:57.956Z"
   },
   {
    "duration": 5,
    "start_time": "2024-10-15T10:05:57.989Z"
   },
   {
    "duration": 6,
    "start_time": "2024-10-15T10:05:58.017Z"
   },
   {
    "duration": 256,
    "start_time": "2024-10-15T10:05:58.025Z"
   },
   {
    "duration": 6,
    "start_time": "2024-10-15T10:05:58.282Z"
   },
   {
    "duration": 676,
    "start_time": "2024-10-15T10:08:14.060Z"
   },
   {
    "duration": 27,
    "start_time": "2024-10-15T10:08:14.738Z"
   },
   {
    "duration": 2188,
    "start_time": "2024-10-15T10:08:14.766Z"
   },
   {
    "duration": 8,
    "start_time": "2024-10-15T10:08:16.955Z"
   },
   {
    "duration": 78,
    "start_time": "2024-10-15T10:08:16.966Z"
   },
   {
    "duration": 7,
    "start_time": "2024-10-15T10:08:17.045Z"
   },
   {
    "duration": 8,
    "start_time": "2024-10-15T10:08:17.054Z"
   },
   {
    "duration": 58,
    "start_time": "2024-10-15T10:08:17.063Z"
   },
   {
    "duration": 5,
    "start_time": "2024-10-15T10:08:17.126Z"
   },
   {
    "duration": 12,
    "start_time": "2024-10-15T10:08:17.133Z"
   },
   {
    "duration": 282,
    "start_time": "2024-10-15T10:08:17.147Z"
   },
   {
    "duration": 6,
    "start_time": "2024-10-15T10:08:17.431Z"
   },
   {
    "duration": 7,
    "start_time": "2024-10-15T10:19:39.031Z"
   },
   {
    "duration": 4,
    "start_time": "2024-10-15T10:25:36.956Z"
   },
   {
    "duration": 29,
    "start_time": "2024-10-15T10:25:47.721Z"
   },
   {
    "duration": 30,
    "start_time": "2024-10-15T10:27:44.519Z"
   },
   {
    "duration": 36,
    "start_time": "2024-10-15T10:28:01.418Z"
   },
   {
    "duration": 35,
    "start_time": "2024-10-15T10:28:08.036Z"
   },
   {
    "duration": 28,
    "start_time": "2024-10-15T10:28:18.920Z"
   },
   {
    "duration": 37,
    "start_time": "2024-10-15T10:28:27.109Z"
   },
   {
    "duration": 649,
    "start_time": "2024-10-15T10:28:34.349Z"
   },
   {
    "duration": 26,
    "start_time": "2024-10-15T10:28:34.999Z"
   },
   {
    "duration": 2136,
    "start_time": "2024-10-15T10:28:35.026Z"
   },
   {
    "duration": 12,
    "start_time": "2024-10-15T10:28:37.165Z"
   },
   {
    "duration": 69,
    "start_time": "2024-10-15T10:28:37.178Z"
   },
   {
    "duration": 9,
    "start_time": "2024-10-15T10:28:37.249Z"
   },
   {
    "duration": 6,
    "start_time": "2024-10-15T10:28:37.260Z"
   },
   {
    "duration": 46,
    "start_time": "2024-10-15T10:28:37.268Z"
   },
   {
    "duration": 5,
    "start_time": "2024-10-15T10:28:37.315Z"
   },
   {
    "duration": 19,
    "start_time": "2024-10-15T10:28:37.322Z"
   },
   {
    "duration": 184,
    "start_time": "2024-10-15T10:28:37.342Z"
   },
   {
    "duration": 5,
    "start_time": "2024-10-15T10:28:37.528Z"
   },
   {
    "duration": 9,
    "start_time": "2024-10-15T10:28:37.534Z"
   },
   {
    "duration": 29,
    "start_time": "2024-10-15T10:28:37.544Z"
   },
   {
    "duration": 30,
    "start_time": "2024-10-15T10:29:46.281Z"
   },
   {
    "duration": 29,
    "start_time": "2024-10-15T10:29:56.504Z"
   },
   {
    "duration": 30,
    "start_time": "2024-10-15T10:30:18.375Z"
   },
   {
    "duration": 30,
    "start_time": "2024-10-15T10:30:26.648Z"
   },
   {
    "duration": 30,
    "start_time": "2024-10-15T10:30:29.795Z"
   },
   {
    "duration": 33,
    "start_time": "2024-10-15T11:57:55.553Z"
   },
   {
    "duration": 71,
    "start_time": "2024-10-15T12:01:37.501Z"
   },
   {
    "duration": 45,
    "start_time": "2024-10-15T12:02:30.150Z"
   },
   {
    "duration": 701,
    "start_time": "2024-10-15T12:18:52.232Z"
   },
   {
    "duration": 29,
    "start_time": "2024-10-15T12:18:52.935Z"
   },
   {
    "duration": 2205,
    "start_time": "2024-10-15T12:18:52.965Z"
   },
   {
    "duration": 7,
    "start_time": "2024-10-15T12:18:55.172Z"
   },
   {
    "duration": 62,
    "start_time": "2024-10-15T12:18:55.180Z"
   },
   {
    "duration": 70,
    "start_time": "2024-10-15T12:18:55.244Z"
   },
   {
    "duration": 4,
    "start_time": "2024-10-15T12:18:55.315Z"
   },
   {
    "duration": 45,
    "start_time": "2024-10-15T12:18:55.321Z"
   },
   {
    "duration": 4,
    "start_time": "2024-10-15T12:18:55.367Z"
   },
   {
    "duration": 6,
    "start_time": "2024-10-15T12:18:55.373Z"
   },
   {
    "duration": 196,
    "start_time": "2024-10-15T12:18:55.380Z"
   },
   {
    "duration": 6,
    "start_time": "2024-10-15T12:18:55.577Z"
   },
   {
    "duration": 80,
    "start_time": "2024-10-15T12:18:55.584Z"
   },
   {
    "duration": 38,
    "start_time": "2024-10-15T12:18:55.666Z"
   },
   {
    "duration": 55,
    "start_time": "2024-10-15T12:26:31.491Z"
   },
   {
    "duration": 310,
    "start_time": "2024-10-15T12:29:28.212Z"
   },
   {
    "duration": 325,
    "start_time": "2024-10-15T12:36:00.096Z"
   },
   {
    "duration": 356,
    "start_time": "2024-10-15T12:37:44.521Z"
   },
   {
    "duration": 672,
    "start_time": "2024-10-16T08:50:24.645Z"
   },
   {
    "duration": 27,
    "start_time": "2024-10-16T08:50:25.319Z"
   },
   {
    "duration": 2134,
    "start_time": "2024-10-16T08:50:25.348Z"
   },
   {
    "duration": 7,
    "start_time": "2024-10-16T08:50:27.484Z"
   },
   {
    "duration": 67,
    "start_time": "2024-10-16T08:50:27.493Z"
   },
   {
    "duration": 6,
    "start_time": "2024-10-16T08:50:27.562Z"
   },
   {
    "duration": 6,
    "start_time": "2024-10-16T08:50:27.569Z"
   },
   {
    "duration": 55,
    "start_time": "2024-10-16T08:50:27.576Z"
   },
   {
    "duration": 5,
    "start_time": "2024-10-16T08:50:27.632Z"
   },
   {
    "duration": 15,
    "start_time": "2024-10-16T08:50:27.639Z"
   },
   {
    "duration": 212,
    "start_time": "2024-10-16T08:50:27.656Z"
   },
   {
    "duration": 6,
    "start_time": "2024-10-16T08:50:27.869Z"
   },
   {
    "duration": 310,
    "start_time": "2024-10-16T08:50:27.876Z"
   },
   {
    "duration": 8,
    "start_time": "2024-10-16T08:53:16.298Z"
   },
   {
    "duration": 140,
    "start_time": "2024-10-16T08:55:22.249Z"
   },
   {
    "duration": 138,
    "start_time": "2024-10-16T08:55:41.921Z"
   },
   {
    "duration": 138,
    "start_time": "2024-10-16T08:55:47.800Z"
   },
   {
    "duration": 104,
    "start_time": "2024-10-16T08:55:54.121Z"
   },
   {
    "duration": 134,
    "start_time": "2024-10-16T08:55:58.356Z"
   },
   {
    "duration": 141,
    "start_time": "2024-10-16T08:56:03.684Z"
   },
   {
    "duration": 157,
    "start_time": "2024-10-16T08:56:06.985Z"
   },
   {
    "duration": 155,
    "start_time": "2024-10-16T08:56:42.665Z"
   },
   {
    "duration": 210,
    "start_time": "2024-10-16T08:59:06.741Z"
   },
   {
    "duration": 135,
    "start_time": "2024-10-16T08:59:13.281Z"
   },
   {
    "duration": 101,
    "start_time": "2024-10-16T09:17:21.512Z"
   },
   {
    "duration": 602,
    "start_time": "2024-10-16T09:21:15.341Z"
   },
   {
    "duration": 464,
    "start_time": "2024-10-16T09:21:23.766Z"
   },
   {
    "duration": 159,
    "start_time": "2024-10-16T09:28:27.850Z"
   },
   {
    "duration": 146,
    "start_time": "2024-10-16T09:44:38.567Z"
   },
   {
    "duration": 149,
    "start_time": "2024-10-16T09:44:45.332Z"
   },
   {
    "duration": 132,
    "start_time": "2024-10-16T09:44:51.931Z"
   },
   {
    "duration": 7,
    "start_time": "2024-10-16T09:52:06.876Z"
   },
   {
    "duration": 145,
    "start_time": "2024-10-16T09:56:53.671Z"
   },
   {
    "duration": 92,
    "start_time": "2024-10-16T09:56:56.778Z"
   },
   {
    "duration": 10,
    "start_time": "2024-10-16T10:12:32.715Z"
   },
   {
    "duration": 203,
    "start_time": "2024-10-16T10:12:57.797Z"
   },
   {
    "duration": 69,
    "start_time": "2024-10-16T10:19:23.521Z"
   },
   {
    "duration": 6,
    "start_time": "2024-10-16T10:19:30.633Z"
   },
   {
    "duration": 7,
    "start_time": "2024-10-16T10:19:41.485Z"
   },
   {
    "duration": 160,
    "start_time": "2024-10-16T10:19:44.950Z"
   },
   {
    "duration": 5,
    "start_time": "2024-10-16T10:24:12.277Z"
   },
   {
    "duration": 257,
    "start_time": "2024-10-16T10:24:35.882Z"
   },
   {
    "duration": 174,
    "start_time": "2024-10-16T10:25:46.190Z"
   },
   {
    "duration": 692,
    "start_time": "2024-10-16T10:26:02.914Z"
   },
   {
    "duration": 28,
    "start_time": "2024-10-16T10:26:03.607Z"
   },
   {
    "duration": 2158,
    "start_time": "2024-10-16T10:26:03.636Z"
   },
   {
    "duration": 8,
    "start_time": "2024-10-16T10:26:05.796Z"
   },
   {
    "duration": 72,
    "start_time": "2024-10-16T10:26:05.805Z"
   },
   {
    "duration": 25,
    "start_time": "2024-10-16T10:26:05.879Z"
   },
   {
    "duration": 5,
    "start_time": "2024-10-16T10:26:05.905Z"
   },
   {
    "duration": 34,
    "start_time": "2024-10-16T10:26:05.911Z"
   },
   {
    "duration": 5,
    "start_time": "2024-10-16T10:26:05.947Z"
   },
   {
    "duration": 16,
    "start_time": "2024-10-16T10:26:05.954Z"
   },
   {
    "duration": 202,
    "start_time": "2024-10-16T10:26:05.971Z"
   },
   {
    "duration": 5,
    "start_time": "2024-10-16T10:26:06.175Z"
   },
   {
    "duration": 252,
    "start_time": "2024-10-16T10:26:06.181Z"
   },
   {
    "duration": 0,
    "start_time": "2024-10-16T10:26:06.435Z"
   },
   {
    "duration": 0,
    "start_time": "2024-10-16T10:26:06.436Z"
   },
   {
    "duration": 0,
    "start_time": "2024-10-16T10:26:06.437Z"
   },
   {
    "duration": 0,
    "start_time": "2024-10-16T10:26:06.438Z"
   },
   {
    "duration": 0,
    "start_time": "2024-10-16T10:26:06.438Z"
   },
   {
    "duration": 65,
    "start_time": "2024-10-16T10:26:40.175Z"
   },
   {
    "duration": 4,
    "start_time": "2024-10-16T10:26:44.825Z"
   },
   {
    "duration": 167,
    "start_time": "2024-10-16T10:26:47.526Z"
   },
   {
    "duration": 152,
    "start_time": "2024-10-16T10:27:14.617Z"
   },
   {
    "duration": 685,
    "start_time": "2024-10-16T10:27:50.853Z"
   },
   {
    "duration": 39,
    "start_time": "2024-10-16T10:27:51.540Z"
   },
   {
    "duration": 2132,
    "start_time": "2024-10-16T10:27:51.582Z"
   },
   {
    "duration": 9,
    "start_time": "2024-10-16T10:27:53.715Z"
   },
   {
    "duration": 65,
    "start_time": "2024-10-16T10:27:53.726Z"
   },
   {
    "duration": 21,
    "start_time": "2024-10-16T10:27:53.793Z"
   },
   {
    "duration": 4,
    "start_time": "2024-10-16T10:27:53.816Z"
   },
   {
    "duration": 33,
    "start_time": "2024-10-16T10:27:53.821Z"
   },
   {
    "duration": 5,
    "start_time": "2024-10-16T10:27:53.855Z"
   },
   {
    "duration": 8,
    "start_time": "2024-10-16T10:27:53.861Z"
   },
   {
    "duration": 227,
    "start_time": "2024-10-16T10:27:53.871Z"
   },
   {
    "duration": 6,
    "start_time": "2024-10-16T10:27:54.099Z"
   },
   {
    "duration": 311,
    "start_time": "2024-10-16T10:27:54.111Z"
   },
   {
    "duration": 3,
    "start_time": "2024-10-16T10:27:54.424Z"
   },
   {
    "duration": 166,
    "start_time": "2024-10-16T10:27:54.428Z"
   },
   {
    "duration": 8,
    "start_time": "2024-10-16T10:27:54.596Z"
   },
   {
    "duration": 170,
    "start_time": "2024-10-16T10:27:54.612Z"
   },
   {
    "duration": 156,
    "start_time": "2024-10-16T10:28:39.500Z"
   },
   {
    "duration": 169,
    "start_time": "2024-10-16T10:30:41.390Z"
   },
   {
    "duration": 667,
    "start_time": "2024-10-16T10:31:11.925Z"
   },
   {
    "duration": 27,
    "start_time": "2024-10-16T10:31:12.594Z"
   },
   {
    "duration": 2107,
    "start_time": "2024-10-16T10:31:12.623Z"
   },
   {
    "duration": 9,
    "start_time": "2024-10-16T10:31:14.731Z"
   },
   {
    "duration": 65,
    "start_time": "2024-10-16T10:31:14.742Z"
   },
   {
    "duration": 16,
    "start_time": "2024-10-16T10:31:14.809Z"
   },
   {
    "duration": 4,
    "start_time": "2024-10-16T10:31:14.826Z"
   },
   {
    "duration": 39,
    "start_time": "2024-10-16T10:31:14.831Z"
   },
   {
    "duration": 4,
    "start_time": "2024-10-16T10:31:14.872Z"
   },
   {
    "duration": 16,
    "start_time": "2024-10-16T10:31:14.877Z"
   },
   {
    "duration": 193,
    "start_time": "2024-10-16T10:31:14.894Z"
   },
   {
    "duration": 6,
    "start_time": "2024-10-16T10:31:15.088Z"
   },
   {
    "duration": 316,
    "start_time": "2024-10-16T10:31:15.096Z"
   },
   {
    "duration": 3,
    "start_time": "2024-10-16T10:31:15.414Z"
   },
   {
    "duration": 158,
    "start_time": "2024-10-16T10:31:15.418Z"
   },
   {
    "duration": 10,
    "start_time": "2024-10-16T10:31:15.577Z"
   },
   {
    "duration": 183,
    "start_time": "2024-10-16T10:31:15.588Z"
   },
   {
    "duration": 139,
    "start_time": "2024-10-16T11:39:49.750Z"
   },
   {
    "duration": 150,
    "start_time": "2024-10-16T11:40:00.355Z"
   },
   {
    "duration": 155,
    "start_time": "2024-10-16T11:40:17.936Z"
   },
   {
    "duration": 5,
    "start_time": "2024-10-16T11:41:48.384Z"
   },
   {
    "duration": 68,
    "start_time": "2024-10-16T11:42:48.237Z"
   },
   {
    "duration": 6,
    "start_time": "2024-10-16T11:43:20.289Z"
   },
   {
    "duration": 9,
    "start_time": "2024-10-16T11:44:59.577Z"
   },
   {
    "duration": 9,
    "start_time": "2024-10-16T11:47:39.119Z"
   },
   {
    "duration": 8,
    "start_time": "2024-10-16T11:47:58.016Z"
   },
   {
    "duration": 5,
    "start_time": "2024-10-16T11:48:56.846Z"
   },
   {
    "duration": 4,
    "start_time": "2024-10-16T11:50:34.962Z"
   },
   {
    "duration": 6,
    "start_time": "2024-10-16T11:50:42.688Z"
   },
   {
    "duration": 7,
    "start_time": "2024-10-16T11:50:56.346Z"
   },
   {
    "duration": 9,
    "start_time": "2024-10-16T11:51:21.539Z"
   },
   {
    "duration": 9,
    "start_time": "2024-10-16T11:51:24.681Z"
   },
   {
    "duration": 9,
    "start_time": "2024-10-16T11:55:12.186Z"
   },
   {
    "duration": 7,
    "start_time": "2024-10-16T12:01:25.840Z"
   },
   {
    "duration": 144,
    "start_time": "2024-10-16T12:01:47.585Z"
   },
   {
    "duration": 692,
    "start_time": "2024-10-16T12:02:11.718Z"
   },
   {
    "duration": 29,
    "start_time": "2024-10-16T12:02:12.412Z"
   },
   {
    "duration": 2228,
    "start_time": "2024-10-16T12:02:12.442Z"
   },
   {
    "duration": 8,
    "start_time": "2024-10-16T12:02:14.672Z"
   },
   {
    "duration": 81,
    "start_time": "2024-10-16T12:02:14.683Z"
   },
   {
    "duration": 13,
    "start_time": "2024-10-16T12:02:14.765Z"
   },
   {
    "duration": 4,
    "start_time": "2024-10-16T12:02:14.779Z"
   },
   {
    "duration": 41,
    "start_time": "2024-10-16T12:02:14.785Z"
   },
   {
    "duration": 5,
    "start_time": "2024-10-16T12:02:14.827Z"
   },
   {
    "duration": 15,
    "start_time": "2024-10-16T12:02:14.833Z"
   },
   {
    "duration": 193,
    "start_time": "2024-10-16T12:02:14.849Z"
   },
   {
    "duration": 5,
    "start_time": "2024-10-16T12:02:15.044Z"
   },
   {
    "duration": 339,
    "start_time": "2024-10-16T12:02:15.051Z"
   },
   {
    "duration": 3,
    "start_time": "2024-10-16T12:02:15.393Z"
   },
   {
    "duration": 167,
    "start_time": "2024-10-16T12:02:15.397Z"
   },
   {
    "duration": 11,
    "start_time": "2024-10-16T12:02:15.566Z"
   },
   {
    "duration": 181,
    "start_time": "2024-10-16T12:02:15.578Z"
   },
   {
    "duration": 10,
    "start_time": "2024-10-16T12:02:15.761Z"
   },
   {
    "duration": 213,
    "start_time": "2024-10-16T12:02:15.773Z"
   },
   {
    "duration": 699,
    "start_time": "2024-10-16T12:03:34.198Z"
   },
   {
    "duration": 38,
    "start_time": "2024-10-16T12:03:34.899Z"
   },
   {
    "duration": 2224,
    "start_time": "2024-10-16T12:03:34.938Z"
   },
   {
    "duration": 10,
    "start_time": "2024-10-16T12:03:37.165Z"
   },
   {
    "duration": 83,
    "start_time": "2024-10-16T12:03:37.178Z"
   },
   {
    "duration": 18,
    "start_time": "2024-10-16T12:03:37.264Z"
   },
   {
    "duration": 6,
    "start_time": "2024-10-16T12:03:37.283Z"
   },
   {
    "duration": 51,
    "start_time": "2024-10-16T12:03:37.290Z"
   },
   {
    "duration": 5,
    "start_time": "2024-10-16T12:03:37.342Z"
   },
   {
    "duration": 10,
    "start_time": "2024-10-16T12:03:37.357Z"
   },
   {
    "duration": 200,
    "start_time": "2024-10-16T12:03:37.368Z"
   },
   {
    "duration": 6,
    "start_time": "2024-10-16T12:03:37.569Z"
   },
   {
    "duration": 306,
    "start_time": "2024-10-16T12:03:37.576Z"
   },
   {
    "duration": 3,
    "start_time": "2024-10-16T12:03:37.883Z"
   },
   {
    "duration": 153,
    "start_time": "2024-10-16T12:03:37.888Z"
   },
   {
    "duration": 8,
    "start_time": "2024-10-16T12:03:38.042Z"
   },
   {
    "duration": 166,
    "start_time": "2024-10-16T12:03:38.051Z"
   },
   {
    "duration": 7,
    "start_time": "2024-10-16T12:03:38.218Z"
   },
   {
    "duration": 156,
    "start_time": "2024-10-16T12:03:38.226Z"
   },
   {
    "duration": 761,
    "start_time": "2024-10-16T12:06:10.828Z"
   },
   {
    "duration": 33,
    "start_time": "2024-10-16T12:06:11.591Z"
   },
   {
    "duration": 2145,
    "start_time": "2024-10-16T12:06:11.625Z"
   },
   {
    "duration": 8,
    "start_time": "2024-10-16T12:06:13.772Z"
   },
   {
    "duration": 79,
    "start_time": "2024-10-16T12:06:13.782Z"
   },
   {
    "duration": 7,
    "start_time": "2024-10-16T12:06:13.862Z"
   },
   {
    "duration": 36,
    "start_time": "2024-10-16T12:06:13.871Z"
   },
   {
    "duration": 52,
    "start_time": "2024-10-16T12:06:13.908Z"
   },
   {
    "duration": 6,
    "start_time": "2024-10-16T12:06:13.961Z"
   },
   {
    "duration": 7,
    "start_time": "2024-10-16T12:06:13.969Z"
   },
   {
    "duration": 220,
    "start_time": "2024-10-16T12:06:13.978Z"
   },
   {
    "duration": 6,
    "start_time": "2024-10-16T12:06:14.199Z"
   },
   {
    "duration": 304,
    "start_time": "2024-10-16T12:06:14.212Z"
   },
   {
    "duration": 3,
    "start_time": "2024-10-16T12:06:14.519Z"
   },
   {
    "duration": 153,
    "start_time": "2024-10-16T12:06:14.524Z"
   },
   {
    "duration": 10,
    "start_time": "2024-10-16T12:06:14.678Z"
   },
   {
    "duration": 192,
    "start_time": "2024-10-16T12:06:14.689Z"
   },
   {
    "duration": 7,
    "start_time": "2024-10-16T12:06:14.883Z"
   },
   {
    "duration": 246,
    "start_time": "2024-10-16T12:06:14.891Z"
   },
   {
    "duration": 650,
    "start_time": "2024-10-16T12:06:33.650Z"
   },
   {
    "duration": 36,
    "start_time": "2024-10-16T12:06:34.302Z"
   },
   {
    "duration": 2202,
    "start_time": "2024-10-16T12:06:34.340Z"
   },
   {
    "duration": 9,
    "start_time": "2024-10-16T12:06:36.544Z"
   },
   {
    "duration": 67,
    "start_time": "2024-10-16T12:06:36.555Z"
   },
   {
    "duration": 58,
    "start_time": "2024-10-16T12:06:36.623Z"
   },
   {
    "duration": 32,
    "start_time": "2024-10-16T12:06:36.683Z"
   },
   {
    "duration": 124,
    "start_time": "2024-10-16T12:06:36.716Z"
   },
   {
    "duration": 5,
    "start_time": "2024-10-16T12:06:36.841Z"
   },
   {
    "duration": 12,
    "start_time": "2024-10-16T12:06:36.848Z"
   },
   {
    "duration": 293,
    "start_time": "2024-10-16T12:06:36.861Z"
   },
   {
    "duration": 10,
    "start_time": "2024-10-16T12:06:37.158Z"
   },
   {
    "duration": 344,
    "start_time": "2024-10-16T12:06:37.170Z"
   },
   {
    "duration": 3,
    "start_time": "2024-10-16T12:06:37.517Z"
   },
   {
    "duration": 171,
    "start_time": "2024-10-16T12:06:37.521Z"
   },
   {
    "duration": 20,
    "start_time": "2024-10-16T12:06:37.693Z"
   },
   {
    "duration": 190,
    "start_time": "2024-10-16T12:06:37.715Z"
   },
   {
    "duration": 13,
    "start_time": "2024-10-16T12:06:37.906Z"
   },
   {
    "duration": 177,
    "start_time": "2024-10-16T12:06:37.921Z"
   },
   {
    "duration": 1279,
    "start_time": "2024-10-16T15:21:11.863Z"
   },
   {
    "duration": 46,
    "start_time": "2024-10-16T15:21:13.145Z"
   },
   {
    "duration": 3124,
    "start_time": "2024-10-16T15:21:13.193Z"
   },
   {
    "duration": 18,
    "start_time": "2024-10-16T15:21:16.320Z"
   },
   {
    "duration": 101,
    "start_time": "2024-10-16T15:21:16.342Z"
   },
   {
    "duration": 12,
    "start_time": "2024-10-16T15:21:16.445Z"
   },
   {
    "duration": 12,
    "start_time": "2024-10-16T15:21:16.481Z"
   },
   {
    "duration": 59,
    "start_time": "2024-10-16T15:21:16.496Z"
   },
   {
    "duration": 5,
    "start_time": "2024-10-16T15:21:16.558Z"
   },
   {
    "duration": 40,
    "start_time": "2024-10-16T15:21:16.576Z"
   },
   {
    "duration": 250,
    "start_time": "2024-10-16T15:21:16.618Z"
   },
   {
    "duration": 13,
    "start_time": "2024-10-16T15:21:16.870Z"
   },
   {
    "duration": 428,
    "start_time": "2024-10-16T15:21:16.885Z"
   },
   {
    "duration": 4,
    "start_time": "2024-10-16T15:21:17.317Z"
   },
   {
    "duration": 247,
    "start_time": "2024-10-16T15:21:17.323Z"
   },
   {
    "duration": 12,
    "start_time": "2024-10-16T15:21:17.572Z"
   },
   {
    "duration": 262,
    "start_time": "2024-10-16T15:21:17.586Z"
   },
   {
    "duration": 56,
    "start_time": "2024-10-16T15:21:17.850Z"
   },
   {
    "duration": 30,
    "start_time": "2024-10-16T15:23:59.940Z"
   },
   {
    "duration": 6,
    "start_time": "2024-10-16T15:25:19.220Z"
   },
   {
    "duration": 12,
    "start_time": "2024-10-16T15:26:37.590Z"
   },
   {
    "duration": 234,
    "start_time": "2024-10-16T15:26:51.315Z"
   },
   {
    "duration": 221,
    "start_time": "2024-10-16T15:27:15.542Z"
   },
   {
    "duration": 750,
    "start_time": "2024-10-16T15:27:23.821Z"
   },
   {
    "duration": 35,
    "start_time": "2024-10-16T15:27:24.573Z"
   },
   {
    "duration": 2830,
    "start_time": "2024-10-16T15:27:24.610Z"
   },
   {
    "duration": 10,
    "start_time": "2024-10-16T15:27:27.443Z"
   },
   {
    "duration": 99,
    "start_time": "2024-10-16T15:27:27.454Z"
   },
   {
    "duration": 9,
    "start_time": "2024-10-16T15:27:27.555Z"
   },
   {
    "duration": 6,
    "start_time": "2024-10-16T15:27:27.576Z"
   },
   {
    "duration": 84,
    "start_time": "2024-10-16T15:27:27.584Z"
   },
   {
    "duration": 5,
    "start_time": "2024-10-16T15:27:27.670Z"
   },
   {
    "duration": 6,
    "start_time": "2024-10-16T15:27:27.678Z"
   },
   {
    "duration": 244,
    "start_time": "2024-10-16T15:27:27.686Z"
   },
   {
    "duration": 8,
    "start_time": "2024-10-16T15:27:27.932Z"
   },
   {
    "duration": 397,
    "start_time": "2024-10-16T15:27:27.941Z"
   },
   {
    "duration": 4,
    "start_time": "2024-10-16T15:27:28.340Z"
   },
   {
    "duration": 200,
    "start_time": "2024-10-16T15:27:28.345Z"
   },
   {
    "duration": 10,
    "start_time": "2024-10-16T15:27:28.547Z"
   },
   {
    "duration": 228,
    "start_time": "2024-10-16T15:27:28.558Z"
   },
   {
    "duration": 221,
    "start_time": "2024-10-16T15:27:28.788Z"
   },
   {
    "duration": 193,
    "start_time": "2024-10-16T15:28:10.933Z"
   },
   {
    "duration": 185,
    "start_time": "2024-10-16T15:29:14.481Z"
   },
   {
    "duration": 822,
    "start_time": "2024-10-16T15:31:54.649Z"
   },
   {
    "duration": 38,
    "start_time": "2024-10-16T15:31:55.473Z"
   },
   {
    "duration": 2879,
    "start_time": "2024-10-16T15:31:55.513Z"
   },
   {
    "duration": 10,
    "start_time": "2024-10-16T15:31:58.394Z"
   },
   {
    "duration": 110,
    "start_time": "2024-10-16T15:31:58.406Z"
   },
   {
    "duration": 11,
    "start_time": "2024-10-16T15:31:58.517Z"
   },
   {
    "duration": 7,
    "start_time": "2024-10-16T15:31:58.530Z"
   },
   {
    "duration": 67,
    "start_time": "2024-10-16T15:31:58.538Z"
   },
   {
    "duration": 6,
    "start_time": "2024-10-16T15:31:58.607Z"
   },
   {
    "duration": 29,
    "start_time": "2024-10-16T15:31:58.614Z"
   },
   {
    "duration": 231,
    "start_time": "2024-10-16T15:31:58.645Z"
   },
   {
    "duration": 6,
    "start_time": "2024-10-16T15:31:58.878Z"
   },
   {
    "duration": 361,
    "start_time": "2024-10-16T15:31:58.885Z"
   },
   {
    "duration": 4,
    "start_time": "2024-10-16T15:31:59.249Z"
   },
   {
    "duration": 207,
    "start_time": "2024-10-16T15:31:59.255Z"
   },
   {
    "duration": 15,
    "start_time": "2024-10-16T15:31:59.465Z"
   },
   {
    "duration": 249,
    "start_time": "2024-10-16T15:31:59.482Z"
   },
   {
    "duration": 221,
    "start_time": "2024-10-16T15:31:59.733Z"
   },
   {
    "duration": 207,
    "start_time": "2024-10-16T15:32:41.206Z"
   },
   {
    "duration": 205,
    "start_time": "2024-10-16T15:32:47.858Z"
   },
   {
    "duration": 297,
    "start_time": "2024-10-16T15:32:52.311Z"
   },
   {
    "duration": 203,
    "start_time": "2024-10-16T15:32:56.561Z"
   },
   {
    "duration": 191,
    "start_time": "2024-10-16T15:33:05.850Z"
   },
   {
    "duration": 191,
    "start_time": "2024-10-16T15:33:12.407Z"
   },
   {
    "duration": 214,
    "start_time": "2024-10-16T15:33:19.483Z"
   },
   {
    "duration": 808,
    "start_time": "2024-10-16T15:33:24.151Z"
   },
   {
    "duration": 40,
    "start_time": "2024-10-16T15:33:24.961Z"
   },
   {
    "duration": 2837,
    "start_time": "2024-10-16T15:33:25.003Z"
   },
   {
    "duration": 10,
    "start_time": "2024-10-16T15:33:27.842Z"
   },
   {
    "duration": 103,
    "start_time": "2024-10-16T15:33:27.854Z"
   },
   {
    "duration": 55,
    "start_time": "2024-10-16T15:33:27.959Z"
   },
   {
    "duration": 5,
    "start_time": "2024-10-16T15:33:28.016Z"
   },
   {
    "duration": 41,
    "start_time": "2024-10-16T15:33:28.023Z"
   },
   {
    "duration": 5,
    "start_time": "2024-10-16T15:33:28.065Z"
   },
   {
    "duration": 8,
    "start_time": "2024-10-16T15:33:28.071Z"
   },
   {
    "duration": 268,
    "start_time": "2024-10-16T15:33:28.080Z"
   },
   {
    "duration": 6,
    "start_time": "2024-10-16T15:33:28.350Z"
   },
   {
    "duration": 362,
    "start_time": "2024-10-16T15:33:28.358Z"
   },
   {
    "duration": 4,
    "start_time": "2024-10-16T15:33:28.722Z"
   },
   {
    "duration": 214,
    "start_time": "2024-10-16T15:33:28.727Z"
   },
   {
    "duration": 10,
    "start_time": "2024-10-16T15:33:28.943Z"
   },
   {
    "duration": 233,
    "start_time": "2024-10-16T15:33:28.955Z"
   },
   {
    "duration": 236,
    "start_time": "2024-10-16T15:33:29.190Z"
   },
   {
    "duration": 835,
    "start_time": "2024-10-16T15:35:14.653Z"
   },
   {
    "duration": 36,
    "start_time": "2024-10-16T15:35:15.490Z"
   },
   {
    "duration": 2888,
    "start_time": "2024-10-16T15:35:15.528Z"
   },
   {
    "duration": 9,
    "start_time": "2024-10-16T15:35:18.418Z"
   },
   {
    "duration": 102,
    "start_time": "2024-10-16T15:35:18.429Z"
   },
   {
    "duration": 11,
    "start_time": "2024-10-16T15:35:18.533Z"
   },
   {
    "duration": 6,
    "start_time": "2024-10-16T15:35:18.545Z"
   },
   {
    "duration": 60,
    "start_time": "2024-10-16T15:35:18.553Z"
   },
   {
    "duration": 6,
    "start_time": "2024-10-16T15:35:18.614Z"
   },
   {
    "duration": 60,
    "start_time": "2024-10-16T15:35:18.621Z"
   },
   {
    "duration": 237,
    "start_time": "2024-10-16T15:35:18.683Z"
   },
   {
    "duration": 6,
    "start_time": "2024-10-16T15:35:18.922Z"
   },
   {
    "duration": 367,
    "start_time": "2024-10-16T15:35:18.930Z"
   },
   {
    "duration": 4,
    "start_time": "2024-10-16T15:35:19.300Z"
   },
   {
    "duration": 211,
    "start_time": "2024-10-16T15:35:19.305Z"
   },
   {
    "duration": 11,
    "start_time": "2024-10-16T15:35:19.517Z"
   },
   {
    "duration": 238,
    "start_time": "2024-10-16T15:35:19.530Z"
   },
   {
    "duration": 229,
    "start_time": "2024-10-16T15:35:19.769Z"
   },
   {
    "duration": 798,
    "start_time": "2024-10-16T15:35:48.625Z"
   },
   {
    "duration": 35,
    "start_time": "2024-10-16T15:35:49.426Z"
   },
   {
    "duration": 2837,
    "start_time": "2024-10-16T15:35:49.463Z"
   },
   {
    "duration": 11,
    "start_time": "2024-10-16T15:35:52.302Z"
   },
   {
    "duration": 98,
    "start_time": "2024-10-16T15:35:52.315Z"
   },
   {
    "duration": 9,
    "start_time": "2024-10-16T15:35:52.414Z"
   },
   {
    "duration": 5,
    "start_time": "2024-10-16T15:35:52.425Z"
   },
   {
    "duration": 66,
    "start_time": "2024-10-16T15:35:52.432Z"
   },
   {
    "duration": 6,
    "start_time": "2024-10-16T15:35:52.500Z"
   },
   {
    "duration": 7,
    "start_time": "2024-10-16T15:35:52.509Z"
   },
   {
    "duration": 248,
    "start_time": "2024-10-16T15:35:52.517Z"
   },
   {
    "duration": 10,
    "start_time": "2024-10-16T15:35:52.767Z"
   },
   {
    "duration": 355,
    "start_time": "2024-10-16T15:35:52.779Z"
   },
   {
    "duration": 5,
    "start_time": "2024-10-16T15:35:53.136Z"
   },
   {
    "duration": 207,
    "start_time": "2024-10-16T15:35:53.143Z"
   },
   {
    "duration": 9,
    "start_time": "2024-10-16T15:35:53.352Z"
   },
   {
    "duration": 243,
    "start_time": "2024-10-16T15:35:53.362Z"
   },
   {
    "duration": 219,
    "start_time": "2024-10-16T15:35:53.607Z"
   },
   {
    "duration": 284,
    "start_time": "2024-10-16T15:38:34.045Z"
   },
   {
    "duration": 217,
    "start_time": "2024-10-16T15:38:54.145Z"
   },
   {
    "duration": 85,
    "start_time": "2024-10-16T15:45:45.585Z"
   },
   {
    "duration": 12,
    "start_time": "2024-10-16T15:45:50.403Z"
   },
   {
    "duration": 1328,
    "start_time": "2024-10-17T15:42:03.264Z"
   },
   {
    "duration": 38,
    "start_time": "2024-10-17T15:42:04.595Z"
   },
   {
    "duration": 3210,
    "start_time": "2024-10-17T15:42:04.634Z"
   },
   {
    "duration": 13,
    "start_time": "2024-10-17T15:42:07.847Z"
   },
   {
    "duration": 20,
    "start_time": "2024-10-17T15:42:07.862Z"
   },
   {
    "duration": 13,
    "start_time": "2024-10-17T15:42:07.884Z"
   },
   {
    "duration": 17,
    "start_time": "2024-10-17T15:42:07.900Z"
   },
   {
    "duration": 38,
    "start_time": "2024-10-17T15:42:07.918Z"
   },
   {
    "duration": 5,
    "start_time": "2024-10-17T15:42:07.957Z"
   },
   {
    "duration": 17,
    "start_time": "2024-10-17T15:42:07.975Z"
   },
   {
    "duration": 276,
    "start_time": "2024-10-17T15:42:07.994Z"
   },
   {
    "duration": 7,
    "start_time": "2024-10-17T15:42:08.272Z"
   },
   {
    "duration": 385,
    "start_time": "2024-10-17T15:42:08.281Z"
   },
   {
    "duration": 9,
    "start_time": "2024-10-17T15:42:08.667Z"
   },
   {
    "duration": 226,
    "start_time": "2024-10-17T15:42:08.678Z"
   },
   {
    "duration": 10,
    "start_time": "2024-10-17T15:42:08.906Z"
   },
   {
    "duration": 259,
    "start_time": "2024-10-17T15:42:08.918Z"
   },
   {
    "duration": 32,
    "start_time": "2024-10-17T15:42:09.180Z"
   },
   {
    "duration": 2,
    "start_time": "2024-10-17T15:42:09.213Z"
   },
   {
    "duration": 25,
    "start_time": "2024-10-17T15:42:32.574Z"
   },
   {
    "duration": 6,
    "start_time": "2024-10-17T15:43:00.408Z"
   },
   {
    "duration": 88,
    "start_time": "2024-10-17T15:45:57.865Z"
   },
   {
    "duration": 11,
    "start_time": "2024-10-17T15:46:46.930Z"
   },
   {
    "duration": 11,
    "start_time": "2024-10-17T15:46:56.471Z"
   },
   {
    "duration": 204,
    "start_time": "2024-10-17T15:48:15.212Z"
   },
   {
    "duration": 825,
    "start_time": "2024-10-17T15:50:06.769Z"
   },
   {
    "duration": 38,
    "start_time": "2024-10-17T15:50:07.597Z"
   },
   {
    "duration": 2915,
    "start_time": "2024-10-17T15:50:07.637Z"
   },
   {
    "duration": 10,
    "start_time": "2024-10-17T15:50:10.554Z"
   },
   {
    "duration": 113,
    "start_time": "2024-10-17T15:50:10.567Z"
   },
   {
    "duration": 10,
    "start_time": "2024-10-17T15:50:10.682Z"
   },
   {
    "duration": 6,
    "start_time": "2024-10-17T15:50:10.694Z"
   },
   {
    "duration": 39,
    "start_time": "2024-10-17T15:50:10.702Z"
   },
   {
    "duration": 5,
    "start_time": "2024-10-17T15:50:10.743Z"
   },
   {
    "duration": 10,
    "start_time": "2024-10-17T15:50:10.776Z"
   },
   {
    "duration": 247,
    "start_time": "2024-10-17T15:50:10.787Z"
   },
   {
    "duration": 6,
    "start_time": "2024-10-17T15:50:11.036Z"
   },
   {
    "duration": 363,
    "start_time": "2024-10-17T15:50:11.044Z"
   },
   {
    "duration": 3,
    "start_time": "2024-10-17T15:50:11.410Z"
   },
   {
    "duration": 254,
    "start_time": "2024-10-17T15:50:11.415Z"
   },
   {
    "duration": 12,
    "start_time": "2024-10-17T15:50:11.675Z"
   },
   {
    "duration": 262,
    "start_time": "2024-10-17T15:50:11.688Z"
   },
   {
    "duration": 3,
    "start_time": "2024-10-17T15:50:11.951Z"
   },
   {
    "duration": 25,
    "start_time": "2024-10-17T15:50:43.835Z"
   },
   {
    "duration": 10,
    "start_time": "2024-10-17T15:55:33.874Z"
   },
   {
    "duration": 12,
    "start_time": "2024-10-17T15:57:34.304Z"
   },
   {
    "duration": 234,
    "start_time": "2024-10-17T15:57:46.166Z"
   },
   {
    "duration": 196,
    "start_time": "2024-10-17T16:02:17.900Z"
   },
   {
    "duration": 3,
    "start_time": "2024-10-17T16:04:55.048Z"
   },
   {
    "duration": 18,
    "start_time": "2024-10-17T16:05:03.345Z"
   },
   {
    "duration": 224,
    "start_time": "2024-10-17T16:05:13.229Z"
   },
   {
    "duration": 325,
    "start_time": "2024-10-17T16:05:43.785Z"
   },
   {
    "duration": 852,
    "start_time": "2024-10-17T16:06:52.866Z"
   },
   {
    "duration": 34,
    "start_time": "2024-10-17T16:06:53.720Z"
   },
   {
    "duration": 2993,
    "start_time": "2024-10-17T16:06:53.755Z"
   },
   {
    "duration": 9,
    "start_time": "2024-10-17T16:06:56.751Z"
   },
   {
    "duration": 109,
    "start_time": "2024-10-17T16:06:56.762Z"
   },
   {
    "duration": 13,
    "start_time": "2024-10-17T16:06:56.872Z"
   },
   {
    "duration": 6,
    "start_time": "2024-10-17T16:06:56.888Z"
   },
   {
    "duration": 41,
    "start_time": "2024-10-17T16:06:56.897Z"
   },
   {
    "duration": 4,
    "start_time": "2024-10-17T16:06:56.940Z"
   },
   {
    "duration": 33,
    "start_time": "2024-10-17T16:06:56.946Z"
   },
   {
    "duration": 267,
    "start_time": "2024-10-17T16:06:56.981Z"
   },
   {
    "duration": 7,
    "start_time": "2024-10-17T16:06:57.249Z"
   },
   {
    "duration": 377,
    "start_time": "2024-10-17T16:06:57.257Z"
   },
   {
    "duration": 3,
    "start_time": "2024-10-17T16:06:57.636Z"
   },
   {
    "duration": 207,
    "start_time": "2024-10-17T16:06:57.641Z"
   },
   {
    "duration": 9,
    "start_time": "2024-10-17T16:06:57.850Z"
   },
   {
    "duration": 245,
    "start_time": "2024-10-17T16:06:57.861Z"
   },
   {
    "duration": 257,
    "start_time": "2024-10-17T16:06:58.108Z"
   },
   {
    "duration": 206,
    "start_time": "2024-10-17T16:06:58.366Z"
   },
   {
    "duration": 231,
    "start_time": "2024-10-17T16:06:58.573Z"
   },
   {
    "duration": 235,
    "start_time": "2024-10-17T16:07:14.370Z"
   },
   {
    "duration": 342,
    "start_time": "2024-10-17T16:08:01.771Z"
   },
   {
    "duration": 229,
    "start_time": "2024-10-17T16:08:34.367Z"
   },
   {
    "duration": 194,
    "start_time": "2024-10-17T16:10:57.432Z"
   },
   {
    "duration": 186,
    "start_time": "2024-10-17T16:14:37.514Z"
   },
   {
    "duration": 199,
    "start_time": "2024-10-17T16:17:23.852Z"
   },
   {
    "duration": 196,
    "start_time": "2024-10-17T16:18:28.488Z"
   },
   {
    "duration": 131,
    "start_time": "2024-10-17T16:21:09.378Z"
   },
   {
    "duration": 142,
    "start_time": "2024-10-17T16:21:22.039Z"
   },
   {
    "duration": 206,
    "start_time": "2024-10-17T16:21:40.512Z"
   },
   {
    "duration": 3,
    "start_time": "2024-10-17T18:06:13.697Z"
   },
   {
    "duration": 190,
    "start_time": "2024-10-17T18:06:57.700Z"
   },
   {
    "duration": 298,
    "start_time": "2024-10-17T18:07:48.529Z"
   },
   {
    "duration": 176,
    "start_time": "2024-10-17T18:08:14.893Z"
   },
   {
    "duration": 208,
    "start_time": "2024-10-17T18:10:24.469Z"
   },
   {
    "duration": 202,
    "start_time": "2024-10-17T18:11:57.962Z"
   },
   {
    "duration": 5,
    "start_time": "2024-10-17T18:12:23.707Z"
   },
   {
    "duration": 194,
    "start_time": "2024-10-17T18:12:40.327Z"
   },
   {
    "duration": 3,
    "start_time": "2024-10-17T18:20:38.739Z"
   },
   {
    "duration": 171,
    "start_time": "2024-10-17T18:21:17.469Z"
   },
   {
    "duration": 162,
    "start_time": "2024-10-17T18:21:46.541Z"
   },
   {
    "duration": 167,
    "start_time": "2024-10-17T18:22:07.300Z"
   },
   {
    "duration": 173,
    "start_time": "2024-10-17T18:30:59.315Z"
   },
   {
    "duration": 176,
    "start_time": "2024-10-17T18:31:21.229Z"
   },
   {
    "duration": 209,
    "start_time": "2024-10-17T18:34:55.006Z"
   },
   {
    "duration": 182,
    "start_time": "2024-10-17T18:35:06.891Z"
   },
   {
    "duration": 170,
    "start_time": "2024-10-17T18:35:46.106Z"
   },
   {
    "duration": 768,
    "start_time": "2024-10-17T18:35:53.077Z"
   },
   {
    "duration": 38,
    "start_time": "2024-10-17T18:35:53.846Z"
   },
   {
    "duration": 2666,
    "start_time": "2024-10-17T18:35:53.886Z"
   },
   {
    "duration": 10,
    "start_time": "2024-10-17T18:35:56.554Z"
   },
   {
    "duration": 94,
    "start_time": "2024-10-17T18:35:56.566Z"
   },
   {
    "duration": 14,
    "start_time": "2024-10-17T18:35:56.662Z"
   },
   {
    "duration": 5,
    "start_time": "2024-10-17T18:35:56.678Z"
   },
   {
    "duration": 37,
    "start_time": "2024-10-17T18:35:56.684Z"
   },
   {
    "duration": 6,
    "start_time": "2024-10-17T18:35:56.723Z"
   },
   {
    "duration": 6,
    "start_time": "2024-10-17T18:35:56.732Z"
   },
   {
    "duration": 238,
    "start_time": "2024-10-17T18:35:56.739Z"
   },
   {
    "duration": 7,
    "start_time": "2024-10-17T18:35:56.979Z"
   },
   {
    "duration": 329,
    "start_time": "2024-10-17T18:35:56.987Z"
   },
   {
    "duration": 5,
    "start_time": "2024-10-17T18:35:57.318Z"
   },
   {
    "duration": 190,
    "start_time": "2024-10-17T18:35:57.324Z"
   },
   {
    "duration": 10,
    "start_time": "2024-10-17T18:35:57.516Z"
   },
   {
    "duration": 240,
    "start_time": "2024-10-17T18:35:57.527Z"
   },
   {
    "duration": 212,
    "start_time": "2024-10-17T18:35:57.769Z"
   },
   {
    "duration": 193,
    "start_time": "2024-10-17T18:35:57.983Z"
   },
   {
    "duration": 241,
    "start_time": "2024-10-17T18:35:58.178Z"
   },
   {
    "duration": 300,
    "start_time": "2024-10-17T18:35:58.421Z"
   },
   {
    "duration": 196,
    "start_time": "2024-10-17T18:35:58.723Z"
   },
   {
    "duration": 207,
    "start_time": "2024-10-17T18:35:58.921Z"
   },
   {
    "duration": 218,
    "start_time": "2024-10-17T18:35:59.130Z"
   },
   {
    "duration": 194,
    "start_time": "2024-10-17T18:35:59.350Z"
   },
   {
    "duration": 212,
    "start_time": "2024-10-17T18:35:59.546Z"
   },
   {
    "duration": 187,
    "start_time": "2024-10-17T18:35:59.759Z"
   },
   {
    "duration": 192,
    "start_time": "2024-10-17T18:35:59.950Z"
   },
   {
    "duration": 188,
    "start_time": "2024-10-17T18:36:00.143Z"
   },
   {
    "duration": 3,
    "start_time": "2024-10-17T18:38:08.885Z"
   },
   {
    "duration": 74,
    "start_time": "2024-10-17T18:38:21.130Z"
   },
   {
    "duration": 299,
    "start_time": "2024-10-17T18:39:28.285Z"
   },
   {
    "duration": 175,
    "start_time": "2024-10-17T18:43:36.518Z"
   },
   {
    "duration": 192,
    "start_time": "2024-10-17T18:43:45.909Z"
   },
   {
    "duration": 196,
    "start_time": "2024-10-17T18:45:02.990Z"
   },
   {
    "duration": 778,
    "start_time": "2024-10-17T18:45:11.068Z"
   },
   {
    "duration": 39,
    "start_time": "2024-10-17T18:45:11.848Z"
   },
   {
    "duration": 2695,
    "start_time": "2024-10-17T18:45:11.889Z"
   },
   {
    "duration": 10,
    "start_time": "2024-10-17T18:45:14.586Z"
   },
   {
    "duration": 93,
    "start_time": "2024-10-17T18:45:14.598Z"
   },
   {
    "duration": 9,
    "start_time": "2024-10-17T18:45:14.693Z"
   },
   {
    "duration": 5,
    "start_time": "2024-10-17T18:45:14.703Z"
   },
   {
    "duration": 36,
    "start_time": "2024-10-17T18:45:14.709Z"
   },
   {
    "duration": 30,
    "start_time": "2024-10-17T18:45:14.747Z"
   },
   {
    "duration": 7,
    "start_time": "2024-10-17T18:45:14.780Z"
   },
   {
    "duration": 225,
    "start_time": "2024-10-17T18:45:14.788Z"
   },
   {
    "duration": 6,
    "start_time": "2024-10-17T18:45:15.015Z"
   },
   {
    "duration": 353,
    "start_time": "2024-10-17T18:45:15.023Z"
   },
   {
    "duration": 4,
    "start_time": "2024-10-17T18:45:15.378Z"
   },
   {
    "duration": 195,
    "start_time": "2024-10-17T18:45:15.383Z"
   },
   {
    "duration": 10,
    "start_time": "2024-10-17T18:45:15.579Z"
   },
   {
    "duration": 222,
    "start_time": "2024-10-17T18:45:15.591Z"
   },
   {
    "duration": 214,
    "start_time": "2024-10-17T18:45:15.815Z"
   },
   {
    "duration": 189,
    "start_time": "2024-10-17T18:45:16.031Z"
   },
   {
    "duration": 213,
    "start_time": "2024-10-17T18:45:16.221Z"
   },
   {
    "duration": 290,
    "start_time": "2024-10-17T18:45:16.436Z"
   },
   {
    "duration": 190,
    "start_time": "2024-10-17T18:45:16.728Z"
   },
   {
    "duration": 195,
    "start_time": "2024-10-17T18:45:16.920Z"
   },
   {
    "duration": 208,
    "start_time": "2024-10-17T18:45:17.117Z"
   },
   {
    "duration": 186,
    "start_time": "2024-10-17T18:45:17.326Z"
   },
   {
    "duration": 212,
    "start_time": "2024-10-17T18:45:17.514Z"
   },
   {
    "duration": 178,
    "start_time": "2024-10-17T18:45:17.727Z"
   },
   {
    "duration": 189,
    "start_time": "2024-10-17T18:45:17.909Z"
   },
   {
    "duration": 217,
    "start_time": "2024-10-17T18:45:18.100Z"
   },
   {
    "duration": 317,
    "start_time": "2024-10-17T18:45:18.318Z"
   },
   {
    "duration": 194,
    "start_time": "2024-10-17T18:45:18.636Z"
   },
   {
    "duration": 737,
    "start_time": "2024-10-17T18:47:00.819Z"
   },
   {
    "duration": 38,
    "start_time": "2024-10-17T18:47:01.558Z"
   },
   {
    "duration": 2743,
    "start_time": "2024-10-17T18:47:01.597Z"
   },
   {
    "duration": 10,
    "start_time": "2024-10-17T18:47:04.342Z"
   },
   {
    "duration": 94,
    "start_time": "2024-10-17T18:47:04.354Z"
   },
   {
    "duration": 9,
    "start_time": "2024-10-17T18:47:04.449Z"
   },
   {
    "duration": 24,
    "start_time": "2024-10-17T18:47:04.459Z"
   },
   {
    "duration": 47,
    "start_time": "2024-10-17T18:47:04.485Z"
   },
   {
    "duration": 5,
    "start_time": "2024-10-17T18:47:04.533Z"
   },
   {
    "duration": 9,
    "start_time": "2024-10-17T18:47:04.541Z"
   },
   {
    "duration": 230,
    "start_time": "2024-10-17T18:47:04.551Z"
   },
   {
    "duration": 7,
    "start_time": "2024-10-17T18:47:04.782Z"
   },
   {
    "duration": 353,
    "start_time": "2024-10-17T18:47:04.791Z"
   },
   {
    "duration": 4,
    "start_time": "2024-10-17T18:47:05.146Z"
   },
   {
    "duration": 193,
    "start_time": "2024-10-17T18:47:05.151Z"
   },
   {
    "duration": 10,
    "start_time": "2024-10-17T18:47:05.345Z"
   },
   {
    "duration": 221,
    "start_time": "2024-10-17T18:47:05.357Z"
   },
   {
    "duration": 216,
    "start_time": "2024-10-17T18:47:05.580Z"
   },
   {
    "duration": 189,
    "start_time": "2024-10-17T18:47:05.798Z"
   },
   {
    "duration": 218,
    "start_time": "2024-10-17T18:47:05.988Z"
   },
   {
    "duration": 297,
    "start_time": "2024-10-17T18:47:06.208Z"
   },
   {
    "duration": 191,
    "start_time": "2024-10-17T18:47:06.507Z"
   },
   {
    "duration": 210,
    "start_time": "2024-10-17T18:47:06.699Z"
   },
   {
    "duration": 206,
    "start_time": "2024-10-17T18:47:06.911Z"
   },
   {
    "duration": 199,
    "start_time": "2024-10-17T18:47:07.119Z"
   },
   {
    "duration": 205,
    "start_time": "2024-10-17T18:47:07.319Z"
   },
   {
    "duration": 179,
    "start_time": "2024-10-17T18:47:07.525Z"
   },
   {
    "duration": 180,
    "start_time": "2024-10-17T18:47:07.707Z"
   },
   {
    "duration": 189,
    "start_time": "2024-10-17T18:47:07.889Z"
   },
   {
    "duration": 322,
    "start_time": "2024-10-17T18:47:08.080Z"
   },
   {
    "duration": 194,
    "start_time": "2024-10-17T18:47:31.647Z"
   },
   {
    "duration": 209,
    "start_time": "2024-10-17T18:48:02.569Z"
   },
   {
    "duration": 192,
    "start_time": "2024-10-17T18:48:15.435Z"
   },
   {
    "duration": 203,
    "start_time": "2024-10-17T18:48:32.837Z"
   },
   {
    "duration": 184,
    "start_time": "2024-10-17T18:49:03.597Z"
   },
   {
    "duration": 186,
    "start_time": "2024-10-17T18:49:13.281Z"
   },
   {
    "duration": 811,
    "start_time": "2024-10-17T18:49:19.246Z"
   },
   {
    "duration": 39,
    "start_time": "2024-10-17T18:49:20.059Z"
   },
   {
    "duration": 2733,
    "start_time": "2024-10-17T18:49:20.099Z"
   },
   {
    "duration": 10,
    "start_time": "2024-10-17T18:49:22.834Z"
   },
   {
    "duration": 106,
    "start_time": "2024-10-17T18:49:22.846Z"
   },
   {
    "duration": 26,
    "start_time": "2024-10-17T18:49:22.954Z"
   },
   {
    "duration": 5,
    "start_time": "2024-10-17T18:49:22.981Z"
   },
   {
    "duration": 42,
    "start_time": "2024-10-17T18:49:22.988Z"
   },
   {
    "duration": 5,
    "start_time": "2024-10-17T18:49:23.031Z"
   },
   {
    "duration": 7,
    "start_time": "2024-10-17T18:49:23.038Z"
   },
   {
    "duration": 242,
    "start_time": "2024-10-17T18:49:23.046Z"
   },
   {
    "duration": 6,
    "start_time": "2024-10-17T18:49:23.289Z"
   },
   {
    "duration": 344,
    "start_time": "2024-10-17T18:49:23.297Z"
   },
   {
    "duration": 4,
    "start_time": "2024-10-17T18:49:23.644Z"
   },
   {
    "duration": 193,
    "start_time": "2024-10-17T18:49:23.649Z"
   },
   {
    "duration": 9,
    "start_time": "2024-10-17T18:49:23.844Z"
   },
   {
    "duration": 224,
    "start_time": "2024-10-17T18:49:23.855Z"
   },
   {
    "duration": 222,
    "start_time": "2024-10-17T18:49:24.081Z"
   },
   {
    "duration": 195,
    "start_time": "2024-10-17T18:49:24.304Z"
   },
   {
    "duration": 209,
    "start_time": "2024-10-17T18:49:24.501Z"
   },
   {
    "duration": 286,
    "start_time": "2024-10-17T18:49:24.712Z"
   },
   {
    "duration": 196,
    "start_time": "2024-10-17T18:49:24.999Z"
   },
   {
    "duration": 203,
    "start_time": "2024-10-17T18:49:25.197Z"
   },
   {
    "duration": 204,
    "start_time": "2024-10-17T18:49:25.402Z"
   },
   {
    "duration": 193,
    "start_time": "2024-10-17T18:49:25.608Z"
   },
   {
    "duration": 212,
    "start_time": "2024-10-17T18:49:25.803Z"
   },
   {
    "duration": 179,
    "start_time": "2024-10-17T18:49:26.017Z"
   },
   {
    "duration": 186,
    "start_time": "2024-10-17T18:49:26.198Z"
   },
   {
    "duration": 181,
    "start_time": "2024-10-17T18:49:26.386Z"
   },
   {
    "duration": 309,
    "start_time": "2024-10-17T18:49:26.569Z"
   },
   {
    "duration": 194,
    "start_time": "2024-10-17T18:49:26.880Z"
   },
   {
    "duration": 186,
    "start_time": "2024-10-17T18:56:16.089Z"
   },
   {
    "duration": 188,
    "start_time": "2024-10-17T19:07:33.970Z"
   },
   {
    "duration": 185,
    "start_time": "2024-10-17T19:07:56.676Z"
   },
   {
    "duration": 764,
    "start_time": "2024-10-17T19:23:18.198Z"
   },
   {
    "duration": 34,
    "start_time": "2024-10-17T19:23:18.964Z"
   },
   {
    "duration": 2721,
    "start_time": "2024-10-17T19:23:19.000Z"
   },
   {
    "duration": 9,
    "start_time": "2024-10-17T19:23:21.723Z"
   },
   {
    "duration": 95,
    "start_time": "2024-10-17T19:23:21.734Z"
   },
   {
    "duration": 9,
    "start_time": "2024-10-17T19:23:21.830Z"
   },
   {
    "duration": 8,
    "start_time": "2024-10-17T19:23:21.840Z"
   },
   {
    "duration": 56,
    "start_time": "2024-10-17T19:23:21.849Z"
   },
   {
    "duration": 5,
    "start_time": "2024-10-17T19:23:21.906Z"
   },
   {
    "duration": 6,
    "start_time": "2024-10-17T19:23:21.914Z"
   },
   {
    "duration": 219,
    "start_time": "2024-10-17T19:23:21.921Z"
   },
   {
    "duration": 7,
    "start_time": "2024-10-17T19:23:22.141Z"
   },
   {
    "duration": 338,
    "start_time": "2024-10-17T19:23:22.149Z"
   },
   {
    "duration": 3,
    "start_time": "2024-10-17T19:23:22.489Z"
   },
   {
    "duration": 184,
    "start_time": "2024-10-17T19:23:22.494Z"
   },
   {
    "duration": 10,
    "start_time": "2024-10-17T19:23:22.679Z"
   },
   {
    "duration": 214,
    "start_time": "2024-10-17T19:23:22.690Z"
   },
   {
    "duration": 214,
    "start_time": "2024-10-17T19:23:22.906Z"
   },
   {
    "duration": 185,
    "start_time": "2024-10-17T19:23:23.122Z"
   },
   {
    "duration": 210,
    "start_time": "2024-10-17T19:23:23.309Z"
   },
   {
    "duration": 297,
    "start_time": "2024-10-17T19:23:23.521Z"
   },
   {
    "duration": 191,
    "start_time": "2024-10-17T19:23:23.819Z"
   },
   {
    "duration": 206,
    "start_time": "2024-10-17T19:23:24.012Z"
   },
   {
    "duration": 208,
    "start_time": "2024-10-17T19:23:24.220Z"
   },
   {
    "duration": 184,
    "start_time": "2024-10-17T19:23:24.430Z"
   },
   {
    "duration": 206,
    "start_time": "2024-10-17T19:23:24.615Z"
   },
   {
    "duration": 179,
    "start_time": "2024-10-17T19:23:24.822Z"
   },
   {
    "duration": 177,
    "start_time": "2024-10-17T19:23:25.004Z"
   },
   {
    "duration": 184,
    "start_time": "2024-10-17T19:23:25.182Z"
   },
   {
    "duration": 323,
    "start_time": "2024-10-17T19:23:25.368Z"
   },
   {
    "duration": 200,
    "start_time": "2024-10-17T19:23:25.692Z"
   },
   {
    "duration": 215,
    "start_time": "2024-10-17T19:23:25.894Z"
   },
   {
    "duration": 198,
    "start_time": "2024-10-17T19:23:26.111Z"
   },
   {
    "duration": 828,
    "start_time": "2024-10-17T20:12:32.057Z"
   },
   {
    "duration": 35,
    "start_time": "2024-10-17T20:12:32.887Z"
   },
   {
    "duration": 2728,
    "start_time": "2024-10-17T20:12:32.924Z"
   },
   {
    "duration": 10,
    "start_time": "2024-10-17T20:12:35.655Z"
   },
   {
    "duration": 110,
    "start_time": "2024-10-17T20:12:35.666Z"
   },
   {
    "duration": 20,
    "start_time": "2024-10-17T20:12:35.778Z"
   },
   {
    "duration": 56,
    "start_time": "2024-10-17T20:12:35.800Z"
   },
   {
    "duration": 62,
    "start_time": "2024-10-17T20:12:35.858Z"
   },
   {
    "duration": 6,
    "start_time": "2024-10-17T20:12:35.921Z"
   },
   {
    "duration": 18,
    "start_time": "2024-10-17T20:12:35.929Z"
   },
   {
    "duration": 217,
    "start_time": "2024-10-17T20:12:35.948Z"
   },
   {
    "duration": 6,
    "start_time": "2024-10-17T20:12:36.167Z"
   },
   {
    "duration": 335,
    "start_time": "2024-10-17T20:12:36.174Z"
   },
   {
    "duration": 4,
    "start_time": "2024-10-17T20:12:36.510Z"
   },
   {
    "duration": 198,
    "start_time": "2024-10-17T20:12:36.515Z"
   },
   {
    "duration": 10,
    "start_time": "2024-10-17T20:12:36.714Z"
   },
   {
    "duration": 229,
    "start_time": "2024-10-17T20:12:36.726Z"
   },
   {
    "duration": 207,
    "start_time": "2024-10-17T20:12:36.956Z"
   },
   {
    "duration": 192,
    "start_time": "2024-10-17T20:12:37.165Z"
   },
   {
    "duration": 212,
    "start_time": "2024-10-17T20:12:37.358Z"
   },
   {
    "duration": 293,
    "start_time": "2024-10-17T20:12:37.576Z"
   },
   {
    "duration": 190,
    "start_time": "2024-10-17T20:12:37.876Z"
   },
   {
    "duration": 234,
    "start_time": "2024-10-17T20:12:38.068Z"
   },
   {
    "duration": 212,
    "start_time": "2024-10-17T20:12:38.304Z"
   },
   {
    "duration": 197,
    "start_time": "2024-10-17T20:12:38.517Z"
   },
   {
    "duration": 214,
    "start_time": "2024-10-17T20:12:38.716Z"
   },
   {
    "duration": 184,
    "start_time": "2024-10-17T20:12:38.932Z"
   },
   {
    "duration": 191,
    "start_time": "2024-10-17T20:12:39.120Z"
   },
   {
    "duration": 202,
    "start_time": "2024-10-17T20:12:39.313Z"
   },
   {
    "duration": 332,
    "start_time": "2024-10-17T20:12:39.517Z"
   },
   {
    "duration": 211,
    "start_time": "2024-10-17T20:12:39.851Z"
   },
   {
    "duration": 199,
    "start_time": "2024-10-17T20:12:40.064Z"
   },
   {
    "duration": 205,
    "start_time": "2024-10-17T20:12:40.265Z"
   },
   {
    "duration": 189,
    "start_time": "2024-10-17T20:13:52.012Z"
   },
   {
    "duration": 256,
    "start_time": "2024-10-17T20:14:22.166Z"
   },
   {
    "duration": 640,
    "start_time": "2024-10-17T20:14:30.687Z"
   },
   {
    "duration": 422,
    "start_time": "2024-10-17T20:14:35.618Z"
   },
   {
    "duration": 246,
    "start_time": "2024-10-17T20:14:44.497Z"
   },
   {
    "duration": 315,
    "start_time": "2024-10-17T20:14:52.551Z"
   },
   {
    "duration": 3,
    "start_time": "2024-10-17T20:15:42.319Z"
   },
   {
    "duration": 4,
    "start_time": "2024-10-17T20:16:45.396Z"
   },
   {
    "duration": 4,
    "start_time": "2024-10-17T20:17:35.451Z"
   },
   {
    "duration": 790,
    "start_time": "2024-10-17T20:21:18.259Z"
   },
   {
    "duration": 39,
    "start_time": "2024-10-17T20:21:19.052Z"
   },
   {
    "duration": 2755,
    "start_time": "2024-10-17T20:21:19.129Z"
   },
   {
    "duration": 11,
    "start_time": "2024-10-17T20:21:21.887Z"
   },
   {
    "duration": 102,
    "start_time": "2024-10-17T20:21:21.899Z"
   },
   {
    "duration": 10,
    "start_time": "2024-10-17T20:21:22.003Z"
   },
   {
    "duration": 6,
    "start_time": "2024-10-17T20:21:24.096Z"
   },
   {
    "duration": 37,
    "start_time": "2024-10-17T20:21:25.136Z"
   },
   {
    "duration": 6,
    "start_time": "2024-10-17T20:21:25.931Z"
   },
   {
    "duration": 7,
    "start_time": "2024-10-17T20:21:28.077Z"
   },
   {
    "duration": 219,
    "start_time": "2024-10-17T20:21:28.772Z"
   },
   {
    "duration": 6,
    "start_time": "2024-10-17T20:21:29.390Z"
   },
   {
    "duration": 325,
    "start_time": "2024-10-17T20:21:31.540Z"
   },
   {
    "duration": 4,
    "start_time": "2024-10-17T20:21:37.352Z"
   },
   {
    "duration": 757,
    "start_time": "2024-10-17T20:24:14.702Z"
   },
   {
    "duration": 38,
    "start_time": "2024-10-17T20:24:15.462Z"
   },
   {
    "duration": 2643,
    "start_time": "2024-10-17T20:24:15.502Z"
   },
   {
    "duration": 10,
    "start_time": "2024-10-17T20:24:18.147Z"
   },
   {
    "duration": 126,
    "start_time": "2024-10-17T20:24:18.158Z"
   },
   {
    "duration": 9,
    "start_time": "2024-10-17T20:24:18.285Z"
   },
   {
    "duration": 6,
    "start_time": "2024-10-17T20:24:18.295Z"
   },
   {
    "duration": 38,
    "start_time": "2024-10-17T20:24:18.302Z"
   },
   {
    "duration": 5,
    "start_time": "2024-10-17T20:24:18.341Z"
   },
   {
    "duration": 29,
    "start_time": "2024-10-17T20:24:18.349Z"
   },
   {
    "duration": 234,
    "start_time": "2024-10-17T20:24:18.380Z"
   },
   {
    "duration": 6,
    "start_time": "2024-10-17T20:24:18.616Z"
   },
   {
    "duration": 393,
    "start_time": "2024-10-17T20:24:18.623Z"
   },
   {
    "duration": 4,
    "start_time": "2024-10-17T20:24:19.017Z"
   },
   {
    "duration": 185,
    "start_time": "2024-10-17T20:24:19.022Z"
   },
   {
    "duration": 10,
    "start_time": "2024-10-17T20:24:19.208Z"
   },
   {
    "duration": 4,
    "start_time": "2024-10-17T20:24:19.219Z"
   },
   {
    "duration": 228,
    "start_time": "2024-10-17T20:24:19.224Z"
   },
   {
    "duration": 203,
    "start_time": "2024-10-17T20:24:19.454Z"
   },
   {
    "duration": 3,
    "start_time": "2024-10-17T20:24:19.659Z"
   },
   {
    "duration": 192,
    "start_time": "2024-10-17T20:24:19.664Z"
   },
   {
    "duration": 210,
    "start_time": "2024-10-17T20:24:19.857Z"
   },
   {
    "duration": 7,
    "start_time": "2024-10-17T20:24:20.069Z"
   },
   {
    "duration": 305,
    "start_time": "2024-10-17T20:24:20.078Z"
   },
   {
    "duration": 197,
    "start_time": "2024-10-17T20:24:20.385Z"
   },
   {
    "duration": 5,
    "start_time": "2024-10-17T20:24:20.584Z"
   },
   {
    "duration": 243,
    "start_time": "2024-10-17T20:24:20.590Z"
   },
   {
    "duration": 206,
    "start_time": "2024-10-17T20:24:20.836Z"
   },
   {
    "duration": 3,
    "start_time": "2024-10-17T20:24:21.044Z"
   },
   {
    "duration": 196,
    "start_time": "2024-10-17T20:24:21.048Z"
   },
   {
    "duration": 205,
    "start_time": "2024-10-17T20:24:21.246Z"
   },
   {
    "duration": 4,
    "start_time": "2024-10-17T20:24:21.453Z"
   },
   {
    "duration": 189,
    "start_time": "2024-10-17T20:24:21.458Z"
   },
   {
    "duration": 197,
    "start_time": "2024-10-17T20:24:21.649Z"
   },
   {
    "duration": 187,
    "start_time": "2024-10-17T20:24:21.847Z"
   },
   {
    "duration": 4,
    "start_time": "2024-10-17T20:24:22.035Z"
   },
   {
    "duration": 327,
    "start_time": "2024-10-17T20:24:22.040Z"
   },
   {
    "duration": 222,
    "start_time": "2024-10-17T20:24:22.369Z"
   },
   {
    "duration": 3,
    "start_time": "2024-10-17T20:24:22.593Z"
   },
   {
    "duration": 207,
    "start_time": "2024-10-17T20:24:22.597Z"
   },
   {
    "duration": 195,
    "start_time": "2024-10-17T20:24:22.806Z"
   },
   {
    "duration": 3,
    "start_time": "2024-10-17T20:24:23.003Z"
   },
   {
    "duration": 324,
    "start_time": "2024-10-17T20:24:23.008Z"
   },
   {
    "duration": 4,
    "start_time": "2024-10-17T20:24:23.334Z"
   },
   {
    "duration": 809,
    "start_time": "2024-10-17T20:26:19.958Z"
   },
   {
    "duration": 35,
    "start_time": "2024-10-17T20:26:20.769Z"
   },
   {
    "duration": 2762,
    "start_time": "2024-10-17T20:26:20.806Z"
   },
   {
    "duration": 10,
    "start_time": "2024-10-17T20:26:23.571Z"
   },
   {
    "duration": 114,
    "start_time": "2024-10-17T20:26:23.583Z"
   },
   {
    "duration": 9,
    "start_time": "2024-10-17T20:26:23.698Z"
   },
   {
    "duration": 5,
    "start_time": "2024-10-17T20:26:23.708Z"
   },
   {
    "duration": 37,
    "start_time": "2024-10-17T20:26:23.715Z"
   },
   {
    "duration": 6,
    "start_time": "2024-10-17T20:26:23.775Z"
   },
   {
    "duration": 6,
    "start_time": "2024-10-17T20:26:23.783Z"
   },
   {
    "duration": 241,
    "start_time": "2024-10-17T20:26:23.791Z"
   },
   {
    "duration": 7,
    "start_time": "2024-10-17T20:26:24.034Z"
   },
   {
    "duration": 350,
    "start_time": "2024-10-17T20:26:24.043Z"
   },
   {
    "duration": 4,
    "start_time": "2024-10-17T20:26:24.394Z"
   },
   {
    "duration": 178,
    "start_time": "2024-10-17T20:26:28.489Z"
   },
   {
    "duration": 11,
    "start_time": "2024-10-17T20:26:33.628Z"
   },
   {
    "duration": 5,
    "start_time": "2024-10-17T20:26:34.827Z"
   },
   {
    "duration": 208,
    "start_time": "2024-10-17T20:26:39.220Z"
   },
   {
    "duration": 202,
    "start_time": "2024-10-17T20:26:43.538Z"
   },
   {
    "duration": 4,
    "start_time": "2024-10-17T20:26:47.231Z"
   },
   {
    "duration": 177,
    "start_time": "2024-10-17T20:26:52.840Z"
   },
   {
    "duration": 206,
    "start_time": "2024-10-17T20:26:56.331Z"
   },
   {
    "duration": 6,
    "start_time": "2024-10-17T20:26:58.196Z"
   },
   {
    "duration": 4,
    "start_time": "2024-10-17T20:41:24.928Z"
   },
   {
    "duration": 291,
    "start_time": "2024-10-17T20:41:29.158Z"
   },
   {
    "duration": 187,
    "start_time": "2024-10-17T20:41:33.450Z"
   },
   {
    "duration": 4,
    "start_time": "2024-10-17T20:41:34.936Z"
   },
   {
    "duration": 201,
    "start_time": "2024-10-17T20:41:46.164Z"
   },
   {
    "duration": 198,
    "start_time": "2024-10-17T20:41:49.378Z"
   },
   {
    "duration": 4,
    "start_time": "2024-10-17T20:41:51.043Z"
   },
   {
    "duration": 192,
    "start_time": "2024-10-17T20:42:29.221Z"
   },
   {
    "duration": 9,
    "start_time": "2024-10-17T20:43:21.484Z"
   },
   {
    "duration": 198,
    "start_time": "2024-10-17T20:44:18.869Z"
   },
   {
    "duration": 192,
    "start_time": "2024-10-17T20:45:12.106Z"
   },
   {
    "duration": 188,
    "start_time": "2024-10-17T20:45:40.238Z"
   },
   {
    "duration": 198,
    "start_time": "2024-10-17T20:46:54.368Z"
   },
   {
    "duration": 327,
    "start_time": "2024-10-17T20:47:00.855Z"
   },
   {
    "duration": 4,
    "start_time": "2024-10-17T20:47:02.794Z"
   },
   {
    "duration": 5,
    "start_time": "2024-10-17T20:51:29.092Z"
   },
   {
    "duration": 189,
    "start_time": "2024-10-17T20:51:39.995Z"
   },
   {
    "duration": 73,
    "start_time": "2024-10-17T21:02:46.231Z"
   },
   {
    "duration": 10,
    "start_time": "2024-10-17T21:02:54.225Z"
   },
   {
    "duration": 9,
    "start_time": "2024-10-17T21:03:28.854Z"
   },
   {
    "duration": 10,
    "start_time": "2024-10-17T21:04:15.392Z"
   },
   {
    "duration": 190,
    "start_time": "2024-10-17T21:04:28.702Z"
   },
   {
    "duration": 196,
    "start_time": "2024-10-17T21:05:31.473Z"
   },
   {
    "duration": 190,
    "start_time": "2024-10-17T21:06:30.076Z"
   },
   {
    "duration": 4,
    "start_time": "2024-10-17T21:06:35.420Z"
   },
   {
    "duration": 256,
    "start_time": "2024-10-17T21:08:13.349Z"
   },
   {
    "duration": 231,
    "start_time": "2024-10-17T21:08:19.241Z"
   },
   {
    "duration": 11,
    "start_time": "2024-10-17T21:09:20.186Z"
   },
   {
    "duration": 199,
    "start_time": "2024-10-17T21:09:31.548Z"
   },
   {
    "duration": 10,
    "start_time": "2024-10-17T21:10:12.002Z"
   },
   {
    "duration": 201,
    "start_time": "2024-10-17T21:11:39.153Z"
   },
   {
    "duration": 185,
    "start_time": "2024-10-17T21:11:41.223Z"
   },
   {
    "duration": 189,
    "start_time": "2024-10-17T21:11:43.638Z"
   },
   {
    "duration": 4,
    "start_time": "2024-10-17T21:11:47.522Z"
   },
   {
    "duration": 791,
    "start_time": "2024-10-17T21:15:43.971Z"
   },
   {
    "duration": 36,
    "start_time": "2024-10-17T21:15:44.764Z"
   },
   {
    "duration": 2714,
    "start_time": "2024-10-17T21:15:44.802Z"
   },
   {
    "duration": 12,
    "start_time": "2024-10-17T21:15:47.519Z"
   },
   {
    "duration": 101,
    "start_time": "2024-10-17T21:15:47.533Z"
   },
   {
    "duration": 20,
    "start_time": "2024-10-17T21:15:47.635Z"
   },
   {
    "duration": 5,
    "start_time": "2024-10-17T21:15:47.656Z"
   },
   {
    "duration": 47,
    "start_time": "2024-10-17T21:15:47.663Z"
   },
   {
    "duration": 5,
    "start_time": "2024-10-17T21:15:47.712Z"
   },
   {
    "duration": 22,
    "start_time": "2024-10-17T21:15:47.719Z"
   },
   {
    "duration": 219,
    "start_time": "2024-10-17T21:15:47.742Z"
   },
   {
    "duration": 6,
    "start_time": "2024-10-17T21:15:47.963Z"
   },
   {
    "duration": 330,
    "start_time": "2024-10-17T21:15:48.360Z"
   },
   {
    "duration": 3,
    "start_time": "2024-10-17T21:15:50.754Z"
   },
   {
    "duration": 178,
    "start_time": "2024-10-17T21:15:51.489Z"
   },
   {
    "duration": 13,
    "start_time": "2024-10-17T21:15:51.670Z"
   },
   {
    "duration": 4,
    "start_time": "2024-10-17T21:15:52.389Z"
   },
   {
    "duration": 216,
    "start_time": "2024-10-17T21:15:54.576Z"
   },
   {
    "duration": 210,
    "start_time": "2024-10-17T21:15:54.794Z"
   },
   {
    "duration": 4,
    "start_time": "2024-10-17T21:15:55.731Z"
   },
   {
    "duration": 179,
    "start_time": "2024-10-17T21:15:56.565Z"
   },
   {
    "duration": 213,
    "start_time": "2024-10-17T21:15:56.746Z"
   },
   {
    "duration": 3,
    "start_time": "2024-10-17T21:15:56.985Z"
   },
   {
    "duration": 280,
    "start_time": "2024-10-17T21:15:57.271Z"
   },
   {
    "duration": 193,
    "start_time": "2024-10-17T21:15:57.552Z"
   },
   {
    "duration": 4,
    "start_time": "2024-10-17T21:15:58.506Z"
   },
   {
    "duration": 191,
    "start_time": "2024-10-17T21:15:59.559Z"
   },
   {
    "duration": 208,
    "start_time": "2024-10-17T21:15:59.752Z"
   },
   {
    "duration": 4,
    "start_time": "2024-10-17T21:16:05.490Z"
   },
   {
    "duration": 184,
    "start_time": "2024-10-17T21:16:06.550Z"
   },
   {
    "duration": 202,
    "start_time": "2024-10-17T21:16:10.497Z"
   },
   {
    "duration": 4,
    "start_time": "2024-10-17T21:16:15.152Z"
   },
   {
    "duration": 181,
    "start_time": "2024-10-17T21:16:22.156Z"
   },
   {
    "duration": 187,
    "start_time": "2024-10-17T21:16:24.054Z"
   },
   {
    "duration": 184,
    "start_time": "2024-10-17T21:16:29.817Z"
   },
   {
    "duration": 4,
    "start_time": "2024-10-17T21:16:31.995Z"
   },
   {
    "duration": 301,
    "start_time": "2024-10-17T21:21:09.743Z"
   },
   {
    "duration": 195,
    "start_time": "2024-10-17T21:21:23.483Z"
   },
   {
    "duration": 255,
    "start_time": "2024-10-17T21:21:45.038Z"
   },
   {
    "duration": 265,
    "start_time": "2024-10-17T21:23:07.210Z"
   },
   {
    "duration": 189,
    "start_time": "2024-10-17T21:23:36.295Z"
   },
   {
    "duration": 206,
    "start_time": "2024-10-17T21:23:37.641Z"
   },
   {
    "duration": 197,
    "start_time": "2024-10-17T21:23:39.469Z"
   },
   {
    "duration": 4,
    "start_time": "2024-10-17T21:23:40.976Z"
   },
   {
    "duration": 773,
    "start_time": "2024-10-17T21:27:34.949Z"
   },
   {
    "duration": 31,
    "start_time": "2024-10-17T21:27:35.724Z"
   },
   {
    "duration": 2745,
    "start_time": "2024-10-17T21:27:35.756Z"
   },
   {
    "duration": 10,
    "start_time": "2024-10-17T21:27:38.503Z"
   },
   {
    "duration": 92,
    "start_time": "2024-10-17T21:27:38.515Z"
   },
   {
    "duration": 34,
    "start_time": "2024-10-17T21:27:38.608Z"
   },
   {
    "duration": 6,
    "start_time": "2024-10-17T21:27:38.643Z"
   },
   {
    "duration": 86,
    "start_time": "2024-10-17T21:27:38.650Z"
   },
   {
    "duration": 5,
    "start_time": "2024-10-17T21:27:38.737Z"
   },
   {
    "duration": 11,
    "start_time": "2024-10-17T21:27:38.745Z"
   },
   {
    "duration": 212,
    "start_time": "2024-10-17T21:27:38.758Z"
   },
   {
    "duration": 6,
    "start_time": "2024-10-17T21:27:38.972Z"
   },
   {
    "duration": 343,
    "start_time": "2024-10-17T21:27:38.980Z"
   },
   {
    "duration": 3,
    "start_time": "2024-10-17T21:27:39.325Z"
   },
   {
    "duration": 194,
    "start_time": "2024-10-17T21:27:39.330Z"
   },
   {
    "duration": 9,
    "start_time": "2024-10-17T21:27:39.526Z"
   },
   {
    "duration": 3,
    "start_time": "2024-10-17T21:27:39.537Z"
   },
   {
    "duration": 236,
    "start_time": "2024-10-17T21:27:39.542Z"
   },
   {
    "duration": 209,
    "start_time": "2024-10-17T21:27:39.780Z"
   },
   {
    "duration": 4,
    "start_time": "2024-10-17T21:27:39.990Z"
   },
   {
    "duration": 198,
    "start_time": "2024-10-17T21:27:41.030Z"
   },
   {
    "duration": 215,
    "start_time": "2024-10-17T21:27:42.169Z"
   },
   {
    "duration": 4,
    "start_time": "2024-10-17T21:27:45.518Z"
   },
   {
    "duration": 277,
    "start_time": "2024-10-17T21:27:46.852Z"
   },
   {
    "duration": 201,
    "start_time": "2024-10-17T21:27:47.131Z"
   },
   {
    "duration": 4,
    "start_time": "2024-10-17T21:27:47.352Z"
   },
   {
    "duration": 201,
    "start_time": "2024-10-17T21:27:47.651Z"
   },
   {
    "duration": 216,
    "start_time": "2024-10-17T21:27:47.854Z"
   },
   {
    "duration": 4,
    "start_time": "2024-10-17T21:27:48.357Z"
   },
   {
    "duration": 195,
    "start_time": "2024-10-17T21:27:51.934Z"
   },
   {
    "duration": 193,
    "start_time": "2024-10-17T21:27:52.713Z"
   },
   {
    "duration": 4,
    "start_time": "2024-10-17T21:27:55.909Z"
   },
   {
    "duration": 181,
    "start_time": "2024-10-17T21:28:00.709Z"
   },
   {
    "duration": 189,
    "start_time": "2024-10-17T21:28:02.000Z"
   },
   {
    "duration": 189,
    "start_time": "2024-10-17T21:28:04.302Z"
   },
   {
    "duration": 4,
    "start_time": "2024-10-17T21:28:10.275Z"
   },
   {
    "duration": 302,
    "start_time": "2024-10-17T21:30:01.020Z"
   },
   {
    "duration": 196,
    "start_time": "2024-10-17T21:30:04.935Z"
   },
   {
    "duration": 193,
    "start_time": "2024-10-17T21:30:06.564Z"
   },
   {
    "duration": 4,
    "start_time": "2024-10-17T21:30:08.038Z"
   },
   {
    "duration": 201,
    "start_time": "2024-10-17T21:33:55.329Z"
   },
   {
    "duration": 184,
    "start_time": "2024-10-17T21:33:59.624Z"
   },
   {
    "duration": 4,
    "start_time": "2024-10-17T21:34:02.500Z"
   },
   {
    "duration": 5,
    "start_time": "2024-10-17T21:36:12.418Z"
   },
   {
    "duration": 4,
    "start_time": "2024-10-17T21:36:41.669Z"
   },
   {
    "duration": 4,
    "start_time": "2024-10-17T21:37:47.253Z"
   },
   {
    "duration": 807,
    "start_time": "2024-10-17T21:42:17.155Z"
   },
   {
    "duration": 41,
    "start_time": "2024-10-17T21:42:17.964Z"
   },
   {
    "duration": 2849,
    "start_time": "2024-10-17T21:42:18.007Z"
   },
   {
    "duration": 10,
    "start_time": "2024-10-17T21:42:20.858Z"
   },
   {
    "duration": 108,
    "start_time": "2024-10-17T21:42:20.870Z"
   },
   {
    "duration": 21,
    "start_time": "2024-10-17T21:42:20.980Z"
   },
   {
    "duration": 6,
    "start_time": "2024-10-17T21:42:21.003Z"
   },
   {
    "duration": 46,
    "start_time": "2024-10-17T21:42:21.010Z"
   },
   {
    "duration": 5,
    "start_time": "2024-10-17T21:42:21.058Z"
   },
   {
    "duration": 21,
    "start_time": "2024-10-17T21:42:21.066Z"
   },
   {
    "duration": 219,
    "start_time": "2024-10-17T21:42:21.089Z"
   },
   {
    "duration": 7,
    "start_time": "2024-10-17T21:42:21.310Z"
   },
   {
    "duration": 340,
    "start_time": "2024-10-17T21:42:21.318Z"
   },
   {
    "duration": 16,
    "start_time": "2024-10-17T21:42:21.660Z"
   },
   {
    "duration": 254,
    "start_time": "2024-10-17T21:42:21.678Z"
   },
   {
    "duration": 10,
    "start_time": "2024-10-17T21:42:21.934Z"
   },
   {
    "duration": 24,
    "start_time": "2024-10-17T21:42:21.946Z"
   },
   {
    "duration": 239,
    "start_time": "2024-10-17T21:42:21.972Z"
   },
   {
    "duration": 208,
    "start_time": "2024-10-17T21:42:22.213Z"
   },
   {
    "duration": 4,
    "start_time": "2024-10-17T21:42:22.423Z"
   },
   {
    "duration": 192,
    "start_time": "2024-10-17T21:42:22.429Z"
   },
   {
    "duration": 215,
    "start_time": "2024-10-17T21:42:22.623Z"
   },
   {
    "duration": 4,
    "start_time": "2024-10-17T21:42:22.840Z"
   },
   {
    "duration": 305,
    "start_time": "2024-10-17T21:42:22.847Z"
   },
   {
    "duration": 198,
    "start_time": "2024-10-17T21:42:23.153Z"
   },
   {
    "duration": 4,
    "start_time": "2024-10-17T21:42:23.352Z"
   },
   {
    "duration": 220,
    "start_time": "2024-10-17T21:42:23.358Z"
   },
   {
    "duration": 217,
    "start_time": "2024-10-17T21:42:23.582Z"
   },
   {
    "duration": 3,
    "start_time": "2024-10-17T21:42:23.801Z"
   },
   {
    "duration": 211,
    "start_time": "2024-10-17T21:42:23.806Z"
   },
   {
    "duration": 209,
    "start_time": "2024-10-17T21:42:24.019Z"
   },
   {
    "duration": 4,
    "start_time": "2024-10-17T21:42:24.229Z"
   },
   {
    "duration": 195,
    "start_time": "2024-10-17T21:42:24.234Z"
   },
   {
    "duration": 202,
    "start_time": "2024-10-17T21:42:24.431Z"
   },
   {
    "duration": 207,
    "start_time": "2024-10-17T21:42:24.635Z"
   },
   {
    "duration": 4,
    "start_time": "2024-10-17T21:42:24.843Z"
   },
   {
    "duration": 336,
    "start_time": "2024-10-17T21:42:24.849Z"
   },
   {
    "duration": 196,
    "start_time": "2024-10-17T21:42:25.187Z"
   },
   {
    "duration": 4,
    "start_time": "2024-10-17T21:42:25.385Z"
   },
   {
    "duration": 212,
    "start_time": "2024-10-17T21:42:25.390Z"
   },
   {
    "duration": 188,
    "start_time": "2024-10-17T21:42:25.604Z"
   },
   {
    "duration": 3,
    "start_time": "2024-10-17T21:42:25.794Z"
   },
   {
    "duration": 4,
    "start_time": "2024-10-17T21:42:25.798Z"
   },
   {
    "duration": 349,
    "start_time": "2024-10-17T21:42:25.803Z"
   },
   {
    "duration": 3,
    "start_time": "2024-10-17T21:42:26.154Z"
   },
   {
    "duration": 1015,
    "start_time": "2024-10-18T18:04:07.363Z"
   },
   {
    "duration": 36,
    "start_time": "2024-10-18T18:04:08.381Z"
   },
   {
    "duration": 2677,
    "start_time": "2024-10-18T18:04:08.418Z"
   },
   {
    "duration": 11,
    "start_time": "2024-10-18T18:04:11.098Z"
   },
   {
    "duration": 102,
    "start_time": "2024-10-18T18:04:11.111Z"
   },
   {
    "duration": 9,
    "start_time": "2024-10-18T18:04:11.221Z"
   },
   {
    "duration": 12,
    "start_time": "2024-10-18T18:04:11.231Z"
   },
   {
    "duration": 42,
    "start_time": "2024-10-18T18:04:11.245Z"
   },
   {
    "duration": 5,
    "start_time": "2024-10-18T18:04:11.288Z"
   },
   {
    "duration": 29,
    "start_time": "2024-10-18T18:04:11.296Z"
   },
   {
    "duration": 266,
    "start_time": "2024-10-18T18:04:11.326Z"
   },
   {
    "duration": 6,
    "start_time": "2024-10-18T18:04:11.594Z"
   },
   {
    "duration": 350,
    "start_time": "2024-10-18T18:04:11.601Z"
   },
   {
    "duration": 4,
    "start_time": "2024-10-18T18:04:11.953Z"
   },
   {
    "duration": 203,
    "start_time": "2024-10-18T18:04:11.958Z"
   },
   {
    "duration": 11,
    "start_time": "2024-10-18T18:04:12.163Z"
   },
   {
    "duration": 4,
    "start_time": "2024-10-18T18:04:12.176Z"
   },
   {
    "duration": 230,
    "start_time": "2024-10-18T18:04:12.182Z"
   },
   {
    "duration": 245,
    "start_time": "2024-10-18T18:04:12.415Z"
   },
   {
    "duration": 4,
    "start_time": "2024-10-18T18:04:12.662Z"
   },
   {
    "duration": 238,
    "start_time": "2024-10-18T18:04:12.668Z"
   },
   {
    "duration": 204,
    "start_time": "2024-10-18T18:04:12.907Z"
   },
   {
    "duration": 9,
    "start_time": "2024-10-18T18:04:13.112Z"
   },
   {
    "duration": 300,
    "start_time": "2024-10-18T18:04:13.123Z"
   },
   {
    "duration": 202,
    "start_time": "2024-10-18T18:04:13.424Z"
   },
   {
    "duration": 4,
    "start_time": "2024-10-18T18:04:13.627Z"
   },
   {
    "duration": 221,
    "start_time": "2024-10-18T18:04:13.633Z"
   },
   {
    "duration": 207,
    "start_time": "2024-10-18T18:04:13.857Z"
   },
   {
    "duration": 4,
    "start_time": "2024-10-18T18:04:14.066Z"
   },
   {
    "duration": 207,
    "start_time": "2024-10-18T18:04:14.072Z"
   },
   {
    "duration": 207,
    "start_time": "2024-10-18T18:04:14.281Z"
   },
   {
    "duration": 5,
    "start_time": "2024-10-18T18:04:14.490Z"
   },
   {
    "duration": 211,
    "start_time": "2024-10-18T18:04:14.497Z"
   },
   {
    "duration": 211,
    "start_time": "2024-10-18T18:04:14.710Z"
   },
   {
    "duration": 241,
    "start_time": "2024-10-18T18:04:14.923Z"
   },
   {
    "duration": 4,
    "start_time": "2024-10-18T18:04:15.167Z"
   },
   {
    "duration": 401,
    "start_time": "2024-10-18T18:04:15.173Z"
   },
   {
    "duration": 231,
    "start_time": "2024-10-18T18:04:15.576Z"
   },
   {
    "duration": 12,
    "start_time": "2024-10-18T18:04:15.809Z"
   },
   {
    "duration": 212,
    "start_time": "2024-10-18T18:04:15.823Z"
   },
   {
    "duration": 188,
    "start_time": "2024-10-18T18:04:16.037Z"
   },
   {
    "duration": 4,
    "start_time": "2024-10-18T18:04:16.226Z"
   },
   {
    "duration": 21,
    "start_time": "2024-10-18T18:04:16.231Z"
   },
   {
    "duration": 336,
    "start_time": "2024-10-18T18:04:16.253Z"
   },
   {
    "duration": 855,
    "start_time": "2024-10-20T12:27:18.359Z"
   },
   {
    "duration": 27,
    "start_time": "2024-10-20T12:27:19.215Z"
   },
   {
    "duration": 2114,
    "start_time": "2024-10-20T12:27:19.244Z"
   },
   {
    "duration": 8,
    "start_time": "2024-10-20T12:27:21.360Z"
   },
   {
    "duration": 68,
    "start_time": "2024-10-20T12:27:21.369Z"
   },
   {
    "duration": 7,
    "start_time": "2024-10-20T12:27:21.438Z"
   },
   {
    "duration": 7,
    "start_time": "2024-10-20T12:27:21.446Z"
   },
   {
    "duration": 34,
    "start_time": "2024-10-20T12:27:21.454Z"
   },
   {
    "duration": 24,
    "start_time": "2024-10-20T12:27:21.489Z"
   },
   {
    "duration": 9,
    "start_time": "2024-10-20T12:27:21.515Z"
   },
   {
    "duration": 186,
    "start_time": "2024-10-20T12:27:21.526Z"
   },
   {
    "duration": 5,
    "start_time": "2024-10-20T12:27:21.714Z"
   },
   {
    "duration": 297,
    "start_time": "2024-10-20T12:27:21.720Z"
   },
   {
    "duration": 4,
    "start_time": "2024-10-20T12:27:22.018Z"
   },
   {
    "duration": 167,
    "start_time": "2024-10-20T12:27:22.024Z"
   },
   {
    "duration": 9,
    "start_time": "2024-10-20T12:27:22.193Z"
   },
   {
    "duration": 10,
    "start_time": "2024-10-20T12:27:22.203Z"
   },
   {
    "duration": 180,
    "start_time": "2024-10-20T12:27:22.215Z"
   },
   {
    "duration": 167,
    "start_time": "2024-10-20T12:27:22.396Z"
   },
   {
    "duration": 3,
    "start_time": "2024-10-20T12:27:22.565Z"
   },
   {
    "duration": 144,
    "start_time": "2024-10-20T12:27:22.569Z"
   },
   {
    "duration": 158,
    "start_time": "2024-10-20T12:27:22.715Z"
   },
   {
    "duration": 4,
    "start_time": "2024-10-20T12:27:22.874Z"
   },
   {
    "duration": 228,
    "start_time": "2024-10-20T12:27:22.880Z"
   },
   {
    "duration": 160,
    "start_time": "2024-10-20T12:27:23.111Z"
   },
   {
    "duration": 3,
    "start_time": "2024-10-20T12:27:23.273Z"
   },
   {
    "duration": 186,
    "start_time": "2024-10-20T12:27:23.277Z"
   },
   {
    "duration": 168,
    "start_time": "2024-10-20T12:27:23.466Z"
   },
   {
    "duration": 3,
    "start_time": "2024-10-20T12:27:23.636Z"
   },
   {
    "duration": 161,
    "start_time": "2024-10-20T12:27:23.641Z"
   },
   {
    "duration": 163,
    "start_time": "2024-10-20T12:27:23.804Z"
   },
   {
    "duration": 4,
    "start_time": "2024-10-20T12:27:23.969Z"
   },
   {
    "duration": 158,
    "start_time": "2024-10-20T12:27:23.975Z"
   },
   {
    "duration": 160,
    "start_time": "2024-10-20T12:27:24.134Z"
   },
   {
    "duration": 152,
    "start_time": "2024-10-20T12:27:24.295Z"
   },
   {
    "duration": 4,
    "start_time": "2024-10-20T12:27:24.448Z"
   },
   {
    "duration": 249,
    "start_time": "2024-10-20T12:27:24.453Z"
   },
   {
    "duration": 165,
    "start_time": "2024-10-20T12:27:24.703Z"
   },
   {
    "duration": 4,
    "start_time": "2024-10-20T12:27:24.869Z"
   },
   {
    "duration": 170,
    "start_time": "2024-10-20T12:27:24.874Z"
   },
   {
    "duration": 153,
    "start_time": "2024-10-20T12:27:25.046Z"
   },
   {
    "duration": 3,
    "start_time": "2024-10-20T12:27:25.201Z"
   },
   {
    "duration": 3,
    "start_time": "2024-10-20T12:27:25.212Z"
   },
   {
    "duration": 266,
    "start_time": "2024-10-20T12:27:25.216Z"
   },
   {
    "duration": 19,
    "start_time": "2024-10-20T12:30:16.028Z"
   },
   {
    "duration": 146,
    "start_time": "2024-10-20T12:31:06.784Z"
   },
   {
    "duration": 19,
    "start_time": "2024-10-20T12:38:29.862Z"
   },
   {
    "duration": 12,
    "start_time": "2024-10-20T12:38:37.262Z"
   },
   {
    "duration": 6,
    "start_time": "2024-10-20T12:39:19.583Z"
   },
   {
    "duration": 148,
    "start_time": "2024-10-20T12:46:22.372Z"
   },
   {
    "duration": 6,
    "start_time": "2024-10-20T12:53:24.393Z"
   },
   {
    "duration": 58,
    "start_time": "2024-10-20T12:53:33.168Z"
   },
   {
    "duration": 50,
    "start_time": "2024-10-20T12:53:38.352Z"
   },
   {
    "duration": 5,
    "start_time": "2024-10-20T12:53:42.734Z"
   },
   {
    "duration": 74,
    "start_time": "2024-10-20T12:56:40.096Z"
   },
   {
    "duration": 153,
    "start_time": "2024-10-20T12:56:56.006Z"
   },
   {
    "duration": 176,
    "start_time": "2024-10-20T12:57:00.005Z"
   },
   {
    "duration": 245,
    "start_time": "2024-10-20T12:57:04.546Z"
   },
   {
    "duration": 192,
    "start_time": "2024-10-20T12:57:10.640Z"
   },
   {
    "duration": 196,
    "start_time": "2024-10-20T12:57:16.984Z"
   },
   {
    "duration": 165,
    "start_time": "2024-10-20T12:57:22.826Z"
   },
   {
    "duration": 5,
    "start_time": "2024-10-20T12:57:30.158Z"
   },
   {
    "duration": 191,
    "start_time": "2024-10-20T12:59:51.827Z"
   },
   {
    "duration": 190,
    "start_time": "2024-10-20T12:59:58.790Z"
   },
   {
    "duration": 166,
    "start_time": "2024-10-20T13:00:02.561Z"
   },
   {
    "duration": 222,
    "start_time": "2024-10-20T13:00:10.728Z"
   },
   {
    "duration": 224,
    "start_time": "2024-10-20T13:01:17.016Z"
   },
   {
    "duration": 183,
    "start_time": "2024-10-20T13:01:32.327Z"
   },
   {
    "duration": 149,
    "start_time": "2024-10-20T13:01:38.332Z"
   },
   {
    "duration": 180,
    "start_time": "2024-10-20T13:01:43.099Z"
   },
   {
    "duration": 6,
    "start_time": "2024-10-20T13:02:50.000Z"
   },
   {
    "duration": 6,
    "start_time": "2024-10-20T13:04:25.446Z"
   },
   {
    "duration": 179,
    "start_time": "2024-10-20T13:05:04.769Z"
   },
   {
    "duration": 5,
    "start_time": "2024-10-20T13:05:07.868Z"
   },
   {
    "duration": 12,
    "start_time": "2024-10-20T13:05:34.713Z"
   },
   {
    "duration": 157,
    "start_time": "2024-10-20T13:05:36.501Z"
   },
   {
    "duration": 6,
    "start_time": "2024-10-20T13:05:36.692Z"
   },
   {
    "duration": 169,
    "start_time": "2024-10-20T13:05:49.423Z"
   },
   {
    "duration": 5,
    "start_time": "2024-10-20T13:06:06.557Z"
   },
   {
    "duration": 7,
    "start_time": "2024-10-20T13:06:18.396Z"
   },
   {
    "duration": 145,
    "start_time": "2024-10-20T13:33:41.852Z"
   },
   {
    "duration": 7,
    "start_time": "2024-10-20T13:34:11.012Z"
   },
   {
    "duration": 186,
    "start_time": "2024-10-20T13:34:56.074Z"
   },
   {
    "duration": 6,
    "start_time": "2024-10-20T13:35:20.031Z"
   },
   {
    "duration": 6,
    "start_time": "2024-10-20T13:35:37.370Z"
   },
   {
    "duration": 185,
    "start_time": "2024-10-20T13:35:54.321Z"
   },
   {
    "duration": 153,
    "start_time": "2024-10-20T13:36:14.029Z"
   },
   {
    "duration": 143,
    "start_time": "2024-10-20T13:36:42.485Z"
   },
   {
    "duration": 264,
    "start_time": "2024-10-20T13:36:50.930Z"
   },
   {
    "duration": 11,
    "start_time": "2024-10-20T13:42:19.851Z"
   },
   {
    "duration": 112,
    "start_time": "2024-10-20T13:42:55.953Z"
   },
   {
    "duration": 118,
    "start_time": "2024-10-20T13:45:52.061Z"
   },
   {
    "duration": 103,
    "start_time": "2024-10-20T13:45:59.851Z"
   },
   {
    "duration": 53,
    "start_time": "2024-10-20T13:52:01.451Z"
   },
   {
    "duration": 1053,
    "start_time": "2024-10-20T13:52:20.973Z"
   },
   {
    "duration": 108,
    "start_time": "2024-10-20T13:52:52.356Z"
   },
   {
    "duration": 113,
    "start_time": "2024-10-20T13:53:08.652Z"
   },
   {
    "duration": 102,
    "start_time": "2024-10-20T13:53:25.047Z"
   },
   {
    "duration": 155,
    "start_time": "2024-10-20T13:53:31.016Z"
   },
   {
    "duration": 155,
    "start_time": "2024-10-20T13:53:35.201Z"
   },
   {
    "duration": 173,
    "start_time": "2024-10-20T13:59:36.239Z"
   },
   {
    "duration": 165,
    "start_time": "2024-10-20T13:59:40.657Z"
   },
   {
    "duration": 182,
    "start_time": "2024-10-20T13:59:47.040Z"
   },
   {
    "duration": 161,
    "start_time": "2024-10-20T13:59:49.182Z"
   },
   {
    "duration": 17,
    "start_time": "2024-10-20T14:10:46.121Z"
   },
   {
    "duration": 99,
    "start_time": "2024-10-20T14:12:48.782Z"
   },
   {
    "duration": 15,
    "start_time": "2024-10-20T14:14:29.112Z"
   },
   {
    "duration": 92,
    "start_time": "2024-10-20T14:14:31.516Z"
   },
   {
    "duration": 293,
    "start_time": "2024-10-20T15:27:12.051Z"
   },
   {
    "duration": 16,
    "start_time": "2024-10-20T15:32:35.508Z"
   },
   {
    "duration": 9,
    "start_time": "2024-10-20T15:32:54.939Z"
   },
   {
    "duration": 7,
    "start_time": "2024-10-20T15:33:11.446Z"
   },
   {
    "duration": 13,
    "start_time": "2024-10-20T15:34:17.546Z"
   },
   {
    "duration": 100,
    "start_time": "2024-10-20T15:34:20.595Z"
   },
   {
    "duration": 702,
    "start_time": "2024-10-20T15:36:25.787Z"
   },
   {
    "duration": 30,
    "start_time": "2024-10-20T15:36:26.491Z"
   },
   {
    "duration": 2184,
    "start_time": "2024-10-20T15:36:26.522Z"
   },
   {
    "duration": 8,
    "start_time": "2024-10-20T15:36:28.708Z"
   },
   {
    "duration": 67,
    "start_time": "2024-10-20T15:36:28.717Z"
   },
   {
    "duration": 6,
    "start_time": "2024-10-20T15:36:28.786Z"
   },
   {
    "duration": 19,
    "start_time": "2024-10-20T15:36:28.793Z"
   },
   {
    "duration": 33,
    "start_time": "2024-10-20T15:36:28.814Z"
   },
   {
    "duration": 4,
    "start_time": "2024-10-20T15:36:28.848Z"
   },
   {
    "duration": 5,
    "start_time": "2024-10-20T15:36:28.855Z"
   },
   {
    "duration": 204,
    "start_time": "2024-10-20T15:36:28.862Z"
   },
   {
    "duration": 5,
    "start_time": "2024-10-20T15:36:29.067Z"
   },
   {
    "duration": 302,
    "start_time": "2024-10-20T15:36:29.074Z"
   },
   {
    "duration": 3,
    "start_time": "2024-10-20T15:36:29.377Z"
   },
   {
    "duration": 186,
    "start_time": "2024-10-20T15:36:29.381Z"
   },
   {
    "duration": 8,
    "start_time": "2024-10-20T15:36:29.569Z"
   },
   {
    "duration": 8,
    "start_time": "2024-10-20T15:36:29.578Z"
   },
   {
    "duration": 186,
    "start_time": "2024-10-20T15:36:29.587Z"
   },
   {
    "duration": 163,
    "start_time": "2024-10-20T15:36:29.775Z"
   },
   {
    "duration": 3,
    "start_time": "2024-10-20T15:36:29.940Z"
   },
   {
    "duration": 151,
    "start_time": "2024-10-20T15:36:29.945Z"
   },
   {
    "duration": 169,
    "start_time": "2024-10-20T15:36:30.098Z"
   },
   {
    "duration": 4,
    "start_time": "2024-10-20T15:36:30.268Z"
   },
   {
    "duration": 233,
    "start_time": "2024-10-20T15:36:30.273Z"
   },
   {
    "duration": 156,
    "start_time": "2024-10-20T15:36:30.511Z"
   },
   {
    "duration": 3,
    "start_time": "2024-10-20T15:36:30.668Z"
   },
   {
    "duration": 179,
    "start_time": "2024-10-20T15:36:30.672Z"
   },
   {
    "duration": 179,
    "start_time": "2024-10-20T15:36:30.855Z"
   },
   {
    "duration": 3,
    "start_time": "2024-10-20T15:36:31.035Z"
   },
   {
    "duration": 174,
    "start_time": "2024-10-20T15:36:31.039Z"
   },
   {
    "duration": 155,
    "start_time": "2024-10-20T15:36:31.215Z"
   },
   {
    "duration": 3,
    "start_time": "2024-10-20T15:36:31.372Z"
   },
   {
    "duration": 150,
    "start_time": "2024-10-20T15:36:31.376Z"
   },
   {
    "duration": 153,
    "start_time": "2024-10-20T15:36:31.528Z"
   },
   {
    "duration": 152,
    "start_time": "2024-10-20T15:36:31.682Z"
   },
   {
    "duration": 4,
    "start_time": "2024-10-20T15:36:31.835Z"
   },
   {
    "duration": 251,
    "start_time": "2024-10-20T15:36:31.841Z"
   },
   {
    "duration": 161,
    "start_time": "2024-10-20T15:36:32.094Z"
   },
   {
    "duration": 3,
    "start_time": "2024-10-20T15:36:32.257Z"
   },
   {
    "duration": 192,
    "start_time": "2024-10-20T15:36:32.262Z"
   },
   {
    "duration": 148,
    "start_time": "2024-10-20T15:36:32.456Z"
   },
   {
    "duration": 8,
    "start_time": "2024-10-20T15:36:32.605Z"
   },
   {
    "duration": 25,
    "start_time": "2024-10-20T15:36:32.614Z"
   },
   {
    "duration": 262,
    "start_time": "2024-10-20T15:36:32.641Z"
   },
   {
    "duration": 17,
    "start_time": "2024-10-20T15:36:32.904Z"
   },
   {
    "duration": 171,
    "start_time": "2024-10-20T15:36:32.922Z"
   },
   {
    "duration": 19,
    "start_time": "2024-10-20T15:36:33.095Z"
   },
   {
    "duration": 196,
    "start_time": "2024-10-20T15:36:33.116Z"
   },
   {
    "duration": 6,
    "start_time": "2024-10-20T15:36:33.313Z"
   },
   {
    "duration": 192,
    "start_time": "2024-10-20T15:36:33.320Z"
   },
   {
    "duration": 6,
    "start_time": "2024-10-20T15:36:33.513Z"
   },
   {
    "duration": 11,
    "start_time": "2024-10-20T15:36:33.521Z"
   },
   {
    "duration": 143,
    "start_time": "2024-10-20T15:36:33.533Z"
   },
   {
    "duration": 7,
    "start_time": "2024-10-20T15:36:33.678Z"
   },
   {
    "duration": 91,
    "start_time": "2024-10-20T15:36:33.686Z"
   },
   {
    "duration": 0,
    "start_time": "2024-10-20T15:36:33.779Z"
   },
   {
    "duration": 0,
    "start_time": "2024-10-20T15:36:33.780Z"
   },
   {
    "duration": 19,
    "start_time": "2024-10-20T15:37:50.070Z"
   },
   {
    "duration": 13,
    "start_time": "2024-10-20T15:38:02.567Z"
   },
   {
    "duration": 97,
    "start_time": "2024-10-20T15:38:05.147Z"
   },
   {
    "duration": 12,
    "start_time": "2024-10-20T15:41:22.080Z"
   },
   {
    "duration": 12,
    "start_time": "2024-10-20T15:42:12.077Z"
   },
   {
    "duration": 5,
    "start_time": "2024-10-20T15:42:58.720Z"
   },
   {
    "duration": 194,
    "start_time": "2024-10-20T15:44:15.377Z"
   },
   {
    "duration": 13,
    "start_time": "2024-10-20T15:44:28.562Z"
   },
   {
    "duration": 12,
    "start_time": "2024-10-20T15:44:33.455Z"
   },
   {
    "duration": 111,
    "start_time": "2024-10-20T15:44:40.547Z"
   },
   {
    "duration": 22,
    "start_time": "2024-10-20T15:44:46.900Z"
   },
   {
    "duration": 112,
    "start_time": "2024-10-20T15:44:49.074Z"
   },
   {
    "duration": 53,
    "start_time": "2024-10-20T15:47:59.554Z"
   },
   {
    "duration": 16,
    "start_time": "2024-10-20T15:48:55.142Z"
   },
   {
    "duration": 124,
    "start_time": "2024-10-20T15:49:48.968Z"
   },
   {
    "duration": 8,
    "start_time": "2024-10-20T15:50:20.444Z"
   },
   {
    "duration": 12,
    "start_time": "2024-10-20T15:51:06.270Z"
   },
   {
    "duration": 114,
    "start_time": "2024-10-20T15:51:06.765Z"
   },
   {
    "duration": 7,
    "start_time": "2024-10-20T15:51:07.147Z"
   },
   {
    "duration": 13,
    "start_time": "2024-10-20T15:51:07.707Z"
   },
   {
    "duration": 125,
    "start_time": "2024-10-20T15:51:08.253Z"
   },
   {
    "duration": 6,
    "start_time": "2024-10-20T15:51:11.022Z"
   },
   {
    "duration": 12,
    "start_time": "2024-10-20T15:53:49.980Z"
   },
   {
    "duration": 14,
    "start_time": "2024-10-20T15:54:25.117Z"
   },
   {
    "duration": 105,
    "start_time": "2024-10-20T16:07:49.257Z"
   },
   {
    "duration": 6,
    "start_time": "2024-10-20T16:08:12.208Z"
   },
   {
    "duration": 674,
    "start_time": "2024-10-20T16:09:09.538Z"
   },
   {
    "duration": 28,
    "start_time": "2024-10-20T16:09:10.213Z"
   },
   {
    "duration": 2232,
    "start_time": "2024-10-20T16:09:10.242Z"
   },
   {
    "duration": 8,
    "start_time": "2024-10-20T16:09:12.476Z"
   },
   {
    "duration": 70,
    "start_time": "2024-10-20T16:09:12.485Z"
   },
   {
    "duration": 7,
    "start_time": "2024-10-20T16:09:12.557Z"
   },
   {
    "duration": 5,
    "start_time": "2024-10-20T16:09:12.565Z"
   },
   {
    "duration": 55,
    "start_time": "2024-10-20T16:09:12.571Z"
   },
   {
    "duration": 5,
    "start_time": "2024-10-20T16:09:12.627Z"
   },
   {
    "duration": 11,
    "start_time": "2024-10-20T16:09:12.634Z"
   },
   {
    "duration": 198,
    "start_time": "2024-10-20T16:09:12.646Z"
   },
   {
    "duration": 6,
    "start_time": "2024-10-20T16:09:12.846Z"
   },
   {
    "duration": 314,
    "start_time": "2024-10-20T16:09:12.853Z"
   },
   {
    "duration": 5,
    "start_time": "2024-10-20T16:09:13.168Z"
   },
   {
    "duration": 181,
    "start_time": "2024-10-20T16:09:13.174Z"
   },
   {
    "duration": 10,
    "start_time": "2024-10-20T16:09:13.357Z"
   },
   {
    "duration": 12,
    "start_time": "2024-10-20T16:09:13.369Z"
   },
   {
    "duration": 176,
    "start_time": "2024-10-20T16:09:13.382Z"
   },
   {
    "duration": 162,
    "start_time": "2024-10-20T16:09:13.560Z"
   },
   {
    "duration": 4,
    "start_time": "2024-10-20T16:09:13.723Z"
   },
   {
    "duration": 149,
    "start_time": "2024-10-20T16:09:13.728Z"
   },
   {
    "duration": 168,
    "start_time": "2024-10-20T16:09:13.879Z"
   },
   {
    "duration": 4,
    "start_time": "2024-10-20T16:09:14.048Z"
   },
   {
    "duration": 237,
    "start_time": "2024-10-20T16:09:14.054Z"
   },
   {
    "duration": 165,
    "start_time": "2024-10-20T16:09:14.293Z"
   },
   {
    "duration": 3,
    "start_time": "2024-10-20T16:09:14.459Z"
   },
   {
    "duration": 166,
    "start_time": "2024-10-20T16:09:14.464Z"
   },
   {
    "duration": 183,
    "start_time": "2024-10-20T16:09:14.634Z"
   },
   {
    "duration": 3,
    "start_time": "2024-10-20T16:09:14.819Z"
   },
   {
    "duration": 155,
    "start_time": "2024-10-20T16:09:14.823Z"
   },
   {
    "duration": 161,
    "start_time": "2024-10-20T16:09:14.979Z"
   },
   {
    "duration": 3,
    "start_time": "2024-10-20T16:09:15.141Z"
   },
   {
    "duration": 147,
    "start_time": "2024-10-20T16:09:15.146Z"
   },
   {
    "duration": 157,
    "start_time": "2024-10-20T16:09:15.295Z"
   },
   {
    "duration": 158,
    "start_time": "2024-10-20T16:09:15.454Z"
   },
   {
    "duration": 4,
    "start_time": "2024-10-20T16:09:15.613Z"
   },
   {
    "duration": 259,
    "start_time": "2024-10-20T16:09:15.618Z"
   },
   {
    "duration": 197,
    "start_time": "2024-10-20T16:09:15.879Z"
   },
   {
    "duration": 3,
    "start_time": "2024-10-20T16:09:16.078Z"
   },
   {
    "duration": 161,
    "start_time": "2024-10-20T16:09:16.082Z"
   },
   {
    "duration": 151,
    "start_time": "2024-10-20T16:09:16.244Z"
   },
   {
    "duration": 4,
    "start_time": "2024-10-20T16:09:16.396Z"
   },
   {
    "duration": 29,
    "start_time": "2024-10-20T16:09:16.402Z"
   },
   {
    "duration": 249,
    "start_time": "2024-10-20T16:09:16.432Z"
   },
   {
    "duration": 160,
    "start_time": "2024-10-20T16:09:16.683Z"
   },
   {
    "duration": 6,
    "start_time": "2024-10-20T16:09:16.845Z"
   },
   {
    "duration": 193,
    "start_time": "2024-10-20T16:09:16.853Z"
   },
   {
    "duration": 14,
    "start_time": "2024-10-20T16:09:17.047Z"
   },
   {
    "duration": 230,
    "start_time": "2024-10-20T16:09:17.063Z"
   },
   {
    "duration": 20,
    "start_time": "2024-10-20T16:09:17.295Z"
   },
   {
    "duration": 65,
    "start_time": "2024-10-20T16:09:17.316Z"
   },
   {
    "duration": 123,
    "start_time": "2024-10-20T16:09:17.383Z"
   },
   {
    "duration": 6,
    "start_time": "2024-10-20T16:09:17.507Z"
   },
   {
    "duration": 23,
    "start_time": "2024-10-20T16:09:17.515Z"
   },
   {
    "duration": 113,
    "start_time": "2024-10-20T16:09:17.540Z"
   },
   {
    "duration": 21,
    "start_time": "2024-10-20T16:09:17.655Z"
   },
   {
    "duration": 234,
    "start_time": "2024-10-20T16:09:17.678Z"
   },
   {
    "duration": 6,
    "start_time": "2024-10-20T16:09:17.914Z"
   },
   {
    "duration": 20,
    "start_time": "2024-10-20T16:09:17.921Z"
   },
   {
    "duration": 169,
    "start_time": "2024-10-20T16:09:17.943Z"
   },
   {
    "duration": 6,
    "start_time": "2024-10-20T16:09:18.113Z"
   },
   {
    "duration": 16,
    "start_time": "2024-10-20T16:09:18.120Z"
   },
   {
    "duration": 165,
    "start_time": "2024-10-20T16:09:18.138Z"
   },
   {
    "duration": 10,
    "start_time": "2024-10-20T16:09:18.304Z"
   },
   {
    "duration": 21,
    "start_time": "2024-10-20T16:17:07.492Z"
   },
   {
    "duration": 28,
    "start_time": "2024-10-20T16:23:12.675Z"
   },
   {
    "duration": 6,
    "start_time": "2024-10-20T16:25:08.980Z"
   },
   {
    "duration": 5,
    "start_time": "2024-10-20T16:26:23.156Z"
   },
   {
    "duration": 5,
    "start_time": "2024-10-20T16:26:25.473Z"
   },
   {
    "duration": 5,
    "start_time": "2024-10-20T20:10:06.165Z"
   },
   {
    "duration": 10,
    "start_time": "2024-10-20T20:13:12.787Z"
   },
   {
    "duration": 21,
    "start_time": "2024-10-20T20:19:52.683Z"
   },
   {
    "duration": 15,
    "start_time": "2024-10-20T20:21:02.923Z"
   },
   {
    "duration": 24,
    "start_time": "2024-10-20T20:22:21.921Z"
   },
   {
    "duration": 88,
    "start_time": "2024-10-20T20:22:41.584Z"
   },
   {
    "duration": 16,
    "start_time": "2024-10-20T20:22:46.277Z"
   },
   {
    "duration": 17,
    "start_time": "2024-10-20T20:24:05.841Z"
   },
   {
    "duration": 11,
    "start_time": "2024-10-20T20:32:28.022Z"
   },
   {
    "duration": 141,
    "start_time": "2024-10-20T20:35:18.939Z"
   },
   {
    "duration": 5,
    "start_time": "2024-10-20T21:00:32.512Z"
   },
   {
    "duration": 20,
    "start_time": "2024-10-20T21:00:53.351Z"
   },
   {
    "duration": 25,
    "start_time": "2024-10-20T21:00:54.823Z"
   },
   {
    "duration": 4,
    "start_time": "2024-10-20T21:00:57.251Z"
   },
   {
    "duration": 20,
    "start_time": "2024-10-20T21:02:43.454Z"
   },
   {
    "duration": 6,
    "start_time": "2024-10-20T21:03:04.461Z"
   },
   {
    "duration": 1205,
    "start_time": "2024-10-21T06:09:47.093Z"
   },
   {
    "duration": 35,
    "start_time": "2024-10-21T06:09:48.300Z"
   },
   {
    "duration": 4616,
    "start_time": "2024-10-21T06:09:48.337Z"
   },
   {
    "duration": 15,
    "start_time": "2024-10-21T06:09:52.955Z"
   },
   {
    "duration": 209,
    "start_time": "2024-10-21T06:09:52.972Z"
   },
   {
    "duration": 8,
    "start_time": "2024-10-21T06:09:53.183Z"
   },
   {
    "duration": 61,
    "start_time": "2024-10-21T06:09:53.193Z"
   },
   {
    "duration": 116,
    "start_time": "2024-10-21T06:09:53.255Z"
   },
   {
    "duration": 5,
    "start_time": "2024-10-21T06:09:53.373Z"
   },
   {
    "duration": 76,
    "start_time": "2024-10-21T06:09:53.380Z"
   },
   {
    "duration": 533,
    "start_time": "2024-10-21T06:09:53.458Z"
   },
   {
    "duration": 59,
    "start_time": "2024-10-21T06:09:53.996Z"
   },
   {
    "duration": 695,
    "start_time": "2024-10-21T06:09:54.057Z"
   },
   {
    "duration": 5,
    "start_time": "2024-10-21T06:09:54.755Z"
   },
   {
    "duration": 401,
    "start_time": "2024-10-21T06:09:54.762Z"
   },
   {
    "duration": 11,
    "start_time": "2024-10-21T06:09:55.164Z"
   },
   {
    "duration": 23,
    "start_time": "2024-10-21T06:09:55.177Z"
   },
   {
    "duration": 422,
    "start_time": "2024-10-21T06:09:55.253Z"
   },
   {
    "duration": 418,
    "start_time": "2024-10-21T06:09:55.677Z"
   },
   {
    "duration": 6,
    "start_time": "2024-10-21T06:09:56.153Z"
   },
   {
    "duration": 395,
    "start_time": "2024-10-21T06:09:56.161Z"
   },
   {
    "duration": 419,
    "start_time": "2024-10-21T06:09:56.558Z"
   },
   {
    "duration": 4,
    "start_time": "2024-10-21T06:09:56.979Z"
   },
   {
    "duration": 680,
    "start_time": "2024-10-21T06:09:56.984Z"
   },
   {
    "duration": 420,
    "start_time": "2024-10-21T06:09:57.666Z"
   },
   {
    "duration": 4,
    "start_time": "2024-10-21T06:09:58.089Z"
   },
   {
    "duration": 437,
    "start_time": "2024-10-21T06:09:58.151Z"
   },
   {
    "duration": 565,
    "start_time": "2024-10-21T06:09:58.590Z"
   },
   {
    "duration": 4,
    "start_time": "2024-10-21T06:09:59.157Z"
   },
   {
    "duration": 423,
    "start_time": "2024-10-21T06:09:59.162Z"
   },
   {
    "duration": 491,
    "start_time": "2024-10-21T06:09:59.587Z"
   },
   {
    "duration": 5,
    "start_time": "2024-10-21T06:10:00.080Z"
   },
   {
    "duration": 468,
    "start_time": "2024-10-21T06:10:00.087Z"
   },
   {
    "duration": 435,
    "start_time": "2024-10-21T06:10:00.557Z"
   },
   {
    "duration": 490,
    "start_time": "2024-10-21T06:10:00.994Z"
   },
   {
    "duration": 4,
    "start_time": "2024-10-21T06:10:01.486Z"
   },
   {
    "duration": 728,
    "start_time": "2024-10-21T06:10:01.551Z"
   },
   {
    "duration": 492,
    "start_time": "2024-10-21T06:10:02.282Z"
   },
   {
    "duration": 5,
    "start_time": "2024-10-21T06:10:02.776Z"
   },
   {
    "duration": 486,
    "start_time": "2024-10-21T06:10:02.783Z"
   },
   {
    "duration": 405,
    "start_time": "2024-10-21T06:10:03.273Z"
   },
   {
    "duration": 5,
    "start_time": "2024-10-21T06:10:03.680Z"
   },
   {
    "duration": 70,
    "start_time": "2024-10-21T06:10:03.686Z"
   },
   {
    "duration": 726,
    "start_time": "2024-10-21T06:10:03.758Z"
   },
   {
    "duration": 501,
    "start_time": "2024-10-21T06:10:04.486Z"
   },
   {
    "duration": 7,
    "start_time": "2024-10-21T06:10:04.989Z"
   },
   {
    "duration": 526,
    "start_time": "2024-10-21T06:10:04.997Z"
   },
   {
    "duration": 8,
    "start_time": "2024-10-21T06:10:05.551Z"
   },
   {
    "duration": 416,
    "start_time": "2024-10-21T06:10:05.561Z"
   },
   {
    "duration": 6,
    "start_time": "2024-10-21T06:10:05.979Z"
   },
   {
    "duration": 40,
    "start_time": "2024-10-21T06:10:06.051Z"
   },
   {
    "duration": 362,
    "start_time": "2024-10-21T06:10:06.093Z"
   },
   {
    "duration": 8,
    "start_time": "2024-10-21T06:10:06.457Z"
   },
   {
    "duration": 130,
    "start_time": "2024-10-21T06:10:06.467Z"
   },
   {
    "duration": 359,
    "start_time": "2024-10-21T06:10:06.599Z"
   },
   {
    "duration": 18,
    "start_time": "2024-10-21T06:10:06.960Z"
   },
   {
    "duration": 695,
    "start_time": "2024-10-21T06:10:06.980Z"
   },
   {
    "duration": 8,
    "start_time": "2024-10-21T06:10:07.677Z"
   },
   {
    "duration": 82,
    "start_time": "2024-10-21T06:10:07.687Z"
   },
   {
    "duration": 397,
    "start_time": "2024-10-21T06:10:07.771Z"
   },
   {
    "duration": 6,
    "start_time": "2024-10-21T06:10:08.170Z"
   },
   {
    "duration": 79,
    "start_time": "2024-10-21T06:10:08.178Z"
   },
   {
    "duration": 313,
    "start_time": "2024-10-21T06:10:08.258Z"
   },
   {
    "duration": 8,
    "start_time": "2024-10-21T06:10:08.573Z"
   },
   {
    "duration": 89,
    "start_time": "2024-10-21T06:10:08.583Z"
   },
   {
    "duration": 6,
    "start_time": "2024-10-21T06:10:08.673Z"
   },
   {
    "duration": 72,
    "start_time": "2024-10-21T06:10:08.682Z"
   },
   {
    "duration": 30,
    "start_time": "2024-10-21T06:10:08.756Z"
   },
   {
    "duration": 399,
    "start_time": "2024-10-21T06:10:08.788Z"
   },
   {
    "duration": 8,
    "start_time": "2024-10-21T06:13:20.961Z"
   },
   {
    "duration": 85,
    "start_time": "2024-10-21T06:13:54.426Z"
   },
   {
    "duration": 48,
    "start_time": "2024-10-21T07:53:38.261Z"
   },
   {
    "duration": 1197,
    "start_time": "2024-10-21T07:53:44.470Z"
   },
   {
    "duration": 36,
    "start_time": "2024-10-21T07:53:45.670Z"
   },
   {
    "duration": 2667,
    "start_time": "2024-10-21T07:53:45.707Z"
   },
   {
    "duration": 16,
    "start_time": "2024-10-21T07:53:48.378Z"
   },
   {
    "duration": 138,
    "start_time": "2024-10-21T07:53:48.396Z"
   },
   {
    "duration": 28,
    "start_time": "2024-10-21T07:53:48.536Z"
   },
   {
    "duration": 24,
    "start_time": "2024-10-21T07:53:48.565Z"
   },
   {
    "duration": 47,
    "start_time": "2024-10-21T07:53:48.591Z"
   },
   {
    "duration": 5,
    "start_time": "2024-10-21T07:53:48.640Z"
   },
   {
    "duration": 35,
    "start_time": "2024-10-21T07:53:48.648Z"
   },
   {
    "duration": 249,
    "start_time": "2024-10-21T07:53:48.685Z"
   },
   {
    "duration": 7,
    "start_time": "2024-10-21T07:53:48.936Z"
   },
   {
    "duration": 390,
    "start_time": "2024-10-21T07:53:48.944Z"
   },
   {
    "duration": 3,
    "start_time": "2024-10-21T07:53:49.336Z"
   },
   {
    "duration": 205,
    "start_time": "2024-10-21T07:53:49.341Z"
   },
   {
    "duration": 9,
    "start_time": "2024-10-21T07:53:49.548Z"
   },
   {
    "duration": 18,
    "start_time": "2024-10-21T07:53:49.558Z"
   },
   {
    "duration": 225,
    "start_time": "2024-10-21T07:53:49.578Z"
   },
   {
    "duration": 201,
    "start_time": "2024-10-21T07:53:49.805Z"
   },
   {
    "duration": 5,
    "start_time": "2024-10-21T07:53:50.007Z"
   },
   {
    "duration": 186,
    "start_time": "2024-10-21T07:53:50.013Z"
   },
   {
    "duration": 198,
    "start_time": "2024-10-21T07:53:50.201Z"
   },
   {
    "duration": 4,
    "start_time": "2024-10-21T07:53:50.400Z"
   },
   {
    "duration": 257,
    "start_time": "2024-10-21T07:53:50.405Z"
   },
   {
    "duration": 189,
    "start_time": "2024-10-21T07:53:50.664Z"
   },
   {
    "duration": 3,
    "start_time": "2024-10-21T07:53:50.855Z"
   },
   {
    "duration": 221,
    "start_time": "2024-10-21T07:53:50.860Z"
   },
   {
    "duration": 202,
    "start_time": "2024-10-21T07:53:51.085Z"
   },
   {
    "duration": 9,
    "start_time": "2024-10-21T07:53:51.288Z"
   },
   {
    "duration": 198,
    "start_time": "2024-10-21T07:53:51.299Z"
   },
   {
    "duration": 206,
    "start_time": "2024-10-21T07:53:51.499Z"
   },
   {
    "duration": 5,
    "start_time": "2024-10-21T07:53:51.707Z"
   },
   {
    "duration": 189,
    "start_time": "2024-10-21T07:53:51.714Z"
   },
   {
    "duration": 194,
    "start_time": "2024-10-21T07:53:51.905Z"
   },
   {
    "duration": 199,
    "start_time": "2024-10-21T07:53:52.101Z"
   },
   {
    "duration": 4,
    "start_time": "2024-10-21T07:53:52.301Z"
   },
   {
    "duration": 291,
    "start_time": "2024-10-21T07:53:52.306Z"
   },
   {
    "duration": 196,
    "start_time": "2024-10-21T07:53:52.599Z"
   },
   {
    "duration": 3,
    "start_time": "2024-10-21T07:53:52.797Z"
   },
   {
    "duration": 221,
    "start_time": "2024-10-21T07:53:52.802Z"
   },
   {
    "duration": 183,
    "start_time": "2024-10-21T07:53:53.025Z"
   },
   {
    "duration": 4,
    "start_time": "2024-10-21T07:53:53.210Z"
   },
   {
    "duration": 14,
    "start_time": "2024-10-21T07:53:53.215Z"
   },
   {
    "duration": 338,
    "start_time": "2024-10-21T07:53:53.231Z"
   },
   {
    "duration": 183,
    "start_time": "2024-10-21T07:53:53.571Z"
   },
   {
    "duration": 7,
    "start_time": "2024-10-21T07:53:53.755Z"
   },
   {
    "duration": 237,
    "start_time": "2024-10-21T07:53:53.763Z"
   },
   {
    "duration": 6,
    "start_time": "2024-10-21T07:53:54.001Z"
   },
   {
    "duration": 211,
    "start_time": "2024-10-21T07:53:54.009Z"
   },
   {
    "duration": 6,
    "start_time": "2024-10-21T07:53:54.221Z"
   },
   {
    "duration": 24,
    "start_time": "2024-10-21T07:53:54.229Z"
   },
   {
    "duration": 137,
    "start_time": "2024-10-21T07:53:54.255Z"
   },
   {
    "duration": 7,
    "start_time": "2024-10-21T07:53:54.394Z"
   },
   {
    "duration": 16,
    "start_time": "2024-10-21T07:53:54.402Z"
   },
   {
    "duration": 229,
    "start_time": "2024-10-21T07:53:54.420Z"
   },
   {
    "duration": 14,
    "start_time": "2024-10-21T07:53:54.650Z"
   },
   {
    "duration": 151,
    "start_time": "2024-10-21T07:53:54.666Z"
   },
   {
    "duration": 6,
    "start_time": "2024-10-21T07:53:54.819Z"
   },
   {
    "duration": 27,
    "start_time": "2024-10-21T07:53:54.826Z"
   },
   {
    "duration": 162,
    "start_time": "2024-10-21T07:53:54.854Z"
   },
   {
    "duration": 6,
    "start_time": "2024-10-21T07:53:55.017Z"
   },
   {
    "duration": 13,
    "start_time": "2024-10-21T07:53:55.025Z"
   },
   {
    "duration": 143,
    "start_time": "2024-10-21T07:53:55.040Z"
   },
   {
    "duration": 14,
    "start_time": "2024-10-21T07:53:55.184Z"
   },
   {
    "duration": 26,
    "start_time": "2024-10-21T07:53:55.199Z"
   },
   {
    "duration": 5,
    "start_time": "2024-10-21T07:53:55.226Z"
   },
   {
    "duration": 11,
    "start_time": "2024-10-21T07:53:55.234Z"
   },
   {
    "duration": 15,
    "start_time": "2024-10-21T07:53:55.247Z"
   },
   {
    "duration": 201,
    "start_time": "2024-10-21T07:53:55.264Z"
   },
   {
    "duration": 4,
    "start_time": "2024-10-21T07:56:14.820Z"
   },
   {
    "duration": 4,
    "start_time": "2024-10-21T07:56:37.974Z"
   },
   {
    "duration": 4,
    "start_time": "2024-10-21T07:56:50.680Z"
   },
   {
    "duration": 14,
    "start_time": "2024-10-21T07:59:15.757Z"
   },
   {
    "duration": 11,
    "start_time": "2024-10-21T07:59:27.597Z"
   },
   {
    "duration": 13,
    "start_time": "2024-10-21T07:59:46.440Z"
   },
   {
    "duration": 57,
    "start_time": "2024-10-21T08:01:42.246Z"
   },
   {
    "duration": 28,
    "start_time": "2024-10-21T08:03:49.323Z"
   },
   {
    "duration": 761,
    "start_time": "2024-10-21T08:04:08.351Z"
   },
   {
    "duration": 36,
    "start_time": "2024-10-21T08:04:09.114Z"
   },
   {
    "duration": 2710,
    "start_time": "2024-10-21T08:04:09.152Z"
   },
   {
    "duration": 10,
    "start_time": "2024-10-21T08:04:11.865Z"
   },
   {
    "duration": 145,
    "start_time": "2024-10-21T08:04:11.877Z"
   },
   {
    "duration": 15,
    "start_time": "2024-10-21T08:04:12.024Z"
   },
   {
    "duration": 5,
    "start_time": "2024-10-21T08:04:12.041Z"
   },
   {
    "duration": 50,
    "start_time": "2024-10-21T08:04:12.048Z"
   },
   {
    "duration": 7,
    "start_time": "2024-10-21T08:04:12.099Z"
   },
   {
    "duration": 18,
    "start_time": "2024-10-21T08:04:12.110Z"
   },
   {
    "duration": 227,
    "start_time": "2024-10-21T08:04:12.130Z"
   },
   {
    "duration": 5,
    "start_time": "2024-10-21T08:04:12.359Z"
   },
   {
    "duration": 333,
    "start_time": "2024-10-21T08:04:12.366Z"
   },
   {
    "duration": 5,
    "start_time": "2024-10-21T08:04:12.700Z"
   },
   {
    "duration": 234,
    "start_time": "2024-10-21T08:04:12.706Z"
   },
   {
    "duration": 9,
    "start_time": "2024-10-21T08:04:12.942Z"
   },
   {
    "duration": 4,
    "start_time": "2024-10-21T08:04:12.953Z"
   },
   {
    "duration": 248,
    "start_time": "2024-10-21T08:04:12.958Z"
   },
   {
    "duration": 305,
    "start_time": "2024-10-21T08:04:13.208Z"
   },
   {
    "duration": 3,
    "start_time": "2024-10-21T08:04:13.515Z"
   },
   {
    "duration": 280,
    "start_time": "2024-10-21T08:04:13.520Z"
   },
   {
    "duration": 219,
    "start_time": "2024-10-21T08:04:13.802Z"
   },
   {
    "duration": 4,
    "start_time": "2024-10-21T08:04:14.023Z"
   },
   {
    "duration": 269,
    "start_time": "2024-10-21T08:04:14.028Z"
   },
   {
    "duration": 202,
    "start_time": "2024-10-21T08:04:14.298Z"
   },
   {
    "duration": 4,
    "start_time": "2024-10-21T08:04:14.502Z"
   },
   {
    "duration": 225,
    "start_time": "2024-10-21T08:04:14.508Z"
   },
   {
    "duration": 211,
    "start_time": "2024-10-21T08:04:14.736Z"
   },
   {
    "duration": 4,
    "start_time": "2024-10-21T08:04:14.949Z"
   },
   {
    "duration": 208,
    "start_time": "2024-10-21T08:04:14.954Z"
   },
   {
    "duration": 200,
    "start_time": "2024-10-21T08:04:15.164Z"
   },
   {
    "duration": 4,
    "start_time": "2024-10-21T08:04:15.366Z"
   },
   {
    "duration": 197,
    "start_time": "2024-10-21T08:04:15.372Z"
   },
   {
    "duration": 201,
    "start_time": "2024-10-21T08:04:15.571Z"
   },
   {
    "duration": 200,
    "start_time": "2024-10-21T08:04:15.774Z"
   },
   {
    "duration": 3,
    "start_time": "2024-10-21T08:04:15.976Z"
   },
   {
    "duration": 331,
    "start_time": "2024-10-21T08:04:15.981Z"
   },
   {
    "duration": 220,
    "start_time": "2024-10-21T08:04:16.314Z"
   },
   {
    "duration": 4,
    "start_time": "2024-10-21T08:04:16.536Z"
   },
   {
    "duration": 240,
    "start_time": "2024-10-21T08:04:16.541Z"
   },
   {
    "duration": 194,
    "start_time": "2024-10-21T08:04:16.783Z"
   },
   {
    "duration": 4,
    "start_time": "2024-10-21T08:04:16.978Z"
   },
   {
    "duration": 83,
    "start_time": "2024-10-21T08:04:16.984Z"
   },
   {
    "duration": 323,
    "start_time": "2024-10-21T08:04:17.069Z"
   },
   {
    "duration": 208,
    "start_time": "2024-10-21T08:04:17.394Z"
   },
   {
    "duration": 7,
    "start_time": "2024-10-21T08:04:17.604Z"
   },
   {
    "duration": 223,
    "start_time": "2024-10-21T08:04:17.613Z"
   },
   {
    "duration": 8,
    "start_time": "2024-10-21T08:04:17.838Z"
   },
   {
    "duration": 310,
    "start_time": "2024-10-21T08:04:17.848Z"
   },
   {
    "duration": 8,
    "start_time": "2024-10-21T08:04:18.160Z"
   },
   {
    "duration": 37,
    "start_time": "2024-10-21T08:04:18.169Z"
   },
   {
    "duration": 135,
    "start_time": "2024-10-21T08:04:18.208Z"
   },
   {
    "duration": 8,
    "start_time": "2024-10-21T08:04:18.345Z"
   },
   {
    "duration": 20,
    "start_time": "2024-10-21T08:04:18.355Z"
   },
   {
    "duration": 219,
    "start_time": "2024-10-21T08:04:18.398Z"
   },
   {
    "duration": 13,
    "start_time": "2024-10-21T08:04:18.619Z"
   },
   {
    "duration": 148,
    "start_time": "2024-10-21T08:04:18.634Z"
   },
   {
    "duration": 19,
    "start_time": "2024-10-21T08:04:18.784Z"
   },
   {
    "duration": 171,
    "start_time": "2024-10-21T08:04:18.805Z"
   },
   {
    "duration": 22,
    "start_time": "2024-10-21T08:04:18.977Z"
   },
   {
    "duration": 182,
    "start_time": "2024-10-21T08:04:19.001Z"
   },
   {
    "duration": 44,
    "start_time": "2024-10-21T08:04:19.184Z"
   },
   {
    "duration": 7,
    "start_time": "2024-10-21T08:04:19.230Z"
   },
   {
    "duration": 16,
    "start_time": "2024-10-21T08:04:19.239Z"
   },
   {
    "duration": 18,
    "start_time": "2024-10-21T08:04:19.257Z"
   },
   {
    "duration": 180,
    "start_time": "2024-10-21T08:04:19.277Z"
   },
   {
    "duration": 120,
    "start_time": "2024-10-21T08:05:25.572Z"
   },
   {
    "duration": 54,
    "start_time": "2024-10-21T08:06:17.781Z"
   },
   {
    "duration": 395,
    "start_time": "2024-10-21T14:12:01.169Z"
   },
   {
    "duration": 471,
    "start_time": "2024-10-21T14:12:01.566Z"
   },
   {
    "duration": 188,
    "start_time": "2024-10-21T14:12:02.039Z"
   },
   {
    "duration": 31,
    "start_time": "2024-10-21T14:12:02.229Z"
   },
   {
    "duration": 2738,
    "start_time": "2024-10-21T14:12:02.262Z"
   },
   {
    "duration": 11,
    "start_time": "2024-10-21T14:12:05.001Z"
   },
   {
    "duration": 174,
    "start_time": "2024-10-21T14:12:05.014Z"
   },
   {
    "duration": 17,
    "start_time": "2024-10-21T14:12:05.189Z"
   },
   {
    "duration": 14,
    "start_time": "2024-10-21T14:12:05.208Z"
   },
   {
    "duration": 52,
    "start_time": "2024-10-21T14:12:05.225Z"
   },
   {
    "duration": 48,
    "start_time": "2024-10-21T14:12:05.279Z"
   },
   {
    "duration": 52,
    "start_time": "2024-10-21T14:12:05.328Z"
   },
   {
    "duration": 229,
    "start_time": "2024-10-21T14:12:05.381Z"
   },
   {
    "duration": 9,
    "start_time": "2024-10-21T14:12:05.611Z"
   },
   {
    "duration": 354,
    "start_time": "2024-10-21T14:12:05.622Z"
   },
   {
    "duration": 4,
    "start_time": "2024-10-21T14:12:05.978Z"
   },
   {
    "duration": 226,
    "start_time": "2024-10-21T14:12:05.983Z"
   },
   {
    "duration": 12,
    "start_time": "2024-10-21T14:12:06.211Z"
   },
   {
    "duration": 30,
    "start_time": "2024-10-21T14:12:06.225Z"
   },
   {
    "duration": 229,
    "start_time": "2024-10-21T14:12:06.257Z"
   },
   {
    "duration": 224,
    "start_time": "2024-10-21T14:12:06.488Z"
   },
   {
    "duration": 7,
    "start_time": "2024-10-21T14:12:06.714Z"
   },
   {
    "duration": 198,
    "start_time": "2024-10-21T14:12:06.723Z"
   },
   {
    "duration": 209,
    "start_time": "2024-10-21T14:12:06.923Z"
   },
   {
    "duration": 4,
    "start_time": "2024-10-21T14:12:07.133Z"
   },
   {
    "duration": 257,
    "start_time": "2024-10-21T14:12:07.139Z"
   },
   {
    "duration": 195,
    "start_time": "2024-10-21T14:12:07.398Z"
   },
   {
    "duration": 3,
    "start_time": "2024-10-21T14:12:07.597Z"
   },
   {
    "duration": 209,
    "start_time": "2024-10-21T14:12:07.602Z"
   },
   {
    "duration": 218,
    "start_time": "2024-10-21T14:12:07.813Z"
   },
   {
    "duration": 3,
    "start_time": "2024-10-21T14:12:08.033Z"
   },
   {
    "duration": 205,
    "start_time": "2024-10-21T14:12:08.037Z"
   },
   {
    "duration": 196,
    "start_time": "2024-10-21T14:12:08.244Z"
   },
   {
    "duration": 4,
    "start_time": "2024-10-21T14:12:08.441Z"
   },
   {
    "duration": 251,
    "start_time": "2024-10-21T14:12:08.446Z"
   },
   {
    "duration": 192,
    "start_time": "2024-10-21T14:12:08.699Z"
   },
   {
    "duration": 190,
    "start_time": "2024-10-21T14:12:08.893Z"
   },
   {
    "duration": 4,
    "start_time": "2024-10-21T14:12:09.084Z"
   },
   {
    "duration": 293,
    "start_time": "2024-10-21T14:12:09.089Z"
   },
   {
    "duration": 208,
    "start_time": "2024-10-21T14:12:09.384Z"
   },
   {
    "duration": 5,
    "start_time": "2024-10-21T14:12:09.593Z"
   },
   {
    "duration": 213,
    "start_time": "2024-10-21T14:12:09.599Z"
   },
   {
    "duration": 186,
    "start_time": "2024-10-21T14:12:09.813Z"
   },
   {
    "duration": 3,
    "start_time": "2024-10-21T14:12:10.001Z"
   },
   {
    "duration": 29,
    "start_time": "2024-10-21T14:12:10.006Z"
   },
   {
    "duration": 348,
    "start_time": "2024-10-21T14:12:10.037Z"
   },
   {
    "duration": 195,
    "start_time": "2024-10-21T14:12:10.387Z"
   },
   {
    "duration": 7,
    "start_time": "2024-10-21T14:12:10.583Z"
   },
   {
    "duration": 222,
    "start_time": "2024-10-21T14:12:10.592Z"
   },
   {
    "duration": 9,
    "start_time": "2024-10-21T14:12:10.815Z"
   },
   {
    "duration": 228,
    "start_time": "2024-10-21T14:12:10.825Z"
   },
   {
    "duration": 7,
    "start_time": "2024-10-21T14:12:11.055Z"
   },
   {
    "duration": 30,
    "start_time": "2024-10-21T14:12:11.064Z"
   },
   {
    "duration": 133,
    "start_time": "2024-10-21T14:12:11.095Z"
   },
   {
    "duration": 6,
    "start_time": "2024-10-21T14:12:11.230Z"
   },
   {
    "duration": 16,
    "start_time": "2024-10-21T14:12:11.238Z"
   },
   {
    "duration": 275,
    "start_time": "2024-10-21T14:12:11.256Z"
   },
   {
    "duration": 14,
    "start_time": "2024-10-21T14:12:11.533Z"
   },
   {
    "duration": 150,
    "start_time": "2024-10-21T14:12:11.549Z"
   },
   {
    "duration": 21,
    "start_time": "2024-10-21T14:12:11.700Z"
   },
   {
    "duration": 171,
    "start_time": "2024-10-21T14:12:11.723Z"
   },
   {
    "duration": 14,
    "start_time": "2024-10-21T14:12:11.896Z"
   },
   {
    "duration": 147,
    "start_time": "2024-10-21T14:12:11.911Z"
   },
   {
    "duration": 33,
    "start_time": "2024-10-21T14:12:12.060Z"
   },
   {
    "duration": 7,
    "start_time": "2024-10-21T14:12:12.095Z"
   },
   {
    "duration": 7,
    "start_time": "2024-10-21T14:12:12.122Z"
   },
   {
    "duration": 41,
    "start_time": "2024-10-21T14:12:12.131Z"
   },
   {
    "duration": 175,
    "start_time": "2024-10-21T14:12:12.174Z"
   }
  ],
  "colab": {
   "provenance": []
  },
  "kernelspec": {
   "display_name": "Python 3 (ipykernel)",
   "language": "python",
   "name": "python3"
  },
  "language_info": {
   "codemirror_mode": {
    "name": "ipython",
    "version": 3
   },
   "file_extension": ".py",
   "mimetype": "text/x-python",
   "name": "python",
   "nbconvert_exporter": "python",
   "pygments_lexer": "ipython3",
   "version": "3.9.5"
  },
  "toc": {
   "base_numbering": 1,
   "nav_menu": {},
   "number_sections": true,
   "sideBar": true,
   "skip_h1_title": true,
   "title_cell": "Table of Contents",
   "title_sidebar": "Contents",
   "toc_cell": false,
   "toc_position": {},
   "toc_section_display": true,
   "toc_window_display": false
  }
 },
 "nbformat": 4,
 "nbformat_minor": 1
}
