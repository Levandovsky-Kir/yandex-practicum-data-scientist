{
 "cells": [
  {
   "cell_type": "markdown",
   "id": "25758290",
   "metadata": {},
   "source": [
    "### Описание проекта  'Статистический анализ поездок GoFast'"
   ]
  },
  {
   "cell_type": "markdown",
   "id": "12238acd",
   "metadata": {},
   "source": [
    "Чтобы совершать поездки по городу, пользователи сервиса GoFast пользуются мобильным приложением. Сервисом можно пользоваться:\n",
    "- без подписки\n",
    "    - абонентская плата отсутствует;\n",
    "    - стоимость одной минуты поездки — 8 рублей;\n",
    "    - стоимость старта (начала поездки) — 50 рублей;\n",
    "- с подпиской Ultra\n",
    "    - абонентская плата — 199 рублей в месяц;\n",
    "    - стоимость одной минуты поездки — 6 рублей;\n",
    "    - стоимость старта — бесплатно.\n",
    "    \n",
    "В основных данных есть информация о пользователях, их поездках и подписках.\n",
    "\n",
    "**Пользователи** — `users_go.csv`\n",
    "- `user_id` – уникальный идентификатор пользователя\n",
    "- `name` - имя пользователя\n",
    "- `age` -\tвозраст\n",
    "- `city` - город\n",
    "- `subscription_type` - тип подписки (free, ultra)\n",
    "\n",
    "**Поездки** — `rides_go.csv`\n",
    "- `user_id` – уникальный идентификатор пользователя\n",
    "- `distance` - расстояние, которое пользователь проехал в текущей сессии (в метрах)\n",
    "- `duration` - продолжительность сессии (в минутах) — время с того момента, как пользователь нажал кнопку «Начать поездку» до момента, как он нажал кнопку «Завершить поездку»\n",
    "- `date` - дата совершения поездки\n",
    "\n",
    "**Подписки** — `subscriptions_go.csv`\n",
    "- `subscription_type` – тип подписки\n",
    "- `minute_price` - стоимость одной минуты поездки по данной подписке\n",
    "- `start_ride_price` - стоимость начала поездки\n",
    "- `subscription_fee` - \tстоимость ежемесячного платежа\n",
    "\n",
    "**Цель исследования** – анализ данных и проверка некоторыз гипотез, которые могут помочь принять некоторые стратегические решения для роста бизнеса. "
   ]
  },
  {
   "cell_type": "markdown",
   "id": "c42cbe00",
   "metadata": {},
   "source": [
    "### Загрузка данных"
   ]
  },
  {
   "cell_type": "code",
   "execution_count": 1,
   "id": "1ad7d887",
   "metadata": {},
   "outputs": [],
   "source": [
    "import pandas as pd"
   ]
  },
  {
   "cell_type": "code",
   "execution_count": 2,
   "id": "e42b5474",
   "metadata": {},
   "outputs": [],
   "source": [
    "import matplotlib.pyplot as plt"
   ]
  },
  {
   "cell_type": "code",
   "execution_count": 3,
   "id": "891e0411",
   "metadata": {},
   "outputs": [],
   "source": [
    "import numpy as np"
   ]
  },
  {
   "cell_type": "code",
   "execution_count": 4,
   "id": "8e0dcb71",
   "metadata": {},
   "outputs": [],
   "source": [
    "from scipy import stats as st"
   ]
  },
  {
   "cell_type": "code",
   "execution_count": 5,
   "id": "38bc1bec",
   "metadata": {},
   "outputs": [],
   "source": [
    "from scipy.stats import binom"
   ]
  },
  {
   "cell_type": "code",
   "execution_count": 6,
   "id": "c89a5617",
   "metadata": {},
   "outputs": [],
   "source": [
    "from scipy.stats import norm"
   ]
  },
  {
   "cell_type": "code",
   "execution_count": 7,
   "id": "eff9f206",
   "metadata": {
    "scrolled": false
   },
   "outputs": [
    {
     "data": {
      "text/html": [
       "<div>\n",
       "<style scoped>\n",
       "    .dataframe tbody tr th:only-of-type {\n",
       "        vertical-align: middle;\n",
       "    }\n",
       "\n",
       "    .dataframe tbody tr th {\n",
       "        vertical-align: top;\n",
       "    }\n",
       "\n",
       "    .dataframe thead th {\n",
       "        text-align: right;\n",
       "    }\n",
       "</style>\n",
       "<table border=\"1\" class=\"dataframe\">\n",
       "  <thead>\n",
       "    <tr style=\"text-align: right;\">\n",
       "      <th></th>\n",
       "      <th>user_id</th>\n",
       "      <th>name</th>\n",
       "      <th>age</th>\n",
       "      <th>city</th>\n",
       "      <th>subscription_type</th>\n",
       "    </tr>\n",
       "  </thead>\n",
       "  <tbody>\n",
       "    <tr>\n",
       "      <th>0</th>\n",
       "      <td>1</td>\n",
       "      <td>Кира</td>\n",
       "      <td>22</td>\n",
       "      <td>Тюмень</td>\n",
       "      <td>ultra</td>\n",
       "    </tr>\n",
       "    <tr>\n",
       "      <th>1</th>\n",
       "      <td>2</td>\n",
       "      <td>Станислав</td>\n",
       "      <td>31</td>\n",
       "      <td>Омск</td>\n",
       "      <td>ultra</td>\n",
       "    </tr>\n",
       "    <tr>\n",
       "      <th>2</th>\n",
       "      <td>3</td>\n",
       "      <td>Алексей</td>\n",
       "      <td>20</td>\n",
       "      <td>Москва</td>\n",
       "      <td>ultra</td>\n",
       "    </tr>\n",
       "    <tr>\n",
       "      <th>3</th>\n",
       "      <td>4</td>\n",
       "      <td>Константин</td>\n",
       "      <td>26</td>\n",
       "      <td>Ростов-на-Дону</td>\n",
       "      <td>ultra</td>\n",
       "    </tr>\n",
       "    <tr>\n",
       "      <th>4</th>\n",
       "      <td>5</td>\n",
       "      <td>Адель</td>\n",
       "      <td>28</td>\n",
       "      <td>Омск</td>\n",
       "      <td>ultra</td>\n",
       "    </tr>\n",
       "  </tbody>\n",
       "</table>\n",
       "</div>"
      ],
      "text/plain": [
       "   user_id        name  age            city subscription_type\n",
       "0        1        Кира   22          Тюмень             ultra\n",
       "1        2   Станислав   31            Омск             ultra\n",
       "2        3     Алексей   20          Москва             ultra\n",
       "3        4  Константин   26  Ростов-на-Дону             ultra\n",
       "4        5       Адель   28            Омск             ultra"
      ]
     },
     "execution_count": 7,
     "metadata": {},
     "output_type": "execute_result"
    }
   ],
   "source": [
    "# Загружаем о пользователях\n",
    "users_data = pd.read_csv('/datasets/users_go.csv')\n",
    "users_data.head(5)"
   ]
  },
  {
   "cell_type": "code",
   "execution_count": 8,
   "id": "f42ba555",
   "metadata": {},
   "outputs": [
    {
     "name": "stdout",
     "output_type": "stream",
     "text": [
      "<class 'pandas.core.frame.DataFrame'>\n",
      "RangeIndex: 1565 entries, 0 to 1564\n",
      "Data columns (total 5 columns):\n",
      " #   Column             Non-Null Count  Dtype \n",
      "---  ------             --------------  ----- \n",
      " 0   user_id            1565 non-null   int64 \n",
      " 1   name               1565 non-null   object\n",
      " 2   age                1565 non-null   int64 \n",
      " 3   city               1565 non-null   object\n",
      " 4   subscription_type  1565 non-null   object\n",
      "dtypes: int64(2), object(3)\n",
      "memory usage: 61.3+ KB\n"
     ]
    }
   ],
   "source": [
    "users_data.info()"
   ]
  },
  {
   "cell_type": "code",
   "execution_count": 9,
   "id": "120b9f84",
   "metadata": {},
   "outputs": [
    {
     "data": {
      "text/html": [
       "<div>\n",
       "<style scoped>\n",
       "    .dataframe tbody tr th:only-of-type {\n",
       "        vertical-align: middle;\n",
       "    }\n",
       "\n",
       "    .dataframe tbody tr th {\n",
       "        vertical-align: top;\n",
       "    }\n",
       "\n",
       "    .dataframe thead th {\n",
       "        text-align: right;\n",
       "    }\n",
       "</style>\n",
       "<table border=\"1\" class=\"dataframe\">\n",
       "  <thead>\n",
       "    <tr style=\"text-align: right;\">\n",
       "      <th></th>\n",
       "      <th>user_id</th>\n",
       "      <th>distance</th>\n",
       "      <th>duration</th>\n",
       "      <th>date</th>\n",
       "    </tr>\n",
       "  </thead>\n",
       "  <tbody>\n",
       "    <tr>\n",
       "      <th>0</th>\n",
       "      <td>1</td>\n",
       "      <td>4409.919140</td>\n",
       "      <td>25.599769</td>\n",
       "      <td>2021-01-01</td>\n",
       "    </tr>\n",
       "    <tr>\n",
       "      <th>1</th>\n",
       "      <td>1</td>\n",
       "      <td>2617.592153</td>\n",
       "      <td>15.816871</td>\n",
       "      <td>2021-01-18</td>\n",
       "    </tr>\n",
       "    <tr>\n",
       "      <th>2</th>\n",
       "      <td>1</td>\n",
       "      <td>754.159807</td>\n",
       "      <td>6.232113</td>\n",
       "      <td>2021-04-20</td>\n",
       "    </tr>\n",
       "    <tr>\n",
       "      <th>3</th>\n",
       "      <td>1</td>\n",
       "      <td>2694.783254</td>\n",
       "      <td>18.511000</td>\n",
       "      <td>2021-08-11</td>\n",
       "    </tr>\n",
       "    <tr>\n",
       "      <th>4</th>\n",
       "      <td>1</td>\n",
       "      <td>4028.687306</td>\n",
       "      <td>26.265803</td>\n",
       "      <td>2021-08-28</td>\n",
       "    </tr>\n",
       "  </tbody>\n",
       "</table>\n",
       "</div>"
      ],
      "text/plain": [
       "   user_id     distance   duration        date\n",
       "0        1  4409.919140  25.599769  2021-01-01\n",
       "1        1  2617.592153  15.816871  2021-01-18\n",
       "2        1   754.159807   6.232113  2021-04-20\n",
       "3        1  2694.783254  18.511000  2021-08-11\n",
       "4        1  4028.687306  26.265803  2021-08-28"
      ]
     },
     "execution_count": 9,
     "metadata": {},
     "output_type": "execute_result"
    }
   ],
   "source": [
    "# Загружаем данные о поездках\n",
    "rides_data = pd.read_csv('/datasets/rides_go.csv')\n",
    "rides_data.head(5)"
   ]
  },
  {
   "cell_type": "code",
   "execution_count": 10,
   "id": "a3e9a291",
   "metadata": {},
   "outputs": [
    {
     "name": "stdout",
     "output_type": "stream",
     "text": [
      "<class 'pandas.core.frame.DataFrame'>\n",
      "RangeIndex: 18068 entries, 0 to 18067\n",
      "Data columns (total 4 columns):\n",
      " #   Column    Non-Null Count  Dtype  \n",
      "---  ------    --------------  -----  \n",
      " 0   user_id   18068 non-null  int64  \n",
      " 1   distance  18068 non-null  float64\n",
      " 2   duration  18068 non-null  float64\n",
      " 3   date      18068 non-null  object \n",
      "dtypes: float64(2), int64(1), object(1)\n",
      "memory usage: 564.8+ KB\n"
     ]
    }
   ],
   "source": [
    "rides_data.info()"
   ]
  },
  {
   "cell_type": "code",
   "execution_count": 11,
   "id": "842ce33e",
   "metadata": {},
   "outputs": [
    {
     "data": {
      "text/html": [
       "<div>\n",
       "<style scoped>\n",
       "    .dataframe tbody tr th:only-of-type {\n",
       "        vertical-align: middle;\n",
       "    }\n",
       "\n",
       "    .dataframe tbody tr th {\n",
       "        vertical-align: top;\n",
       "    }\n",
       "\n",
       "    .dataframe thead th {\n",
       "        text-align: right;\n",
       "    }\n",
       "</style>\n",
       "<table border=\"1\" class=\"dataframe\">\n",
       "  <thead>\n",
       "    <tr style=\"text-align: right;\">\n",
       "      <th></th>\n",
       "      <th>subscription_type</th>\n",
       "      <th>minute_price</th>\n",
       "      <th>start_ride_price</th>\n",
       "      <th>subscription_fee</th>\n",
       "    </tr>\n",
       "  </thead>\n",
       "  <tbody>\n",
       "    <tr>\n",
       "      <th>0</th>\n",
       "      <td>free</td>\n",
       "      <td>8</td>\n",
       "      <td>50</td>\n",
       "      <td>0</td>\n",
       "    </tr>\n",
       "    <tr>\n",
       "      <th>1</th>\n",
       "      <td>ultra</td>\n",
       "      <td>6</td>\n",
       "      <td>0</td>\n",
       "      <td>199</td>\n",
       "    </tr>\n",
       "  </tbody>\n",
       "</table>\n",
       "</div>"
      ],
      "text/plain": [
       "  subscription_type  minute_price  start_ride_price  subscription_fee\n",
       "0              free             8                50                 0\n",
       "1             ultra             6                 0               199"
      ]
     },
     "execution_count": 11,
     "metadata": {},
     "output_type": "execute_result"
    }
   ],
   "source": [
    "# Загружаем данные о типах подписки\n",
    "subscriptions_data = pd.read_csv('/datasets/subscriptions_go.csv')\n",
    "subscriptions_data"
   ]
  },
  {
   "cell_type": "markdown",
   "id": "e95ebca7",
   "metadata": {},
   "source": [
    "### Предобработка данных"
   ]
  },
  {
   "cell_type": "markdown",
   "id": "cd45a7af",
   "metadata": {},
   "source": [
    "#### Обработка столбца с датами"
   ]
  },
  {
   "cell_type": "code",
   "execution_count": 12,
   "id": "af6d202c",
   "metadata": {},
   "outputs": [
    {
     "data": {
      "text/html": [
       "<div>\n",
       "<style scoped>\n",
       "    .dataframe tbody tr th:only-of-type {\n",
       "        vertical-align: middle;\n",
       "    }\n",
       "\n",
       "    .dataframe tbody tr th {\n",
       "        vertical-align: top;\n",
       "    }\n",
       "\n",
       "    .dataframe thead th {\n",
       "        text-align: right;\n",
       "    }\n",
       "</style>\n",
       "<table border=\"1\" class=\"dataframe\">\n",
       "  <thead>\n",
       "    <tr style=\"text-align: right;\">\n",
       "      <th></th>\n",
       "      <th>user_id</th>\n",
       "      <th>distance</th>\n",
       "      <th>duration</th>\n",
       "      <th>date</th>\n",
       "      <th>month</th>\n",
       "    </tr>\n",
       "  </thead>\n",
       "  <tbody>\n",
       "    <tr>\n",
       "      <th>0</th>\n",
       "      <td>1</td>\n",
       "      <td>4409.919140</td>\n",
       "      <td>25.599769</td>\n",
       "      <td>2021-01-01</td>\n",
       "      <td>1</td>\n",
       "    </tr>\n",
       "    <tr>\n",
       "      <th>1</th>\n",
       "      <td>1</td>\n",
       "      <td>2617.592153</td>\n",
       "      <td>15.816871</td>\n",
       "      <td>2021-01-18</td>\n",
       "      <td>1</td>\n",
       "    </tr>\n",
       "    <tr>\n",
       "      <th>2</th>\n",
       "      <td>1</td>\n",
       "      <td>754.159807</td>\n",
       "      <td>6.232113</td>\n",
       "      <td>2021-04-20</td>\n",
       "      <td>4</td>\n",
       "    </tr>\n",
       "    <tr>\n",
       "      <th>3</th>\n",
       "      <td>1</td>\n",
       "      <td>2694.783254</td>\n",
       "      <td>18.511000</td>\n",
       "      <td>2021-08-11</td>\n",
       "      <td>8</td>\n",
       "    </tr>\n",
       "    <tr>\n",
       "      <th>4</th>\n",
       "      <td>1</td>\n",
       "      <td>4028.687306</td>\n",
       "      <td>26.265803</td>\n",
       "      <td>2021-08-28</td>\n",
       "      <td>8</td>\n",
       "    </tr>\n",
       "  </tbody>\n",
       "</table>\n",
       "</div>"
      ],
      "text/plain": [
       "   user_id     distance   duration       date  month\n",
       "0        1  4409.919140  25.599769 2021-01-01      1\n",
       "1        1  2617.592153  15.816871 2021-01-18      1\n",
       "2        1   754.159807   6.232113 2021-04-20      4\n",
       "3        1  2694.783254  18.511000 2021-08-11      8\n",
       "4        1  4028.687306  26.265803 2021-08-28      8"
      ]
     },
     "execution_count": 12,
     "metadata": {},
     "output_type": "execute_result"
    }
   ],
   "source": [
    "# Перевод столбца 'date' в формат datetime64\n",
    "rides_data['date'] = pd.to_datetime(rides_data['date'], format='%Y.%m.%d')\n",
    "\n",
    "# Создайте столбца 'month' с номером месяца на основе столбца date.\n",
    "rides_data['month'] = pd.DatetimeIndex(rides_data['date']).month\n",
    "\n",
    "# Проверка\n",
    "rides_data.head(5)"
   ]
  },
  {
   "cell_type": "markdown",
   "id": "5582a293",
   "metadata": {},
   "source": [
    "#### Поиск и обрабокта пропущенных значений и дубликатов"
   ]
  },
  {
   "cell_type": "code",
   "execution_count": 13,
   "id": "28501e8b",
   "metadata": {},
   "outputs": [
    {
     "data": {
      "text/plain": [
       "user_id     0\n",
       "distance    0\n",
       "duration    0\n",
       "date        0\n",
       "month       0\n",
       "dtype: int64"
      ]
     },
     "execution_count": 13,
     "metadata": {},
     "output_type": "execute_result"
    }
   ],
   "source": [
    "# Поиск пропусков в 'rides_data'\n",
    "rides_data.isna().sum()"
   ]
  },
  {
   "cell_type": "code",
   "execution_count": 14,
   "id": "093b27b8",
   "metadata": {},
   "outputs": [
    {
     "data": {
      "text/plain": [
       "0"
      ]
     },
     "execution_count": 14,
     "metadata": {},
     "output_type": "execute_result"
    }
   ],
   "source": [
    "# Поиск дубликатов в 'rides_data'\n",
    "rides_data.duplicated().sum()"
   ]
  },
  {
   "cell_type": "code",
   "execution_count": 15,
   "id": "8948ad4c",
   "metadata": {},
   "outputs": [
    {
     "data": {
      "text/plain": [
       "user_id              0\n",
       "name                 0\n",
       "age                  0\n",
       "city                 0\n",
       "subscription_type    0\n",
       "dtype: int64"
      ]
     },
     "execution_count": 15,
     "metadata": {},
     "output_type": "execute_result"
    }
   ],
   "source": [
    "# Поиск пропусков в 'users_data'\n",
    "users_data.isna().sum()"
   ]
  },
  {
   "cell_type": "code",
   "execution_count": 16,
   "id": "4b723506",
   "metadata": {
    "scrolled": true
   },
   "outputs": [
    {
     "data": {
      "text/plain": [
       "31"
      ]
     },
     "execution_count": 16,
     "metadata": {},
     "output_type": "execute_result"
    }
   ],
   "source": [
    "# Поиск дубликатов в 'users_data'\n",
    "users_data.duplicated().sum()"
   ]
  },
  {
   "cell_type": "code",
   "execution_count": 17,
   "id": "bac8f0d5",
   "metadata": {},
   "outputs": [
    {
     "data": {
      "text/plain": [
       "0"
      ]
     },
     "execution_count": 17,
     "metadata": {},
     "output_type": "execute_result"
    }
   ],
   "source": [
    "# Удаление дублирующихся строк из 'users_data'\n",
    "users_data = users_data.drop_duplicates()\n",
    "\n",
    "# Проверка\n",
    "users_data.duplicated().sum()"
   ]
  },
  {
   "cell_type": "code",
   "execution_count": 18,
   "id": "5ca913af",
   "metadata": {},
   "outputs": [
    {
     "data": {
      "text/plain": [
       "array(['Тюмень', 'Омск', 'Москва', 'Ростов-на-Дону', 'Краснодар',\n",
       "       'Пятигорск', 'Екатеринбург', 'Сочи'], dtype=object)"
      ]
     },
     "execution_count": 18,
     "metadata": {},
     "output_type": "execute_result"
    }
   ],
   "source": [
    "# Проверка на неявные дубликаты в 'users_data'\n",
    "users_data['city'].unique()"
   ]
  },
  {
   "cell_type": "markdown",
   "id": "212593c7",
   "metadata": {},
   "source": [
    "### Исследовательский анализ данных"
   ]
  },
  {
   "cell_type": "markdown",
   "id": "6dd6b419",
   "metadata": {},
   "source": [
    "#### Частота встречаемости городов"
   ]
  },
  {
   "cell_type": "code",
   "execution_count": 19,
   "id": "d6694c3c",
   "metadata": {},
   "outputs": [
    {
     "data": {
      "image/png": "[encoded data removed]",
      "text/plain": [
       "<Figure size 432x288 with 1 Axes>"
      ]
     },
     "metadata": {
      "needs_background": "light"
     },
     "output_type": "display_data"
    },
    {
     "data": {
      "text/plain": [
       "Пятигорск         219\n",
       "Екатеринбург      204\n",
       "Ростов-на-Дону    198\n",
       "Краснодар         193\n",
       "Сочи              189\n",
       "Омск              183\n",
       "Тюмень            180\n",
       "Москва            168\n",
       "Name: city, dtype: int64"
      ]
     },
     "execution_count": 19,
     "metadata": {},
     "output_type": "execute_result"
    }
   ],
   "source": [
    "# Графический вывод частоты встречаемости городов\n",
    "users_data['city'].value_counts().plot(kind = 'bar',\n",
    "                                       title = 'Частота встречаемости городов',\n",
    "                                       xlabel = 'Города',\n",
    "                                       ylabel = 'Частота')\n",
    "plt.show()\n",
    "\n",
    "# Вывод численных значений частоты встречаемости городов\n",
    "users_data['city'].value_counts()"
   ]
  },
  {
   "cell_type": "markdown",
   "id": "481de4b5",
   "metadata": {},
   "source": [
    "#### Соотношение пользователей с подпиской и без подписки"
   ]
  },
  {
   "cell_type": "code",
   "execution_count": 20,
   "id": "4ca2f38a",
   "metadata": {},
   "outputs": [
    {
     "data": {
      "text/plain": [
       "1534"
      ]
     },
     "execution_count": 20,
     "metadata": {},
     "output_type": "execute_result"
    }
   ],
   "source": [
    "# Количество пользователей\n",
    "len(users_data['subscription_type'])"
   ]
  },
  {
   "cell_type": "code",
   "execution_count": 21,
   "id": "d38cd539",
   "metadata": {},
   "outputs": [
    {
     "data": {
      "image/png": "[encoded data removed]",
      "text/plain": [
       "<Figure size 432x288 with 1 Axes>"
      ]
     },
     "metadata": {
      "needs_background": "light"
     },
     "output_type": "display_data"
    },
    {
     "data": {
      "text/plain": [
       "free     835\n",
       "ultra    699\n",
       "Name: subscription_type, dtype: int64"
      ]
     },
     "execution_count": 21,
     "metadata": {},
     "output_type": "execute_result"
    }
   ],
   "source": [
    "# Графический вывод cоотношение пользователей с подпиской и без подписки\n",
    "users_data['subscription_type'].value_counts().plot(kind='bar',\n",
    "                                                    title='Соотношение пользователей с подпиской и без подписки',\n",
    "                                                    xlabel='Тип подписки',\n",
    "                                                    ylabel='Количество пользователей',\n",
    "                                                    rot=0\n",
    "                                                   )\n",
    "plt.show()\n",
    "\n",
    "# Вывод численных значений cоотношениz пользователей с подпиской и без подписки\n",
    "users_data['subscription_type'].value_counts()"
   ]
  },
  {
   "cell_type": "markdown",
   "id": "2705c4e2",
   "metadata": {},
   "source": [
    "#### Возраст пользователей"
   ]
  },
  {
   "cell_type": "code",
   "execution_count": 22,
   "id": "5386503a",
   "metadata": {},
   "outputs": [
    {
     "data": {
      "text/plain": [
       "count    1534.000000\n",
       "mean       24.903520\n",
       "std         4.572367\n",
       "min        12.000000\n",
       "25%        22.000000\n",
       "50%        25.000000\n",
       "75%        28.000000\n",
       "max        43.000000\n",
       "Name: age, dtype: float64"
      ]
     },
     "execution_count": 22,
     "metadata": {},
     "output_type": "execute_result"
    },
    {
     "data": {
      "image/png": "[encoded data removed]",
      "text/plain": [
       "<Figure size 432x288 with 1 Axes>"
      ]
     },
     "metadata": {
      "needs_background": "light"
     },
     "output_type": "display_data"
    }
   ],
   "source": [
    "# Строим график распределения возраста пользователей\n",
    "plt.hist(users_data['age'], bins=30, edgecolor='black')\n",
    "plt.title('Распределение возраста пользователей')\n",
    "plt.xlabel('Возраст')\n",
    "plt.ylabel('Количество пользователей')\n",
    "plt.grid(True, linestyle='--', alpha=0.7)\n",
    "\n",
    "# Численно описываем данные\n",
    "users_data['age'].describe()"
   ]
  },
  {
   "cell_type": "markdown",
   "id": "7a8476f8",
   "metadata": {},
   "source": [
    "#### Расстояние, которое пользователь преодолел за одну поездку"
   ]
  },
  {
   "cell_type": "code",
   "execution_count": 23,
   "id": "8594145f",
   "metadata": {},
   "outputs": [
    {
     "data": {
      "text/plain": [
       "count    18068.000000\n",
       "mean      3070.659976\n",
       "std       1116.831209\n",
       "min          0.855683\n",
       "25%       2543.226360\n",
       "50%       3133.609994\n",
       "75%       3776.222735\n",
       "max       7211.007745\n",
       "Name: distance, dtype: float64"
      ]
     },
     "execution_count": 23,
     "metadata": {},
     "output_type": "execute_result"
    },
    {
     "data": {
      "image/png": "[encoded data removed]",
      "text/plain": [
       "<Figure size 432x288 with 1 Axes>"
      ]
     },
     "metadata": {
      "needs_background": "light"
     },
     "output_type": "display_data"
    }
   ],
   "source": [
    "# Строим график распределения расстояния поездок\n",
    "plt.hist(rides_data['distance'], bins = 100)\n",
    "plt.title('Распределение расстояний за одну поездку')\n",
    "plt.xlabel('Метры')\n",
    "plt.ylabel('Количество поездок')\n",
    "plt.grid(True, linestyle='--', alpha=0.7)\n",
    "\n",
    "# Численно описываем данные\n",
    "rides_data['distance'].describe()"
   ]
  },
  {
   "cell_type": "code",
   "execution_count": 24,
   "id": "f5123da8",
   "metadata": {},
   "outputs": [
    {
     "data": {
      "image/png": "[encoded data removed]",
      "text/plain": [
       "<Figure size 432x288 with 1 Axes>"
      ]
     },
     "metadata": {
      "needs_background": "light"
     },
     "output_type": "display_data"
    }
   ],
   "source": [
    "# Фильтрация данных по границам IQR\n",
    "rides_data = rides_data[rides_data['distance'] <= 6000]\n",
    "# Проверка фильтрации\n",
    "plt.hist(rides_data['distance'], bins = 100)\n",
    "plt.title('Распределение расстояний за одну поездку')\n",
    "plt.xlabel('Метры')\n",
    "plt.ylabel('Количество поездок')\n",
    "plt.grid(True, linestyle='--', alpha=0.7)"
   ]
  },
  {
   "cell_type": "markdown",
   "id": "59c1b2c1",
   "metadata": {},
   "source": [
    "#### Продолжительность поездок"
   ]
  },
  {
   "cell_type": "code",
   "execution_count": 25,
   "id": "447ec76c",
   "metadata": {},
   "outputs": [
    {
     "data": {
      "text/plain": [
       "count    18022.000000\n",
       "mean        17.799917\n",
       "std          6.072652\n",
       "min          0.500000\n",
       "25%         13.595711\n",
       "50%         17.667145\n",
       "75%         21.709773\n",
       "max         40.823963\n",
       "Name: duration, dtype: float64"
      ]
     },
     "execution_count": 25,
     "metadata": {},
     "output_type": "execute_result"
    },
    {
     "data": {
      "image/png": "[encoded data removed]",
      "text/plain": [
       "<Figure size 432x288 with 1 Axes>"
      ]
     },
     "metadata": {
      "needs_background": "light"
     },
     "output_type": "display_data"
    }
   ],
   "source": [
    "# Строим график распределения продолжительности поездок\n",
    "plt.hist(rides_data['duration'], bins = 100)\n",
    "plt.title('Распределение продолжительности поездок')\n",
    "plt.xlabel('Минуты')\n",
    "plt.ylabel('Количество поездок')\n",
    "plt.grid(True, linestyle='--', alpha=0.7)\n",
    "\n",
    "# Численно описываем данные\n",
    "rides_data['duration'].describe()"
   ]
  },
  {
   "cell_type": "code",
   "execution_count": 26,
   "id": "d6267f9d",
   "metadata": {},
   "outputs": [
    {
     "data": {
      "image/png": "[encoded data removed]",
      "text/plain": [
       "<Figure size 432x288 with 1 Axes>"
      ]
     },
     "metadata": {
      "needs_background": "light"
     },
     "output_type": "display_data"
    }
   ],
   "source": [
    "# Рассмотрения выброса данных\n",
    "plt.hist(rides_data['duration'], bins = 100, range=(0,5))\n",
    "plt.title('Распределение продолжительности поездок')\n",
    "plt.xlabel('Минуты')\n",
    "plt.ylabel('Количество поездок')\n",
    "plt.grid(True, linestyle='--', alpha=0.7)"
   ]
  },
  {
   "cell_type": "code",
   "execution_count": 27,
   "id": "7e56f896",
   "metadata": {},
   "outputs": [],
   "source": [
    "# Определение границ IQR\n",
    "iqr = rides_data['duration'].quantile(0.75) - rides_data['duration'].quantile(0.25)\n",
    "up_lim_duration = rides_data['duration'].quantile(0.75) + 1.5 * iqr\n",
    "down_lim_duration = rides_data['duration'].quantile(0.25) - 1.5 * iqr\n",
    "\n",
    "# Фильтрация данных по границам IQR\n",
    "rides_data = rides_data[(rides_data['duration'] <= up_lim_duration) & (rides_data['duration'] >= down_lim_duration)]"
   ]
  },
  {
   "cell_type": "code",
   "execution_count": 28,
   "id": "e3931dbe",
   "metadata": {},
   "outputs": [
    {
     "data": {
      "text/plain": [
       "count    17855.000000\n",
       "mean        17.802540\n",
       "std          5.865479\n",
       "min          2.035632\n",
       "25%         13.646146\n",
       "50%         17.668998\n",
       "75%         21.669573\n",
       "max         33.879527\n",
       "Name: duration, dtype: float64"
      ]
     },
     "execution_count": 28,
     "metadata": {},
     "output_type": "execute_result"
    },
    {
     "data": {
      "image/png": "[encoded data removed]",
      "text/plain": [
       "<Figure size 432x288 with 1 Axes>"
      ]
     },
     "metadata": {
      "needs_background": "light"
     },
     "output_type": "display_data"
    }
   ],
   "source": [
    "# Проверка фильрации\n",
    "plt.hist(rides_data['duration'], bins = 100)\n",
    "plt.title('Распределение продолжительности поездок')\n",
    "plt.xlabel('Минуты')\n",
    "plt.ylabel('Количество поездок')\n",
    "plt.grid(True, linestyle='--', alpha=0.7)\n",
    "\n",
    "# Численно описываем данные\n",
    "rides_data['duration'].describe()"
   ]
  },
  {
   "cell_type": "markdown",
   "id": "4ef51331",
   "metadata": {},
   "source": [
    "### Объединение данных"
   ]
  },
  {
   "cell_type": "markdown",
   "id": "adf38d51",
   "metadata": {},
   "source": [
    "#### Объедините данные о пользователях, поездках и подписках в один датафрейм"
   ]
  },
  {
   "cell_type": "code",
   "execution_count": 29,
   "id": "6bf288b5",
   "metadata": {},
   "outputs": [
    {
     "data": {
      "text/html": [
       "<div>\n",
       "<style scoped>\n",
       "    .dataframe tbody tr th:only-of-type {\n",
       "        vertical-align: middle;\n",
       "    }\n",
       "\n",
       "    .dataframe tbody tr th {\n",
       "        vertical-align: top;\n",
       "    }\n",
       "\n",
       "    .dataframe thead th {\n",
       "        text-align: right;\n",
       "    }\n",
       "</style>\n",
       "<table border=\"1\" class=\"dataframe\">\n",
       "  <thead>\n",
       "    <tr style=\"text-align: right;\">\n",
       "      <th></th>\n",
       "      <th>user_id</th>\n",
       "      <th>name</th>\n",
       "      <th>age</th>\n",
       "      <th>city</th>\n",
       "      <th>subscription_type</th>\n",
       "      <th>distance</th>\n",
       "      <th>duration</th>\n",
       "      <th>date</th>\n",
       "      <th>month</th>\n",
       "      <th>minute_price</th>\n",
       "      <th>start_ride_price</th>\n",
       "      <th>subscription_fee</th>\n",
       "    </tr>\n",
       "  </thead>\n",
       "  <tbody>\n",
       "    <tr>\n",
       "      <th>0</th>\n",
       "      <td>1</td>\n",
       "      <td>Кира</td>\n",
       "      <td>22</td>\n",
       "      <td>Тюмень</td>\n",
       "      <td>ultra</td>\n",
       "      <td>4409.919140</td>\n",
       "      <td>26.0</td>\n",
       "      <td>2021-01-01</td>\n",
       "      <td>1</td>\n",
       "      <td>6</td>\n",
       "      <td>0</td>\n",
       "      <td>199</td>\n",
       "    </tr>\n",
       "    <tr>\n",
       "      <th>1</th>\n",
       "      <td>1</td>\n",
       "      <td>Кира</td>\n",
       "      <td>22</td>\n",
       "      <td>Тюмень</td>\n",
       "      <td>ultra</td>\n",
       "      <td>2617.592153</td>\n",
       "      <td>16.0</td>\n",
       "      <td>2021-01-18</td>\n",
       "      <td>1</td>\n",
       "      <td>6</td>\n",
       "      <td>0</td>\n",
       "      <td>199</td>\n",
       "    </tr>\n",
       "    <tr>\n",
       "      <th>2</th>\n",
       "      <td>1</td>\n",
       "      <td>Кира</td>\n",
       "      <td>22</td>\n",
       "      <td>Тюмень</td>\n",
       "      <td>ultra</td>\n",
       "      <td>754.159807</td>\n",
       "      <td>7.0</td>\n",
       "      <td>2021-04-20</td>\n",
       "      <td>4</td>\n",
       "      <td>6</td>\n",
       "      <td>0</td>\n",
       "      <td>199</td>\n",
       "    </tr>\n",
       "    <tr>\n",
       "      <th>3</th>\n",
       "      <td>1</td>\n",
       "      <td>Кира</td>\n",
       "      <td>22</td>\n",
       "      <td>Тюмень</td>\n",
       "      <td>ultra</td>\n",
       "      <td>2694.783254</td>\n",
       "      <td>19.0</td>\n",
       "      <td>2021-08-11</td>\n",
       "      <td>8</td>\n",
       "      <td>6</td>\n",
       "      <td>0</td>\n",
       "      <td>199</td>\n",
       "    </tr>\n",
       "    <tr>\n",
       "      <th>4</th>\n",
       "      <td>1</td>\n",
       "      <td>Кира</td>\n",
       "      <td>22</td>\n",
       "      <td>Тюмень</td>\n",
       "      <td>ultra</td>\n",
       "      <td>4028.687306</td>\n",
       "      <td>27.0</td>\n",
       "      <td>2021-08-28</td>\n",
       "      <td>8</td>\n",
       "      <td>6</td>\n",
       "      <td>0</td>\n",
       "      <td>199</td>\n",
       "    </tr>\n",
       "  </tbody>\n",
       "</table>\n",
       "</div>"
      ],
      "text/plain": [
       "   user_id  name  age    city subscription_type     distance  duration  \\\n",
       "0        1  Кира   22  Тюмень             ultra  4409.919140      26.0   \n",
       "1        1  Кира   22  Тюмень             ultra  2617.592153      16.0   \n",
       "2        1  Кира   22  Тюмень             ultra   754.159807       7.0   \n",
       "3        1  Кира   22  Тюмень             ultra  2694.783254      19.0   \n",
       "4        1  Кира   22  Тюмень             ultra  4028.687306      27.0   \n",
       "\n",
       "        date  month  minute_price  start_ride_price  subscription_fee  \n",
       "0 2021-01-01      1             6                 0               199  \n",
       "1 2021-01-18      1             6                 0               199  \n",
       "2 2021-04-20      4             6                 0               199  \n",
       "3 2021-08-11      8             6                 0               199  \n",
       "4 2021-08-28      8             6                 0               199  "
      ]
     },
     "execution_count": 29,
     "metadata": {},
     "output_type": "execute_result"
    }
   ],
   "source": [
    "# Объединение users_data и rides_data по столбцу 'user_id'\n",
    "users_rides_data = pd.merge(users_data, rides_data, on='user_id', how='inner')\n",
    "\n",
    "# Объединение users_rides_data и subscriptions_data по столбцу subscription_type\n",
    "data = pd.merge(users_rides_data, subscriptions_data, on='subscription_type', how='inner')\n",
    "\n",
    "# Округление продолжительности каждой поездки\n",
    "data['duration'] = np.ceil(data['duration'])\n",
    "\n",
    "# Проверка объединения\n",
    "data.head(5)"
   ]
  },
  {
   "cell_type": "markdown",
   "id": "8e104b48",
   "metadata": {},
   "source": [
    "<div class=\"alert alert-info\"> <b>Комментарий студента:</b> Добавил округление продолжительности каждой поездки.</div>"
   ]
  },
  {
   "cell_type": "code",
   "execution_count": 30,
   "id": "10aa283d",
   "metadata": {
    "scrolled": true
   },
   "outputs": [
    {
     "data": {
      "text/plain": [
       "user_id              0\n",
       "name                 0\n",
       "age                  0\n",
       "city                 0\n",
       "subscription_type    0\n",
       "distance             0\n",
       "duration             0\n",
       "date                 0\n",
       "month                0\n",
       "minute_price         0\n",
       "start_ride_price     0\n",
       "subscription_fee     0\n",
       "dtype: int64"
      ]
     },
     "execution_count": 30,
     "metadata": {},
     "output_type": "execute_result"
    }
   ],
   "source": [
    "# Проверка на пропуска после объединения таблиц\n",
    "data.isna().sum()"
   ]
  },
  {
   "cell_type": "code",
   "execution_count": 31,
   "id": "512a59b6",
   "metadata": {},
   "outputs": [
    {
     "name": "stdout",
     "output_type": "stream",
     "text": [
      "Размер объединенной таблицы соответствует ожиданиям\n"
     ]
    }
   ],
   "source": [
    "#Проверка размера объедененный таблицы\n",
    "if len(data) == len(users_rides_data):\n",
    "    print('Размер объединенной таблицы соответствует ожиданиям')\n",
    "else:\n",
    "    print('Размер объединенной таблицы не соответствует ожиданиям')"
   ]
  },
  {
   "cell_type": "markdown",
   "id": "cecbc3b9",
   "metadata": {},
   "source": [
    "#### Созадние датафрейма c данными о пользователях c подпиской и без"
   ]
  },
  {
   "cell_type": "code",
   "execution_count": 32,
   "id": "20881031",
   "metadata": {},
   "outputs": [],
   "source": [
    "# Создание датафрейма c данными о пользователях c подпиской\n",
    "data_ultra = data[data['subscription_type'] == 'ultra']\n",
    "\n",
    "# Создание датафрейма c данными о пользователях без подписки\n",
    "data_free = data[data['subscription_type'] == 'free']"
   ]
  },
  {
   "cell_type": "markdown",
   "id": "f64e373f",
   "metadata": {},
   "source": [
    "#### Информация о расстоянии и времени поездок для пользователей c подпиской"
   ]
  },
  {
   "cell_type": "code",
   "execution_count": 33,
   "id": "2c6d124b",
   "metadata": {},
   "outputs": [
    {
     "data": {
      "text/plain": [
       "count    6456.000000\n",
       "mean     3107.100520\n",
       "std       832.989306\n",
       "min       244.210438\n",
       "25%      2782.721161\n",
       "50%      3145.069243\n",
       "75%      3550.407476\n",
       "max      5699.769662\n",
       "Name: distance, dtype: float64"
      ]
     },
     "execution_count": 33,
     "metadata": {},
     "output_type": "execute_result"
    },
    {
     "data": {
      "image/png": "[encoded data removed]",
      "text/plain": [
       "<Figure size 432x288 with 1 Axes>"
      ]
     },
     "metadata": {
      "needs_background": "light"
     },
     "output_type": "display_data"
    }
   ],
   "source": [
    "# Строим график распределения расстояния поездок\n",
    "plt.hist(data_ultra['distance'], bins = 100)\n",
    "plt.title('Распределение расстояний за одной поездку')\n",
    "plt.xlabel('Метры')\n",
    "plt.ylabel('Количество поездок')\n",
    "plt.grid(True, linestyle='--', alpha=0.7)\n",
    "\n",
    "# Численно описываем данные\n",
    "data_ultra['distance'].describe()"
   ]
  },
  {
   "cell_type": "code",
   "execution_count": 34,
   "id": "c4d506f9",
   "metadata": {},
   "outputs": [
    {
     "data": {
      "text/plain": [
       "count    6456.000000\n",
       "mean       18.920074\n",
       "std         5.409100\n",
       "min         4.000000\n",
       "25%        15.000000\n",
       "50%        19.000000\n",
       "75%        22.000000\n",
       "max        34.000000\n",
       "Name: duration, dtype: float64"
      ]
     },
     "execution_count": 34,
     "metadata": {},
     "output_type": "execute_result"
    },
    {
     "data": {
      "image/png": "[encoded data removed]",
      "text/plain": [
       "<Figure size 432x288 with 1 Axes>"
      ]
     },
     "metadata": {
      "needs_background": "light"
     },
     "output_type": "display_data"
    }
   ],
   "source": [
    "# Строим график распределения продолжительности поездок\n",
    "plt.hist(data_ultra['duration'], bins = 100)\n",
    "plt.title('Распределение продолжительности поездок')\n",
    "plt.xlabel('Минуты')\n",
    "plt.ylabel('Количество поездок')\n",
    "plt.grid(True, linestyle='--', alpha=0.7)\n",
    "\n",
    "# Численно описываем данные\n",
    "data_ultra['duration'].describe()"
   ]
  },
  {
   "cell_type": "markdown",
   "id": "0070c60c",
   "metadata": {},
   "source": [
    "#### Информация о расстоянии и времени поездок для пользователей без подписки"
   ]
  },
  {
   "cell_type": "code",
   "execution_count": 35,
   "id": "770b009d",
   "metadata": {},
   "outputs": [
    {
     "data": {
      "text/plain": [
       "count    11399.000000\n",
       "mean      3012.957242\n",
       "std       1222.229807\n",
       "min          0.855683\n",
       "25%       2354.404760\n",
       "50%       3091.807457\n",
       "75%       3870.211348\n",
       "max       5991.817697\n",
       "Name: distance, dtype: float64"
      ]
     },
     "execution_count": 35,
     "metadata": {},
     "output_type": "execute_result"
    },
    {
     "data": {
      "image/png": "[encoded data removed]",
      "text/plain": [
       "<Figure size 432x288 with 1 Axes>"
      ]
     },
     "metadata": {
      "needs_background": "light"
     },
     "output_type": "display_data"
    }
   ],
   "source": [
    "# Строим график распределения расстояния поездок\n",
    "plt.hist(data_free['distance'], bins = 100)\n",
    "plt.title('Распределение расстояний за одной поездку')\n",
    "plt.xlabel('Метры')\n",
    "plt.ylabel('Количество поездок')\n",
    "plt.grid(True, linestyle='--', alpha=0.7)\n",
    "\n",
    "# Численно описываем данные\n",
    "data_free['distance'].describe()"
   ]
  },
  {
   "cell_type": "code",
   "execution_count": 36,
   "id": "f29c930d",
   "metadata": {},
   "outputs": [
    {
     "data": {
      "text/plain": [
       "count    11399.000000\n",
       "mean        17.950434\n",
       "std          6.087773\n",
       "min          3.000000\n",
       "25%         14.000000\n",
       "50%         18.000000\n",
       "75%         22.000000\n",
       "max         34.000000\n",
       "Name: duration, dtype: float64"
      ]
     },
     "execution_count": 36,
     "metadata": {},
     "output_type": "execute_result"
    },
    {
     "data": {
      "image/png": "[encoded data removed]",
      "text/plain": [
       "<Figure size 432x288 with 1 Axes>"
      ]
     },
     "metadata": {
      "needs_background": "light"
     },
     "output_type": "display_data"
    }
   ],
   "source": [
    "# Строим график распределения продолжительности поездок\n",
    "plt.hist(data_free['duration'], bins = 100)\n",
    "plt.title('Распределение продолжительности поездок')\n",
    "plt.xlabel('Минуты')\n",
    "plt.ylabel('Количество поездок')\n",
    "plt.grid(True, linestyle='--', alpha=0.7)\n",
    "\n",
    "# Численно описываем данные\n",
    "data_free['duration'].describe()"
   ]
  },
  {
   "cell_type": "markdown",
   "id": "402d620f",
   "metadata": {},
   "source": [
    "### Подсчёт выручки"
   ]
  },
  {
   "cell_type": "markdown",
   "id": "194bbca3",
   "metadata": {},
   "source": [
    "Создадим сводную таблицу `data_revenue` с агрегированными данными о поездках на основе датафрейма `data` с объединёнными данными из пункта 4.1: суммарное расстояние, количество поездок и суммарное время для каждого пользователя за каждый месяц."
   ]
  },
  {
   "cell_type": "code",
   "execution_count": 37,
   "id": "53049e0a",
   "metadata": {},
   "outputs": [
    {
     "data": {
      "text/html": [
       "<div>\n",
       "<style scoped>\n",
       "    .dataframe tbody tr th:only-of-type {\n",
       "        vertical-align: middle;\n",
       "    }\n",
       "\n",
       "    .dataframe tbody tr th {\n",
       "        vertical-align: top;\n",
       "    }\n",
       "\n",
       "    .dataframe thead th {\n",
       "        text-align: right;\n",
       "    }\n",
       "</style>\n",
       "<table border=\"1\" class=\"dataframe\">\n",
       "  <thead>\n",
       "    <tr style=\"text-align: right;\">\n",
       "      <th></th>\n",
       "      <th>user_id</th>\n",
       "      <th>subscription_type</th>\n",
       "      <th>month</th>\n",
       "      <th>ride_count</th>\n",
       "      <th>total_distance</th>\n",
       "      <th>total_duration</th>\n",
       "    </tr>\n",
       "  </thead>\n",
       "  <tbody>\n",
       "    <tr>\n",
       "      <th>0</th>\n",
       "      <td>1</td>\n",
       "      <td>ultra</td>\n",
       "      <td>1</td>\n",
       "      <td>2</td>\n",
       "      <td>7027.511294</td>\n",
       "      <td>42.0</td>\n",
       "    </tr>\n",
       "    <tr>\n",
       "      <th>1</th>\n",
       "      <td>1</td>\n",
       "      <td>ultra</td>\n",
       "      <td>4</td>\n",
       "      <td>1</td>\n",
       "      <td>754.159807</td>\n",
       "      <td>7.0</td>\n",
       "    </tr>\n",
       "    <tr>\n",
       "      <th>2</th>\n",
       "      <td>1</td>\n",
       "      <td>ultra</td>\n",
       "      <td>8</td>\n",
       "      <td>2</td>\n",
       "      <td>6723.470560</td>\n",
       "      <td>46.0</td>\n",
       "    </tr>\n",
       "    <tr>\n",
       "      <th>3</th>\n",
       "      <td>1</td>\n",
       "      <td>ultra</td>\n",
       "      <td>10</td>\n",
       "      <td>2</td>\n",
       "      <td>5809.911100</td>\n",
       "      <td>32.0</td>\n",
       "    </tr>\n",
       "    <tr>\n",
       "      <th>4</th>\n",
       "      <td>1</td>\n",
       "      <td>ultra</td>\n",
       "      <td>11</td>\n",
       "      <td>3</td>\n",
       "      <td>7003.499363</td>\n",
       "      <td>56.0</td>\n",
       "    </tr>\n",
       "    <tr>\n",
       "      <th>5</th>\n",
       "      <td>1</td>\n",
       "      <td>ultra</td>\n",
       "      <td>12</td>\n",
       "      <td>2</td>\n",
       "      <td>6751.629942</td>\n",
       "      <td>28.0</td>\n",
       "    </tr>\n",
       "    <tr>\n",
       "      <th>6</th>\n",
       "      <td>2</td>\n",
       "      <td>ultra</td>\n",
       "      <td>3</td>\n",
       "      <td>3</td>\n",
       "      <td>10187.723006</td>\n",
       "      <td>63.0</td>\n",
       "    </tr>\n",
       "    <tr>\n",
       "      <th>7</th>\n",
       "      <td>2</td>\n",
       "      <td>ultra</td>\n",
       "      <td>4</td>\n",
       "      <td>2</td>\n",
       "      <td>6164.381824</td>\n",
       "      <td>40.0</td>\n",
       "    </tr>\n",
       "    <tr>\n",
       "      <th>8</th>\n",
       "      <td>2</td>\n",
       "      <td>ultra</td>\n",
       "      <td>6</td>\n",
       "      <td>1</td>\n",
       "      <td>3255.338202</td>\n",
       "      <td>14.0</td>\n",
       "    </tr>\n",
       "    <tr>\n",
       "      <th>9</th>\n",
       "      <td>2</td>\n",
       "      <td>ultra</td>\n",
       "      <td>7</td>\n",
       "      <td>2</td>\n",
       "      <td>6780.722964</td>\n",
       "      <td>48.0</td>\n",
       "    </tr>\n",
       "  </tbody>\n",
       "</table>\n",
       "</div>"
      ],
      "text/plain": [
       "   user_id subscription_type  month  ride_count  total_distance  \\\n",
       "0        1             ultra      1           2     7027.511294   \n",
       "1        1             ultra      4           1      754.159807   \n",
       "2        1             ultra      8           2     6723.470560   \n",
       "3        1             ultra     10           2     5809.911100   \n",
       "4        1             ultra     11           3     7003.499363   \n",
       "5        1             ultra     12           2     6751.629942   \n",
       "6        2             ultra      3           3    10187.723006   \n",
       "7        2             ultra      4           2     6164.381824   \n",
       "8        2             ultra      6           1     3255.338202   \n",
       "9        2             ultra      7           2     6780.722964   \n",
       "\n",
       "   total_duration  \n",
       "0            42.0  \n",
       "1             7.0  \n",
       "2            46.0  \n",
       "3            32.0  \n",
       "4            56.0  \n",
       "5            28.0  \n",
       "6            63.0  \n",
       "7            40.0  \n",
       "8            14.0  \n",
       "9            48.0  "
      ]
     },
     "execution_count": 37,
     "metadata": {},
     "output_type": "execute_result"
    }
   ],
   "source": [
    "# Создаём сводную таблицу с нужными агрегатами\n",
    "data_revenue=data.pivot_table(\n",
    "    index=['user_id', 'subscription_type', 'month'], # Группируем по id пользователя, типу подписки и месяце\n",
    "    values=['distance', 'duration'],        # Выбираем столбцы distance и duration для агрегирования\n",
    "    aggfunc={'distance': ['count', 'sum'],  # Количество и сумма поездок\n",
    "             'duration': 'sum'}             # Сумма времени поездок каждого пользователя\n",
    ")\n",
    "\n",
    "# Перемеименовываем столбцы\n",
    "data_revenue.columns = ['ride_count', 'total_distance', 'total_duration']\n",
    "#Сбрасываем индексы\n",
    "data_revenue = data_revenue.reset_index()\n",
    "\n",
    "\n",
    "data_revenue.head(10)"
   ]
  },
  {
   "cell_type": "markdown",
   "id": "db24fd82",
   "metadata": {},
   "source": [
    "В `data_revenue` добавим столбец с вырочкой `revenue`. \n",
    "\n",
    "Выручка считается по формуле: `стоимость старта поездки` × `количество поездок` + `стоимость одной минуты поездки` × `общая продолжительность всех поездок в минутах` + `стоимость подписки`."
   ]
  },
  {
   "cell_type": "code",
   "execution_count": 38,
   "id": "876fcb43",
   "metadata": {},
   "outputs": [
    {
     "data": {
      "text/html": [
       "<div>\n",
       "<style scoped>\n",
       "    .dataframe tbody tr th:only-of-type {\n",
       "        vertical-align: middle;\n",
       "    }\n",
       "\n",
       "    .dataframe tbody tr th {\n",
       "        vertical-align: top;\n",
       "    }\n",
       "\n",
       "    .dataframe thead th {\n",
       "        text-align: right;\n",
       "    }\n",
       "</style>\n",
       "<table border=\"1\" class=\"dataframe\">\n",
       "  <thead>\n",
       "    <tr style=\"text-align: right;\">\n",
       "      <th></th>\n",
       "      <th>user_id</th>\n",
       "      <th>subscription_type</th>\n",
       "      <th>month</th>\n",
       "      <th>ride_count</th>\n",
       "      <th>total_distance</th>\n",
       "      <th>total_duration</th>\n",
       "      <th>revenue</th>\n",
       "    </tr>\n",
       "  </thead>\n",
       "  <tbody>\n",
       "    <tr>\n",
       "      <th>0</th>\n",
       "      <td>1</td>\n",
       "      <td>ultra</td>\n",
       "      <td>1</td>\n",
       "      <td>2</td>\n",
       "      <td>7027.511294</td>\n",
       "      <td>42.0</td>\n",
       "      <td>451.0</td>\n",
       "    </tr>\n",
       "    <tr>\n",
       "      <th>1</th>\n",
       "      <td>1</td>\n",
       "      <td>ultra</td>\n",
       "      <td>4</td>\n",
       "      <td>1</td>\n",
       "      <td>754.159807</td>\n",
       "      <td>7.0</td>\n",
       "      <td>241.0</td>\n",
       "    </tr>\n",
       "    <tr>\n",
       "      <th>2</th>\n",
       "      <td>1</td>\n",
       "      <td>ultra</td>\n",
       "      <td>8</td>\n",
       "      <td>2</td>\n",
       "      <td>6723.470560</td>\n",
       "      <td>46.0</td>\n",
       "      <td>475.0</td>\n",
       "    </tr>\n",
       "    <tr>\n",
       "      <th>3</th>\n",
       "      <td>1</td>\n",
       "      <td>ultra</td>\n",
       "      <td>10</td>\n",
       "      <td>2</td>\n",
       "      <td>5809.911100</td>\n",
       "      <td>32.0</td>\n",
       "      <td>391.0</td>\n",
       "    </tr>\n",
       "    <tr>\n",
       "      <th>4</th>\n",
       "      <td>1</td>\n",
       "      <td>ultra</td>\n",
       "      <td>11</td>\n",
       "      <td>3</td>\n",
       "      <td>7003.499363</td>\n",
       "      <td>56.0</td>\n",
       "      <td>535.0</td>\n",
       "    </tr>\n",
       "  </tbody>\n",
       "</table>\n",
       "</div>"
      ],
      "text/plain": [
       "   user_id subscription_type  month  ride_count  total_distance  \\\n",
       "0        1             ultra      1           2     7027.511294   \n",
       "1        1             ultra      4           1      754.159807   \n",
       "2        1             ultra      8           2     6723.470560   \n",
       "3        1             ultra     10           2     5809.911100   \n",
       "4        1             ultra     11           3     7003.499363   \n",
       "\n",
       "   total_duration  revenue  \n",
       "0            42.0    451.0  \n",
       "1             7.0    241.0  \n",
       "2            46.0    475.0  \n",
       "3            32.0    391.0  \n",
       "4            56.0    535.0  "
      ]
     },
     "execution_count": 38,
     "metadata": {},
     "output_type": "execute_result"
    }
   ],
   "source": [
    "# Создаем столбец с помесячной выручкой для каждого пользователя\n",
    "data_revenue['revenue'] = np.where(\n",
    "    data_revenue['subscription_type'] == 'ultra',\n",
    "    6*data_revenue['total_duration'] + 199,\n",
    "    50*data_revenue['ride_count']+8*data_revenue['total_duration'])\n",
    "# Выводим результат\n",
    "data_revenue.head(5)"
   ]
  },
  {
   "cell_type": "markdown",
   "id": "41545ac0",
   "metadata": {},
   "source": [
    "### Проверка гипотез"
   ]
  },
  {
   "cell_type": "markdown",
   "id": "ebfb0525",
   "metadata": {},
   "source": [
    "#### Гипотеза № 1\n",
    "Тратят ли пользователи с подпиской больше времени на поездки чем пользователи без подписки?"
   ]
  },
  {
   "cell_type": "code",
   "execution_count": 39,
   "id": "cb97de44",
   "metadata": {
    "scrolled": true
   },
   "outputs": [
    {
     "name": "stdout",
     "output_type": "stream",
     "text": [
      "p-значение: 1.1831531737712197e-26\n",
      "Отвергаем нулевую гипотезу: пользователи с подпиской тратят больше времени на поездки\n"
     ]
    }
   ],
   "source": [
    "# Извлекаем данные о времени поездках\n",
    "duration_ultra = data_ultra['duration']\n",
    "duration_free = data_free['duration']\n",
    "\n",
    "# Уровень значимости\n",
    "alpha = 0.05\n",
    "\n",
    "# Одновыборочный t-тест\n",
    "results_1 = st.ttest_ind(duration_ultra, duration_free, alternative='greater')\n",
    "\n",
    "print('p-значение:', results_1.pvalue)\n",
    "\n",
    "if results_1.pvalue < alpha:\n",
    "    print('Отвергаем нулевую гипотезу: пользователи с подпиской тратят больше времени на поездки')\n",
    "else:\n",
    "    print('Не получилось отвергнуть нулевую гипотезу: пользователи с подпиской не тратят значимо больше времени')"
   ]
  },
  {
   "cell_type": "markdown",
   "id": "444f700c",
   "metadata": {},
   "source": [
    "#### Гипотеза № 2\n",
    "Можно ли сказать, что среднее расстояние, которое проезжают пользователи с подпиской за одну поездку, не превышает 3130 метров?"
   ]
  },
  {
   "cell_type": "markdown",
   "id": "73b9555a",
   "metadata": {},
   "source": [
    "#### Гипотеза № 3\n",
    "Будет ли помесячная выручка от пользователей с подпиской по месяцам выше, чем выручка от пользователей без подписки?"
   ]
  },
  {
   "cell_type": "code",
   "execution_count": 40,
   "id": "4b49f7d1",
   "metadata": {},
   "outputs": [],
   "source": [
    "# Создадим два датафрейма с помесячной выручкой для пользователей с подпиской и без\n",
    "data_revenue_ultra = data_revenue[data_revenue['subscription_type'] == 'ultra']\n",
    "data_revenue_free = data_revenue[data_revenue['subscription_type'] == 'free']"
   ]
  },
  {
   "cell_type": "code",
   "execution_count": 41,
   "id": "b18a74af",
   "metadata": {},
   "outputs": [
    {
     "name": "stdout",
     "output_type": "stream",
     "text": [
      "p-значение: 8.117680327570415e-32\n",
      "Отверагем нулевую гипотезу: средняя помесячная выручка от пользователей с подпиской выше, чем от пользователей без подписки\n"
     ]
    }
   ],
   "source": [
    "# Извлекаем данные о помесячной выручке для каждой группы\n",
    "revenue_ultra = data_revenue_ultra['revenue']\n",
    "revenue_free = data_revenue_free['revenue']\n",
    "\n",
    "# Уровень значимости\n",
    "alpha = 0.05\n",
    "\n",
    "# Одновыборочный t-тест\n",
    "results_3 = st.ttest_ind(revenue_ultra, revenue_free, alternative='greater')\n",
    "\n",
    "print('p-значение:', results_3.pvalue)\n",
    "\n",
    "if results_3.pvalue < alpha: \n",
    "    print('Отверагем нулевую гипотезу: средняя помесячная выручка от пользователей с подпиской выше, чем от пользователей без подписки')\n",
    "else:\n",
    "    print('Не получилось отвергнуть нулевую гипотезу: недостаточно доказательств, что средняя помесячная выручка от пользователей с подпиской выше')"
   ]
  },
  {
   "cell_type": "markdown",
   "id": "295bec0f",
   "metadata": {},
   "source": [
    "#### Гипотеза № 4"
   ]
  },
  {
   "cell_type": "markdown",
   "id": "6e57463e",
   "metadata": {},
   "source": [
    "Техническая команда сервиса обновила сервера, с которыми взаимодействует мобильное приложение. Она надеется, что из-за этого количество обращений в техподдержку значимо снизилось. Некоторый файл содержит для каждого пользователя данные о количестве обращений до обновления и после него. Какой тест вам понадобился бы для проверки этой гипотезы?"
   ]
  },
  {
   "cell_type": "markdown",
   "id": "ff55a8b3",
   "metadata": {},
   "source": [
    "В данном случае мы бы провели **двухвыборочный t-тест для зависимых выборок**. Необходимый метод из библиотеки `scipy`: `scipy.stats.ttest_rel`."
   ]
  },
  {
   "cell_type": "markdown",
   "id": "61213c5e",
   "metadata": {},
   "source": [
    "### Распределения"
   ]
  },
  {
   "cell_type": "markdown",
   "id": "df8e279e",
   "metadata": {},
   "source": [
    "#### Задача 1\n",
    "Отделу маркетинга GoFast поставили задачу: нужно провести акцию с раздачей промокодов на один бесплатный месяц подписки, в рамках которой как минимум 100 существующих клиентов должны продлить эту подписку. То есть по завершении периода действия подписки пользователь может либо отказаться от неё, либо продлить, совершив соответствующий платёж. \n",
    "\n",
    "Эта акция уже проводилась ранее и по итогу выяснилось, что после бесплатного пробного периода подписку продлевают 10 % пользователей. Выясните, какое минимальное количество промокодов нужно разослать, чтобы вероятность не выполнить план была примерно 5 %. Подберите параметры распределения, описывающего эту ситуацию, постройте график распределения и сформулируйте ответ на вопрос о количестве промокодов."
   ]
  },
  {
   "cell_type": "code",
   "execution_count": 42,
   "id": "ee0de060",
   "metadata": {},
   "outputs": [
    {
     "name": "stdout",
     "output_type": "stream",
     "text": [
      "Вероятность не выполнить план при n = 1160 : 0.0507443655394362\n"
     ]
    }
   ],
   "source": [
    "n = 1160  # тестовое количество разосланных промокодов \n",
    "p = 0.1\n",
    "k = 99    # максимальное значение для продлений, при котором план не будет выполнен\n",
    "probability = binom.cdf(k, n, p)\n",
    "print(\"Вероятность не выполнить план при n =\", n, \":\", probability)"
   ]
  },
  {
   "cell_type": "code",
   "execution_count": 43,
   "id": "44749181",
   "metadata": {
    "scrolled": false
   },
   "outputs": [
    {
     "data": {
      "image/png": "[encoded data removed]",
      "text/plain": [
       "<Figure size 864x432 with 1 Axes>"
      ]
     },
     "metadata": {
      "needs_background": "light"
     },
     "output_type": "display_data"
    }
   ],
   "source": [
    "# Параметры задачи\n",
    "n = 1160  # Количество промокодов, которые планируется разослать\n",
    "p = 0.1   # Вероятность того, что пользователь продлит подписку\n",
    "\n",
    "# Вычисление вероятностей только в окрестности значимых значений (50 до 150)\n",
    "k_values = range(50, 150)\n",
    "distr = [binom.pmf(k, n, p) for k in k_values]\n",
    "\n",
    "# График\n",
    "plt.figure(figsize=(12, 6))\n",
    "plt.bar(k_values, distr, color='blue', alpha=0.7)\n",
    "plt.title('Распределение вероятности количества продлений для n = 1160')\n",
    "plt.xlabel('Количество продлений')\n",
    "plt.ylabel('Вероятность')\n",
    "plt.grid(axis='y', linestyle='--', alpha=0.7)\n",
    "plt.show()"
   ]
  },
  {
   "cell_type": "markdown",
   "id": "ea56c103",
   "metadata": {},
   "source": [
    "#### Задача 2\n",
    "\n",
    "Отдел маркетинга рассылает клиентам push-уведомления в мобильном приложении. Клиенты могут открыть его или не открывать. Известно, что уведомления открывают около 40 % получивших клиентов. Отдел планирует разослать 1 млн уведомлений. С помощью аппроксимации постройте примерный график распределения и оцените вероятность того, что уведомление откроют не более 399,5 тыс. пользователей."
   ]
  },
  {
   "cell_type": "code",
   "execution_count": 44,
   "id": "3a6c5974",
   "metadata": {},
   "outputs": [
    {
     "name": "stdout",
     "output_type": "stream",
     "text": [
      "Вероятность того, что уведомление откроют не более 399,5 тыс. раз: 0.15371708296369768\n"
     ]
    }
   ],
   "source": [
    "# Параметры задачи\n",
    "n = 1000000       # Количество разосланных уведомлений\n",
    "p = 0.4           # Вероятность открытия уведомления\n",
    "\n",
    "# Расчёт параметров нормального распределения\n",
    "mu = n * p                            # Среднее значение\n",
    "sigma = np.sqrt(n * p * (1 - p))      # Стандартное отклонение\n",
    "\n",
    "# Значение для оценки вероятности\n",
    "k = 399500\n",
    "\n",
    "# Вероятность того, что уведомление откроют не более 399500 раз\n",
    "probability = norm.cdf(k, mu, sigma)\n",
    "\n",
    "# Вероятность того, что уведомление откроют не более 399500 раз\n",
    "probability = norm.cdf(k, mu, sigma)\n",
    "print(\"Вероятность того, что уведомление откроют не более 399,5 тыс. раз:\", probability)\n"
   ]
  },
  {
   "cell_type": "code",
   "execution_count": 45,
   "id": "81180838",
   "metadata": {
    "scrolled": true
   },
   "outputs": [
    {
     "data": {
      "image/png": "[encoded data removed]",
      "text/plain": [
       "<Figure size 864x432 with 1 Axes>"
      ]
     },
     "metadata": {
      "needs_background": "light"
     },
     "output_type": "display_data"
    }
   ],
   "source": [
    "# Построение графика нормального распределения\n",
    "x_values = np.linspace(mu - 4 * sigma, mu + 4 * sigma, 1000)\n",
    "y_values = norm.pdf(x_values, mu, sigma)\n",
    "\n",
    "plt.figure(figsize=(12, 6))\n",
    "plt.plot(x_values, y_values, color='blue', label='Аппроксимация биномиального нормальным распределением')\n",
    "plt.axvline(k, color='red', linestyle='--', label='399500 открытий')\n",
    "plt.fill_between(x_values, 0, y_values, where=(x_values <= k), color='blue', alpha=0.2)\n",
    "\n",
    "# Подписи\n",
    "plt.title('Распределение вероятности для количества открытий уведомлений')\n",
    "plt.xlabel('Количество открытий')\n",
    "plt.ylabel('Плотность вероятности')\n",
    "plt.legend()\n",
    "plt.grid(True)\n",
    "plt.show()"
   ]
  },
  {
   "cell_type": "markdown",
   "id": "fc0f2bf2",
   "metadata": {},
   "source": [
    "### Вывод\n",
    "\n",
    "**Загрузка и подготовка данных:**\n",
    "- Загрузили три датафрейма: с информацией о пользователях, поездках и подписках.\n",
    "- Обработали данные, удалив пропущенные значения и дубликаты для обеспечения чистоты данных.\n",
    "\n",
    "**Исследовательский анализ данных:**\n",
    "- Провели анализ частоты встречаемости городов и распределения пользователей по типам подписки.\n",
    "- Изучили возраст пользователей, чтобы понять возрастную структуру клиентов.\n",
    "- Проанализировали среднее расстояние, преодолеваемое пользователями за одну поездку, и продолжительность поездок для обеих групп (с подпиской и без).\n",
    "- Выявили различия в поведении пользователей с подпиской и без неё.\n",
    "\n",
    "**Объединение данных:**\n",
    "- Объединили три датафрейма в один, чтобы связать информацию о пользователях, поездках и подписках.\n",
    "- Подготовили объединённые данные, в которых была доступна информация о выручке, расстояниях и других характеристиках пользователей с подпиской и без неё.\n",
    "\n",
    "**Подсчёт выручки:**\n",
    "- Рассчитали выручку для каждого пользователя с учётом его типа подписки (учитывались абонентская плата, стоимость поездок и стартов поездок).\n",
    "- Получили данные о помесячной выручке, которые стали основой для проверки гипотез.\n",
    "\n",
    "**Проверка гипотез:**\n",
    "- Гипотеза 1: Тратят ли пользователи с подпиской больше времени на поездки, чем пользователи без подписки? Провели t-тест для независимых выборок, показавший, что пользователи с подпиской действительно проводят больше времени в поездках.\n",
    "- Гипотеза 2: Можно ли сказать, что среднее расстояние, которое проезжают пользователи с подпиской за одну поездку, не превышает 3130 метров? Провели одновыборочный t-тест, показавший, что среднее расстояние не превышает 3130 метров.\n",
    "- Гипотеза 3: Будет ли помесячная выручка от пользователей с подпиской по месяцам выше, чем выручка от пользователей без подписки? Выполнили t-тест для независимых выборок и подтвердили, что помесячная выручка от пользователей с подпиской значимо выше.\n",
    "\n",
    "**Заключение:** Анализ подтвердил, что пользователи с подпиской тратят больше времени на поездки, проезжают не превышающее порог расстояние и приносят больше выручки. Эти выводы могут помочь компании в принятии решений о стратегии продвижения подписок и эффективности обновления серверов для снижения обращений в техподдержку."
   ]
  },
  {
   "cell_type": "code",
   "execution_count": 1,
   "id": "a5a71028",
   "metadata": {},
   "outputs": [
    {
     "data": {
      "image/png": "[encoded data removed]",
      "text/plain": [
       "<Figure size 576x576 with 1 Axes>"
      ]
     },
     "metadata": {
      "needs_background": "light"
     },
     "output_type": "display_data"
    }
   ],
   "source": [
    "import matplotlib.pyplot as plt\n",
    "from matplotlib.patches import Circle\n",
    "\n",
    "# Создаем область графика\n",
    "fig, ax = plt.subplots(figsize=(8, 8))\n",
    "ax.set_xlim(-10, 10)\n",
    "ax.set_ylim(-10, 10)\n",
    "\n",
    "# Добавляем круги для зон\n",
    "circles = [\n",
    "    Circle((0, 0), 3, color=\"lightblue\", alpha=0.5, label=\"Внутренний круг\"),\n",
    "    Circle((0, 0), 6, color=\"lightgreen\", alpha=0.5, label=\"Ближний круг\"),\n",
    "    Circle((0, 0), 9, color=\"lightcoral\", alpha=0.5, label=\"Дальний круг\"),\n",
    "]\n",
    "\n",
    "for circle in circles:\n",
    "    ax.add_artist(circle)\n",
    "\n",
    "# Задаем данные\n",
    "data = {\n",
    "    \"Внутренний круг\": [\"Разработчики\", \"Администраторы\", \"Руководство МГТУ\"],\n",
    "    \"Ближний круг\": [\"Госучреждения\", \"IT-отделы\", \"Конечные пользователи\"],\n",
    "    \"Дальний круг\": [\"Потенциальные пользователи\", \"Маркетинг\", \"Конкуренты\"],\n",
    "}\n",
    "\n",
    "positions = {\n",
    "    \"Внутренний круг\": [(0, 2), (-2, 1), (2, 1)],\n",
    "    \"Ближний круг\": [(4, 4), (-4, 5), (5, -4)],\n",
    "    \"Дальний круг\": [(7, 7), (-8, 6), (-7, -7)],\n",
    "}\n",
    "\n",
    "# Добавляем подписи для каждого элемента\n",
    "for key, pos_list in positions.items():\n",
    "    for i, pos in enumerate(pos_list):\n",
    "        ax.text(\n",
    "            pos[0],\n",
    "            pos[1],\n",
    "            data[key][i],\n",
    "            fontsize=10,\n",
    "            ha=\"center\",\n",
    "            va=\"center\",\n",
    "            bbox=dict(facecolor=\"white\", alpha=0.7, boxstyle=\"round\"),\n",
    "        )\n",
    "\n",
    "# Настройка графика\n",
    "ax.set_aspect(\"equal\", \"box\")\n",
    "ax.axis(\"off\")\n",
    "plt.title(\"Распределение стейкхолдеров по кругам влияния\", fontsize=14)\n",
    "\n",
    "# Сохраняем в файл (опционально)\n",
    "plt.savefig(\"stakeholders_distribution.png\", bbox_inches=\"tight\")\n",
    "\n",
    "# Показываем график\n",
    "plt.show()"
   ]
  }
 ],
 "metadata": {
  "ExecuteTimeLog": [
   {
    "duration": 45,
    "start_time": "2024-11-04T10:17:55.630Z"
   },
   {
    "duration": 374,
    "start_time": "2024-11-04T10:18:31.006Z"
   },
   {
    "duration": 122,
    "start_time": "2024-11-04T10:18:33.071Z"
   },
   {
    "duration": 33,
    "start_time": "2024-11-04T10:19:28.019Z"
   },
   {
    "duration": 178,
    "start_time": "2024-11-04T10:21:03.133Z"
   },
   {
    "duration": 80,
    "start_time": "2024-11-04T10:21:51.825Z"
   },
   {
    "duration": 63,
    "start_time": "2024-11-04T10:23:34.489Z"
   },
   {
    "duration": 43,
    "start_time": "2024-11-04T10:23:38.897Z"
   },
   {
    "duration": 54,
    "start_time": "2024-11-04T10:23:44.064Z"
   },
   {
    "duration": 50,
    "start_time": "2024-11-04T10:23:50.321Z"
   },
   {
    "duration": 57,
    "start_time": "2024-11-04T10:24:08.145Z"
   },
   {
    "duration": 46,
    "start_time": "2024-11-04T10:24:17.554Z"
   },
   {
    "duration": 44,
    "start_time": "2024-11-04T10:24:20.929Z"
   },
   {
    "duration": 53,
    "start_time": "2024-11-04T10:24:32.975Z"
   },
   {
    "duration": 47,
    "start_time": "2024-11-04T10:24:45.158Z"
   },
   {
    "duration": 44,
    "start_time": "2024-11-04T10:24:55.731Z"
   },
   {
    "duration": 49,
    "start_time": "2024-11-04T10:25:14.254Z"
   },
   {
    "duration": 52,
    "start_time": "2024-11-04T10:25:34.256Z"
   },
   {
    "duration": 30,
    "start_time": "2024-11-04T10:28:01.415Z"
   },
   {
    "duration": 2,
    "start_time": "2024-11-04T10:28:29.688Z"
   },
   {
    "duration": 7,
    "start_time": "2024-11-04T10:46:01.788Z"
   },
   {
    "duration": 57,
    "start_time": "2024-11-04T10:46:12.414Z"
   },
   {
    "duration": 21,
    "start_time": "2024-11-04T10:46:27.865Z"
   },
   {
    "duration": 20,
    "start_time": "2024-11-04T10:46:46.107Z"
   },
   {
    "duration": 12,
    "start_time": "2024-11-04T10:47:01.338Z"
   },
   {
    "duration": 18,
    "start_time": "2024-11-04T10:47:10.380Z"
   },
   {
    "duration": 12,
    "start_time": "2024-11-04T10:47:32.083Z"
   },
   {
    "duration": 12,
    "start_time": "2024-11-04T10:47:34.736Z"
   },
   {
    "duration": 15,
    "start_time": "2024-11-04T10:49:00.407Z"
   },
   {
    "duration": 14,
    "start_time": "2024-11-04T10:49:01.349Z"
   },
   {
    "duration": 9,
    "start_time": "2024-11-04T10:49:01.724Z"
   },
   {
    "duration": 9,
    "start_time": "2024-11-04T10:49:52.907Z"
   },
   {
    "duration": 31,
    "start_time": "2024-11-04T10:51:50.249Z"
   },
   {
    "duration": 76,
    "start_time": "2024-11-04T10:52:00.606Z"
   },
   {
    "duration": 6,
    "start_time": "2024-11-04T10:53:05.737Z"
   },
   {
    "duration": 6,
    "start_time": "2024-11-04T10:53:13.222Z"
   },
   {
    "duration": 9,
    "start_time": "2024-11-04T10:53:29.814Z"
   },
   {
    "duration": 10,
    "start_time": "2024-11-04T10:54:37.434Z"
   },
   {
    "duration": 7,
    "start_time": "2024-11-04T10:57:29.926Z"
   },
   {
    "duration": 10,
    "start_time": "2024-11-04T10:58:02.379Z"
   },
   {
    "duration": 8,
    "start_time": "2024-11-04T10:58:12.407Z"
   },
   {
    "duration": 6,
    "start_time": "2024-11-04T10:58:16.621Z"
   },
   {
    "duration": 13,
    "start_time": "2024-11-04T11:14:41.804Z"
   },
   {
    "duration": 18,
    "start_time": "2024-11-04T11:14:59.669Z"
   },
   {
    "duration": 17,
    "start_time": "2024-11-04T11:15:27.930Z"
   },
   {
    "duration": 6,
    "start_time": "2024-11-04T11:17:20.952Z"
   },
   {
    "duration": 12,
    "start_time": "2024-11-04T11:17:26.781Z"
   },
   {
    "duration": 5,
    "start_time": "2024-11-04T11:18:40.900Z"
   },
   {
    "duration": 371,
    "start_time": "2024-11-04T11:18:45.727Z"
   },
   {
    "duration": 39,
    "start_time": "2024-11-04T11:18:46.100Z"
   },
   {
    "duration": 31,
    "start_time": "2024-11-04T11:18:46.141Z"
   },
   {
    "duration": 19,
    "start_time": "2024-11-04T11:18:46.174Z"
   },
   {
    "duration": 16,
    "start_time": "2024-11-04T11:18:46.194Z"
   },
   {
    "duration": 5,
    "start_time": "2024-11-04T11:18:46.212Z"
   },
   {
    "duration": 12,
    "start_time": "2024-11-04T11:18:46.220Z"
   },
   {
    "duration": 6,
    "start_time": "2024-11-04T11:18:46.233Z"
   },
   {
    "duration": 37,
    "start_time": "2024-11-04T11:18:46.240Z"
   },
   {
    "duration": 11,
    "start_time": "2024-11-04T11:18:46.280Z"
   },
   {
    "duration": 8,
    "start_time": "2024-11-04T11:19:38.355Z"
   },
   {
    "duration": 4,
    "start_time": "2024-11-04T11:20:09.625Z"
   },
   {
    "duration": 13,
    "start_time": "2024-11-04T11:20:40.489Z"
   },
   {
    "duration": 5,
    "start_time": "2024-11-04T11:20:50.763Z"
   },
   {
    "duration": 4,
    "start_time": "2024-11-04T11:21:07.435Z"
   },
   {
    "duration": 438,
    "start_time": "2024-11-04T11:25:13.850Z"
   },
   {
    "duration": 38,
    "start_time": "2024-11-04T11:25:14.292Z"
   },
   {
    "duration": 55,
    "start_time": "2024-11-04T11:25:14.332Z"
   },
   {
    "duration": 22,
    "start_time": "2024-11-04T11:25:14.389Z"
   },
   {
    "duration": 18,
    "start_time": "2024-11-04T11:25:14.413Z"
   },
   {
    "duration": 6,
    "start_time": "2024-11-04T11:25:14.432Z"
   },
   {
    "duration": 8,
    "start_time": "2024-11-04T11:25:14.440Z"
   },
   {
    "duration": 6,
    "start_time": "2024-11-04T11:25:14.449Z"
   },
   {
    "duration": 11,
    "start_time": "2024-11-04T11:25:14.478Z"
   },
   {
    "duration": 12,
    "start_time": "2024-11-04T11:25:14.493Z"
   },
   {
    "duration": 13,
    "start_time": "2024-11-04T11:25:14.506Z"
   },
   {
    "duration": 6,
    "start_time": "2024-11-04T11:31:26.330Z"
   },
   {
    "duration": 23,
    "start_time": "2024-11-04T11:32:11.804Z"
   },
   {
    "duration": 15,
    "start_time": "2024-11-04T11:32:15.605Z"
   },
   {
    "duration": 10,
    "start_time": "2024-11-04T11:32:18.848Z"
   },
   {
    "duration": 11,
    "start_time": "2024-11-04T11:32:23.085Z"
   },
   {
    "duration": 10,
    "start_time": "2024-11-04T11:32:42.118Z"
   },
   {
    "duration": 456,
    "start_time": "2024-11-04T11:36:38.840Z"
   },
   {
    "duration": 123,
    "start_time": "2024-11-04T11:36:39.298Z"
   },
   {
    "duration": 0,
    "start_time": "2024-11-04T11:36:39.423Z"
   },
   {
    "duration": 0,
    "start_time": "2024-11-04T11:36:39.425Z"
   },
   {
    "duration": 0,
    "start_time": "2024-11-04T11:36:39.426Z"
   },
   {
    "duration": 0,
    "start_time": "2024-11-04T11:36:39.428Z"
   },
   {
    "duration": 0,
    "start_time": "2024-11-04T11:36:39.429Z"
   },
   {
    "duration": 0,
    "start_time": "2024-11-04T11:36:39.430Z"
   },
   {
    "duration": 0,
    "start_time": "2024-11-04T11:36:39.432Z"
   },
   {
    "duration": 0,
    "start_time": "2024-11-04T11:36:39.433Z"
   },
   {
    "duration": 0,
    "start_time": "2024-11-04T11:36:39.434Z"
   },
   {
    "duration": 0,
    "start_time": "2024-11-04T11:36:39.435Z"
   },
   {
    "duration": 0,
    "start_time": "2024-11-04T11:36:39.436Z"
   },
   {
    "duration": 0,
    "start_time": "2024-11-04T11:36:39.437Z"
   },
   {
    "duration": 0,
    "start_time": "2024-11-04T11:36:39.438Z"
   },
   {
    "duration": 329,
    "start_time": "2024-11-04T11:41:14.511Z"
   },
   {
    "duration": 425,
    "start_time": "2024-11-04T11:41:18.954Z"
   },
   {
    "duration": 246,
    "start_time": "2024-11-04T11:41:19.382Z"
   },
   {
    "duration": 36,
    "start_time": "2024-11-04T11:41:19.629Z"
   },
   {
    "duration": 10,
    "start_time": "2024-11-04T11:41:19.667Z"
   },
   {
    "duration": 35,
    "start_time": "2024-11-04T11:41:19.679Z"
   },
   {
    "duration": 10,
    "start_time": "2024-11-04T11:41:19.716Z"
   },
   {
    "duration": 26,
    "start_time": "2024-11-04T11:41:19.727Z"
   },
   {
    "duration": 15,
    "start_time": "2024-11-04T11:41:19.755Z"
   },
   {
    "duration": 5,
    "start_time": "2024-11-04T11:41:19.775Z"
   },
   {
    "duration": 8,
    "start_time": "2024-11-04T11:41:19.782Z"
   },
   {
    "duration": 5,
    "start_time": "2024-11-04T11:41:19.792Z"
   },
   {
    "duration": 6,
    "start_time": "2024-11-04T11:41:19.799Z"
   },
   {
    "duration": 8,
    "start_time": "2024-11-04T11:41:19.807Z"
   },
   {
    "duration": 4,
    "start_time": "2024-11-04T11:41:19.817Z"
   },
   {
    "duration": 6,
    "start_time": "2024-11-04T11:41:19.823Z"
   },
   {
    "duration": 146,
    "start_time": "2024-11-04T11:50:47.053Z"
   },
   {
    "duration": 93,
    "start_time": "2024-11-04T11:51:10.347Z"
   },
   {
    "duration": 130,
    "start_time": "2024-11-04T11:51:21.002Z"
   },
   {
    "duration": 59,
    "start_time": "2024-11-04T11:54:40.443Z"
   },
   {
    "duration": 15,
    "start_time": "2024-11-04T11:54:50.283Z"
   },
   {
    "duration": 181,
    "start_time": "2024-11-04T11:55:26.654Z"
   },
   {
    "duration": 169,
    "start_time": "2024-11-04T11:56:12.501Z"
   },
   {
    "duration": 239,
    "start_time": "2024-11-04T11:56:17.826Z"
   },
   {
    "duration": 148,
    "start_time": "2024-11-04T11:56:22.292Z"
   },
   {
    "duration": 147,
    "start_time": "2024-11-04T11:56:39.912Z"
   },
   {
    "duration": 156,
    "start_time": "2024-11-04T11:56:44.488Z"
   },
   {
    "duration": 158,
    "start_time": "2024-11-04T11:56:56.483Z"
   },
   {
    "duration": 154,
    "start_time": "2024-11-04T11:58:01.202Z"
   },
   {
    "duration": 142,
    "start_time": "2024-11-04T13:05:20.850Z"
   },
   {
    "duration": 141,
    "start_time": "2024-11-04T13:05:23.985Z"
   },
   {
    "duration": 151,
    "start_time": "2024-11-04T13:05:24.734Z"
   },
   {
    "duration": 142,
    "start_time": "2024-11-04T13:05:25.314Z"
   },
   {
    "duration": 151,
    "start_time": "2024-11-04T13:05:33.415Z"
   },
   {
    "duration": 216,
    "start_time": "2024-11-04T13:05:39.657Z"
   },
   {
    "duration": 147,
    "start_time": "2024-11-04T13:05:46.229Z"
   },
   {
    "duration": 5,
    "start_time": "2024-11-04T13:07:06.747Z"
   },
   {
    "duration": 130,
    "start_time": "2024-11-04T13:08:20.144Z"
   },
   {
    "duration": 122,
    "start_time": "2024-11-04T13:09:19.157Z"
   },
   {
    "duration": 140,
    "start_time": "2024-11-04T13:11:09.784Z"
   },
   {
    "duration": 4,
    "start_time": "2024-11-04T13:12:15.726Z"
   },
   {
    "duration": 8,
    "start_time": "2024-11-04T13:17:13.306Z"
   },
   {
    "duration": 277,
    "start_time": "2024-11-04T13:18:50.935Z"
   },
   {
    "duration": 204,
    "start_time": "2024-11-04T13:19:35.801Z"
   },
   {
    "duration": 265,
    "start_time": "2024-11-04T13:19:45.356Z"
   },
   {
    "duration": 232,
    "start_time": "2024-11-04T13:21:09.992Z"
   },
   {
    "duration": 206,
    "start_time": "2024-11-04T13:21:19.896Z"
   },
   {
    "duration": 222,
    "start_time": "2024-11-04T13:21:37.161Z"
   },
   {
    "duration": 235,
    "start_time": "2024-11-04T13:22:01.873Z"
   },
   {
    "duration": 100,
    "start_time": "2024-11-04T13:22:13.292Z"
   },
   {
    "duration": 247,
    "start_time": "2024-11-04T13:22:20.876Z"
   },
   {
    "duration": 398,
    "start_time": "2024-11-05T08:35:47.253Z"
   },
   {
    "duration": 372,
    "start_time": "2024-11-05T08:35:47.653Z"
   },
   {
    "duration": 82,
    "start_time": "2024-11-05T08:35:48.027Z"
   },
   {
    "duration": 10,
    "start_time": "2024-11-05T08:35:48.110Z"
   },
   {
    "duration": 171,
    "start_time": "2024-11-05T08:35:48.123Z"
   },
   {
    "duration": 12,
    "start_time": "2024-11-05T08:35:48.295Z"
   },
   {
    "duration": 74,
    "start_time": "2024-11-05T08:35:48.308Z"
   },
   {
    "duration": 19,
    "start_time": "2024-11-05T08:35:48.384Z"
   },
   {
    "duration": 6,
    "start_time": "2024-11-05T08:35:48.404Z"
   },
   {
    "duration": 9,
    "start_time": "2024-11-05T08:35:48.412Z"
   },
   {
    "duration": 5,
    "start_time": "2024-11-05T08:35:48.422Z"
   },
   {
    "duration": 5,
    "start_time": "2024-11-05T08:35:48.428Z"
   },
   {
    "duration": 24,
    "start_time": "2024-11-05T08:35:48.434Z"
   },
   {
    "duration": 4,
    "start_time": "2024-11-05T08:35:48.460Z"
   },
   {
    "duration": 150,
    "start_time": "2024-11-05T08:35:48.465Z"
   },
   {
    "duration": 3,
    "start_time": "2024-11-05T08:35:48.616Z"
   },
   {
    "duration": 122,
    "start_time": "2024-11-05T08:35:48.620Z"
   },
   {
    "duration": 210,
    "start_time": "2024-11-05T08:35:48.744Z"
   },
   {
    "duration": 228,
    "start_time": "2024-11-05T08:35:48.957Z"
   },
   {
    "duration": 125,
    "start_time": "2024-11-05T08:45:02.701Z"
   },
   {
    "duration": 133,
    "start_time": "2024-11-05T08:45:20.315Z"
   },
   {
    "duration": 126,
    "start_time": "2024-11-05T08:45:29.060Z"
   },
   {
    "duration": 125,
    "start_time": "2024-11-05T08:45:35.287Z"
   },
   {
    "duration": 137,
    "start_time": "2024-11-05T08:46:37.687Z"
   },
   {
    "duration": 134,
    "start_time": "2024-11-05T08:46:44.976Z"
   },
   {
    "duration": 132,
    "start_time": "2024-11-05T08:46:49.265Z"
   },
   {
    "duration": 152,
    "start_time": "2024-11-05T08:47:40.314Z"
   },
   {
    "duration": 201,
    "start_time": "2024-11-05T08:48:09.144Z"
   },
   {
    "duration": 198,
    "start_time": "2024-11-05T08:48:47.106Z"
   },
   {
    "duration": 143,
    "start_time": "2024-11-05T08:49:49.685Z"
   },
   {
    "duration": 143,
    "start_time": "2024-11-05T08:50:22.642Z"
   },
   {
    "duration": 143,
    "start_time": "2024-11-05T08:50:31.537Z"
   },
   {
    "duration": 152,
    "start_time": "2024-11-05T08:51:16.479Z"
   },
   {
    "duration": 177,
    "start_time": "2024-11-05T08:51:31.643Z"
   },
   {
    "duration": 172,
    "start_time": "2024-11-05T08:51:48.296Z"
   },
   {
    "duration": 160,
    "start_time": "2024-11-05T08:56:19.068Z"
   },
   {
    "duration": 144,
    "start_time": "2024-11-05T08:56:29.049Z"
   },
   {
    "duration": 150,
    "start_time": "2024-11-05T08:56:31.687Z"
   },
   {
    "duration": 151,
    "start_time": "2024-11-05T08:56:35.634Z"
   },
   {
    "duration": 151,
    "start_time": "2024-11-05T08:56:44.082Z"
   },
   {
    "duration": 7,
    "start_time": "2024-11-05T09:01:31.349Z"
   },
   {
    "duration": 147,
    "start_time": "2024-11-05T09:02:35.517Z"
   },
   {
    "duration": 192,
    "start_time": "2024-11-05T09:02:47.174Z"
   },
   {
    "duration": 188,
    "start_time": "2024-11-05T09:02:55.287Z"
   },
   {
    "duration": 158,
    "start_time": "2024-11-05T09:03:06.914Z"
   },
   {
    "duration": 148,
    "start_time": "2024-11-05T09:03:10.633Z"
   },
   {
    "duration": 264,
    "start_time": "2024-11-05T09:23:53.298Z"
   },
   {
    "duration": 200,
    "start_time": "2024-11-05T09:23:59.532Z"
   },
   {
    "duration": 208,
    "start_time": "2024-11-05T09:24:05.677Z"
   },
   {
    "duration": 205,
    "start_time": "2024-11-05T09:24:15.679Z"
   },
   {
    "duration": 199,
    "start_time": "2024-11-05T09:25:14.300Z"
   },
   {
    "duration": 296,
    "start_time": "2024-11-05T09:25:41.323Z"
   },
   {
    "duration": 212,
    "start_time": "2024-11-05T09:26:04.523Z"
   },
   {
    "duration": 225,
    "start_time": "2024-11-05T09:27:04.594Z"
   },
   {
    "duration": 217,
    "start_time": "2024-11-05T09:27:33.424Z"
   },
   {
    "duration": 216,
    "start_time": "2024-11-05T09:28:01.176Z"
   },
   {
    "duration": 226,
    "start_time": "2024-11-05T09:29:15.555Z"
   },
   {
    "duration": 309,
    "start_time": "2024-11-05T09:39:56.110Z"
   },
   {
    "duration": 213,
    "start_time": "2024-11-05T09:40:18.646Z"
   },
   {
    "duration": 245,
    "start_time": "2024-11-05T09:40:35.441Z"
   },
   {
    "duration": 10,
    "start_time": "2024-11-05T09:49:08.065Z"
   },
   {
    "duration": 213,
    "start_time": "2024-11-05T09:49:17.779Z"
   },
   {
    "duration": 233,
    "start_time": "2024-11-05T09:54:30.433Z"
   },
   {
    "duration": 4,
    "start_time": "2024-11-05T10:02:42.186Z"
   },
   {
    "duration": 290,
    "start_time": "2024-11-05T10:02:58.599Z"
   },
   {
    "duration": 223,
    "start_time": "2024-11-05T10:03:33.388Z"
   },
   {
    "duration": 232,
    "start_time": "2024-11-05T10:03:43.468Z"
   },
   {
    "duration": 209,
    "start_time": "2024-11-05T10:04:06.944Z"
   },
   {
    "duration": 238,
    "start_time": "2024-11-05T11:02:41.252Z"
   },
   {
    "duration": 406,
    "start_time": "2024-11-05T11:03:31.610Z"
   },
   {
    "duration": 205,
    "start_time": "2024-11-05T11:03:32.017Z"
   },
   {
    "duration": 38,
    "start_time": "2024-11-05T11:03:32.224Z"
   },
   {
    "duration": 14,
    "start_time": "2024-11-05T11:03:32.264Z"
   },
   {
    "duration": 74,
    "start_time": "2024-11-05T11:03:32.279Z"
   },
   {
    "duration": 9,
    "start_time": "2024-11-05T11:03:32.355Z"
   },
   {
    "duration": 21,
    "start_time": "2024-11-05T11:03:32.366Z"
   },
   {
    "duration": 44,
    "start_time": "2024-11-05T11:03:32.388Z"
   },
   {
    "duration": 30,
    "start_time": "2024-11-05T11:03:32.433Z"
   },
   {
    "duration": 7,
    "start_time": "2024-11-05T11:03:32.464Z"
   },
   {
    "duration": 5,
    "start_time": "2024-11-05T11:03:32.472Z"
   },
   {
    "duration": 15,
    "start_time": "2024-11-05T11:03:32.478Z"
   },
   {
    "duration": 16,
    "start_time": "2024-11-05T11:03:32.494Z"
   },
   {
    "duration": 3,
    "start_time": "2024-11-05T11:03:32.513Z"
   },
   {
    "duration": 152,
    "start_time": "2024-11-05T11:03:32.517Z"
   },
   {
    "duration": 4,
    "start_time": "2024-11-05T11:03:32.670Z"
   },
   {
    "duration": 123,
    "start_time": "2024-11-05T11:03:32.675Z"
   },
   {
    "duration": 174,
    "start_time": "2024-11-05T11:03:32.799Z"
   },
   {
    "duration": 272,
    "start_time": "2024-11-05T11:03:32.974Z"
   },
   {
    "duration": 225,
    "start_time": "2024-11-05T11:03:33.248Z"
   },
   {
    "duration": 233,
    "start_time": "2024-11-05T11:03:33.474Z"
   },
   {
    "duration": 8,
    "start_time": "2024-11-05T11:03:33.708Z"
   },
   {
    "duration": 237,
    "start_time": "2024-11-05T11:03:33.717Z"
   },
   {
    "duration": 9,
    "start_time": "2024-11-05T11:06:15.984Z"
   },
   {
    "duration": 24,
    "start_time": "2024-11-05T11:06:24.320Z"
   },
   {
    "duration": 20,
    "start_time": "2024-11-05T11:06:41.573Z"
   },
   {
    "duration": 9,
    "start_time": "2024-11-05T11:07:58.918Z"
   },
   {
    "duration": 74,
    "start_time": "2024-11-05T11:10:04.027Z"
   },
   {
    "duration": 19,
    "start_time": "2024-11-05T11:10:25.325Z"
   },
   {
    "duration": 23,
    "start_time": "2024-11-05T11:10:43.018Z"
   },
   {
    "duration": 25,
    "start_time": "2024-11-05T11:10:55.701Z"
   },
   {
    "duration": 14,
    "start_time": "2024-11-05T11:11:34.118Z"
   },
   {
    "duration": 21,
    "start_time": "2024-11-05T11:11:56.728Z"
   },
   {
    "duration": 17,
    "start_time": "2024-11-05T11:12:20.858Z"
   },
   {
    "duration": 21,
    "start_time": "2024-11-05T11:12:30.185Z"
   },
   {
    "duration": 22,
    "start_time": "2024-11-05T11:14:51.072Z"
   },
   {
    "duration": 5,
    "start_time": "2024-11-05T11:16:05.514Z"
   },
   {
    "duration": 6,
    "start_time": "2024-11-05T11:17:40.514Z"
   },
   {
    "duration": 6,
    "start_time": "2024-11-05T11:17:46.496Z"
   },
   {
    "duration": 5,
    "start_time": "2024-11-05T11:18:40.464Z"
   },
   {
    "duration": 67,
    "start_time": "2024-11-05T11:19:41.289Z"
   },
   {
    "duration": 3,
    "start_time": "2024-11-05T11:19:58.000Z"
   },
   {
    "duration": 402,
    "start_time": "2024-11-05T11:22:25.326Z"
   },
   {
    "duration": 214,
    "start_time": "2024-11-05T11:22:25.730Z"
   },
   {
    "duration": 36,
    "start_time": "2024-11-05T11:22:25.945Z"
   },
   {
    "duration": 9,
    "start_time": "2024-11-05T11:22:25.982Z"
   },
   {
    "duration": 31,
    "start_time": "2024-11-05T11:22:25.993Z"
   },
   {
    "duration": 9,
    "start_time": "2024-11-05T11:22:26.025Z"
   },
   {
    "duration": 18,
    "start_time": "2024-11-05T11:22:26.035Z"
   },
   {
    "duration": 13,
    "start_time": "2024-11-05T11:22:26.054Z"
   },
   {
    "duration": 5,
    "start_time": "2024-11-05T11:22:26.068Z"
   },
   {
    "duration": 7,
    "start_time": "2024-11-05T11:22:26.074Z"
   },
   {
    "duration": 4,
    "start_time": "2024-11-05T11:22:26.082Z"
   },
   {
    "duration": 5,
    "start_time": "2024-11-05T11:22:26.087Z"
   },
   {
    "duration": 6,
    "start_time": "2024-11-05T11:22:26.093Z"
   },
   {
    "duration": 4,
    "start_time": "2024-11-05T11:22:26.101Z"
   },
   {
    "duration": 176,
    "start_time": "2024-11-05T11:22:26.105Z"
   },
   {
    "duration": 4,
    "start_time": "2024-11-05T11:22:26.282Z"
   },
   {
    "duration": 117,
    "start_time": "2024-11-05T11:22:26.287Z"
   },
   {
    "duration": 179,
    "start_time": "2024-11-05T11:22:26.405Z"
   },
   {
    "duration": 261,
    "start_time": "2024-11-05T11:22:26.586Z"
   },
   {
    "duration": 211,
    "start_time": "2024-11-05T11:22:26.849Z"
   },
   {
    "duration": 224,
    "start_time": "2024-11-05T11:22:27.062Z"
   },
   {
    "duration": 8,
    "start_time": "2024-11-05T11:22:27.287Z"
   },
   {
    "duration": 223,
    "start_time": "2024-11-05T11:22:27.296Z"
   },
   {
    "duration": 21,
    "start_time": "2024-11-05T11:22:27.521Z"
   },
   {
    "duration": 19,
    "start_time": "2024-11-05T11:22:27.543Z"
   },
   {
    "duration": 146,
    "start_time": "2024-11-05T11:25:26.513Z"
   },
   {
    "duration": 165,
    "start_time": "2024-11-05T11:27:22.899Z"
   },
   {
    "duration": 147,
    "start_time": "2024-11-05T11:27:41.677Z"
   },
   {
    "duration": 194,
    "start_time": "2024-11-05T11:29:25.676Z"
   },
   {
    "duration": 213,
    "start_time": "2024-11-05T11:29:37.634Z"
   },
   {
    "duration": 156,
    "start_time": "2024-11-05T11:29:55.583Z"
   },
   {
    "duration": 208,
    "start_time": "2024-11-05T11:31:07.014Z"
   },
   {
    "duration": 214,
    "start_time": "2024-11-05T11:31:35.240Z"
   },
   {
    "duration": 226,
    "start_time": "2024-11-05T11:32:06.820Z"
   },
   {
    "duration": 377,
    "start_time": "2024-11-06T12:07:52.733Z"
   },
   {
    "duration": 403,
    "start_time": "2024-11-06T12:07:53.112Z"
   },
   {
    "duration": 80,
    "start_time": "2024-11-06T12:07:53.517Z"
   },
   {
    "duration": 11,
    "start_time": "2024-11-06T12:07:53.598Z"
   },
   {
    "duration": 159,
    "start_time": "2024-11-06T12:07:53.611Z"
   },
   {
    "duration": 11,
    "start_time": "2024-11-06T12:07:53.773Z"
   },
   {
    "duration": 70,
    "start_time": "2024-11-06T12:07:53.786Z"
   },
   {
    "duration": 16,
    "start_time": "2024-11-06T12:07:53.858Z"
   },
   {
    "duration": 12,
    "start_time": "2024-11-06T12:07:53.875Z"
   },
   {
    "duration": 12,
    "start_time": "2024-11-06T12:07:53.889Z"
   },
   {
    "duration": 6,
    "start_time": "2024-11-06T12:07:53.902Z"
   },
   {
    "duration": 20,
    "start_time": "2024-11-06T12:07:53.909Z"
   },
   {
    "duration": 20,
    "start_time": "2024-11-06T12:07:53.931Z"
   },
   {
    "duration": 4,
    "start_time": "2024-11-06T12:07:53.953Z"
   },
   {
    "duration": 161,
    "start_time": "2024-11-06T12:07:53.959Z"
   },
   {
    "duration": 3,
    "start_time": "2024-11-06T12:07:54.122Z"
   },
   {
    "duration": 158,
    "start_time": "2024-11-06T12:07:54.127Z"
   },
   {
    "duration": 204,
    "start_time": "2024-11-06T12:07:54.287Z"
   },
   {
    "duration": 341,
    "start_time": "2024-11-06T12:07:54.493Z"
   },
   {
    "duration": 264,
    "start_time": "2024-11-06T12:07:54.836Z"
   },
   {
    "duration": 263,
    "start_time": "2024-11-06T12:07:55.101Z"
   },
   {
    "duration": 10,
    "start_time": "2024-11-06T12:07:55.365Z"
   },
   {
    "duration": 271,
    "start_time": "2024-11-06T12:07:55.376Z"
   },
   {
    "duration": 23,
    "start_time": "2024-11-06T12:07:55.649Z"
   },
   {
    "duration": 26,
    "start_time": "2024-11-06T12:07:55.674Z"
   },
   {
    "duration": 243,
    "start_time": "2024-11-06T12:07:55.702Z"
   },
   {
    "duration": 271,
    "start_time": "2024-11-06T12:07:55.947Z"
   },
   {
    "duration": 338,
    "start_time": "2024-11-06T12:08:51.296Z"
   },
   {
    "duration": 232,
    "start_time": "2024-11-06T12:09:55.026Z"
   },
   {
    "duration": 17,
    "start_time": "2024-11-06T12:20:54.186Z"
   },
   {
    "duration": 14,
    "start_time": "2024-11-06T12:24:11.656Z"
   },
   {
    "duration": 13,
    "start_time": "2024-11-06T12:24:15.832Z"
   },
   {
    "duration": 21,
    "start_time": "2024-11-06T12:24:18.195Z"
   },
   {
    "duration": 51,
    "start_time": "2024-11-06T12:35:57.665Z"
   },
   {
    "duration": 58,
    "start_time": "2024-11-06T12:36:08.612Z"
   },
   {
    "duration": 18,
    "start_time": "2024-11-06T12:36:24.903Z"
   },
   {
    "duration": 30,
    "start_time": "2024-11-06T12:36:32.517Z"
   },
   {
    "duration": 29,
    "start_time": "2024-11-06T12:41:01.223Z"
   },
   {
    "duration": 30,
    "start_time": "2024-11-06T12:41:14.263Z"
   },
   {
    "duration": 39,
    "start_time": "2024-11-06T12:58:51.013Z"
   },
   {
    "duration": 402,
    "start_time": "2024-11-07T09:06:36.393Z"
   },
   {
    "duration": 376,
    "start_time": "2024-11-07T09:06:36.797Z"
   },
   {
    "duration": 89,
    "start_time": "2024-11-07T09:06:37.175Z"
   },
   {
    "duration": 35,
    "start_time": "2024-11-07T09:06:37.266Z"
   },
   {
    "duration": 149,
    "start_time": "2024-11-07T09:06:37.303Z"
   },
   {
    "duration": 10,
    "start_time": "2024-11-07T09:06:37.454Z"
   },
   {
    "duration": 85,
    "start_time": "2024-11-07T09:06:37.466Z"
   },
   {
    "duration": 14,
    "start_time": "2024-11-07T09:06:37.552Z"
   },
   {
    "duration": 43,
    "start_time": "2024-11-07T09:06:37.568Z"
   },
   {
    "duration": 18,
    "start_time": "2024-11-07T09:06:37.614Z"
   },
   {
    "duration": 14,
    "start_time": "2024-11-07T09:06:37.633Z"
   },
   {
    "duration": 15,
    "start_time": "2024-11-07T09:06:37.648Z"
   },
   {
    "duration": 26,
    "start_time": "2024-11-07T09:06:37.664Z"
   },
   {
    "duration": 15,
    "start_time": "2024-11-07T09:06:37.692Z"
   },
   {
    "duration": 163,
    "start_time": "2024-11-07T09:06:37.709Z"
   },
   {
    "duration": 4,
    "start_time": "2024-11-07T09:06:37.873Z"
   },
   {
    "duration": 416,
    "start_time": "2024-11-07T09:06:37.879Z"
   },
   {
    "duration": 176,
    "start_time": "2024-11-07T09:06:38.296Z"
   },
   {
    "duration": 302,
    "start_time": "2024-11-07T09:06:38.474Z"
   },
   {
    "duration": 215,
    "start_time": "2024-11-07T09:06:38.778Z"
   },
   {
    "duration": 231,
    "start_time": "2024-11-07T09:06:38.994Z"
   },
   {
    "duration": 8,
    "start_time": "2024-11-07T09:06:39.227Z"
   },
   {
    "duration": 267,
    "start_time": "2024-11-07T09:06:39.236Z"
   },
   {
    "duration": 22,
    "start_time": "2024-11-07T09:06:39.504Z"
   },
   {
    "duration": 9,
    "start_time": "2024-11-07T09:06:39.527Z"
   },
   {
    "duration": 233,
    "start_time": "2024-11-07T09:06:39.537Z"
   },
   {
    "duration": 233,
    "start_time": "2024-11-07T09:06:39.772Z"
   },
   {
    "duration": 281,
    "start_time": "2024-11-07T09:06:40.009Z"
   },
   {
    "duration": 226,
    "start_time": "2024-11-07T09:06:40.292Z"
   },
   {
    "duration": 38,
    "start_time": "2024-11-07T09:06:40.520Z"
   },
   {
    "duration": 1174,
    "start_time": "2024-11-07T09:06:40.559Z"
   },
   {
    "duration": 8,
    "start_time": "2024-11-07T09:12:51.954Z"
   },
   {
    "duration": 11,
    "start_time": "2024-11-07T09:13:07.369Z"
   },
   {
    "duration": 10,
    "start_time": "2024-11-07T09:13:32.591Z"
   },
   {
    "duration": 2,
    "start_time": "2024-11-07T09:23:41.375Z"
   },
   {
    "duration": 4,
    "start_time": "2024-11-07T09:30:33.563Z"
   },
   {
    "duration": 358,
    "start_time": "2024-11-07T09:31:09.738Z"
   },
   {
    "duration": 219,
    "start_time": "2024-11-07T09:31:10.098Z"
   },
   {
    "duration": 2,
    "start_time": "2024-11-07T09:31:10.319Z"
   },
   {
    "duration": 52,
    "start_time": "2024-11-07T09:31:10.322Z"
   },
   {
    "duration": 11,
    "start_time": "2024-11-07T09:31:10.376Z"
   },
   {
    "duration": 33,
    "start_time": "2024-11-07T09:31:10.389Z"
   },
   {
    "duration": 9,
    "start_time": "2024-11-07T09:31:10.424Z"
   },
   {
    "duration": 26,
    "start_time": "2024-11-07T09:31:10.435Z"
   },
   {
    "duration": 13,
    "start_time": "2024-11-07T09:31:10.463Z"
   },
   {
    "duration": 5,
    "start_time": "2024-11-07T09:31:10.477Z"
   },
   {
    "duration": 25,
    "start_time": "2024-11-07T09:31:10.483Z"
   },
   {
    "duration": 5,
    "start_time": "2024-11-07T09:31:10.510Z"
   },
   {
    "duration": 6,
    "start_time": "2024-11-07T09:31:10.517Z"
   },
   {
    "duration": 16,
    "start_time": "2024-11-07T09:31:10.527Z"
   },
   {
    "duration": 11,
    "start_time": "2024-11-07T09:31:10.545Z"
   },
   {
    "duration": 153,
    "start_time": "2024-11-07T09:31:10.558Z"
   },
   {
    "duration": 4,
    "start_time": "2024-11-07T09:31:10.712Z"
   },
   {
    "duration": 130,
    "start_time": "2024-11-07T09:31:10.717Z"
   },
   {
    "duration": 171,
    "start_time": "2024-11-07T09:31:10.849Z"
   },
   {
    "duration": 292,
    "start_time": "2024-11-07T09:31:11.022Z"
   },
   {
    "duration": 223,
    "start_time": "2024-11-07T09:31:11.316Z"
   },
   {
    "duration": 228,
    "start_time": "2024-11-07T09:31:11.541Z"
   },
   {
    "duration": 9,
    "start_time": "2024-11-07T09:31:11.771Z"
   },
   {
    "duration": 231,
    "start_time": "2024-11-07T09:31:11.781Z"
   },
   {
    "duration": 22,
    "start_time": "2024-11-07T09:31:12.014Z"
   },
   {
    "duration": 10,
    "start_time": "2024-11-07T09:31:12.038Z"
   },
   {
    "duration": 239,
    "start_time": "2024-11-07T09:31:12.050Z"
   },
   {
    "duration": 246,
    "start_time": "2024-11-07T09:31:12.291Z"
   },
   {
    "duration": 303,
    "start_time": "2024-11-07T09:31:12.538Z"
   },
   {
    "duration": 257,
    "start_time": "2024-11-07T09:31:12.843Z"
   },
   {
    "duration": 37,
    "start_time": "2024-11-07T09:31:13.107Z"
   },
   {
    "duration": 53,
    "start_time": "2024-11-07T09:31:13.145Z"
   },
   {
    "duration": 0,
    "start_time": "2024-11-07T09:31:13.199Z"
   },
   {
    "duration": 16,
    "start_time": "2024-11-07T09:31:26.191Z"
   },
   {
    "duration": 16,
    "start_time": "2024-11-07T09:32:55.597Z"
   },
   {
    "duration": 15,
    "start_time": "2024-11-07T09:34:36.319Z"
   },
   {
    "duration": 34,
    "start_time": "2024-11-07T09:35:47.219Z"
   },
   {
    "duration": 30,
    "start_time": "2024-11-07T09:35:58.262Z"
   },
   {
    "duration": 353,
    "start_time": "2024-11-07T10:14:42.127Z"
   },
   {
    "duration": 3,
    "start_time": "2024-11-07T10:21:53.930Z"
   },
   {
    "duration": 2,
    "start_time": "2024-11-07T10:28:10.853Z"
   },
   {
    "duration": 7,
    "start_time": "2024-11-07T10:30:14.686Z"
   },
   {
    "duration": 392,
    "start_time": "2024-11-07T10:30:34.362Z"
   },
   {
    "duration": 211,
    "start_time": "2024-11-07T10:30:34.756Z"
   },
   {
    "duration": 3,
    "start_time": "2024-11-07T10:30:34.969Z"
   },
   {
    "duration": 478,
    "start_time": "2024-11-07T10:30:34.973Z"
   },
   {
    "duration": 36,
    "start_time": "2024-11-07T10:30:35.453Z"
   },
   {
    "duration": 10,
    "start_time": "2024-11-07T10:30:35.490Z"
   },
   {
    "duration": 61,
    "start_time": "2024-11-07T10:30:35.501Z"
   },
   {
    "duration": 20,
    "start_time": "2024-11-07T10:30:35.564Z"
   },
   {
    "duration": 35,
    "start_time": "2024-11-07T10:30:35.586Z"
   },
   {
    "duration": 47,
    "start_time": "2024-11-07T10:30:35.622Z"
   },
   {
    "duration": 29,
    "start_time": "2024-11-07T10:30:35.671Z"
   },
   {
    "duration": 22,
    "start_time": "2024-11-07T10:30:35.701Z"
   },
   {
    "duration": 26,
    "start_time": "2024-11-07T10:30:35.725Z"
   },
   {
    "duration": 36,
    "start_time": "2024-11-07T10:30:35.755Z"
   },
   {
    "duration": 24,
    "start_time": "2024-11-07T10:30:35.792Z"
   },
   {
    "duration": 47,
    "start_time": "2024-11-07T10:30:35.817Z"
   },
   {
    "duration": 177,
    "start_time": "2024-11-07T10:30:35.866Z"
   },
   {
    "duration": 4,
    "start_time": "2024-11-07T10:30:36.044Z"
   },
   {
    "duration": 147,
    "start_time": "2024-11-07T10:30:36.050Z"
   },
   {
    "duration": 167,
    "start_time": "2024-11-07T10:30:36.199Z"
   },
   {
    "duration": 241,
    "start_time": "2024-11-07T10:30:36.367Z"
   },
   {
    "duration": 207,
    "start_time": "2024-11-07T10:30:36.609Z"
   },
   {
    "duration": 218,
    "start_time": "2024-11-07T10:30:36.818Z"
   },
   {
    "duration": 8,
    "start_time": "2024-11-07T10:30:37.037Z"
   },
   {
    "duration": 291,
    "start_time": "2024-11-07T10:30:37.046Z"
   },
   {
    "duration": 21,
    "start_time": "2024-11-07T10:30:37.339Z"
   },
   {
    "duration": 9,
    "start_time": "2024-11-07T10:30:37.362Z"
   },
   {
    "duration": 225,
    "start_time": "2024-11-07T10:30:37.372Z"
   },
   {
    "duration": 252,
    "start_time": "2024-11-07T10:30:37.599Z"
   },
   {
    "duration": 222,
    "start_time": "2024-11-07T10:30:37.853Z"
   },
   {
    "duration": 232,
    "start_time": "2024-11-07T10:30:38.077Z"
   },
   {
    "duration": 41,
    "start_time": "2024-11-07T10:30:38.311Z"
   },
   {
    "duration": 64,
    "start_time": "2024-11-07T10:30:38.354Z"
   },
   {
    "duration": 15,
    "start_time": "2024-11-07T10:30:38.420Z"
   },
   {
    "duration": 5,
    "start_time": "2024-11-07T10:31:31.364Z"
   },
   {
    "duration": 6,
    "start_time": "2024-11-07T10:33:00.199Z"
   },
   {
    "duration": 5,
    "start_time": "2024-11-07T10:57:57.710Z"
   },
   {
    "duration": 4,
    "start_time": "2024-11-07T11:11:48.440Z"
   },
   {
    "duration": 48,
    "start_time": "2024-11-07T11:14:46.786Z"
   },
   {
    "duration": 5,
    "start_time": "2024-11-07T11:14:57.793Z"
   },
   {
    "duration": 5,
    "start_time": "2024-11-07T11:22:43.474Z"
   },
   {
    "duration": 96,
    "start_time": "2024-11-07T11:37:47.335Z"
   },
   {
    "duration": 5,
    "start_time": "2024-11-07T11:38:36.732Z"
   },
   {
    "duration": 5,
    "start_time": "2024-11-07T11:38:47.024Z"
   },
   {
    "duration": 12,
    "start_time": "2024-11-07T11:38:58.139Z"
   },
   {
    "duration": 7,
    "start_time": "2024-11-07T11:39:12.286Z"
   },
   {
    "duration": 5,
    "start_time": "2024-11-07T11:39:35.567Z"
   },
   {
    "duration": 4,
    "start_time": "2024-11-07T11:39:48.769Z"
   },
   {
    "duration": 5,
    "start_time": "2024-11-07T11:39:55.622Z"
   },
   {
    "duration": 5,
    "start_time": "2024-11-07T11:41:09.651Z"
   },
   {
    "duration": 8,
    "start_time": "2024-11-07T11:51:38.655Z"
   },
   {
    "duration": 4,
    "start_time": "2024-11-07T11:53:14.830Z"
   },
   {
    "duration": 3,
    "start_time": "2024-11-07T11:53:22.650Z"
   },
   {
    "duration": 4,
    "start_time": "2024-11-07T11:55:53.210Z"
   },
   {
    "duration": 3,
    "start_time": "2024-11-07T11:56:16.092Z"
   },
   {
    "duration": 6,
    "start_time": "2024-11-07T11:58:16.795Z"
   },
   {
    "duration": 5,
    "start_time": "2024-11-07T11:58:22.885Z"
   },
   {
    "duration": 4,
    "start_time": "2024-11-07T11:58:44.728Z"
   },
   {
    "duration": 5,
    "start_time": "2024-11-07T11:59:19.773Z"
   },
   {
    "duration": 5,
    "start_time": "2024-11-07T12:16:27.668Z"
   },
   {
    "duration": 409,
    "start_time": "2024-11-07T12:21:52.371Z"
   },
   {
    "duration": 247,
    "start_time": "2024-11-07T12:21:52.782Z"
   },
   {
    "duration": 2,
    "start_time": "2024-11-07T12:21:53.031Z"
   },
   {
    "duration": 503,
    "start_time": "2024-11-07T12:21:53.035Z"
   },
   {
    "duration": 42,
    "start_time": "2024-11-07T12:21:53.539Z"
   },
   {
    "duration": 12,
    "start_time": "2024-11-07T12:21:53.583Z"
   },
   {
    "duration": 39,
    "start_time": "2024-11-07T12:21:53.597Z"
   },
   {
    "duration": 9,
    "start_time": "2024-11-07T12:21:53.638Z"
   },
   {
    "duration": 27,
    "start_time": "2024-11-07T12:21:53.648Z"
   },
   {
    "duration": 92,
    "start_time": "2024-11-07T12:21:53.678Z"
   },
   {
    "duration": 6,
    "start_time": "2024-11-07T12:21:53.772Z"
   },
   {
    "duration": 12,
    "start_time": "2024-11-07T12:21:53.780Z"
   },
   {
    "duration": 5,
    "start_time": "2024-11-07T12:21:53.793Z"
   },
   {
    "duration": 7,
    "start_time": "2024-11-07T12:21:53.800Z"
   },
   {
    "duration": 16,
    "start_time": "2024-11-07T12:21:53.808Z"
   },
   {
    "duration": 4,
    "start_time": "2024-11-07T12:21:53.825Z"
   },
   {
    "duration": 138,
    "start_time": "2024-11-07T12:21:53.830Z"
   },
   {
    "duration": 3,
    "start_time": "2024-11-07T12:21:53.970Z"
   },
   {
    "duration": 131,
    "start_time": "2024-11-07T12:21:53.974Z"
   },
   {
    "duration": 161,
    "start_time": "2024-11-07T12:21:54.106Z"
   },
   {
    "duration": 240,
    "start_time": "2024-11-07T12:21:54.269Z"
   },
   {
    "duration": 219,
    "start_time": "2024-11-07T12:21:54.511Z"
   },
   {
    "duration": 233,
    "start_time": "2024-11-07T12:21:54.731Z"
   },
   {
    "duration": 9,
    "start_time": "2024-11-07T12:21:54.965Z"
   },
   {
    "duration": 354,
    "start_time": "2024-11-07T12:21:54.976Z"
   },
   {
    "duration": 27,
    "start_time": "2024-11-07T12:21:55.332Z"
   },
   {
    "duration": 29,
    "start_time": "2024-11-07T12:21:55.361Z"
   },
   {
    "duration": 236,
    "start_time": "2024-11-07T12:21:55.393Z"
   },
   {
    "duration": 244,
    "start_time": "2024-11-07T12:21:55.631Z"
   },
   {
    "duration": 227,
    "start_time": "2024-11-07T12:21:55.877Z"
   },
   {
    "duration": 228,
    "start_time": "2024-11-07T12:21:56.105Z"
   },
   {
    "duration": 33,
    "start_time": "2024-11-07T12:21:56.335Z"
   },
   {
    "duration": 16,
    "start_time": "2024-11-07T12:21:56.370Z"
   },
   {
    "duration": 39,
    "start_time": "2024-11-07T12:21:56.387Z"
   },
   {
    "duration": 23,
    "start_time": "2024-11-07T12:21:56.428Z"
   },
   {
    "duration": 17,
    "start_time": "2024-11-07T12:21:56.453Z"
   },
   {
    "duration": 30,
    "start_time": "2024-11-07T12:21:56.472Z"
   },
   {
    "duration": 538,
    "start_time": "2024-11-09T16:07:24.255Z"
   },
   {
    "duration": 346,
    "start_time": "2024-11-09T16:07:29.650Z"
   },
   {
    "duration": 386,
    "start_time": "2024-11-09T16:07:29.997Z"
   },
   {
    "duration": 3,
    "start_time": "2024-11-09T16:07:30.384Z"
   },
   {
    "duration": 540,
    "start_time": "2024-11-09T16:07:30.388Z"
   },
   {
    "duration": 2,
    "start_time": "2024-11-09T16:07:30.930Z"
   },
   {
    "duration": 113,
    "start_time": "2024-11-09T16:07:30.933Z"
   },
   {
    "duration": 9,
    "start_time": "2024-11-09T16:07:31.048Z"
   },
   {
    "duration": 421,
    "start_time": "2024-11-09T16:07:31.059Z"
   },
   {
    "duration": 10,
    "start_time": "2024-11-09T16:07:31.482Z"
   },
   {
    "duration": 73,
    "start_time": "2024-11-09T16:07:31.494Z"
   },
   {
    "duration": 13,
    "start_time": "2024-11-09T16:07:31.569Z"
   },
   {
    "duration": 21,
    "start_time": "2024-11-09T16:07:31.584Z"
   },
   {
    "duration": 7,
    "start_time": "2024-11-09T16:07:31.607Z"
   },
   {
    "duration": 11,
    "start_time": "2024-11-09T16:07:31.617Z"
   },
   {
    "duration": 9,
    "start_time": "2024-11-09T16:07:31.629Z"
   },
   {
    "duration": 8,
    "start_time": "2024-11-09T16:07:31.639Z"
   },
   {
    "duration": 14,
    "start_time": "2024-11-09T16:07:31.648Z"
   },
   {
    "duration": 152,
    "start_time": "2024-11-09T16:07:31.663Z"
   },
   {
    "duration": 3,
    "start_time": "2024-11-09T16:07:31.816Z"
   },
   {
    "duration": 124,
    "start_time": "2024-11-09T16:07:31.820Z"
   },
   {
    "duration": 172,
    "start_time": "2024-11-09T16:07:31.946Z"
   },
   {
    "duration": 235,
    "start_time": "2024-11-09T16:07:32.120Z"
   },
   {
    "duration": 218,
    "start_time": "2024-11-09T16:07:32.357Z"
   },
   {
    "duration": 265,
    "start_time": "2024-11-09T16:07:32.576Z"
   },
   {
    "duration": 11,
    "start_time": "2024-11-09T16:07:32.843Z"
   },
   {
    "duration": 311,
    "start_time": "2024-11-09T16:07:32.855Z"
   },
   {
    "duration": 21,
    "start_time": "2024-11-09T16:07:33.168Z"
   },
   {
    "duration": 22,
    "start_time": "2024-11-09T16:07:33.191Z"
   },
   {
    "duration": 228,
    "start_time": "2024-11-09T16:07:33.215Z"
   },
   {
    "duration": 229,
    "start_time": "2024-11-09T16:07:33.444Z"
   },
   {
    "duration": 222,
    "start_time": "2024-11-09T16:07:33.674Z"
   },
   {
    "duration": 225,
    "start_time": "2024-11-09T16:07:33.898Z"
   },
   {
    "duration": 32,
    "start_time": "2024-11-09T16:07:34.125Z"
   },
   {
    "duration": 223,
    "start_time": "2024-11-09T16:07:34.158Z"
   },
   {
    "duration": 32,
    "start_time": "2024-11-09T16:07:34.382Z"
   },
   {
    "duration": 7,
    "start_time": "2024-11-09T16:07:34.415Z"
   },
   {
    "duration": 10,
    "start_time": "2024-11-09T16:07:34.423Z"
   },
   {
    "duration": 12,
    "start_time": "2024-11-09T16:07:34.434Z"
   },
   {
    "duration": 35,
    "start_time": "2024-11-09T16:07:34.448Z"
   },
   {
    "duration": 5,
    "start_time": "2024-11-09T16:08:41.048Z"
   },
   {
    "duration": 4,
    "start_time": "2024-11-09T16:08:58.430Z"
   },
   {
    "duration": 5,
    "start_time": "2024-11-09T16:09:07.089Z"
   },
   {
    "duration": 4,
    "start_time": "2024-11-09T16:09:15.826Z"
   },
   {
    "duration": 4,
    "start_time": "2024-11-09T16:09:23.024Z"
   },
   {
    "duration": 4,
    "start_time": "2024-11-09T16:09:33.445Z"
   },
   {
    "duration": 3,
    "start_time": "2024-11-09T16:09:38.473Z"
   },
   {
    "duration": 3,
    "start_time": "2024-11-09T16:09:44.403Z"
   },
   {
    "duration": 4,
    "start_time": "2024-11-09T16:09:50.388Z"
   },
   {
    "duration": 4,
    "start_time": "2024-11-09T16:09:58.828Z"
   },
   {
    "duration": 4,
    "start_time": "2024-11-09T16:10:07.659Z"
   },
   {
    "duration": 4,
    "start_time": "2024-11-09T16:10:16.690Z"
   },
   {
    "duration": 4,
    "start_time": "2024-11-09T16:10:23.222Z"
   },
   {
    "duration": 4,
    "start_time": "2024-11-09T16:10:27.895Z"
   },
   {
    "duration": 1507,
    "start_time": "2024-11-10T13:34:14.026Z"
   },
   {
    "duration": 402,
    "start_time": "2024-11-10T13:34:20.744Z"
   },
   {
    "duration": 240,
    "start_time": "2024-11-10T13:34:21.148Z"
   },
   {
    "duration": 3,
    "start_time": "2024-11-10T13:34:21.389Z"
   },
   {
    "duration": 461,
    "start_time": "2024-11-10T13:34:21.393Z"
   },
   {
    "duration": 4,
    "start_time": "2024-11-10T13:34:21.856Z"
   },
   {
    "duration": 55,
    "start_time": "2024-11-10T13:34:21.861Z"
   },
   {
    "duration": 11,
    "start_time": "2024-11-10T13:34:21.920Z"
   },
   {
    "duration": 33,
    "start_time": "2024-11-10T13:34:21.932Z"
   },
   {
    "duration": 43,
    "start_time": "2024-11-10T13:34:21.966Z"
   },
   {
    "duration": 32,
    "start_time": "2024-11-10T13:34:22.010Z"
   },
   {
    "duration": 14,
    "start_time": "2024-11-10T13:34:22.044Z"
   },
   {
    "duration": 7,
    "start_time": "2024-11-10T13:34:22.059Z"
   },
   {
    "duration": 52,
    "start_time": "2024-11-10T13:34:22.068Z"
   },
   {
    "duration": 6,
    "start_time": "2024-11-10T13:34:22.123Z"
   },
   {
    "duration": 7,
    "start_time": "2024-11-10T13:34:22.131Z"
   },
   {
    "duration": 8,
    "start_time": "2024-11-10T13:34:22.140Z"
   },
   {
    "duration": 5,
    "start_time": "2024-11-10T13:34:22.150Z"
   },
   {
    "duration": 205,
    "start_time": "2024-11-10T13:34:22.157Z"
   },
   {
    "duration": 4,
    "start_time": "2024-11-10T13:34:22.364Z"
   },
   {
    "duration": 167,
    "start_time": "2024-11-10T13:34:22.369Z"
   },
   {
    "duration": 218,
    "start_time": "2024-11-10T13:34:22.537Z"
   },
   {
    "duration": 266,
    "start_time": "2024-11-10T13:34:22.757Z"
   },
   {
    "duration": 224,
    "start_time": "2024-11-10T13:34:23.025Z"
   },
   {
    "duration": 239,
    "start_time": "2024-11-10T13:34:23.251Z"
   },
   {
    "duration": 26,
    "start_time": "2024-11-10T13:34:23.491Z"
   },
   {
    "duration": 300,
    "start_time": "2024-11-10T13:34:23.519Z"
   },
   {
    "duration": 21,
    "start_time": "2024-11-10T13:34:23.821Z"
   },
   {
    "duration": 9,
    "start_time": "2024-11-10T13:34:23.843Z"
   },
   {
    "duration": 241,
    "start_time": "2024-11-10T13:34:23.853Z"
   },
   {
    "duration": 269,
    "start_time": "2024-11-10T13:34:24.096Z"
   },
   {
    "duration": 258,
    "start_time": "2024-11-10T13:34:24.366Z"
   },
   {
    "duration": 223,
    "start_time": "2024-11-10T13:34:24.628Z"
   },
   {
    "duration": 43,
    "start_time": "2024-11-10T13:34:24.852Z"
   },
   {
    "duration": 18,
    "start_time": "2024-11-10T13:34:24.913Z"
   },
   {
    "duration": 6,
    "start_time": "2024-11-10T13:34:24.932Z"
   },
   {
    "duration": 6,
    "start_time": "2024-11-10T13:34:24.940Z"
   },
   {
    "duration": 10,
    "start_time": "2024-11-10T13:34:24.948Z"
   },
   {
    "duration": 12,
    "start_time": "2024-11-10T13:34:24.959Z"
   },
   {
    "duration": 36,
    "start_time": "2024-11-10T13:34:24.973Z"
   },
   {
    "duration": 1541,
    "start_time": "2024-11-10T13:34:25.010Z"
   },
   {
    "duration": 251,
    "start_time": "2024-11-10T13:35:54.083Z"
   },
   {
    "duration": 88,
    "start_time": "2024-11-10T13:47:34.969Z"
   },
   {
    "duration": 396,
    "start_time": "2024-11-10T13:48:28.787Z"
   },
   {
    "duration": 217,
    "start_time": "2024-11-10T13:48:29.185Z"
   },
   {
    "duration": 2,
    "start_time": "2024-11-10T13:48:29.404Z"
   },
   {
    "duration": 512,
    "start_time": "2024-11-10T13:48:29.407Z"
   },
   {
    "duration": 3,
    "start_time": "2024-11-10T13:48:29.920Z"
   },
   {
    "duration": 9,
    "start_time": "2024-11-10T13:48:29.924Z"
   },
   {
    "duration": 40,
    "start_time": "2024-11-10T13:48:29.934Z"
   },
   {
    "duration": 11,
    "start_time": "2024-11-10T13:48:29.976Z"
   },
   {
    "duration": 35,
    "start_time": "2024-11-10T13:48:29.988Z"
   },
   {
    "duration": 85,
    "start_time": "2024-11-10T13:48:30.025Z"
   },
   {
    "duration": 81,
    "start_time": "2024-11-10T13:48:30.111Z"
   },
   {
    "duration": 154,
    "start_time": "2024-11-10T13:48:30.193Z"
   },
   {
    "duration": 85,
    "start_time": "2024-11-10T13:48:30.349Z"
   },
   {
    "duration": 114,
    "start_time": "2024-11-10T13:48:30.436Z"
   },
   {
    "duration": 42,
    "start_time": "2024-11-10T13:48:30.552Z"
   },
   {
    "duration": 16,
    "start_time": "2024-11-10T13:48:30.595Z"
   },
   {
    "duration": 14,
    "start_time": "2024-11-10T13:48:30.612Z"
   },
   {
    "duration": 5,
    "start_time": "2024-11-10T13:48:30.628Z"
   },
   {
    "duration": 155,
    "start_time": "2024-11-10T13:48:30.634Z"
   },
   {
    "duration": 4,
    "start_time": "2024-11-10T13:48:30.791Z"
   },
   {
    "duration": 123,
    "start_time": "2024-11-10T13:48:30.796Z"
   },
   {
    "duration": 161,
    "start_time": "2024-11-10T13:48:30.921Z"
   },
   {
    "duration": 245,
    "start_time": "2024-11-10T13:48:31.083Z"
   },
   {
    "duration": 230,
    "start_time": "2024-11-10T13:48:31.329Z"
   },
   {
    "duration": 231,
    "start_time": "2024-11-10T13:48:31.560Z"
   },
   {
    "duration": 19,
    "start_time": "2024-11-10T13:48:31.793Z"
   },
   {
    "duration": 310,
    "start_time": "2024-11-10T13:48:31.813Z"
   },
   {
    "duration": 21,
    "start_time": "2024-11-10T13:48:32.126Z"
   },
   {
    "duration": 26,
    "start_time": "2024-11-10T13:48:32.148Z"
   },
   {
    "duration": 232,
    "start_time": "2024-11-10T13:48:32.175Z"
   },
   {
    "duration": 241,
    "start_time": "2024-11-10T13:48:32.408Z"
   },
   {
    "duration": 217,
    "start_time": "2024-11-10T13:48:32.651Z"
   },
   {
    "duration": 214,
    "start_time": "2024-11-10T13:48:32.869Z"
   },
   {
    "duration": 44,
    "start_time": "2024-11-10T13:48:33.085Z"
   },
   {
    "duration": 10,
    "start_time": "2024-11-10T13:48:33.131Z"
   },
   {
    "duration": 9,
    "start_time": "2024-11-10T13:48:33.143Z"
   },
   {
    "duration": 18,
    "start_time": "2024-11-10T13:48:33.153Z"
   },
   {
    "duration": 19,
    "start_time": "2024-11-10T13:48:33.173Z"
   },
   {
    "duration": 19,
    "start_time": "2024-11-10T13:48:33.193Z"
   },
   {
    "duration": 14,
    "start_time": "2024-11-10T13:48:33.213Z"
   },
   {
    "duration": 308,
    "start_time": "2024-11-10T13:48:33.228Z"
   },
   {
    "duration": 16,
    "start_time": "2024-11-10T13:48:33.546Z"
   },
   {
    "duration": 328,
    "start_time": "2024-11-10T13:49:00.611Z"
   },
   {
    "duration": 87,
    "start_time": "2024-11-10T18:43:58.825Z"
   },
   {
    "duration": 343,
    "start_time": "2024-11-10T18:44:07.741Z"
   },
   {
    "duration": 217,
    "start_time": "2024-11-10T18:44:08.086Z"
   },
   {
    "duration": 3,
    "start_time": "2024-11-10T18:44:08.304Z"
   },
   {
    "duration": 419,
    "start_time": "2024-11-10T18:44:08.308Z"
   },
   {
    "duration": 2,
    "start_time": "2024-11-10T18:44:08.729Z"
   },
   {
    "duration": 7,
    "start_time": "2024-11-10T18:44:08.732Z"
   },
   {
    "duration": 41,
    "start_time": "2024-11-10T18:44:08.740Z"
   },
   {
    "duration": 10,
    "start_time": "2024-11-10T18:44:08.782Z"
   },
   {
    "duration": 37,
    "start_time": "2024-11-10T18:44:08.793Z"
   },
   {
    "duration": 12,
    "start_time": "2024-11-10T18:44:08.832Z"
   },
   {
    "duration": 22,
    "start_time": "2024-11-10T18:44:08.846Z"
   },
   {
    "duration": 19,
    "start_time": "2024-11-10T18:44:08.869Z"
   },
   {
    "duration": 6,
    "start_time": "2024-11-10T18:44:08.889Z"
   },
   {
    "duration": 12,
    "start_time": "2024-11-10T18:44:08.898Z"
   },
   {
    "duration": 7,
    "start_time": "2024-11-10T18:44:08.912Z"
   },
   {
    "duration": 15,
    "start_time": "2024-11-10T18:44:08.921Z"
   },
   {
    "duration": 8,
    "start_time": "2024-11-10T18:44:08.937Z"
   },
   {
    "duration": 4,
    "start_time": "2024-11-10T18:44:08.947Z"
   },
   {
    "duration": 162,
    "start_time": "2024-11-10T18:44:08.953Z"
   },
   {
    "duration": 3,
    "start_time": "2024-11-10T18:44:09.117Z"
   },
   {
    "duration": 127,
    "start_time": "2024-11-10T18:44:09.122Z"
   },
   {
    "duration": 168,
    "start_time": "2024-11-10T18:44:09.250Z"
   },
   {
    "duration": 224,
    "start_time": "2024-11-10T18:44:09.420Z"
   },
   {
    "duration": 209,
    "start_time": "2024-11-10T18:44:09.645Z"
   },
   {
    "duration": 217,
    "start_time": "2024-11-10T18:44:09.856Z"
   },
   {
    "duration": 9,
    "start_time": "2024-11-10T18:44:10.074Z"
   },
   {
    "duration": 288,
    "start_time": "2024-11-10T18:44:10.084Z"
   },
   {
    "duration": 20,
    "start_time": "2024-11-10T18:44:10.374Z"
   },
   {
    "duration": 23,
    "start_time": "2024-11-10T18:44:10.395Z"
   },
   {
    "duration": 13,
    "start_time": "2024-11-10T18:44:10.419Z"
   },
   {
    "duration": 217,
    "start_time": "2024-11-10T18:44:10.434Z"
   },
   {
    "duration": 220,
    "start_time": "2024-11-10T18:44:10.652Z"
   },
   {
    "duration": 209,
    "start_time": "2024-11-10T18:44:10.874Z"
   },
   {
    "duration": 246,
    "start_time": "2024-11-10T18:44:11.084Z"
   },
   {
    "duration": 31,
    "start_time": "2024-11-10T18:44:11.332Z"
   },
   {
    "duration": 12,
    "start_time": "2024-11-10T18:44:11.365Z"
   },
   {
    "duration": 5,
    "start_time": "2024-11-10T18:44:11.379Z"
   },
   {
    "duration": 5,
    "start_time": "2024-11-10T18:44:11.406Z"
   },
   {
    "duration": 22,
    "start_time": "2024-11-10T18:44:11.412Z"
   },
   {
    "duration": 11,
    "start_time": "2024-11-10T18:44:11.436Z"
   },
   {
    "duration": 6,
    "start_time": "2024-11-10T18:44:11.450Z"
   },
   {
    "duration": 297,
    "start_time": "2024-11-10T18:44:11.457Z"
   },
   {
    "duration": 4,
    "start_time": "2024-11-10T18:44:11.755Z"
   },
   {
    "duration": 305,
    "start_time": "2024-11-10T18:44:11.761Z"
   },
   {
    "duration": 9,
    "start_time": "2024-11-10T18:45:07.300Z"
   },
   {
    "duration": 4,
    "start_time": "2024-11-10T18:45:32.775Z"
   },
   {
    "duration": 3,
    "start_time": "2024-11-10T18:45:50.924Z"
   },
   {
    "duration": 7,
    "start_time": "2024-11-10T18:46:11.903Z"
   },
   {
    "duration": 7,
    "start_time": "2024-11-10T18:47:12.685Z"
   },
   {
    "duration": 4,
    "start_time": "2024-11-10T18:48:34.333Z"
   },
   {
    "duration": 225,
    "start_time": "2024-11-10T19:08:25.245Z"
   },
   {
    "duration": 224,
    "start_time": "2024-11-10T19:08:35.895Z"
   },
   {
    "duration": 345,
    "start_time": "2024-11-10T19:09:06.052Z"
   },
   {
    "duration": 201,
    "start_time": "2024-11-10T19:09:06.399Z"
   },
   {
    "duration": 2,
    "start_time": "2024-11-10T19:09:06.601Z"
   },
   {
    "duration": 495,
    "start_time": "2024-11-10T19:09:06.606Z"
   },
   {
    "duration": 4,
    "start_time": "2024-11-10T19:09:07.103Z"
   },
   {
    "duration": 8,
    "start_time": "2024-11-10T19:09:07.109Z"
   },
   {
    "duration": 41,
    "start_time": "2024-11-10T19:09:07.119Z"
   },
   {
    "duration": 13,
    "start_time": "2024-11-10T19:09:07.162Z"
   },
   {
    "duration": 40,
    "start_time": "2024-11-10T19:09:07.177Z"
   },
   {
    "duration": 10,
    "start_time": "2024-11-10T19:09:07.221Z"
   },
   {
    "duration": 28,
    "start_time": "2024-11-10T19:09:07.233Z"
   },
   {
    "duration": 16,
    "start_time": "2024-11-10T19:09:07.263Z"
   },
   {
    "duration": 6,
    "start_time": "2024-11-10T19:09:07.281Z"
   },
   {
    "duration": 12,
    "start_time": "2024-11-10T19:09:07.288Z"
   },
   {
    "duration": 12,
    "start_time": "2024-11-10T19:09:07.301Z"
   },
   {
    "duration": 7,
    "start_time": "2024-11-10T19:09:07.314Z"
   },
   {
    "duration": 8,
    "start_time": "2024-11-10T19:09:07.322Z"
   },
   {
    "duration": 29,
    "start_time": "2024-11-10T19:09:07.332Z"
   },
   {
    "duration": 141,
    "start_time": "2024-11-10T19:09:07.362Z"
   },
   {
    "duration": 4,
    "start_time": "2024-11-10T19:09:07.508Z"
   },
   {
    "duration": 117,
    "start_time": "2024-11-10T19:09:07.513Z"
   },
   {
    "duration": 150,
    "start_time": "2024-11-10T19:09:07.632Z"
   },
   {
    "duration": 229,
    "start_time": "2024-11-10T19:09:07.784Z"
   },
   {
    "duration": 206,
    "start_time": "2024-11-10T19:09:08.014Z"
   },
   {
    "duration": 224,
    "start_time": "2024-11-10T19:09:08.221Z"
   },
   {
    "duration": 272,
    "start_time": "2024-11-10T19:09:08.447Z"
   },
   {
    "duration": 12,
    "start_time": "2024-11-10T19:09:08.721Z"
   },
   {
    "duration": 239,
    "start_time": "2024-11-10T19:09:08.736Z"
   },
   {
    "duration": 31,
    "start_time": "2024-11-10T19:09:08.977Z"
   },
   {
    "duration": 7,
    "start_time": "2024-11-10T19:09:09.009Z"
   },
   {
    "duration": 10,
    "start_time": "2024-11-10T19:09:09.017Z"
   },
   {
    "duration": 10,
    "start_time": "2024-11-10T19:09:09.028Z"
   },
   {
    "duration": 214,
    "start_time": "2024-11-10T19:09:09.039Z"
   },
   {
    "duration": 238,
    "start_time": "2024-11-10T19:09:09.254Z"
   },
   {
    "duration": 222,
    "start_time": "2024-11-10T19:09:09.494Z"
   },
   {
    "duration": 282,
    "start_time": "2024-11-10T19:09:09.717Z"
   },
   {
    "duration": 37,
    "start_time": "2024-11-10T19:09:10.000Z"
   },
   {
    "duration": 12,
    "start_time": "2024-11-10T19:09:10.038Z"
   },
   {
    "duration": 21,
    "start_time": "2024-11-10T19:09:10.051Z"
   },
   {
    "duration": 15,
    "start_time": "2024-11-10T19:09:10.074Z"
   },
   {
    "duration": 8,
    "start_time": "2024-11-10T19:09:10.091Z"
   },
   {
    "duration": 11,
    "start_time": "2024-11-10T19:09:10.100Z"
   },
   {
    "duration": 12,
    "start_time": "2024-11-10T19:09:10.112Z"
   },
   {
    "duration": 248,
    "start_time": "2024-11-10T19:09:10.125Z"
   },
   {
    "duration": 4,
    "start_time": "2024-11-10T19:09:10.375Z"
   },
   {
    "duration": 364,
    "start_time": "2024-11-10T19:09:10.380Z"
   },
   {
    "duration": 421,
    "start_time": "2024-11-10T20:01:55.668Z"
   },
   {
    "duration": 235,
    "start_time": "2024-11-10T20:01:56.091Z"
   },
   {
    "duration": 5,
    "start_time": "2024-11-10T20:01:56.328Z"
   },
   {
    "duration": 423,
    "start_time": "2024-11-10T20:01:56.335Z"
   },
   {
    "duration": 2,
    "start_time": "2024-11-10T20:01:56.760Z"
   },
   {
    "duration": 11,
    "start_time": "2024-11-10T20:01:56.764Z"
   },
   {
    "duration": 40,
    "start_time": "2024-11-10T20:01:56.776Z"
   },
   {
    "duration": 10,
    "start_time": "2024-11-10T20:01:56.817Z"
   },
   {
    "duration": 177,
    "start_time": "2024-11-10T20:01:56.828Z"
   },
   {
    "duration": 9,
    "start_time": "2024-11-10T20:01:57.007Z"
   },
   {
    "duration": 18,
    "start_time": "2024-11-10T20:01:57.018Z"
   },
   {
    "duration": 24,
    "start_time": "2024-11-10T20:01:57.037Z"
   },
   {
    "duration": 6,
    "start_time": "2024-11-10T20:01:57.063Z"
   },
   {
    "duration": 12,
    "start_time": "2024-11-10T20:01:57.070Z"
   },
   {
    "duration": 8,
    "start_time": "2024-11-10T20:01:57.084Z"
   },
   {
    "duration": 20,
    "start_time": "2024-11-10T20:01:57.094Z"
   },
   {
    "duration": 19,
    "start_time": "2024-11-10T20:01:57.115Z"
   },
   {
    "duration": 5,
    "start_time": "2024-11-10T20:01:57.136Z"
   },
   {
    "duration": 158,
    "start_time": "2024-11-10T20:01:57.143Z"
   },
   {
    "duration": 5,
    "start_time": "2024-11-10T20:01:57.302Z"
   },
   {
    "duration": 118,
    "start_time": "2024-11-10T20:01:57.308Z"
   },
   {
    "duration": 161,
    "start_time": "2024-11-10T20:01:57.427Z"
   },
   {
    "duration": 247,
    "start_time": "2024-11-10T20:01:57.589Z"
   },
   {
    "duration": 220,
    "start_time": "2024-11-10T20:01:57.838Z"
   },
   {
    "duration": 249,
    "start_time": "2024-11-10T20:01:58.060Z"
   },
   {
    "duration": 277,
    "start_time": "2024-11-10T20:01:58.311Z"
   },
   {
    "duration": 17,
    "start_time": "2024-11-10T20:01:58.590Z"
   },
   {
    "duration": 227,
    "start_time": "2024-11-10T20:01:58.610Z"
   },
   {
    "duration": 22,
    "start_time": "2024-11-10T20:01:58.838Z"
   },
   {
    "duration": 148,
    "start_time": "2024-11-10T20:01:58.861Z"
   },
   {
    "duration": 3,
    "start_time": "2024-11-10T20:01:59.011Z"
   },
   {
    "duration": 18,
    "start_time": "2024-11-10T20:01:59.015Z"
   },
   {
    "duration": 227,
    "start_time": "2024-11-10T20:01:59.034Z"
   },
   {
    "duration": 229,
    "start_time": "2024-11-10T20:01:59.262Z"
   },
   {
    "duration": 238,
    "start_time": "2024-11-10T20:01:59.493Z"
   },
   {
    "duration": 294,
    "start_time": "2024-11-10T20:01:59.733Z"
   },
   {
    "duration": 35,
    "start_time": "2024-11-10T20:02:00.029Z"
   },
   {
    "duration": 27,
    "start_time": "2024-11-10T20:02:00.066Z"
   },
   {
    "duration": 20,
    "start_time": "2024-11-10T20:02:00.094Z"
   },
   {
    "duration": 30,
    "start_time": "2024-11-10T20:02:00.115Z"
   },
   {
    "duration": 48,
    "start_time": "2024-11-10T20:02:00.146Z"
   },
   {
    "duration": 57,
    "start_time": "2024-11-10T20:02:00.195Z"
   },
   {
    "duration": 72,
    "start_time": "2024-11-10T20:02:00.253Z"
   },
   {
    "duration": 293,
    "start_time": "2024-11-10T20:02:00.326Z"
   },
   {
    "duration": 5,
    "start_time": "2024-11-10T20:02:00.620Z"
   },
   {
    "duration": 312,
    "start_time": "2024-11-10T20:02:00.626Z"
   },
   {
    "duration": 354,
    "start_time": "2024-11-10T20:02:03.144Z"
   },
   {
    "duration": 242,
    "start_time": "2024-11-10T20:02:03.500Z"
   },
   {
    "duration": 2,
    "start_time": "2024-11-10T20:02:03.743Z"
   },
   {
    "duration": 436,
    "start_time": "2024-11-10T20:02:03.747Z"
   },
   {
    "duration": 2,
    "start_time": "2024-11-10T20:02:04.185Z"
   },
   {
    "duration": 41,
    "start_time": "2024-11-10T20:02:04.188Z"
   },
   {
    "duration": 39,
    "start_time": "2024-11-10T20:02:04.230Z"
   },
   {
    "duration": 9,
    "start_time": "2024-11-10T20:02:04.271Z"
   },
   {
    "duration": 43,
    "start_time": "2024-11-10T20:02:04.281Z"
   },
   {
    "duration": 10,
    "start_time": "2024-11-10T20:02:04.326Z"
   },
   {
    "duration": 31,
    "start_time": "2024-11-10T20:02:04.337Z"
   },
   {
    "duration": 16,
    "start_time": "2024-11-10T20:02:04.369Z"
   },
   {
    "duration": 5,
    "start_time": "2024-11-10T20:02:04.387Z"
   },
   {
    "duration": 14,
    "start_time": "2024-11-10T20:02:04.393Z"
   },
   {
    "duration": 5,
    "start_time": "2024-11-10T20:02:04.408Z"
   },
   {
    "duration": 44,
    "start_time": "2024-11-10T20:02:04.414Z"
   },
   {
    "duration": 17,
    "start_time": "2024-11-10T20:02:04.459Z"
   },
   {
    "duration": 16,
    "start_time": "2024-11-10T20:02:04.477Z"
   },
   {
    "duration": 137,
    "start_time": "2024-11-10T20:02:04.494Z"
   },
   {
    "duration": 3,
    "start_time": "2024-11-10T20:02:04.633Z"
   },
   {
    "duration": 123,
    "start_time": "2024-11-10T20:02:04.637Z"
   },
   {
    "duration": 159,
    "start_time": "2024-11-10T20:02:04.762Z"
   },
   {
    "duration": 228,
    "start_time": "2024-11-10T20:02:04.922Z"
   },
   {
    "duration": 228,
    "start_time": "2024-11-10T20:02:05.152Z"
   },
   {
    "duration": 255,
    "start_time": "2024-11-10T20:02:05.382Z"
   },
   {
    "duration": 269,
    "start_time": "2024-11-10T20:02:05.638Z"
   },
   {
    "duration": 8,
    "start_time": "2024-11-10T20:02:05.908Z"
   },
   {
    "duration": 229,
    "start_time": "2024-11-10T20:02:05.919Z"
   },
   {
    "duration": 22,
    "start_time": "2024-11-10T20:02:06.150Z"
   },
   {
    "duration": 7,
    "start_time": "2024-11-10T20:02:06.173Z"
   },
   {
    "duration": 3,
    "start_time": "2024-11-10T20:02:06.182Z"
   },
   {
    "duration": 9,
    "start_time": "2024-11-10T20:02:06.207Z"
   },
   {
    "duration": 223,
    "start_time": "2024-11-10T20:02:06.217Z"
   },
   {
    "duration": 212,
    "start_time": "2024-11-10T20:02:06.441Z"
   },
   {
    "duration": 250,
    "start_time": "2024-11-10T20:02:06.655Z"
   },
   {
    "duration": 294,
    "start_time": "2024-11-10T20:02:06.906Z"
   },
   {
    "duration": 43,
    "start_time": "2024-11-10T20:02:07.201Z"
   },
   {
    "duration": 13,
    "start_time": "2024-11-10T20:02:07.245Z"
   },
   {
    "duration": 4,
    "start_time": "2024-11-10T20:02:07.260Z"
   },
   {
    "duration": 8,
    "start_time": "2024-11-10T20:02:07.266Z"
   },
   {
    "duration": 10,
    "start_time": "2024-11-10T20:02:07.275Z"
   },
   {
    "duration": 30,
    "start_time": "2024-11-10T20:02:07.287Z"
   },
   {
    "duration": 21,
    "start_time": "2024-11-10T20:02:07.318Z"
   },
   {
    "duration": 270,
    "start_time": "2024-11-10T20:02:07.341Z"
   },
   {
    "duration": 4,
    "start_time": "2024-11-10T20:02:07.613Z"
   },
   {
    "duration": 398,
    "start_time": "2024-11-10T20:02:07.618Z"
   },
   {
    "duration": 387,
    "start_time": "2024-11-10T20:06:52.365Z"
   },
   {
    "duration": 232,
    "start_time": "2024-11-10T20:06:52.754Z"
   },
   {
    "duration": 3,
    "start_time": "2024-11-10T20:06:52.988Z"
   },
   {
    "duration": 430,
    "start_time": "2024-11-10T20:06:52.993Z"
   },
   {
    "duration": 3,
    "start_time": "2024-11-10T20:06:53.424Z"
   },
   {
    "duration": 5,
    "start_time": "2024-11-10T20:06:53.429Z"
   },
   {
    "duration": 43,
    "start_time": "2024-11-10T20:06:53.435Z"
   },
   {
    "duration": 10,
    "start_time": "2024-11-10T20:06:53.480Z"
   },
   {
    "duration": 51,
    "start_time": "2024-11-10T20:06:53.492Z"
   },
   {
    "duration": 12,
    "start_time": "2024-11-10T20:06:53.545Z"
   },
   {
    "duration": 20,
    "start_time": "2024-11-10T20:06:53.558Z"
   },
   {
    "duration": 20,
    "start_time": "2024-11-10T20:06:53.579Z"
   },
   {
    "duration": 6,
    "start_time": "2024-11-10T20:06:53.600Z"
   },
   {
    "duration": 7,
    "start_time": "2024-11-10T20:06:53.607Z"
   },
   {
    "duration": 4,
    "start_time": "2024-11-10T20:06:53.616Z"
   },
   {
    "duration": 76,
    "start_time": "2024-11-10T20:06:53.621Z"
   },
   {
    "duration": 21,
    "start_time": "2024-11-10T20:06:53.698Z"
   },
   {
    "duration": 5,
    "start_time": "2024-11-10T20:06:53.721Z"
   },
   {
    "duration": 157,
    "start_time": "2024-11-10T20:06:53.728Z"
   },
   {
    "duration": 3,
    "start_time": "2024-11-10T20:06:53.887Z"
   },
   {
    "duration": 120,
    "start_time": "2024-11-10T20:06:53.891Z"
   },
   {
    "duration": 163,
    "start_time": "2024-11-10T20:06:54.013Z"
   },
   {
    "duration": 231,
    "start_time": "2024-11-10T20:06:54.178Z"
   },
   {
    "duration": 215,
    "start_time": "2024-11-10T20:06:54.410Z"
   },
   {
    "duration": 241,
    "start_time": "2024-11-10T20:06:54.627Z"
   },
   {
    "duration": 284,
    "start_time": "2024-11-10T20:06:54.870Z"
   },
   {
    "duration": 10,
    "start_time": "2024-11-10T20:06:55.156Z"
   },
   {
    "duration": 265,
    "start_time": "2024-11-10T20:06:55.171Z"
   },
   {
    "duration": 22,
    "start_time": "2024-11-10T20:06:55.438Z"
   },
   {
    "duration": 8,
    "start_time": "2024-11-10T20:06:55.461Z"
   },
   {
    "duration": 17,
    "start_time": "2024-11-10T20:06:55.470Z"
   },
   {
    "duration": 34,
    "start_time": "2024-11-10T20:06:55.488Z"
   },
   {
    "duration": 223,
    "start_time": "2024-11-10T20:06:55.523Z"
   },
   {
    "duration": 213,
    "start_time": "2024-11-10T20:06:55.747Z"
   },
   {
    "duration": 220,
    "start_time": "2024-11-10T20:06:55.961Z"
   },
   {
    "duration": 289,
    "start_time": "2024-11-10T20:06:56.182Z"
   },
   {
    "duration": 38,
    "start_time": "2024-11-10T20:06:56.472Z"
   },
   {
    "duration": 12,
    "start_time": "2024-11-10T20:06:56.511Z"
   },
   {
    "duration": 5,
    "start_time": "2024-11-10T20:06:56.524Z"
   },
   {
    "duration": 20,
    "start_time": "2024-11-10T20:06:56.530Z"
   },
   {
    "duration": 24,
    "start_time": "2024-11-10T20:06:56.551Z"
   },
   {
    "duration": 33,
    "start_time": "2024-11-10T20:06:56.576Z"
   },
   {
    "duration": 263,
    "start_time": "2024-11-10T20:06:56.610Z"
   },
   {
    "duration": 4,
    "start_time": "2024-11-10T20:06:56.875Z"
   },
   {
    "duration": 450,
    "start_time": "2024-11-10T20:06:56.881Z"
   },
   {
    "duration": 17,
    "start_time": "2024-11-10T20:08:14.101Z"
   },
   {
    "duration": 389,
    "start_time": "2024-11-10T20:08:22.213Z"
   },
   {
    "duration": 226,
    "start_time": "2024-11-10T20:08:22.604Z"
   },
   {
    "duration": 3,
    "start_time": "2024-11-10T20:08:22.831Z"
   },
   {
    "duration": 575,
    "start_time": "2024-11-10T20:08:22.836Z"
   },
   {
    "duration": 2,
    "start_time": "2024-11-10T20:08:23.413Z"
   },
   {
    "duration": 14,
    "start_time": "2024-11-10T20:08:23.417Z"
   },
   {
    "duration": 43,
    "start_time": "2024-11-10T20:08:23.433Z"
   },
   {
    "duration": 10,
    "start_time": "2024-11-10T20:08:23.478Z"
   },
   {
    "duration": 50,
    "start_time": "2024-11-10T20:08:23.489Z"
   },
   {
    "duration": 10,
    "start_time": "2024-11-10T20:08:23.542Z"
   },
   {
    "duration": 20,
    "start_time": "2024-11-10T20:08:23.553Z"
   },
   {
    "duration": 14,
    "start_time": "2024-11-10T20:08:23.574Z"
   },
   {
    "duration": 35,
    "start_time": "2024-11-10T20:08:23.590Z"
   },
   {
    "duration": 94,
    "start_time": "2024-11-10T20:08:23.627Z"
   },
   {
    "duration": 6,
    "start_time": "2024-11-10T20:08:23.723Z"
   },
   {
    "duration": 22,
    "start_time": "2024-11-10T20:08:23.731Z"
   },
   {
    "duration": 10,
    "start_time": "2024-11-10T20:08:23.755Z"
   },
   {
    "duration": 4,
    "start_time": "2024-11-10T20:08:23.766Z"
   },
   {
    "duration": 140,
    "start_time": "2024-11-10T20:08:23.771Z"
   },
   {
    "duration": 3,
    "start_time": "2024-11-10T20:08:23.913Z"
   },
   {
    "duration": 122,
    "start_time": "2024-11-10T20:08:23.917Z"
   },
   {
    "duration": 159,
    "start_time": "2024-11-10T20:08:24.040Z"
   },
   {
    "duration": 236,
    "start_time": "2024-11-10T20:08:24.200Z"
   },
   {
    "duration": 214,
    "start_time": "2024-11-10T20:08:24.437Z"
   },
   {
    "duration": 264,
    "start_time": "2024-11-10T20:08:24.653Z"
   },
   {
    "duration": 290,
    "start_time": "2024-11-10T20:08:24.919Z"
   },
   {
    "duration": 9,
    "start_time": "2024-11-10T20:08:25.210Z"
   },
   {
    "duration": 228,
    "start_time": "2024-11-10T20:08:25.222Z"
   },
   {
    "duration": 22,
    "start_time": "2024-11-10T20:08:25.452Z"
   },
   {
    "duration": 45,
    "start_time": "2024-11-10T20:08:25.475Z"
   },
   {
    "duration": 74,
    "start_time": "2024-11-10T20:08:25.521Z"
   },
   {
    "duration": 17,
    "start_time": "2024-11-10T20:08:25.596Z"
   },
   {
    "duration": 215,
    "start_time": "2024-11-10T20:08:25.615Z"
   },
   {
    "duration": 211,
    "start_time": "2024-11-10T20:08:25.832Z"
   },
   {
    "duration": 223,
    "start_time": "2024-11-10T20:08:26.044Z"
   },
   {
    "duration": 321,
    "start_time": "2024-11-10T20:08:26.269Z"
   },
   {
    "duration": 42,
    "start_time": "2024-11-10T20:08:26.591Z"
   },
   {
    "duration": 15,
    "start_time": "2024-11-10T20:08:26.635Z"
   },
   {
    "duration": 6,
    "start_time": "2024-11-10T20:08:26.652Z"
   },
   {
    "duration": 14,
    "start_time": "2024-11-10T20:08:26.659Z"
   },
   {
    "duration": 9,
    "start_time": "2024-11-10T20:08:26.674Z"
   },
   {
    "duration": 43,
    "start_time": "2024-11-10T20:08:26.684Z"
   },
   {
    "duration": 366,
    "start_time": "2024-11-10T20:08:26.728Z"
   },
   {
    "duration": 11,
    "start_time": "2024-11-10T20:08:27.096Z"
   },
   {
    "duration": 328,
    "start_time": "2024-11-10T20:08:27.108Z"
   },
   {
    "duration": 401,
    "start_time": "2024-11-10T20:11:13.982Z"
   },
   {
    "duration": 215,
    "start_time": "2024-11-10T20:11:14.385Z"
   },
   {
    "duration": 2,
    "start_time": "2024-11-10T20:11:14.602Z"
   },
   {
    "duration": 409,
    "start_time": "2024-11-10T20:11:14.607Z"
   },
   {
    "duration": 3,
    "start_time": "2024-11-10T20:11:15.017Z"
   },
   {
    "duration": 27,
    "start_time": "2024-11-10T20:11:15.021Z"
   },
   {
    "duration": 56,
    "start_time": "2024-11-10T20:11:15.050Z"
   },
   {
    "duration": 36,
    "start_time": "2024-11-10T20:11:15.107Z"
   },
   {
    "duration": 70,
    "start_time": "2024-11-10T20:11:15.144Z"
   },
   {
    "duration": 13,
    "start_time": "2024-11-10T20:11:15.217Z"
   },
   {
    "duration": 29,
    "start_time": "2024-11-10T20:11:15.231Z"
   },
   {
    "duration": 24,
    "start_time": "2024-11-10T20:11:15.262Z"
   },
   {
    "duration": 6,
    "start_time": "2024-11-10T20:11:15.288Z"
   },
   {
    "duration": 28,
    "start_time": "2024-11-10T20:11:15.295Z"
   },
   {
    "duration": 12,
    "start_time": "2024-11-10T20:11:15.324Z"
   },
   {
    "duration": 10,
    "start_time": "2024-11-10T20:11:15.337Z"
   },
   {
    "duration": 10,
    "start_time": "2024-11-10T20:11:15.349Z"
   },
   {
    "duration": 15,
    "start_time": "2024-11-10T20:11:15.360Z"
   },
   {
    "duration": 183,
    "start_time": "2024-11-10T20:11:15.377Z"
   },
   {
    "duration": 4,
    "start_time": "2024-11-10T20:11:15.562Z"
   },
   {
    "duration": 127,
    "start_time": "2024-11-10T20:11:15.567Z"
   },
   {
    "duration": 154,
    "start_time": "2024-11-10T20:11:15.695Z"
   },
   {
    "duration": 229,
    "start_time": "2024-11-10T20:11:15.851Z"
   },
   {
    "duration": 208,
    "start_time": "2024-11-10T20:11:16.081Z"
   },
   {
    "duration": 222,
    "start_time": "2024-11-10T20:11:16.290Z"
   },
   {
    "duration": 290,
    "start_time": "2024-11-10T20:11:16.514Z"
   },
   {
    "duration": 9,
    "start_time": "2024-11-10T20:11:16.807Z"
   },
   {
    "duration": 225,
    "start_time": "2024-11-10T20:11:16.820Z"
   },
   {
    "duration": 22,
    "start_time": "2024-11-10T20:11:17.046Z"
   },
   {
    "duration": 8,
    "start_time": "2024-11-10T20:11:17.069Z"
   },
   {
    "duration": 6,
    "start_time": "2024-11-10T20:11:17.078Z"
   },
   {
    "duration": 28,
    "start_time": "2024-11-10T20:11:17.086Z"
   },
   {
    "duration": 236,
    "start_time": "2024-11-10T20:11:17.115Z"
   },
   {
    "duration": 256,
    "start_time": "2024-11-10T20:11:17.353Z"
   },
   {
    "duration": 230,
    "start_time": "2024-11-10T20:11:17.611Z"
   },
   {
    "duration": 295,
    "start_time": "2024-11-10T20:11:17.843Z"
   },
   {
    "duration": 32,
    "start_time": "2024-11-10T20:11:18.140Z"
   },
   {
    "duration": 11,
    "start_time": "2024-11-10T20:11:18.173Z"
   },
   {
    "duration": 6,
    "start_time": "2024-11-10T20:11:18.185Z"
   },
   {
    "duration": 13,
    "start_time": "2024-11-10T20:11:18.206Z"
   },
   {
    "duration": 6,
    "start_time": "2024-11-10T20:11:18.221Z"
   },
   {
    "duration": 9,
    "start_time": "2024-11-10T20:11:18.229Z"
   },
   {
    "duration": 256,
    "start_time": "2024-11-10T20:11:18.239Z"
   },
   {
    "duration": 4,
    "start_time": "2024-11-10T20:11:18.497Z"
   },
   {
    "duration": 329,
    "start_time": "2024-11-10T20:11:18.503Z"
   },
   {
    "duration": 457,
    "start_time": "2024-11-12T13:01:36.439Z"
   },
   {
    "duration": 399,
    "start_time": "2024-11-12T13:01:36.898Z"
   },
   {
    "duration": 3,
    "start_time": "2024-11-12T13:01:37.299Z"
   },
   {
    "duration": 542,
    "start_time": "2024-11-12T13:01:37.304Z"
   },
   {
    "duration": 3,
    "start_time": "2024-11-12T13:01:37.848Z"
   },
   {
    "duration": 12,
    "start_time": "2024-11-12T13:01:37.852Z"
   },
   {
    "duration": 96,
    "start_time": "2024-11-12T13:01:37.866Z"
   },
   {
    "duration": 11,
    "start_time": "2024-11-12T13:01:37.964Z"
   },
   {
    "duration": 167,
    "start_time": "2024-11-12T13:01:37.977Z"
   },
   {
    "duration": 12,
    "start_time": "2024-11-12T13:01:38.148Z"
   },
   {
    "duration": 74,
    "start_time": "2024-11-12T13:01:38.162Z"
   },
   {
    "duration": 18,
    "start_time": "2024-11-12T13:01:38.238Z"
   },
   {
    "duration": 14,
    "start_time": "2024-11-12T13:01:38.257Z"
   },
   {
    "duration": 32,
    "start_time": "2024-11-12T13:01:38.272Z"
   },
   {
    "duration": 7,
    "start_time": "2024-11-12T13:01:38.306Z"
   },
   {
    "duration": 10,
    "start_time": "2024-11-12T13:01:38.315Z"
   },
   {
    "duration": 8,
    "start_time": "2024-11-12T13:01:38.326Z"
   },
   {
    "duration": 4,
    "start_time": "2024-11-12T13:01:38.336Z"
   },
   {
    "duration": 175,
    "start_time": "2024-11-12T13:01:38.342Z"
   },
   {
    "duration": 4,
    "start_time": "2024-11-12T13:01:38.519Z"
   },
   {
    "duration": 173,
    "start_time": "2024-11-12T13:01:38.524Z"
   },
   {
    "duration": 195,
    "start_time": "2024-11-12T13:01:38.698Z"
   },
   {
    "duration": 289,
    "start_time": "2024-11-12T13:01:38.895Z"
   },
   {
    "duration": 258,
    "start_time": "2024-11-12T13:01:39.186Z"
   },
   {
    "duration": 285,
    "start_time": "2024-11-12T13:01:39.446Z"
   },
   {
    "duration": 381,
    "start_time": "2024-11-12T13:01:39.733Z"
   },
   {
    "duration": 9,
    "start_time": "2024-11-12T13:01:40.116Z"
   },
   {
    "duration": 294,
    "start_time": "2024-11-12T13:01:40.128Z"
   },
   {
    "duration": 25,
    "start_time": "2024-11-12T13:01:40.424Z"
   },
   {
    "duration": 19,
    "start_time": "2024-11-12T13:01:40.451Z"
   },
   {
    "duration": 6,
    "start_time": "2024-11-12T13:01:40.472Z"
   },
   {
    "duration": 13,
    "start_time": "2024-11-12T13:01:40.479Z"
   },
   {
    "duration": 330,
    "start_time": "2024-11-12T13:01:40.493Z"
   },
   {
    "duration": 270,
    "start_time": "2024-11-12T13:01:40.825Z"
   },
   {
    "duration": 277,
    "start_time": "2024-11-12T13:01:41.097Z"
   },
   {
    "duration": 373,
    "start_time": "2024-11-12T13:01:41.376Z"
   },
   {
    "duration": 46,
    "start_time": "2024-11-12T13:01:41.751Z"
   },
   {
    "duration": 15,
    "start_time": "2024-11-12T13:01:41.799Z"
   },
   {
    "duration": 6,
    "start_time": "2024-11-12T13:01:41.815Z"
   },
   {
    "duration": 7,
    "start_time": "2024-11-12T13:01:41.822Z"
   },
   {
    "duration": 34,
    "start_time": "2024-11-12T13:01:41.831Z"
   },
   {
    "duration": 5,
    "start_time": "2024-11-12T13:01:41.868Z"
   },
   {
    "duration": 325,
    "start_time": "2024-11-12T13:01:41.875Z"
   },
   {
    "duration": 5,
    "start_time": "2024-11-12T13:01:42.202Z"
   },
   {
    "duration": 467,
    "start_time": "2024-11-12T13:01:42.208Z"
   },
   {
    "duration": 1619,
    "start_time": "2024-11-12T13:02:07.545Z"
   },
   {
    "duration": 413,
    "start_time": "2024-11-12T17:09:58.758Z"
   },
   {
    "duration": 468,
    "start_time": "2024-11-12T17:09:59.173Z"
   },
   {
    "duration": 3,
    "start_time": "2024-11-12T17:09:59.643Z"
   },
   {
    "duration": 558,
    "start_time": "2024-11-12T17:09:59.648Z"
   },
   {
    "duration": 3,
    "start_time": "2024-11-12T17:10:00.209Z"
   },
   {
    "duration": 22,
    "start_time": "2024-11-12T17:10:00.213Z"
   },
   {
    "duration": 148,
    "start_time": "2024-11-12T17:10:00.236Z"
   },
   {
    "duration": 19,
    "start_time": "2024-11-12T17:10:00.385Z"
   },
   {
    "duration": 229,
    "start_time": "2024-11-12T17:10:00.409Z"
   },
   {
    "duration": 11,
    "start_time": "2024-11-12T17:10:00.640Z"
   },
   {
    "duration": 164,
    "start_time": "2024-11-12T17:10:00.652Z"
   },
   {
    "duration": 18,
    "start_time": "2024-11-12T17:10:00.817Z"
   },
   {
    "duration": 7,
    "start_time": "2024-11-12T17:10:00.836Z"
   },
   {
    "duration": 28,
    "start_time": "2024-11-12T17:10:00.846Z"
   },
   {
    "duration": 6,
    "start_time": "2024-11-12T17:10:00.876Z"
   },
   {
    "duration": 33,
    "start_time": "2024-11-12T17:10:00.884Z"
   },
   {
    "duration": 15,
    "start_time": "2024-11-12T17:10:00.919Z"
   },
   {
    "duration": 9,
    "start_time": "2024-11-12T17:10:00.936Z"
   },
   {
    "duration": 191,
    "start_time": "2024-11-12T17:10:00.947Z"
   },
   {
    "duration": 4,
    "start_time": "2024-11-12T17:10:01.140Z"
   },
   {
    "duration": 173,
    "start_time": "2024-11-12T17:10:01.146Z"
   },
   {
    "duration": 217,
    "start_time": "2024-11-12T17:10:01.320Z"
   },
   {
    "duration": 327,
    "start_time": "2024-11-12T17:10:01.539Z"
   },
   {
    "duration": 294,
    "start_time": "2024-11-12T17:10:01.868Z"
   },
   {
    "duration": 310,
    "start_time": "2024-11-12T17:10:02.164Z"
   },
   {
    "duration": 392,
    "start_time": "2024-11-12T17:10:02.476Z"
   },
   {
    "duration": 12,
    "start_time": "2024-11-12T17:10:02.870Z"
   },
   {
    "duration": 355,
    "start_time": "2024-11-12T17:10:02.883Z"
   },
   {
    "duration": 28,
    "start_time": "2024-11-12T17:10:03.240Z"
   },
   {
    "duration": 10,
    "start_time": "2024-11-12T17:10:03.270Z"
   },
   {
    "duration": 23,
    "start_time": "2024-11-12T17:10:03.282Z"
   },
   {
    "duration": 27,
    "start_time": "2024-11-12T17:10:03.309Z"
   },
   {
    "duration": 318,
    "start_time": "2024-11-12T17:10:03.338Z"
   },
   {
    "duration": 312,
    "start_time": "2024-11-12T17:10:03.658Z"
   },
   {
    "duration": 300,
    "start_time": "2024-11-12T17:10:03.972Z"
   },
   {
    "duration": 411,
    "start_time": "2024-11-12T17:10:04.274Z"
   },
   {
    "duration": 50,
    "start_time": "2024-11-12T17:10:04.687Z"
   },
   {
    "duration": 14,
    "start_time": "2024-11-12T17:10:04.739Z"
   },
   {
    "duration": 7,
    "start_time": "2024-11-12T17:10:04.755Z"
   },
   {
    "duration": 17,
    "start_time": "2024-11-12T17:10:04.763Z"
   },
   {
    "duration": 22,
    "start_time": "2024-11-12T17:10:04.803Z"
   },
   {
    "duration": 30,
    "start_time": "2024-11-12T17:10:04.827Z"
   },
   {
    "duration": 337,
    "start_time": "2024-11-12T17:10:04.859Z"
   },
   {
    "duration": 6,
    "start_time": "2024-11-12T17:10:05.199Z"
   },
   {
    "duration": 421,
    "start_time": "2024-11-12T17:10:05.207Z"
   },
   {
    "duration": 1700,
    "start_time": "2024-11-12T17:10:05.630Z"
   },
   {
    "duration": 693,
    "start_time": "2024-11-12T17:10:17.134Z"
   },
   {
    "duration": 12,
    "start_time": "2024-11-12T17:20:09.645Z"
   },
   {
    "duration": 10,
    "start_time": "2024-11-12T17:20:30.785Z"
   },
   {
    "duration": 1075,
    "start_time": "2024-12-03T18:18:21.623Z"
   }
  ],
  "kernelspec": {
   "display_name": "Python 3 (ipykernel)",
   "language": "python",
   "name": "python3"
  },
  "language_info": {
   "codemirror_mode": {
    "name": "ipython",
    "version": 3
   },
   "file_extension": ".py",
   "mimetype": "text/x-python",
   "name": "python",
   "nbconvert_exporter": "python",
   "pygments_lexer": "ipython3",
   "version": "3.9.5"
  },
  "toc": {
   "base_numbering": 1,
   "nav_menu": {},
   "number_sections": true,
   "sideBar": true,
   "skip_h1_title": true,
   "title_cell": "Table of Contents",
   "title_sidebar": "Contents",
   "toc_cell": false,
   "toc_position": {},
   "toc_section_display": true,
   "toc_window_display": false
  }
 },
 "nbformat": 4,
 "nbformat_minor": 5
}
