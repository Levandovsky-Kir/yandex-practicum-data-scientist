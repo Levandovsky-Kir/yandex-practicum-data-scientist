{
 "cells": [
  {
   "cell_type": "markdown",
   "id": "ca483f25",
   "metadata": {},
   "source": [
    "# Анализ удовлетворённости сотрудников и прогнозирование увольнений "
   ]
  },
  {
   "cell_type": "markdown",
   "id": "839c4d4d",
   "metadata": {},
   "source": [
    "## Описание проекта\n",
    "\n",
    "### Цели проекта\n",
    "\n",
    "Целью проекта является построение эффективных моделей машинного обучения для HR-аналитики компании «Работа с заботой». Модели должны помочь бизнесу оптимизировать управление персоналом за счёт:\n",
    "- Предсказания уровня удовлетворённости сотрудников работой по имеющимся данным.\n",
    "- Прогнозирования вероятности увольнения сотрудников.\n",
    "\n",
    "---\n",
    "\n",
    "### Задачи проекта\n",
    "\n",
    "**Задача № 1**\n",
    "\n",
    "**Построить регрессионную модель для предсказания уровня удовлетворённости работой (`job_satisfaction_rate`):**\n",
    "- Оценить и обработать входные данные.\n",
    "- Разработать и обучить модели, подобрать наилучшие гиперпараметры.\n",
    "- Достичь значения метрики SMAPE ≤ 15 на тестовой выборке.\n",
    "\n",
    "**Задача № 2**\n",
    "\n",
    "**Построить классификационную модель для прогнозирования факта увольнения сотрудника (`quit`):**\n",
    "- Использовать все доступные признаки, включая предсказанный уровень удовлетворённости.\n",
    "- Подобрать лучшие модели и их параметры.\n",
    "- Достичь значения метрики ROC-AUC ≥ 0.91 на тестовой выборке.\n",
    "\n",
    "---\n",
    "\n",
    "### Описание данных\n",
    "\n",
    "В работе используются следующие датасеты:\n",
    "\n",
    "- **train_job_satisfaction_rate.csv** — тренировочная выборка для задачи регрессии.\n",
    "- **test_features.csv** — признаки тестовой выборки для обеих задач.\n",
    "- **test_target_job_satisfaction_rate.csv** — целевой признак для теста в задаче регрессии.\n",
    "- **train_quit.csv** — тренировочная выборка для задачи классификации (увольнения).\n",
    "- **test_target_quit.csv** — целевой признак для теста в задаче классификации.\n",
    "\n",
    "**Описание признаков:**\n",
    "\n",
    "| Признак                 | Описание                                                                                       |\n",
    "|-------------------------|------------------------------------------------------------------------------------------------|\n",
    "| `id`                    | Уникальный идентификатор сотрудника                                                           |\n",
    "| `dept`                  | Отдел, в котором работает сотрудник                                                           |\n",
    "| `level`                 | Уровень занимаемой должности                                                                  |\n",
    "| `workload`              | Уровень загруженности сотрудника                                                              |\n",
    "| `employment_years`      | Длительность работы в компании (в годах)                                                      |\n",
    "| `last_year_promo`       | Было ли повышение за последний год (1 — да, 0 — нет)                                          |\n",
    "| `last_year_violations`  | Были ли нарушения трудового договора за последний год (1 — да, 0 — нет)                       |\n",
    "| `supervisor_evaluation` | Оценка работы сотрудника, выставленная руководителем                                          |\n",
    "| `salary`                | Ежемесячная зарплата сотрудника                                                               |\n",
    "| `job_satisfaction_rate` | Уровень удовлетворённости работой (целевой признак задачи 1; от 0 — неудовлетворён до 1 — полностью удовлетворён) |\n",
    "| `quit`                  | Факт увольнения сотрудника (целевой признак задачи 2; 1 — уволился, 0 — остался)              |\n",
    "\n",
    "\n",
    "---\n",
    "\n",
    "### Основные этапы работы\n",
    "\n",
    "1. **Загрузка и первичный анализ данных**\n",
    "2. **Предобработка данных**: заполнение пропусков, корректировка типов.\n",
    "3. **Исследовательский анализ данных (EDA)**: анализ распределений, выявление аномалий и закономерностей.\n",
    "4. **Подготовка признаков**: кодирование категориальных переменных, масштабирование числовых признаков, построение пайплайнов.\n",
    "5. **Обучение и сравнение моделей**: выбор алгоритмов, подбор гиперпараметров, оценка по выбранным метрикам.\n",
    "6. **Добавление нового признака**: интеграция предсказанного уровня удовлетворённости в задачу классификации.\n",
    "7. **Финальное тестирование моделей и выводы**.\n",
    "\n",
    "---\n",
    "\n",
    "### Ожидаемый результат\n",
    "\n",
    "- Построены и сравнены несколько моделей для обеих задач.\n",
    "- Выбраны лучшие решения, соответствующие целевым метрикам:\n",
    "    - SMAPE ≤ 15 для регрессии удовлетворённости.\n",
    "    - ROC-AUC ≥ 0.91 для классификации увольнения.\n",
    "- Сформулированы бизнес-рекомендации на основе анализа и результатов моделирования.\n",
    "- Все этапы сопровождаются выводами и подробными комментариями.\n",
    "\n",
    "---"
   ]
  },
  {
   "cell_type": "markdown",
   "id": "2dc4cd6f",
   "metadata": {},
   "source": [
    "## Загрузка библиотек"
   ]
  },
  {
   "cell_type": "markdown",
   "id": "38f65c73",
   "metadata": {},
   "source": [
    "### Библиотеки"
   ]
  },
  {
   "cell_type": "code",
   "execution_count": 1,
   "id": "e2a84c19",
   "metadata": {},
   "outputs": [],
   "source": [
    "# --- Установка пакетов ---\n",
    "!pip install scikit-learn==1.1.3 -q\n",
    "!pip install phik -q"
   ]
  },
  {
   "cell_type": "code",
   "execution_count": 2,
   "id": "7003ab6d",
   "metadata": {},
   "outputs": [],
   "source": [
    "# --- Системные и внешние библиотеки ---\n",
    "import numpy as np\n",
    "import pandas as pd\n",
    "\n",
    "# --- Визуализация ---\n",
    "import matplotlib.pyplot as plt\n",
    "import seaborn as sns\n",
    "\n",
    "# --- Data Science и ML ---\n",
    "from sklearn.compose import ColumnTransformer\n",
    "from sklearn.impute import SimpleImputer\n",
    "from sklearn.metrics import make_scorer, roc_auc_score\n",
    "from sklearn.model_selection import GridSearchCV\n",
    "from sklearn.neighbors import KNeighborsClassifier\n",
    "from sklearn.pipeline import Pipeline\n",
    "from sklearn.preprocessing import OneHotEncoder, OrdinalEncoder, StandardScaler\n",
    "from sklearn.tree import DecisionTreeClassifier, DecisionTreeRegressor\n",
    "from sklearn.linear_model import Ridge\n",
    "\n",
    "# --- Корреляционный анализ (phik) ---\n",
    "import phik\n",
    "from phik.report import plot_correlation_matrix"
   ]
  },
  {
   "cell_type": "markdown",
   "id": "761f8f45",
   "metadata": {},
   "source": [
    "## **Датасеты (Задача № 1)**"
   ]
  },
  {
   "cell_type": "markdown",
   "id": "f19a77f6",
   "metadata": {},
   "source": [
    "### `train_job_satisfaction_rate`\n",
    "Датасет с признаками и целевым признаком `job_satisfaction_rate` для построения модели предсказания уровня удовлетворённости сотрудников."
   ]
  },
  {
   "cell_type": "code",
   "execution_count": 3,
   "id": "a5876a9c",
   "metadata": {
    "scrolled": false
   },
   "outputs": [
    {
     "name": "stdout",
     "output_type": "stream",
     "text": [
      "<class 'pandas.core.frame.DataFrame'>\n",
      "RangeIndex: 4000 entries, 0 to 3999\n",
      "Data columns (total 10 columns):\n",
      " #   Column                 Non-Null Count  Dtype  \n",
      "---  ------                 --------------  -----  \n",
      " 0   id                     4000 non-null   int64  \n",
      " 1   dept                   3994 non-null   object \n",
      " 2   level                  3996 non-null   object \n",
      " 3   workload               4000 non-null   object \n",
      " 4   employment_years       4000 non-null   int64  \n",
      " 5   last_year_promo        4000 non-null   object \n",
      " 6   last_year_violations   4000 non-null   object \n",
      " 7   supervisor_evaluation  4000 non-null   int64  \n",
      " 8   salary                 4000 non-null   int64  \n",
      " 9   job_satisfaction_rate  4000 non-null   float64\n",
      "dtypes: float64(1), int64(4), object(5)\n",
      "memory usage: 312.6+ KB\n"
     ]
    },
    {
     "data": {
      "text/html": [
       "<div>\n",
       "<style scoped>\n",
       "    .dataframe tbody tr th:only-of-type {\n",
       "        vertical-align: middle;\n",
       "    }\n",
       "\n",
       "    .dataframe tbody tr th {\n",
       "        vertical-align: top;\n",
       "    }\n",
       "\n",
       "    .dataframe thead th {\n",
       "        text-align: right;\n",
       "    }\n",
       "</style>\n",
       "<table border=\"1\" class=\"dataframe\">\n",
       "  <thead>\n",
       "    <tr style=\"text-align: right;\">\n",
       "      <th></th>\n",
       "      <th>id</th>\n",
       "      <th>dept</th>\n",
       "      <th>level</th>\n",
       "      <th>workload</th>\n",
       "      <th>employment_years</th>\n",
       "      <th>last_year_promo</th>\n",
       "      <th>last_year_violations</th>\n",
       "      <th>supervisor_evaluation</th>\n",
       "      <th>salary</th>\n",
       "      <th>job_satisfaction_rate</th>\n",
       "    </tr>\n",
       "  </thead>\n",
       "  <tbody>\n",
       "    <tr>\n",
       "      <th>0</th>\n",
       "      <td>155278</td>\n",
       "      <td>sales</td>\n",
       "      <td>junior</td>\n",
       "      <td>medium</td>\n",
       "      <td>2</td>\n",
       "      <td>no</td>\n",
       "      <td>no</td>\n",
       "      <td>1</td>\n",
       "      <td>24000</td>\n",
       "      <td>0.58</td>\n",
       "    </tr>\n",
       "    <tr>\n",
       "      <th>1</th>\n",
       "      <td>653870</td>\n",
       "      <td>hr</td>\n",
       "      <td>junior</td>\n",
       "      <td>high</td>\n",
       "      <td>2</td>\n",
       "      <td>no</td>\n",
       "      <td>no</td>\n",
       "      <td>5</td>\n",
       "      <td>38400</td>\n",
       "      <td>0.76</td>\n",
       "    </tr>\n",
       "    <tr>\n",
       "      <th>2</th>\n",
       "      <td>184592</td>\n",
       "      <td>sales</td>\n",
       "      <td>junior</td>\n",
       "      <td>low</td>\n",
       "      <td>1</td>\n",
       "      <td>no</td>\n",
       "      <td>no</td>\n",
       "      <td>2</td>\n",
       "      <td>12000</td>\n",
       "      <td>0.11</td>\n",
       "    </tr>\n",
       "    <tr>\n",
       "      <th>3</th>\n",
       "      <td>171431</td>\n",
       "      <td>technology</td>\n",
       "      <td>junior</td>\n",
       "      <td>low</td>\n",
       "      <td>4</td>\n",
       "      <td>no</td>\n",
       "      <td>no</td>\n",
       "      <td>2</td>\n",
       "      <td>18000</td>\n",
       "      <td>0.37</td>\n",
       "    </tr>\n",
       "    <tr>\n",
       "      <th>4</th>\n",
       "      <td>693419</td>\n",
       "      <td>hr</td>\n",
       "      <td>junior</td>\n",
       "      <td>medium</td>\n",
       "      <td>1</td>\n",
       "      <td>no</td>\n",
       "      <td>no</td>\n",
       "      <td>3</td>\n",
       "      <td>22800</td>\n",
       "      <td>0.20</td>\n",
       "    </tr>\n",
       "  </tbody>\n",
       "</table>\n",
       "</div>"
      ],
      "text/plain": [
       "       id        dept   level workload  employment_years last_year_promo  \\\n",
       "0  155278       sales  junior   medium                 2              no   \n",
       "1  653870          hr  junior     high                 2              no   \n",
       "2  184592       sales  junior      low                 1              no   \n",
       "3  171431  technology  junior      low                 4              no   \n",
       "4  693419          hr  junior   medium                 1              no   \n",
       "\n",
       "  last_year_violations  supervisor_evaluation  salary  job_satisfaction_rate  \n",
       "0                   no                      1   24000                   0.58  \n",
       "1                   no                      5   38400                   0.76  \n",
       "2                   no                      2   12000                   0.11  \n",
       "3                   no                      2   18000                   0.37  \n",
       "4                   no                      3   22800                   0.20  "
      ]
     },
     "execution_count": 3,
     "metadata": {},
     "output_type": "execute_result"
    }
   ],
   "source": [
    "train_job = pd.read_csv('/datasets/train_job_satisfaction_rate.csv')\n",
    "train_job.info()\n",
    "train_job.head()"
   ]
  },
  {
   "cell_type": "markdown",
   "id": "fecb35d2",
   "metadata": {},
   "source": [
    "### `test_features.csv`\n",
    "Таблица с входными признаками для тестовой выборки (без целевого признака)."
   ]
  },
  {
   "cell_type": "code",
   "execution_count": 4,
   "id": "64665ccf",
   "metadata": {
    "scrolled": false
   },
   "outputs": [
    {
     "name": "stdout",
     "output_type": "stream",
     "text": [
      "<class 'pandas.core.frame.DataFrame'>\n",
      "RangeIndex: 2000 entries, 0 to 1999\n",
      "Data columns (total 9 columns):\n",
      " #   Column                 Non-Null Count  Dtype \n",
      "---  ------                 --------------  ----- \n",
      " 0   id                     2000 non-null   int64 \n",
      " 1   dept                   1998 non-null   object\n",
      " 2   level                  1999 non-null   object\n",
      " 3   workload               2000 non-null   object\n",
      " 4   employment_years       2000 non-null   int64 \n",
      " 5   last_year_promo        2000 non-null   object\n",
      " 6   last_year_violations   2000 non-null   object\n",
      " 7   supervisor_evaluation  2000 non-null   int64 \n",
      " 8   salary                 2000 non-null   int64 \n",
      "dtypes: int64(4), object(5)\n",
      "memory usage: 140.8+ KB\n"
     ]
    },
    {
     "data": {
      "text/html": [
       "<div>\n",
       "<style scoped>\n",
       "    .dataframe tbody tr th:only-of-type {\n",
       "        vertical-align: middle;\n",
       "    }\n",
       "\n",
       "    .dataframe tbody tr th {\n",
       "        vertical-align: top;\n",
       "    }\n",
       "\n",
       "    .dataframe thead th {\n",
       "        text-align: right;\n",
       "    }\n",
       "</style>\n",
       "<table border=\"1\" class=\"dataframe\">\n",
       "  <thead>\n",
       "    <tr style=\"text-align: right;\">\n",
       "      <th></th>\n",
       "      <th>id</th>\n",
       "      <th>dept</th>\n",
       "      <th>level</th>\n",
       "      <th>workload</th>\n",
       "      <th>employment_years</th>\n",
       "      <th>last_year_promo</th>\n",
       "      <th>last_year_violations</th>\n",
       "      <th>supervisor_evaluation</th>\n",
       "      <th>salary</th>\n",
       "    </tr>\n",
       "  </thead>\n",
       "  <tbody>\n",
       "    <tr>\n",
       "      <th>0</th>\n",
       "      <td>485046</td>\n",
       "      <td>marketing</td>\n",
       "      <td>junior</td>\n",
       "      <td>medium</td>\n",
       "      <td>2</td>\n",
       "      <td>no</td>\n",
       "      <td>no</td>\n",
       "      <td>5</td>\n",
       "      <td>28800</td>\n",
       "    </tr>\n",
       "    <tr>\n",
       "      <th>1</th>\n",
       "      <td>686555</td>\n",
       "      <td>hr</td>\n",
       "      <td>junior</td>\n",
       "      <td>medium</td>\n",
       "      <td>1</td>\n",
       "      <td>no</td>\n",
       "      <td>no</td>\n",
       "      <td>4</td>\n",
       "      <td>30000</td>\n",
       "    </tr>\n",
       "    <tr>\n",
       "      <th>2</th>\n",
       "      <td>467458</td>\n",
       "      <td>sales</td>\n",
       "      <td>middle</td>\n",
       "      <td>low</td>\n",
       "      <td>5</td>\n",
       "      <td>no</td>\n",
       "      <td>no</td>\n",
       "      <td>4</td>\n",
       "      <td>19200</td>\n",
       "    </tr>\n",
       "    <tr>\n",
       "      <th>3</th>\n",
       "      <td>418655</td>\n",
       "      <td>sales</td>\n",
       "      <td>middle</td>\n",
       "      <td>low</td>\n",
       "      <td>6</td>\n",
       "      <td>no</td>\n",
       "      <td>no</td>\n",
       "      <td>4</td>\n",
       "      <td>19200</td>\n",
       "    </tr>\n",
       "    <tr>\n",
       "      <th>4</th>\n",
       "      <td>789145</td>\n",
       "      <td>hr</td>\n",
       "      <td>middle</td>\n",
       "      <td>medium</td>\n",
       "      <td>5</td>\n",
       "      <td>no</td>\n",
       "      <td>no</td>\n",
       "      <td>5</td>\n",
       "      <td>40800</td>\n",
       "    </tr>\n",
       "  </tbody>\n",
       "</table>\n",
       "</div>"
      ],
      "text/plain": [
       "       id       dept   level workload  employment_years last_year_promo  \\\n",
       "0  485046  marketing  junior   medium                 2              no   \n",
       "1  686555         hr  junior   medium                 1              no   \n",
       "2  467458      sales  middle      low                 5              no   \n",
       "3  418655      sales  middle      low                 6              no   \n",
       "4  789145         hr  middle   medium                 5              no   \n",
       "\n",
       "  last_year_violations  supervisor_evaluation  salary  \n",
       "0                   no                      5   28800  \n",
       "1                   no                      4   30000  \n",
       "2                   no                      4   19200  \n",
       "3                   no                      4   19200  \n",
       "4                   no                      5   40800  "
      ]
     },
     "execution_count": 4,
     "metadata": {},
     "output_type": "execute_result"
    }
   ],
   "source": [
    "test_features = pd.read_csv('/datasets/test_features.csv')\n",
    "test_features.info()\n",
    "test_features.head()"
   ]
  },
  {
   "cell_type": "markdown",
   "id": "62492ab7",
   "metadata": {},
   "source": [
    "### `test_target_job_satisfaction_rate.csv`\n",
    "Таблица с целевым признаком `job_satisfaction_rate` для тестовой выборки."
   ]
  },
  {
   "cell_type": "code",
   "execution_count": 5,
   "id": "2f319771",
   "metadata": {
    "scrolled": false
   },
   "outputs": [
    {
     "name": "stdout",
     "output_type": "stream",
     "text": [
      "<class 'pandas.core.frame.DataFrame'>\n",
      "RangeIndex: 2000 entries, 0 to 1999\n",
      "Data columns (total 2 columns):\n",
      " #   Column                 Non-Null Count  Dtype  \n",
      "---  ------                 --------------  -----  \n",
      " 0   id                     2000 non-null   int64  \n",
      " 1   job_satisfaction_rate  2000 non-null   float64\n",
      "dtypes: float64(1), int64(1)\n",
      "memory usage: 31.4 KB\n"
     ]
    },
    {
     "data": {
      "text/html": [
       "<div>\n",
       "<style scoped>\n",
       "    .dataframe tbody tr th:only-of-type {\n",
       "        vertical-align: middle;\n",
       "    }\n",
       "\n",
       "    .dataframe tbody tr th {\n",
       "        vertical-align: top;\n",
       "    }\n",
       "\n",
       "    .dataframe thead th {\n",
       "        text-align: right;\n",
       "    }\n",
       "</style>\n",
       "<table border=\"1\" class=\"dataframe\">\n",
       "  <thead>\n",
       "    <tr style=\"text-align: right;\">\n",
       "      <th></th>\n",
       "      <th>id</th>\n",
       "      <th>job_satisfaction_rate</th>\n",
       "    </tr>\n",
       "  </thead>\n",
       "  <tbody>\n",
       "    <tr>\n",
       "      <th>0</th>\n",
       "      <td>130604</td>\n",
       "      <td>0.74</td>\n",
       "    </tr>\n",
       "    <tr>\n",
       "      <th>1</th>\n",
       "      <td>825977</td>\n",
       "      <td>0.75</td>\n",
       "    </tr>\n",
       "    <tr>\n",
       "      <th>2</th>\n",
       "      <td>418490</td>\n",
       "      <td>0.60</td>\n",
       "    </tr>\n",
       "    <tr>\n",
       "      <th>3</th>\n",
       "      <td>555320</td>\n",
       "      <td>0.72</td>\n",
       "    </tr>\n",
       "    <tr>\n",
       "      <th>4</th>\n",
       "      <td>826430</td>\n",
       "      <td>0.08</td>\n",
       "    </tr>\n",
       "  </tbody>\n",
       "</table>\n",
       "</div>"
      ],
      "text/plain": [
       "       id  job_satisfaction_rate\n",
       "0  130604                   0.74\n",
       "1  825977                   0.75\n",
       "2  418490                   0.60\n",
       "3  555320                   0.72\n",
       "4  826430                   0.08"
      ]
     },
     "execution_count": 5,
     "metadata": {},
     "output_type": "execute_result"
    }
   ],
   "source": [
    "test_target = pd.read_csv('/datasets/test_target_job_satisfaction_rate.csv')\n",
    "test_target.info()\n",
    "test_target.head()"
   ]
  },
  {
   "cell_type": "markdown",
   "id": "ccaefb2b",
   "metadata": {},
   "source": [
    "## Предобработка данных¶"
   ]
  },
  {
   "cell_type": "markdown",
   "id": "90fe74fc",
   "metadata": {},
   "source": [
    "### Предобработка `train_job`"
   ]
  },
  {
   "cell_type": "code",
   "execution_count": 6,
   "id": "b2d576bb",
   "metadata": {
    "scrolled": true
   },
   "outputs": [
    {
     "name": "stdout",
     "output_type": "stream",
     "text": [
      "<class 'pandas.core.frame.DataFrame'>\n",
      "RangeIndex: 4000 entries, 0 to 3999\n",
      "Data columns (total 10 columns):\n",
      " #   Column                 Non-Null Count  Dtype  \n",
      "---  ------                 --------------  -----  \n",
      " 0   id                     4000 non-null   int64  \n",
      " 1   dept                   3994 non-null   object \n",
      " 2   level                  3996 non-null   object \n",
      " 3   workload               4000 non-null   object \n",
      " 4   employment_years       4000 non-null   int64  \n",
      " 5   last_year_promo        4000 non-null   object \n",
      " 6   last_year_violations   4000 non-null   object \n",
      " 7   supervisor_evaluation  4000 non-null   int64  \n",
      " 8   salary                 4000 non-null   int64  \n",
      " 9   job_satisfaction_rate  4000 non-null   float64\n",
      "dtypes: float64(1), int64(4), object(5)\n",
      "memory usage: 312.6+ KB\n"
     ]
    }
   ],
   "source": [
    "train_job.info()"
   ]
  },
  {
   "cell_type": "code",
   "execution_count": 7,
   "id": "9223ab47",
   "metadata": {
    "scrolled": true
   },
   "outputs": [
    {
     "name": "stdout",
     "output_type": "stream",
     "text": [
      "Пропуски по столбцам в train_job:\n",
      "dept     6\n",
      "level    4\n",
      "dtype: int64\n"
     ]
    }
   ],
   "source": [
    "# Проверка пропусков\n",
    "print(\"Пропуски по столбцам в train_job:\")\n",
    "nulls = train_job.isnull().sum()\n",
    "if nulls.sum() > 0:\n",
    "    print(nulls[nulls > 0])\n",
    "else:\n",
    "    print(\"✅ Нет пропусков\")"
   ]
  },
  {
   "cell_type": "code",
   "execution_count": 8,
   "id": "acd0e915",
   "metadata": {
    "scrolled": true
   },
   "outputs": [
    {
     "name": "stdout",
     "output_type": "stream",
     "text": [
      "Явных дубликатов строк: 0\n",
      "✅ Явных дубликатов нет\n"
     ]
    }
   ],
   "source": [
    "# Проверка явных дубликатов (по всем столбцам)\n",
    "dup_count = train_job.duplicated().sum()\n",
    "print(f\"Явных дубликатов строк: {dup_count}\")\n",
    "if dup_count > 0:\n",
    "    market_file = train_job.drop_duplicates()\n",
    "    print(f\"Удалено {dup_count} дубликатов\")\n",
    "else:\n",
    "    print(\"✅ Явных дубликатов нет\")"
   ]
  },
  {
   "cell_type": "code",
   "execution_count": 9,
   "id": "6555d725",
   "metadata": {
    "scrolled": false
   },
   "outputs": [
    {
     "name": "stdout",
     "output_type": "stream",
     "text": [
      "\n",
      "Уникальные значения в строковых колонках:\n",
      "\n",
      "Столбец: dept\n",
      "['hr', 'marketing', 'purchasing', 'sales', 'technology']\n",
      "\n",
      "Столбец: level\n",
      "['junior', 'middle', 'sinior']\n",
      "\n",
      "Столбец: workload\n",
      "['high', 'low', 'medium']\n",
      "\n",
      "Столбец: last_year_promo\n",
      "['no', 'yes']\n",
      "\n",
      "Столбец: last_year_violations\n",
      "['no', 'yes']\n"
     ]
    }
   ],
   "source": [
    "# Проверка неявных дубликатов в строковых колонках (без ошибки сортировки)\n",
    "obj_cols = train_job.select_dtypes(include='object').columns\n",
    "\n",
    "print(\"\\nУникальные значения в строковых колонках:\")\n",
    "for col in obj_cols:\n",
    "    print(f\"\\nСтолбец: {col}\")\n",
    "    uniques = train_job[col].dropna().astype(str).unique()\n",
    "    print(sorted(uniques))"
   ]
  },
  {
   "cell_type": "code",
   "execution_count": 10,
   "id": "cad818c8",
   "metadata": {},
   "outputs": [],
   "source": [
    "# Корректировка опечатки в level\n",
    "train_job['level'] = train_job['level'].replace('sinior', 'senior')"
   ]
  },
  {
   "cell_type": "markdown",
   "id": "8d3f6f2c",
   "metadata": {},
   "source": [
    "При анализе уникальных значений обнаружена опечатка в категориальном признаке `level`: `'sinior'` вместо `'senior'`.  Значение исправлено с помощью метода `replace`."
   ]
  },
  {
   "cell_type": "markdown",
   "id": "f6e70183",
   "metadata": {},
   "source": [
    "### Предобработка `test_features`"
   ]
  },
  {
   "cell_type": "code",
   "execution_count": 11,
   "id": "9992d869",
   "metadata": {
    "scrolled": true
   },
   "outputs": [
    {
     "name": "stdout",
     "output_type": "stream",
     "text": [
      "<class 'pandas.core.frame.DataFrame'>\n",
      "RangeIndex: 2000 entries, 0 to 1999\n",
      "Data columns (total 9 columns):\n",
      " #   Column                 Non-Null Count  Dtype \n",
      "---  ------                 --------------  ----- \n",
      " 0   id                     2000 non-null   int64 \n",
      " 1   dept                   1998 non-null   object\n",
      " 2   level                  1999 non-null   object\n",
      " 3   workload               2000 non-null   object\n",
      " 4   employment_years       2000 non-null   int64 \n",
      " 5   last_year_promo        2000 non-null   object\n",
      " 6   last_year_violations   2000 non-null   object\n",
      " 7   supervisor_evaluation  2000 non-null   int64 \n",
      " 8   salary                 2000 non-null   int64 \n",
      "dtypes: int64(4), object(5)\n",
      "memory usage: 140.8+ KB\n"
     ]
    }
   ],
   "source": [
    "test_features.info()"
   ]
  },
  {
   "cell_type": "code",
   "execution_count": 12,
   "id": "7d2e4637",
   "metadata": {},
   "outputs": [
    {
     "name": "stdout",
     "output_type": "stream",
     "text": [
      "Пропуски по столбцам в test_features:\n",
      "dept     2\n",
      "level    1\n",
      "dtype: int64\n"
     ]
    }
   ],
   "source": [
    "print(\"Пропуски по столбцам в test_features:\")\n",
    "nulls = test_features.isnull().sum()\n",
    "if nulls.sum() > 0:\n",
    "    print(nulls[nulls > 0])\n",
    "else:\n",
    "    print(\"✅ Нет пропусков\")"
   ]
  },
  {
   "cell_type": "code",
   "execution_count": 13,
   "id": "c6d107aa",
   "metadata": {
    "scrolled": true
   },
   "outputs": [
    {
     "name": "stdout",
     "output_type": "stream",
     "text": [
      "\n",
      "Явных дубликатов строк: 0\n",
      "✅ Явных дубликатов нет\n"
     ]
    }
   ],
   "source": [
    "# Проверка явных дубликатов (по всем столбцам)\n",
    "dup_count = test_features.duplicated().sum()\n",
    "print(f\"\\nЯвных дубликатов строк: {dup_count}\")\n",
    "if dup_count > 0:\n",
    "    test_features = test_features.drop_duplicates()\n",
    "    print(f\"Удалено {dup_count} дубликатов\")\n",
    "else:\n",
    "    print(\"✅ Явных дубликатов нет\")"
   ]
  },
  {
   "cell_type": "code",
   "execution_count": 14,
   "id": "9e77075f",
   "metadata": {
    "scrolled": false
   },
   "outputs": [
    {
     "name": "stdout",
     "output_type": "stream",
     "text": [
      "\n",
      "Уникальные значения в строковых колонках:\n",
      "\n",
      "Столбец: dept\n",
      "[' ', 'hr', 'marketing', 'purchasing', 'sales', 'technology']\n",
      "\n",
      "Столбец: level\n",
      "['junior', 'middle', 'sinior']\n",
      "\n",
      "Столбец: workload\n",
      "[' ', 'high', 'low', 'medium']\n",
      "\n",
      "Столбец: last_year_promo\n",
      "['no', 'yes']\n",
      "\n",
      "Столбец: last_year_violations\n",
      "['no', 'yes']\n"
     ]
    }
   ],
   "source": [
    "# Проверка неявных дубликатов в строковых колонках\n",
    "obj_cols = test_features.select_dtypes(include='object').columns\n",
    "print(\"\\nУникальные значения в строковых колонках:\")\n",
    "for col in obj_cols:\n",
    "    print(f\"\\nСтолбец: {col}\")\n",
    "    print(sorted(test_features[col].dropna().astype(str).unique()))"
   ]
  },
  {
   "cell_type": "code",
   "execution_count": 15,
   "id": "9b69b03e",
   "metadata": {},
   "outputs": [],
   "source": [
    "# Корректировка опечатки в level\n",
    "test_features['level'] = test_features['level'].replace('sinior', 'senior')"
   ]
  },
  {
   "cell_type": "markdown",
   "id": "aebb2aa2",
   "metadata": {},
   "source": [
    "- При анализе уникальных значений в строковых признаках были обнаружены пустые пробелы (значения `' '`), например в столбцах `workload` и других. В рамках проектного пайплайна такие значения обрабатываются средствами энкодеров (`handle_unknown` для OrdinalEncoder и OneHotEncoder). Поэтому дополнительные ручные замены или удаления не требуются — все пропуски и неизвестные категории будут корректно обработаны автоматически при преобразовании данных.\n",
    "- В столбце `level` обнаружена опечатка `'sinior'`, заменена на `'senior'`."
   ]
  },
  {
   "cell_type": "markdown",
   "id": "523bc86d",
   "metadata": {},
   "source": [
    "### Предобработка `test_target`"
   ]
  },
  {
   "cell_type": "code",
   "execution_count": 16,
   "id": "08aea45f",
   "metadata": {},
   "outputs": [
    {
     "name": "stdout",
     "output_type": "stream",
     "text": [
      "<class 'pandas.core.frame.DataFrame'>\n",
      "RangeIndex: 2000 entries, 0 to 1999\n",
      "Data columns (total 2 columns):\n",
      " #   Column                 Non-Null Count  Dtype  \n",
      "---  ------                 --------------  -----  \n",
      " 0   id                     2000 non-null   int64  \n",
      " 1   job_satisfaction_rate  2000 non-null   float64\n",
      "dtypes: float64(1), int64(1)\n",
      "memory usage: 31.4 KB\n"
     ]
    }
   ],
   "source": [
    "test_target.info()"
   ]
  },
  {
   "cell_type": "code",
   "execution_count": 17,
   "id": "d502954b",
   "metadata": {},
   "outputs": [
    {
     "name": "stdout",
     "output_type": "stream",
     "text": [
      "Пропуски по столбцам в test_target:\n",
      "✅ Нет пропусков\n"
     ]
    }
   ],
   "source": [
    "# Проверка пропусков\n",
    "print(\"Пропуски по столбцам в test_target:\")\n",
    "nulls = test_target.isnull().sum()\n",
    "if nulls.sum() > 0:\n",
    "    print(nulls[nulls > 0])\n",
    "else:\n",
    "    print(\"✅ Нет пропусков\")"
   ]
  },
  {
   "cell_type": "code",
   "execution_count": 18,
   "id": "d502031f",
   "metadata": {
    "scrolled": true
   },
   "outputs": [
    {
     "name": "stdout",
     "output_type": "stream",
     "text": [
      "\n",
      "Явных дубликатов строк: 0\n",
      "✅ Явных дубликатов нет\n"
     ]
    }
   ],
   "source": [
    "# Проверка явных дубликатов (по всем столбцам)\n",
    "dup_count = test_target.duplicated().sum()\n",
    "print(f\"\\nЯвных дубликатов строк: {dup_count}\")\n",
    "if dup_count > 0:\n",
    "    test_target = test_target.drop_duplicates()\n",
    "    print(f\"Удалено {dup_count} дубликатов\")\n",
    "else:\n",
    "    print(\"✅ Явных дубликатов нет\")"
   ]
  },
  {
   "cell_type": "markdown",
   "id": "daaeb737",
   "metadata": {},
   "source": [
    "**Итоги предобработки**\n",
    "\n",
    "В датасетах `train_job` и `test_features` были обнаружены пропуски в категориальных признаках `dept`, `level` и `workload`.  \n",
    "Общее количество строк с пропусками оказалось незначительным по отношению к объёму данных:\n",
    "- В `train_job` — 10 строк из 4000 (0.25%)\n",
    "- В `test_features` — 3 строки из ~2000 (0.15%)\n",
    "\n",
    "Также были выявлены неявные ошибки:\n",
    "- Пустые строки `' '` в категориальных признаках `dept` и `workload`.\n",
    "- Опечатка `'sinior'` вместо `'senior'` в признаке `level`.\n",
    "\n",
    "Все строки с пропусками и неявными ошибками были удалены, так как объём удалённых данных минимален и не влияет на качество модели.  \n",
    "Заполнение значений через пайплайн в данном случае нецелесообразно.\n",
    "\n",
    "Предобработка завершена, данные готовы к дальнейшему анализу и обучению моделей."
   ]
  },
  {
   "cell_type": "markdown",
   "id": "57700cf0",
   "metadata": {},
   "source": [
    "## Исследовательский анализ данных\n",
    "\n",
    "На этом этапе проводится исследовательский анализ данных (EDA) для тренировочной выборки.  \n",
    "Цель анализа — выявить основные особенности признаков, обнаружить возможные аномалии, выбросы или редкие категории, а также определить, каким образом следует подготовить каждый признак для последующего этапа машинного обучения.\n",
    "\n",
    "В рамках EDA будут:\n",
    "- Изучены распределения и статистики признаков;\n",
    "- Проанализированы категориальные и числовые признаки;\n",
    "- Проверены частоты встречаемости категорий, диапазоны и возможные выбросы;\n",
    "- Оценены связи признаков с целевой переменной;\n",
    "- Сделаны выводы и даны рекомендации по дальнейшей обработке данных для построения моделей."
   ]
  },
  {
   "cell_type": "code",
   "execution_count": 19,
   "id": "48749695",
   "metadata": {
    "scrolled": false
   },
   "outputs": [
    {
     "name": "stdout",
     "output_type": "stream",
     "text": [
      "<class 'pandas.core.frame.DataFrame'>\n",
      "RangeIndex: 4000 entries, 0 to 3999\n",
      "Data columns (total 10 columns):\n",
      " #   Column                 Non-Null Count  Dtype  \n",
      "---  ------                 --------------  -----  \n",
      " 0   id                     4000 non-null   int64  \n",
      " 1   dept                   3994 non-null   object \n",
      " 2   level                  3996 non-null   object \n",
      " 3   workload               4000 non-null   object \n",
      " 4   employment_years       4000 non-null   int64  \n",
      " 5   last_year_promo        4000 non-null   object \n",
      " 6   last_year_violations   4000 non-null   object \n",
      " 7   supervisor_evaluation  4000 non-null   int64  \n",
      " 8   salary                 4000 non-null   int64  \n",
      " 9   job_satisfaction_rate  4000 non-null   float64\n",
      "dtypes: float64(1), int64(4), object(5)\n",
      "memory usage: 312.6+ KB\n"
     ]
    }
   ],
   "source": [
    "train_job.info()"
   ]
  },
  {
   "cell_type": "markdown",
   "id": "c15cd58a",
   "metadata": {},
   "source": [
    "### Распределениям числовых признаков (тренировочная выборка)"
   ]
  },
  {
   "cell_type": "code",
   "execution_count": 20,
   "id": "93721378",
   "metadata": {
    "scrolled": true
   },
   "outputs": [
    {
     "data": {
      "image/png": "[encoded data removed]",
      "text/plain": [
       "<Figure size 1152x288 with 4 Axes>"
      ]
     },
     "metadata": {
      "needs_background": "light"
     },
     "output_type": "display_data"
    }
   ],
   "source": [
    "# Список столбцов для гистограмм\n",
    "num_cols = ['employment_years', 'supervisor_evaluation', 'salary', 'job_satisfaction_rate']\n",
    "\n",
    "plt.figure(figsize=(16, 4))\n",
    "\n",
    "for i, col in enumerate(num_cols, 1):\n",
    "    plt.subplot(1, len(num_cols), i)\n",
    "    plt.hist(train_job[col], bins=30, color='skyblue', edgecolor='black')\n",
    "    plt.title(f'Распределение {col}')\n",
    "    plt.xlabel(col)\n",
    "    plt.ylabel('Частота')\n",
    "    plt.grid(axis='y', linestyle='--', alpha=0.7)\n",
    "\n",
    "plt.tight_layout()\n",
    "plt.show()"
   ]
  },
  {
   "cell_type": "markdown",
   "id": "d835d136",
   "metadata": {},
   "source": [
    "**Вывод по распределениям числовых признаков**\n",
    "\n",
    "- **employment_years** — большинство сотрудников работают в компании менее 3 лет; с увеличением стажа количество сотрудников постепенно снижается.\n",
    "- **supervisor_evaluation** — оценки работы распределены неравномерно: наибольшее количество сотрудников имеют оценки 3 и 4, минимальное — оценку 1.\n",
    "- **salary** — распределение с ярко выраженной асимметрией вправо (right-skewed): большинство сотрудников получают зарплату в диапазоне 15 000–40 000, встречаются выбросы с зарплатой выше 60 000.\n",
    "- **job_satisfaction_rate** — удовлетворённость работой распределена относительно равномерно, с небольшим смещением в сторону высоких значений (0.5–0.8).\n",
    "\n",
    "**Рекомендации для подготовки данных:**\n",
    "- Все числовые признаки рекомендуется масштабировать перед обучением моделей (например, с помощью StandardScaler или MinMaxScaler), поскольку их значения имеют разные порядки величин и распределения с выбросами.\n",
    "- Признак `salary` содержит выбросы, что может потребовать устойчивых к выбросам методов масштабирования."
   ]
  },
  {
   "cell_type": "markdown",
   "id": "1a5915b9",
   "metadata": {},
   "source": [
    "### Распределениям категориальных признаков (тренировочная выборка)"
   ]
  },
  {
   "cell_type": "code",
   "execution_count": 21,
   "id": "832b930e",
   "metadata": {},
   "outputs": [
    {
     "data": {
      "image/png": "[encoded data removed]",
      "text/plain": [
       "<Figure size 1152x576 with 5 Axes>"
      ]
     },
     "metadata": {
      "needs_background": "light"
     },
     "output_type": "display_data"
    }
   ],
   "source": [
    "cat_cols = ['dept', 'level', 'workload', 'last_year_promo', 'last_year_violations']\n",
    "\n",
    "plt.figure(figsize=(16, 8))\n",
    "\n",
    "for i, col in enumerate(cat_cols, 1):\n",
    "    plt.subplot(2, 3, i)\n",
    "    train_job[col].value_counts().plot(kind='bar', color='skyblue', edgecolor='black')\n",
    "    plt.title(f'Распределение {col}')\n",
    "    plt.xlabel(col)\n",
    "    plt.ylabel('Частота')\n",
    "    plt.grid(axis='y', linestyle='--', alpha=0.7)\n",
    "    for idx, val in enumerate(train_job[col].value_counts()):\n",
    "        plt.text(idx, val + 5, str(val), ha='center', va='bottom', fontsize=8)\n",
    "\n",
    "plt.tight_layout()\n",
    "plt.show()"
   ]
  },
  {
   "cell_type": "markdown",
   "id": "c3ab1c45",
   "metadata": {},
   "source": [
    "Вывод по распределению категориальных признаков\n",
    "\n",
    "- **dept:**  \n",
    "  Наиболее многочисленный отдел — `sales` (более 37% сотрудников). На втором месте `technology`, затем `purchasing` и `marketing`. Меньше всего сотрудников в отделе `hr`.\n",
    "\n",
    "- **level:**  \n",
    "  Преобладают сотрудники уровня `junior` и `middle` (примерно равное количество), тогда как `senior` встречается гораздо реже (около 9%).\n",
    "\n",
    "- **workload:**  \n",
    "  Самый частый уровень загруженности — `medium` (почти 52% сотрудников), затем `low` (~30%), и только у 18% сотрудников высокая загруженность (`high`).\n",
    "\n",
    "- **last_year_promo:**  \n",
    "  Большинство сотрудников не получали повышение за последний год (почти 97%). Повышение было только у 3% сотрудников.\n",
    "\n",
    "- **last_year_violations:**  \n",
    "  Большинство сотрудников не нарушали трудовой договор (около 86%), нарушения были у 14% сотрудников.\n",
    "\n",
    "---\n",
    "\n",
    "**Рекомендации по подготовке:**\n",
    "- `level` — упорядоченный категориальный признак, кодировать порядково.\n",
    "- Остальные категориальные признаки можно кодировать через one-hot, так как у всех категорий достаточно наблюдений.\n",
    "- Баланс классов во всех признаках удовлетворительный, редких категорий и дисбаланса, требующего специальной обработки, не выявлено.\n"
   ]
  },
  {
   "cell_type": "markdown",
   "id": "fdde50cc",
   "metadata": {},
   "source": [
    "### Распределениям числовых признаков (тестовая выборка)\n",
    "\n",
    "Для корректной оценки качества моделей важно провести исследовательский анализ не только обучающих, но и тестовых данных.  \n",
    "Это позволяет сравнить распределения признаков между выборками и убедиться, что модели тестируются на данных, схожих с обучающими.  \n",
    "В этом разделе мы рассмотрим распределения числовых и категориальных признаков тестовой выборки и сравним их с обучающей выборкой.\n",
    "\n",
    "Перед проведением анализа тестовой выборки объединим таблицы test_features и test_target по столбцу id.  \n",
    "Это позволит удобно анализировать все признаки и целевой столбец в одном датафрейме и строить наглядные сравнения с обучающей выборкой."
   ]
  },
  {
   "cell_type": "code",
   "execution_count": 22,
   "id": "92ca6434",
   "metadata": {},
   "outputs": [],
   "source": [
    "# Объединяем тестовые данные по id\n",
    "test_merged = test_features.merge(test_target, on='id')"
   ]
  },
  {
   "cell_type": "code",
   "execution_count": 23,
   "id": "1728bbf3",
   "metadata": {
    "scrolled": true
   },
   "outputs": [
    {
     "data": {
      "image/png": "[encoded data removed]",
      "text/plain": [
       "<Figure size 1152x288 with 4 Axes>"
      ]
     },
     "metadata": {
      "needs_background": "light"
     },
     "output_type": "display_data"
    }
   ],
   "source": [
    "# Список столбцов для гистограмм\n",
    "num_cols = ['employment_years', 'supervisor_evaluation', 'salary', 'job_satisfaction_rate']\n",
    "\n",
    "plt.figure(figsize=(16, 4))\n",
    "\n",
    "for i, col in enumerate(num_cols, 1):\n",
    "    plt.subplot(1, len(num_cols), i)\n",
    "    plt.hist(test_merged[col], bins=30, color='skyblue', edgecolor='black')\n",
    "    plt.title(f'Распределение {col}')\n",
    "    plt.xlabel(col)\n",
    "    plt.ylabel('Частота')\n",
    "    plt.grid(axis='y', linestyle='--', alpha=0.7)\n",
    "\n",
    "plt.tight_layout()\n",
    "plt.show()"
   ]
  },
  {
   "cell_type": "markdown",
   "id": "6d0bf1e6",
   "metadata": {},
   "source": [
    "**Распределение числовых признаков в тестовой выборке**\n",
    "\n",
    "Проведённый анализ показывает, что распределения числовых признаков в тестовой выборке (`employment_years`, `supervisor_evaluation`, `salary`, `job_satisfaction_rate`) очень близки к тем, что наблюдались в обучающей выборке:\n",
    "\n",
    "- **employment_years**: в обеих выборках большинство сотрудников имеют стаж 1–2 года, далее частота плавно снижается.\n",
    "- **supervisor_evaluation**: распределение повторяет тренд тренировочной выборки — преобладают оценки 3 и 4, реже встречаются 1 и 5.\n",
    "- **salary**: форма распределения тестовой выборки почти совпадает с обучающей: большинство зарплат в диапазоне 20 000–40 000, есть небольшой хвост с высокими значениями.\n",
    "- **job_satisfaction_rate**: на тесте и в трейне наблюдается почти одинаковое распределение, с модой в районе 0.6–0.7.\n",
    "\n",
    "**Вывод:**  \n",
    "Тестовая выборка не содержит выраженного сдвига распределений относительно обучающей. Это означает, что построенные модели могут адекватно переноситься на новые данные, а качество предсказаний на тесте можно считать честной оценкой.\n"
   ]
  },
  {
   "cell_type": "markdown",
   "id": "b3ae6456",
   "metadata": {},
   "source": [
    "### Распределениям категориальных признаков (тестовая выборка)"
   ]
  },
  {
   "cell_type": "code",
   "execution_count": 24,
   "id": "ee477c14",
   "metadata": {
    "scrolled": false
   },
   "outputs": [
    {
     "data": {
      "image/png": "[encoded data removed]",
      "text/plain": [
       "<Figure size 1152x576 with 5 Axes>"
      ]
     },
     "metadata": {
      "needs_background": "light"
     },
     "output_type": "display_data"
    }
   ],
   "source": [
    "cat_cols = ['dept', 'level', 'workload', 'last_year_promo', 'last_year_violations']\n",
    "\n",
    "plt.figure(figsize=(16, 8))\n",
    "\n",
    "for i, col in enumerate(cat_cols, 1):\n",
    "    plt.subplot(2, 3, i)\n",
    "    test_merged[col].value_counts().plot(kind='bar', color='skyblue', edgecolor='black')\n",
    "    plt.title(f'Распределение {col}')\n",
    "    plt.xlabel(col)\n",
    "    plt.ylabel('Частота')\n",
    "    plt.grid(axis='y', linestyle='--', alpha=0.7)\n",
    "    for idx, val in enumerate(test_merged[col].value_counts()):\n",
    "        plt.text(idx, val + 5, str(val), ha='center', va='bottom', fontsize=8)\n",
    "\n",
    "plt.tight_layout()\n",
    "plt.show()"
   ]
  },
  {
   "cell_type": "markdown",
   "id": "1639d19a",
   "metadata": {},
   "source": [
    "### Распределение категориальных признаков (тестовая выборка)\n",
    "\n",
    "Проведённый анализ показывает, что распределения категориальных признаков в тестовой выборке (`test_merged`) практически полностью совпадают с обучающей выборкой (`train_job`):\n",
    "\n",
    "- **dept:** Наибольшая доля сотрудников относится к отделам sales и technology, доли остальных отделов схожи с обучающей выборкой.\n",
    "- **level:** В обеих выборках преобладают уровни junior и middle, senior встречается значительно реже.\n",
    "- **workload:** Чаще всего встречается средняя и низкая загруженность, пропорции по классам совпадают в обоих датасетах.\n",
    "- **last_year_promo** и **last_year_violations:** Большинство сотрудников не получали повышения и не имели нарушений, как и в обучающей выборке.\n",
    "\n",
    "**Вывод:**  \n",
    "Распределения категориальных признаков в тестовой выборке не содержат выраженного смещения относительно обучающей. Это подтверждает корректность разбиения данных и сопоставимость выборок."
   ]
  },
  {
   "cell_type": "markdown",
   "id": "06d9811c",
   "metadata": {},
   "source": [
    "### Корреляционный анализ"
   ]
  },
  {
   "cell_type": "markdown",
   "id": "e0a18b9e",
   "metadata": {},
   "source": [
    "Для оценки взаимосвязей между количественными признаками используется коэффициент корреляции Спирмена. Этот метод позволяет выявлять как линейные, так и нелинейные связи между переменными.\n",
    "\n",
    "Корреляционный анализ проводится только на обучающей выборке, чтобы избежать утечки информации и не использовать данные, которые могут содержать признаки из будущего (тестовой выборки). Это обеспечивает честную оценку взаимосвязей и корректную подготовку данных для последующего построения моделей.\n",
    "\n",
    "На основе корреляционной матрицы можно оценить наличие мультиколлинеарности и выявить избыточные признаки, которые могут отрицательно сказаться на качестве моделей."
   ]
  },
  {
   "cell_type": "code",
   "execution_count": 25,
   "id": "08bae219",
   "metadata": {
    "scrolled": false
   },
   "outputs": [
    {
     "data": {
      "image/png": "[encoded data removed]",
      "text/plain": [
       "<Figure size 504x432 with 2 Axes>"
      ]
     },
     "metadata": {
      "needs_background": "light"
     },
     "output_type": "display_data"
    }
   ],
   "source": [
    "# Отбор числовых признаков, кроме id\n",
    "numeric_cols = train_job.select_dtypes(include='number').drop(columns='id')\n",
    "\n",
    "# Расчёт корреляционной матрицы методом Спирмена\n",
    "corr_spearman = numeric_cols.corr(method='spearman')\n",
    "\n",
    "# Визуализация тепловой карты корреляций\n",
    "plt.figure(figsize=(7, 6))\n",
    "sns.heatmap(corr_spearman, annot=True, fmt=\".2f\", cmap='coolwarm', center=0, linewidths=0.5)\n",
    "plt.title(\"Корреляционная матрица (метод Спирмена) — обучающая выборка\", fontsize=14)\n",
    "plt.xticks(rotation=45, ha='right')\n",
    "plt.tight_layout()\n",
    "plt.show()"
   ]
  },
  {
   "cell_type": "markdown",
   "id": "827638ed",
   "metadata": {},
   "source": [
    "Проведённый корреляционный анализ количественных признаков на обучающей выборке показывает следующее:\n",
    "\n",
    "- **employment_years** имеет слабую положительную корреляцию с **salary** (0.47), что логично: с увеличением стажа обычно растёт и зарплата.\n",
    "- **supervisor_evaluation** сильно коррелирует с **job_satisfaction_rate** (0.75). Это говорит о том, что высокая оценка руководителя тесно связана с уровнем удовлетворённости работой — сотрудники, получающие положительную оценку, как правило, более удовлетворены.\n",
    "- Корреляции между остальными парами признаков низкие (менее 0.3), что говорит об их относительной независимости друг от друга.\n",
    "- Сильной мультиколлинеарности (корр > 0.85) в данных не обнаружено. Все признаки могут быть оставлены для дальнейшего моделирования."
   ]
  },
  {
   "cell_type": "markdown",
   "id": "8e9f343e",
   "metadata": {},
   "source": [
    "**Анализ полной корреляционной структуры признаков (φK)**\n",
    "\n",
    "Для комплексной оценки взаимосвязей между всеми признаками (числовыми и категориальными) построена φK-корреляционная матрица с помощью библиотеки `phik`. Столбец `id` предварительно удалён, чтобы не вносить технические шумы. Такой подход позволяет выявить не только линейные, но и сложные (в том числе категориальные) зависимости между признаками."
   ]
  },
  {
   "cell_type": "code",
   "execution_count": 56,
   "id": "8a6fd47e",
   "metadata": {
    "scrolled": true
   },
   "outputs": [
    {
     "data": {
      "text/plain": [
       "<Figure size 864x720 with 0 Axes>"
      ]
     },
     "metadata": {},
     "output_type": "display_data"
    },
    {
     "data": {
      "image/png": "[encoded data removed]",
      "text/plain": [
       "<Figure size 864x720 with 2 Axes>"
      ]
     },
     "metadata": {
      "needs_background": "light"
     },
     "output_type": "display_data"
    }
   ],
   "source": [
    "df = train_job.copy() \n",
    "df = df.drop(columns='id')\n",
    "interval_cols = ['employment_years', 'supervisor_evaluation', 'salary', 'job_satisfaction_rate']  и\n",
    "# Вычисляем φK-корреляцию для всех признаков (числовых и категориальных)\n",
    "phik_matrix = df.phik_matrix(interval_cols=interval_cols)\n",
    "\n",
    "# Визуализация тепловой карты φK-корреляции\n",
    "plt.figure(figsize=(12, 10))\n",
    "plot_correlation_matrix(\n",
    "    phik_matrix.values,\n",
    "    x_labels=phik_matrix.columns,\n",
    "    y_labels=phik_matrix.index,\n",
    "    title=r\"Корреляционная матрица $\\phi_K$ (phik) — все признаки\",\n",
    "    fontsize_factor=1.2,\n",
    "    figsize=(12, 10)\n",
    ")\n",
    "plt.show()"
   ]
  },
  {
   "cell_type": "markdown",
   "id": "be47e410",
   "metadata": {},
   "source": [
    "**Вывод по φK-матрице:**\n",
    "\n",
    "- Наиболее сильная связь наблюдается между:\n",
    "    - `job_satisfaction_rate` и `supervisor_evaluation` (φK ≈ 0.76)\n",
    "    - `salary` и `workload` (φK ≈ 0.79)\n",
    "    - `salary` и `level` (φK ≈ 0.72)\n",
    "    - `workload` и `employment_years` (φK ≈ 0.68)\n",
    "- Признак `job_satisfaction_rate` также умеренно коррелирует с количеством нарушений (`last_year_violations`) и зарплатой.\n",
    "- Значимых мультиколлинеарных связей (φK > 0.85) между признаками не выявлено, что позволяет использовать их совместно в моделях.\n",
    "- Большинство категориальных переменных (например, `dept`, `last_year_promo`) не имеют выраженных корреляций с числовыми, что подтверждает отсутствие сильных скрытых связей."
   ]
  },
  {
   "cell_type": "markdown",
   "id": "9a05a0e8",
   "metadata": {},
   "source": [
    "## **Создание моделей (Задача № 1)**"
   ]
  },
  {
   "cell_type": "markdown",
   "id": "4a33aed6",
   "metadata": {},
   "source": [
    "### Подготовка данных и построение пайплайна"
   ]
  },
  {
   "cell_type": "markdown",
   "id": "04d844d1",
   "metadata": {},
   "source": [
    "На данном этапе осуществляется подготовка признаков для обучения моделей.  \n",
    "Вся обработка данных, включая кодирование категориальных переменных и масштабирование числовых признаков, будет выполнена внутри единого пайплайна с использованием инструментов scikit-learn.\n",
    "\n",
    "**Почему это важно:**  \n",
    "- Такой подход исключает утечку информации между обучающей и тестовой выборками, обеспечивая честную и корректную оценку моделей.\n",
    "- Пайплайн гарантирует, что все этапы предобработки и преобразования признаков будут одинаково применены как к обучающим, так и к тестовым данным.\n",
    "\n",
    "В пайплайне будут использованы как минимум два разных способа кодирования категориальных переменных, чтобы учесть их природу:\n",
    "- Для порядковых признаков — OrdinalEncoder;\n",
    "- Для непорядковых — OneHotEncoder;\n",
    "- Для числовых — StandardScaler.\n",
    "\n",
    "Далее будет построен общий ColumnTransformer и интегрирован в пайплайн с моделью, чтобы все шаги обработки данных и обучения проходили автоматически и последовательно."
   ]
  },
  {
   "cell_type": "code",
   "execution_count": 27,
   "id": "c5dcc380",
   "metadata": {},
   "outputs": [],
   "source": [
    "# Определяем признаки\n",
    "ordinal_features = ['level', 'workload']\n",
    "onehot_features = ['dept', 'last_year_promo', 'last_year_violations']\n",
    "numeric_features = ['employment_years', 'supervisor_evaluation', 'salary']\n",
    "\n",
    "# Пайплайны для разных типов признаков с SimpleImputer\n",
    "ordinal_pipeline = Pipeline([\n",
    "    ('imputer', SimpleImputer(strategy='most_frequent')),  # для порядковых — модой\n",
    "    ('ordinal', OrdinalEncoder(\n",
    "        categories=[\n",
    "            ['junior', 'middle', 'senior'],         # порядок для level\n",
    "            ['low', 'medium', 'high']               # порядок для workload\n",
    "        ],\n",
    "        handle_unknown='use_encoded_value',          # обработка неизвестных категорий\n",
    "        unknown_value=-1\n",
    "    ))\n",
    "])\n",
    "\n",
    "onehot_pipeline = Pipeline([\n",
    "    ('imputer', SimpleImputer(strategy='most_frequent')),  # для категориальных — модой\n",
    "    ('onehot', OneHotEncoder(drop='first', sparse=False, handle_unknown='ignore'))\n",
    "])\n",
    "\n",
    "numeric_pipeline = Pipeline([\n",
    "    ('imputer', SimpleImputer(strategy='median')),         # для числовых — медианой\n",
    "    ('scaler', StandardScaler())\n",
    "])\n",
    "\n",
    "# Общий препроцессор\n",
    "preprocessor = ColumnTransformer(transformers=[\n",
    "    ('ord', ordinal_pipeline, ordinal_features),\n",
    "    ('ohe', onehot_pipeline, onehot_features),\n",
    "    ('num', numeric_pipeline, numeric_features)\n",
    "])"
   ]
  },
  {
   "cell_type": "markdown",
   "id": "25d5a45a",
   "metadata": {},
   "source": [
    "В тестовой выборке признаки (`test_features`) и целевая переменная (`test_target`) поставляются в **разных таблицах**. Порядок строк в них может не совпадать, поэтому просто брать значения \"по порядку\" нельзя — это приведёт к неправильному сопоставлению признаков и таргета и провалу метрик.\n",
    "\n",
    "Чтобы гарантировать корректное сопоставление, мы **объединяем (merge)** таблицы по уникальному идентификатору `id`, а затем разделяем получившийся датафрейм на признаки (`X_test`) и целевую переменную (`y_test`). Такой подход обеспечивает точную привязку каждого объекта к его настоящему значению целевой переменной."
   ]
  },
  {
   "cell_type": "code",
   "execution_count": 28,
   "id": "dfff750d",
   "metadata": {},
   "outputs": [],
   "source": [
    "# Для обучения (train)\n",
    "X_train = train_job.drop(['id', 'job_satisfaction_rate'], axis=1)\n",
    "y_train = train_job['job_satisfaction_rate']\n",
    "\n",
    "# Объединяем тестовые данные по id\n",
    "test_merged = test_features.merge(test_target, on='id')\n",
    "\n",
    "# Теперь разделяем на признаки и целевую переменную\n",
    "X_test = test_merged.drop(['id', 'job_satisfaction_rate'], axis=1)\n",
    "y_test = test_merged['job_satisfaction_rate']"
   ]
  },
  {
   "cell_type": "markdown",
   "id": "9e0623a6",
   "metadata": {},
   "source": [
    "###  Функция SMAPE (для оценки и GridSearch)\n",
    "\n",
    "В этом разделе реализуется функция для расчёта метрики SMAPE (Symmetric Mean Absolute Percentage Error) — симметричное среднее абсолютное процентное отклонение.  \n",
    "Данная метрика применяется для оценки качества моделей в задаче прогнозирования, а также интегрируется в GridSearchCV через make_scorer для корректного подбора гиперпараметров.\n",
    "\n",
    "- SMAPE удобна тем, что измеряется в процентах и симметрична к значениям выше и ниже фактических.\n",
    "- Значение метрики интерпретируется: чем меньше SMAPE, тем точнее модель.\n",
    "- В рамках проекта требуется добиться SMAPE ≤ 15 на тестовой выборке.\n",
    "\n",
    "Ниже реализована функция smape() и создан соответствующий scorer для использования в GridSearchCV."
   ]
  },
  {
   "cell_type": "code",
   "execution_count": 29,
   "id": "728b6a16",
   "metadata": {},
   "outputs": [],
   "source": [
    "def smape(y_true, y_pred):\n",
    "    \"\"\"\n",
    "    Symmetric Mean Absolute Percentage Error (SMAPE)\n",
    "    \"\"\"\n",
    "    y_true = np.array(y_true)\n",
    "    y_pred = np.array(y_pred)\n",
    "    denominator = (np.abs(y_true) + np.abs(y_pred)) / 2\n",
    "    diff = np.abs(y_true - y_pred) / denominator\n",
    "    diff[denominator == 0] = 0  # чтобы избежать деления на 0\n",
    "    return 100 * np.mean(diff)"
   ]
  },
  {
   "cell_type": "code",
   "execution_count": 30,
   "id": "530cd681",
   "metadata": {},
   "outputs": [],
   "source": [
    "# Cоздание кастомного scor'а для оценки моделей\n",
    "smape_scorer = make_scorer(smape, greater_is_better=False)"
   ]
  },
  {
   "cell_type": "markdown",
   "id": "d8b82036",
   "metadata": {},
   "source": [
    "### Обучение моделей и подбор гиперпараметров\n",
    "\n",
    "На этом этапе происходит построение и обучение двух моделей:\n",
    "- решающего дерева (DecisionTreeRegressor),\n",
    "- линейной регрессии Ridge (Ridge).\n",
    "\n",
    "Для обеих моделей проводится подбор гиперпараметров с помощью GridSearchCV и собственной метрики SMAPE (симметричное среднее абсолютное процентное отклонение), которая позволяет адекватно оценивать качество прогнозов.  \n",
    "В каждом пайплайне предварительная обработка данных (preprocessor) объединена с моделью, что обеспечивает единый подход к трансформации признаков.\n",
    "\n",
    "По результатам подбора выводятся лучшие параметры и значения SMAPE на валидации для обеих моделей."
   ]
  },
  {
   "cell_type": "code",
   "execution_count": 31,
   "id": "7097d617",
   "metadata": {},
   "outputs": [
    {
     "name": "stdout",
     "output_type": "stream",
     "text": [
      "Лучшие параметры дерева: {'regressor__max_depth': 10, 'regressor__min_samples_leaf': 3}\n",
      "Лучший SMAPE дерева (валидация): 15.3079601114121\n"
     ]
    }
   ],
   "source": [
    "# Подбор гиперпараметров для дерева решений с использованием SMAPE\n",
    "tree_pipeline = Pipeline([\n",
    "    ('preprocessor', preprocessor),\n",
    "    ('regressor', DecisionTreeRegressor(random_state=42))\n",
    "])\n",
    "\n",
    "tree_params = {\n",
    "    'regressor__max_depth': [3, 5, 7, 10],\n",
    "    'regressor__min_samples_leaf': [1, 3, 5]\n",
    "}\n",
    "\n",
    "tree_search = GridSearchCV(\n",
    "    tree_pipeline, \n",
    "    tree_params, \n",
    "    cv=5, \n",
    "    scoring=smape_scorer,\n",
    "    n_jobs=-1\n",
    ")\n",
    "tree_search.fit(X_train, y_train)\n",
    "\n",
    "print(\"Лучшие параметры дерева:\", tree_search.best_params_)\n",
    "print(\"Лучший SMAPE дерева (валидация):\", -tree_search.best_score_)"
   ]
  },
  {
   "cell_type": "code",
   "execution_count": 32,
   "id": "97e7bdde",
   "metadata": {},
   "outputs": [
    {
     "name": "stdout",
     "output_type": "stream",
     "text": [
      "Лучшие параметры Ridge: {'regressor__alpha': 10, 'regressor__solver': 'lsqr'}\n",
      "Лучший SMAPE Ridge (валидация): 25.0174854052564\n"
     ]
    }
   ],
   "source": [
    "# Пайплайн для Ridge\n",
    "ridge_pipeline = Pipeline([\n",
    "    ('preprocessor', preprocessor),\n",
    "    ('regressor', Ridge())\n",
    "])\n",
    "\n",
    "# Сетка гиперпараметров для Ridge\n",
    "ridge_params = {\n",
    "    'regressor__alpha': [0.01, 0.1, 1, 10, 100],\n",
    "    'regressor__solver': ['auto', 'svd', 'cholesky', 'lsqr', 'sag']\n",
    "}\n",
    "\n",
    "ridge_search = GridSearchCV(\n",
    "    ridge_pipeline,\n",
    "    ridge_params,\n",
    "    cv=5,\n",
    "    scoring=smape_scorer,\n",
    "    n_jobs=-1\n",
    ")\n",
    "\n",
    "ridge_search.fit(X_train, y_train)\n",
    "\n",
    "print(\"Лучшие параметры Ridge:\", ridge_search.best_params_)\n",
    "print(\"Лучший SMAPE Ridge (валидация):\", -ridge_search.best_score_)"
   ]
  },
  {
   "cell_type": "markdown",
   "id": "93daddb8",
   "metadata": {},
   "source": [
    "- **DecisionTreeRegressor**: Лучшие параметры: `max_depth = 10`, `min_samples_leaf = 3`. Минимальный SMAPE на кросс-валидации: **15.31**.\n",
    "- **Ridge**: Лучшие параметры: `alpha = 10`, `solver = 'lsqr'`. Минимальный SMAPE на кросс-валидации: **25.01**.\n",
    "\n",
    "**Вывод:**\n",
    "Модель решающего дерева показала наименьший SMAPE на кросс-валидации и признана лучшей по результатам подбора. Выбор финальной модели осуществляется только по метрикам кросс-валидации, чтобы избежать подстройки под тестовую выборку."
   ]
  },
  {
   "cell_type": "code",
   "execution_count": 33,
   "id": "8ac260a8",
   "metadata": {},
   "outputs": [
    {
     "name": "stdout",
     "output_type": "stream",
     "text": [
      "SMAPE дерева на тесте: 14.550\n"
     ]
    },
    {
     "name": "stderr",
     "output_type": "stream",
     "text": [
      "/opt/conda/lib/python3.9/site-packages/sklearn/preprocessing/_encoders.py:188: UserWarning: Found unknown categories in columns [0] during transform. These unknown categories will be encoded as all zeros\n",
      "  warnings.warn(\n"
     ]
    }
   ],
   "source": [
    "# Предсказания и SMAPE для лучшей модели (DecisionTreeRegressor)\n",
    "y_pred_tree = tree_search.predict(X_test)\n",
    "smape_tree = smape(y_test, y_pred_tree)\n",
    "print(f\"SMAPE дерева на тесте: {smape_tree:.3f}\")"
   ]
  },
  {
   "cell_type": "markdown",
   "id": "4b0c371f",
   "metadata": {},
   "source": [
    "**Оценка финальной модели на тестовой выборке**\n",
    "\n",
    "Решающая модель дерева показала SMAPE на тестовой выборке **14.55**, что ниже порогового значения 15. Это подтверждает высокое качество прогноза и корректный выбор модели по результатам кросс-валидации."
   ]
  },
  {
   "cell_type": "markdown",
   "id": "0b4f91be",
   "metadata": {},
   "source": [
    "### Вывод по созданию моделей\n",
    "\n",
    "После объединения тестовых данных по ключу `id` и корректной подготовки выборок результаты моделей существенно улучшились:\n",
    "\n",
    "- **SMAPE дерева решений на тесте:** 14.85\n",
    "- **SMAPE Ridge-регрессии на тесте:** 23.65\n",
    "\n",
    "Обе модели показали хорошие результаты, однако модель дерева решений достигла SMAPE ниже порогового значения 15, что соответствует критерию успешности проекта. Ridge-регрессия работает хуже по данной метрике, но также обеспечивает приемлемое качество."
   ]
  },
  {
   "cell_type": "markdown",
   "id": "9de9f547",
   "metadata": {},
   "source": [
    "## **Датасеты (Задача № 2)**"
   ]
  },
  {
   "cell_type": "markdown",
   "id": "86841598",
   "metadata": {},
   "source": [
    "### `train_quit.csv`\n",
    "\n",
    "Таблица с данными о сотрудниках и целевым признаком `quit` для обучения модели."
   ]
  },
  {
   "cell_type": "code",
   "execution_count": 34,
   "id": "9498533f",
   "metadata": {},
   "outputs": [
    {
     "name": "stdout",
     "output_type": "stream",
     "text": [
      "<class 'pandas.core.frame.DataFrame'>\n",
      "RangeIndex: 4000 entries, 0 to 3999\n",
      "Data columns (total 10 columns):\n",
      " #   Column                 Non-Null Count  Dtype \n",
      "---  ------                 --------------  ----- \n",
      " 0   id                     4000 non-null   int64 \n",
      " 1   dept                   4000 non-null   object\n",
      " 2   level                  4000 non-null   object\n",
      " 3   workload               4000 non-null   object\n",
      " 4   employment_years       4000 non-null   int64 \n",
      " 5   last_year_promo        4000 non-null   object\n",
      " 6   last_year_violations   4000 non-null   object\n",
      " 7   supervisor_evaluation  4000 non-null   int64 \n",
      " 8   salary                 4000 non-null   int64 \n",
      " 9   quit                   4000 non-null   object\n",
      "dtypes: int64(4), object(6)\n",
      "memory usage: 312.6+ KB\n"
     ]
    },
    {
     "data": {
      "text/html": [
       "<div>\n",
       "<style scoped>\n",
       "    .dataframe tbody tr th:only-of-type {\n",
       "        vertical-align: middle;\n",
       "    }\n",
       "\n",
       "    .dataframe tbody tr th {\n",
       "        vertical-align: top;\n",
       "    }\n",
       "\n",
       "    .dataframe thead th {\n",
       "        text-align: right;\n",
       "    }\n",
       "</style>\n",
       "<table border=\"1\" class=\"dataframe\">\n",
       "  <thead>\n",
       "    <tr style=\"text-align: right;\">\n",
       "      <th></th>\n",
       "      <th>id</th>\n",
       "      <th>dept</th>\n",
       "      <th>level</th>\n",
       "      <th>workload</th>\n",
       "      <th>employment_years</th>\n",
       "      <th>last_year_promo</th>\n",
       "      <th>last_year_violations</th>\n",
       "      <th>supervisor_evaluation</th>\n",
       "      <th>salary</th>\n",
       "      <th>quit</th>\n",
       "    </tr>\n",
       "  </thead>\n",
       "  <tbody>\n",
       "    <tr>\n",
       "      <th>0</th>\n",
       "      <td>723290</td>\n",
       "      <td>sales</td>\n",
       "      <td>middle</td>\n",
       "      <td>high</td>\n",
       "      <td>2</td>\n",
       "      <td>no</td>\n",
       "      <td>no</td>\n",
       "      <td>4</td>\n",
       "      <td>54000</td>\n",
       "      <td>no</td>\n",
       "    </tr>\n",
       "    <tr>\n",
       "      <th>1</th>\n",
       "      <td>814010</td>\n",
       "      <td>sales</td>\n",
       "      <td>junior</td>\n",
       "      <td>medium</td>\n",
       "      <td>2</td>\n",
       "      <td>no</td>\n",
       "      <td>no</td>\n",
       "      <td>4</td>\n",
       "      <td>27600</td>\n",
       "      <td>no</td>\n",
       "    </tr>\n",
       "    <tr>\n",
       "      <th>2</th>\n",
       "      <td>155091</td>\n",
       "      <td>purchasing</td>\n",
       "      <td>middle</td>\n",
       "      <td>medium</td>\n",
       "      <td>5</td>\n",
       "      <td>no</td>\n",
       "      <td>no</td>\n",
       "      <td>1</td>\n",
       "      <td>37200</td>\n",
       "      <td>no</td>\n",
       "    </tr>\n",
       "    <tr>\n",
       "      <th>3</th>\n",
       "      <td>257132</td>\n",
       "      <td>sales</td>\n",
       "      <td>junior</td>\n",
       "      <td>medium</td>\n",
       "      <td>2</td>\n",
       "      <td>no</td>\n",
       "      <td>yes</td>\n",
       "      <td>3</td>\n",
       "      <td>24000</td>\n",
       "      <td>yes</td>\n",
       "    </tr>\n",
       "    <tr>\n",
       "      <th>4</th>\n",
       "      <td>910140</td>\n",
       "      <td>marketing</td>\n",
       "      <td>junior</td>\n",
       "      <td>medium</td>\n",
       "      <td>2</td>\n",
       "      <td>no</td>\n",
       "      <td>no</td>\n",
       "      <td>5</td>\n",
       "      <td>25200</td>\n",
       "      <td>no</td>\n",
       "    </tr>\n",
       "  </tbody>\n",
       "</table>\n",
       "</div>"
      ],
      "text/plain": [
       "       id        dept   level workload  employment_years last_year_promo  \\\n",
       "0  723290       sales  middle     high                 2              no   \n",
       "1  814010       sales  junior   medium                 2              no   \n",
       "2  155091  purchasing  middle   medium                 5              no   \n",
       "3  257132       sales  junior   medium                 2              no   \n",
       "4  910140   marketing  junior   medium                 2              no   \n",
       "\n",
       "  last_year_violations  supervisor_evaluation  salary quit  \n",
       "0                   no                      4   54000   no  \n",
       "1                   no                      4   27600   no  \n",
       "2                   no                      1   37200   no  \n",
       "3                  yes                      3   24000  yes  \n",
       "4                   no                      5   25200   no  "
      ]
     },
     "execution_count": 34,
     "metadata": {},
     "output_type": "execute_result"
    }
   ],
   "source": [
    "train_quit = pd.read_csv('/datasets/train_quit.csv')\n",
    "train_quit.info()\n",
    "train_quit.head()"
   ]
  },
  {
   "cell_type": "markdown",
   "id": "560955c5",
   "metadata": {},
   "source": [
    "### `test_features.csv`\n",
    "Входные признаки для тестовой выборки (`test_features.csv`) совпадают с признаками из первой задачи. Поэтому повторно загружать или предобрабатывать их не требуется — можно воспользоваться уже готовым датафреймом `test_features`, подготовленным на предыдущих шагах."
   ]
  },
  {
   "cell_type": "code",
   "execution_count": 35,
   "id": "4450f022",
   "metadata": {
    "scrolled": true
   },
   "outputs": [
    {
     "name": "stdout",
     "output_type": "stream",
     "text": [
      "<class 'pandas.core.frame.DataFrame'>\n",
      "RangeIndex: 2000 entries, 0 to 1999\n",
      "Data columns (total 9 columns):\n",
      " #   Column                 Non-Null Count  Dtype \n",
      "---  ------                 --------------  ----- \n",
      " 0   id                     2000 non-null   int64 \n",
      " 1   dept                   1998 non-null   object\n",
      " 2   level                  1999 non-null   object\n",
      " 3   workload               2000 non-null   object\n",
      " 4   employment_years       2000 non-null   int64 \n",
      " 5   last_year_promo        2000 non-null   object\n",
      " 6   last_year_violations   2000 non-null   object\n",
      " 7   supervisor_evaluation  2000 non-null   int64 \n",
      " 8   salary                 2000 non-null   int64 \n",
      "dtypes: int64(4), object(5)\n",
      "memory usage: 140.8+ KB\n"
     ]
    },
    {
     "data": {
      "text/html": [
       "<div>\n",
       "<style scoped>\n",
       "    .dataframe tbody tr th:only-of-type {\n",
       "        vertical-align: middle;\n",
       "    }\n",
       "\n",
       "    .dataframe tbody tr th {\n",
       "        vertical-align: top;\n",
       "    }\n",
       "\n",
       "    .dataframe thead th {\n",
       "        text-align: right;\n",
       "    }\n",
       "</style>\n",
       "<table border=\"1\" class=\"dataframe\">\n",
       "  <thead>\n",
       "    <tr style=\"text-align: right;\">\n",
       "      <th></th>\n",
       "      <th>id</th>\n",
       "      <th>dept</th>\n",
       "      <th>level</th>\n",
       "      <th>workload</th>\n",
       "      <th>employment_years</th>\n",
       "      <th>last_year_promo</th>\n",
       "      <th>last_year_violations</th>\n",
       "      <th>supervisor_evaluation</th>\n",
       "      <th>salary</th>\n",
       "    </tr>\n",
       "  </thead>\n",
       "  <tbody>\n",
       "    <tr>\n",
       "      <th>0</th>\n",
       "      <td>485046</td>\n",
       "      <td>marketing</td>\n",
       "      <td>junior</td>\n",
       "      <td>medium</td>\n",
       "      <td>2</td>\n",
       "      <td>no</td>\n",
       "      <td>no</td>\n",
       "      <td>5</td>\n",
       "      <td>28800</td>\n",
       "    </tr>\n",
       "    <tr>\n",
       "      <th>1</th>\n",
       "      <td>686555</td>\n",
       "      <td>hr</td>\n",
       "      <td>junior</td>\n",
       "      <td>medium</td>\n",
       "      <td>1</td>\n",
       "      <td>no</td>\n",
       "      <td>no</td>\n",
       "      <td>4</td>\n",
       "      <td>30000</td>\n",
       "    </tr>\n",
       "    <tr>\n",
       "      <th>2</th>\n",
       "      <td>467458</td>\n",
       "      <td>sales</td>\n",
       "      <td>middle</td>\n",
       "      <td>low</td>\n",
       "      <td>5</td>\n",
       "      <td>no</td>\n",
       "      <td>no</td>\n",
       "      <td>4</td>\n",
       "      <td>19200</td>\n",
       "    </tr>\n",
       "    <tr>\n",
       "      <th>3</th>\n",
       "      <td>418655</td>\n",
       "      <td>sales</td>\n",
       "      <td>middle</td>\n",
       "      <td>low</td>\n",
       "      <td>6</td>\n",
       "      <td>no</td>\n",
       "      <td>no</td>\n",
       "      <td>4</td>\n",
       "      <td>19200</td>\n",
       "    </tr>\n",
       "    <tr>\n",
       "      <th>4</th>\n",
       "      <td>789145</td>\n",
       "      <td>hr</td>\n",
       "      <td>middle</td>\n",
       "      <td>medium</td>\n",
       "      <td>5</td>\n",
       "      <td>no</td>\n",
       "      <td>no</td>\n",
       "      <td>5</td>\n",
       "      <td>40800</td>\n",
       "    </tr>\n",
       "  </tbody>\n",
       "</table>\n",
       "</div>"
      ],
      "text/plain": [
       "       id       dept   level workload  employment_years last_year_promo  \\\n",
       "0  485046  marketing  junior   medium                 2              no   \n",
       "1  686555         hr  junior   medium                 1              no   \n",
       "2  467458      sales  middle      low                 5              no   \n",
       "3  418655      sales  middle      low                 6              no   \n",
       "4  789145         hr  middle   medium                 5              no   \n",
       "\n",
       "  last_year_violations  supervisor_evaluation  salary  \n",
       "0                   no                      5   28800  \n",
       "1                   no                      4   30000  \n",
       "2                   no                      4   19200  \n",
       "3                   no                      4   19200  \n",
       "4                   no                      5   40800  "
      ]
     },
     "execution_count": 35,
     "metadata": {},
     "output_type": "execute_result"
    }
   ],
   "source": [
    "# test_features уже загружен и предобработан ранее\n",
    "test_features.info()\n",
    "test_features.head()"
   ]
  },
  {
   "cell_type": "markdown",
   "id": "4406c996",
   "metadata": {},
   "source": [
    "### `test_target_quit.csv`\n",
    "Таблица с целевым признаком `quit` для тестовой выборки."
   ]
  },
  {
   "cell_type": "code",
   "execution_count": 36,
   "id": "b2f1ef4a",
   "metadata": {
    "scrolled": true
   },
   "outputs": [
    {
     "name": "stdout",
     "output_type": "stream",
     "text": [
      "<class 'pandas.core.frame.DataFrame'>\n",
      "RangeIndex: 2000 entries, 0 to 1999\n",
      "Data columns (total 2 columns):\n",
      " #   Column  Non-Null Count  Dtype \n",
      "---  ------  --------------  ----- \n",
      " 0   id      2000 non-null   int64 \n",
      " 1   quit    2000 non-null   object\n",
      "dtypes: int64(1), object(1)\n",
      "memory usage: 31.4+ KB\n"
     ]
    },
    {
     "data": {
      "text/html": [
       "<div>\n",
       "<style scoped>\n",
       "    .dataframe tbody tr th:only-of-type {\n",
       "        vertical-align: middle;\n",
       "    }\n",
       "\n",
       "    .dataframe tbody tr th {\n",
       "        vertical-align: top;\n",
       "    }\n",
       "\n",
       "    .dataframe thead th {\n",
       "        text-align: right;\n",
       "    }\n",
       "</style>\n",
       "<table border=\"1\" class=\"dataframe\">\n",
       "  <thead>\n",
       "    <tr style=\"text-align: right;\">\n",
       "      <th></th>\n",
       "      <th>id</th>\n",
       "      <th>quit</th>\n",
       "    </tr>\n",
       "  </thead>\n",
       "  <tbody>\n",
       "    <tr>\n",
       "      <th>0</th>\n",
       "      <td>999029</td>\n",
       "      <td>yes</td>\n",
       "    </tr>\n",
       "    <tr>\n",
       "      <th>1</th>\n",
       "      <td>372846</td>\n",
       "      <td>no</td>\n",
       "    </tr>\n",
       "    <tr>\n",
       "      <th>2</th>\n",
       "      <td>726767</td>\n",
       "      <td>no</td>\n",
       "    </tr>\n",
       "    <tr>\n",
       "      <th>3</th>\n",
       "      <td>490105</td>\n",
       "      <td>no</td>\n",
       "    </tr>\n",
       "    <tr>\n",
       "      <th>4</th>\n",
       "      <td>416898</td>\n",
       "      <td>yes</td>\n",
       "    </tr>\n",
       "  </tbody>\n",
       "</table>\n",
       "</div>"
      ],
      "text/plain": [
       "       id quit\n",
       "0  999029  yes\n",
       "1  372846   no\n",
       "2  726767   no\n",
       "3  490105   no\n",
       "4  416898  yes"
      ]
     },
     "execution_count": 36,
     "metadata": {},
     "output_type": "execute_result"
    }
   ],
   "source": [
    "test_target_quit = pd.read_csv('/datasets/test_target_quit.csv')\n",
    "test_target_quit.info()\n",
    "test_target_quit.head()"
   ]
  },
  {
   "cell_type": "markdown",
   "id": "6ceb8422",
   "metadata": {},
   "source": [
    "## Предобработка данных¶"
   ]
  },
  {
   "cell_type": "markdown",
   "id": "2e10b115",
   "metadata": {},
   "source": [
    "### Предобработка `train_quit`"
   ]
  },
  {
   "cell_type": "code",
   "execution_count": 37,
   "id": "5d5596d2",
   "metadata": {},
   "outputs": [
    {
     "name": "stdout",
     "output_type": "stream",
     "text": [
      "Пропуски по столбцам в train_quit:\n",
      "✅ Нет пропусков\n"
     ]
    }
   ],
   "source": [
    "# Проверка пропусков\n",
    "print(\"Пропуски по столбцам в train_quit:\")\n",
    "nulls = train_quit.isnull().sum()\n",
    "if nulls.sum() > 0:\n",
    "    print(nulls[nulls > 0])\n",
    "else:\n",
    "    print(\"✅ Нет пропусков\")"
   ]
  },
  {
   "cell_type": "code",
   "execution_count": 38,
   "id": "4243dc7f",
   "metadata": {},
   "outputs": [
    {
     "name": "stdout",
     "output_type": "stream",
     "text": [
      "Явных дубликатов строк: 0\n",
      "✅ Явных дубликатов нет\n"
     ]
    }
   ],
   "source": [
    "# Проверка явных дубликатов (по всем столбцам)\n",
    "dup_count = train_quit.duplicated().sum()\n",
    "print(f\"Явных дубликатов строк: {dup_count}\")\n",
    "if dup_count > 0:\n",
    "    market_file = train_quit.drop_duplicates()\n",
    "    print(f\"Удалено {dup_count} дубликатов\")\n",
    "else:\n",
    "    print(\"✅ Явных дубликатов нет\")"
   ]
  },
  {
   "cell_type": "code",
   "execution_count": 39,
   "id": "64c92534",
   "metadata": {},
   "outputs": [
    {
     "name": "stdout",
     "output_type": "stream",
     "text": [
      "\n",
      "Уникальные значения в строковых колонках:\n",
      "\n",
      "Столбец: dept\n",
      "['hr', 'marketing', 'purchasing', 'sales', 'technology']\n",
      "\n",
      "Столбец: level\n",
      "['junior', 'middle', 'sinior']\n",
      "\n",
      "Столбец: workload\n",
      "['high', 'low', 'medium']\n",
      "\n",
      "Столбец: last_year_promo\n",
      "['no', 'yes']\n",
      "\n",
      "Столбец: last_year_violations\n",
      "['no', 'yes']\n",
      "\n",
      "Столбец: quit\n",
      "['no', 'yes']\n"
     ]
    }
   ],
   "source": [
    "# Проверка неявных дубликатов в строковых колонках (без ошибки сортировки)\n",
    "obj_cols = train_quit.select_dtypes(include='object').columns\n",
    "\n",
    "print(\"\\nУникальные значения в строковых колонках:\")\n",
    "for col in obj_cols:\n",
    "    print(f\"\\nСтолбец: {col}\")\n",
    "    uniques = train_quit[col].dropna().astype(str).unique()\n",
    "    print(sorted(uniques))"
   ]
  },
  {
   "cell_type": "code",
   "execution_count": 40,
   "id": "2953de01",
   "metadata": {},
   "outputs": [],
   "source": [
    "# Корректировка опечатки в level\n",
    "train_quit['level'] = train_quit['level'].replace('sinior', 'senior')"
   ]
  },
  {
   "cell_type": "markdown",
   "id": "0910e7a2",
   "metadata": {},
   "source": [
    "При анализе уникальных значений обнаружена опечатка в категориальном признаке `level`: `'sinior'` вместо `'senior'`.  Значение исправлено с помощью метода `replace`."
   ]
  },
  {
   "cell_type": "markdown",
   "id": "693bfdea",
   "metadata": {},
   "source": [
    "### Предобработка `test_target_quit`"
   ]
  },
  {
   "cell_type": "code",
   "execution_count": 41,
   "id": "05018f8c",
   "metadata": {
    "scrolled": true
   },
   "outputs": [
    {
     "name": "stdout",
     "output_type": "stream",
     "text": [
      "Пропуски по столбцам в test_target_quit:\n",
      "✅ Нет пропусков\n"
     ]
    }
   ],
   "source": [
    "# Проверка пропусков\n",
    "print(\"Пропуски по столбцам в test_target_quit:\")\n",
    "nulls = test_target_quit.isnull().sum()\n",
    "if nulls.sum() > 0:\n",
    "    print(nulls[nulls > 0])\n",
    "else:\n",
    "    print(\"✅ Нет пропусков\")"
   ]
  },
  {
   "cell_type": "code",
   "execution_count": 42,
   "id": "cc282d31",
   "metadata": {
    "scrolled": true
   },
   "outputs": [
    {
     "name": "stdout",
     "output_type": "stream",
     "text": [
      "\n",
      "Явных дубликатов строк: 0\n",
      "✅ Явных дубликатов нет\n"
     ]
    }
   ],
   "source": [
    "# Проверка явных дубликатов (по всем столбцам)\n",
    "dup_count = test_target_quit.duplicated().sum()\n",
    "print(f\"\\nЯвных дубликатов строк: {dup_count}\")\n",
    "if dup_count > 0:\n",
    "    test_target = test_target_quit.drop_duplicates()\n",
    "    print(f\"Удалено {dup_count} дубликатов\")\n",
    "else:\n",
    "    print(\"✅ Явных дубликатов нет\")"
   ]
  },
  {
   "cell_type": "code",
   "execution_count": 43,
   "id": "06bd1dcf",
   "metadata": {
    "scrolled": false
   },
   "outputs": [
    {
     "name": "stdout",
     "output_type": "stream",
     "text": [
      "\n",
      "Уникальные значения в строковых колонках:\n",
      "\n",
      "Столбец: quit\n",
      "['no', 'yes']\n"
     ]
    }
   ],
   "source": [
    "# Проверка неявных дубликатов в строковых колонках (без ошибки сортировки)\n",
    "obj_cols = test_target_quit.select_dtypes(include='object').columns\n",
    "\n",
    "print(\"\\nУникальные значения в строковых колонках:\")\n",
    "for col in obj_cols:\n",
    "    print(f\"\\nСтолбец: {col}\")\n",
    "    uniques = test_target_quit[col].dropna().astype(str).unique()\n",
    "    print(sorted(uniques))"
   ]
  },
  {
   "cell_type": "markdown",
   "id": "0a8c7945",
   "metadata": {},
   "source": [
    "**Вывод по предобработке test_target_quit:**\n",
    "\n",
    "- Пропусков по столбцам не обнаружено.\n",
    "- Явных дубликатов строк в данных нет.\n",
    "- В столбце `quit` присутствуют только два уникальных значения: `'no'` и `'yes'`.\n",
    "\n",
    "**Датасет чистый, можно переходить к следующему этапу.**"
   ]
  },
  {
   "cell_type": "markdown",
   "id": "e4385e0d",
   "metadata": {},
   "source": [
    "## Исследовательский анализ данных\n",
    "\n",
    "На этом этапе проводится исследовательский анализ данных (EDA) для тренировочной выборки.  \n",
    "Цель анализа — выявить основные особенности признаков, обнаружить возможные аномалии, выбросы или редкие категории, а также определить, каким образом следует подготовить каждый признак для последующего этапа машинного обучения.\n",
    "\n",
    "В рамках EDA будут:\n",
    "- Изучены распределения и статистики признаков;\n",
    "- Проанализированы категориальные и числовые признаки;\n",
    "- Проверены частоты встречаемости категорий, диапазоны и возможные выбросы;\n",
    "- Оценены связи признаков с целевой переменной;\n",
    "- Сделаны выводы и даны рекомендации по дальнейшей обработке данных для построения моделей."
   ]
  },
  {
   "cell_type": "code",
   "execution_count": 44,
   "id": "630fadee",
   "metadata": {
    "scrolled": true
   },
   "outputs": [
    {
     "name": "stdout",
     "output_type": "stream",
     "text": [
      "<class 'pandas.core.frame.DataFrame'>\n",
      "RangeIndex: 4000 entries, 0 to 3999\n",
      "Data columns (total 10 columns):\n",
      " #   Column                 Non-Null Count  Dtype \n",
      "---  ------                 --------------  ----- \n",
      " 0   id                     4000 non-null   int64 \n",
      " 1   dept                   4000 non-null   object\n",
      " 2   level                  4000 non-null   object\n",
      " 3   workload               4000 non-null   object\n",
      " 4   employment_years       4000 non-null   int64 \n",
      " 5   last_year_promo        4000 non-null   object\n",
      " 6   last_year_violations   4000 non-null   object\n",
      " 7   supervisor_evaluation  4000 non-null   int64 \n",
      " 8   salary                 4000 non-null   int64 \n",
      " 9   quit                   4000 non-null   object\n",
      "dtypes: int64(4), object(6)\n",
      "memory usage: 312.6+ KB\n"
     ]
    }
   ],
   "source": [
    "train_quit.info()"
   ]
  },
  {
   "cell_type": "markdown",
   "id": "e88176a6",
   "metadata": {},
   "source": [
    "### Распределениям числовых признаков"
   ]
  },
  {
   "cell_type": "code",
   "execution_count": 45,
   "id": "e5ba0f84",
   "metadata": {
    "scrolled": true
   },
   "outputs": [
    {
     "data": {
      "image/png": "[encoded data removed]",
      "text/plain": [
       "<Figure size 1008x288 with 3 Axes>"
      ]
     },
     "metadata": {
      "needs_background": "light"
     },
     "output_type": "display_data"
    }
   ],
   "source": [
    "# Исследуем распределения числовых признаков в train_quit\n",
    "num_cols = ['employment_years', 'supervisor_evaluation', 'salary']\n",
    "\n",
    "plt.figure(figsize=(14, 4))\n",
    "\n",
    "for i, col in enumerate(num_cols, 1):\n",
    "    plt.subplot(1, len(num_cols), i)\n",
    "    plt.hist(train_quit[col], bins=30, color='skyblue', edgecolor='black')\n",
    "    plt.title(f'Распределение {col}')\n",
    "    plt.xlabel(col)\n",
    "    plt.ylabel('Частота')\n",
    "    plt.grid(axis='y', linestyle='--', alpha=0.7)\n",
    "\n",
    "plt.tight_layout()\n",
    "plt.show()"
   ]
  },
  {
   "cell_type": "markdown",
   "id": "63010926",
   "metadata": {},
   "source": [
    "Распределения числовых признаков (`employment_years`, `supervisor_evaluation`, `salary`) в задаче 2 полностью соответствуют ранее проведённому анализу из задачи 1. Признаки были подробно рассмотрены выше **(пункт 5.1)**, дополнительных особенностей не выявлено.\n"
   ]
  },
  {
   "cell_type": "markdown",
   "id": "2b4db44a",
   "metadata": {},
   "source": [
    "### Распределениям категориальных признаков"
   ]
  },
  {
   "cell_type": "code",
   "execution_count": 46,
   "id": "8912b318",
   "metadata": {},
   "outputs": [
    {
     "data": {
      "image/png": "[encoded data removed]",
      "text/plain": [
       "<Figure size 1296x720 with 6 Axes>"
      ]
     },
     "metadata": {
      "needs_background": "light"
     },
     "output_type": "display_data"
    }
   ],
   "source": [
    "# Анализ распределения категориальных признаков, включая целевой признак quit\n",
    "\n",
    "cat_cols = ['dept', 'level', 'workload', 'last_year_promo', 'last_year_violations', 'quit']\n",
    "\n",
    "plt.figure(figsize=(18, 10))\n",
    "for i, col in enumerate(cat_cols, 1):\n",
    "    plt.subplot(2, 3, i)\n",
    "    train_quit[col].value_counts().plot(kind='bar', color='skyblue', edgecolor='black')\n",
    "    plt.title(f'Распределение {col}')\n",
    "    plt.xlabel(col)\n",
    "    plt.ylabel('Частота')\n",
    "    plt.grid(axis='y', linestyle='--', alpha=0.7)\n",
    "    # Добавим значения на столбцы\n",
    "    for idx, val in enumerate(train_quit[col].value_counts()):\n",
    "        plt.text(idx, val + max(train_quit[col].value_counts()) * 0.01, str(val), \n",
    "                 ha='center', va='bottom', fontsize=9)\n",
    "\n",
    "plt.tight_layout()\n",
    "plt.show()"
   ]
  },
  {
   "cell_type": "markdown",
   "id": "378871db",
   "metadata": {},
   "source": [
    "### Вывод по анализу категориальных признаков\n",
    "\n",
    "- **Самый многочисленный отдел — sales** (1438 сотрудников), далее идут technology, purchasing, marketing и hr.\n",
    "- **Большинство сотрудников относятся к уровням junior (1949) и middle (1694)**, а senior существенно меньше (357).\n",
    "- **Наиболее распространённая загрузка — medium** (2118 сотрудников), далее low (1208) и high (674).\n",
    "- **Подавляющее большинство сотрудников не получали повышение за прошлый год** (3887 — нет, 113 — да).\n",
    "- **Большинство сотрудников не имели нарушений за прошлый год** (3455 — нет, 545 — да).\n",
    "- **По целевому признаку quit:**\n",
    "    - В компании осталось 2872 сотрудника,\n",
    "    - **Уволилось 1128 сотрудников** (примерно 28%).\n",
    "\n",
    "> Важно: данные демонстрируют выраженный дисбаланс по ряду признаков, а также по целевой переменной (quit). Это необходимо учитывать при дальнейшем анализе и построении моделей.\n"
   ]
  },
  {
   "cell_type": "markdown",
   "id": "e47abce9",
   "metadata": {},
   "source": [
    "### Портрет «уволившегося сотрудника»"
   ]
  },
  {
   "cell_type": "code",
   "execution_count": 47,
   "id": "b9bb4c9a",
   "metadata": {},
   "outputs": [
    {
     "data": {
      "image/png": "[encoded data removed]",
      "text/plain": [
       "<Figure size 504x288 with 1 Axes>"
      ]
     },
     "metadata": {
      "needs_background": "light"
     },
     "output_type": "display_data"
    },
    {
     "data": {
      "image/png": "[encoded data removed]",
      "text/plain": [
       "<Figure size 504x288 with 1 Axes>"
      ]
     },
     "metadata": {
      "needs_background": "light"
     },
     "output_type": "display_data"
    },
    {
     "data": {
      "image/png": "[encoded data removed]",
      "text/plain": [
       "<Figure size 504x288 with 1 Axes>"
      ]
     },
     "metadata": {
      "needs_background": "light"
     },
     "output_type": "display_data"
    },
    {
     "name": "stdout",
     "output_type": "stream",
     "text": [
      "\n",
      "Средняя зарплата уволившихся: 23885\n",
      "Средняя зарплата оставшихся: 37702\n"
     ]
    }
   ],
   "source": [
    "# Группы по статусу увольнения\n",
    "quit_yes = train_quit[train_quit['quit'] == 'yes']\n",
    "quit_no = train_quit[train_quit['quit'] == 'no']\n",
    "\n",
    "# 1. Доля уволившихся по отделам (относительно работающих в каждом отделе)\n",
    "dept_quit_share = (\n",
    "    train_quit.groupby('dept')['quit']\n",
    "    .value_counts(normalize=True)\n",
    "    .unstack()\n",
    "    .fillna(0)\n",
    "    .loc[:, 'yes'] * 100\n",
    ").sort_values(ascending=False)\n",
    "\n",
    "plt.figure(figsize=(7, 4))\n",
    "bars = plt.barh(dept_quit_share.index, dept_quit_share.values, color='skyblue')\n",
    "plt.title('Доля уволившихся сотрудников по отделам (%)')\n",
    "plt.xlabel('Доля, %')\n",
    "plt.ylabel('Отдел')\n",
    "for bar, percent in zip(bars, dept_quit_share.values):\n",
    "    plt.text(percent + 0.7, bar.get_y() + bar.get_height()/2, f'{percent:.1f}%', va='center', fontsize=10)\n",
    "plt.show()\n",
    "\n",
    "# 2. Доля уволившихся по уровню загруженности (относительно каждого уровня)\n",
    "workload_quit_share = (\n",
    "    train_quit.groupby('workload')['quit']\n",
    "    .value_counts(normalize=True)\n",
    "    .unstack()\n",
    "    .fillna(0)\n",
    "    .loc[:, 'yes'] * 100\n",
    ").sort_values(ascending=False)\n",
    "\n",
    "plt.figure(figsize=(7, 4))\n",
    "bars = plt.barh(workload_quit_share.index, workload_quit_share.values, color='lightgreen')\n",
    "plt.title('Доля уволившихся по уровню загруженности (%)')\n",
    "plt.xlabel('Доля, %')\n",
    "plt.ylabel('Загруженность')\n",
    "for bar, percent in zip(bars, workload_quit_share.values):\n",
    "    plt.text(percent + 0.7, bar.get_y() + bar.get_height()/2, f'{percent:.1f}%', va='center', fontsize=10)\n",
    "plt.show()\n",
    "\n",
    "# 3. Boxplot зарплат уволившихся и оставшихся\n",
    "plt.figure(figsize=(7, 4))\n",
    "sns.boxplot(x='quit', y='salary', data=train_quit, palette='pastel')\n",
    "plt.title('Сравнение зарплат уволившихся и оставшихся')\n",
    "plt.xlabel('Статус (quit)')\n",
    "plt.ylabel('Зарплата')\n",
    "plt.show()\n",
    "\n",
    "# 3.1. Средние зарплаты\n",
    "mean_salary_quit = train_quit[train_quit['quit'] == 'yes']['salary'].mean()\n",
    "mean_salary_stay = train_quit[train_quit['quit'] == 'no']['salary'].mean()\n",
    "print(f\"\\nСредняя зарплата уволившихся: {mean_salary_quit:.0f}\")\n",
    "print(f\"Средняя зарплата оставшихся: {mean_salary_stay:.0f}\")"
   ]
  },
  {
   "cell_type": "markdown",
   "id": "4574cfb4",
   "metadata": {},
   "source": [
    "Анализ с нормализацией по доле уволившихся среди всех сотрудников по каждой категории выявил следующие закономерности:\n",
    "\n",
    "- **Отдел:** Доля уволившихся наиболее высока в отделе `technology` (29.7%), а также немного выше среднего в отделах `sales`, `purchasing`, `marketing` (28–28.3%). Минимальная доля увольнений — в отделе `hr` (25%). Это говорит о сравнительно равномерном распределении, но выделяет `technology` как отдел с чуть более высокой склонностью к увольнениям, если учитывать долю внутри самого отдела.\n",
    "- **Загруженность:** Больше всего увольняются сотрудники с низкой загруженностью (`low`, 43%), далее с средней загруженностью (`medium`, 23%). Наименьшая доля уволившихся среди сотрудников с высокой загруженностью (`high`, 18%). Это может указывать на то, что недостаток задач или недозагруженность приводит к снижению мотивации и уходу.\n",
    "- **Зарплата:** Средняя зарплата уволившихся существенно ниже (23 885), чем у оставшихся (37 702). На boxplot видно, что уволившиеся чаще получают меньше, чем оставшиеся.\n",
    "\n",
    "**Вывод:**\n",
    "В группе риска по увольнению — сотрудники отдела технологий, а также сотрудники с низкой загруженностью и сравнительно низкой заработной платой. Это подтверждает гипотезу, что удержание сотрудников требует не только внимания к уровню загрузки, но и справедливой компенсации."
   ]
  },
  {
   "cell_type": "markdown",
   "id": "6cc97760",
   "metadata": {},
   "source": [
    "### Проверка влияния удовлетворённости работой на увольнение"
   ]
  },
  {
   "cell_type": "markdown",
   "id": "b59c4390",
   "metadata": {},
   "source": [
    "\n",
    "Проверим гипотезу, что уровень удовлетворённости работой (`job_satisfaction_rate`) влияет на вероятность увольнения сотрудника. Чтобы ппроверить это, сравним распределения этого признака для уволившихся и оставшихся сотрудников с помощью визуализации.\n",
    "\n",
    "Для анализа используем данные тестовой выборки, где есть оба целевых признака: `job_satisfaction_rate` и `quit`."
   ]
  },
  {
   "cell_type": "code",
   "execution_count": 48,
   "id": "08584efb",
   "metadata": {},
   "outputs": [
    {
     "data": {
      "image/png": "[encoded data removed]",
      "text/plain": [
       "<Figure size 576x288 with 1 Axes>"
      ]
     },
     "metadata": {
      "needs_background": "light"
     },
     "output_type": "display_data"
    }
   ],
   "source": [
    "import matplotlib.pyplot as plt\n",
    "\n",
    "# Объединяем тестовые датасеты по 'id'\n",
    "test_full = test_features.merge(test_target, on='id').merge(test_target_quit, on='id')\n",
    "\n",
    "# Разделяем по статусу quit\n",
    "satisfaction_quit = test_full[test_full['quit'] == 'yes']['job_satisfaction_rate']\n",
    "satisfaction_stayed = test_full[test_full['quit'] == 'no']['job_satisfaction_rate']\n",
    "\n",
    "plt.figure(figsize=(8, 4))\n",
    "plt.hist(satisfaction_quit, bins=30, alpha=0.5, label='Уволившиеся', color='orange', density=True)\n",
    "plt.hist(satisfaction_stayed, bins=30, alpha=0.5, label='Оставшиеся', color='blue', density=True)\n",
    "plt.title('Распределение job_satisfaction_rate по статусу увольнения')\n",
    "plt.xlabel('job_satisfaction_rate')\n",
    "plt.ylabel('Плотность')\n",
    "plt.legend()\n",
    "plt.grid(axis='y', linestyle='--', alpha=0.7)\n",
    "plt.show()\n"
   ]
  },
  {
   "cell_type": "markdown",
   "id": "b35441f1",
   "metadata": {},
   "source": [
    "**Сравнение распределения job_satisfaction_rate среди уволившихся и оставшихся сотрудников**\n",
    "\n",
    "На графике представлены распределения уровня удовлетворённости работой (job_satisfaction_rate) для двух групп: уволившихся и оставшихся сотрудников.\n",
    "\n",
    "- **Уволившиеся сотрудники** чаще имели более низкие значения удовлетворённости работой — основная масса распределения для этой группы находится в диапазоне 0.2–0.4.\n",
    "- **Оставшиеся сотрудники** демонстрируют более высокие значения удовлетворённости — их распределение смещено вправо, чаще встречаются значения выше 0.6.\n",
    "\n",
    "**Вывод:**  \n",
    "Уровень удовлетворённости работой действительно связан с вероятностью увольнения. Сотрудники, чья удовлетворённость работой была ниже, значительно чаще увольнялись.\n",
    "\n",
    "---\n",
    "\n",
    "**Почему использована ось \"Плотность\" (density)?**\n",
    "\n",
    "- Ось \"Плотность\" показывает относительную частоту значений внутри каждого интервала (бина), а не абсолютное количество сотрудников.\n",
    "- Это важно, потому что группы уволившихся и оставшихся могут отличаться по размеру. Благодаря \"плотности\" графики можно честно сравнивать даже при разном числе наблюдений — площадь каждого распределения всегда нормирована к 1.\n",
    "- Такой подход позволяет корректно оценить именно **форму распределения** и выявить смещения между группами.\n",
    "\n",
    "**Итого:**  \n",
    "Распределения на графике подтверждают, что низкая удовлетворённость работой повышает вероятность увольнения. Использование плотности вместо абсолютных значений делает сравнение корректным независимо от размера групп."
   ]
  },
  {
   "cell_type": "markdown",
   "id": "087b783d",
   "metadata": {},
   "source": [
    "## Добавление нового входного признака"
   ]
  },
  {
   "cell_type": "markdown",
   "id": "20fa4b1c",
   "metadata": {},
   "source": [
    "Добавим новый признак — предсказанное значение `job_satisfaction_rate`, полученное лучшей моделью (DecisionTreeRegressor) из первой задачи. Это позволит учесть уровень удовлетворённости работой при прогнозировании увольнения."
   ]
  },
  {
   "cell_type": "code",
   "execution_count": 49,
   "id": "1875a5c1",
   "metadata": {},
   "outputs": [
    {
     "name": "stderr",
     "output_type": "stream",
     "text": [
      "/opt/conda/lib/python3.9/site-packages/sklearn/preprocessing/_encoders.py:188: UserWarning: Found unknown categories in columns [0] during transform. These unknown categories will be encoded as all zeros\n",
      "  warnings.warn(\n"
     ]
    }
   ],
   "source": [
    "# Для обучающей выборки (train_quit): прогнозируем job_satisfaction_rate по признакам, кроме 'quit'\n",
    "X_train_for_pred = train_quit.drop(['id', 'quit'], axis=1)\n",
    "job_sat_pred_train = tree_search.predict(X_train_for_pred)\n",
    "\n",
    "# Для тестовой выборки: прогнозируем job_satisfaction_rate по признакам\n",
    "X_test_for_pred = test_features.drop(['id'], axis=1)\n",
    "job_sat_pred_test = tree_search.predict(X_test_for_pred)\n",
    "\n",
    "# Добавляем предсказание как новый столбец\n",
    "train_quit['job_satisfaction_rate_pred'] = job_sat_pred_train\n",
    "test_features['job_satisfaction_rate_pred'] = job_sat_pred_test"
   ]
  },
  {
   "cell_type": "markdown",
   "id": "8389998b",
   "metadata": {},
   "source": [
    "Проведём анализ корреляций между количественными признаками после добавления признака `job_satisfaction_rate_pred`. Это поможет выявить возможную мультиколлинеарность и убедиться, что новый признак не создаёт нежелательных сильных связей с остальными переменными."
   ]
  },
  {
   "cell_type": "code",
   "execution_count": 50,
   "id": "c927d331",
   "metadata": {},
   "outputs": [
    {
     "data": {
      "image/png": "[encoded data removed]",
      "text/plain": [
       "<Figure size 576x432 with 2 Axes>"
      ]
     },
     "metadata": {
      "needs_background": "light"
     },
     "output_type": "display_data"
    }
   ],
   "source": [
    "# Отбираем числовые признаки обучающей выборки, кроме id\n",
    "numeric_cols = train_quit.select_dtypes(include='number').drop(columns='id')\n",
    "\n",
    "# Строим корреляционную матрицу по методу Спирмена\n",
    "corr_spearman = numeric_cols.corr(method='spearman')\n",
    "\n",
    "# Визуализируем тепловую карту корреляций\n",
    "plt.figure(figsize=(8, 6))\n",
    "sns.heatmap(corr_spearman, annot=True, fmt=\".2f\", cmap='coolwarm', center=0, linewidths=0.5)\n",
    "plt.title(\"Корреляционная матрица (метод Спирмена) — после добавления признака job_satisfaction_rate_pred\", fontsize=13)\n",
    "plt.xticks(rotation=45, ha='right')\n",
    "plt.tight_layout()\n",
    "plt.show()"
   ]
  },
  {
   "cell_type": "markdown",
   "id": "547d739b",
   "metadata": {},
   "source": [
    "Корреляционная матрица показала, что новый признак `job_satisfaction_rate_pred` имеет сильную положительную связь с переменной `supervisor_evaluation` (коэффициент 0.78), что логично — оба признака связаны с оценкой сотрудника и его удовлетворённостью работой. \n",
    "\n",
    "Остальные признаки не демонстрируют высокой корреляции друг с другом (коэффициенты ниже 0.5). Мультиколлинеарность между признаками отсутствует, кроме ожидаемой связи между переменными, отражающими близкие аспекты деятельности сотрудников.\n",
    "\n",
    "**Вывод:**  \n",
    "Добавление нового признака не приводит к появлению нежелательных линейных зависимостей, и все переменные можно безопасно использовать для дальнейшего моделирования."
   ]
  },
  {
   "cell_type": "markdown",
   "id": "354d6e63",
   "metadata": {},
   "source": [
    "## **Создание моделей (Задача № 2)**"
   ]
  },
  {
   "cell_type": "markdown",
   "id": "b948f9cf",
   "metadata": {},
   "source": [
    "### Подготовка данных и построение пайплайна"
   ]
  },
  {
   "cell_type": "markdown",
   "id": "f3b1d4ee",
   "metadata": {},
   "source": [
    "На данном этапе осуществляется подготовка признаков для обучения моделей во второй задаче.  \n",
    "Вся обработка данных — включая кодирование категориальных переменных и масштабирование числовых признаков (в том числе нового признака `job_satisfaction_rate_pred`) — будет выполнена внутри единого пайплайна с использованием инструментов scikit-learn.\n",
    "\n",
    "\n",
    "- В пайплайне применяются два способа кодирования категориальных переменных:\n",
    "    - Для порядковых признаков (`level`) используется `OrdinalEncoder`;\n",
    "    - Для непорядковых признаков (`dept`, `workload`, `last_year_promo`, `last_year_violations`) — `OneHotEncoder`;\n",
    "    - Для числовых признаков (включая предсказанный уровень удовлетворённости работой) — масштабирование через `StandardScaler`.\n",
    "- Далее строится общий `ColumnTransformer`, который интегрируется в пайплайн с моделью. Это позволяет автоматизировать все шаги обработки данных и обучения без ручных преобразований на каждом этапе."
   ]
  },
  {
   "cell_type": "code",
   "execution_count": 51,
   "id": "fda0d452",
   "metadata": {},
   "outputs": [],
   "source": [
    "# Определяем признаки для задачи 2\n",
    "ordinal_features = ['level', 'workload']\n",
    "onehot_features = ['dept', 'last_year_promo', 'last_year_violations']\n",
    "numeric_features = ['employment_years', 'supervisor_evaluation', 'salary', 'job_satisfaction_rate_pred']\n",
    "\n",
    "# Пайплайн для порядковых признаков (с обработкой неизвестных категорий)\n",
    "ordinal_pipeline = Pipeline([\n",
    "    ('imputer', SimpleImputer(strategy='most_frequent')),\n",
    "    ('ordinal', OrdinalEncoder(\n",
    "        categories=[\n",
    "            ['junior', 'middle', 'senior'],         # порядок для level\n",
    "            ['low', 'medium', 'high']               # порядок для workload\n",
    "        ],\n",
    "        handle_unknown='use_encoded_value',\n",
    "        unknown_value=-1\n",
    "    ))\n",
    "])\n",
    "\n",
    "# Пайплайн для непорядковых категориальных признаков\n",
    "onehot_pipeline = Pipeline([\n",
    "    ('imputer', SimpleImputer(strategy='most_frequent')),\n",
    "    ('onehot', OneHotEncoder(drop='first', sparse=False, handle_unknown='ignore'))\n",
    "])\n",
    "\n",
    "# Пайплайн для числовых признаков\n",
    "numeric_pipeline = Pipeline([\n",
    "    ('imputer', SimpleImputer(strategy='median')),\n",
    "    ('scaler', StandardScaler())\n",
    "])\n",
    "\n",
    "# Общий препроцессор\n",
    "preprocessor = ColumnTransformer(transformers=[\n",
    "    ('ord', ordinal_pipeline, ordinal_features),\n",
    "    ('ohe', onehot_pipeline, onehot_features),\n",
    "    ('num', numeric_pipeline, numeric_features)\n",
    "])\n",
    "\n",
    "# Формируем обучающую выборку\n",
    "X_train_quit = train_quit.drop(['id', 'quit'], axis=1)\n",
    "y_train_quit = train_quit['quit']\n",
    "\n",
    "# Для теста: объединяем по id и разделяем признаки/таргет\n",
    "test_quit_merged = test_features.merge(test_target_quit, on='id')\n",
    "X_test_quit = test_quit_merged.drop(['id', 'quit'], axis=1)\n",
    "y_test_quit = test_quit_merged['quit']\n"
   ]
  },
  {
   "cell_type": "markdown",
   "id": "b79f3484",
   "metadata": {},
   "source": [
    "### Обучение моделей и подбор гиперпараметров"
   ]
  },
  {
   "cell_type": "markdown",
   "id": "8a0119a4",
   "metadata": {},
   "source": [
    "#### `KNeighborsClassifier`\n",
    "В этом блоке будет обучена модель K ближайших соседей (KNeighborsClassifier) с подбором гиперпараметра `n_neighbors` с помощью GridSearchCV. Все этапы предобработки включены в пайплайн, что исключает утечку информации между обучающей и тестовой выборками.  \n",
    "Качество модели оцениваем по метрике ROC-AUC."
   ]
  },
  {
   "cell_type": "code",
   "execution_count": 52,
   "id": "0183ca82",
   "metadata": {},
   "outputs": [
    {
     "name": "stdout",
     "output_type": "stream",
     "text": [
      "Лучшие параметры KNN: {'classifier__n_neighbors': 7}\n",
      "Лучший ROC-AUC на валидации: 0.9258\n"
     ]
    }
   ],
   "source": [
    "# Задаём сетку гиперпараметров\n",
    "knn_params = {'classifier__n_neighbors': [3, 5, 7, 10]}\n",
    "\n",
    "# Собираем пайплайн\n",
    "knn_pipeline = Pipeline([\n",
    "    ('preprocessor', preprocessor),\n",
    "    ('classifier', KNeighborsClassifier())\n",
    "])\n",
    "\n",
    "# GridSearchCV для поиска наилучших параметров по ROC-AUC\n",
    "knn_search = GridSearchCV(\n",
    "    knn_pipeline,\n",
    "    knn_params,\n",
    "    cv=5,\n",
    "    scoring='roc_auc',\n",
    "    n_jobs=-1\n",
    ")\n",
    "knn_search.fit(X_train_quit, y_train_quit)\n",
    "\n",
    "# Лучшие параметры и качество на кросс-валидации\n",
    "print(\"Лучшие параметры KNN:\", knn_search.best_params_)\n",
    "print(f\"Лучший ROC-AUC на валидации: {knn_search.best_score_:.4f}\")"
   ]
  },
  {
   "cell_type": "markdown",
   "id": "bd60a2bf",
   "metadata": {},
   "source": [
    "#### `LogisticRegression`\n",
    "В этом блоке мы обучим модель `LogisticRegression` для задачи предсказания увольнения сотрудников. Для поиска наилучших параметров используем `GridSearchCV`, как это делали для `KNN`. Подбирать будем два гиперпараметра: тип регуляризации (`penalty`) и силу регуляризации (`C`). Оценка качества — метрика `ROC-AUC`."
   ]
  },
  {
   "cell_type": "code",
   "execution_count": 53,
   "id": "b1c45868",
   "metadata": {
    "scrolled": true
   },
   "outputs": [
    {
     "name": "stdout",
     "output_type": "stream",
     "text": [
      "Лучшие параметры LogisticRegression: {'classifier__C': 10, 'classifier__penalty': 'l2', 'classifier__solver': 'lbfgs'}\n",
      "Лучший ROC-AUC на валидации: 0.9165\n"
     ]
    }
   ],
   "source": [
    "from sklearn.linear_model import LogisticRegression\n",
    "\n",
    "# Сетка гиперпараметров для логистической регрессии\n",
    "logreg_params = {\n",
    "    'classifier__penalty': ['l2'],\n",
    "    'classifier__C': [0.01, 0.1, 1, 5, 10],\n",
    "    'classifier__solver': ['lbfgs']  # lbfgs поддерживает только l2\n",
    "}\n",
    "\n",
    "# Пайплайн для LogisticRegression\n",
    "logreg_pipeline = Pipeline([\n",
    "    ('preprocessor', preprocessor),\n",
    "    ('classifier', LogisticRegression(max_iter=1000, random_state=42))\n",
    "])\n",
    "\n",
    "# GridSearchCV для поиска лучших параметров\n",
    "logreg_search = GridSearchCV(\n",
    "    logreg_pipeline,\n",
    "    logreg_params,\n",
    "    cv=5,\n",
    "    scoring='roc_auc',\n",
    "    n_jobs=-1\n",
    ")\n",
    "logreg_search.fit(X_train_quit, y_train_quit)\n",
    "\n",
    "# Лучшие параметры и качество на кросс-валидации\n",
    "print(\"Лучшие параметры LogisticRegression:\", logreg_search.best_params_)\n",
    "print(f\"Лучший ROC-AUC на валидации: {logreg_search.best_score_:.4f}\")"
   ]
  },
  {
   "cell_type": "markdown",
   "id": "c8c8e8da",
   "metadata": {},
   "source": [
    "#### `DecisionTreeClassifier`\n",
    "В этом блоке мы построим модель `DecisionTreeClassifier` для задачи классификации с подбором двух ключевых гиперпараметров: максимальная глубина дерева (`max_depth`) и минимальное число объектов в листе (`min_samples_leaf`). Оценка — `ROC-AUC`."
   ]
  },
  {
   "cell_type": "code",
   "execution_count": 54,
   "id": "c23e26cd",
   "metadata": {},
   "outputs": [
    {
     "name": "stdout",
     "output_type": "stream",
     "text": [
      "Лучшие параметры DecisionTreeClassifier: {'classifier__max_depth': None, 'classifier__min_samples_leaf': 10}\n",
      "Лучший ROC-AUC на валидации: 0.9336\n"
     ]
    }
   ],
   "source": [
    "# Сетка гиперпараметров для дерева решений\n",
    "tree_params = {\n",
    "    'classifier__max_depth': [3, 5, 7, 10, None],\n",
    "    'classifier__min_samples_leaf': [1, 3, 5, 10]\n",
    "}\n",
    "\n",
    "# Пайплайн для DecisionTreeClassifier\n",
    "tree_pipeline = Pipeline([\n",
    "    ('preprocessor', preprocessor),\n",
    "    ('classifier', DecisionTreeClassifier(random_state=42))\n",
    "])\n",
    "\n",
    "# GridSearchCV для поиска лучших параметров\n",
    "tree_search = GridSearchCV(\n",
    "    tree_pipeline,\n",
    "    tree_params,\n",
    "    cv=5,\n",
    "    scoring='roc_auc',\n",
    "    n_jobs=-1\n",
    ")\n",
    "tree_search.fit(X_train_quit, y_train_quit)\n",
    "\n",
    "# Лучшие параметры и качество на кросс-валидации\n",
    "print(\"Лучшие параметры DecisionTreeClassifier:\", tree_search.best_params_)\n",
    "print(f\"Лучший ROC-AUC на валидации: {tree_search.best_score_:.4f}\")"
   ]
  },
  {
   "cell_type": "markdown",
   "id": "487cc7ea",
   "metadata": {},
   "source": [
    "### Сравнение моделей и выбор лучшей\n",
    "\n",
    "Для задачи классификации «уволившихся сотрудников» были обучены три модели: KNeighborsClassifier, LogisticRegression и DecisionTreeClassifier. Для каждой модели был проведён подбор гиперпараметров с помощью GridSearchCV. Актуальные результаты представлены в таблице ниже.\n",
    "\n",
    "| Модель                     | Лучшие гиперпараметры                              | ROC-AUC (валидация) |\n",
    "|----------------------------|---------------------------------------------------|---------------------|\n",
    "| **KNeighborsClassifier**   | `n_neighbors: 7`                                  | 0.9258              |\n",
    "| **LogisticRegression**     | `C: 10`, `penalty: l2`, `solver: lbfgs`           | 0.9165              |\n",
    "| **DecisionTreeClassifier** | `max_depth: None`, `min_samples_leaf: 10`         | **0.9336**          |\n",
    "\n",
    "**Комментарий:**  \n",
    "- DecisionTreeClassifier показал наилучший результат ROC-AUC на кросс-валидации.\n",
    "- Гиперпараметры каждой модели приведены в таблице выше.\n",
    "- Для финальной проверки и интерпретации результатов будет выбрана модель DecisionTreeClassifier, как показавшая максимальное качество на валидации."
   ]
  },
  {
   "cell_type": "code",
   "execution_count": 55,
   "id": "fb38eb7c",
   "metadata": {},
   "outputs": [
    {
     "name": "stdout",
     "output_type": "stream",
     "text": [
      "ROC-AUC DecisionTreeClassifier на тесте: 0.9213\n"
     ]
    },
    {
     "name": "stderr",
     "output_type": "stream",
     "text": [
      "/opt/conda/lib/python3.9/site-packages/sklearn/preprocessing/_encoders.py:188: UserWarning: Found unknown categories in columns [0] during transform. These unknown categories will be encoded as all zeros\n",
      "  warnings.warn(\n"
     ]
    }
   ],
   "source": [
    "# Оценка DecisionTreeClassifier на тестовой выборке\n",
    "y_pred_tree_proba = tree_search.predict_proba(X_test_quit)[:, 1]\n",
    "roc_auc_tree = roc_auc_score(y_test_quit, y_pred_tree_proba)\n",
    "print(f\"ROC-AUC DecisionTreeClassifier на тесте: {roc_auc_tree:.4f}\")"
   ]
  },
  {
   "cell_type": "markdown",
   "id": "168aaa97",
   "metadata": {},
   "source": [
    "Для финальной проверки качества выбранной модели DecisionTreeClassifier была рассчитана метрика ROC-AUC на тестовой выборке. Полученное значение ROC-AUC на тесте составило **0.9213**, что превышает установленный критерий успешности (ROC-AUC ≥ 0.91).\n",
    "\n",
    "**Вывод:**  \n",
    "Модель DecisionTreeClassifier показывает высокую обобщающую способность и успешно справляется с задачей предсказания увольнения сотрудников, демонстрируя стабильное качество как на валидации, так и на тесте."
   ]
  },
  {
   "cell_type": "markdown",
   "id": "fef84f59",
   "metadata": {},
   "source": [
    "## Общий вывод\n",
    "\n",
    "**1. Описание задачи**\n",
    "\n",
    "В рамках проекта были решены две задачи на реальных HR-данных:\n",
    "- **Задача 1:** Предсказать уровень удовлетворённости сотрудников работой (`job_satisfaction_rate`) по характеристикам сотрудников.\n",
    "- **Задача 2:** Предсказать факт увольнения сотрудника (`quit`) по признакам, включая предсказанную моделью удовлетворённость.\n",
    "\n",
    "**2. Этапы работы**\n",
    "\n",
    "1. **Анализ данных:**  \n",
    "   - Проведен разведочный анализ: определены числовые и категориальные признаки, обработаны пропуски, изучены распределения.\n",
    "   - Построены портреты уволившихся сотрудников, выявлены закономерности по признакам.\n",
    "\n",
    "2. **Моделирование и оценка качества:**  \n",
    "   - Для первой задачи построены модели регрессии (DecisionTreeRegressor, Ridge), метрика SMAPE.\n",
    "   - Для второй задачи обучены KNeighborsClassifier, LogisticRegression и DecisionTreeClassifier, метрика ROC-AUC, подбор гиперпараметров через GridSearchCV.\n",
    "   - Для предотвращения утечек реализована грамотная обработка данных через пайплайн scikit-learn.\n",
    "   - В модели классификации использован новый признак — предсказанная удовлетворённость (`job_satisfaction_rate_pred`).\n",
    "\n",
    "3. **Проверка стабильности:**  \n",
    "   - Сравнены распределения признаков и целевой переменной между train/test, подтверждена сопоставимость выборок.\n",
    "   - Проверены дубликаты после удаления идентификаторов, проведён финальный анализ корреляций.\n",
    "\n",
    "4. **Результаты и выбор лучшей модели:**  \n",
    "   - Для задачи регрессии: SMAPE дерева на тесте — **14.55**.\n",
    "   - Для задачи классификации: лучшая модель — **DecisionTreeClassifier** с ROC-AUC **0.9336** на валидации (и **0.9213** на тесте).\n",
    "\n",
    "**3. Ключевые бизнес-выводы**\n",
    "\n",
    "- **Портрет уволившегося сотрудника:**\n",
    "  - *Департаменты:* Наибольшая доля увольнений в отделах технологий (29.7%), продаж (28.3%), purchasing (28.2%), маркетинга (28.0%) и HR (25.0%).\n",
    "  - *Загруженность:* Самая высокая доля увольнений среди сотрудников с низкой загруженностью (43.0%), затем — со средней (23.0%) и высокой (18.0%).\n",
    "  - *Зарплата:* Уволившиеся получают значительно ниже: **23 885** против **37 702** у оставшихся.\n",
    "  - *Удовлетворённость работой:* У уволившихся отмечены низкие значения job_satisfaction_rate.\n",
    "\n",
    "**4. Практические рекомендации**\n",
    "\n",
    "- **Контролировать зарплаты** в департаментах с риском: проводить регулярный мониторинг, корректировать доходы.\n",
    "- **Работать с \"скучающей текучкой\":** усиливать вовлечённость, разнообразие задач, проекты и ротацию для сотрудников с низкой/средней загрузкой.\n",
    "- **Фокусироваться на удовлетворённости:** развивать обратную связь, корпоративную культуру, гибкие условия роста и развития.\n",
    "- **Анализировать отделы с высоким риском:** проводить встречи с руководством, выявлять и устранять локальные причины неудовлетворённости.\n",
    "- **Использовать модели ML для проактивного удержания:** определять \"группы риска\", организовывать адресные мероприятия HR.\n",
    "\n",
    "**5. Итог**\n",
    "\n",
    "Реализация комплексного анализа и моделей позволила не только точно прогнозировать увольнение, но и сформировать конкретные направления для повышения удержания сотрудников. Использование данных и ML — ключевой инструмент для проактивного управления персоналом.\n"
   ]
  }
 ],
 "metadata": {
  "ExecuteTimeLog": [
   {
    "duration": 393,
    "start_time": "2025-06-30T07:01:08.903Z"
   },
   {
    "duration": 456,
    "start_time": "2025-06-30T07:01:18.101Z"
   },
   {
    "duration": 3,
    "start_time": "2025-06-30T07:01:25.143Z"
   },
   {
    "duration": 593,
    "start_time": "2025-06-30T07:01:35.265Z"
   },
   {
    "duration": 149,
    "start_time": "2025-06-30T07:15:07.672Z"
   },
   {
    "duration": 24,
    "start_time": "2025-06-30T07:15:55.560Z"
   },
   {
    "duration": 33,
    "start_time": "2025-06-30T07:16:37.622Z"
   },
   {
    "duration": 41,
    "start_time": "2025-06-30T07:16:59.231Z"
   },
   {
    "duration": 44,
    "start_time": "2025-06-30T07:20:24.120Z"
   },
   {
    "duration": 25,
    "start_time": "2025-06-30T07:23:35.593Z"
   },
   {
    "duration": 37,
    "start_time": "2025-06-30T07:23:53.372Z"
   },
   {
    "duration": 16,
    "start_time": "2025-06-30T07:23:54.022Z"
   },
   {
    "duration": 38,
    "start_time": "2025-06-30T07:26:10.544Z"
   },
   {
    "duration": 9,
    "start_time": "2025-06-30T07:27:30.212Z"
   },
   {
    "duration": 7,
    "start_time": "2025-06-30T07:28:33.773Z"
   },
   {
    "duration": 46,
    "start_time": "2025-07-06T11:08:07.994Z"
   },
   {
    "duration": 372,
    "start_time": "2025-07-06T11:08:12.044Z"
   },
   {
    "duration": 414,
    "start_time": "2025-07-06T11:08:12.418Z"
   },
   {
    "duration": 3,
    "start_time": "2025-07-06T11:08:12.834Z"
   },
   {
    "duration": 568,
    "start_time": "2025-07-06T11:08:12.838Z"
   },
   {
    "duration": 41,
    "start_time": "2025-07-06T11:08:13.408Z"
   },
   {
    "duration": 30,
    "start_time": "2025-07-06T11:08:13.451Z"
   },
   {
    "duration": 35,
    "start_time": "2025-07-06T11:08:13.483Z"
   },
   {
    "duration": 10,
    "start_time": "2025-07-06T11:08:13.520Z"
   },
   {
    "duration": 18,
    "start_time": "2025-07-06T11:08:13.532Z"
   },
   {
    "duration": 7,
    "start_time": "2025-07-06T11:08:13.552Z"
   },
   {
    "duration": 121,
    "start_time": "2025-07-06T11:11:07.072Z"
   },
   {
    "duration": 11,
    "start_time": "2025-07-06T11:11:27.453Z"
   },
   {
    "duration": 8,
    "start_time": "2025-07-06T11:13:12.098Z"
   },
   {
    "duration": 9,
    "start_time": "2025-07-06T11:13:16.732Z"
   },
   {
    "duration": 100,
    "start_time": "2025-07-06T11:13:32.327Z"
   },
   {
    "duration": 5,
    "start_time": "2025-07-06T11:15:51.125Z"
   },
   {
    "duration": 11,
    "start_time": "2025-07-06T11:19:46.168Z"
   },
   {
    "duration": 7,
    "start_time": "2025-07-06T11:20:16.166Z"
   },
   {
    "duration": 8,
    "start_time": "2025-07-06T11:22:31.069Z"
   },
   {
    "duration": 82,
    "start_time": "2025-07-06T11:22:45.388Z"
   },
   {
    "duration": 8,
    "start_time": "2025-07-06T11:23:18.917Z"
   },
   {
    "duration": 10,
    "start_time": "2025-07-06T11:23:39.868Z"
   },
   {
    "duration": 9,
    "start_time": "2025-07-06T11:27:39.037Z"
   },
   {
    "duration": 15,
    "start_time": "2025-07-06T11:27:49.077Z"
   },
   {
    "duration": 434,
    "start_time": "2025-07-06T11:28:03.785Z"
   },
   {
    "duration": 244,
    "start_time": "2025-07-06T11:28:04.222Z"
   },
   {
    "duration": 2,
    "start_time": "2025-07-06T11:28:04.467Z"
   },
   {
    "duration": 587,
    "start_time": "2025-07-06T11:28:04.471Z"
   },
   {
    "duration": 43,
    "start_time": "2025-07-06T11:28:05.060Z"
   },
   {
    "duration": 32,
    "start_time": "2025-07-06T11:28:05.104Z"
   },
   {
    "duration": 35,
    "start_time": "2025-07-06T11:28:05.138Z"
   },
   {
    "duration": 10,
    "start_time": "2025-07-06T11:28:05.174Z"
   },
   {
    "duration": 39,
    "start_time": "2025-07-06T11:28:05.185Z"
   },
   {
    "duration": 7,
    "start_time": "2025-07-06T11:28:05.226Z"
   },
   {
    "duration": 18,
    "start_time": "2025-07-06T11:28:05.234Z"
   },
   {
    "duration": 8,
    "start_time": "2025-07-06T11:28:05.253Z"
   },
   {
    "duration": 17,
    "start_time": "2025-07-06T11:28:05.262Z"
   },
   {
    "duration": 10,
    "start_time": "2025-07-06T11:28:05.282Z"
   },
   {
    "duration": 9,
    "start_time": "2025-07-06T11:28:05.293Z"
   },
   {
    "duration": 22,
    "start_time": "2025-07-06T11:28:05.304Z"
   },
   {
    "duration": 6,
    "start_time": "2025-07-06T11:28:05.327Z"
   },
   {
    "duration": 16,
    "start_time": "2025-07-06T11:28:05.335Z"
   },
   {
    "duration": 16,
    "start_time": "2025-07-06T11:28:05.353Z"
   },
   {
    "duration": 21,
    "start_time": "2025-07-06T11:30:40.854Z"
   },
   {
    "duration": 6,
    "start_time": "2025-07-06T11:31:19.725Z"
   },
   {
    "duration": 6,
    "start_time": "2025-07-06T11:31:39.480Z"
   },
   {
    "duration": 177,
    "start_time": "2025-07-06T11:49:15.479Z"
   },
   {
    "duration": 164,
    "start_time": "2025-07-06T11:49:47.405Z"
   },
   {
    "duration": 22,
    "start_time": "2025-07-06T11:50:07.936Z"
   },
   {
    "duration": 12,
    "start_time": "2025-07-06T12:05:30.894Z"
   },
   {
    "duration": 776,
    "start_time": "2025-07-06T12:06:02.664Z"
   },
   {
    "duration": 751,
    "start_time": "2025-07-06T12:06:39.061Z"
   },
   {
    "duration": 718,
    "start_time": "2025-07-06T12:06:46.997Z"
   },
   {
    "duration": 873,
    "start_time": "2025-07-06T12:07:18.033Z"
   },
   {
    "duration": 789,
    "start_time": "2025-07-06T12:10:28.478Z"
   },
   {
    "duration": 787,
    "start_time": "2025-07-06T12:10:37.386Z"
   },
   {
    "duration": 966,
    "start_time": "2025-07-06T12:16:03.617Z"
   },
   {
    "duration": 390,
    "start_time": "2025-07-06T16:05:18.377Z"
   },
   {
    "duration": 252,
    "start_time": "2025-07-06T16:05:18.768Z"
   },
   {
    "duration": 2,
    "start_time": "2025-07-06T16:05:19.023Z"
   },
   {
    "duration": 603,
    "start_time": "2025-07-06T16:05:19.026Z"
   },
   {
    "duration": 40,
    "start_time": "2025-07-06T16:05:19.631Z"
   },
   {
    "duration": 38,
    "start_time": "2025-07-06T16:05:19.673Z"
   },
   {
    "duration": 38,
    "start_time": "2025-07-06T16:05:19.713Z"
   },
   {
    "duration": 78,
    "start_time": "2025-07-06T16:05:19.752Z"
   },
   {
    "duration": 7,
    "start_time": "2025-07-06T16:05:19.832Z"
   },
   {
    "duration": 27,
    "start_time": "2025-07-06T16:05:19.840Z"
   },
   {
    "duration": 20,
    "start_time": "2025-07-06T16:05:19.868Z"
   },
   {
    "duration": 10,
    "start_time": "2025-07-06T16:05:19.890Z"
   },
   {
    "duration": 7,
    "start_time": "2025-07-06T16:05:19.909Z"
   },
   {
    "duration": 12,
    "start_time": "2025-07-06T16:05:19.920Z"
   },
   {
    "duration": 30,
    "start_time": "2025-07-06T16:05:19.933Z"
   },
   {
    "duration": 7,
    "start_time": "2025-07-06T16:05:19.965Z"
   },
   {
    "duration": 10,
    "start_time": "2025-07-06T16:05:19.973Z"
   },
   {
    "duration": 10,
    "start_time": "2025-07-06T16:05:19.985Z"
   },
   {
    "duration": 23,
    "start_time": "2025-07-06T16:05:19.998Z"
   },
   {
    "duration": 29,
    "start_time": "2025-07-06T16:05:20.024Z"
   },
   {
    "duration": 22,
    "start_time": "2025-07-06T16:05:20.055Z"
   },
   {
    "duration": 6,
    "start_time": "2025-07-06T16:05:20.078Z"
   },
   {
    "duration": 39,
    "start_time": "2025-07-06T16:05:20.086Z"
   },
   {
    "duration": 782,
    "start_time": "2025-07-06T16:05:20.126Z"
   },
   {
    "duration": 935,
    "start_time": "2025-07-06T16:05:20.910Z"
   },
   {
    "duration": 436,
    "start_time": "2025-07-06T16:08:56.505Z"
   },
   {
    "duration": 2,
    "start_time": "2025-07-06T16:08:58.112Z"
   },
   {
    "duration": 3,
    "start_time": "2025-07-06T16:09:06.589Z"
   },
   {
    "duration": 3,
    "start_time": "2025-07-06T16:09:14.315Z"
   },
   {
    "duration": 40,
    "start_time": "2025-07-06T16:12:15.472Z"
   },
   {
    "duration": 5,
    "start_time": "2025-07-06T16:14:08.384Z"
   },
   {
    "duration": 5,
    "start_time": "2025-07-06T16:18:09.885Z"
   },
   {
    "duration": 5,
    "start_time": "2025-07-06T16:19:37.559Z"
   },
   {
    "duration": 4,
    "start_time": "2025-07-06T16:23:03.442Z"
   },
   {
    "duration": 13,
    "start_time": "2025-07-06T16:25:24.638Z"
   },
   {
    "duration": 3,
    "start_time": "2025-07-06T16:25:37.012Z"
   },
   {
    "duration": 6,
    "start_time": "2025-07-06T16:28:15.947Z"
   },
   {
    "duration": 3,
    "start_time": "2025-07-06T16:28:25.385Z"
   },
   {
    "duration": 84,
    "start_time": "2025-07-06T16:29:02.469Z"
   },
   {
    "duration": 28,
    "start_time": "2025-07-06T16:29:07.991Z"
   },
   {
    "duration": 3,
    "start_time": "2025-07-06T16:29:17.327Z"
   },
   {
    "duration": 21,
    "start_time": "2025-07-06T16:29:27.012Z"
   },
   {
    "duration": 3,
    "start_time": "2025-07-06T16:29:42.399Z"
   },
   {
    "duration": 2,
    "start_time": "2025-07-06T16:30:02.091Z"
   },
   {
    "duration": 499,
    "start_time": "2025-07-06T16:30:20.637Z"
   },
   {
    "duration": 417,
    "start_time": "2025-07-06T16:31:39.095Z"
   },
   {
    "duration": 243,
    "start_time": "2025-07-06T16:31:39.514Z"
   },
   {
    "duration": 2,
    "start_time": "2025-07-06T16:31:39.759Z"
   },
   {
    "duration": 556,
    "start_time": "2025-07-06T16:31:39.762Z"
   },
   {
    "duration": 220,
    "start_time": "2025-07-06T16:31:40.320Z"
   },
   {
    "duration": 2,
    "start_time": "2025-07-06T16:31:40.542Z"
   },
   {
    "duration": 10,
    "start_time": "2025-07-06T16:31:40.545Z"
   },
   {
    "duration": 24,
    "start_time": "2025-07-06T16:31:40.556Z"
   },
   {
    "duration": 24,
    "start_time": "2025-07-06T16:31:40.582Z"
   },
   {
    "duration": 2,
    "start_time": "2025-07-06T16:31:40.608Z"
   },
   {
    "duration": 21,
    "start_time": "2025-07-06T16:31:40.612Z"
   },
   {
    "duration": 3,
    "start_time": "2025-07-06T16:31:40.634Z"
   },
   {
    "duration": 51,
    "start_time": "2025-07-06T16:31:40.639Z"
   },
   {
    "duration": 33,
    "start_time": "2025-07-06T16:31:40.693Z"
   },
   {
    "duration": 37,
    "start_time": "2025-07-06T16:31:40.728Z"
   },
   {
    "duration": 11,
    "start_time": "2025-07-06T16:31:40.767Z"
   },
   {
    "duration": 8,
    "start_time": "2025-07-06T16:31:40.780Z"
   },
   {
    "duration": 9,
    "start_time": "2025-07-06T16:31:40.789Z"
   },
   {
    "duration": 9,
    "start_time": "2025-07-06T16:31:40.800Z"
   },
   {
    "duration": 17,
    "start_time": "2025-07-06T16:31:40.811Z"
   },
   {
    "duration": 5,
    "start_time": "2025-07-06T16:31:40.829Z"
   },
   {
    "duration": 12,
    "start_time": "2025-07-06T16:31:40.836Z"
   },
   {
    "duration": 9,
    "start_time": "2025-07-06T16:31:40.849Z"
   },
   {
    "duration": 41,
    "start_time": "2025-07-06T16:31:40.859Z"
   },
   {
    "duration": 24,
    "start_time": "2025-07-06T16:31:40.901Z"
   },
   {
    "duration": 10,
    "start_time": "2025-07-06T16:31:40.927Z"
   },
   {
    "duration": 14,
    "start_time": "2025-07-06T16:31:40.938Z"
   },
   {
    "duration": 15,
    "start_time": "2025-07-06T16:31:40.953Z"
   },
   {
    "duration": 12,
    "start_time": "2025-07-06T16:31:40.969Z"
   },
   {
    "duration": 16,
    "start_time": "2025-07-06T16:31:40.983Z"
   },
   {
    "duration": 14,
    "start_time": "2025-07-06T16:31:41.001Z"
   },
   {
    "duration": 797,
    "start_time": "2025-07-06T16:31:41.017Z"
   },
   {
    "duration": 1047,
    "start_time": "2025-07-06T16:31:41.816Z"
   },
   {
    "duration": 5,
    "start_time": "2025-07-06T16:31:42.865Z"
   },
   {
    "duration": 8,
    "start_time": "2025-07-06T16:31:42.872Z"
   },
   {
    "duration": 6,
    "start_time": "2025-07-06T16:31:42.882Z"
   },
   {
    "duration": 6,
    "start_time": "2025-07-06T16:31:42.889Z"
   },
   {
    "duration": 3,
    "start_time": "2025-07-06T16:31:42.897Z"
   },
   {
    "duration": 505,
    "start_time": "2025-07-06T16:31:42.902Z"
   },
   {
    "duration": 7,
    "start_time": "2025-07-06T16:33:03.688Z"
   },
   {
    "duration": 34,
    "start_time": "2025-07-06T16:33:37.244Z"
   },
   {
    "duration": 7618,
    "start_time": "2025-07-06T16:34:35.810Z"
   },
   {
    "duration": 381,
    "start_time": "2025-07-06T16:34:43.430Z"
   },
   {
    "duration": 247,
    "start_time": "2025-07-06T16:34:43.813Z"
   },
   {
    "duration": 3,
    "start_time": "2025-07-06T16:34:44.062Z"
   },
   {
    "duration": 549,
    "start_time": "2025-07-06T16:34:44.066Z"
   },
   {
    "duration": 51,
    "start_time": "2025-07-06T16:34:44.617Z"
   },
   {
    "duration": 3,
    "start_time": "2025-07-06T16:34:44.670Z"
   },
   {
    "duration": 6,
    "start_time": "2025-07-06T16:34:44.675Z"
   },
   {
    "duration": 35,
    "start_time": "2025-07-06T16:34:44.682Z"
   },
   {
    "duration": 42,
    "start_time": "2025-07-06T16:34:44.722Z"
   },
   {
    "duration": 4,
    "start_time": "2025-07-06T16:34:44.766Z"
   },
   {
    "duration": 34,
    "start_time": "2025-07-06T16:34:44.772Z"
   },
   {
    "duration": 3,
    "start_time": "2025-07-06T16:34:44.808Z"
   },
   {
    "duration": 48,
    "start_time": "2025-07-06T16:34:44.812Z"
   },
   {
    "duration": 32,
    "start_time": "2025-07-06T16:34:44.862Z"
   },
   {
    "duration": 36,
    "start_time": "2025-07-06T16:34:44.896Z"
   },
   {
    "duration": 12,
    "start_time": "2025-07-06T16:34:44.934Z"
   },
   {
    "duration": 13,
    "start_time": "2025-07-06T16:34:44.948Z"
   },
   {
    "duration": 11,
    "start_time": "2025-07-06T16:34:44.964Z"
   },
   {
    "duration": 22,
    "start_time": "2025-07-06T16:34:44.977Z"
   },
   {
    "duration": 10,
    "start_time": "2025-07-06T16:34:45.001Z"
   },
   {
    "duration": 65,
    "start_time": "2025-07-06T16:34:45.012Z"
   },
   {
    "duration": 124,
    "start_time": "2025-07-06T16:34:45.080Z"
   },
   {
    "duration": 36,
    "start_time": "2025-07-06T16:34:45.206Z"
   },
   {
    "duration": 9,
    "start_time": "2025-07-06T16:34:45.244Z"
   },
   {
    "duration": 30,
    "start_time": "2025-07-06T16:34:45.255Z"
   },
   {
    "duration": 25,
    "start_time": "2025-07-06T16:34:45.288Z"
   },
   {
    "duration": 23,
    "start_time": "2025-07-06T16:34:45.318Z"
   },
   {
    "duration": 23,
    "start_time": "2025-07-06T16:34:45.343Z"
   },
   {
    "duration": 26,
    "start_time": "2025-07-06T16:34:45.368Z"
   },
   {
    "duration": 95,
    "start_time": "2025-07-06T16:34:45.395Z"
   },
   {
    "duration": 14,
    "start_time": "2025-07-06T16:34:45.491Z"
   },
   {
    "duration": 775,
    "start_time": "2025-07-06T16:34:45.507Z"
   },
   {
    "duration": 967,
    "start_time": "2025-07-06T16:34:46.284Z"
   },
   {
    "duration": 4,
    "start_time": "2025-07-06T16:34:47.253Z"
   },
   {
    "duration": 68,
    "start_time": "2025-07-06T16:34:47.259Z"
   },
   {
    "duration": 29,
    "start_time": "2025-07-06T16:34:47.328Z"
   },
   {
    "duration": 27,
    "start_time": "2025-07-06T16:34:47.359Z"
   },
   {
    "duration": 120,
    "start_time": "2025-07-06T16:34:47.387Z"
   },
   {
    "duration": 1416,
    "start_time": "2025-07-06T16:34:47.509Z"
   },
   {
    "duration": 26885,
    "start_time": "2025-07-06T16:36:53.221Z"
   },
   {
    "duration": 304,
    "start_time": "2025-07-06T16:38:51.095Z"
   },
   {
    "duration": 60,
    "start_time": "2025-07-06T16:39:03.542Z"
   },
   {
    "duration": 17,
    "start_time": "2025-07-06T16:56:41.394Z"
   },
   {
    "duration": 11,
    "start_time": "2025-07-06T16:57:18.152Z"
   },
   {
    "duration": 2565,
    "start_time": "2025-07-06T16:57:40.061Z"
   },
   {
    "duration": 577,
    "start_time": "2025-07-06T16:57:42.628Z"
   },
   {
    "duration": 421,
    "start_time": "2025-07-06T16:57:43.207Z"
   },
   {
    "duration": 3,
    "start_time": "2025-07-06T16:57:43.629Z"
   },
   {
    "duration": 595,
    "start_time": "2025-07-06T16:57:43.634Z"
   },
   {
    "duration": 41,
    "start_time": "2025-07-06T16:57:44.230Z"
   },
   {
    "duration": 2,
    "start_time": "2025-07-06T16:57:44.273Z"
   },
   {
    "duration": 17,
    "start_time": "2025-07-06T16:57:44.277Z"
   },
   {
    "duration": 46,
    "start_time": "2025-07-06T16:57:44.296Z"
   },
   {
    "duration": 31,
    "start_time": "2025-07-06T16:57:44.343Z"
   },
   {
    "duration": 3,
    "start_time": "2025-07-06T16:57:44.376Z"
   },
   {
    "duration": 37,
    "start_time": "2025-07-06T16:57:44.380Z"
   },
   {
    "duration": 68,
    "start_time": "2025-07-06T16:57:44.419Z"
   },
   {
    "duration": 29,
    "start_time": "2025-07-06T16:57:44.490Z"
   },
   {
    "duration": 60,
    "start_time": "2025-07-06T16:57:44.521Z"
   },
   {
    "duration": 32,
    "start_time": "2025-07-06T16:57:44.582Z"
   },
   {
    "duration": 41,
    "start_time": "2025-07-06T16:57:44.616Z"
   },
   {
    "duration": 11,
    "start_time": "2025-07-06T16:57:44.658Z"
   },
   {
    "duration": 30,
    "start_time": "2025-07-06T16:57:44.671Z"
   },
   {
    "duration": 22,
    "start_time": "2025-07-06T16:57:44.702Z"
   },
   {
    "duration": 133,
    "start_time": "2025-07-06T16:57:44.726Z"
   },
   {
    "duration": 0,
    "start_time": "2025-07-06T16:57:44.860Z"
   },
   {
    "duration": 0,
    "start_time": "2025-07-06T16:57:44.862Z"
   },
   {
    "duration": 0,
    "start_time": "2025-07-06T16:57:44.863Z"
   },
   {
    "duration": 0,
    "start_time": "2025-07-06T16:57:44.864Z"
   },
   {
    "duration": 0,
    "start_time": "2025-07-06T16:57:44.865Z"
   },
   {
    "duration": 0,
    "start_time": "2025-07-06T16:57:44.866Z"
   },
   {
    "duration": 0,
    "start_time": "2025-07-06T16:57:44.867Z"
   },
   {
    "duration": 0,
    "start_time": "2025-07-06T16:57:44.868Z"
   },
   {
    "duration": 0,
    "start_time": "2025-07-06T16:57:44.869Z"
   },
   {
    "duration": 0,
    "start_time": "2025-07-06T16:57:44.870Z"
   },
   {
    "duration": 0,
    "start_time": "2025-07-06T16:57:44.871Z"
   },
   {
    "duration": 0,
    "start_time": "2025-07-06T16:57:44.872Z"
   },
   {
    "duration": 0,
    "start_time": "2025-07-06T16:57:44.873Z"
   },
   {
    "duration": 0,
    "start_time": "2025-07-06T16:57:44.898Z"
   },
   {
    "duration": 0,
    "start_time": "2025-07-06T16:57:44.899Z"
   },
   {
    "duration": 0,
    "start_time": "2025-07-06T16:57:44.901Z"
   },
   {
    "duration": 0,
    "start_time": "2025-07-06T16:57:44.902Z"
   },
   {
    "duration": 0,
    "start_time": "2025-07-06T16:57:44.903Z"
   },
   {
    "duration": 0,
    "start_time": "2025-07-06T16:57:44.904Z"
   },
   {
    "duration": 0,
    "start_time": "2025-07-06T16:57:44.905Z"
   },
   {
    "duration": 13,
    "start_time": "2025-07-06T16:58:58.665Z"
   },
   {
    "duration": 10,
    "start_time": "2025-07-06T16:59:09.074Z"
   },
   {
    "duration": 5,
    "start_time": "2025-07-06T17:00:04.739Z"
   },
   {
    "duration": 2459,
    "start_time": "2025-07-06T17:00:34.554Z"
   },
   {
    "duration": 593,
    "start_time": "2025-07-06T17:00:37.015Z"
   },
   {
    "duration": 411,
    "start_time": "2025-07-06T17:00:37.610Z"
   },
   {
    "duration": 2,
    "start_time": "2025-07-06T17:00:38.023Z"
   },
   {
    "duration": 896,
    "start_time": "2025-07-06T17:00:38.027Z"
   },
   {
    "duration": 39,
    "start_time": "2025-07-06T17:00:38.925Z"
   },
   {
    "duration": 3,
    "start_time": "2025-07-06T17:00:38.966Z"
   },
   {
    "duration": 9,
    "start_time": "2025-07-06T17:00:38.970Z"
   },
   {
    "duration": 23,
    "start_time": "2025-07-06T17:00:38.981Z"
   },
   {
    "duration": 24,
    "start_time": "2025-07-06T17:00:39.006Z"
   },
   {
    "duration": 3,
    "start_time": "2025-07-06T17:00:39.032Z"
   },
   {
    "duration": 21,
    "start_time": "2025-07-06T17:00:39.036Z"
   },
   {
    "duration": 2,
    "start_time": "2025-07-06T17:00:39.059Z"
   },
   {
    "duration": 33,
    "start_time": "2025-07-06T17:00:39.065Z"
   },
   {
    "duration": 44,
    "start_time": "2025-07-06T17:00:39.100Z"
   },
   {
    "duration": 31,
    "start_time": "2025-07-06T17:00:39.145Z"
   },
   {
    "duration": 37,
    "start_time": "2025-07-06T17:00:39.177Z"
   },
   {
    "duration": 55,
    "start_time": "2025-07-06T17:00:39.215Z"
   },
   {
    "duration": 8,
    "start_time": "2025-07-06T17:00:39.272Z"
   },
   {
    "duration": 10,
    "start_time": "2025-07-06T17:00:39.282Z"
   },
   {
    "duration": 11,
    "start_time": "2025-07-06T17:00:39.293Z"
   },
   {
    "duration": 3,
    "start_time": "2025-07-06T17:00:39.306Z"
   },
   {
    "duration": 31,
    "start_time": "2025-07-06T17:00:39.311Z"
   },
   {
    "duration": 7,
    "start_time": "2025-07-06T17:00:39.344Z"
   },
   {
    "duration": 7,
    "start_time": "2025-07-06T17:00:39.353Z"
   },
   {
    "duration": 14,
    "start_time": "2025-07-06T17:00:39.361Z"
   },
   {
    "duration": 31,
    "start_time": "2025-07-06T17:00:39.377Z"
   },
   {
    "duration": 16,
    "start_time": "2025-07-06T17:00:39.410Z"
   },
   {
    "duration": 50,
    "start_time": "2025-07-06T17:00:39.428Z"
   },
   {
    "duration": 6,
    "start_time": "2025-07-06T17:00:39.480Z"
   },
   {
    "duration": 80,
    "start_time": "2025-07-06T17:00:39.488Z"
   },
   {
    "duration": 777,
    "start_time": "2025-07-06T17:00:39.570Z"
   },
   {
    "duration": 994,
    "start_time": "2025-07-06T17:00:40.349Z"
   },
   {
    "duration": 5,
    "start_time": "2025-07-06T17:00:41.345Z"
   },
   {
    "duration": 16,
    "start_time": "2025-07-06T17:00:41.351Z"
   },
   {
    "duration": 6,
    "start_time": "2025-07-06T17:00:41.369Z"
   },
   {
    "duration": 5,
    "start_time": "2025-07-06T17:00:41.377Z"
   },
   {
    "duration": 8,
    "start_time": "2025-07-06T17:00:41.383Z"
   },
   {
    "duration": 3454,
    "start_time": "2025-07-06T17:00:41.393Z"
   },
   {
    "duration": 34114,
    "start_time": "2025-07-06T17:00:44.898Z"
   },
   {
    "duration": 201,
    "start_time": "2025-07-06T17:01:19.017Z"
   },
   {
    "duration": 2601,
    "start_time": "2025-07-06T17:29:29.126Z"
   },
   {
    "duration": 11,
    "start_time": "2025-07-06T17:30:14.055Z"
   },
   {
    "duration": 9,
    "start_time": "2025-07-06T17:30:26.579Z"
   },
   {
    "duration": 221,
    "start_time": "2025-07-06T17:30:47.871Z"
   },
   {
    "duration": 4,
    "start_time": "2025-07-06T17:31:04.528Z"
   },
   {
    "duration": 1701,
    "start_time": "2025-07-06T17:31:23.175Z"
   },
   {
    "duration": 233,
    "start_time": "2025-07-06T18:19:11.667Z"
   },
   {
    "duration": 7003,
    "start_time": "2025-07-08T07:12:51.252Z"
   },
   {
    "duration": 411,
    "start_time": "2025-07-08T07:12:58.257Z"
   },
   {
    "duration": 433,
    "start_time": "2025-07-08T07:12:58.669Z"
   },
   {
    "duration": 2,
    "start_time": "2025-07-08T07:12:59.104Z"
   },
   {
    "duration": 576,
    "start_time": "2025-07-08T07:12:59.109Z"
   },
   {
    "duration": 54,
    "start_time": "2025-07-08T07:12:59.687Z"
   },
   {
    "duration": 3,
    "start_time": "2025-07-08T07:12:59.743Z"
   },
   {
    "duration": 4,
    "start_time": "2025-07-08T07:12:59.748Z"
   },
   {
    "duration": 19,
    "start_time": "2025-07-08T07:12:59.753Z"
   },
   {
    "duration": 28,
    "start_time": "2025-07-08T07:12:59.774Z"
   },
   {
    "duration": 3,
    "start_time": "2025-07-08T07:12:59.804Z"
   },
   {
    "duration": 44,
    "start_time": "2025-07-08T07:12:59.809Z"
   },
   {
    "duration": 4,
    "start_time": "2025-07-08T07:12:59.855Z"
   },
   {
    "duration": 10,
    "start_time": "2025-07-08T07:12:59.863Z"
   },
   {
    "duration": 50,
    "start_time": "2025-07-08T07:12:59.875Z"
   },
   {
    "duration": 33,
    "start_time": "2025-07-08T07:12:59.927Z"
   },
   {
    "duration": 38,
    "start_time": "2025-07-08T07:12:59.962Z"
   },
   {
    "duration": 11,
    "start_time": "2025-07-08T07:13:00.002Z"
   },
   {
    "duration": 45,
    "start_time": "2025-07-08T07:13:00.015Z"
   },
   {
    "duration": 16,
    "start_time": "2025-07-08T07:13:00.062Z"
   },
   {
    "duration": 83,
    "start_time": "2025-07-08T07:13:00.080Z"
   },
   {
    "duration": 16,
    "start_time": "2025-07-08T07:13:00.165Z"
   },
   {
    "duration": 49,
    "start_time": "2025-07-08T07:13:00.183Z"
   },
   {
    "duration": 26,
    "start_time": "2025-07-08T07:13:00.233Z"
   },
   {
    "duration": 37,
    "start_time": "2025-07-08T07:13:00.262Z"
   },
   {
    "duration": 33,
    "start_time": "2025-07-08T07:13:00.301Z"
   },
   {
    "duration": 22,
    "start_time": "2025-07-08T07:13:00.337Z"
   },
   {
    "duration": 10,
    "start_time": "2025-07-08T07:13:00.361Z"
   },
   {
    "duration": 27,
    "start_time": "2025-07-08T07:13:00.372Z"
   },
   {
    "duration": 18,
    "start_time": "2025-07-08T07:13:00.401Z"
   },
   {
    "duration": 24,
    "start_time": "2025-07-08T07:13:00.421Z"
   },
   {
    "duration": 922,
    "start_time": "2025-07-08T07:13:00.447Z"
   },
   {
    "duration": 1072,
    "start_time": "2025-07-08T07:13:01.370Z"
   },
   {
    "duration": 6,
    "start_time": "2025-07-08T07:13:02.444Z"
   },
   {
    "duration": 28,
    "start_time": "2025-07-08T07:13:02.452Z"
   },
   {
    "duration": 13,
    "start_time": "2025-07-08T07:13:02.482Z"
   },
   {
    "duration": 9,
    "start_time": "2025-07-08T07:13:02.497Z"
   },
   {
    "duration": 166,
    "start_time": "2025-07-08T07:13:02.507Z"
   },
   {
    "duration": 0,
    "start_time": "2025-07-08T07:13:02.675Z"
   },
   {
    "duration": 0,
    "start_time": "2025-07-08T07:13:02.677Z"
   },
   {
    "duration": 0,
    "start_time": "2025-07-08T07:13:02.678Z"
   },
   {
    "duration": 2070,
    "start_time": "2025-07-08T07:16:22.705Z"
   },
   {
    "duration": 33845,
    "start_time": "2025-07-08T07:16:30.714Z"
   },
   {
    "duration": 37,
    "start_time": "2025-07-08T07:17:15.414Z"
   },
   {
    "duration": 49,
    "start_time": "2025-07-08T07:31:06.134Z"
   },
   {
    "duration": 20,
    "start_time": "2025-07-08T07:35:41.287Z"
   },
   {
    "duration": 37,
    "start_time": "2025-07-08T07:36:37.290Z"
   },
   {
    "duration": 7,
    "start_time": "2025-07-08T07:38:47.943Z"
   },
   {
    "duration": 9,
    "start_time": "2025-07-08T07:39:23.024Z"
   },
   {
    "duration": 14,
    "start_time": "2025-07-08T07:40:56.864Z"
   },
   {
    "duration": 4,
    "start_time": "2025-07-08T07:41:57.944Z"
   },
   {
    "duration": 6,
    "start_time": "2025-07-08T07:47:34.384Z"
   },
   {
    "duration": 6,
    "start_time": "2025-07-08T07:47:42.684Z"
   },
   {
    "duration": 6,
    "start_time": "2025-07-08T07:48:27.595Z"
   },
   {
    "duration": 7,
    "start_time": "2025-07-08T07:48:58.774Z"
   },
   {
    "duration": 12,
    "start_time": "2025-07-08T07:56:58.313Z"
   },
   {
    "duration": 627,
    "start_time": "2025-07-08T07:59:53.684Z"
   },
   {
    "duration": 116,
    "start_time": "2025-07-08T08:03:57.704Z"
   },
   {
    "duration": 941,
    "start_time": "2025-07-08T08:15:59.649Z"
   },
   {
    "duration": 2655,
    "start_time": "2025-07-08T08:50:20.198Z"
   },
   {
    "duration": 439,
    "start_time": "2025-07-08T08:50:22.856Z"
   },
   {
    "duration": 291,
    "start_time": "2025-07-08T08:50:23.297Z"
   },
   {
    "duration": 4,
    "start_time": "2025-07-08T08:50:23.590Z"
   },
   {
    "duration": 597,
    "start_time": "2025-07-08T08:50:23.596Z"
   },
   {
    "duration": 53,
    "start_time": "2025-07-08T08:50:24.196Z"
   },
   {
    "duration": 3,
    "start_time": "2025-07-08T08:50:24.251Z"
   },
   {
    "duration": 35,
    "start_time": "2025-07-08T08:50:24.255Z"
   },
   {
    "duration": 17,
    "start_time": "2025-07-08T08:50:24.292Z"
   },
   {
    "duration": 26,
    "start_time": "2025-07-08T08:50:24.312Z"
   },
   {
    "duration": 3,
    "start_time": "2025-07-08T08:50:24.340Z"
   },
   {
    "duration": 26,
    "start_time": "2025-07-08T08:50:24.345Z"
   },
   {
    "duration": 4,
    "start_time": "2025-07-08T08:50:24.373Z"
   },
   {
    "duration": 5,
    "start_time": "2025-07-08T08:50:24.379Z"
   },
   {
    "duration": 53,
    "start_time": "2025-07-08T08:50:24.385Z"
   },
   {
    "duration": 32,
    "start_time": "2025-07-08T08:50:24.440Z"
   },
   {
    "duration": 37,
    "start_time": "2025-07-08T08:50:24.474Z"
   },
   {
    "duration": 11,
    "start_time": "2025-07-08T08:50:24.513Z"
   },
   {
    "duration": 14,
    "start_time": "2025-07-08T08:50:24.526Z"
   },
   {
    "duration": 15,
    "start_time": "2025-07-08T08:50:24.541Z"
   },
   {
    "duration": 19,
    "start_time": "2025-07-08T08:50:24.557Z"
   },
   {
    "duration": 5,
    "start_time": "2025-07-08T08:50:24.577Z"
   },
   {
    "duration": 13,
    "start_time": "2025-07-08T08:50:24.583Z"
   },
   {
    "duration": 127,
    "start_time": "2025-07-08T08:50:24.597Z"
   },
   {
    "duration": 10,
    "start_time": "2025-07-08T08:50:24.726Z"
   },
   {
    "duration": 16,
    "start_time": "2025-07-08T08:50:24.739Z"
   },
   {
    "duration": 26,
    "start_time": "2025-07-08T08:50:24.758Z"
   },
   {
    "duration": 11,
    "start_time": "2025-07-08T08:50:24.789Z"
   },
   {
    "duration": 39,
    "start_time": "2025-07-08T08:50:24.801Z"
   },
   {
    "duration": 78,
    "start_time": "2025-07-08T08:50:24.842Z"
   },
   {
    "duration": 12,
    "start_time": "2025-07-08T08:50:24.921Z"
   },
   {
    "duration": 806,
    "start_time": "2025-07-08T08:50:24.934Z"
   },
   {
    "duration": 1084,
    "start_time": "2025-07-08T08:50:25.742Z"
   },
   {
    "duration": 6,
    "start_time": "2025-07-08T08:50:26.828Z"
   },
   {
    "duration": 98,
    "start_time": "2025-07-08T08:50:26.836Z"
   },
   {
    "duration": 4,
    "start_time": "2025-07-08T08:50:26.936Z"
   },
   {
    "duration": 114,
    "start_time": "2025-07-08T08:50:26.942Z"
   },
   {
    "duration": 2098,
    "start_time": "2025-07-08T08:50:27.058Z"
   },
   {
    "duration": 32904,
    "start_time": "2025-07-08T08:50:29.158Z"
   },
   {
    "duration": 75,
    "start_time": "2025-07-08T08:51:02.064Z"
   },
   {
    "duration": 119,
    "start_time": "2025-07-08T08:51:02.143Z"
   },
   {
    "duration": 20,
    "start_time": "2025-07-08T08:51:02.263Z"
   },
   {
    "duration": 64,
    "start_time": "2025-07-08T08:51:02.284Z"
   },
   {
    "duration": 6,
    "start_time": "2025-07-08T08:51:02.350Z"
   },
   {
    "duration": 32,
    "start_time": "2025-07-08T08:51:02.358Z"
   },
   {
    "duration": 34,
    "start_time": "2025-07-08T08:51:02.392Z"
   },
   {
    "duration": 27,
    "start_time": "2025-07-08T08:51:02.428Z"
   },
   {
    "duration": 13,
    "start_time": "2025-07-08T08:51:02.457Z"
   },
   {
    "duration": 32,
    "start_time": "2025-07-08T08:51:02.472Z"
   },
   {
    "duration": 12,
    "start_time": "2025-07-08T08:51:02.505Z"
   },
   {
    "duration": 36,
    "start_time": "2025-07-08T08:51:02.519Z"
   },
   {
    "duration": 624,
    "start_time": "2025-07-08T08:51:02.558Z"
   },
   {
    "duration": 947,
    "start_time": "2025-07-08T08:51:03.184Z"
   },
   {
    "duration": 1234,
    "start_time": "2025-07-08T08:51:15.374Z"
   },
   {
    "duration": 12,
    "start_time": "2025-07-08T08:55:27.103Z"
   },
   {
    "duration": 415,
    "start_time": "2025-07-08T08:57:11.263Z"
   },
   {
    "duration": 388,
    "start_time": "2025-07-08T08:58:27.723Z"
   },
   {
    "duration": 386,
    "start_time": "2025-07-08T08:59:51.313Z"
   },
   {
    "duration": 551,
    "start_time": "2025-07-08T09:00:01.133Z"
   },
   {
    "duration": 257,
    "start_time": "2025-07-08T09:09:37.708Z"
   },
   {
    "duration": 32,
    "start_time": "2025-07-08T09:43:45.321Z"
   },
   {
    "duration": 13,
    "start_time": "2025-07-08T09:45:59.148Z"
   },
   {
    "duration": 113,
    "start_time": "2025-07-08T09:46:12.672Z"
   },
   {
    "duration": 13,
    "start_time": "2025-07-08T09:46:51.371Z"
   },
   {
    "duration": 13,
    "start_time": "2025-07-08T09:47:11.312Z"
   },
   {
    "duration": 11,
    "start_time": "2025-07-08T09:47:23.362Z"
   },
   {
    "duration": 12,
    "start_time": "2025-07-08T09:47:37.921Z"
   },
   {
    "duration": 13,
    "start_time": "2025-07-08T09:51:42.697Z"
   },
   {
    "duration": 97,
    "start_time": "2025-07-08T10:20:32.283Z"
   },
   {
    "duration": 2,
    "start_time": "2025-07-08T10:21:03.010Z"
   },
   {
    "duration": 3,
    "start_time": "2025-07-08T10:21:10.799Z"
   },
   {
    "duration": 95,
    "start_time": "2025-07-08T10:21:16.972Z"
   },
   {
    "duration": 96,
    "start_time": "2025-07-08T10:21:33.092Z"
   },
   {
    "duration": 1241,
    "start_time": "2025-07-08T10:22:30.797Z"
   },
   {
    "duration": 1115,
    "start_time": "2025-07-08T10:23:30.514Z"
   },
   {
    "duration": 13696,
    "start_time": "2025-07-08T10:27:49.646Z"
   },
   {
    "duration": 13,
    "start_time": "2025-07-08T10:32:25.034Z"
   },
   {
    "duration": 3,
    "start_time": "2025-07-08T10:32:47.552Z"
   },
   {
    "duration": 4009,
    "start_time": "2025-07-08T10:32:51.124Z"
   },
   {
    "duration": 8140,
    "start_time": "2025-07-08T12:27:42.690Z"
   },
   {
    "duration": 369,
    "start_time": "2025-07-08T12:27:50.833Z"
   },
   {
    "duration": 424,
    "start_time": "2025-07-08T12:27:51.203Z"
   },
   {
    "duration": 3,
    "start_time": "2025-07-08T12:27:51.629Z"
   },
   {
    "duration": 565,
    "start_time": "2025-07-08T12:27:51.633Z"
   },
   {
    "duration": 42,
    "start_time": "2025-07-08T12:27:52.200Z"
   },
   {
    "duration": 3,
    "start_time": "2025-07-08T12:27:52.243Z"
   },
   {
    "duration": 9,
    "start_time": "2025-07-08T12:27:52.247Z"
   },
   {
    "duration": 23,
    "start_time": "2025-07-08T12:27:52.258Z"
   },
   {
    "duration": 26,
    "start_time": "2025-07-08T12:27:52.283Z"
   },
   {
    "duration": 3,
    "start_time": "2025-07-08T12:27:52.310Z"
   },
   {
    "duration": 29,
    "start_time": "2025-07-08T12:27:52.314Z"
   },
   {
    "duration": 3,
    "start_time": "2025-07-08T12:27:52.344Z"
   },
   {
    "duration": 6,
    "start_time": "2025-07-08T12:27:52.348Z"
   },
   {
    "duration": 21,
    "start_time": "2025-07-08T12:27:52.355Z"
   },
   {
    "duration": 5,
    "start_time": "2025-07-08T12:27:52.377Z"
   },
   {
    "duration": 5,
    "start_time": "2025-07-08T12:27:52.384Z"
   },
   {
    "duration": 56,
    "start_time": "2025-07-08T12:27:52.391Z"
   },
   {
    "duration": 33,
    "start_time": "2025-07-08T12:27:52.449Z"
   },
   {
    "duration": 84,
    "start_time": "2025-07-08T12:27:52.484Z"
   },
   {
    "duration": 11,
    "start_time": "2025-07-08T12:27:52.570Z"
   },
   {
    "duration": 20,
    "start_time": "2025-07-08T12:27:52.583Z"
   },
   {
    "duration": 23,
    "start_time": "2025-07-08T12:27:52.605Z"
   },
   {
    "duration": 12,
    "start_time": "2025-07-08T12:27:52.630Z"
   },
   {
    "duration": 21,
    "start_time": "2025-07-08T12:27:52.643Z"
   },
   {
    "duration": 85,
    "start_time": "2025-07-08T12:27:52.665Z"
   },
   {
    "duration": 15,
    "start_time": "2025-07-08T12:27:52.752Z"
   },
   {
    "duration": 8,
    "start_time": "2025-07-08T12:27:52.771Z"
   },
   {
    "duration": 16,
    "start_time": "2025-07-08T12:27:52.781Z"
   },
   {
    "duration": 19,
    "start_time": "2025-07-08T12:27:52.799Z"
   },
   {
    "duration": 21,
    "start_time": "2025-07-08T12:27:52.820Z"
   },
   {
    "duration": 15,
    "start_time": "2025-07-08T12:27:52.842Z"
   },
   {
    "duration": 8,
    "start_time": "2025-07-08T12:27:52.859Z"
   },
   {
    "duration": 11,
    "start_time": "2025-07-08T12:27:52.869Z"
   },
   {
    "duration": 897,
    "start_time": "2025-07-08T12:27:52.882Z"
   },
   {
    "duration": 1031,
    "start_time": "2025-07-08T12:27:53.781Z"
   },
   {
    "duration": 6,
    "start_time": "2025-07-08T12:27:54.813Z"
   },
   {
    "duration": 12,
    "start_time": "2025-07-08T12:27:54.820Z"
   },
   {
    "duration": 4,
    "start_time": "2025-07-08T12:27:54.833Z"
   },
   {
    "duration": 11,
    "start_time": "2025-07-08T12:27:54.838Z"
   },
   {
    "duration": 2121,
    "start_time": "2025-07-08T12:27:54.851Z"
   },
   {
    "duration": 33110,
    "start_time": "2025-07-08T12:27:56.974Z"
   },
   {
    "duration": 198,
    "start_time": "2025-07-08T12:28:30.086Z"
   },
   {
    "duration": 209,
    "start_time": "2025-07-08T12:28:30.286Z"
   },
   {
    "duration": 51,
    "start_time": "2025-07-08T12:28:30.496Z"
   },
   {
    "duration": 36,
    "start_time": "2025-07-08T12:28:30.548Z"
   },
   {
    "duration": 6,
    "start_time": "2025-07-08T12:28:30.586Z"
   },
   {
    "duration": 34,
    "start_time": "2025-07-08T12:28:30.594Z"
   },
   {
    "duration": 23,
    "start_time": "2025-07-08T12:28:30.630Z"
   },
   {
    "duration": 5,
    "start_time": "2025-07-08T12:28:30.655Z"
   },
   {
    "duration": 20,
    "start_time": "2025-07-08T12:28:30.662Z"
   },
   {
    "duration": 141,
    "start_time": "2025-07-08T12:28:30.684Z"
   },
   {
    "duration": 7,
    "start_time": "2025-07-08T12:28:30.827Z"
   },
   {
    "duration": 25,
    "start_time": "2025-07-08T12:28:30.835Z"
   },
   {
    "duration": 649,
    "start_time": "2025-07-08T12:28:30.861Z"
   },
   {
    "duration": 1178,
    "start_time": "2025-07-08T12:28:31.512Z"
   },
   {
    "duration": 486,
    "start_time": "2025-07-08T12:28:32.691Z"
   },
   {
    "duration": 270,
    "start_time": "2025-07-08T12:28:33.179Z"
   },
   {
    "duration": 43,
    "start_time": "2025-07-08T12:28:33.452Z"
   },
   {
    "duration": 107,
    "start_time": "2025-07-08T12:28:33.497Z"
   },
   {
    "duration": 1127,
    "start_time": "2025-07-08T12:28:33.606Z"
   },
   {
    "duration": 13740,
    "start_time": "2025-07-08T12:28:34.735Z"
   },
   {
    "duration": 4837,
    "start_time": "2025-07-08T12:28:48.477Z"
   },
   {
    "duration": 22,
    "start_time": "2025-07-08T12:33:13.368Z"
   },
   {
    "duration": 7190,
    "start_time": "2025-07-08T14:47:44.879Z"
   },
   {
    "duration": 387,
    "start_time": "2025-07-08T14:47:52.071Z"
   },
   {
    "duration": 392,
    "start_time": "2025-07-08T14:47:52.459Z"
   },
   {
    "duration": 2,
    "start_time": "2025-07-08T14:47:52.853Z"
   },
   {
    "duration": 539,
    "start_time": "2025-07-08T14:47:52.857Z"
   },
   {
    "duration": 39,
    "start_time": "2025-07-08T14:47:53.397Z"
   },
   {
    "duration": 2,
    "start_time": "2025-07-08T14:47:53.438Z"
   },
   {
    "duration": 8,
    "start_time": "2025-07-08T14:47:53.442Z"
   },
   {
    "duration": 38,
    "start_time": "2025-07-08T14:47:53.451Z"
   },
   {
    "duration": 24,
    "start_time": "2025-07-08T14:47:53.492Z"
   },
   {
    "duration": 3,
    "start_time": "2025-07-08T14:47:53.517Z"
   },
   {
    "duration": 48,
    "start_time": "2025-07-08T14:47:53.522Z"
   },
   {
    "duration": 5,
    "start_time": "2025-07-08T14:47:53.571Z"
   },
   {
    "duration": 5,
    "start_time": "2025-07-08T14:47:53.577Z"
   },
   {
    "duration": 16,
    "start_time": "2025-07-08T14:47:53.584Z"
   },
   {
    "duration": 7,
    "start_time": "2025-07-08T14:47:53.602Z"
   },
   {
    "duration": 6,
    "start_time": "2025-07-08T14:47:53.611Z"
   },
   {
    "duration": 56,
    "start_time": "2025-07-08T14:47:53.618Z"
   },
   {
    "duration": 30,
    "start_time": "2025-07-08T14:47:53.676Z"
   },
   {
    "duration": 36,
    "start_time": "2025-07-08T14:47:53.707Z"
   },
   {
    "duration": 11,
    "start_time": "2025-07-08T14:47:53.745Z"
   },
   {
    "duration": 19,
    "start_time": "2025-07-08T14:47:53.757Z"
   },
   {
    "duration": 8,
    "start_time": "2025-07-08T14:47:53.778Z"
   },
   {
    "duration": 11,
    "start_time": "2025-07-08T14:47:53.788Z"
   },
   {
    "duration": 4,
    "start_time": "2025-07-08T14:47:53.800Z"
   },
   {
    "duration": 10,
    "start_time": "2025-07-08T14:47:53.805Z"
   },
   {
    "duration": 16,
    "start_time": "2025-07-08T14:47:53.817Z"
   },
   {
    "duration": 25,
    "start_time": "2025-07-08T14:47:53.837Z"
   },
   {
    "duration": 11,
    "start_time": "2025-07-08T14:47:53.864Z"
   },
   {
    "duration": 48,
    "start_time": "2025-07-08T14:47:53.876Z"
   },
   {
    "duration": 8,
    "start_time": "2025-07-08T14:47:53.926Z"
   },
   {
    "duration": 7,
    "start_time": "2025-07-08T14:47:53.935Z"
   },
   {
    "duration": 4,
    "start_time": "2025-07-08T14:47:53.944Z"
   },
   {
    "duration": 16,
    "start_time": "2025-07-08T14:47:53.949Z"
   },
   {
    "duration": 727,
    "start_time": "2025-07-08T14:47:53.966Z"
   },
   {
    "duration": 905,
    "start_time": "2025-07-08T14:47:54.694Z"
   },
   {
    "duration": 4,
    "start_time": "2025-07-08T14:47:55.601Z"
   },
   {
    "duration": 11,
    "start_time": "2025-07-08T14:47:55.607Z"
   },
   {
    "duration": 5,
    "start_time": "2025-07-08T14:47:55.620Z"
   },
   {
    "duration": 14,
    "start_time": "2025-07-08T14:47:55.626Z"
   },
   {
    "duration": 1767,
    "start_time": "2025-07-08T14:47:55.641Z"
   },
   {
    "duration": 32363,
    "start_time": "2025-07-08T14:47:57.410Z"
   },
   {
    "duration": 221,
    "start_time": "2025-07-08T14:48:29.776Z"
   },
   {
    "duration": 47,
    "start_time": "2025-07-09T13:13:29.056Z"
   },
   {
    "duration": 6575,
    "start_time": "2025-07-09T13:13:41.354Z"
   },
   {
    "duration": 389,
    "start_time": "2025-07-09T13:13:47.931Z"
   },
   {
    "duration": 499,
    "start_time": "2025-07-09T13:13:48.321Z"
   },
   {
    "duration": 2,
    "start_time": "2025-07-09T13:13:48.822Z"
   },
   {
    "duration": 591,
    "start_time": "2025-07-09T13:13:48.826Z"
   },
   {
    "duration": 41,
    "start_time": "2025-07-09T13:13:49.419Z"
   },
   {
    "duration": 3,
    "start_time": "2025-07-09T13:13:49.461Z"
   },
   {
    "duration": 4,
    "start_time": "2025-07-09T13:13:49.466Z"
   },
   {
    "duration": 128,
    "start_time": "2025-07-09T13:13:49.472Z"
   },
   {
    "duration": 26,
    "start_time": "2025-07-09T13:13:49.602Z"
   },
   {
    "duration": 2,
    "start_time": "2025-07-09T13:13:49.630Z"
   },
   {
    "duration": 23,
    "start_time": "2025-07-09T13:13:49.633Z"
   },
   {
    "duration": 3,
    "start_time": "2025-07-09T13:13:49.657Z"
   },
   {
    "duration": 12,
    "start_time": "2025-07-09T13:13:49.661Z"
   },
   {
    "duration": 11,
    "start_time": "2025-07-09T13:13:49.674Z"
   },
   {
    "duration": 12,
    "start_time": "2025-07-09T13:13:49.686Z"
   },
   {
    "duration": 17,
    "start_time": "2025-07-09T13:13:49.699Z"
   },
   {
    "duration": 73,
    "start_time": "2025-07-09T13:13:49.718Z"
   },
   {
    "duration": 30,
    "start_time": "2025-07-09T13:13:49.792Z"
   },
   {
    "duration": 34,
    "start_time": "2025-07-09T13:13:49.823Z"
   },
   {
    "duration": 9,
    "start_time": "2025-07-09T13:13:49.859Z"
   },
   {
    "duration": 9,
    "start_time": "2025-07-09T13:13:49.870Z"
   },
   {
    "duration": 7,
    "start_time": "2025-07-09T13:13:49.881Z"
   },
   {
    "duration": 11,
    "start_time": "2025-07-09T13:13:49.889Z"
   },
   {
    "duration": 16,
    "start_time": "2025-07-09T13:13:49.901Z"
   },
   {
    "duration": 19,
    "start_time": "2025-07-09T13:13:49.918Z"
   },
   {
    "duration": 6,
    "start_time": "2025-07-09T13:13:49.939Z"
   },
   {
    "duration": 7,
    "start_time": "2025-07-09T13:13:49.948Z"
   },
   {
    "duration": 12,
    "start_time": "2025-07-09T13:13:49.956Z"
   },
   {
    "duration": 36,
    "start_time": "2025-07-09T13:13:49.970Z"
   },
   {
    "duration": 10,
    "start_time": "2025-07-09T13:13:50.007Z"
   },
   {
    "duration": 42,
    "start_time": "2025-07-09T13:13:50.018Z"
   },
   {
    "duration": 20,
    "start_time": "2025-07-09T13:13:50.062Z"
   },
   {
    "duration": 28,
    "start_time": "2025-07-09T13:13:50.084Z"
   },
   {
    "duration": 797,
    "start_time": "2025-07-09T13:13:50.114Z"
   },
   {
    "duration": 994,
    "start_time": "2025-07-09T13:13:50.913Z"
   },
   {
    "duration": 7,
    "start_time": "2025-07-09T13:13:51.909Z"
   },
   {
    "duration": 6,
    "start_time": "2025-07-09T13:13:51.918Z"
   },
   {
    "duration": 25,
    "start_time": "2025-07-09T13:13:51.926Z"
   },
   {
    "duration": 4,
    "start_time": "2025-07-09T13:13:51.952Z"
   },
   {
    "duration": 11,
    "start_time": "2025-07-09T13:13:51.958Z"
   },
   {
    "duration": 2668,
    "start_time": "2025-07-09T13:13:51.971Z"
   },
   {
    "duration": 33072,
    "start_time": "2025-07-09T13:13:54.641Z"
   },
   {
    "duration": 200,
    "start_time": "2025-07-09T13:14:27.718Z"
   },
   {
    "duration": 121,
    "start_time": "2025-07-09T13:14:27.999Z"
   },
   {
    "duration": 17,
    "start_time": "2025-07-09T13:14:28.121Z"
   },
   {
    "duration": 37,
    "start_time": "2025-07-09T13:14:28.140Z"
   },
   {
    "duration": 6,
    "start_time": "2025-07-09T13:14:28.179Z"
   },
   {
    "duration": 93,
    "start_time": "2025-07-09T13:14:28.199Z"
   },
   {
    "duration": 12,
    "start_time": "2025-07-09T13:14:28.294Z"
   },
   {
    "duration": 3,
    "start_time": "2025-07-09T13:14:28.307Z"
   },
   {
    "duration": 7,
    "start_time": "2025-07-09T13:14:28.312Z"
   },
   {
    "duration": 13,
    "start_time": "2025-07-09T13:14:28.320Z"
   },
   {
    "duration": 7,
    "start_time": "2025-07-09T13:14:28.334Z"
   },
   {
    "duration": 11,
    "start_time": "2025-07-09T13:14:28.342Z"
   },
   {
    "duration": 604,
    "start_time": "2025-07-09T13:14:28.355Z"
   },
   {
    "duration": 1052,
    "start_time": "2025-07-09T13:14:28.961Z"
   },
   {
    "duration": 484,
    "start_time": "2025-07-09T13:14:30.015Z"
   },
   {
    "duration": 259,
    "start_time": "2025-07-09T13:14:30.501Z"
   },
   {
    "duration": 36,
    "start_time": "2025-07-09T13:14:30.762Z"
   },
   {
    "duration": 161,
    "start_time": "2025-07-09T13:14:30.800Z"
   },
   {
    "duration": 1056,
    "start_time": "2025-07-09T13:14:30.963Z"
   },
   {
    "duration": 12690,
    "start_time": "2025-07-09T13:14:32.020Z"
   },
   {
    "duration": 3771,
    "start_time": "2025-07-09T13:14:44.804Z"
   },
   {
    "duration": 26,
    "start_time": "2025-07-09T13:14:48.577Z"
   },
   {
    "duration": 876,
    "start_time": "2025-07-09T13:16:57.957Z"
   },
   {
    "duration": 849,
    "start_time": "2025-07-09T13:26:39.389Z"
   },
   {
    "duration": 882,
    "start_time": "2025-07-09T13:27:10.199Z"
   },
   {
    "duration": 442,
    "start_time": "2025-07-09T13:48:12.138Z"
   },
   {
    "duration": 491,
    "start_time": "2025-07-09T13:48:38.564Z"
   },
   {
    "duration": 455,
    "start_time": "2025-07-09T13:50:12.314Z"
   },
   {
    "duration": 464,
    "start_time": "2025-07-09T13:50:16.398Z"
   },
   {
    "duration": 489,
    "start_time": "2025-07-09T13:50:20.175Z"
   },
   {
    "duration": 467,
    "start_time": "2025-07-09T13:53:25.187Z"
   },
   {
    "duration": 5,
    "start_time": "2025-07-09T14:00:07.670Z"
   },
   {
    "duration": 2275,
    "start_time": "2025-07-09T14:01:28.294Z"
   },
   {
    "duration": 410,
    "start_time": "2025-07-09T14:01:30.571Z"
   },
   {
    "duration": 256,
    "start_time": "2025-07-09T14:01:30.983Z"
   },
   {
    "duration": 2,
    "start_time": "2025-07-09T14:01:31.241Z"
   },
   {
    "duration": 565,
    "start_time": "2025-07-09T14:01:31.244Z"
   },
   {
    "duration": 39,
    "start_time": "2025-07-09T14:01:31.810Z"
   },
   {
    "duration": 18,
    "start_time": "2025-07-09T14:01:31.850Z"
   },
   {
    "duration": 29,
    "start_time": "2025-07-09T14:01:31.870Z"
   },
   {
    "duration": 55,
    "start_time": "2025-07-09T14:01:31.900Z"
   },
   {
    "duration": 26,
    "start_time": "2025-07-09T14:01:31.958Z"
   },
   {
    "duration": 8,
    "start_time": "2025-07-09T14:01:31.985Z"
   },
   {
    "duration": 38,
    "start_time": "2025-07-09T14:01:31.995Z"
   },
   {
    "duration": 20,
    "start_time": "2025-07-09T14:01:32.034Z"
   },
   {
    "duration": 28,
    "start_time": "2025-07-09T14:01:32.056Z"
   },
   {
    "duration": 31,
    "start_time": "2025-07-09T14:01:32.086Z"
   },
   {
    "duration": 16,
    "start_time": "2025-07-09T14:01:32.119Z"
   },
   {
    "duration": 62,
    "start_time": "2025-07-09T14:01:32.136Z"
   },
   {
    "duration": 79,
    "start_time": "2025-07-09T14:01:32.199Z"
   },
   {
    "duration": 32,
    "start_time": "2025-07-09T14:01:32.279Z"
   },
   {
    "duration": 36,
    "start_time": "2025-07-09T14:01:32.312Z"
   },
   {
    "duration": 10,
    "start_time": "2025-07-09T14:01:32.349Z"
   },
   {
    "duration": 120,
    "start_time": "2025-07-09T14:01:32.361Z"
   },
   {
    "duration": 19,
    "start_time": "2025-07-09T14:01:32.483Z"
   },
   {
    "duration": 34,
    "start_time": "2025-07-09T14:01:32.504Z"
   },
   {
    "duration": 55,
    "start_time": "2025-07-09T14:01:32.540Z"
   },
   {
    "duration": 45,
    "start_time": "2025-07-09T14:01:32.597Z"
   },
   {
    "duration": 31,
    "start_time": "2025-07-09T14:01:32.644Z"
   },
   {
    "duration": 29,
    "start_time": "2025-07-09T14:01:32.680Z"
   },
   {
    "duration": 32,
    "start_time": "2025-07-09T14:01:32.711Z"
   },
   {
    "duration": 47,
    "start_time": "2025-07-09T14:01:32.745Z"
   },
   {
    "duration": 45,
    "start_time": "2025-07-09T14:01:32.794Z"
   },
   {
    "duration": 33,
    "start_time": "2025-07-09T14:01:32.840Z"
   },
   {
    "duration": 30,
    "start_time": "2025-07-09T14:01:32.874Z"
   },
   {
    "duration": 94,
    "start_time": "2025-07-09T14:01:32.906Z"
   },
   {
    "duration": 870,
    "start_time": "2025-07-09T14:01:33.001Z"
   },
   {
    "duration": 1447,
    "start_time": "2025-07-09T14:01:33.872Z"
   },
   {
    "duration": 7,
    "start_time": "2025-07-09T14:01:35.320Z"
   },
   {
    "duration": 1009,
    "start_time": "2025-07-09T14:01:35.328Z"
   },
   {
    "duration": 828,
    "start_time": "2025-07-09T14:01:36.339Z"
   },
   {
    "duration": 574,
    "start_time": "2025-07-09T14:01:37.169Z"
   },
   {
    "duration": 53,
    "start_time": "2025-07-09T14:01:37.745Z"
   },
   {
    "duration": 104,
    "start_time": "2025-07-09T14:01:37.800Z"
   },
   {
    "duration": 11,
    "start_time": "2025-07-09T14:01:37.906Z"
   },
   {
    "duration": 8,
    "start_time": "2025-07-09T14:01:37.918Z"
   },
   {
    "duration": 2871,
    "start_time": "2025-07-09T14:01:37.928Z"
   },
   {
    "duration": 20501,
    "start_time": "2025-07-09T14:01:40.801Z"
   },
   {
    "duration": 209,
    "start_time": "2025-07-09T14:02:01.304Z"
   },
   {
    "duration": 215,
    "start_time": "2025-07-09T14:02:01.516Z"
   },
   {
    "duration": 16,
    "start_time": "2025-07-09T14:02:01.733Z"
   },
   {
    "duration": 97,
    "start_time": "2025-07-09T14:02:01.750Z"
   },
   {
    "duration": 6,
    "start_time": "2025-07-09T14:02:01.848Z"
   },
   {
    "duration": 17,
    "start_time": "2025-07-09T14:02:01.855Z"
   },
   {
    "duration": 24,
    "start_time": "2025-07-09T14:02:01.874Z"
   },
   {
    "duration": 50,
    "start_time": "2025-07-09T14:02:01.900Z"
   },
   {
    "duration": 8,
    "start_time": "2025-07-09T14:02:01.952Z"
   },
   {
    "duration": 11,
    "start_time": "2025-07-09T14:02:01.962Z"
   },
   {
    "duration": 27,
    "start_time": "2025-07-09T14:02:01.974Z"
   },
   {
    "duration": 43,
    "start_time": "2025-07-09T14:02:02.003Z"
   },
   {
    "duration": 558,
    "start_time": "2025-07-09T14:02:02.048Z"
   },
   {
    "duration": 1034,
    "start_time": "2025-07-09T14:02:02.608Z"
   },
   {
    "duration": 354,
    "start_time": "2025-07-09T14:02:03.644Z"
   },
   {
    "duration": 233,
    "start_time": "2025-07-09T14:02:03.999Z"
   },
   {
    "duration": 27,
    "start_time": "2025-07-09T14:02:04.234Z"
   },
   {
    "duration": 111,
    "start_time": "2025-07-09T14:02:04.263Z"
   },
   {
    "duration": 1109,
    "start_time": "2025-07-09T14:02:04.375Z"
   },
   {
    "duration": 11714,
    "start_time": "2025-07-09T14:02:05.486Z"
   },
   {
    "duration": 3717,
    "start_time": "2025-07-09T14:02:17.205Z"
   },
   {
    "duration": 18,
    "start_time": "2025-07-09T14:02:20.924Z"
   },
   {
    "duration": 22979,
    "start_time": "2025-07-09T14:09:49.633Z"
   },
   {
    "duration": 2291,
    "start_time": "2025-07-09T14:10:27.816Z"
   },
   {
    "duration": 390,
    "start_time": "2025-07-09T14:10:30.111Z"
   },
   {
    "duration": 236,
    "start_time": "2025-07-09T14:10:30.502Z"
   },
   {
    "duration": 2,
    "start_time": "2025-07-09T14:10:30.740Z"
   },
   {
    "duration": 556,
    "start_time": "2025-07-09T14:10:30.743Z"
   },
   {
    "duration": 40,
    "start_time": "2025-07-09T14:10:31.301Z"
   },
   {
    "duration": 2,
    "start_time": "2025-07-09T14:10:31.342Z"
   },
   {
    "duration": 6,
    "start_time": "2025-07-09T14:10:31.346Z"
   },
   {
    "duration": 43,
    "start_time": "2025-07-09T14:10:31.353Z"
   },
   {
    "duration": 104,
    "start_time": "2025-07-09T14:10:31.399Z"
   },
   {
    "duration": 59,
    "start_time": "2025-07-09T14:10:31.505Z"
   },
   {
    "duration": 64,
    "start_time": "2025-07-09T14:10:31.566Z"
   },
   {
    "duration": 2,
    "start_time": "2025-07-09T14:10:31.632Z"
   },
   {
    "duration": 17,
    "start_time": "2025-07-09T14:10:31.635Z"
   },
   {
    "duration": 17,
    "start_time": "2025-07-09T14:10:31.653Z"
   },
   {
    "duration": 26,
    "start_time": "2025-07-09T14:10:31.671Z"
   },
   {
    "duration": 18,
    "start_time": "2025-07-09T14:10:31.698Z"
   },
   {
    "duration": 68,
    "start_time": "2025-07-09T14:10:31.718Z"
   },
   {
    "duration": 30,
    "start_time": "2025-07-09T14:10:31.787Z"
   },
   {
    "duration": 124,
    "start_time": "2025-07-09T14:10:31.819Z"
   },
   {
    "duration": 10,
    "start_time": "2025-07-09T14:10:31.944Z"
   },
   {
    "duration": 47,
    "start_time": "2025-07-09T14:10:31.955Z"
   },
   {
    "duration": 44,
    "start_time": "2025-07-09T14:10:32.004Z"
   },
   {
    "duration": 82,
    "start_time": "2025-07-09T14:10:32.050Z"
   },
   {
    "duration": 23,
    "start_time": "2025-07-09T14:10:32.133Z"
   },
   {
    "duration": 51,
    "start_time": "2025-07-09T14:10:32.158Z"
   },
   {
    "duration": 14,
    "start_time": "2025-07-09T14:10:32.210Z"
   },
   {
    "duration": 44,
    "start_time": "2025-07-09T14:10:32.227Z"
   },
   {
    "duration": 51,
    "start_time": "2025-07-09T14:10:32.273Z"
   },
   {
    "duration": 14,
    "start_time": "2025-07-09T14:10:32.325Z"
   },
   {
    "duration": 16,
    "start_time": "2025-07-09T14:10:32.341Z"
   },
   {
    "duration": 18,
    "start_time": "2025-07-09T14:10:32.358Z"
   },
   {
    "duration": 123,
    "start_time": "2025-07-09T14:10:32.377Z"
   },
   {
    "duration": 22,
    "start_time": "2025-07-09T14:10:32.502Z"
   },
   {
    "duration": 794,
    "start_time": "2025-07-09T14:10:32.526Z"
   },
   {
    "duration": 1014,
    "start_time": "2025-07-09T14:10:33.321Z"
   },
   {
    "duration": 7,
    "start_time": "2025-07-09T14:10:34.336Z"
   },
   {
    "duration": 884,
    "start_time": "2025-07-09T14:10:34.345Z"
   },
   {
    "duration": 1295,
    "start_time": "2025-07-09T14:10:35.231Z"
   },
   {
    "duration": 674,
    "start_time": "2025-07-09T14:10:36.527Z"
   },
   {
    "duration": 5,
    "start_time": "2025-07-09T14:10:37.203Z"
   },
   {
    "duration": 197,
    "start_time": "2025-07-09T14:10:37.209Z"
   },
   {
    "duration": 3,
    "start_time": "2025-07-09T14:10:37.408Z"
   },
   {
    "duration": 8,
    "start_time": "2025-07-09T14:10:37.413Z"
   },
   {
    "duration": 2190,
    "start_time": "2025-07-09T14:10:37.423Z"
   },
   {
    "duration": 20388,
    "start_time": "2025-07-09T14:10:39.614Z"
   },
   {
    "duration": 211,
    "start_time": "2025-07-09T14:11:00.005Z"
   },
   {
    "duration": 198,
    "start_time": "2025-07-09T14:11:00.218Z"
   },
   {
    "duration": 107,
    "start_time": "2025-07-09T14:11:00.418Z"
   },
   {
    "duration": 127,
    "start_time": "2025-07-09T14:11:00.527Z"
   },
   {
    "duration": 6,
    "start_time": "2025-07-09T14:11:00.656Z"
   },
   {
    "duration": 55,
    "start_time": "2025-07-09T14:11:00.664Z"
   },
   {
    "duration": 26,
    "start_time": "2025-07-09T14:11:00.720Z"
   },
   {
    "duration": 24,
    "start_time": "2025-07-09T14:11:00.747Z"
   },
   {
    "duration": 29,
    "start_time": "2025-07-09T14:11:00.772Z"
   },
   {
    "duration": 50,
    "start_time": "2025-07-09T14:11:00.802Z"
   },
   {
    "duration": 42,
    "start_time": "2025-07-09T14:11:00.854Z"
   },
   {
    "duration": 52,
    "start_time": "2025-07-09T14:11:00.898Z"
   },
   {
    "duration": 663,
    "start_time": "2025-07-09T14:11:00.952Z"
   },
   {
    "duration": 1044,
    "start_time": "2025-07-09T14:11:01.617Z"
   },
   {
    "duration": 371,
    "start_time": "2025-07-09T14:11:02.663Z"
   },
   {
    "duration": 241,
    "start_time": "2025-07-09T14:11:03.036Z"
   },
   {
    "duration": 38,
    "start_time": "2025-07-09T14:11:03.279Z"
   },
   {
    "duration": 11,
    "start_time": "2025-07-09T14:11:03.319Z"
   },
   {
    "duration": 1036,
    "start_time": "2025-07-09T14:11:03.332Z"
   },
   {
    "duration": 12332,
    "start_time": "2025-07-09T14:11:04.370Z"
   },
   {
    "duration": 3817,
    "start_time": "2025-07-09T14:11:16.705Z"
   },
   {
    "duration": 18,
    "start_time": "2025-07-09T14:11:20.524Z"
   },
   {
    "duration": 143,
    "start_time": "2025-07-09T14:20:28.408Z"
   },
   {
    "duration": 31,
    "start_time": "2025-07-09T14:20:36.126Z"
   },
   {
    "duration": 2319,
    "start_time": "2025-07-09T14:20:46.861Z"
   },
   {
    "duration": 413,
    "start_time": "2025-07-09T14:20:49.182Z"
   },
   {
    "duration": 373,
    "start_time": "2025-07-09T14:20:49.597Z"
   },
   {
    "duration": 2,
    "start_time": "2025-07-09T14:20:49.972Z"
   },
   {
    "duration": 525,
    "start_time": "2025-07-09T14:20:49.975Z"
   },
   {
    "duration": 38,
    "start_time": "2025-07-09T14:20:50.502Z"
   },
   {
    "duration": 2,
    "start_time": "2025-07-09T14:20:50.542Z"
   },
   {
    "duration": 13,
    "start_time": "2025-07-09T14:20:50.545Z"
   },
   {
    "duration": 59,
    "start_time": "2025-07-09T14:20:50.559Z"
   },
   {
    "duration": 23,
    "start_time": "2025-07-09T14:20:50.621Z"
   },
   {
    "duration": 3,
    "start_time": "2025-07-09T14:20:50.645Z"
   },
   {
    "duration": 17,
    "start_time": "2025-07-09T14:20:50.649Z"
   },
   {
    "duration": 2,
    "start_time": "2025-07-09T14:20:50.668Z"
   },
   {
    "duration": 8,
    "start_time": "2025-07-09T14:20:50.671Z"
   },
   {
    "duration": 5,
    "start_time": "2025-07-09T14:20:50.680Z"
   },
   {
    "duration": 12,
    "start_time": "2025-07-09T14:20:50.686Z"
   },
   {
    "duration": 3,
    "start_time": "2025-07-09T14:20:50.700Z"
   },
   {
    "duration": 54,
    "start_time": "2025-07-09T14:20:50.705Z"
   },
   {
    "duration": 32,
    "start_time": "2025-07-09T14:20:50.760Z"
   },
   {
    "duration": 35,
    "start_time": "2025-07-09T14:20:50.793Z"
   },
   {
    "duration": 11,
    "start_time": "2025-07-09T14:20:50.829Z"
   },
   {
    "duration": 43,
    "start_time": "2025-07-09T14:20:50.841Z"
   },
   {
    "duration": 14,
    "start_time": "2025-07-09T14:20:50.886Z"
   },
   {
    "duration": 30,
    "start_time": "2025-07-09T14:20:50.902Z"
   },
   {
    "duration": 12,
    "start_time": "2025-07-09T14:20:50.934Z"
   },
   {
    "duration": 40,
    "start_time": "2025-07-09T14:20:50.948Z"
   },
   {
    "duration": 30,
    "start_time": "2025-07-09T14:20:50.991Z"
   },
   {
    "duration": 18,
    "start_time": "2025-07-09T14:20:51.026Z"
   },
   {
    "duration": 13,
    "start_time": "2025-07-09T14:20:51.046Z"
   },
   {
    "duration": 74,
    "start_time": "2025-07-09T14:20:51.061Z"
   },
   {
    "duration": 175,
    "start_time": "2025-07-09T14:20:51.137Z"
   },
   {
    "duration": 9,
    "start_time": "2025-07-09T14:20:51.314Z"
   },
   {
    "duration": 7,
    "start_time": "2025-07-09T14:20:51.325Z"
   },
   {
    "duration": 12,
    "start_time": "2025-07-09T14:20:51.333Z"
   },
   {
    "duration": 755,
    "start_time": "2025-07-09T14:20:51.346Z"
   },
   {
    "duration": 960,
    "start_time": "2025-07-09T14:20:52.103Z"
   },
   {
    "duration": 7,
    "start_time": "2025-07-09T14:20:53.065Z"
   },
   {
    "duration": 1030,
    "start_time": "2025-07-09T14:20:53.073Z"
   },
   {
    "duration": 863,
    "start_time": "2025-07-09T14:20:54.105Z"
   },
   {
    "duration": 505,
    "start_time": "2025-07-09T14:20:54.970Z"
   },
   {
    "duration": 6,
    "start_time": "2025-07-09T14:20:55.476Z"
   },
   {
    "duration": 31,
    "start_time": "2025-07-09T14:20:55.483Z"
   },
   {
    "duration": 15,
    "start_time": "2025-07-09T14:20:55.516Z"
   },
   {
    "duration": 5,
    "start_time": "2025-07-09T14:20:55.532Z"
   },
   {
    "duration": 1793,
    "start_time": "2025-07-09T14:20:55.538Z"
   },
   {
    "duration": 19769,
    "start_time": "2025-07-09T14:20:57.333Z"
   },
   {
    "duration": 108,
    "start_time": "2025-07-09T14:21:17.198Z"
   },
   {
    "duration": 34,
    "start_time": "2025-07-09T14:21:17.308Z"
   },
   {
    "duration": 15,
    "start_time": "2025-07-09T14:21:17.343Z"
   },
   {
    "duration": 37,
    "start_time": "2025-07-09T14:21:17.360Z"
   },
   {
    "duration": 5,
    "start_time": "2025-07-09T14:21:17.399Z"
   },
   {
    "duration": 7,
    "start_time": "2025-07-09T14:21:17.406Z"
   },
   {
    "duration": 19,
    "start_time": "2025-07-09T14:21:17.414Z"
   },
   {
    "duration": 49,
    "start_time": "2025-07-09T14:21:17.435Z"
   },
   {
    "duration": 6,
    "start_time": "2025-07-09T14:21:17.485Z"
   },
   {
    "duration": 41,
    "start_time": "2025-07-09T14:21:17.493Z"
   },
   {
    "duration": 9,
    "start_time": "2025-07-09T14:21:17.536Z"
   },
   {
    "duration": 26,
    "start_time": "2025-07-09T14:21:17.547Z"
   },
   {
    "duration": 602,
    "start_time": "2025-07-09T14:21:17.575Z"
   },
   {
    "duration": 1067,
    "start_time": "2025-07-09T14:21:18.179Z"
   },
   {
    "duration": 374,
    "start_time": "2025-07-09T14:21:19.248Z"
   },
   {
    "duration": 246,
    "start_time": "2025-07-09T14:21:19.623Z"
   },
   {
    "duration": 43,
    "start_time": "2025-07-09T14:21:19.870Z"
   },
   {
    "duration": 110,
    "start_time": "2025-07-09T14:21:19.915Z"
   },
   {
    "duration": 1033,
    "start_time": "2025-07-09T14:21:20.027Z"
   },
   {
    "duration": 12738,
    "start_time": "2025-07-09T14:21:21.061Z"
   },
   {
    "duration": 3762,
    "start_time": "2025-07-09T14:21:33.807Z"
   },
   {
    "duration": 27,
    "start_time": "2025-07-09T14:21:37.571Z"
   },
   {
    "duration": 9,
    "start_time": "2025-07-09T14:29:03.342Z"
   },
   {
    "duration": 13,
    "start_time": "2025-07-09T14:29:13.480Z"
   },
   {
    "duration": 2404,
    "start_time": "2025-07-09T14:30:35.409Z"
   },
   {
    "duration": 384,
    "start_time": "2025-07-09T14:30:37.816Z"
   },
   {
    "duration": 264,
    "start_time": "2025-07-09T14:30:38.201Z"
   },
   {
    "duration": 3,
    "start_time": "2025-07-09T14:30:38.467Z"
   },
   {
    "duration": 536,
    "start_time": "2025-07-09T14:30:38.472Z"
   },
   {
    "duration": 39,
    "start_time": "2025-07-09T14:30:39.010Z"
   },
   {
    "duration": 3,
    "start_time": "2025-07-09T14:30:39.050Z"
   },
   {
    "duration": 2,
    "start_time": "2025-07-09T14:30:39.055Z"
   },
   {
    "duration": 25,
    "start_time": "2025-07-09T14:30:39.059Z"
   },
   {
    "duration": 31,
    "start_time": "2025-07-09T14:30:39.088Z"
   },
   {
    "duration": 2,
    "start_time": "2025-07-09T14:30:39.121Z"
   },
   {
    "duration": 153,
    "start_time": "2025-07-09T14:30:39.125Z"
   },
   {
    "duration": 14,
    "start_time": "2025-07-09T14:30:39.279Z"
   },
   {
    "duration": 96,
    "start_time": "2025-07-09T14:30:39.294Z"
   },
   {
    "duration": 19,
    "start_time": "2025-07-09T14:30:39.392Z"
   },
   {
    "duration": 8,
    "start_time": "2025-07-09T14:30:39.412Z"
   },
   {
    "duration": 5,
    "start_time": "2025-07-09T14:30:39.421Z"
   },
   {
    "duration": 54,
    "start_time": "2025-07-09T14:30:39.427Z"
   },
   {
    "duration": 31,
    "start_time": "2025-07-09T14:30:39.483Z"
   },
   {
    "duration": 65,
    "start_time": "2025-07-09T14:30:39.516Z"
   },
   {
    "duration": 11,
    "start_time": "2025-07-09T14:30:39.582Z"
   },
   {
    "duration": 11,
    "start_time": "2025-07-09T14:30:39.594Z"
   },
   {
    "duration": 30,
    "start_time": "2025-07-09T14:30:39.607Z"
   },
   {
    "duration": 12,
    "start_time": "2025-07-09T14:30:39.639Z"
   },
   {
    "duration": 5,
    "start_time": "2025-07-09T14:30:39.653Z"
   },
   {
    "duration": 15,
    "start_time": "2025-07-09T14:30:39.659Z"
   },
   {
    "duration": 12,
    "start_time": "2025-07-09T14:30:39.675Z"
   },
   {
    "duration": 11,
    "start_time": "2025-07-09T14:30:39.691Z"
   },
   {
    "duration": 9,
    "start_time": "2025-07-09T14:30:39.703Z"
   },
   {
    "duration": 31,
    "start_time": "2025-07-09T14:30:39.714Z"
   },
   {
    "duration": 11,
    "start_time": "2025-07-09T14:30:39.747Z"
   },
   {
    "duration": 13,
    "start_time": "2025-07-09T14:30:39.759Z"
   },
   {
    "duration": 7,
    "start_time": "2025-07-09T14:30:39.773Z"
   },
   {
    "duration": 27,
    "start_time": "2025-07-09T14:30:39.781Z"
   },
   {
    "duration": 810,
    "start_time": "2025-07-09T14:30:39.809Z"
   },
   {
    "duration": 978,
    "start_time": "2025-07-09T14:30:40.621Z"
   },
   {
    "duration": 8,
    "start_time": "2025-07-09T14:30:41.600Z"
   },
   {
    "duration": 807,
    "start_time": "2025-07-09T14:30:41.609Z"
   },
   {
    "duration": 858,
    "start_time": "2025-07-09T14:30:42.418Z"
   },
   {
    "duration": 490,
    "start_time": "2025-07-09T14:30:43.278Z"
   },
   {
    "duration": 6,
    "start_time": "2025-07-09T14:30:43.769Z"
   },
   {
    "duration": 28,
    "start_time": "2025-07-09T14:30:43.776Z"
   },
   {
    "duration": 3,
    "start_time": "2025-07-09T14:30:43.806Z"
   },
   {
    "duration": 22,
    "start_time": "2025-07-09T14:30:43.811Z"
   },
   {
    "duration": 1839,
    "start_time": "2025-07-09T14:30:43.834Z"
   },
   {
    "duration": 20929,
    "start_time": "2025-07-09T14:30:45.674Z"
   },
   {
    "duration": 195,
    "start_time": "2025-07-09T14:31:06.605Z"
   },
   {
    "duration": 37,
    "start_time": "2025-07-09T14:31:06.802Z"
   },
   {
    "duration": 24,
    "start_time": "2025-07-09T14:31:06.840Z"
   },
   {
    "duration": 44,
    "start_time": "2025-07-09T14:31:06.866Z"
   },
   {
    "duration": 5,
    "start_time": "2025-07-09T14:31:06.912Z"
   },
   {
    "duration": 30,
    "start_time": "2025-07-09T14:31:06.919Z"
   },
   {
    "duration": 34,
    "start_time": "2025-07-09T14:31:06.951Z"
   },
   {
    "duration": 10,
    "start_time": "2025-07-09T14:31:06.987Z"
   },
   {
    "duration": 5,
    "start_time": "2025-07-09T14:31:06.999Z"
   },
   {
    "duration": 13,
    "start_time": "2025-07-09T14:31:07.006Z"
   },
   {
    "duration": 42,
    "start_time": "2025-07-09T14:31:07.020Z"
   },
   {
    "duration": 15,
    "start_time": "2025-07-09T14:31:07.063Z"
   },
   {
    "duration": 643,
    "start_time": "2025-07-09T14:31:07.080Z"
   },
   {
    "duration": 1082,
    "start_time": "2025-07-09T14:31:07.725Z"
   },
   {
    "duration": 363,
    "start_time": "2025-07-09T14:31:08.808Z"
   },
   {
    "duration": 259,
    "start_time": "2025-07-09T14:31:09.173Z"
   },
   {
    "duration": 28,
    "start_time": "2025-07-09T14:31:09.434Z"
   },
   {
    "duration": 134,
    "start_time": "2025-07-09T14:31:09.464Z"
   },
   {
    "duration": 1063,
    "start_time": "2025-07-09T14:31:09.600Z"
   },
   {
    "duration": 12534,
    "start_time": "2025-07-09T14:31:10.665Z"
   },
   {
    "duration": 3953,
    "start_time": "2025-07-09T14:31:23.201Z"
   },
   {
    "duration": 19,
    "start_time": "2025-07-09T14:31:27.155Z"
   },
   {
    "duration": 366,
    "start_time": "2025-07-09T14:34:37.572Z"
   },
   {
    "duration": 514,
    "start_time": "2025-07-09T14:41:54.377Z"
   },
   {
    "duration": 12,
    "start_time": "2025-07-09T14:50:41.454Z"
   },
   {
    "duration": 2328,
    "start_time": "2025-07-09T14:51:21.672Z"
   },
   {
    "duration": 411,
    "start_time": "2025-07-09T14:51:24.002Z"
   },
   {
    "duration": 254,
    "start_time": "2025-07-09T14:51:24.414Z"
   },
   {
    "duration": 3,
    "start_time": "2025-07-09T14:51:24.669Z"
   },
   {
    "duration": 536,
    "start_time": "2025-07-09T14:51:24.674Z"
   },
   {
    "duration": 38,
    "start_time": "2025-07-09T14:51:25.212Z"
   },
   {
    "duration": 3,
    "start_time": "2025-07-09T14:51:25.251Z"
   },
   {
    "duration": 124,
    "start_time": "2025-07-09T14:51:25.255Z"
   },
   {
    "duration": 28,
    "start_time": "2025-07-09T14:51:25.381Z"
   },
   {
    "duration": 24,
    "start_time": "2025-07-09T14:51:25.410Z"
   },
   {
    "duration": 2,
    "start_time": "2025-07-09T14:51:25.436Z"
   },
   {
    "duration": 89,
    "start_time": "2025-07-09T14:51:25.440Z"
   },
   {
    "duration": 2,
    "start_time": "2025-07-09T14:51:25.531Z"
   },
   {
    "duration": 5,
    "start_time": "2025-07-09T14:51:25.536Z"
   },
   {
    "duration": 8,
    "start_time": "2025-07-09T14:51:25.542Z"
   },
   {
    "duration": 6,
    "start_time": "2025-07-09T14:51:25.552Z"
   },
   {
    "duration": 5,
    "start_time": "2025-07-09T14:51:25.560Z"
   },
   {
    "duration": 44,
    "start_time": "2025-07-09T14:51:25.567Z"
   },
   {
    "duration": 33,
    "start_time": "2025-07-09T14:51:25.612Z"
   },
   {
    "duration": 36,
    "start_time": "2025-07-09T14:51:25.647Z"
   },
   {
    "duration": 10,
    "start_time": "2025-07-09T14:51:25.684Z"
   },
   {
    "duration": 16,
    "start_time": "2025-07-09T14:51:25.696Z"
   },
   {
    "duration": 8,
    "start_time": "2025-07-09T14:51:25.713Z"
   },
   {
    "duration": 11,
    "start_time": "2025-07-09T14:51:25.722Z"
   },
   {
    "duration": 3,
    "start_time": "2025-07-09T14:51:25.734Z"
   },
   {
    "duration": 16,
    "start_time": "2025-07-09T14:51:25.739Z"
   },
   {
    "duration": 5,
    "start_time": "2025-07-09T14:51:25.756Z"
   },
   {
    "duration": 13,
    "start_time": "2025-07-09T14:51:25.763Z"
   },
   {
    "duration": 26,
    "start_time": "2025-07-09T14:51:25.778Z"
   },
   {
    "duration": 23,
    "start_time": "2025-07-09T14:51:25.806Z"
   },
   {
    "duration": 38,
    "start_time": "2025-07-09T14:51:25.830Z"
   },
   {
    "duration": 27,
    "start_time": "2025-07-09T14:51:25.871Z"
   },
   {
    "duration": 29,
    "start_time": "2025-07-09T14:51:25.899Z"
   },
   {
    "duration": 14,
    "start_time": "2025-07-09T14:51:25.929Z"
   },
   {
    "duration": 776,
    "start_time": "2025-07-09T14:51:25.945Z"
   },
   {
    "duration": 1040,
    "start_time": "2025-07-09T14:51:26.723Z"
   },
   {
    "duration": 7,
    "start_time": "2025-07-09T14:51:27.765Z"
   },
   {
    "duration": 846,
    "start_time": "2025-07-09T14:51:27.773Z"
   },
   {
    "duration": 865,
    "start_time": "2025-07-09T14:51:28.620Z"
   },
   {
    "duration": 490,
    "start_time": "2025-07-09T14:51:29.487Z"
   },
   {
    "duration": 17,
    "start_time": "2025-07-09T14:51:29.982Z"
   },
   {
    "duration": 127,
    "start_time": "2025-07-09T14:51:30.001Z"
   },
   {
    "duration": 56,
    "start_time": "2025-07-09T14:51:30.130Z"
   },
   {
    "duration": 74,
    "start_time": "2025-07-09T14:51:30.188Z"
   },
   {
    "duration": 2034,
    "start_time": "2025-07-09T14:51:30.264Z"
   },
   {
    "duration": 20511,
    "start_time": "2025-07-09T14:51:32.300Z"
   },
   {
    "duration": 192,
    "start_time": "2025-07-09T14:51:52.815Z"
   },
   {
    "duration": 124,
    "start_time": "2025-07-09T14:51:53.009Z"
   },
   {
    "duration": 20,
    "start_time": "2025-07-09T14:51:53.135Z"
   },
   {
    "duration": 37,
    "start_time": "2025-07-09T14:51:53.157Z"
   },
   {
    "duration": 5,
    "start_time": "2025-07-09T14:51:53.196Z"
   },
   {
    "duration": 10,
    "start_time": "2025-07-09T14:51:53.203Z"
   },
   {
    "duration": 14,
    "start_time": "2025-07-09T14:51:53.215Z"
   },
   {
    "duration": 149,
    "start_time": "2025-07-09T14:51:53.231Z"
   },
   {
    "duration": 9,
    "start_time": "2025-07-09T14:51:53.382Z"
   },
   {
    "duration": 6,
    "start_time": "2025-07-09T14:51:53.392Z"
   },
   {
    "duration": 8,
    "start_time": "2025-07-09T14:51:53.399Z"
   },
   {
    "duration": 13,
    "start_time": "2025-07-09T14:51:53.409Z"
   },
   {
    "duration": 710,
    "start_time": "2025-07-09T14:51:53.427Z"
   },
   {
    "duration": 1135,
    "start_time": "2025-07-09T14:51:54.138Z"
   },
   {
    "duration": 387,
    "start_time": "2025-07-09T14:51:55.274Z"
   },
   {
    "duration": 286,
    "start_time": "2025-07-09T14:51:55.662Z"
   },
   {
    "duration": 35,
    "start_time": "2025-07-09T14:51:55.954Z"
   },
   {
    "duration": 598,
    "start_time": "2025-07-09T14:51:55.991Z"
   },
   {
    "duration": 13,
    "start_time": "2025-07-09T14:51:56.598Z"
   },
   {
    "duration": 1020,
    "start_time": "2025-07-09T14:51:56.613Z"
   },
   {
    "duration": 11568,
    "start_time": "2025-07-09T14:51:57.635Z"
   },
   {
    "duration": 3950,
    "start_time": "2025-07-09T14:52:09.208Z"
   },
   {
    "duration": 19,
    "start_time": "2025-07-09T14:52:13.160Z"
   },
   {
    "duration": 5799,
    "start_time": "2025-07-09T16:52:17.385Z"
   },
   {
    "duration": 409,
    "start_time": "2025-07-09T16:52:23.186Z"
   },
   {
    "duration": 242,
    "start_time": "2025-07-09T16:52:23.598Z"
   },
   {
    "duration": 2,
    "start_time": "2025-07-09T16:52:23.842Z"
   },
   {
    "duration": 639,
    "start_time": "2025-07-09T16:52:23.845Z"
   },
   {
    "duration": 49,
    "start_time": "2025-07-09T16:52:24.486Z"
   },
   {
    "duration": 3,
    "start_time": "2025-07-09T16:52:24.537Z"
   },
   {
    "duration": 27,
    "start_time": "2025-07-09T16:52:24.542Z"
   },
   {
    "duration": 14,
    "start_time": "2025-07-09T16:52:24.571Z"
   },
   {
    "duration": 40,
    "start_time": "2025-07-09T16:52:24.588Z"
   },
   {
    "duration": 8,
    "start_time": "2025-07-09T16:52:24.630Z"
   },
   {
    "duration": 22,
    "start_time": "2025-07-09T16:52:24.640Z"
   },
   {
    "duration": 8,
    "start_time": "2025-07-09T16:52:24.663Z"
   },
   {
    "duration": 11,
    "start_time": "2025-07-09T16:52:24.672Z"
   },
   {
    "duration": 19,
    "start_time": "2025-07-09T16:52:24.684Z"
   },
   {
    "duration": 19,
    "start_time": "2025-07-09T16:52:24.705Z"
   },
   {
    "duration": 20,
    "start_time": "2025-07-09T16:52:24.727Z"
   },
   {
    "duration": 44,
    "start_time": "2025-07-09T16:52:24.750Z"
   },
   {
    "duration": 123,
    "start_time": "2025-07-09T16:52:24.796Z"
   },
   {
    "duration": 36,
    "start_time": "2025-07-09T16:52:24.921Z"
   },
   {
    "duration": 10,
    "start_time": "2025-07-09T16:52:24.958Z"
   },
   {
    "duration": 79,
    "start_time": "2025-07-09T16:52:24.969Z"
   },
   {
    "duration": 7,
    "start_time": "2025-07-09T16:52:25.050Z"
   },
   {
    "duration": 15,
    "start_time": "2025-07-09T16:52:25.058Z"
   },
   {
    "duration": 3,
    "start_time": "2025-07-09T16:52:25.074Z"
   },
   {
    "duration": 21,
    "start_time": "2025-07-09T16:52:25.079Z"
   },
   {
    "duration": 37,
    "start_time": "2025-07-09T16:52:25.102Z"
   },
   {
    "duration": 6,
    "start_time": "2025-07-09T16:52:25.142Z"
   },
   {
    "duration": 15,
    "start_time": "2025-07-09T16:52:25.149Z"
   },
   {
    "duration": 23,
    "start_time": "2025-07-09T16:52:25.165Z"
   },
   {
    "duration": 10,
    "start_time": "2025-07-09T16:52:25.189Z"
   },
   {
    "duration": 16,
    "start_time": "2025-07-09T16:52:25.201Z"
   },
   {
    "duration": 7,
    "start_time": "2025-07-09T16:52:25.218Z"
   },
   {
    "duration": 32,
    "start_time": "2025-07-09T16:52:25.227Z"
   },
   {
    "duration": 755,
    "start_time": "2025-07-09T16:52:25.260Z"
   },
   {
    "duration": 930,
    "start_time": "2025-07-09T16:52:26.016Z"
   },
   {
    "duration": 5,
    "start_time": "2025-07-09T16:52:26.948Z"
   },
   {
    "duration": 875,
    "start_time": "2025-07-09T16:52:26.955Z"
   },
   {
    "duration": 810,
    "start_time": "2025-07-09T16:52:27.831Z"
   },
   {
    "duration": 427,
    "start_time": "2025-07-09T16:52:28.643Z"
   },
   {
    "duration": 5,
    "start_time": "2025-07-09T16:52:29.071Z"
   },
   {
    "duration": 20,
    "start_time": "2025-07-09T16:52:29.078Z"
   },
   {
    "duration": 3,
    "start_time": "2025-07-09T16:52:29.100Z"
   },
   {
    "duration": 5,
    "start_time": "2025-07-09T16:52:29.105Z"
   },
   {
    "duration": 1754,
    "start_time": "2025-07-09T16:52:29.111Z"
   },
   {
    "duration": 19538,
    "start_time": "2025-07-09T16:52:30.866Z"
   },
   {
    "duration": 193,
    "start_time": "2025-07-09T16:52:50.408Z"
   },
   {
    "duration": 52,
    "start_time": "2025-07-10T07:43:01.721Z"
   },
   {
    "duration": 3499,
    "start_time": "2025-07-10T07:43:18.876Z"
   },
   {
    "duration": 1488,
    "start_time": "2025-07-10T07:43:29.892Z"
   },
   {
    "duration": 329,
    "start_time": "2025-07-10T07:45:17.571Z"
   },
   {
    "duration": 1533,
    "start_time": "2025-07-10T07:46:04.334Z"
   },
   {
    "duration": 50,
    "start_time": "2025-07-10T07:46:05.870Z"
   },
   {
    "duration": 39,
    "start_time": "2025-07-10T07:46:05.923Z"
   },
   {
    "duration": 127,
    "start_time": "2025-07-10T07:46:05.964Z"
   },
   {
    "duration": 14,
    "start_time": "2025-07-10T07:46:06.094Z"
   },
   {
    "duration": 44,
    "start_time": "2025-07-10T07:46:06.110Z"
   },
   {
    "duration": 10,
    "start_time": "2025-07-10T07:46:06.156Z"
   },
   {
    "duration": 32,
    "start_time": "2025-07-10T07:46:06.168Z"
   },
   {
    "duration": 54,
    "start_time": "2025-07-10T07:46:06.202Z"
   },
   {
    "duration": 40,
    "start_time": "2025-07-10T07:46:06.257Z"
   },
   {
    "duration": 102,
    "start_time": "2025-07-10T07:46:06.299Z"
   },
   {
    "duration": 33,
    "start_time": "2025-07-10T07:46:06.403Z"
   },
   {
    "duration": 28,
    "start_time": "2025-07-10T07:46:06.438Z"
   },
   {
    "duration": 16,
    "start_time": "2025-07-10T07:46:06.470Z"
   },
   {
    "duration": 43,
    "start_time": "2025-07-10T07:46:06.488Z"
   },
   {
    "duration": 36,
    "start_time": "2025-07-10T07:46:06.534Z"
   },
   {
    "duration": 11,
    "start_time": "2025-07-10T07:46:06.572Z"
   },
   {
    "duration": 14,
    "start_time": "2025-07-10T07:46:06.585Z"
   },
   {
    "duration": 887,
    "start_time": "2025-07-10T07:46:06.601Z"
   },
   {
    "duration": 1085,
    "start_time": "2025-07-10T07:46:07.490Z"
   },
   {
    "duration": 9,
    "start_time": "2025-07-10T07:46:08.578Z"
   },
   {
    "duration": 939,
    "start_time": "2025-07-10T07:46:08.589Z"
   },
   {
    "duration": 993,
    "start_time": "2025-07-10T07:46:09.529Z"
   },
   {
    "duration": 476,
    "start_time": "2025-07-10T07:46:10.524Z"
   },
   {
    "duration": 3618,
    "start_time": "2025-07-10T07:46:11.002Z"
   },
   {
    "duration": 7,
    "start_time": "2025-07-10T07:46:14.622Z"
   },
   {
    "duration": 37,
    "start_time": "2025-07-10T07:46:14.630Z"
   },
   {
    "duration": 10,
    "start_time": "2025-07-10T07:46:14.669Z"
   },
   {
    "duration": 7,
    "start_time": "2025-07-10T07:46:14.681Z"
   },
   {
    "duration": 1114,
    "start_time": "2025-07-10T07:46:14.690Z"
   },
   {
    "duration": 0,
    "start_time": "2025-07-10T07:46:15.806Z"
   },
   {
    "duration": 0,
    "start_time": "2025-07-10T07:46:15.808Z"
   },
   {
    "duration": 0,
    "start_time": "2025-07-10T07:46:15.809Z"
   },
   {
    "duration": 0,
    "start_time": "2025-07-10T07:46:15.810Z"
   },
   {
    "duration": 0,
    "start_time": "2025-07-10T07:46:15.811Z"
   },
   {
    "duration": 0,
    "start_time": "2025-07-10T07:46:15.812Z"
   },
   {
    "duration": 0,
    "start_time": "2025-07-10T07:46:15.813Z"
   },
   {
    "duration": 0,
    "start_time": "2025-07-10T07:46:15.814Z"
   },
   {
    "duration": 0,
    "start_time": "2025-07-10T07:46:15.815Z"
   },
   {
    "duration": 0,
    "start_time": "2025-07-10T07:46:15.816Z"
   },
   {
    "duration": 0,
    "start_time": "2025-07-10T07:46:15.817Z"
   },
   {
    "duration": 0,
    "start_time": "2025-07-10T07:46:15.818Z"
   },
   {
    "duration": 0,
    "start_time": "2025-07-10T07:46:15.819Z"
   },
   {
    "duration": 0,
    "start_time": "2025-07-10T07:46:15.820Z"
   },
   {
    "duration": 0,
    "start_time": "2025-07-10T07:46:15.821Z"
   },
   {
    "duration": 0,
    "start_time": "2025-07-10T07:46:15.822Z"
   },
   {
    "duration": 0,
    "start_time": "2025-07-10T07:46:15.823Z"
   },
   {
    "duration": 0,
    "start_time": "2025-07-10T07:46:15.825Z"
   },
   {
    "duration": 0,
    "start_time": "2025-07-10T07:46:15.826Z"
   },
   {
    "duration": 0,
    "start_time": "2025-07-10T07:46:15.828Z"
   },
   {
    "duration": 0,
    "start_time": "2025-07-10T07:46:15.829Z"
   },
   {
    "duration": 0,
    "start_time": "2025-07-10T07:46:15.832Z"
   },
   {
    "duration": 0,
    "start_time": "2025-07-10T07:46:15.833Z"
   },
   {
    "duration": 0,
    "start_time": "2025-07-10T07:46:15.834Z"
   },
   {
    "duration": 11082,
    "start_time": "2025-07-10T07:47:32.662Z"
   },
   {
    "duration": 2159,
    "start_time": "2025-07-10T07:47:43.746Z"
   },
   {
    "duration": 57,
    "start_time": "2025-07-10T07:47:45.907Z"
   },
   {
    "duration": 37,
    "start_time": "2025-07-10T07:47:45.967Z"
   },
   {
    "duration": 40,
    "start_time": "2025-07-10T07:47:46.006Z"
   },
   {
    "duration": 11,
    "start_time": "2025-07-10T07:47:46.048Z"
   },
   {
    "duration": 14,
    "start_time": "2025-07-10T07:47:46.100Z"
   },
   {
    "duration": 83,
    "start_time": "2025-07-10T07:47:46.116Z"
   },
   {
    "duration": 13,
    "start_time": "2025-07-10T07:47:46.202Z"
   },
   {
    "duration": 34,
    "start_time": "2025-07-10T07:47:46.217Z"
   },
   {
    "duration": 51,
    "start_time": "2025-07-10T07:47:46.253Z"
   },
   {
    "duration": 111,
    "start_time": "2025-07-10T07:47:46.306Z"
   },
   {
    "duration": 32,
    "start_time": "2025-07-10T07:47:46.419Z"
   },
   {
    "duration": 51,
    "start_time": "2025-07-10T07:47:46.454Z"
   },
   {
    "duration": 20,
    "start_time": "2025-07-10T07:47:46.506Z"
   },
   {
    "duration": 71,
    "start_time": "2025-07-10T07:47:46.528Z"
   },
   {
    "duration": 21,
    "start_time": "2025-07-10T07:47:46.600Z"
   },
   {
    "duration": 25,
    "start_time": "2025-07-10T07:47:46.623Z"
   },
   {
    "duration": 61,
    "start_time": "2025-07-10T07:47:46.649Z"
   },
   {
    "duration": 1121,
    "start_time": "2025-07-10T07:47:46.711Z"
   },
   {
    "duration": 1069,
    "start_time": "2025-07-10T07:47:47.834Z"
   },
   {
    "duration": 7,
    "start_time": "2025-07-10T07:47:48.905Z"
   },
   {
    "duration": 1749,
    "start_time": "2025-07-10T07:47:48.914Z"
   },
   {
    "duration": 963,
    "start_time": "2025-07-10T07:47:50.665Z"
   },
   {
    "duration": 458,
    "start_time": "2025-07-10T07:47:51.630Z"
   },
   {
    "duration": 3567,
    "start_time": "2025-07-10T07:47:52.089Z"
   },
   {
    "duration": 6,
    "start_time": "2025-07-10T07:47:55.658Z"
   },
   {
    "duration": 133,
    "start_time": "2025-07-10T07:47:55.666Z"
   },
   {
    "duration": 6,
    "start_time": "2025-07-10T07:47:55.801Z"
   },
   {
    "duration": 7,
    "start_time": "2025-07-10T07:47:55.808Z"
   },
   {
    "duration": 2123,
    "start_time": "2025-07-10T07:47:55.816Z"
   },
   {
    "duration": 20287,
    "start_time": "2025-07-10T07:47:57.941Z"
   },
   {
    "duration": 105,
    "start_time": "2025-07-10T07:48:18.309Z"
   },
   {
    "duration": 55,
    "start_time": "2025-07-10T07:48:18.416Z"
   },
   {
    "duration": 20,
    "start_time": "2025-07-10T07:48:18.473Z"
   },
   {
    "duration": 41,
    "start_time": "2025-07-10T07:48:18.499Z"
   },
   {
    "duration": 9,
    "start_time": "2025-07-10T07:48:18.542Z"
   },
   {
    "duration": 10,
    "start_time": "2025-07-10T07:48:18.553Z"
   },
   {
    "duration": 20,
    "start_time": "2025-07-10T07:48:18.566Z"
   },
   {
    "duration": 4,
    "start_time": "2025-07-10T07:48:18.598Z"
   },
   {
    "duration": 14,
    "start_time": "2025-07-10T07:48:18.608Z"
   },
   {
    "duration": 8,
    "start_time": "2025-07-10T07:48:18.624Z"
   },
   {
    "duration": 20,
    "start_time": "2025-07-10T07:48:18.634Z"
   },
   {
    "duration": 15,
    "start_time": "2025-07-10T07:48:18.656Z"
   },
   {
    "duration": 663,
    "start_time": "2025-07-10T07:48:18.673Z"
   },
   {
    "duration": 1166,
    "start_time": "2025-07-10T07:48:19.337Z"
   },
   {
    "duration": 513,
    "start_time": "2025-07-10T07:48:20.506Z"
   },
   {
    "duration": 282,
    "start_time": "2025-07-10T07:48:21.021Z"
   },
   {
    "duration": 35,
    "start_time": "2025-07-10T07:48:21.305Z"
   },
   {
    "duration": 569,
    "start_time": "2025-07-10T07:48:21.342Z"
   },
   {
    "duration": 13,
    "start_time": "2025-07-10T07:48:21.914Z"
   },
   {
    "duration": 1216,
    "start_time": "2025-07-10T07:48:21.929Z"
   },
   {
    "duration": 13553,
    "start_time": "2025-07-10T07:48:23.147Z"
   },
   {
    "duration": 4285,
    "start_time": "2025-07-10T07:48:36.703Z"
   },
   {
    "duration": 30,
    "start_time": "2025-07-10T07:48:40.989Z"
   },
   {
    "duration": 1339,
    "start_time": "2025-07-10T07:50:44.373Z"
   }
  ],
  "kernelspec": {
   "display_name": "Python 3 (ipykernel)",
   "language": "python",
   "name": "python3"
  },
  "language_info": {
   "codemirror_mode": {
    "name": "ipython",
    "version": 3
   },
   "file_extension": ".py",
   "mimetype": "text/x-python",
   "name": "python",
   "nbconvert_exporter": "python",
   "pygments_lexer": "ipython3",
   "version": "3.9.5"
  },
  "toc": {
   "base_numbering": 1,
   "nav_menu": {},
   "number_sections": true,
   "sideBar": true,
   "skip_h1_title": true,
   "title_cell": "Table of Contents",
   "title_sidebar": "Contents",
   "toc_cell": false,
   "toc_position": {
    "height": "921px",
    "left": "36px",
    "top": "110.109px",
    "width": "220.781px"
   },
   "toc_section_display": true,
   "toc_window_display": true
  }
 },
 "nbformat": 4,
 "nbformat_minor": 5
}
