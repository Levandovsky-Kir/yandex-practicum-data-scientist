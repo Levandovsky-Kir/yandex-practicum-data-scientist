{
 "cells": [
  {
   "cell_type": "markdown",
   "id": "74fce5db",
   "metadata": {
    "deletable": false,
    "editable": false,
    "id": "c81daeeb"
   },
   "source": [
    "# Исследование надежности заемщиков\n"
   ]
  },
  {
   "cell_type": "markdown",
   "id": "101ad95a",
   "metadata": {},
   "source": [
    "**Заказчик** — кредитный отдел банка. Нужно разобраться, влияет ли семейное положение и количество детей клиента на факт погашения кредита в срок. Входные данные от банка — статистика о платёжеспособности клиентов.\n",
    "\n",
    "Результаты исследования будут учтены при построении модели кредитного скоринга — специальной системы, которая оценивает способность потенциального заёмщика вернуть кредит банку.\n",
    "\n",
    "**Описание данных**\n",
    "\n",
    "`children` — количество детей в семье;\n",
    "\n",
    "`days_employed` — общий трудовой стаж в днях;\n",
    "\n",
    "`dob_years` — возраст клиента в годах;\n",
    "\n",
    "`education` — уровень образования клиента;\n",
    "\n",
    "`education_id` — идентификатор уровня образования;\n",
    "\n",
    "`family_status` — семейное положение;\n",
    "\n",
    "`family_status_id` — идентификатор семейного положения;\n",
    "\n",
    "`gender` — пол клиента;\n",
    "\n",
    "`income_type` — тип занятости;\n",
    "\n",
    "`debt` — имел ли задолженность по возврату кредитов;\n",
    "\n",
    "`total_income` — ежемесячный доход;\n",
    "\n",
    "`purpose` — цель получения кредита."
   ]
  },
  {
   "cell_type": "markdown",
   "id": "fc01700a",
   "metadata": {
    "deletable": false,
    "editable": false,
    "id": "827c20bf"
   },
   "source": [
    "Во второй части проекта вы выполните шаги 3 и 4. Их вручную проверит ревьюер.\n",
    "Чтобы вам не пришлось писать код заново для шагов 1 и 2, мы добавили авторские решения в ячейки с кодом. \n",
    "\n"
   ]
  },
  {
   "cell_type": "markdown",
   "id": "b1b6f5b7",
   "metadata": {
    "deletable": false,
    "editable": false,
    "id": "744d7639"
   },
   "source": [
    "## Откройте таблицу и изучите общую информацию о данных"
   ]
  },
  {
   "cell_type": "markdown",
   "id": "ba569129",
   "metadata": {
    "deletable": false,
    "editable": false,
    "id": "e7a14c31"
   },
   "source": [
    "**Задание 1. Импортируйте библиотеку pandas. Считайте данные из csv-файла в датафрейм и сохраните в переменную `data`. Путь к файлу:**\n",
    "\n",
    "`/datasets/data.csv`"
   ]
  },
  {
   "cell_type": "code",
   "execution_count": 1,
   "id": "270d613e",
   "metadata": {
    "deletable": false,
    "id": "7bcf75c9"
   },
   "outputs": [],
   "source": [
    "import pandas as pd\n",
    "\n",
    "try:\n",
    "    data = pd.read_csv('/datasets/data.csv')\n",
    "except:\n",
    "    data = pd.read_csv('https://code.s3.yandex.net/datasets/data.csv')"
   ]
  },
  {
   "cell_type": "markdown",
   "id": "2b6b26fb",
   "metadata": {
    "deletable": false,
    "editable": false,
    "id": "b8038fe3"
   },
   "source": [
    "**Задание 2. Выведите первые 20 строчек датафрейма `data` на экран.**"
   ]
  },
  {
   "cell_type": "code",
   "execution_count": 2,
   "id": "debca44b",
   "metadata": {
    "deletable": false,
    "id": "2a7cab99",
    "outputId": "1a8f3ef2-d323-4ec2-ddf7-89670b5944c4"
   },
   "outputs": [
    {
     "data": {
      "text/html": [
       "<div>\n",
       "<style scoped>\n",
       "    .dataframe tbody tr th:only-of-type {\n",
       "        vertical-align: middle;\n",
       "    }\n",
       "\n",
       "    .dataframe tbody tr th {\n",
       "        vertical-align: top;\n",
       "    }\n",
       "\n",
       "    .dataframe thead th {\n",
       "        text-align: right;\n",
       "    }\n",
       "</style>\n",
       "<table border=\"1\" class=\"dataframe\">\n",
       "  <thead>\n",
       "    <tr style=\"text-align: right;\">\n",
       "      <th></th>\n",
       "      <th>children</th>\n",
       "      <th>days_employed</th>\n",
       "      <th>dob_years</th>\n",
       "      <th>education</th>\n",
       "      <th>education_id</th>\n",
       "      <th>family_status</th>\n",
       "      <th>family_status_id</th>\n",
       "      <th>gender</th>\n",
       "      <th>income_type</th>\n",
       "      <th>debt</th>\n",
       "      <th>total_income</th>\n",
       "      <th>purpose</th>\n",
       "    </tr>\n",
       "  </thead>\n",
       "  <tbody>\n",
       "    <tr>\n",
       "      <th>0</th>\n",
       "      <td>1</td>\n",
       "      <td>-8437.673028</td>\n",
       "      <td>42</td>\n",
       "      <td>высшее</td>\n",
       "      <td>0</td>\n",
       "      <td>женат / замужем</td>\n",
       "      <td>0</td>\n",
       "      <td>F</td>\n",
       "      <td>сотрудник</td>\n",
       "      <td>0</td>\n",
       "      <td>253875.639453</td>\n",
       "      <td>покупка жилья</td>\n",
       "    </tr>\n",
       "    <tr>\n",
       "      <th>1</th>\n",
       "      <td>1</td>\n",
       "      <td>-4024.803754</td>\n",
       "      <td>36</td>\n",
       "      <td>среднее</td>\n",
       "      <td>1</td>\n",
       "      <td>женат / замужем</td>\n",
       "      <td>0</td>\n",
       "      <td>F</td>\n",
       "      <td>сотрудник</td>\n",
       "      <td>0</td>\n",
       "      <td>112080.014102</td>\n",
       "      <td>приобретение автомобиля</td>\n",
       "    </tr>\n",
       "    <tr>\n",
       "      <th>2</th>\n",
       "      <td>0</td>\n",
       "      <td>-5623.422610</td>\n",
       "      <td>33</td>\n",
       "      <td>Среднее</td>\n",
       "      <td>1</td>\n",
       "      <td>женат / замужем</td>\n",
       "      <td>0</td>\n",
       "      <td>M</td>\n",
       "      <td>сотрудник</td>\n",
       "      <td>0</td>\n",
       "      <td>145885.952297</td>\n",
       "      <td>покупка жилья</td>\n",
       "    </tr>\n",
       "    <tr>\n",
       "      <th>3</th>\n",
       "      <td>3</td>\n",
       "      <td>-4124.747207</td>\n",
       "      <td>32</td>\n",
       "      <td>среднее</td>\n",
       "      <td>1</td>\n",
       "      <td>женат / замужем</td>\n",
       "      <td>0</td>\n",
       "      <td>M</td>\n",
       "      <td>сотрудник</td>\n",
       "      <td>0</td>\n",
       "      <td>267628.550329</td>\n",
       "      <td>дополнительное образование</td>\n",
       "    </tr>\n",
       "    <tr>\n",
       "      <th>4</th>\n",
       "      <td>0</td>\n",
       "      <td>340266.072047</td>\n",
       "      <td>53</td>\n",
       "      <td>среднее</td>\n",
       "      <td>1</td>\n",
       "      <td>гражданский брак</td>\n",
       "      <td>1</td>\n",
       "      <td>F</td>\n",
       "      <td>пенсионер</td>\n",
       "      <td>0</td>\n",
       "      <td>158616.077870</td>\n",
       "      <td>сыграть свадьбу</td>\n",
       "    </tr>\n",
       "    <tr>\n",
       "      <th>5</th>\n",
       "      <td>0</td>\n",
       "      <td>-926.185831</td>\n",
       "      <td>27</td>\n",
       "      <td>высшее</td>\n",
       "      <td>0</td>\n",
       "      <td>гражданский брак</td>\n",
       "      <td>1</td>\n",
       "      <td>M</td>\n",
       "      <td>компаньон</td>\n",
       "      <td>0</td>\n",
       "      <td>255763.565419</td>\n",
       "      <td>покупка жилья</td>\n",
       "    </tr>\n",
       "    <tr>\n",
       "      <th>6</th>\n",
       "      <td>0</td>\n",
       "      <td>-2879.202052</td>\n",
       "      <td>43</td>\n",
       "      <td>высшее</td>\n",
       "      <td>0</td>\n",
       "      <td>женат / замужем</td>\n",
       "      <td>0</td>\n",
       "      <td>F</td>\n",
       "      <td>компаньон</td>\n",
       "      <td>0</td>\n",
       "      <td>240525.971920</td>\n",
       "      <td>операции с жильем</td>\n",
       "    </tr>\n",
       "    <tr>\n",
       "      <th>7</th>\n",
       "      <td>0</td>\n",
       "      <td>-152.779569</td>\n",
       "      <td>50</td>\n",
       "      <td>СРЕДНЕЕ</td>\n",
       "      <td>1</td>\n",
       "      <td>женат / замужем</td>\n",
       "      <td>0</td>\n",
       "      <td>M</td>\n",
       "      <td>сотрудник</td>\n",
       "      <td>0</td>\n",
       "      <td>135823.934197</td>\n",
       "      <td>образование</td>\n",
       "    </tr>\n",
       "    <tr>\n",
       "      <th>8</th>\n",
       "      <td>2</td>\n",
       "      <td>-6929.865299</td>\n",
       "      <td>35</td>\n",
       "      <td>ВЫСШЕЕ</td>\n",
       "      <td>0</td>\n",
       "      <td>гражданский брак</td>\n",
       "      <td>1</td>\n",
       "      <td>F</td>\n",
       "      <td>сотрудник</td>\n",
       "      <td>0</td>\n",
       "      <td>95856.832424</td>\n",
       "      <td>на проведение свадьбы</td>\n",
       "    </tr>\n",
       "    <tr>\n",
       "      <th>9</th>\n",
       "      <td>0</td>\n",
       "      <td>-2188.756445</td>\n",
       "      <td>41</td>\n",
       "      <td>среднее</td>\n",
       "      <td>1</td>\n",
       "      <td>женат / замужем</td>\n",
       "      <td>0</td>\n",
       "      <td>M</td>\n",
       "      <td>сотрудник</td>\n",
       "      <td>0</td>\n",
       "      <td>144425.938277</td>\n",
       "      <td>покупка жилья для семьи</td>\n",
       "    </tr>\n",
       "    <tr>\n",
       "      <th>10</th>\n",
       "      <td>2</td>\n",
       "      <td>-4171.483647</td>\n",
       "      <td>36</td>\n",
       "      <td>высшее</td>\n",
       "      <td>0</td>\n",
       "      <td>женат / замужем</td>\n",
       "      <td>0</td>\n",
       "      <td>M</td>\n",
       "      <td>компаньон</td>\n",
       "      <td>0</td>\n",
       "      <td>113943.491460</td>\n",
       "      <td>покупка недвижимости</td>\n",
       "    </tr>\n",
       "    <tr>\n",
       "      <th>11</th>\n",
       "      <td>0</td>\n",
       "      <td>-792.701887</td>\n",
       "      <td>40</td>\n",
       "      <td>среднее</td>\n",
       "      <td>1</td>\n",
       "      <td>женат / замужем</td>\n",
       "      <td>0</td>\n",
       "      <td>F</td>\n",
       "      <td>сотрудник</td>\n",
       "      <td>0</td>\n",
       "      <td>77069.234271</td>\n",
       "      <td>покупка коммерческой недвижимости</td>\n",
       "    </tr>\n",
       "    <tr>\n",
       "      <th>12</th>\n",
       "      <td>0</td>\n",
       "      <td>NaN</td>\n",
       "      <td>65</td>\n",
       "      <td>среднее</td>\n",
       "      <td>1</td>\n",
       "      <td>гражданский брак</td>\n",
       "      <td>1</td>\n",
       "      <td>M</td>\n",
       "      <td>пенсионер</td>\n",
       "      <td>0</td>\n",
       "      <td>NaN</td>\n",
       "      <td>сыграть свадьбу</td>\n",
       "    </tr>\n",
       "    <tr>\n",
       "      <th>13</th>\n",
       "      <td>0</td>\n",
       "      <td>-1846.641941</td>\n",
       "      <td>54</td>\n",
       "      <td>неоконченное высшее</td>\n",
       "      <td>2</td>\n",
       "      <td>женат / замужем</td>\n",
       "      <td>0</td>\n",
       "      <td>F</td>\n",
       "      <td>сотрудник</td>\n",
       "      <td>0</td>\n",
       "      <td>130458.228857</td>\n",
       "      <td>приобретение автомобиля</td>\n",
       "    </tr>\n",
       "    <tr>\n",
       "      <th>14</th>\n",
       "      <td>0</td>\n",
       "      <td>-1844.956182</td>\n",
       "      <td>56</td>\n",
       "      <td>высшее</td>\n",
       "      <td>0</td>\n",
       "      <td>гражданский брак</td>\n",
       "      <td>1</td>\n",
       "      <td>F</td>\n",
       "      <td>компаньон</td>\n",
       "      <td>1</td>\n",
       "      <td>165127.911772</td>\n",
       "      <td>покупка жилой недвижимости</td>\n",
       "    </tr>\n",
       "    <tr>\n",
       "      <th>15</th>\n",
       "      <td>1</td>\n",
       "      <td>-972.364419</td>\n",
       "      <td>26</td>\n",
       "      <td>среднее</td>\n",
       "      <td>1</td>\n",
       "      <td>женат / замужем</td>\n",
       "      <td>0</td>\n",
       "      <td>F</td>\n",
       "      <td>сотрудник</td>\n",
       "      <td>0</td>\n",
       "      <td>116820.904450</td>\n",
       "      <td>строительство собственной недвижимости</td>\n",
       "    </tr>\n",
       "    <tr>\n",
       "      <th>16</th>\n",
       "      <td>0</td>\n",
       "      <td>-1719.934226</td>\n",
       "      <td>35</td>\n",
       "      <td>среднее</td>\n",
       "      <td>1</td>\n",
       "      <td>женат / замужем</td>\n",
       "      <td>0</td>\n",
       "      <td>F</td>\n",
       "      <td>сотрудник</td>\n",
       "      <td>0</td>\n",
       "      <td>289202.704229</td>\n",
       "      <td>недвижимость</td>\n",
       "    </tr>\n",
       "    <tr>\n",
       "      <th>17</th>\n",
       "      <td>0</td>\n",
       "      <td>-2369.999720</td>\n",
       "      <td>33</td>\n",
       "      <td>высшее</td>\n",
       "      <td>0</td>\n",
       "      <td>гражданский брак</td>\n",
       "      <td>1</td>\n",
       "      <td>M</td>\n",
       "      <td>сотрудник</td>\n",
       "      <td>0</td>\n",
       "      <td>90410.586745</td>\n",
       "      <td>строительство недвижимости</td>\n",
       "    </tr>\n",
       "    <tr>\n",
       "      <th>18</th>\n",
       "      <td>0</td>\n",
       "      <td>400281.136913</td>\n",
       "      <td>53</td>\n",
       "      <td>среднее</td>\n",
       "      <td>1</td>\n",
       "      <td>вдовец / вдова</td>\n",
       "      <td>2</td>\n",
       "      <td>F</td>\n",
       "      <td>пенсионер</td>\n",
       "      <td>0</td>\n",
       "      <td>56823.777243</td>\n",
       "      <td>на покупку подержанного автомобиля</td>\n",
       "    </tr>\n",
       "    <tr>\n",
       "      <th>19</th>\n",
       "      <td>0</td>\n",
       "      <td>-10038.818549</td>\n",
       "      <td>48</td>\n",
       "      <td>СРЕДНЕЕ</td>\n",
       "      <td>1</td>\n",
       "      <td>в разводе</td>\n",
       "      <td>3</td>\n",
       "      <td>F</td>\n",
       "      <td>сотрудник</td>\n",
       "      <td>0</td>\n",
       "      <td>242831.107982</td>\n",
       "      <td>на покупку своего автомобиля</td>\n",
       "    </tr>\n",
       "  </tbody>\n",
       "</table>\n",
       "</div>"
      ],
      "text/plain": [
       "    children  days_employed  dob_years            education  education_id  \\\n",
       "0          1   -8437.673028         42               высшее             0   \n",
       "1          1   -4024.803754         36              среднее             1   \n",
       "2          0   -5623.422610         33              Среднее             1   \n",
       "3          3   -4124.747207         32              среднее             1   \n",
       "4          0  340266.072047         53              среднее             1   \n",
       "5          0    -926.185831         27               высшее             0   \n",
       "6          0   -2879.202052         43               высшее             0   \n",
       "7          0    -152.779569         50              СРЕДНЕЕ             1   \n",
       "8          2   -6929.865299         35               ВЫСШЕЕ             0   \n",
       "9          0   -2188.756445         41              среднее             1   \n",
       "10         2   -4171.483647         36               высшее             0   \n",
       "11         0    -792.701887         40              среднее             1   \n",
       "12         0            NaN         65              среднее             1   \n",
       "13         0   -1846.641941         54  неоконченное высшее             2   \n",
       "14         0   -1844.956182         56               высшее             0   \n",
       "15         1    -972.364419         26              среднее             1   \n",
       "16         0   -1719.934226         35              среднее             1   \n",
       "17         0   -2369.999720         33               высшее             0   \n",
       "18         0  400281.136913         53              среднее             1   \n",
       "19         0  -10038.818549         48              СРЕДНЕЕ             1   \n",
       "\n",
       "       family_status  family_status_id gender income_type  debt  \\\n",
       "0    женат / замужем                 0      F   сотрудник     0   \n",
       "1    женат / замужем                 0      F   сотрудник     0   \n",
       "2    женат / замужем                 0      M   сотрудник     0   \n",
       "3    женат / замужем                 0      M   сотрудник     0   \n",
       "4   гражданский брак                 1      F   пенсионер     0   \n",
       "5   гражданский брак                 1      M   компаньон     0   \n",
       "6    женат / замужем                 0      F   компаньон     0   \n",
       "7    женат / замужем                 0      M   сотрудник     0   \n",
       "8   гражданский брак                 1      F   сотрудник     0   \n",
       "9    женат / замужем                 0      M   сотрудник     0   \n",
       "10   женат / замужем                 0      M   компаньон     0   \n",
       "11   женат / замужем                 0      F   сотрудник     0   \n",
       "12  гражданский брак                 1      M   пенсионер     0   \n",
       "13   женат / замужем                 0      F   сотрудник     0   \n",
       "14  гражданский брак                 1      F   компаньон     1   \n",
       "15   женат / замужем                 0      F   сотрудник     0   \n",
       "16   женат / замужем                 0      F   сотрудник     0   \n",
       "17  гражданский брак                 1      M   сотрудник     0   \n",
       "18    вдовец / вдова                 2      F   пенсионер     0   \n",
       "19         в разводе                 3      F   сотрудник     0   \n",
       "\n",
       "     total_income                                 purpose  \n",
       "0   253875.639453                           покупка жилья  \n",
       "1   112080.014102                 приобретение автомобиля  \n",
       "2   145885.952297                           покупка жилья  \n",
       "3   267628.550329              дополнительное образование  \n",
       "4   158616.077870                         сыграть свадьбу  \n",
       "5   255763.565419                           покупка жилья  \n",
       "6   240525.971920                       операции с жильем  \n",
       "7   135823.934197                             образование  \n",
       "8    95856.832424                   на проведение свадьбы  \n",
       "9   144425.938277                 покупка жилья для семьи  \n",
       "10  113943.491460                    покупка недвижимости  \n",
       "11   77069.234271       покупка коммерческой недвижимости  \n",
       "12            NaN                         сыграть свадьбу  \n",
       "13  130458.228857                 приобретение автомобиля  \n",
       "14  165127.911772              покупка жилой недвижимости  \n",
       "15  116820.904450  строительство собственной недвижимости  \n",
       "16  289202.704229                            недвижимость  \n",
       "17   90410.586745              строительство недвижимости  \n",
       "18   56823.777243      на покупку подержанного автомобиля  \n",
       "19  242831.107982            на покупку своего автомобиля  "
      ]
     },
     "execution_count": 2,
     "metadata": {},
     "output_type": "execute_result"
    }
   ],
   "source": [
    "data.head(20)"
   ]
  },
  {
   "cell_type": "markdown",
   "id": "22bf37a1",
   "metadata": {
    "deletable": false,
    "editable": false,
    "id": "1c12e233"
   },
   "source": [
    "**Задание 3. Выведите основную информацию о датафрейме с помощью метода `info()`.**"
   ]
  },
  {
   "cell_type": "code",
   "execution_count": 3,
   "id": "3a4f15e1",
   "metadata": {
    "deletable": false,
    "id": "2b757bca",
    "outputId": "15376089-8dad-46c9-b520-c05248d43158"
   },
   "outputs": [
    {
     "name": "stdout",
     "output_type": "stream",
     "text": [
      "<class 'pandas.core.frame.DataFrame'>\n",
      "RangeIndex: 21525 entries, 0 to 21524\n",
      "Data columns (total 12 columns):\n",
      " #   Column            Non-Null Count  Dtype  \n",
      "---  ------            --------------  -----  \n",
      " 0   children          21525 non-null  int64  \n",
      " 1   days_employed     19351 non-null  float64\n",
      " 2   dob_years         21525 non-null  int64  \n",
      " 3   education         21525 non-null  object \n",
      " 4   education_id      21525 non-null  int64  \n",
      " 5   family_status     21525 non-null  object \n",
      " 6   family_status_id  21525 non-null  int64  \n",
      " 7   gender            21525 non-null  object \n",
      " 8   income_type       21525 non-null  object \n",
      " 9   debt              21525 non-null  int64  \n",
      " 10  total_income      19351 non-null  float64\n",
      " 11  purpose           21525 non-null  object \n",
      "dtypes: float64(2), int64(5), object(5)\n",
      "memory usage: 2.0+ MB\n"
     ]
    }
   ],
   "source": [
    "data.info()"
   ]
  },
  {
   "cell_type": "markdown",
   "id": "0027ce29",
   "metadata": {
    "deletable": false,
    "editable": false,
    "id": "333ec665"
   },
   "source": [
    "## Предобработка данных"
   ]
  },
  {
   "cell_type": "markdown",
   "id": "b4888f1c",
   "metadata": {
    "deletable": false,
    "editable": false,
    "id": "02d92d53"
   },
   "source": [
    "### Удаление пропусков"
   ]
  },
  {
   "cell_type": "markdown",
   "id": "16992cc8",
   "metadata": {
    "deletable": false,
    "editable": false,
    "id": "cd84967c"
   },
   "source": [
    "**Задание 4. Выведите количество пропущенных значений для каждого столбца. Используйте комбинацию двух методов.**"
   ]
  },
  {
   "cell_type": "code",
   "execution_count": 4,
   "id": "41967fa9",
   "metadata": {
    "deletable": false,
    "id": "7f9b2309",
    "outputId": "81f4d817-781c-465c-ed15-91ce4446810d"
   },
   "outputs": [
    {
     "data": {
      "text/plain": [
       "children               0\n",
       "days_employed       2174\n",
       "dob_years              0\n",
       "education              0\n",
       "education_id           0\n",
       "family_status          0\n",
       "family_status_id       0\n",
       "gender                 0\n",
       "income_type            0\n",
       "debt                   0\n",
       "total_income        2174\n",
       "purpose                0\n",
       "dtype: int64"
      ]
     },
     "execution_count": 4,
     "metadata": {},
     "output_type": "execute_result"
    }
   ],
   "source": [
    "data.isna().sum()"
   ]
  },
  {
   "cell_type": "markdown",
   "id": "0e9d7f0c",
   "metadata": {
    "deletable": false,
    "editable": false,
    "id": "db86e27b"
   },
   "source": [
    "**Задание 5. В двух столбцах есть пропущенные значения. Один из них — `days_employed`. Пропуски в этом столбце вы обработаете на следующем этапе. Другой столбец с пропущенными значениями — `total_income` — хранит данные о доходах. На сумму дохода сильнее всего влияет тип занятости, поэтому заполнить пропуски в этом столбце нужно медианным значением по каждому типу из столбца `income_type`. Например, у человека с типом занятости `сотрудник` пропуск в столбце `total_income` должен быть заполнен медианным доходом среди всех записей с тем же типом.**"
   ]
  },
  {
   "cell_type": "code",
   "execution_count": 5,
   "id": "21edb7e5",
   "metadata": {
    "deletable": false,
    "id": "42006a93"
   },
   "outputs": [],
   "source": [
    "for t in data['income_type'].unique():\n",
    "    data.loc[(data['income_type'] == t) & (data['total_income'].isna()), 'total_income'] = \\\n",
    "    data.loc[(data['income_type'] == t), 'total_income'].median()"
   ]
  },
  {
   "cell_type": "markdown",
   "id": "c4800409",
   "metadata": {
    "deletable": false,
    "editable": false,
    "id": "89da5ece"
   },
   "source": [
    "### Обработка аномальных значений"
   ]
  },
  {
   "cell_type": "markdown",
   "id": "c8e9a29a",
   "metadata": {
    "deletable": false,
    "editable": false,
    "id": "57964554"
   },
   "source": [
    "**Задание 6. В данных могут встречаться артефакты (аномалии) — значения, которые не отражают действительность и появились по какой-то ошибке. таким артефактом будет отрицательное количество дней трудового стажа в столбце `days_employed`. Для реальных данных это нормально. Обработайте значения в этом столбце: замените все отрицательные значения положительными с помощью метода `abs()`.**"
   ]
  },
  {
   "cell_type": "code",
   "execution_count": 6,
   "id": "30622b49",
   "metadata": {
    "deletable": false,
    "id": "f6f055bf"
   },
   "outputs": [],
   "source": [
    "data['days_employed'] = data['days_employed'].abs()"
   ]
  },
  {
   "cell_type": "markdown",
   "id": "f3728cf9",
   "metadata": {
    "deletable": false,
    "editable": false,
    "id": "6107dd2f"
   },
   "source": [
    "**Задание 7. Для каждого типа занятости выведите медианное значение трудового стажа `days_employed` в днях.**"
   ]
  },
  {
   "cell_type": "code",
   "execution_count": 7,
   "id": "5e27faa3",
   "metadata": {
    "deletable": false,
    "id": "85a5faf6",
    "outputId": "801ef80e-522b-4668-f34e-565af7432bcf"
   },
   "outputs": [
    {
     "data": {
      "text/plain": [
       "income_type\n",
       "безработный        366413.652744\n",
       "в декрете            3296.759962\n",
       "госслужащий          2689.368353\n",
       "компаньон            1547.382223\n",
       "пенсионер          365213.306266\n",
       "предприниматель       520.848083\n",
       "сотрудник            1574.202821\n",
       "студент               578.751554\n",
       "Name: days_employed, dtype: float64"
      ]
     },
     "execution_count": 7,
     "metadata": {},
     "output_type": "execute_result"
    }
   ],
   "source": [
    "data.groupby('income_type')['days_employed'].agg('median')"
   ]
  },
  {
   "cell_type": "markdown",
   "id": "a9c0e439",
   "metadata": {
    "deletable": false,
    "editable": false,
    "id": "38d1a030"
   },
   "source": [
    "У двух типов (безработные и пенсионеры) получатся аномально большие значения. Исправить такие значения сложно, поэтому оставьте их как есть. Тем более этот столбец не понадобится вам для исследования."
   ]
  },
  {
   "cell_type": "markdown",
   "id": "a593d377",
   "metadata": {
    "deletable": false,
    "editable": false,
    "id": "d8a9f147"
   },
   "source": [
    "**Задание 8. Выведите перечень уникальных значений столбца `children`.**"
   ]
  },
  {
   "cell_type": "code",
   "execution_count": 8,
   "id": "f507ac91",
   "metadata": {
    "deletable": false,
    "id": "ef5056eb",
    "outputId": "6975b15c-7f95-4697-d16d-a0c79b657b03"
   },
   "outputs": [
    {
     "data": {
      "text/plain": [
       "array([ 1,  0,  3,  2, -1,  4, 20,  5])"
      ]
     },
     "execution_count": 8,
     "metadata": {},
     "output_type": "execute_result"
    }
   ],
   "source": [
    "data['children'].unique()"
   ]
  },
  {
   "cell_type": "markdown",
   "id": "349c0148",
   "metadata": {
    "deletable": false,
    "editable": false,
    "id": "40b9ebf2"
   },
   "source": [
    "**Задание 9. В столбце `children` есть два аномальных значения. Удалите строки, в которых встречаются такие аномальные значения из датафрейма `data`.**"
   ]
  },
  {
   "cell_type": "code",
   "execution_count": 9,
   "id": "24e16007",
   "metadata": {
    "deletable": false,
    "id": "3ff9801d"
   },
   "outputs": [],
   "source": [
    "data = data[(data['children'] != -1) & (data['children'] != 20)]"
   ]
  },
  {
   "cell_type": "markdown",
   "id": "7e6d738e",
   "metadata": {
    "deletable": false,
    "editable": false,
    "id": "bbc4d0ce"
   },
   "source": [
    "**Задание 10. Ещё раз выведите перечень уникальных значений столбца `children`, чтобы убедиться, что артефакты удалены.**"
   ]
  },
  {
   "cell_type": "code",
   "execution_count": 10,
   "id": "dcd61e8a",
   "metadata": {
    "deletable": false,
    "id": "ad4fa8b7",
    "outputId": "b2097101-d49d-44d9-901b-32a65c9463d1"
   },
   "outputs": [
    {
     "data": {
      "text/plain": [
       "array([1, 0, 3, 2, 4, 5])"
      ]
     },
     "execution_count": 10,
     "metadata": {},
     "output_type": "execute_result"
    }
   ],
   "source": [
    "data['children'].unique()"
   ]
  },
  {
   "cell_type": "markdown",
   "id": "0a4c895b",
   "metadata": {
    "deletable": false,
    "editable": false,
    "id": "75440b63"
   },
   "source": [
    "### Удаление пропусков (продолжение)"
   ]
  },
  {
   "cell_type": "markdown",
   "id": "7a9a5e9b",
   "metadata": {
    "deletable": false,
    "editable": false,
    "id": "f4ea573f"
   },
   "source": [
    "**Задание 11. Заполните пропуски в столбце `days_employed` медианными значениями по каждого типа занятости `income_type`.**"
   ]
  },
  {
   "cell_type": "code",
   "execution_count": 11,
   "id": "cd0882a1",
   "metadata": {
    "deletable": false,
    "id": "af6b1a7e"
   },
   "outputs": [],
   "source": [
    "for t in data['income_type'].unique():\n",
    "    data.loc[(data['income_type'] == t) & (data['days_employed'].isna()), 'days_employed'] = \\\n",
    "    data.loc[(data['income_type'] == t), 'days_employed'].median()"
   ]
  },
  {
   "cell_type": "markdown",
   "id": "4d548287",
   "metadata": {
    "deletable": false,
    "editable": false,
    "id": "2753f40d"
   },
   "source": [
    "**Задание 12. Убедитесь, что все пропуски заполнены. Проверьте себя и ещё раз выведите количество пропущенных значений для каждого столбца с помощью двух методов.**"
   ]
  },
  {
   "cell_type": "code",
   "execution_count": 12,
   "id": "70381ee7",
   "metadata": {
    "deletable": false,
    "id": "55f78bc2",
    "outputId": "8da1e4e1-358e-4e87-98c9-f261bce0a7b2"
   },
   "outputs": [
    {
     "data": {
      "text/plain": [
       "children            0\n",
       "days_employed       0\n",
       "dob_years           0\n",
       "education           0\n",
       "education_id        0\n",
       "family_status       0\n",
       "family_status_id    0\n",
       "gender              0\n",
       "income_type         0\n",
       "debt                0\n",
       "total_income        0\n",
       "purpose             0\n",
       "dtype: int64"
      ]
     },
     "execution_count": 12,
     "metadata": {},
     "output_type": "execute_result"
    }
   ],
   "source": [
    "data.isna().sum()"
   ]
  },
  {
   "cell_type": "markdown",
   "id": "cdc11195",
   "metadata": {
    "deletable": false,
    "editable": false,
    "id": "ddc81e43"
   },
   "source": [
    "### Изменение типов данных"
   ]
  },
  {
   "cell_type": "markdown",
   "id": "f81d40c2",
   "metadata": {
    "deletable": false,
    "editable": false,
    "id": "42d19d24"
   },
   "source": [
    "**Задание 13. Замените вещественный тип данных в столбце `total_income` на целочисленный с помощью метода `astype()`.**"
   ]
  },
  {
   "cell_type": "code",
   "execution_count": 13,
   "id": "3a4c189e",
   "metadata": {
    "deletable": false,
    "id": "920b65ad"
   },
   "outputs": [],
   "source": [
    "data['total_income'] = data['total_income'].astype(int)"
   ]
  },
  {
   "cell_type": "markdown",
   "id": "1becf24a",
   "metadata": {
    "deletable": false,
    "editable": false,
    "id": "80c420ba"
   },
   "source": [
    "### Обработка дубликатов"
   ]
  },
  {
   "cell_type": "markdown",
   "id": "ffc5ed53",
   "metadata": {
    "deletable": false,
    "editable": false
   },
   "source": [
    "**Задание 14. Обработайте неявные дубликаты в столбце `education`. В этом столбце есть одни и те же значения, но записанные по-разному: с использованием заглавных и строчных букв. Приведите их к нижнему регистру. Проверьте остальные столбцы.**"
   ]
  },
  {
   "cell_type": "code",
   "execution_count": 14,
   "id": "1b60aa33",
   "metadata": {
    "deletable": false
   },
   "outputs": [],
   "source": [
    "data['education'] = data['education'].str.lower()"
   ]
  },
  {
   "cell_type": "markdown",
   "id": "683f7b71",
   "metadata": {
    "deletable": false,
    "editable": false,
    "id": "dc587695"
   },
   "source": [
    "**Задание 15. Выведите на экран количество строк-дубликатов в данных. Если такие строки присутствуют, удалите их.**"
   ]
  },
  {
   "cell_type": "code",
   "execution_count": 15,
   "id": "4f35d0ef",
   "metadata": {
    "deletable": false,
    "id": "3ee445e4",
    "outputId": "9684deba-1934-42d1-99e1-cda61740f822"
   },
   "outputs": [
    {
     "data": {
      "text/plain": [
       "71"
      ]
     },
     "execution_count": 15,
     "metadata": {},
     "output_type": "execute_result"
    }
   ],
   "source": [
    "data.duplicated().sum()"
   ]
  },
  {
   "cell_type": "code",
   "execution_count": 16,
   "id": "728f937b",
   "metadata": {
    "deletable": false,
    "id": "8575fe05"
   },
   "outputs": [],
   "source": [
    "data = data.drop_duplicates()"
   ]
  },
  {
   "cell_type": "markdown",
   "id": "98cd7108",
   "metadata": {
    "deletable": false,
    "editable": false,
    "id": "9904cf55"
   },
   "source": [
    "### Категоризация данных"
   ]
  },
  {
   "cell_type": "markdown",
   "id": "7114d697",
   "metadata": {
    "deletable": false,
    "editable": false,
    "id": "72fcc8a2"
   },
   "source": [
    "**Задание 16. На основании диапазонов, указанных ниже, создайте в датафрейме `data` столбец `total_income_category` с категориями:**\n",
    "\n",
    "- 0–30000 — `'E'`;\n",
    "- 30001–50000 — `'D'`;\n",
    "- 50001–200000 — `'C'`;\n",
    "- 200001–1000000 — `'B'`;\n",
    "- 1000001 и выше — `'A'`.\n",
    "\n",
    "\n",
    "**Например, кредитополучателю с доходом 25000 нужно назначить категорию `'E'`, а клиенту, получающему 235000, — `'B'`. Используйте собственную функцию с именем `categorize_income()` и метод `apply()`.**"
   ]
  },
  {
   "cell_type": "code",
   "execution_count": 17,
   "id": "f7e96063",
   "metadata": {
    "deletable": false,
    "id": "e1771346"
   },
   "outputs": [],
   "source": [
    "def categorize_income(income):\n",
    "    try:\n",
    "        if 0 <= income <= 30000:\n",
    "            return 'E'\n",
    "        elif 30001 <= income <= 50000:\n",
    "            return 'D'\n",
    "        elif 50001 <= income <= 200000:\n",
    "            return 'C'\n",
    "        elif 200001 <= income <= 1000000:\n",
    "            return 'B'\n",
    "        elif income >= 1000001:\n",
    "            return 'A'\n",
    "    except:\n",
    "        pass"
   ]
  },
  {
   "cell_type": "code",
   "execution_count": 18,
   "id": "c50819a8",
   "metadata": {
    "deletable": false,
    "id": "d5f3586d"
   },
   "outputs": [],
   "source": [
    "data['total_income_category'] = data['total_income'].apply(categorize_income)"
   ]
  },
  {
   "cell_type": "markdown",
   "id": "f993037b",
   "metadata": {
    "deletable": false,
    "editable": false,
    "id": "dde49b5c"
   },
   "source": [
    "**Задание 17. Выведите на экран перечень уникальных целей взятия кредита из столбца `purpose`.**"
   ]
  },
  {
   "cell_type": "code",
   "execution_count": 19,
   "id": "3ebf8696",
   "metadata": {
    "deletable": false,
    "id": "f67ce9b3",
    "outputId": "673c12d9-7d7e-4ae0-9812-c622c89dd244"
   },
   "outputs": [
    {
     "data": {
      "text/plain": [
       "array(['покупка жилья', 'приобретение автомобиля',\n",
       "       'дополнительное образование', 'сыграть свадьбу',\n",
       "       'операции с жильем', 'образование', 'на проведение свадьбы',\n",
       "       'покупка жилья для семьи', 'покупка недвижимости',\n",
       "       'покупка коммерческой недвижимости', 'покупка жилой недвижимости',\n",
       "       'строительство собственной недвижимости', 'недвижимость',\n",
       "       'строительство недвижимости', 'на покупку подержанного автомобиля',\n",
       "       'на покупку своего автомобиля',\n",
       "       'операции с коммерческой недвижимостью',\n",
       "       'строительство жилой недвижимости', 'жилье',\n",
       "       'операции со своей недвижимостью', 'автомобили',\n",
       "       'заняться образованием', 'сделка с подержанным автомобилем',\n",
       "       'получение образования', 'автомобиль', 'свадьба',\n",
       "       'получение дополнительного образования', 'покупка своего жилья',\n",
       "       'операции с недвижимостью', 'получение высшего образования',\n",
       "       'свой автомобиль', 'сделка с автомобилем',\n",
       "       'профильное образование', 'высшее образование',\n",
       "       'покупка жилья для сдачи', 'на покупку автомобиля', 'ремонт жилью',\n",
       "       'заняться высшим образованием'], dtype=object)"
      ]
     },
     "execution_count": 19,
     "metadata": {},
     "output_type": "execute_result"
    }
   ],
   "source": [
    "data['purpose'].unique()"
   ]
  },
  {
   "cell_type": "markdown",
   "id": "f68c6c0d",
   "metadata": {
    "deletable": false,
    "editable": false,
    "id": "85d0aef0"
   },
   "source": [
    "**Задание 18. Создайте функцию, которая на основании данных из столбца `purpose` сформирует новый столбец `purpose_category`, в который войдут следующие категории:**\n",
    "\n",
    "- `'операции с автомобилем'`,\n",
    "- `'операции с недвижимостью'`,\n",
    "- `'проведение свадьбы'`,\n",
    "- `'получение образования'`.\n",
    "\n",
    "**Например, если в столбце `purpose` находится подстрока `'на покупку автомобиля'`, то в столбце `purpose_category` должна появиться строка `'операции с автомобилем'`.**\n",
    "\n",
    "**Используйте собственную функцию с именем `categorize_purpose()` и метод `apply()`. Изучите данные в столбце `purpose` и определите, какие подстроки помогут вам правильно определить категорию.**"
   ]
  },
  {
   "cell_type": "code",
   "execution_count": 20,
   "id": "cb006ca5",
   "metadata": {
    "deletable": false,
    "id": "e149fab4"
   },
   "outputs": [],
   "source": [
    "def categorize_purpose(row):\n",
    "    try:\n",
    "        if 'автом' in row:\n",
    "            return 'операции с автомобилем'\n",
    "        elif 'жил' in row or 'недвиж' in row:\n",
    "            return 'операции с недвижимостью'\n",
    "        elif 'свад' in row:\n",
    "            return 'проведение свадьбы'\n",
    "        elif 'образов' in row:\n",
    "            return 'получение образования'\n",
    "    except:\n",
    "        return 'нет категории'"
   ]
  },
  {
   "cell_type": "code",
   "execution_count": 21,
   "id": "14dc825a",
   "metadata": {
    "deletable": false,
    "id": "bf36e69b"
   },
   "outputs": [],
   "source": [
    "data['purpose_category'] = data['purpose'].apply(categorize_purpose)"
   ]
  },
  {
   "cell_type": "markdown",
   "id": "0eccb4de",
   "metadata": {
    "deletable": false,
    "editable": false,
    "id": "09b242bf"
   },
   "source": [
    "### Шаг 3. Исследуйте данные и ответьте на вопросы"
   ]
  },
  {
   "cell_type": "markdown",
   "id": "10a12495",
   "metadata": {
    "deletable": false,
    "editable": false,
    "id": "c5d66278"
   },
   "source": [
    "#### 3.1 Есть ли зависимость между количеством детей и возвратом кредита в срок?"
   ]
  },
  {
   "cell_type": "code",
   "execution_count": 22,
   "id": "ebb14e4d",
   "metadata": {
    "deletable": false,
    "id": "2cacfc4a",
    "scrolled": true
   },
   "outputs": [
    {
     "data": {
      "text/html": [
       "<div>\n",
       "<style scoped>\n",
       "    .dataframe tbody tr th:only-of-type {\n",
       "        vertical-align: middle;\n",
       "    }\n",
       "\n",
       "    .dataframe tbody tr th {\n",
       "        vertical-align: top;\n",
       "    }\n",
       "\n",
       "    .dataframe thead th {\n",
       "        text-align: right;\n",
       "    }\n",
       "</style>\n",
       "<table border=\"1\" class=\"dataframe\">\n",
       "  <thead>\n",
       "    <tr style=\"text-align: right;\">\n",
       "      <th></th>\n",
       "      <th>Количество детей у заемщика</th>\n",
       "      <th>Количество заемщиков</th>\n",
       "      <th>Количество должников</th>\n",
       "      <th>Процент должников</th>\n",
       "    </tr>\n",
       "  </thead>\n",
       "  <tbody>\n",
       "    <tr>\n",
       "      <th>0</th>\n",
       "      <td>0</td>\n",
       "      <td>14091</td>\n",
       "      <td>1063</td>\n",
       "      <td>7.543822</td>\n",
       "    </tr>\n",
       "    <tr>\n",
       "      <th>1</th>\n",
       "      <td>1</td>\n",
       "      <td>4808</td>\n",
       "      <td>444</td>\n",
       "      <td>9.234609</td>\n",
       "    </tr>\n",
       "    <tr>\n",
       "      <th>2</th>\n",
       "      <td>2</td>\n",
       "      <td>2052</td>\n",
       "      <td>194</td>\n",
       "      <td>9.454191</td>\n",
       "    </tr>\n",
       "    <tr>\n",
       "      <th>3</th>\n",
       "      <td>3</td>\n",
       "      <td>330</td>\n",
       "      <td>27</td>\n",
       "      <td>8.181818</td>\n",
       "    </tr>\n",
       "    <tr>\n",
       "      <th>4</th>\n",
       "      <td>4</td>\n",
       "      <td>41</td>\n",
       "      <td>4</td>\n",
       "      <td>9.756098</td>\n",
       "    </tr>\n",
       "    <tr>\n",
       "      <th>5</th>\n",
       "      <td>5</td>\n",
       "      <td>9</td>\n",
       "      <td>0</td>\n",
       "      <td>0.000000</td>\n",
       "    </tr>\n",
       "  </tbody>\n",
       "</table>\n",
       "</div>"
      ],
      "text/plain": [
       "   Количество детей у заемщика  Количество заемщиков  Количество должников  \\\n",
       "0                            0                 14091                  1063   \n",
       "1                            1                  4808                   444   \n",
       "2                            2                  2052                   194   \n",
       "3                            3                   330                    27   \n",
       "4                            4                    41                     4   \n",
       "5                            5                     9                     0   \n",
       "\n",
       "   Процент должников  \n",
       "0           7.543822  \n",
       "1           9.234609  \n",
       "2           9.454191  \n",
       "3           8.181818  \n",
       "4           9.756098  \n",
       "5           0.000000  "
      ]
     },
     "execution_count": 22,
     "metadata": {},
     "output_type": "execute_result"
    }
   ],
   "source": [
    " #сгрупперуем данные по количеству детей и столбцу 'debt', применяя агрегацию данных\n",
    "children_group = data.groupby('children')['debt'].agg(['count','sum', 'mean'])\n",
    "#домножим столбец с долей должников на 100, чтоб процент должников\n",
    "children_group['mean'] = children_group['mean'] * 100\n",
    "# Сбрасываем индекс, чтобы 'children' стал столбцом\n",
    "children_group = children_group.reset_index()\n",
    "#переименуем столбцы для упрощения ознокомления с данными\n",
    "children_group.columns = ['Количество детей у заемщика', 'Количество заемщиков', 'Количество должников', 'Процент должников']\n",
    "children_group"
   ]
  },
  {
   "cell_type": "markdown",
   "id": "5d9b36d3",
   "metadata": {
    "deletable": false,
    "id": "3a6b99ec"
   },
   "source": [
    "**Вывод:** \n",
    "Исходя из представленных данных, процент должников не сильно зависит от количества детей. Отметим только, что процент должников без детей в среднем на 1,5 % ниже в сравнении с должниками с детьми. Нулевой процент должников среди заемщиков с петью детьми связон с тем, что их количество мало. "
   ]
  },
  {
   "cell_type": "markdown",
   "id": "aabc6c8e",
   "metadata": {
    "deletable": false,
    "editable": false,
    "id": "97be82ca"
   },
   "source": [
    "#### 3.2 Есть ли зависимость между семейным положением и возвратом кредита в срок?"
   ]
  },
  {
   "cell_type": "code",
   "execution_count": 23,
   "id": "8378e9c6",
   "metadata": {
    "deletable": false,
    "id": "dc3f7ee8"
   },
   "outputs": [
    {
     "data": {
      "text/html": [
       "<div>\n",
       "<style scoped>\n",
       "    .dataframe tbody tr th:only-of-type {\n",
       "        vertical-align: middle;\n",
       "    }\n",
       "\n",
       "    .dataframe tbody tr th {\n",
       "        vertical-align: top;\n",
       "    }\n",
       "\n",
       "    .dataframe thead th {\n",
       "        text-align: right;\n",
       "    }\n",
       "</style>\n",
       "<table border=\"1\" class=\"dataframe\">\n",
       "  <thead>\n",
       "    <tr style=\"text-align: right;\">\n",
       "      <th></th>\n",
       "      <th>Семейный статус заемщика</th>\n",
       "      <th>Количество заемщиков</th>\n",
       "      <th>Количество должников</th>\n",
       "      <th>Процент должников</th>\n",
       "    </tr>\n",
       "  </thead>\n",
       "  <tbody>\n",
       "    <tr>\n",
       "      <th>0</th>\n",
       "      <td>Не женат / не замужем</td>\n",
       "      <td>2796</td>\n",
       "      <td>273</td>\n",
       "      <td>9.763948</td>\n",
       "    </tr>\n",
       "    <tr>\n",
       "      <th>1</th>\n",
       "      <td>в разводе</td>\n",
       "      <td>1189</td>\n",
       "      <td>84</td>\n",
       "      <td>7.064760</td>\n",
       "    </tr>\n",
       "    <tr>\n",
       "      <th>2</th>\n",
       "      <td>вдовец / вдова</td>\n",
       "      <td>951</td>\n",
       "      <td>63</td>\n",
       "      <td>6.624606</td>\n",
       "    </tr>\n",
       "    <tr>\n",
       "      <th>3</th>\n",
       "      <td>гражданский брак</td>\n",
       "      <td>4134</td>\n",
       "      <td>385</td>\n",
       "      <td>9.313014</td>\n",
       "    </tr>\n",
       "    <tr>\n",
       "      <th>4</th>\n",
       "      <td>женат / замужем</td>\n",
       "      <td>12261</td>\n",
       "      <td>927</td>\n",
       "      <td>7.560558</td>\n",
       "    </tr>\n",
       "  </tbody>\n",
       "</table>\n",
       "</div>"
      ],
      "text/plain": [
       "  Семейный статус заемщика  Количество заемщиков  Количество должников  \\\n",
       "0    Не женат / не замужем                  2796                   273   \n",
       "1                в разводе                  1189                    84   \n",
       "2           вдовец / вдова                   951                    63   \n",
       "3         гражданский брак                  4134                   385   \n",
       "4          женат / замужем                 12261                   927   \n",
       "\n",
       "   Процент должников  \n",
       "0           9.763948  \n",
       "1           7.064760  \n",
       "2           6.624606  \n",
       "3           9.313014  \n",
       "4           7.560558  "
      ]
     },
     "execution_count": 23,
     "metadata": {},
     "output_type": "execute_result"
    }
   ],
   "source": [
    "family_group = data.groupby('family_status')['debt'].agg(['count','sum', 'mean'])\n",
    "family_group['mean'] = family_group['mean'] * 100\n",
    "family_group = family_group.reset_index()\n",
    "family_group.columns = ['Семейный статус заемщика', 'Количество заемщиков', 'Количество должников', 'Процент должников']\n",
    "family_group"
   ]
  },
  {
   "cell_type": "markdown",
   "id": "242b4bd3",
   "metadata": {
    "deletable": false,
    "id": "1cef7837"
   },
   "source": [
    "**Вывод:** \n",
    "Исходя из процентов должников по каждой категории, зависимость между семейным положением и возвратом кредита в срок не наблюдается. "
   ]
  },
  {
   "cell_type": "markdown",
   "id": "af80bc11",
   "metadata": {
    "deletable": false,
    "editable": false,
    "id": "1e8b2fca"
   },
   "source": [
    "#### 3.3 Есть ли зависимость между уровнем дохода и возвратом кредита в срок?"
   ]
  },
  {
   "cell_type": "code",
   "execution_count": 24,
   "id": "7b2136b0",
   "metadata": {
    "deletable": false,
    "id": "cd7e3720"
   },
   "outputs": [
    {
     "data": {
      "text/html": [
       "<div>\n",
       "<style scoped>\n",
       "    .dataframe tbody tr th:only-of-type {\n",
       "        vertical-align: middle;\n",
       "    }\n",
       "\n",
       "    .dataframe tbody tr th {\n",
       "        vertical-align: top;\n",
       "    }\n",
       "\n",
       "    .dataframe thead th {\n",
       "        text-align: right;\n",
       "    }\n",
       "</style>\n",
       "<table border=\"1\" class=\"dataframe\">\n",
       "  <thead>\n",
       "    <tr style=\"text-align: right;\">\n",
       "      <th></th>\n",
       "      <th>Категория дохода заемщика</th>\n",
       "      <th>Количество заемщиков</th>\n",
       "      <th>Количество должников</th>\n",
       "      <th>Процент должников</th>\n",
       "    </tr>\n",
       "  </thead>\n",
       "  <tbody>\n",
       "    <tr>\n",
       "      <th>0</th>\n",
       "      <td>A</td>\n",
       "      <td>25</td>\n",
       "      <td>2</td>\n",
       "      <td>8.000000</td>\n",
       "    </tr>\n",
       "    <tr>\n",
       "      <th>1</th>\n",
       "      <td>B</td>\n",
       "      <td>5014</td>\n",
       "      <td>354</td>\n",
       "      <td>7.060231</td>\n",
       "    </tr>\n",
       "    <tr>\n",
       "      <th>2</th>\n",
       "      <td>C</td>\n",
       "      <td>15921</td>\n",
       "      <td>1353</td>\n",
       "      <td>8.498210</td>\n",
       "    </tr>\n",
       "    <tr>\n",
       "      <th>3</th>\n",
       "      <td>D</td>\n",
       "      <td>349</td>\n",
       "      <td>21</td>\n",
       "      <td>6.017192</td>\n",
       "    </tr>\n",
       "    <tr>\n",
       "      <th>4</th>\n",
       "      <td>E</td>\n",
       "      <td>22</td>\n",
       "      <td>2</td>\n",
       "      <td>9.090909</td>\n",
       "    </tr>\n",
       "  </tbody>\n",
       "</table>\n",
       "</div>"
      ],
      "text/plain": [
       "  Категория дохода заемщика  Количество заемщиков  Количество должников  \\\n",
       "0                         A                    25                     2   \n",
       "1                         B                  5014                   354   \n",
       "2                         C                 15921                  1353   \n",
       "3                         D                   349                    21   \n",
       "4                         E                    22                     2   \n",
       "\n",
       "   Процент должников  \n",
       "0           8.000000  \n",
       "1           7.060231  \n",
       "2           8.498210  \n",
       "3           6.017192  \n",
       "4           9.090909  "
      ]
     },
     "execution_count": 24,
     "metadata": {},
     "output_type": "execute_result"
    }
   ],
   "source": [
    "income_group = data.groupby('total_income_category')['debt'].agg(['count','sum', 'mean'])\n",
    "income_group['mean'] = income_group['mean'] * 100\n",
    "income_group = income_group.reset_index()\n",
    "income_group.columns = ['Категория дохода заемщика', 'Количество заемщиков', 'Количество должников', 'Процент должников']\n",
    "income_group"
   ]
  },
  {
   "cell_type": "markdown",
   "id": "eac8e07b",
   "metadata": {
    "deletable": false,
    "id": "e8593def"
   },
   "source": [
    "**Вывод:** \n",
    "Нельзя сделать надежный вывод по полученным данным, так как категория \"А\" и \"Е\" слишком малы. "
   ]
  },
  {
   "cell_type": "markdown",
   "id": "a386bfae",
   "metadata": {},
   "source": [
    "<div class=\"alert alert-success\">\n",
    "<font size=\"5\"><b>Комментарий ревьюера 2</b></font>\n",
    "\n",
    "Успех: Верно!\n",
    "\n",
    "</div>"
   ]
  },
  {
   "cell_type": "markdown",
   "id": "7dc53d17",
   "metadata": {
    "deletable": false,
    "editable": false,
    "id": "99ecbd1f"
   },
   "source": [
    "#### 3.4 Как разные цели кредита влияют на его возврат в срок?"
   ]
  },
  {
   "cell_type": "code",
   "execution_count": 25,
   "id": "0e0da07c",
   "metadata": {
    "deletable": false,
    "id": "2b687290"
   },
   "outputs": [
    {
     "data": {
      "text/html": [
       "<div>\n",
       "<style scoped>\n",
       "    .dataframe tbody tr th:only-of-type {\n",
       "        vertical-align: middle;\n",
       "    }\n",
       "\n",
       "    .dataframe tbody tr th {\n",
       "        vertical-align: top;\n",
       "    }\n",
       "\n",
       "    .dataframe thead th {\n",
       "        text-align: right;\n",
       "    }\n",
       "</style>\n",
       "<table border=\"1\" class=\"dataframe\">\n",
       "  <thead>\n",
       "    <tr style=\"text-align: right;\">\n",
       "      <th></th>\n",
       "      <th>Цель кредита заещика</th>\n",
       "      <th>Количество заемщиков</th>\n",
       "      <th>Количество должников</th>\n",
       "      <th>Процент должников</th>\n",
       "    </tr>\n",
       "  </thead>\n",
       "  <tbody>\n",
       "    <tr>\n",
       "      <th>0</th>\n",
       "      <td>операции с автомобилем</td>\n",
       "      <td>4279</td>\n",
       "      <td>400</td>\n",
       "      <td>9.347978</td>\n",
       "    </tr>\n",
       "    <tr>\n",
       "      <th>1</th>\n",
       "      <td>операции с недвижимостью</td>\n",
       "      <td>10751</td>\n",
       "      <td>780</td>\n",
       "      <td>7.255139</td>\n",
       "    </tr>\n",
       "    <tr>\n",
       "      <th>2</th>\n",
       "      <td>получение образования</td>\n",
       "      <td>3988</td>\n",
       "      <td>369</td>\n",
       "      <td>9.252758</td>\n",
       "    </tr>\n",
       "    <tr>\n",
       "      <th>3</th>\n",
       "      <td>проведение свадьбы</td>\n",
       "      <td>2313</td>\n",
       "      <td>183</td>\n",
       "      <td>7.911803</td>\n",
       "    </tr>\n",
       "  </tbody>\n",
       "</table>\n",
       "</div>"
      ],
      "text/plain": [
       "       Цель кредита заещика  Количество заемщиков  Количество должников  \\\n",
       "0    операции с автомобилем                  4279                   400   \n",
       "1  операции с недвижимостью                 10751                   780   \n",
       "2     получение образования                  3988                   369   \n",
       "3        проведение свадьбы                  2313                   183   \n",
       "\n",
       "   Процент должников  \n",
       "0           9.347978  \n",
       "1           7.255139  \n",
       "2           9.252758  \n",
       "3           7.911803  "
      ]
     },
     "execution_count": 25,
     "metadata": {},
     "output_type": "execute_result"
    }
   ],
   "source": [
    "purpose_group = data.groupby('purpose_category')['debt'].agg(['count','sum', 'mean'])\n",
    "purpose_group['mean'] = purpose_group['mean'] * 100\n",
    "purpose_group = purpose_group.reset_index()\n",
    "purpose_group.columns = ['Цель кредита заещика', 'Количество заемщиков', 'Количество должников', 'Процент должников']\n",
    "purpose_group"
   ]
  },
  {
   "cell_type": "code",
   "execution_count": 26,
   "id": "1cac5799",
   "metadata": {},
   "outputs": [
    {
     "data": {
      "text/html": [
       "<div>\n",
       "<style scoped>\n",
       "    .dataframe tbody tr th:only-of-type {\n",
       "        vertical-align: middle;\n",
       "    }\n",
       "\n",
       "    .dataframe tbody tr th {\n",
       "        vertical-align: top;\n",
       "    }\n",
       "\n",
       "    .dataframe thead th {\n",
       "        text-align: right;\n",
       "    }\n",
       "</style>\n",
       "<table border=\"1\" class=\"dataframe\">\n",
       "  <thead>\n",
       "    <tr style=\"text-align: right;\">\n",
       "      <th></th>\n",
       "      <th>Цель кредита заещика</th>\n",
       "      <th>Количество заемщиков</th>\n",
       "      <th>Количество должников</th>\n",
       "      <th>Процент должников</th>\n",
       "    </tr>\n",
       "  </thead>\n",
       "  <tbody>\n",
       "    <tr>\n",
       "      <th>0</th>\n",
       "      <td>операции с автомобилем</td>\n",
       "      <td>4279</td>\n",
       "      <td>400</td>\n",
       "      <td>9.347978</td>\n",
       "    </tr>\n",
       "    <tr>\n",
       "      <th>1</th>\n",
       "      <td>операции с недвижимостью</td>\n",
       "      <td>10751</td>\n",
       "      <td>780</td>\n",
       "      <td>7.255139</td>\n",
       "    </tr>\n",
       "    <tr>\n",
       "      <th>2</th>\n",
       "      <td>получение образования</td>\n",
       "      <td>3988</td>\n",
       "      <td>369</td>\n",
       "      <td>9.252758</td>\n",
       "    </tr>\n",
       "    <tr>\n",
       "      <th>3</th>\n",
       "      <td>проведение свадьбы</td>\n",
       "      <td>2313</td>\n",
       "      <td>183</td>\n",
       "      <td>7.911803</td>\n",
       "    </tr>\n",
       "  </tbody>\n",
       "</table>\n",
       "</div>"
      ],
      "text/plain": [
       "       Цель кредита заещика  Количество заемщиков  Количество должников  \\\n",
       "0    операции с автомобилем                  4279                   400   \n",
       "1  операции с недвижимостью                 10751                   780   \n",
       "2     получение образования                  3988                   369   \n",
       "3        проведение свадьбы                  2313                   183   \n",
       "\n",
       "   Процент должников  \n",
       "0           9.347978  \n",
       "1           7.255139  \n",
       "2           9.252758  \n",
       "3           7.911803  "
      ]
     },
     "execution_count": 26,
     "metadata": {},
     "output_type": "execute_result"
    }
   ],
   "source": [
    "purpose_group = data.pivot_table(\n",
    "    index='purpose_category',         # Столбец, по которому группируем данные\n",
    "    values='debt',                    # Столбец, к которому применяем агрегирующие функции\n",
    "    aggfunc=['count', 'sum', 'mean']  # Агрегирующие функции\n",
    ")\n",
    "\n",
    "# Преобразуем среднее значение задолженности в проценты\n",
    "purpose_group['mean'] = purpose_group['mean'] * 100\n",
    "\n",
    "# Обрабатываем названия столбцов для удобства\n",
    "purpose_group.columns = purpose_group.columns.droplevel(0)\n",
    "purpose_group = purpose_group.reset_index()\n",
    "purpose_group.columns = ['Цель кредита заещика', 'Количество заемщиков', 'Количество должников', 'Процент должников']\n",
    "\n",
    "purpose_group"
   ]
  },
  {
   "cell_type": "markdown",
   "id": "42070f60",
   "metadata": {
    "deletable": false,
    "id": "b4bb2ce6"
   },
   "source": [
    "**Вывод:** \n",
    "Цели кредита не сильно влияют на его возврат в срок, так как отклонение в проценте должников не более 2%."
   ]
  },
  {
   "cell_type": "markdown",
   "id": "2ce54cfd",
   "metadata": {
    "deletable": false,
    "editable": false,
    "id": "09c3ac4c"
   },
   "source": [
    "#### 3.5 Приведите возможные причины появления пропусков в исходных данных."
   ]
  },
  {
   "cell_type": "markdown",
   "id": "9f9fa0ba",
   "metadata": {
    "deletable": false,
    "id": "9da2ceda"
   },
   "source": [
    "*Ответ*: В исходных данных в столбцах days_emloyed (общий трудовой стаж в днях) и total_income (ежемесячный доход) есть пропуск данных. Пропуск данных в данных столбцах может быть связан с тем, что в банк могут обращаться студенты, у которых нет ещё трудового стажа и соответсвенно ежемесечного дохода. Анализ пропусков с учетом параметра типа занятости показывает, что есть пропуски и у пенсионеров, и у госслужащих. У пенсионеров трудовой стаж может быть завершён, и поле days_employed может быть неактуальным или сложно вычисляемым.\n",
    "У госслужащих в некоторых случаях информация о доходах государственных служащих может быть засекречена или недоступна для раскрытия."
   ]
  },
  {
   "cell_type": "markdown",
   "id": "a6d50be4",
   "metadata": {
    "deletable": false,
    "editable": false,
    "id": "7b0487d6"
   },
   "source": [
    "#### 3.6 Объясните, почему заполнить пропуски медианным значением — лучшее решение для количественных переменных."
   ]
  },
  {
   "cell_type": "markdown",
   "id": "eacb8c8a",
   "metadata": {
    "deletable": false,
    "id": "7ecf2b8e"
   },
   "source": [
    "*Ответ:* Заполнять пропуски медианным значением верное решение, так как среднее значение может некорректно характеризовать данные, когда некоторые значения сильно выделяются среди большинства. "
   ]
  },
  {
   "cell_type": "markdown",
   "id": "94658630",
   "metadata": {
    "deletable": false,
    "editable": false,
    "id": "6db5255a"
   },
   "source": [
    "### Шаг 4: общий вывод."
   ]
  },
  {
   "cell_type": "markdown",
   "id": "8e2578ef",
   "metadata": {
    "deletable": false,
    "id": "bad65432"
   },
   "source": [
    "В результате проведенного анализа можно заключить, что факторы, такие как количество детей, семейное положение и цель кредита, не оказывают существенного влияния на своевременный возврат кредита. Различия в проценте должников между различными категориями этих факторов незначительны и не позволяют сделать однозначные выводы о наличии зависимости. Недостаточность данных по уровню дохода не позволяет достоверно оценить его влияние на возврат кредита. Пропуски в данных, вероятно, связаны с отсутствием информации о стаже и доходах у некоторых категорий клиентов, а также с возможными ошибками при сборе и обработке данных."
   ]
  }
 ],
 "metadata": {
  "ExecuteTimeLog": [
   {
    "duration": 502,
    "start_time": "2024-09-29T18:54:21.566Z"
   },
   {
    "duration": 22,
    "start_time": "2024-09-29T18:54:22.070Z"
   },
   {
    "duration": 17,
    "start_time": "2024-09-29T18:54:22.095Z"
   },
   {
    "duration": 55,
    "start_time": "2024-09-29T18:54:22.115Z"
   },
   {
    "duration": 38,
    "start_time": "2024-09-29T18:54:22.171Z"
   },
   {
    "duration": 4,
    "start_time": "2024-09-29T18:54:22.210Z"
   },
   {
    "duration": 8,
    "start_time": "2024-09-29T18:54:22.215Z"
   },
   {
    "duration": 4,
    "start_time": "2024-09-29T18:54:22.224Z"
   },
   {
    "duration": 9,
    "start_time": "2024-09-29T18:54:22.230Z"
   },
   {
    "duration": 4,
    "start_time": "2024-09-29T18:54:22.266Z"
   },
   {
    "duration": 36,
    "start_time": "2024-09-29T18:54:22.272Z"
   },
   {
    "duration": 10,
    "start_time": "2024-09-29T18:54:22.310Z"
   },
   {
    "duration": 10,
    "start_time": "2024-09-29T18:54:22.321Z"
   },
   {
    "duration": 35,
    "start_time": "2024-09-29T18:54:22.332Z"
   },
   {
    "duration": 24,
    "start_time": "2024-09-29T18:54:22.368Z"
   },
   {
    "duration": 21,
    "start_time": "2024-09-29T18:54:22.395Z"
   },
   {
    "duration": 3,
    "start_time": "2024-09-29T18:54:22.418Z"
   },
   {
    "duration": 11,
    "start_time": "2024-09-29T18:54:22.423Z"
   },
   {
    "duration": 30,
    "start_time": "2024-09-29T18:54:22.436Z"
   },
   {
    "duration": 4,
    "start_time": "2024-09-29T18:54:22.468Z"
   },
   {
    "duration": 9,
    "start_time": "2024-09-29T18:54:22.473Z"
   },
   {
    "duration": 16,
    "start_time": "2024-09-29T18:54:22.484Z"
   },
   {
    "duration": 3,
    "start_time": "2024-09-29T18:54:22.502Z"
   },
   {
    "duration": 3,
    "start_time": "2024-09-29T18:54:22.507Z"
   },
   {
    "duration": 3,
    "start_time": "2024-09-29T18:54:22.511Z"
   },
   {
    "duration": 15,
    "start_time": "2024-09-29T21:14:35.712Z"
   },
   {
    "duration": 25,
    "start_time": "2024-09-29T21:17:16.170Z"
   },
   {
    "duration": 66,
    "start_time": "2024-09-29T21:20:00.960Z"
   },
   {
    "duration": 7,
    "start_time": "2024-09-29T21:20:06.982Z"
   },
   {
    "duration": 12,
    "start_time": "2024-09-29T21:22:33.984Z"
   },
   {
    "duration": 10,
    "start_time": "2024-09-29T21:23:52.928Z"
   },
   {
    "duration": 47,
    "start_time": "2024-09-29T21:24:55.535Z"
   },
   {
    "duration": 6,
    "start_time": "2024-09-29T21:25:02.274Z"
   },
   {
    "duration": 8,
    "start_time": "2024-09-29T21:26:41.880Z"
   },
   {
    "duration": 20,
    "start_time": "2024-09-29T21:49:29.479Z"
   },
   {
    "duration": 51,
    "start_time": "2024-09-30T09:54:25.838Z"
   },
   {
    "duration": 6,
    "start_time": "2024-09-30T09:54:42.693Z"
   },
   {
    "duration": 584,
    "start_time": "2024-09-30T09:54:51.972Z"
   },
   {
    "duration": 36,
    "start_time": "2024-09-30T09:54:52.558Z"
   },
   {
    "duration": 17,
    "start_time": "2024-09-30T09:54:52.596Z"
   },
   {
    "duration": 11,
    "start_time": "2024-09-30T09:54:52.615Z"
   },
   {
    "duration": 62,
    "start_time": "2024-09-30T09:54:52.628Z"
   },
   {
    "duration": 3,
    "start_time": "2024-09-30T09:54:52.692Z"
   },
   {
    "duration": 12,
    "start_time": "2024-09-30T09:54:52.696Z"
   },
   {
    "duration": 4,
    "start_time": "2024-09-30T09:54:52.710Z"
   },
   {
    "duration": 8,
    "start_time": "2024-09-30T09:54:52.715Z"
   },
   {
    "duration": 5,
    "start_time": "2024-09-30T09:54:52.725Z"
   },
   {
    "duration": 74,
    "start_time": "2024-09-30T09:54:52.732Z"
   },
   {
    "duration": 13,
    "start_time": "2024-09-30T09:54:52.807Z"
   },
   {
    "duration": 7,
    "start_time": "2024-09-30T09:54:52.822Z"
   },
   {
    "duration": 13,
    "start_time": "2024-09-30T09:54:52.831Z"
   },
   {
    "duration": 24,
    "start_time": "2024-09-30T09:54:52.867Z"
   },
   {
    "duration": 18,
    "start_time": "2024-09-30T09:54:52.893Z"
   },
   {
    "duration": 4,
    "start_time": "2024-09-30T09:54:52.912Z"
   },
   {
    "duration": 12,
    "start_time": "2024-09-30T09:54:52.918Z"
   },
   {
    "duration": 37,
    "start_time": "2024-09-30T09:54:52.932Z"
   },
   {
    "duration": 18,
    "start_time": "2024-09-30T09:54:52.972Z"
   },
   {
    "duration": 22,
    "start_time": "2024-09-30T09:54:52.991Z"
   },
   {
    "duration": 95,
    "start_time": "2024-09-30T09:54:53.015Z"
   },
   {
    "duration": 10,
    "start_time": "2024-09-30T09:55:10.610Z"
   },
   {
    "duration": 29,
    "start_time": "2024-09-30T09:55:16.675Z"
   },
   {
    "duration": 30,
    "start_time": "2024-09-30T09:57:21.028Z"
   },
   {
    "duration": 4,
    "start_time": "2024-09-30T09:59:35.006Z"
   },
   {
    "duration": 3,
    "start_time": "2024-09-30T09:59:58.421Z"
   },
   {
    "duration": 4,
    "start_time": "2024-09-30T10:00:06.199Z"
   },
   {
    "duration": 6,
    "start_time": "2024-09-30T10:00:49.143Z"
   },
   {
    "duration": 10,
    "start_time": "2024-09-30T10:05:40.234Z"
   },
   {
    "duration": 11,
    "start_time": "2024-09-30T10:06:19.853Z"
   },
   {
    "duration": 10,
    "start_time": "2024-09-30T10:06:25.189Z"
   },
   {
    "duration": 12,
    "start_time": "2024-09-30T10:06:50.002Z"
   },
   {
    "duration": 27,
    "start_time": "2024-09-30T10:07:02.469Z"
   },
   {
    "duration": 7,
    "start_time": "2024-09-30T10:12:45.998Z"
   },
   {
    "duration": 12,
    "start_time": "2024-09-30T10:12:53.242Z"
   },
   {
    "duration": 16,
    "start_time": "2024-09-30T10:13:47.544Z"
   },
   {
    "duration": 11,
    "start_time": "2024-09-30T10:14:40.688Z"
   },
   {
    "duration": 13,
    "start_time": "2024-09-30T10:17:52.061Z"
   },
   {
    "duration": 13,
    "start_time": "2024-09-30T10:17:59.673Z"
   },
   {
    "duration": 21,
    "start_time": "2024-09-30T10:24:48.179Z"
   },
   {
    "duration": 15,
    "start_time": "2024-09-30T10:25:41.580Z"
   },
   {
    "duration": 12,
    "start_time": "2024-09-30T10:29:55.037Z"
   },
   {
    "duration": 22,
    "start_time": "2024-09-30T10:30:00.727Z"
   },
   {
    "duration": 13,
    "start_time": "2024-09-30T10:30:12.150Z"
   },
   {
    "duration": 12,
    "start_time": "2024-09-30T10:30:46.304Z"
   },
   {
    "duration": 12,
    "start_time": "2024-09-30T10:32:56.025Z"
   },
   {
    "duration": 11,
    "start_time": "2024-09-30T10:33:15.968Z"
   },
   {
    "duration": 12,
    "start_time": "2024-09-30T10:40:28.594Z"
   },
   {
    "duration": 14,
    "start_time": "2024-09-30T10:42:39.880Z"
   },
   {
    "duration": 17,
    "start_time": "2024-09-30T10:42:43.993Z"
   },
   {
    "duration": 14,
    "start_time": "2024-09-30T10:42:49.387Z"
   },
   {
    "duration": 14,
    "start_time": "2024-09-30T10:42:53.657Z"
   },
   {
    "duration": 13,
    "start_time": "2024-09-30T10:44:59.874Z"
   },
   {
    "duration": 13,
    "start_time": "2024-09-30T10:45:06.646Z"
   },
   {
    "duration": 14,
    "start_time": "2024-09-30T10:45:22.091Z"
   },
   {
    "duration": 14,
    "start_time": "2024-09-30T10:47:08.017Z"
   },
   {
    "duration": 12,
    "start_time": "2024-09-30T10:47:49.099Z"
   },
   {
    "duration": 14,
    "start_time": "2024-09-30T10:48:03.753Z"
   },
   {
    "duration": 18,
    "start_time": "2024-09-30T10:48:11.662Z"
   },
   {
    "duration": 10,
    "start_time": "2024-09-30T10:48:19.070Z"
   },
   {
    "duration": 8,
    "start_time": "2024-09-30T10:48:23.735Z"
   },
   {
    "duration": 12,
    "start_time": "2024-09-30T10:48:26.674Z"
   },
   {
    "duration": 13,
    "start_time": "2024-09-30T10:48:33.820Z"
   },
   {
    "duration": 15,
    "start_time": "2024-09-30T10:49:26.495Z"
   },
   {
    "duration": 14,
    "start_time": "2024-09-30T10:50:06.710Z"
   },
   {
    "duration": 15,
    "start_time": "2024-09-30T10:50:17.179Z"
   },
   {
    "duration": 14,
    "start_time": "2024-09-30T10:53:19.116Z"
   },
   {
    "duration": 14,
    "start_time": "2024-09-30T10:54:02.322Z"
   },
   {
    "duration": 16,
    "start_time": "2024-09-30T10:55:05.619Z"
   },
   {
    "duration": 17,
    "start_time": "2024-09-30T11:04:23.411Z"
   },
   {
    "duration": 5,
    "start_time": "2024-09-30T11:04:56.329Z"
   },
   {
    "duration": 4,
    "start_time": "2024-09-30T12:28:34.363Z"
   },
   {
    "duration": 16,
    "start_time": "2024-09-30T12:28:44.920Z"
   },
   {
    "duration": 17,
    "start_time": "2024-09-30T12:29:50.674Z"
   },
   {
    "duration": 12,
    "start_time": "2024-09-30T12:29:55.986Z"
   },
   {
    "duration": 13,
    "start_time": "2024-09-30T12:30:18.153Z"
   },
   {
    "duration": 8,
    "start_time": "2024-09-30T12:30:26.877Z"
   },
   {
    "duration": 14,
    "start_time": "2024-09-30T12:30:31.760Z"
   },
   {
    "duration": 15,
    "start_time": "2024-09-30T12:30:35.107Z"
   },
   {
    "duration": 14,
    "start_time": "2024-09-30T12:31:42.233Z"
   },
   {
    "duration": 14,
    "start_time": "2024-09-30T12:32:06.510Z"
   },
   {
    "duration": 15,
    "start_time": "2024-09-30T12:32:15.916Z"
   },
   {
    "duration": 15,
    "start_time": "2024-09-30T12:33:48.379Z"
   },
   {
    "duration": 7,
    "start_time": "2024-09-30T12:35:32.327Z"
   },
   {
    "duration": 508,
    "start_time": "2024-09-30T12:35:54.634Z"
   },
   {
    "duration": 24,
    "start_time": "2024-09-30T12:35:55.144Z"
   },
   {
    "duration": 18,
    "start_time": "2024-09-30T12:35:55.170Z"
   },
   {
    "duration": 10,
    "start_time": "2024-09-30T12:35:55.190Z"
   },
   {
    "duration": 62,
    "start_time": "2024-09-30T12:35:55.202Z"
   },
   {
    "duration": 4,
    "start_time": "2024-09-30T12:35:55.266Z"
   },
   {
    "duration": 18,
    "start_time": "2024-09-30T12:35:55.271Z"
   },
   {
    "duration": 5,
    "start_time": "2024-09-30T12:35:55.290Z"
   },
   {
    "duration": 10,
    "start_time": "2024-09-30T12:35:55.297Z"
   },
   {
    "duration": 7,
    "start_time": "2024-09-30T12:35:55.308Z"
   },
   {
    "duration": 70,
    "start_time": "2024-09-30T12:35:55.317Z"
   },
   {
    "duration": 17,
    "start_time": "2024-09-30T12:35:55.389Z"
   },
   {
    "duration": 25,
    "start_time": "2024-09-30T12:35:55.407Z"
   },
   {
    "duration": 29,
    "start_time": "2024-09-30T12:35:55.435Z"
   },
   {
    "duration": 28,
    "start_time": "2024-09-30T12:35:55.466Z"
   },
   {
    "duration": 17,
    "start_time": "2024-09-30T12:35:55.496Z"
   },
   {
    "duration": 3,
    "start_time": "2024-09-30T12:35:55.515Z"
   },
   {
    "duration": 26,
    "start_time": "2024-09-30T12:35:55.520Z"
   },
   {
    "duration": 6,
    "start_time": "2024-09-30T12:35:55.548Z"
   },
   {
    "duration": 24,
    "start_time": "2024-09-30T12:35:55.555Z"
   },
   {
    "duration": 28,
    "start_time": "2024-09-30T12:35:55.581Z"
   },
   {
    "duration": 16,
    "start_time": "2024-09-30T12:35:55.611Z"
   },
   {
    "duration": 15,
    "start_time": "2024-09-30T12:35:55.629Z"
   },
   {
    "duration": 69,
    "start_time": "2024-09-30T12:35:55.645Z"
   },
   {
    "duration": 8,
    "start_time": "2024-09-30T12:36:13.592Z"
   },
   {
    "duration": 12,
    "start_time": "2024-09-30T12:36:20.492Z"
   },
   {
    "duration": 9,
    "start_time": "2024-09-30T12:38:04.657Z"
   },
   {
    "duration": 12,
    "start_time": "2024-09-30T12:39:19.097Z"
   },
   {
    "duration": 9,
    "start_time": "2024-09-30T12:39:23.222Z"
   },
   {
    "duration": 15,
    "start_time": "2024-09-30T12:39:33.251Z"
   },
   {
    "duration": 14,
    "start_time": "2024-09-30T12:41:19.283Z"
   },
   {
    "duration": 25,
    "start_time": "2024-09-30T12:41:28.152Z"
   },
   {
    "duration": 37,
    "start_time": "2024-09-30T12:41:55.784Z"
   },
   {
    "duration": 10,
    "start_time": "2024-09-30T12:42:14.737Z"
   },
   {
    "duration": 16,
    "start_time": "2024-09-30T12:42:20.317Z"
   },
   {
    "duration": 14,
    "start_time": "2024-09-30T12:43:49.541Z"
   },
   {
    "duration": 599,
    "start_time": "2024-09-30T21:30:54.300Z"
   },
   {
    "duration": 29,
    "start_time": "2024-09-30T21:30:54.901Z"
   },
   {
    "duration": 18,
    "start_time": "2024-09-30T21:30:54.932Z"
   },
   {
    "duration": 12,
    "start_time": "2024-09-30T21:30:54.953Z"
   },
   {
    "duration": 78,
    "start_time": "2024-09-30T21:30:54.967Z"
   },
   {
    "duration": 5,
    "start_time": "2024-09-30T21:30:55.047Z"
   },
   {
    "duration": 16,
    "start_time": "2024-09-30T21:30:55.054Z"
   },
   {
    "duration": 5,
    "start_time": "2024-09-30T21:30:55.072Z"
   },
   {
    "duration": 28,
    "start_time": "2024-09-30T21:30:55.078Z"
   },
   {
    "duration": 8,
    "start_time": "2024-09-30T21:30:55.110Z"
   },
   {
    "duration": 50,
    "start_time": "2024-09-30T21:30:55.120Z"
   },
   {
    "duration": 11,
    "start_time": "2024-09-30T21:30:55.172Z"
   },
   {
    "duration": 24,
    "start_time": "2024-09-30T21:30:55.184Z"
   },
   {
    "duration": 20,
    "start_time": "2024-09-30T21:30:55.210Z"
   },
   {
    "duration": 21,
    "start_time": "2024-09-30T21:30:55.232Z"
   },
   {
    "duration": 19,
    "start_time": "2024-09-30T21:30:55.254Z"
   },
   {
    "duration": 34,
    "start_time": "2024-09-30T21:30:55.274Z"
   },
   {
    "duration": 14,
    "start_time": "2024-09-30T21:30:55.310Z"
   },
   {
    "duration": 8,
    "start_time": "2024-09-30T21:30:55.325Z"
   },
   {
    "duration": 5,
    "start_time": "2024-09-30T21:30:55.335Z"
   },
   {
    "duration": 13,
    "start_time": "2024-09-30T21:30:55.341Z"
   },
   {
    "duration": 13,
    "start_time": "2024-09-30T21:30:55.356Z"
   },
   {
    "duration": 16,
    "start_time": "2024-09-30T21:30:55.406Z"
   },
   {
    "duration": 13,
    "start_time": "2024-09-30T21:30:55.424Z"
   },
   {
    "duration": 14,
    "start_time": "2024-09-30T21:30:55.439Z"
   },
   {
    "duration": 630,
    "start_time": "2024-10-01T03:36:09.391Z"
   },
   {
    "duration": 25,
    "start_time": "2024-10-01T03:36:10.023Z"
   },
   {
    "duration": 18,
    "start_time": "2024-10-01T03:36:10.049Z"
   },
   {
    "duration": 10,
    "start_time": "2024-10-01T03:36:10.069Z"
   },
   {
    "duration": 53,
    "start_time": "2024-10-01T03:36:10.081Z"
   },
   {
    "duration": 4,
    "start_time": "2024-10-01T03:36:10.135Z"
   },
   {
    "duration": 16,
    "start_time": "2024-10-01T03:36:10.140Z"
   },
   {
    "duration": 4,
    "start_time": "2024-10-01T03:36:10.158Z"
   },
   {
    "duration": 9,
    "start_time": "2024-10-01T03:36:10.164Z"
   },
   {
    "duration": 5,
    "start_time": "2024-10-01T03:36:10.176Z"
   },
   {
    "duration": 39,
    "start_time": "2024-10-01T03:36:10.206Z"
   },
   {
    "duration": 64,
    "start_time": "2024-10-01T03:36:10.247Z"
   },
   {
    "duration": 4,
    "start_time": "2024-10-01T03:36:10.312Z"
   },
   {
    "duration": 17,
    "start_time": "2024-10-01T03:36:10.317Z"
   },
   {
    "duration": 21,
    "start_time": "2024-10-01T03:36:10.336Z"
   },
   {
    "duration": 19,
    "start_time": "2024-10-01T03:36:10.359Z"
   },
   {
    "duration": 25,
    "start_time": "2024-10-01T03:36:10.380Z"
   },
   {
    "duration": 17,
    "start_time": "2024-10-01T03:36:10.407Z"
   },
   {
    "duration": 9,
    "start_time": "2024-10-01T03:36:10.426Z"
   },
   {
    "duration": 3,
    "start_time": "2024-10-01T03:36:10.437Z"
   },
   {
    "duration": 11,
    "start_time": "2024-10-01T03:36:10.442Z"
   },
   {
    "duration": 21,
    "start_time": "2024-10-01T03:36:10.455Z"
   },
   {
    "duration": 42,
    "start_time": "2024-10-01T03:36:10.478Z"
   },
   {
    "duration": 16,
    "start_time": "2024-10-01T03:36:10.522Z"
   },
   {
    "duration": 16,
    "start_time": "2024-10-01T03:36:10.540Z"
   },
   {
    "duration": 80,
    "start_time": "2024-10-01T03:39:07.520Z"
   },
   {
    "duration": 15,
    "start_time": "2024-10-01T03:39:07.925Z"
   },
   {
    "duration": 16,
    "start_time": "2024-10-01T03:39:08.554Z"
   },
   {
    "duration": 12,
    "start_time": "2024-10-01T03:39:10.044Z"
   },
   {
    "duration": 7,
    "start_time": "2024-10-01T03:39:38.861Z"
   },
   {
    "duration": 20,
    "start_time": "2024-10-01T03:39:44.098Z"
   },
   {
    "duration": 61,
    "start_time": "2024-10-01T08:56:11.950Z"
   },
   {
    "duration": 559,
    "start_time": "2024-10-01T08:56:22.491Z"
   },
   {
    "duration": 25,
    "start_time": "2024-10-01T08:56:23.053Z"
   },
   {
    "duration": 19,
    "start_time": "2024-10-01T08:56:23.080Z"
   },
   {
    "duration": 13,
    "start_time": "2024-10-01T08:56:23.102Z"
   },
   {
    "duration": 70,
    "start_time": "2024-10-01T08:56:23.117Z"
   },
   {
    "duration": 12,
    "start_time": "2024-10-01T08:56:23.189Z"
   },
   {
    "duration": 13,
    "start_time": "2024-10-01T08:56:23.203Z"
   },
   {
    "duration": 34,
    "start_time": "2024-10-01T08:56:23.219Z"
   },
   {
    "duration": 9,
    "start_time": "2024-10-01T08:56:23.255Z"
   },
   {
    "duration": 5,
    "start_time": "2024-10-01T08:56:23.268Z"
   },
   {
    "duration": 71,
    "start_time": "2024-10-01T08:56:23.275Z"
   },
   {
    "duration": 13,
    "start_time": "2024-10-01T08:56:23.348Z"
   },
   {
    "duration": 4,
    "start_time": "2024-10-01T08:56:23.364Z"
   },
   {
    "duration": 17,
    "start_time": "2024-10-01T08:56:23.370Z"
   },
   {
    "duration": 25,
    "start_time": "2024-10-01T08:56:23.388Z"
   },
   {
    "duration": 73,
    "start_time": "2024-10-01T08:56:23.415Z"
   },
   {
    "duration": 4,
    "start_time": "2024-10-01T08:56:23.489Z"
   },
   {
    "duration": 22,
    "start_time": "2024-10-01T08:56:23.495Z"
   },
   {
    "duration": 6,
    "start_time": "2024-10-01T08:56:23.519Z"
   },
   {
    "duration": 6,
    "start_time": "2024-10-01T08:56:23.526Z"
   },
   {
    "duration": 14,
    "start_time": "2024-10-01T08:56:23.534Z"
   },
   {
    "duration": 18,
    "start_time": "2024-10-01T08:56:23.550Z"
   },
   {
    "duration": 14,
    "start_time": "2024-10-01T08:56:23.570Z"
   },
   {
    "duration": 21,
    "start_time": "2024-10-01T08:56:23.586Z"
   },
   {
    "duration": 15,
    "start_time": "2024-10-01T08:56:23.609Z"
   },
   {
    "duration": 1582,
    "start_time": "2024-10-01T08:56:23.626Z"
   },
   {
    "duration": 329,
    "start_time": "2024-10-01T08:56:45.251Z"
   },
   {
    "duration": 37,
    "start_time": "2024-10-01T08:57:00.336Z"
   },
   {
    "duration": 40,
    "start_time": "2024-10-01T09:03:36.108Z"
   },
   {
    "duration": 38,
    "start_time": "2024-10-01T09:03:42.154Z"
   },
   {
    "duration": 37,
    "start_time": "2024-10-01T09:03:53.462Z"
   },
   {
    "duration": 39,
    "start_time": "2024-10-01T09:05:08.670Z"
   },
   {
    "duration": 37,
    "start_time": "2024-10-01T09:05:14.265Z"
   },
   {
    "duration": 38,
    "start_time": "2024-10-01T09:05:35.100Z"
   },
   {
    "duration": 36,
    "start_time": "2024-10-01T09:05:40.426Z"
   },
   {
    "duration": 37,
    "start_time": "2024-10-01T09:05:48.023Z"
   },
   {
    "duration": 38,
    "start_time": "2024-10-01T09:07:57.932Z"
   },
   {
    "duration": 23,
    "start_time": "2024-10-01T09:15:07.761Z"
   },
   {
    "duration": 25,
    "start_time": "2024-10-01T09:15:21.832Z"
   },
   {
    "duration": 18,
    "start_time": "2024-10-01T09:15:47.782Z"
   },
   {
    "duration": 465,
    "start_time": "2025-10-26T04:24:53.321Z"
   },
   {
    "duration": 21,
    "start_time": "2025-10-26T04:24:53.787Z"
   },
   {
    "duration": 15,
    "start_time": "2025-10-26T04:24:53.810Z"
   },
   {
    "duration": 10,
    "start_time": "2025-10-26T04:24:53.827Z"
   },
   {
    "duration": 34,
    "start_time": "2025-10-26T04:24:53.838Z"
   },
   {
    "duration": 3,
    "start_time": "2025-10-26T04:24:53.873Z"
   },
   {
    "duration": 33,
    "start_time": "2025-10-26T04:24:53.878Z"
   },
   {
    "duration": 81,
    "start_time": "2025-10-26T04:24:53.913Z"
   },
   {
    "duration": 8,
    "start_time": "2025-10-26T04:24:53.996Z"
   },
   {
    "duration": 5,
    "start_time": "2025-10-26T04:24:54.006Z"
   },
   {
    "duration": 34,
    "start_time": "2025-10-26T04:24:54.012Z"
   },
   {
    "duration": 9,
    "start_time": "2025-10-26T04:24:54.048Z"
   },
   {
    "duration": 3,
    "start_time": "2025-10-26T04:24:54.059Z"
   },
   {
    "duration": 11,
    "start_time": "2025-10-26T04:24:54.064Z"
   },
   {
    "duration": 45,
    "start_time": "2025-10-26T04:24:54.077Z"
   },
   {
    "duration": 16,
    "start_time": "2025-10-26T04:24:54.123Z"
   },
   {
    "duration": 3,
    "start_time": "2025-10-26T04:24:54.140Z"
   },
   {
    "duration": 12,
    "start_time": "2025-10-26T04:24:54.145Z"
   },
   {
    "duration": 6,
    "start_time": "2025-10-26T04:24:54.158Z"
   },
   {
    "duration": 3,
    "start_time": "2025-10-26T04:24:54.165Z"
   },
   {
    "duration": 39,
    "start_time": "2025-10-26T04:24:54.170Z"
   },
   {
    "duration": 13,
    "start_time": "2025-10-26T04:24:54.211Z"
   },
   {
    "duration": 14,
    "start_time": "2025-10-26T04:24:54.226Z"
   },
   {
    "duration": 15,
    "start_time": "2025-10-26T04:24:54.241Z"
   },
   {
    "duration": 16,
    "start_time": "2025-10-26T04:24:54.257Z"
   },
   {
    "duration": 65,
    "start_time": "2025-10-26T04:24:54.274Z"
   }
  ],
  "colab": {
   "name": "dpp_template_part2.ipynb",
   "provenance": []
  },
  "kernelspec": {
   "display_name": "Python 3 (ipykernel)",
   "language": "python",
   "name": "python3"
  },
  "language_info": {
   "codemirror_mode": {
    "name": "ipython",
    "version": 3
   },
   "file_extension": ".py",
   "mimetype": "text/x-python",
   "name": "python",
   "nbconvert_exporter": "python",
   "pygments_lexer": "ipython3",
   "version": "3.9.5"
  },
  "toc": {
   "base_numbering": 1,
   "nav_menu": {},
   "number_sections": true,
   "sideBar": true,
   "skip_h1_title": true,
   "title_cell": "Table of Contents",
   "title_sidebar": "Contents",
   "toc_cell": false,
   "toc_position": {},
   "toc_section_display": true,
   "toc_window_display": false
  }
 },
 "nbformat": 4,
 "nbformat_minor": 5
}
